{
  "cells": [
    {
      "cell_type": "code",
      "execution_count": null,
      "metadata": {
        "id": "mOI4y1soHB4Z"
      },
      "outputs": [],
      "source": [
        "from google.colab import files"
      ]
    },
    {
      "cell_type": "code",
      "execution_count": null,
      "metadata": {
        "colab": {
          "base_uri": "https://localhost:8080/",
          "height": 38
        },
        "id": "YSdcV8VpHZCa",
        "outputId": "b77894d1-e6d0-4ea3-fd9c-8654c7291097"
      },
      "outputs": [
        {
          "output_type": "display_data",
          "data": {
            "text/plain": [
              "<IPython.core.display.HTML object>"
            ],
            "text/html": [
              "\n",
              "     <input type=\"file\" id=\"files-07b4cc91-6939-4d61-a092-4a6e07a7920c\" name=\"files[]\" multiple disabled\n",
              "        style=\"border:none\" />\n",
              "     <output id=\"result-07b4cc91-6939-4d61-a092-4a6e07a7920c\">\n",
              "      Upload widget is only available when the cell has been executed in the\n",
              "      current browser session. Please rerun this cell to enable.\n",
              "      </output>\n",
              "      <script>// Copyright 2017 Google LLC\n",
              "//\n",
              "// Licensed under the Apache License, Version 2.0 (the \"License\");\n",
              "// you may not use this file except in compliance with the License.\n",
              "// You may obtain a copy of the License at\n",
              "//\n",
              "//      http://www.apache.org/licenses/LICENSE-2.0\n",
              "//\n",
              "// Unless required by applicable law or agreed to in writing, software\n",
              "// distributed under the License is distributed on an \"AS IS\" BASIS,\n",
              "// WITHOUT WARRANTIES OR CONDITIONS OF ANY KIND, either express or implied.\n",
              "// See the License for the specific language governing permissions and\n",
              "// limitations under the License.\n",
              "\n",
              "/**\n",
              " * @fileoverview Helpers for google.colab Python module.\n",
              " */\n",
              "(function(scope) {\n",
              "function span(text, styleAttributes = {}) {\n",
              "  const element = document.createElement('span');\n",
              "  element.textContent = text;\n",
              "  for (const key of Object.keys(styleAttributes)) {\n",
              "    element.style[key] = styleAttributes[key];\n",
              "  }\n",
              "  return element;\n",
              "}\n",
              "\n",
              "// Max number of bytes which will be uploaded at a time.\n",
              "const MAX_PAYLOAD_SIZE = 100 * 1024;\n",
              "\n",
              "function _uploadFiles(inputId, outputId) {\n",
              "  const steps = uploadFilesStep(inputId, outputId);\n",
              "  const outputElement = document.getElementById(outputId);\n",
              "  // Cache steps on the outputElement to make it available for the next call\n",
              "  // to uploadFilesContinue from Python.\n",
              "  outputElement.steps = steps;\n",
              "\n",
              "  return _uploadFilesContinue(outputId);\n",
              "}\n",
              "\n",
              "// This is roughly an async generator (not supported in the browser yet),\n",
              "// where there are multiple asynchronous steps and the Python side is going\n",
              "// to poll for completion of each step.\n",
              "// This uses a Promise to block the python side on completion of each step,\n",
              "// then passes the result of the previous step as the input to the next step.\n",
              "function _uploadFilesContinue(outputId) {\n",
              "  const outputElement = document.getElementById(outputId);\n",
              "  const steps = outputElement.steps;\n",
              "\n",
              "  const next = steps.next(outputElement.lastPromiseValue);\n",
              "  return Promise.resolve(next.value.promise).then((value) => {\n",
              "    // Cache the last promise value to make it available to the next\n",
              "    // step of the generator.\n",
              "    outputElement.lastPromiseValue = value;\n",
              "    return next.value.response;\n",
              "  });\n",
              "}\n",
              "\n",
              "/**\n",
              " * Generator function which is called between each async step of the upload\n",
              " * process.\n",
              " * @param {string} inputId Element ID of the input file picker element.\n",
              " * @param {string} outputId Element ID of the output display.\n",
              " * @return {!Iterable<!Object>} Iterable of next steps.\n",
              " */\n",
              "function* uploadFilesStep(inputId, outputId) {\n",
              "  const inputElement = document.getElementById(inputId);\n",
              "  inputElement.disabled = false;\n",
              "\n",
              "  const outputElement = document.getElementById(outputId);\n",
              "  outputElement.innerHTML = '';\n",
              "\n",
              "  const pickedPromise = new Promise((resolve) => {\n",
              "    inputElement.addEventListener('change', (e) => {\n",
              "      resolve(e.target.files);\n",
              "    });\n",
              "  });\n",
              "\n",
              "  const cancel = document.createElement('button');\n",
              "  inputElement.parentElement.appendChild(cancel);\n",
              "  cancel.textContent = 'Cancel upload';\n",
              "  const cancelPromise = new Promise((resolve) => {\n",
              "    cancel.onclick = () => {\n",
              "      resolve(null);\n",
              "    };\n",
              "  });\n",
              "\n",
              "  // Wait for the user to pick the files.\n",
              "  const files = yield {\n",
              "    promise: Promise.race([pickedPromise, cancelPromise]),\n",
              "    response: {\n",
              "      action: 'starting',\n",
              "    }\n",
              "  };\n",
              "\n",
              "  cancel.remove();\n",
              "\n",
              "  // Disable the input element since further picks are not allowed.\n",
              "  inputElement.disabled = true;\n",
              "\n",
              "  if (!files) {\n",
              "    return {\n",
              "      response: {\n",
              "        action: 'complete',\n",
              "      }\n",
              "    };\n",
              "  }\n",
              "\n",
              "  for (const file of files) {\n",
              "    const li = document.createElement('li');\n",
              "    li.append(span(file.name, {fontWeight: 'bold'}));\n",
              "    li.append(span(\n",
              "        `(${file.type || 'n/a'}) - ${file.size} bytes, ` +\n",
              "        `last modified: ${\n",
              "            file.lastModifiedDate ? file.lastModifiedDate.toLocaleDateString() :\n",
              "                                    'n/a'} - `));\n",
              "    const percent = span('0% done');\n",
              "    li.appendChild(percent);\n",
              "\n",
              "    outputElement.appendChild(li);\n",
              "\n",
              "    const fileDataPromise = new Promise((resolve) => {\n",
              "      const reader = new FileReader();\n",
              "      reader.onload = (e) => {\n",
              "        resolve(e.target.result);\n",
              "      };\n",
              "      reader.readAsArrayBuffer(file);\n",
              "    });\n",
              "    // Wait for the data to be ready.\n",
              "    let fileData = yield {\n",
              "      promise: fileDataPromise,\n",
              "      response: {\n",
              "        action: 'continue',\n",
              "      }\n",
              "    };\n",
              "\n",
              "    // Use a chunked sending to avoid message size limits. See b/62115660.\n",
              "    let position = 0;\n",
              "    do {\n",
              "      const length = Math.min(fileData.byteLength - position, MAX_PAYLOAD_SIZE);\n",
              "      const chunk = new Uint8Array(fileData, position, length);\n",
              "      position += length;\n",
              "\n",
              "      const base64 = btoa(String.fromCharCode.apply(null, chunk));\n",
              "      yield {\n",
              "        response: {\n",
              "          action: 'append',\n",
              "          file: file.name,\n",
              "          data: base64,\n",
              "        },\n",
              "      };\n",
              "\n",
              "      let percentDone = fileData.byteLength === 0 ?\n",
              "          100 :\n",
              "          Math.round((position / fileData.byteLength) * 100);\n",
              "      percent.textContent = `${percentDone}% done`;\n",
              "\n",
              "    } while (position < fileData.byteLength);\n",
              "  }\n",
              "\n",
              "  // All done.\n",
              "  yield {\n",
              "    response: {\n",
              "      action: 'complete',\n",
              "    }\n",
              "  };\n",
              "}\n",
              "\n",
              "scope.google = scope.google || {};\n",
              "scope.google.colab = scope.google.colab || {};\n",
              "scope.google.colab._files = {\n",
              "  _uploadFiles,\n",
              "  _uploadFilesContinue,\n",
              "};\n",
              "})(self);\n",
              "</script> "
            ]
          },
          "metadata": {}
        }
      ],
      "source": [
        "uploaded = files.upload()"
      ]
    },
    {
      "cell_type": "code",
      "execution_count": null,
      "metadata": {
        "id": "LgCMe68cIE-_"
      },
      "outputs": [],
      "source": [
        "import numpy as np\n",
        "import tensorflow as tf\n",
        "\n",
        "from moviepy.editor import VideoFileClip\n",
        "from skimage.transform import resize\n",
        "import cv2\n",
        "from  tensorflow import keras\n",
        "model = tf.keras.models.load_model('model.h5')"
      ]
    },
    {
      "cell_type": "code",
      "execution_count": 1,
      "metadata": {
        "id": "ivMJZGXSKp-H"
      },
      "outputs": [],
      "source": [
        "class Lanes():\n",
        "    def __init__(self):\n",
        "        self.recent_fit = []\n",
        "        self.avg_fit = []\n",
        "\n",
        "def road_lines(image):\n",
        "    small_img = resize(image, (80, 160, 3))\n",
        "    small_img = np.array(small_img)\n",
        "    small_img = small_img[None, :, :, :]\n",
        "    prediction = model.predict(small_img)[0] * 255\n",
        "\n",
        "    lanes.recent_fit.append(prediction)\n",
        "\n",
        "    if len(lanes.recent_fit) > 5:\n",
        "        lanes.recent_fit = lanes.recent_fit[1:]\n",
        "\n",
        "    lanes.avg_fit = np.mean(np.array([i for i in lanes.recent_fit]), axis=0)\n",
        "\n",
        "    blanks = np.zeros_like(lanes.avg_fit).astype(np.uint8)\n",
        "    lane_drawn = np.dstack((blanks, lanes.avg_fit, blanks))\n",
        "\n",
        "    # Resize lane_image to match the shape of the original image\n",
        "    lane_image = resize(lane_drawn, (image.shape[0], image.shape[1], 3))\n",
        "\n",
        "    # Check values and shapes\n",
        "    # print(\"Prediction shape:\", prediction.shape)\n",
        "    # print(\"Avg fit shape:\", lanes.avg_fit.shape)\n",
        "    print(\"Lane shape:\", blanks.shape)\n",
        "    print(\"Lane drawn shape:\", lane_drawn.shape)\n",
        "    # print(\"Lane image shape:\", lane_image.shape)\n",
        "\n",
        "    # Resize lane_image if needed\n",
        "    lane_image = cv2.resize(lane_image, (image.shape[1], image.shape[0]))\n",
        "\n",
        "    # Overlay lane_image onto the original image\n",
        "    result = cv2.addWeighted(image, 1, lane_image, 1, 0, dtype=cv2.CV_8U)\n",
        "\n",
        "    return result\n"
      ]
    },
    {
      "cell_type": "code",
      "execution_count": null,
      "metadata": {
        "id": "WWcv9qpVLo9I",
        "colab": {
          "base_uri": "https://localhost:8080/",
          "height": 73
        },
        "outputId": "ae3fc6cc-89ea-4258-e660-d90925d7026f"
      },
      "outputs": [
        {
          "output_type": "display_data",
          "data": {
            "text/plain": [
              "<IPython.core.display.HTML object>"
            ],
            "text/html": [
              "\n",
              "     <input type=\"file\" id=\"files-34f54da3-fa0f-4574-aa4a-22f25cbd08bc\" name=\"files[]\" multiple disabled\n",
              "        style=\"border:none\" />\n",
              "     <output id=\"result-34f54da3-fa0f-4574-aa4a-22f25cbd08bc\">\n",
              "      Upload widget is only available when the cell has been executed in the\n",
              "      current browser session. Please rerun this cell to enable.\n",
              "      </output>\n",
              "      <script>// Copyright 2017 Google LLC\n",
              "//\n",
              "// Licensed under the Apache License, Version 2.0 (the \"License\");\n",
              "// you may not use this file except in compliance with the License.\n",
              "// You may obtain a copy of the License at\n",
              "//\n",
              "//      http://www.apache.org/licenses/LICENSE-2.0\n",
              "//\n",
              "// Unless required by applicable law or agreed to in writing, software\n",
              "// distributed under the License is distributed on an \"AS IS\" BASIS,\n",
              "// WITHOUT WARRANTIES OR CONDITIONS OF ANY KIND, either express or implied.\n",
              "// See the License for the specific language governing permissions and\n",
              "// limitations under the License.\n",
              "\n",
              "/**\n",
              " * @fileoverview Helpers for google.colab Python module.\n",
              " */\n",
              "(function(scope) {\n",
              "function span(text, styleAttributes = {}) {\n",
              "  const element = document.createElement('span');\n",
              "  element.textContent = text;\n",
              "  for (const key of Object.keys(styleAttributes)) {\n",
              "    element.style[key] = styleAttributes[key];\n",
              "  }\n",
              "  return element;\n",
              "}\n",
              "\n",
              "// Max number of bytes which will be uploaded at a time.\n",
              "const MAX_PAYLOAD_SIZE = 100 * 1024;\n",
              "\n",
              "function _uploadFiles(inputId, outputId) {\n",
              "  const steps = uploadFilesStep(inputId, outputId);\n",
              "  const outputElement = document.getElementById(outputId);\n",
              "  // Cache steps on the outputElement to make it available for the next call\n",
              "  // to uploadFilesContinue from Python.\n",
              "  outputElement.steps = steps;\n",
              "\n",
              "  return _uploadFilesContinue(outputId);\n",
              "}\n",
              "\n",
              "// This is roughly an async generator (not supported in the browser yet),\n",
              "// where there are multiple asynchronous steps and the Python side is going\n",
              "// to poll for completion of each step.\n",
              "// This uses a Promise to block the python side on completion of each step,\n",
              "// then passes the result of the previous step as the input to the next step.\n",
              "function _uploadFilesContinue(outputId) {\n",
              "  const outputElement = document.getElementById(outputId);\n",
              "  const steps = outputElement.steps;\n",
              "\n",
              "  const next = steps.next(outputElement.lastPromiseValue);\n",
              "  return Promise.resolve(next.value.promise).then((value) => {\n",
              "    // Cache the last promise value to make it available to the next\n",
              "    // step of the generator.\n",
              "    outputElement.lastPromiseValue = value;\n",
              "    return next.value.response;\n",
              "  });\n",
              "}\n",
              "\n",
              "/**\n",
              " * Generator function which is called between each async step of the upload\n",
              " * process.\n",
              " * @param {string} inputId Element ID of the input file picker element.\n",
              " * @param {string} outputId Element ID of the output display.\n",
              " * @return {!Iterable<!Object>} Iterable of next steps.\n",
              " */\n",
              "function* uploadFilesStep(inputId, outputId) {\n",
              "  const inputElement = document.getElementById(inputId);\n",
              "  inputElement.disabled = false;\n",
              "\n",
              "  const outputElement = document.getElementById(outputId);\n",
              "  outputElement.innerHTML = '';\n",
              "\n",
              "  const pickedPromise = new Promise((resolve) => {\n",
              "    inputElement.addEventListener('change', (e) => {\n",
              "      resolve(e.target.files);\n",
              "    });\n",
              "  });\n",
              "\n",
              "  const cancel = document.createElement('button');\n",
              "  inputElement.parentElement.appendChild(cancel);\n",
              "  cancel.textContent = 'Cancel upload';\n",
              "  const cancelPromise = new Promise((resolve) => {\n",
              "    cancel.onclick = () => {\n",
              "      resolve(null);\n",
              "    };\n",
              "  });\n",
              "\n",
              "  // Wait for the user to pick the files.\n",
              "  const files = yield {\n",
              "    promise: Promise.race([pickedPromise, cancelPromise]),\n",
              "    response: {\n",
              "      action: 'starting',\n",
              "    }\n",
              "  };\n",
              "\n",
              "  cancel.remove();\n",
              "\n",
              "  // Disable the input element since further picks are not allowed.\n",
              "  inputElement.disabled = true;\n",
              "\n",
              "  if (!files) {\n",
              "    return {\n",
              "      response: {\n",
              "        action: 'complete',\n",
              "      }\n",
              "    };\n",
              "  }\n",
              "\n",
              "  for (const file of files) {\n",
              "    const li = document.createElement('li');\n",
              "    li.append(span(file.name, {fontWeight: 'bold'}));\n",
              "    li.append(span(\n",
              "        `(${file.type || 'n/a'}) - ${file.size} bytes, ` +\n",
              "        `last modified: ${\n",
              "            file.lastModifiedDate ? file.lastModifiedDate.toLocaleDateString() :\n",
              "                                    'n/a'} - `));\n",
              "    const percent = span('0% done');\n",
              "    li.appendChild(percent);\n",
              "\n",
              "    outputElement.appendChild(li);\n",
              "\n",
              "    const fileDataPromise = new Promise((resolve) => {\n",
              "      const reader = new FileReader();\n",
              "      reader.onload = (e) => {\n",
              "        resolve(e.target.result);\n",
              "      };\n",
              "      reader.readAsArrayBuffer(file);\n",
              "    });\n",
              "    // Wait for the data to be ready.\n",
              "    let fileData = yield {\n",
              "      promise: fileDataPromise,\n",
              "      response: {\n",
              "        action: 'continue',\n",
              "      }\n",
              "    };\n",
              "\n",
              "    // Use a chunked sending to avoid message size limits. See b/62115660.\n",
              "    let position = 0;\n",
              "    do {\n",
              "      const length = Math.min(fileData.byteLength - position, MAX_PAYLOAD_SIZE);\n",
              "      const chunk = new Uint8Array(fileData, position, length);\n",
              "      position += length;\n",
              "\n",
              "      const base64 = btoa(String.fromCharCode.apply(null, chunk));\n",
              "      yield {\n",
              "        response: {\n",
              "          action: 'append',\n",
              "          file: file.name,\n",
              "          data: base64,\n",
              "        },\n",
              "      };\n",
              "\n",
              "      let percentDone = fileData.byteLength === 0 ?\n",
              "          100 :\n",
              "          Math.round((position / fileData.byteLength) * 100);\n",
              "      percent.textContent = `${percentDone}% done`;\n",
              "\n",
              "    } while (position < fileData.byteLength);\n",
              "  }\n",
              "\n",
              "  // All done.\n",
              "  yield {\n",
              "    response: {\n",
              "      action: 'complete',\n",
              "    }\n",
              "  };\n",
              "}\n",
              "\n",
              "scope.google = scope.google || {};\n",
              "scope.google.colab = scope.google.colab || {};\n",
              "scope.google.colab._files = {\n",
              "  _uploadFiles,\n",
              "  _uploadFilesContinue,\n",
              "};\n",
              "})(self);\n",
              "</script> "
            ]
          },
          "metadata": {}
        },
        {
          "output_type": "stream",
          "name": "stdout",
          "text": [
            "Saving WhatsApp Video 2023-12-15 at 12.22.08_f7ab67e0.mp4 to WhatsApp Video 2023-12-15 at 12.22.08_f7ab67e0.mp4\n"
          ]
        }
      ],
      "source": [
        "uploaded = files.upload()"
      ]
    },
    {
      "cell_type": "code",
      "source": [
        "vid_input = VideoFileClip(\"WhatsApp Video 2023-12-15 at 12.22.08_f7ab67e0.mp4\")\n",
        "vid_output = 'lanes_output_clip.mp4'\n",
        "\n",
        "lanes = Lanes()\n",
        "\n",
        "vid_clip = vid_input.fl_image(road_lines)\n",
        "vid_clip.write_videofile(vid_output)"
      ],
      "metadata": {
        "colab": {
          "base_uri": "https://localhost:8080/"
        },
        "id": "AN74cbQU3zCj",
        "outputId": "cb524d5c-6e1d-4af4-82b3-3362e9793d47"
      },
      "execution_count": null,
      "outputs": [
        {
          "output_type": "stream",
          "name": "stdout",
          "text": [
            "1/1 [==============================] - 3s 3s/step\n",
            "Prediction shape: (80, 160, 1)\n",
            "Avg fit shape: (80, 160, 1)\n",
            "Blanks shape: (80, 160, 1)\n",
            "Lane drawn shape: (80, 160, 3)\n",
            "Lane image shape: (544, 960, 3)\n",
            "Moviepy - Building video lanes_output_clip.mp4.\n",
            "MoviePy - Writing audio in lanes_output_clipTEMP_MPY_wvf_snd.mp3\n"
          ]
        },
        {
          "output_type": "stream",
          "name": "stderr",
          "text": []
        },
        {
          "output_type": "stream",
          "name": "stdout",
          "text": [
            "MoviePy - Done.\n",
            "Moviepy - Writing video lanes_output_clip.mp4\n",
            "\n"
          ]
        },
        {
          "output_type": "stream",
          "name": "stderr",
          "text": [
            "\rt:   0%|          | 0/1297 [00:00<?, ?it/s, now=None]"
          ]
        },
        {
          "output_type": "stream",
          "name": "stdout",
          "text": [
            "1/1 [==============================] - 0s 27ms/step\n",
            "Prediction shape:"
          ]
        },
        {
          "output_type": "stream",
          "name": "stderr",
          "text": [
            "\rt:   0%|          | 2/1297 [00:00<04:16,  5.05it/s, now=None]"
          ]
        },
        {
          "output_type": "stream",
          "name": "stdout",
          "text": [
            " (80, 160, 1)\n",
            "Avg fit shape: (80, 160, 1)\n",
            "Blanks shape: (80, 160, 1)\n",
            "Lane drawn shape: (80, 160, 3)\n",
            "Lane image shape: (544, 960, 3)\n",
            "1/1 [==============================] - 0s 26ms/step\n"
          ]
        },
        {
          "output_type": "stream",
          "name": "stderr",
          "text": [
            "\rt:   0%|          | 3/1297 [00:00<05:54,  3.65it/s, now=None]"
          ]
        },
        {
          "output_type": "stream",
          "name": "stdout",
          "text": [
            "Prediction shape: (80, 160, 1)\n",
            "Avg fit shape: (80, 160, 1)\n",
            "Blanks shape: (80, 160, 1)\n",
            "Lane drawn shape: (80, 160, 3)\n",
            "Lane image shape: (544, 960, 3)\n",
            "1/1 [==============================] - 0s 30ms/step\n",
            "Prediction shape: (80, 160, 1)"
          ]
        },
        {
          "output_type": "stream",
          "name": "stderr",
          "text": [
            "\rt:   0%|          | 4/1297 [00:01<07:01,  3.07it/s, now=None]"
          ]
        },
        {
          "output_type": "stream",
          "name": "stdout",
          "text": [
            "\n",
            "Avg fit shape: (80, 160, 1)\n",
            "Blanks shape: (80, 160, 1)\n",
            "Lane drawn shape: (80, 160, 3)\n",
            "Lane image shape: (544, 960, 3)\n",
            "1/1 [==============================] - 0s 34ms/step\n",
            "Prediction shape: (80, 160, 1)\n",
            "Avg fit shape: (80, 160, 1)\n",
            "Blanks shape: (80, 160, 1)\n",
            "Lane drawn shape: (80, 160, 3)\n",
            "Lane image shape: (544, 960, 3)\n"
          ]
        },
        {
          "output_type": "stream",
          "name": "stderr",
          "text": [
            "\rt:   0%|          | 5/1297 [00:01<07:34,  2.84it/s, now=None]"
          ]
        },
        {
          "output_type": "stream",
          "name": "stdout",
          "text": [
            "1/1 [==============================] - 0s 28ms/step\n",
            "Prediction shape: (80, 160, 1)\n",
            "Avg fit shape: (80, 160, 1)\n",
            "Blanks shape: (80, 160, 1)\n",
            "Lane drawn shape: (80, 160, 3)\n",
            "Lane image shape:"
          ]
        },
        {
          "output_type": "stream",
          "name": "stderr",
          "text": [
            "\rt:   0%|          | 6/1297 [00:01<07:54,  2.72it/s, now=None]"
          ]
        },
        {
          "output_type": "stream",
          "name": "stdout",
          "text": [
            " (544, 960, 3)\n",
            "1/1 [==============================] - 0s 32ms/step\n",
            "Prediction shape: (80, 160, 1)\n",
            "Avg fit shape: (80, 160, 1)\n",
            "Blanks shape: (80, 160, 1)\n",
            "Lane drawn shape: (80, 160, 3)\n",
            "Lane image shape: (544, 960, 3)\n"
          ]
        },
        {
          "output_type": "stream",
          "name": "stderr",
          "text": [
            "\rt:   1%|          | 7/1297 [00:02<08:08,  2.64it/s, now=None]"
          ]
        },
        {
          "output_type": "stream",
          "name": "stdout",
          "text": [
            "1/1 [==============================] - 0s 29ms/step\n",
            "Prediction shape: (80, 160, 1)\n",
            "Avg fit shape: (80, 160, 1)\n",
            "Blanks shape: (80, 160, 1)\n",
            "Lane drawn shape: (80, 160, 3)\n",
            "Lane image shape: (544, 960, 3)\n"
          ]
        },
        {
          "output_type": "stream",
          "name": "stderr",
          "text": [
            "\rt:   1%|          | 8/1297 [00:02<08:12,  2.62it/s, now=None]"
          ]
        },
        {
          "output_type": "stream",
          "name": "stdout",
          "text": [
            "1/1 [==============================] - 0s 34ms/step\n",
            "Prediction shape: (80, 160, 1)\n",
            "Avg fit shape: (80, 160, 1)\n",
            "Blanks shape: (80, 160, 1)\n",
            "Lane drawn shape: (80, 160, 3)\n",
            "Lane image shape: (544, 960, 3)\n"
          ]
        },
        {
          "output_type": "stream",
          "name": "stderr",
          "text": [
            "\rt:   1%|          | 9/1297 [00:03<08:24,  2.55it/s, now=None]"
          ]
        },
        {
          "output_type": "stream",
          "name": "stdout",
          "text": [
            "1/1 [==============================] - 0s 34ms/step\n"
          ]
        },
        {
          "output_type": "stream",
          "name": "stderr",
          "text": [
            "\rt:   1%|          | 10/1297 [00:03<08:45,  2.45it/s, now=None]"
          ]
        },
        {
          "output_type": "stream",
          "name": "stdout",
          "text": [
            "Prediction shape: (80, 160, 1)\n",
            "Avg fit shape: (80, 160, 1)\n",
            "Blanks shape: (80, 160, 1)\n",
            "Lane drawn shape: (80, 160, 3)\n",
            "Lane image shape: (544, 960, 3)\n",
            "1/1 [==============================] - 0s 31ms/step\n"
          ]
        },
        {
          "output_type": "stream",
          "name": "stderr",
          "text": [
            "\rt:   1%|          | 11/1297 [00:04<09:01,  2.38it/s, now=None]"
          ]
        },
        {
          "output_type": "stream",
          "name": "stdout",
          "text": [
            "Prediction shape: (80, 160, 1)\n",
            "Avg fit shape: (80, 160, 1)\n",
            "Blanks shape: (80, 160, 1)\n",
            "Lane drawn shape: (80, 160, 3)\n",
            "Lane image shape: (544, 960, 3)\n",
            "1/1 [==============================] - 0s 28ms/step\n",
            "Prediction shape: (80, 160, 1)\n",
            "Avg fit shape: (80, 160, 1)\n",
            "Blanks shape: (80, 160, 1)\n",
            "Lane drawn shape: (80, 160, 3)"
          ]
        },
        {
          "output_type": "stream",
          "name": "stderr",
          "text": [
            "\rt:   1%|          | 12/1297 [00:04<08:47,  2.44it/s, now=None]"
          ]
        },
        {
          "output_type": "stream",
          "name": "stdout",
          "text": [
            "\n",
            "Lane image shape: (544, 960, 3)\n",
            "1/1 [==============================] - 0s 26ms/step\n"
          ]
        },
        {
          "output_type": "stream",
          "name": "stderr",
          "text": [
            "\rt:   1%|          | 13/1297 [00:04<08:29,  2.52it/s, now=None]"
          ]
        },
        {
          "output_type": "stream",
          "name": "stdout",
          "text": [
            "Prediction shape: (80, 160, 1)\n",
            "Avg fit shape: (80, 160, 1)\n",
            "Blanks shape: (80, 160, 1)\n",
            "Lane drawn shape: (80, 160, 3)\n",
            "Lane image shape: (544, 960, 3)\n",
            "1/1 [==============================] - 0s 27ms/step\n",
            "Prediction shape: (80, 160, 1)\n",
            "Avg fit shape: (80, 160, 1)\n",
            "Blanks shape:"
          ]
        },
        {
          "output_type": "stream",
          "name": "stderr",
          "text": [
            "\rt:   1%|          | 14/1297 [00:05<08:36,  2.49it/s, now=None]"
          ]
        },
        {
          "output_type": "stream",
          "name": "stdout",
          "text": [
            " (80, 160, 1)\n",
            "Lane drawn shape: (80, 160, 3)\n",
            "Lane image shape: (544, 960, 3)\n",
            "1/1 [==============================] - 0s 28ms/step\n"
          ]
        },
        {
          "output_type": "stream",
          "name": "stderr",
          "text": [
            "\rt:   1%|          | 15/1297 [00:05<08:21,  2.56it/s, now=None]"
          ]
        },
        {
          "output_type": "stream",
          "name": "stdout",
          "text": [
            "Prediction shape: (80, 160, 1)\n",
            "Avg fit shape: (80, 160, 1)\n",
            "Blanks shape: (80, 160, 1)\n",
            "Lane drawn shape: (80, 160, 3)\n",
            "Lane image shape: (544, 960, 3)\n",
            "1/1 [==============================] - 0s 31ms/step\n"
          ]
        },
        {
          "output_type": "stream",
          "name": "stderr",
          "text": [
            "\rt:   1%|          | 16/1297 [00:05<07:53,  2.70it/s, now=None]"
          ]
        },
        {
          "output_type": "stream",
          "name": "stdout",
          "text": [
            "Prediction shape: (80, 160, 1)\n",
            "Avg fit shape: (80, 160, 1)\n",
            "Blanks shape: (80, 160, 1)\n",
            "Lane drawn shape: (80, 160, 3)\n",
            "Lane image shape: (544, 960, 3)\n",
            "1/1 [==============================] - 0s 18ms/step\n"
          ]
        },
        {
          "output_type": "stream",
          "name": "stderr",
          "text": [
            "\rt:   1%|▏         | 17/1297 [00:06<07:01,  3.03it/s, now=None]"
          ]
        },
        {
          "output_type": "stream",
          "name": "stdout",
          "text": [
            "Prediction shape: (80, 160, 1)\n",
            "Avg fit shape: (80, 160, 1)\n",
            "Blanks shape: (80, 160, 1)\n",
            "Lane drawn shape: (80, 160, 3)\n",
            "Lane image shape: (544, 960, 3)\n",
            "1/1 [==============================] - 0s 18ms/step\n"
          ]
        },
        {
          "output_type": "stream",
          "name": "stderr",
          "text": [
            "\rt:   1%|▏         | 18/1297 [00:06<06:24,  3.33it/s, now=None]"
          ]
        },
        {
          "output_type": "stream",
          "name": "stdout",
          "text": [
            "Prediction shape: (80, 160, 1)\n",
            "Avg fit shape: (80, 160, 1)\n",
            "Blanks shape: (80, 160, 1)\n",
            "Lane drawn shape: (80, 160, 3)\n",
            "Lane image shape: (544, 960, 3)\n",
            "1/1 [==============================] - 0s 17ms/step\n"
          ]
        },
        {
          "output_type": "stream",
          "name": "stderr",
          "text": [
            "\rt:   1%|▏         | 19/1297 [00:06<05:57,  3.57it/s, now=None]"
          ]
        },
        {
          "output_type": "stream",
          "name": "stdout",
          "text": [
            "Prediction shape: (80, 160, 1)\n",
            "Avg fit shape: (80, 160, 1)\n",
            "Blanks shape: (80, 160, 1)\n",
            "Lane drawn shape: (80, 160, 3)\n",
            "Lane image shape: (544, 960, 3)\n",
            "1/1 [==============================] - 0s 19ms/step\n"
          ]
        },
        {
          "output_type": "stream",
          "name": "stderr",
          "text": [
            "\rt:   2%|▏         | 20/1297 [00:06<05:42,  3.73it/s, now=None]"
          ]
        },
        {
          "output_type": "stream",
          "name": "stdout",
          "text": [
            "Prediction shape: (80, 160, 1)\n",
            "Avg fit shape: (80, 160, 1)\n",
            "Blanks shape: (80, 160, 1)\n",
            "Lane drawn shape: (80, 160, 3)\n",
            "Lane image shape: (544, 960, 3)\n",
            "1/1 [==============================] - 0s 27ms/step\n"
          ]
        },
        {
          "output_type": "stream",
          "name": "stderr",
          "text": [
            "\rt:   2%|▏         | 21/1297 [00:07<05:33,  3.82it/s, now=None]"
          ]
        },
        {
          "output_type": "stream",
          "name": "stdout",
          "text": [
            "Prediction shape: (80, 160, 1)\n",
            "Avg fit shape: (80, 160, 1)\n",
            "Blanks shape: (80, 160, 1)\n",
            "Lane drawn shape: (80, 160, 3)\n",
            "Lane image shape: (544, 960, 3)\n",
            "1/1 [==============================] - 0s 18ms/step\n"
          ]
        },
        {
          "output_type": "stream",
          "name": "stderr",
          "text": [
            "\rt:   2%|▏         | 22/1297 [00:07<05:21,  3.97it/s, now=None]"
          ]
        },
        {
          "output_type": "stream",
          "name": "stdout",
          "text": [
            "Prediction shape: (80, 160, 1)\n",
            "Avg fit shape: (80, 160, 1)\n",
            "Blanks shape: (80, 160, 1)\n",
            "Lane drawn shape: (80, 160, 3)\n",
            "Lane image shape: (544, 960, 3)\n",
            "1/1 [==============================] - 0s 18ms/step\n"
          ]
        },
        {
          "output_type": "stream",
          "name": "stderr",
          "text": [
            "\rt:   2%|▏         | 23/1297 [00:07<05:14,  4.05it/s, now=None]"
          ]
        },
        {
          "output_type": "stream",
          "name": "stdout",
          "text": [
            "Prediction shape: (80, 160, 1)\n",
            "Avg fit shape: (80, 160, 1)\n",
            "Blanks shape: (80, 160, 1)\n",
            "Lane drawn shape: (80, 160, 3)\n",
            "Lane image shape: (544, 960, 3)\n",
            "1/1 [==============================] - 0s 18ms/step\n"
          ]
        },
        {
          "output_type": "stream",
          "name": "stderr",
          "text": [
            "\rt:   2%|▏         | 24/1297 [00:07<05:08,  4.13it/s, now=None]"
          ]
        },
        {
          "output_type": "stream",
          "name": "stdout",
          "text": [
            "Prediction shape: (80, 160, 1)\n",
            "Avg fit shape: (80, 160, 1)\n",
            "Blanks shape: (80, 160, 1)\n",
            "Lane drawn shape: (80, 160, 3)\n",
            "Lane image shape: (544, 960, 3)\n",
            "1/1 [==============================] - 0s 18ms/step\n"
          ]
        },
        {
          "output_type": "stream",
          "name": "stderr",
          "text": [
            "\rt:   2%|▏         | 25/1297 [00:08<05:11,  4.09it/s, now=None]"
          ]
        },
        {
          "output_type": "stream",
          "name": "stdout",
          "text": [
            "Prediction shape: (80, 160, 1)\n",
            "Avg fit shape: (80, 160, 1)\n",
            "Blanks shape: (80, 160, 1)\n",
            "Lane drawn shape: (80, 160, 3)\n",
            "Lane image shape: (544, 960, 3)\n",
            "1/1 [==============================] - 0s 18ms/step\n"
          ]
        },
        {
          "output_type": "stream",
          "name": "stderr",
          "text": [
            "\rt:   2%|▏         | 26/1297 [00:08<05:05,  4.16it/s, now=None]"
          ]
        },
        {
          "output_type": "stream",
          "name": "stdout",
          "text": [
            "Prediction shape: (80, 160, 1)\n",
            "Avg fit shape: (80, 160, 1)\n",
            "Blanks shape: (80, 160, 1)\n",
            "Lane drawn shape: (80, 160, 3)\n",
            "Lane image shape: (544, 960, 3)\n",
            "1/1 [==============================] - 0s 18ms/step\n"
          ]
        },
        {
          "output_type": "stream",
          "name": "stderr",
          "text": [
            "\rt:   2%|▏         | 27/1297 [00:08<05:01,  4.22it/s, now=None]"
          ]
        },
        {
          "output_type": "stream",
          "name": "stdout",
          "text": [
            "Prediction shape: (80, 160, 1)\n",
            "Avg fit shape: (80, 160, 1)\n",
            "Blanks shape: (80, 160, 1)\n",
            "Lane drawn shape: (80, 160, 3)\n",
            "Lane image shape: (544, 960, 3)\n",
            "1/1 [==============================] - 0s 18ms/step\n"
          ]
        },
        {
          "output_type": "stream",
          "name": "stderr",
          "text": [
            "\rt:   2%|▏         | 28/1297 [00:08<04:54,  4.30it/s, now=None]"
          ]
        },
        {
          "output_type": "stream",
          "name": "stdout",
          "text": [
            "Prediction shape: (80, 160, 1)\n",
            "Avg fit shape: (80, 160, 1)\n",
            "Blanks shape: (80, 160, 1)\n",
            "Lane drawn shape: (80, 160, 3)\n",
            "Lane image shape: (544, 960, 3)\n",
            "1/1 [==============================] - 0s 19ms/step\n"
          ]
        },
        {
          "output_type": "stream",
          "name": "stderr",
          "text": [
            "\rt:   2%|▏         | 29/1297 [00:08<04:56,  4.28it/s, now=None]"
          ]
        },
        {
          "output_type": "stream",
          "name": "stdout",
          "text": [
            "Prediction shape: (80, 160, 1)\n",
            "Avg fit shape: (80, 160, 1)\n",
            "Blanks shape: (80, 160, 1)\n",
            "Lane drawn shape: (80, 160, 3)\n",
            "Lane image shape: (544, 960, 3)\n",
            "1/1 [==============================] - 0s 17ms/step\n"
          ]
        },
        {
          "output_type": "stream",
          "name": "stderr",
          "text": [
            "\rt:   2%|▏         | 30/1297 [00:09<04:57,  4.25it/s, now=None]"
          ]
        },
        {
          "output_type": "stream",
          "name": "stdout",
          "text": [
            "Prediction shape: (80, 160, 1)\n",
            "Avg fit shape: (80, 160, 1)\n",
            "Blanks shape: (80, 160, 1)\n",
            "Lane drawn shape: (80, 160, 3)\n",
            "Lane image shape: (544, 960, 3)\n",
            "1/1 [==============================] - 0s 18ms/step\n"
          ]
        },
        {
          "output_type": "stream",
          "name": "stderr",
          "text": [
            "\rt:   2%|▏         | 31/1297 [00:09<04:56,  4.27it/s, now=None]"
          ]
        },
        {
          "output_type": "stream",
          "name": "stdout",
          "text": [
            "Prediction shape: (80, 160, 1)\n",
            "Avg fit shape: (80, 160, 1)\n",
            "Blanks shape: (80, 160, 1)\n",
            "Lane drawn shape: (80, 160, 3)\n",
            "Lane image shape: (544, 960, 3)\n",
            "1/1 [==============================] - 0s 18ms/step\n"
          ]
        },
        {
          "output_type": "stream",
          "name": "stderr",
          "text": [
            "\rt:   2%|▏         | 32/1297 [00:09<04:55,  4.28it/s, now=None]"
          ]
        },
        {
          "output_type": "stream",
          "name": "stdout",
          "text": [
            "Prediction shape: (80, 160, 1)\n",
            "Avg fit shape: (80, 160, 1)\n",
            "Blanks shape: (80, 160, 1)\n",
            "Lane drawn shape: (80, 160, 3)\n",
            "Lane image shape: (544, 960, 3)\n",
            "1/1 [==============================] - 0s 18ms/step\n"
          ]
        },
        {
          "output_type": "stream",
          "name": "stderr",
          "text": [
            "\rt:   3%|▎         | 33/1297 [00:09<04:53,  4.30it/s, now=None]"
          ]
        },
        {
          "output_type": "stream",
          "name": "stdout",
          "text": [
            "Prediction shape: (80, 160, 1)\n",
            "Avg fit shape: (80, 160, 1)\n",
            "Blanks shape: (80, 160, 1)\n",
            "Lane drawn shape: (80, 160, 3)\n",
            "Lane image shape: (544, 960, 3)\n",
            "1/1 [==============================] - 0s 18ms/step\n"
          ]
        },
        {
          "output_type": "stream",
          "name": "stderr",
          "text": [
            "\rt:   3%|▎         | 34/1297 [00:10<04:57,  4.25it/s, now=None]"
          ]
        },
        {
          "output_type": "stream",
          "name": "stdout",
          "text": [
            "Prediction shape: (80, 160, 1)\n",
            "Avg fit shape: (80, 160, 1)\n",
            "Blanks shape: (80, 160, 1)\n",
            "Lane drawn shape: (80, 160, 3)\n",
            "Lane image shape: (544, 960, 3)\n",
            "1/1 [==============================] - 0s 18ms/step\n"
          ]
        },
        {
          "output_type": "stream",
          "name": "stderr",
          "text": [
            "\rt:   3%|▎         | 35/1297 [00:10<04:57,  4.25it/s, now=None]"
          ]
        },
        {
          "output_type": "stream",
          "name": "stdout",
          "text": [
            "Prediction shape: (80, 160, 1)\n",
            "Avg fit shape: (80, 160, 1)\n",
            "Blanks shape: (80, 160, 1)\n",
            "Lane drawn shape: (80, 160, 3)\n",
            "Lane image shape: (544, 960, 3)\n",
            "1/1 [==============================] - 0s 17ms/step\n"
          ]
        },
        {
          "output_type": "stream",
          "name": "stderr",
          "text": [
            "\rt:   3%|▎         | 36/1297 [00:10<04:53,  4.30it/s, now=None]"
          ]
        },
        {
          "output_type": "stream",
          "name": "stdout",
          "text": [
            "Prediction shape: (80, 160, 1)\n",
            "Avg fit shape: (80, 160, 1)\n",
            "Blanks shape: (80, 160, 1)\n",
            "Lane drawn shape: (80, 160, 3)\n",
            "Lane image shape: (544, 960, 3)\n",
            "1/1 [==============================] - 0s 20ms/step\n"
          ]
        },
        {
          "output_type": "stream",
          "name": "stderr",
          "text": [
            "\rt:   3%|▎         | 37/1297 [00:10<04:49,  4.35it/s, now=None]"
          ]
        },
        {
          "output_type": "stream",
          "name": "stdout",
          "text": [
            "Prediction shape: (80, 160, 1)\n",
            "Avg fit shape: (80, 160, 1)\n",
            "Blanks shape: (80, 160, 1)\n",
            "Lane drawn shape: (80, 160, 3)\n",
            "Lane image shape: (544, 960, 3)\n",
            "1/1 [==============================] - 0s 18ms/step\n"
          ]
        },
        {
          "output_type": "stream",
          "name": "stderr",
          "text": [
            "\rt:   3%|▎         | 38/1297 [00:11<04:49,  4.35it/s, now=None]"
          ]
        },
        {
          "output_type": "stream",
          "name": "stdout",
          "text": [
            "Prediction shape: (80, 160, 1)\n",
            "Avg fit shape: (80, 160, 1)\n",
            "Blanks shape: (80, 160, 1)\n",
            "Lane drawn shape: (80, 160, 3)\n",
            "Lane image shape: (544, 960, 3)\n",
            "1/1 [==============================] - 0s 18ms/step\n"
          ]
        },
        {
          "output_type": "stream",
          "name": "stderr",
          "text": [
            "\rt:   3%|▎         | 39/1297 [00:11<04:50,  4.32it/s, now=None]"
          ]
        },
        {
          "output_type": "stream",
          "name": "stdout",
          "text": [
            "Prediction shape: (80, 160, 1)\n",
            "Avg fit shape: (80, 160, 1)\n",
            "Blanks shape: (80, 160, 1)\n",
            "Lane drawn shape: (80, 160, 3)\n",
            "Lane image shape: (544, 960, 3)\n",
            "1/1 [==============================] - 0s 18ms/step\n"
          ]
        },
        {
          "output_type": "stream",
          "name": "stderr",
          "text": [
            "\rt:   3%|▎         | 40/1297 [00:11<04:50,  4.33it/s, now=None]"
          ]
        },
        {
          "output_type": "stream",
          "name": "stdout",
          "text": [
            "Prediction shape: (80, 160, 1)\n",
            "Avg fit shape: (80, 160, 1)\n",
            "Blanks shape: (80, 160, 1)\n",
            "Lane drawn shape: (80, 160, 3)\n",
            "Lane image shape: (544, 960, 3)\n",
            "1/1 [==============================] - 0s 21ms/step\n"
          ]
        },
        {
          "output_type": "stream",
          "name": "stderr",
          "text": [
            "\rt:   3%|▎         | 41/1297 [00:11<04:50,  4.32it/s, now=None]"
          ]
        },
        {
          "output_type": "stream",
          "name": "stdout",
          "text": [
            "Prediction shape: (80, 160, 1)\n",
            "Avg fit shape: (80, 160, 1)\n",
            "Blanks shape: (80, 160, 1)\n",
            "Lane drawn shape: (80, 160, 3)\n",
            "Lane image shape: (544, 960, 3)\n",
            "1/1 [==============================] - 0s 18ms/step\n"
          ]
        },
        {
          "output_type": "stream",
          "name": "stderr",
          "text": [
            "\rt:   3%|▎         | 42/1297 [00:12<04:49,  4.33it/s, now=None]"
          ]
        },
        {
          "output_type": "stream",
          "name": "stdout",
          "text": [
            "Prediction shape: (80, 160, 1)\n",
            "Avg fit shape: (80, 160, 1)\n",
            "Blanks shape: (80, 160, 1)\n",
            "Lane drawn shape: (80, 160, 3)\n",
            "Lane image shape: (544, 960, 3)\n",
            "1/1 [==============================] - 0s 23ms/step\n"
          ]
        },
        {
          "output_type": "stream",
          "name": "stderr",
          "text": [
            "\rt:   3%|▎         | 43/1297 [00:12<04:53,  4.27it/s, now=None]"
          ]
        },
        {
          "output_type": "stream",
          "name": "stdout",
          "text": [
            "Prediction shape: (80, 160, 1)\n",
            "Avg fit shape: (80, 160, 1)\n",
            "Blanks shape: (80, 160, 1)\n",
            "Lane drawn shape: (80, 160, 3)\n",
            "Lane image shape: (544, 960, 3)\n",
            "1/1 [==============================] - 0s 18ms/step\n"
          ]
        },
        {
          "output_type": "stream",
          "name": "stderr",
          "text": [
            "\rt:   3%|▎         | 44/1297 [00:12<05:08,  4.06it/s, now=None]"
          ]
        },
        {
          "output_type": "stream",
          "name": "stdout",
          "text": [
            "Prediction shape: (80, 160, 1)\n",
            "Avg fit shape: (80, 160, 1)\n",
            "Blanks shape: (80, 160, 1)\n",
            "Lane drawn shape: (80, 160, 3)\n",
            "Lane image shape: (544, 960, 3)\n",
            "1/1 [==============================] - 0s 18ms/step\n"
          ]
        },
        {
          "output_type": "stream",
          "name": "stderr",
          "text": [
            "\rt:   3%|▎         | 45/1297 [00:12<04:59,  4.18it/s, now=None]"
          ]
        },
        {
          "output_type": "stream",
          "name": "stdout",
          "text": [
            "Prediction shape: (80, 160, 1)\n",
            "Avg fit shape: (80, 160, 1)\n",
            "Blanks shape: (80, 160, 1)\n",
            "Lane drawn shape: (80, 160, 3)\n",
            "Lane image shape: (544, 960, 3)\n",
            "1/1 [==============================] - 0s 20ms/step\n"
          ]
        },
        {
          "output_type": "stream",
          "name": "stderr",
          "text": [
            "\rt:   4%|▎         | 46/1297 [00:12<04:57,  4.20it/s, now=None]"
          ]
        },
        {
          "output_type": "stream",
          "name": "stdout",
          "text": [
            "Prediction shape: (80, 160, 1)\n",
            "Avg fit shape: (80, 160, 1)\n",
            "Blanks shape: (80, 160, 1)\n",
            "Lane drawn shape: (80, 160, 3)\n",
            "Lane image shape: (544, 960, 3)\n",
            "1/1 [==============================] - 0s 19ms/step\n"
          ]
        },
        {
          "output_type": "stream",
          "name": "stderr",
          "text": [
            "\rt:   4%|▎         | 47/1297 [00:13<05:01,  4.14it/s, now=None]"
          ]
        },
        {
          "output_type": "stream",
          "name": "stdout",
          "text": [
            "Prediction shape: (80, 160, 1)\n",
            "Avg fit shape: (80, 160, 1)\n",
            "Blanks shape: (80, 160, 1)\n",
            "Lane drawn shape: (80, 160, 3)\n",
            "Lane image shape: (544, 960, 3)\n",
            "1/1 [==============================] - 0s 18ms/step\n"
          ]
        },
        {
          "output_type": "stream",
          "name": "stderr",
          "text": [
            "\rt:   4%|▎         | 48/1297 [00:13<05:02,  4.13it/s, now=None]"
          ]
        },
        {
          "output_type": "stream",
          "name": "stdout",
          "text": [
            "Prediction shape: (80, 160, 1)\n",
            "Avg fit shape: (80, 160, 1)\n",
            "Blanks shape: (80, 160, 1)\n",
            "Lane drawn shape: (80, 160, 3)\n",
            "Lane image shape: (544, 960, 3)\n",
            "1/1 [==============================] - 0s 18ms/step\n"
          ]
        },
        {
          "output_type": "stream",
          "name": "stderr",
          "text": [
            "\rt:   4%|▍         | 49/1297 [00:13<05:04,  4.10it/s, now=None]"
          ]
        },
        {
          "output_type": "stream",
          "name": "stdout",
          "text": [
            "Prediction shape: (80, 160, 1)\n",
            "Avg fit shape: (80, 160, 1)\n",
            "Blanks shape: (80, 160, 1)\n",
            "Lane drawn shape: (80, 160, 3)\n",
            "Lane image shape: (544, 960, 3)\n",
            "1/1 [==============================] - 0s 18ms/step\n"
          ]
        },
        {
          "output_type": "stream",
          "name": "stderr",
          "text": [
            "\rt:   4%|▍         | 50/1297 [00:13<05:07,  4.06it/s, now=None]"
          ]
        },
        {
          "output_type": "stream",
          "name": "stdout",
          "text": [
            "Prediction shape: (80, 160, 1)\n",
            "Avg fit shape: (80, 160, 1)\n",
            "Blanks shape: (80, 160, 1)\n",
            "Lane drawn shape: (80, 160, 3)\n",
            "Lane image shape: (544, 960, 3)\n",
            "1/1 [==============================] - 0s 18ms/step\n"
          ]
        },
        {
          "output_type": "stream",
          "name": "stderr",
          "text": [
            "\rt:   4%|▍         | 51/1297 [00:14<05:09,  4.03it/s, now=None]"
          ]
        },
        {
          "output_type": "stream",
          "name": "stdout",
          "text": [
            "Prediction shape: (80, 160, 1)\n",
            "Avg fit shape: (80, 160, 1)\n",
            "Blanks shape: (80, 160, 1)\n",
            "Lane drawn shape: (80, 160, 3)\n",
            "Lane image shape: (544, 960, 3)\n",
            "1/1 [==============================] - 0s 18ms/step\n"
          ]
        },
        {
          "output_type": "stream",
          "name": "stderr",
          "text": [
            "\rt:   4%|▍         | 52/1297 [00:14<05:04,  4.09it/s, now=None]"
          ]
        },
        {
          "output_type": "stream",
          "name": "stdout",
          "text": [
            "Prediction shape: (80, 160, 1)\n",
            "Avg fit shape: (80, 160, 1)\n",
            "Blanks shape: (80, 160, 1)\n",
            "Lane drawn shape: (80, 160, 3)\n",
            "Lane image shape: (544, 960, 3)\n",
            "1/1 [==============================] - 0s 18ms/step\n"
          ]
        },
        {
          "output_type": "stream",
          "name": "stderr",
          "text": [
            "\rt:   4%|▍         | 53/1297 [00:14<05:13,  3.97it/s, now=None]"
          ]
        },
        {
          "output_type": "stream",
          "name": "stdout",
          "text": [
            "Prediction shape: (80, 160, 1)\n",
            "Avg fit shape: (80, 160, 1)\n",
            "Blanks shape: (80, 160, 1)\n",
            "Lane drawn shape: (80, 160, 3)\n",
            "Lane image shape: (544, 960, 3)\n",
            "1/1 [==============================] - 0s 18ms/step\n"
          ]
        },
        {
          "output_type": "stream",
          "name": "stderr",
          "text": [
            "\rt:   4%|▍         | 54/1297 [00:14<05:12,  3.98it/s, now=None]"
          ]
        },
        {
          "output_type": "stream",
          "name": "stdout",
          "text": [
            "Prediction shape: (80, 160, 1)\n",
            "Avg fit shape: (80, 160, 1)\n",
            "Blanks shape: (80, 160, 1)\n",
            "Lane drawn shape: (80, 160, 3)\n",
            "Lane image shape: (544, 960, 3)\n",
            "1/1 [==============================] - 0s 23ms/step\n"
          ]
        },
        {
          "output_type": "stream",
          "name": "stderr",
          "text": [
            "\rt:   4%|▍         | 55/1297 [00:15<05:18,  3.90it/s, now=None]"
          ]
        },
        {
          "output_type": "stream",
          "name": "stdout",
          "text": [
            "Prediction shape: (80, 160, 1)\n",
            "Avg fit shape: (80, 160, 1)\n",
            "Blanks shape: (80, 160, 1)\n",
            "Lane drawn shape: (80, 160, 3)\n",
            "Lane image shape: (544, 960, 3)\n",
            "1/1 [==============================] - 0s 21ms/step\n"
          ]
        },
        {
          "output_type": "stream",
          "name": "stderr",
          "text": [
            "\rt:   4%|▍         | 56/1297 [00:15<05:17,  3.90it/s, now=None]"
          ]
        },
        {
          "output_type": "stream",
          "name": "stdout",
          "text": [
            "Prediction shape: (80, 160, 1)\n",
            "Avg fit shape: (80, 160, 1)\n",
            "Blanks shape: (80, 160, 1)\n",
            "Lane drawn shape: (80, 160, 3)\n",
            "Lane image shape: (544, 960, 3)\n",
            "1/1 [==============================] - 0s 18ms/step\n"
          ]
        },
        {
          "output_type": "stream",
          "name": "stderr",
          "text": [
            "\rt:   4%|▍         | 57/1297 [00:15<05:19,  3.88it/s, now=None]"
          ]
        },
        {
          "output_type": "stream",
          "name": "stdout",
          "text": [
            "Prediction shape: (80, 160, 1)\n",
            "Avg fit shape: (80, 160, 1)\n",
            "Blanks shape: (80, 160, 1)\n",
            "Lane drawn shape: (80, 160, 3)\n",
            "Lane image shape: (544, 960, 3)\n",
            "1/1 [==============================] - 0s 33ms/step\n"
          ]
        },
        {
          "output_type": "stream",
          "name": "stderr",
          "text": [
            "\rt:   4%|▍         | 58/1297 [00:16<05:54,  3.49it/s, now=None]"
          ]
        },
        {
          "output_type": "stream",
          "name": "stdout",
          "text": [
            "Prediction shape: (80, 160, 1)\n",
            "Avg fit shape: (80, 160, 1)\n",
            "Blanks shape: (80, 160, 1)\n",
            "Lane drawn shape: (80, 160, 3)\n",
            "Lane image shape: (544, 960, 3)\n",
            "1/1 [==============================] - 0s 27ms/step\n"
          ]
        },
        {
          "output_type": "stream",
          "name": "stderr",
          "text": [
            "\rt:   5%|▍         | 59/1297 [00:16<06:37,  3.11it/s, now=None]"
          ]
        },
        {
          "output_type": "stream",
          "name": "stdout",
          "text": [
            "Prediction shape: (80, 160, 1)\n",
            "Avg fit shape: (80, 160, 1)\n",
            "Blanks shape: (80, 160, 1)\n",
            "Lane drawn shape: (80, 160, 3)\n",
            "Lane image shape: (544, 960, 3)\n",
            "1/1 [==============================] - 0s 27ms/step\n"
          ]
        },
        {
          "output_type": "stream",
          "name": "stderr",
          "text": [
            "\rt:   5%|▍         | 60/1297 [00:16<07:12,  2.86it/s, now=None]"
          ]
        },
        {
          "output_type": "stream",
          "name": "stdout",
          "text": [
            "Prediction shape: (80, 160, 1)\n",
            "Avg fit shape: (80, 160, 1)\n",
            "Blanks shape: (80, 160, 1)\n",
            "Lane drawn shape: (80, 160, 3)\n",
            "Lane image shape: (544, 960, 3)\n",
            "1/1 [==============================] - 0s 39ms/step\n"
          ]
        },
        {
          "output_type": "stream",
          "name": "stderr",
          "text": [
            "\rt:   5%|▍         | 61/1297 [00:17<07:36,  2.71it/s, now=None]"
          ]
        },
        {
          "output_type": "stream",
          "name": "stdout",
          "text": [
            "Prediction shape: (80, 160, 1)\n",
            "Avg fit shape: (80, 160, 1)\n",
            "Blanks shape: (80, 160, 1)\n",
            "Lane drawn shape: (80, 160, 3)\n",
            "Lane image shape: (544, 960, 3)\n",
            "1/1 [==============================] - 0s 29ms/step\n",
            "Prediction shape: (80, 160, 1)\n",
            "Avg fit shape: (80, 160, 1)\n",
            "Blanks shape: (80, 160, 1)\n",
            "Lane drawn shape: "
          ]
        },
        {
          "output_type": "stream",
          "name": "stderr",
          "text": [
            "\rt:   5%|▍         | 62/1297 [00:17<07:47,  2.64it/s, now=None]"
          ]
        },
        {
          "output_type": "stream",
          "name": "stdout",
          "text": [
            "(80, 160, 3)\n",
            "Lane image shape: (544, 960, 3)\n",
            "1/1 [==============================] - 0s 38ms/step\n",
            "Prediction shape: (80, 160, 1)\n",
            "Avg fit shape: (80, 160, 1)\n",
            "Blanks shape: (80, 160, 1)\n",
            "Lane drawn shape: (80, 160, 3)\n",
            "Lane image shape: (544, 960, 3)\n"
          ]
        },
        {
          "output_type": "stream",
          "name": "stderr",
          "text": [
            "\rt:   5%|▍         | 63/1297 [00:18<07:58,  2.58it/s, now=None]"
          ]
        },
        {
          "output_type": "stream",
          "name": "stdout",
          "text": [
            "1/1 [==============================] - 0s 29ms/step\n"
          ]
        },
        {
          "output_type": "stream",
          "name": "stderr",
          "text": [
            "\rt:   5%|▍         | 64/1297 [00:18<08:19,  2.47it/s, now=None]"
          ]
        },
        {
          "output_type": "stream",
          "name": "stdout",
          "text": [
            "Prediction shape: (80, 160, 1)\n",
            "Avg fit shape: (80, 160, 1)\n",
            "Blanks shape: (80, 160, 1)\n",
            "Lane drawn shape: (80, 160, 3)\n",
            "Lane image shape: (544, 960, 3)\n",
            "1/1 [==============================] - 0s 31ms/step\n",
            "Prediction shape: (80, 160, 1)\n",
            "Avg fit shape: (80, 160, 1)\n",
            "Blanks shape: (80, 160, 1)\n",
            "Lane drawn shape: (80, 160, 3)\n",
            "Lane image shape: (544, 960, 3)\n"
          ]
        },
        {
          "output_type": "stream",
          "name": "stderr",
          "text": [
            "\rt:   5%|▌         | 65/1297 [00:19<08:22,  2.45it/s, now=None]"
          ]
        },
        {
          "output_type": "stream",
          "name": "stdout",
          "text": [
            "1/1 [==============================] - 0s 27ms/step\n"
          ]
        },
        {
          "output_type": "stream",
          "name": "stderr",
          "text": [
            "\rt:   5%|▌         | 66/1297 [00:19<08:22,  2.45it/s, now=None]"
          ]
        },
        {
          "output_type": "stream",
          "name": "stdout",
          "text": [
            "Prediction shape: (80, 160, 1)\n",
            "Avg fit shape: (80, 160, 1)\n",
            "Blanks shape: (80, 160, 1)\n",
            "Lane drawn shape: (80, 160, 3)\n",
            "Lane image shape: (544, 960, 3)\n",
            "1/1 [==============================] - 0s 26ms/step\n",
            "Prediction shape: (80, 160, 1)\n",
            "Avg fit shape: (80, 160, 1)\n",
            "Blanks shape: (80, 160, 1)\n",
            "Lane drawn shape: (80, 160, 3)\n",
            "Lane image shape: (544, 960, 3)\n"
          ]
        },
        {
          "output_type": "stream",
          "name": "stderr",
          "text": [
            "\rt:   5%|▌         | 67/1297 [00:19<08:19,  2.46it/s, now=None]"
          ]
        },
        {
          "output_type": "stream",
          "name": "stdout",
          "text": [
            "1/1 [==============================] - 0s 27ms/step\n",
            "Prediction shape: (80, 160, 1)\n",
            "Avg fit shape: (80, 160, 1)\n",
            "Blanks shape: (80, 160, 1)\n",
            "Lane drawn shape: (80, 160, 3)\n",
            "Lane image shape: (544, 960, 3)\n"
          ]
        },
        {
          "output_type": "stream",
          "name": "stderr",
          "text": [
            "\rt:   5%|▌         | 68/1297 [00:20<08:16,  2.48it/s, now=None]"
          ]
        },
        {
          "output_type": "stream",
          "name": "stdout",
          "text": [
            "1/1 [==============================] - 0s 28ms/step\n"
          ]
        },
        {
          "output_type": "stream",
          "name": "stderr",
          "text": [
            "\rt:   5%|▌         | 69/1297 [00:20<08:15,  2.48it/s, now=None]"
          ]
        },
        {
          "output_type": "stream",
          "name": "stdout",
          "text": [
            "Prediction shape: (80, 160, 1)\n",
            "Avg fit shape: (80, 160, 1)\n",
            "Blanks shape: (80, 160, 1)\n",
            "Lane drawn shape: (80, 160, 3)\n",
            "Lane image shape: (544, 960, 3)\n",
            "1/1 [==============================] - 0s 28ms/step\n",
            "Prediction shape: (80, 160, 1)\n",
            "Avg fit shape: (80, 160, 1)\n",
            "Blanks shape: (80, 160, 1)\n",
            "Lane drawn shape: (80, 160, 3)\n",
            "Lane image shape: "
          ]
        },
        {
          "output_type": "stream",
          "name": "stderr",
          "text": [
            "\rt:   5%|▌         | 70/1297 [00:21<08:11,  2.50it/s, now=None]"
          ]
        },
        {
          "output_type": "stream",
          "name": "stdout",
          "text": [
            "(544, 960, 3)\n",
            "1/1 [==============================] - 0s 32ms/step\n",
            "Prediction shape: (80, 160, 1)\n",
            "Avg fit shape: (80, 160, 1)\n",
            "Blanks shape: (80, 160, 1)\n",
            "Lane drawn shape: (80, 160, 3)\n",
            "Lane image shape: (544, 960, 3)\n"
          ]
        },
        {
          "output_type": "stream",
          "name": "stderr",
          "text": [
            "\rt:   5%|▌         | 71/1297 [00:21<08:12,  2.49it/s, now=None]"
          ]
        },
        {
          "output_type": "stream",
          "name": "stdout",
          "text": [
            "1/1 [==============================] - 0s 26ms/step\n"
          ]
        },
        {
          "output_type": "stream",
          "name": "stderr",
          "text": [
            "\rt:   6%|▌         | 72/1297 [00:21<08:07,  2.51it/s, now=None]"
          ]
        },
        {
          "output_type": "stream",
          "name": "stdout",
          "text": [
            "Prediction shape: (80, 160, 1)\n",
            "Avg fit shape: (80, 160, 1)\n",
            "Blanks shape: (80, 160, 1)\n",
            "Lane drawn shape: (80, 160, 3)\n",
            "Lane image shape: (544, 960, 3)\n",
            "1/1 [==============================] - 0s 30ms/step\n"
          ]
        },
        {
          "output_type": "stream",
          "name": "stderr",
          "text": [
            "\rt:   6%|▌         | 73/1297 [00:22<08:10,  2.49it/s, now=None]"
          ]
        },
        {
          "output_type": "stream",
          "name": "stdout",
          "text": [
            "Prediction shape: (80, 160, 1)\n",
            "Avg fit shape: (80, 160, 1)\n",
            "Blanks shape: (80, 160, 1)\n",
            "Lane drawn shape: (80, 160, 3)\n",
            "Lane image shape: (544, 960, 3)\n",
            "1/1 [==============================] - 0s 29ms/step\n"
          ]
        },
        {
          "output_type": "stream",
          "name": "stderr",
          "text": [
            "\rt:   6%|▌         | 74/1297 [00:22<07:59,  2.55it/s, now=None]"
          ]
        },
        {
          "output_type": "stream",
          "name": "stdout",
          "text": [
            "Prediction shape: (80, 160, 1)\n",
            "Avg fit shape: (80, 160, 1)\n",
            "Blanks shape: (80, 160, 1)\n",
            "Lane drawn shape: (80, 160, 3)\n",
            "Lane image shape: (544, 960, 3)\n",
            "1/1 [==============================] - 0s 50ms/step\n"
          ]
        },
        {
          "output_type": "stream",
          "name": "stderr",
          "text": [
            "\rt:   6%|▌         | 75/1297 [00:23<08:19,  2.45it/s, now=None]"
          ]
        },
        {
          "output_type": "stream",
          "name": "stdout",
          "text": [
            "Prediction shape: (80, 160, 1)\n",
            "Avg fit shape: (80, 160, 1)\n",
            "Blanks shape: (80, 160, 1)\n",
            "Lane drawn shape: (80, 160, 3)\n",
            "Lane image shape: (544, 960, 3)\n",
            "1/1 [==============================] - 0s 35ms/step\n"
          ]
        },
        {
          "output_type": "stream",
          "name": "stderr",
          "text": [
            "\rt:   6%|▌         | 76/1297 [00:23<08:12,  2.48it/s, now=None]"
          ]
        },
        {
          "output_type": "stream",
          "name": "stdout",
          "text": [
            "Prediction shape: (80, 160, 1)\n",
            "Avg fit shape: (80, 160, 1)\n",
            "Blanks shape: (80, 160, 1)\n",
            "Lane drawn shape: (80, 160, 3)\n",
            "Lane image shape: (544, 960, 3)\n",
            "1/1 [==============================] - 0s 30ms/step\n",
            "Prediction shape: (80, 160, 1)\n",
            "Avg fit shape: (80, 160, 1)\n",
            "Blanks shape: (80, 160, 1)\n",
            "Lane drawn shape: (80, 160, 3)\n",
            "Lane image shape: (544, 960, 3)\n"
          ]
        },
        {
          "output_type": "stream",
          "name": "stderr",
          "text": [
            "\rt:   6%|▌         | 77/1297 [00:23<08:12,  2.48it/s, now=None]"
          ]
        },
        {
          "output_type": "stream",
          "name": "stdout",
          "text": [
            "1/1 [==============================] - 0s 26ms/step\n"
          ]
        },
        {
          "output_type": "stream",
          "name": "stderr",
          "text": [
            "\rt:   6%|▌         | 78/1297 [00:24<09:43,  2.09it/s, now=None]"
          ]
        },
        {
          "output_type": "stream",
          "name": "stdout",
          "text": [
            "Prediction shape: (80, 160, 1)\n",
            "Avg fit shape: (80, 160, 1)\n",
            "Blanks shape: (80, 160, 1)\n",
            "Lane drawn shape: (80, 160, 3)\n",
            "Lane image shape: (544, 960, 3)\n",
            "1/1 [==============================] - 0s 26ms/step\n"
          ]
        },
        {
          "output_type": "stream",
          "name": "stderr",
          "text": [
            "\rt:   6%|▌         | 79/1297 [00:24<09:06,  2.23it/s, now=None]"
          ]
        },
        {
          "output_type": "stream",
          "name": "stdout",
          "text": [
            "Prediction shape: (80, 160, 1)\n",
            "Avg fit shape: (80, 160, 1)\n",
            "Blanks shape: (80, 160, 1)\n",
            "Lane drawn shape: (80, 160, 3)\n",
            "Lane image shape: (544, 960, 3)\n",
            "1/1 [==============================] - 0s 20ms/step\n"
          ]
        },
        {
          "output_type": "stream",
          "name": "stderr",
          "text": [
            "\rt:   6%|▌         | 80/1297 [00:25<07:56,  2.56it/s, now=None]"
          ]
        },
        {
          "output_type": "stream",
          "name": "stdout",
          "text": [
            "Prediction shape: (80, 160, 1)\n",
            "Avg fit shape: (80, 160, 1)\n",
            "Blanks shape: (80, 160, 1)\n",
            "Lane drawn shape: (80, 160, 3)\n",
            "Lane image shape: (544, 960, 3)\n",
            "1/1 [==============================] - 0s 18ms/step\n"
          ]
        },
        {
          "output_type": "stream",
          "name": "stderr",
          "text": [
            "\rt:   6%|▌         | 81/1297 [00:25<07:01,  2.88it/s, now=None]"
          ]
        },
        {
          "output_type": "stream",
          "name": "stdout",
          "text": [
            "Prediction shape: (80, 160, 1)\n",
            "Avg fit shape: (80, 160, 1)\n",
            "Blanks shape: (80, 160, 1)\n",
            "Lane drawn shape: (80, 160, 3)\n",
            "Lane image shape: (544, 960, 3)\n",
            "1/1 [==============================] - 0s 18ms/step\n"
          ]
        },
        {
          "output_type": "stream",
          "name": "stderr",
          "text": [
            "\rt:   6%|▋         | 82/1297 [00:25<06:23,  3.17it/s, now=None]"
          ]
        },
        {
          "output_type": "stream",
          "name": "stdout",
          "text": [
            "Prediction shape: (80, 160, 1)\n",
            "Avg fit shape: (80, 160, 1)\n",
            "Blanks shape: (80, 160, 1)\n",
            "Lane drawn shape: (80, 160, 3)\n",
            "Lane image shape: (544, 960, 3)\n",
            "1/1 [==============================] - 0s 18ms/step\n"
          ]
        },
        {
          "output_type": "stream",
          "name": "stderr",
          "text": [
            "\rt:   6%|▋         | 83/1297 [00:25<06:06,  3.31it/s, now=None]"
          ]
        },
        {
          "output_type": "stream",
          "name": "stdout",
          "text": [
            "Prediction shape: (80, 160, 1)\n",
            "Avg fit shape: (80, 160, 1)\n",
            "Blanks shape: (80, 160, 1)\n",
            "Lane drawn shape: (80, 160, 3)\n",
            "Lane image shape: (544, 960, 3)\n",
            "1/1 [==============================] - 0s 18ms/step\n"
          ]
        },
        {
          "output_type": "stream",
          "name": "stderr",
          "text": [
            "\rt:   6%|▋         | 84/1297 [00:26<05:57,  3.40it/s, now=None]"
          ]
        },
        {
          "output_type": "stream",
          "name": "stdout",
          "text": [
            "Prediction shape: (80, 160, 1)\n",
            "Avg fit shape: (80, 160, 1)\n",
            "Blanks shape: (80, 160, 1)\n",
            "Lane drawn shape: (80, 160, 3)\n",
            "Lane image shape: (544, 960, 3)\n",
            "1/1 [==============================] - 0s 18ms/step\n"
          ]
        },
        {
          "output_type": "stream",
          "name": "stderr",
          "text": [
            "\rt:   7%|▋         | 85/1297 [00:26<05:37,  3.59it/s, now=None]"
          ]
        },
        {
          "output_type": "stream",
          "name": "stdout",
          "text": [
            "Prediction shape: (80, 160, 1)\n",
            "Avg fit shape: (80, 160, 1)\n",
            "Blanks shape: (80, 160, 1)\n",
            "Lane drawn shape: (80, 160, 3)\n",
            "Lane image shape: (544, 960, 3)\n",
            "1/1 [==============================] - 0s 18ms/step\n"
          ]
        },
        {
          "output_type": "stream",
          "name": "stderr",
          "text": [
            "\rt:   7%|▋         | 86/1297 [00:26<05:28,  3.69it/s, now=None]"
          ]
        },
        {
          "output_type": "stream",
          "name": "stdout",
          "text": [
            "Prediction shape: (80, 160, 1)\n",
            "Avg fit shape: (80, 160, 1)\n",
            "Blanks shape: (80, 160, 1)\n",
            "Lane drawn shape: (80, 160, 3)\n",
            "Lane image shape: (544, 960, 3)\n",
            "1/1 [==============================] - 0s 18ms/step\n"
          ]
        },
        {
          "output_type": "stream",
          "name": "stderr",
          "text": [
            "\rt:   7%|▋         | 87/1297 [00:26<05:19,  3.79it/s, now=None]"
          ]
        },
        {
          "output_type": "stream",
          "name": "stdout",
          "text": [
            "Prediction shape: (80, 160, 1)\n",
            "Avg fit shape: (80, 160, 1)\n",
            "Blanks shape: (80, 160, 1)\n",
            "Lane drawn shape: (80, 160, 3)\n",
            "Lane image shape: (544, 960, 3)\n",
            "1/1 [==============================] - 0s 19ms/step\n"
          ]
        },
        {
          "output_type": "stream",
          "name": "stderr",
          "text": [
            "\rt:   7%|▋         | 88/1297 [00:27<05:28,  3.68it/s, now=None]"
          ]
        },
        {
          "output_type": "stream",
          "name": "stdout",
          "text": [
            "Prediction shape: (80, 160, 1)\n",
            "Avg fit shape: (80, 160, 1)\n",
            "Blanks shape: (80, 160, 1)\n",
            "Lane drawn shape: (80, 160, 3)\n",
            "Lane image shape: (544, 960, 3)\n",
            "1/1 [==============================] - 0s 18ms/step\n"
          ]
        },
        {
          "output_type": "stream",
          "name": "stderr",
          "text": [
            "\rt:   7%|▋         | 89/1297 [00:27<05:23,  3.74it/s, now=None]"
          ]
        },
        {
          "output_type": "stream",
          "name": "stdout",
          "text": [
            "Prediction shape: (80, 160, 1)\n",
            "Avg fit shape: (80, 160, 1)\n",
            "Blanks shape: (80, 160, 1)\n",
            "Lane drawn shape: (80, 160, 3)\n",
            "Lane image shape: (544, 960, 3)\n",
            "1/1 [==============================] - 0s 18ms/step\n"
          ]
        },
        {
          "output_type": "stream",
          "name": "stderr",
          "text": [
            "\rt:   7%|▋         | 90/1297 [00:27<05:14,  3.84it/s, now=None]"
          ]
        },
        {
          "output_type": "stream",
          "name": "stdout",
          "text": [
            "Prediction shape: (80, 160, 1)\n",
            "Avg fit shape: (80, 160, 1)\n",
            "Blanks shape: (80, 160, 1)\n",
            "Lane drawn shape: (80, 160, 3)\n",
            "Lane image shape: (544, 960, 3)\n",
            "1/1 [==============================] - 0s 22ms/step\n"
          ]
        },
        {
          "output_type": "stream",
          "name": "stderr",
          "text": [
            "\rt:   7%|▋         | 91/1297 [00:27<05:12,  3.86it/s, now=None]"
          ]
        },
        {
          "output_type": "stream",
          "name": "stdout",
          "text": [
            "Prediction shape: (80, 160, 1)\n",
            "Avg fit shape: (80, 160, 1)\n",
            "Blanks shape: (80, 160, 1)\n",
            "Lane drawn shape: (80, 160, 3)\n",
            "Lane image shape: (544, 960, 3)\n",
            "1/1 [==============================] - 0s 18ms/step\n"
          ]
        },
        {
          "output_type": "stream",
          "name": "stderr",
          "text": [
            "\rt:   7%|▋         | 92/1297 [00:28<05:10,  3.88it/s, now=None]"
          ]
        },
        {
          "output_type": "stream",
          "name": "stdout",
          "text": [
            "Prediction shape: (80, 160, 1)\n",
            "Avg fit shape: (80, 160, 1)\n",
            "Blanks shape: (80, 160, 1)\n",
            "Lane drawn shape: (80, 160, 3)\n",
            "Lane image shape: (544, 960, 3)\n",
            "1/1 [==============================] - 0s 18ms/step\n"
          ]
        },
        {
          "output_type": "stream",
          "name": "stderr",
          "text": [
            "\rt:   7%|▋         | 93/1297 [00:28<05:15,  3.81it/s, now=None]"
          ]
        },
        {
          "output_type": "stream",
          "name": "stdout",
          "text": [
            "Prediction shape: (80, 160, 1)\n",
            "Avg fit shape: (80, 160, 1)\n",
            "Blanks shape: (80, 160, 1)\n",
            "Lane drawn shape: (80, 160, 3)\n",
            "Lane image shape: (544, 960, 3)\n",
            "1/1 [==============================] - 0s 18ms/step\n"
          ]
        },
        {
          "output_type": "stream",
          "name": "stderr",
          "text": [
            "\rt:   7%|▋         | 94/1297 [00:28<05:14,  3.83it/s, now=None]"
          ]
        },
        {
          "output_type": "stream",
          "name": "stdout",
          "text": [
            "Prediction shape: (80, 160, 1)\n",
            "Avg fit shape: (80, 160, 1)\n",
            "Blanks shape: (80, 160, 1)\n",
            "Lane drawn shape: (80, 160, 3)\n",
            "Lane image shape: (544, 960, 3)\n",
            "1/1 [==============================] - 0s 18ms/step\n"
          ]
        },
        {
          "output_type": "stream",
          "name": "stderr",
          "text": [
            "\rt:   7%|▋         | 95/1297 [00:29<05:15,  3.81it/s, now=None]"
          ]
        },
        {
          "output_type": "stream",
          "name": "stdout",
          "text": [
            "Prediction shape: (80, 160, 1)\n",
            "Avg fit shape: (80, 160, 1)\n",
            "Blanks shape: (80, 160, 1)\n",
            "Lane drawn shape: (80, 160, 3)\n",
            "Lane image shape: (544, 960, 3)\n",
            "1/1 [==============================] - 0s 20ms/step\n"
          ]
        },
        {
          "output_type": "stream",
          "name": "stderr",
          "text": [
            "\rt:   7%|▋         | 96/1297 [00:29<05:11,  3.86it/s, now=None]"
          ]
        },
        {
          "output_type": "stream",
          "name": "stdout",
          "text": [
            "Prediction shape: (80, 160, 1)\n",
            "Avg fit shape: (80, 160, 1)\n",
            "Blanks shape: (80, 160, 1)\n",
            "Lane drawn shape: (80, 160, 3)\n",
            "Lane image shape: (544, 960, 3)\n",
            "1/1 [==============================] - 0s 20ms/step\n"
          ]
        },
        {
          "output_type": "stream",
          "name": "stderr",
          "text": [
            "\rt:   7%|▋         | 97/1297 [00:29<05:17,  3.78it/s, now=None]"
          ]
        },
        {
          "output_type": "stream",
          "name": "stdout",
          "text": [
            "Prediction shape: (80, 160, 1)\n",
            "Avg fit shape: (80, 160, 1)\n",
            "Blanks shape: (80, 160, 1)\n",
            "Lane drawn shape: (80, 160, 3)\n",
            "Lane image shape: (544, 960, 3)\n",
            "1/1 [==============================] - 0s 18ms/step\n"
          ]
        },
        {
          "output_type": "stream",
          "name": "stderr",
          "text": [
            "\rt:   8%|▊         | 98/1297 [00:29<05:11,  3.85it/s, now=None]"
          ]
        },
        {
          "output_type": "stream",
          "name": "stdout",
          "text": [
            "Prediction shape: (80, 160, 1)\n",
            "Avg fit shape: (80, 160, 1)\n",
            "Blanks shape: (80, 160, 1)\n",
            "Lane drawn shape: (80, 160, 3)\n",
            "Lane image shape: (544, 960, 3)\n",
            "1/1 [==============================] - 0s 18ms/step\n"
          ]
        },
        {
          "output_type": "stream",
          "name": "stderr",
          "text": [
            "\rt:   8%|▊         | 99/1297 [00:30<05:09,  3.87it/s, now=None]"
          ]
        },
        {
          "output_type": "stream",
          "name": "stdout",
          "text": [
            "Prediction shape: (80, 160, 1)\n",
            "Avg fit shape: (80, 160, 1)\n",
            "Blanks shape: (80, 160, 1)\n",
            "Lane drawn shape: (80, 160, 3)\n",
            "Lane image shape: (544, 960, 3)\n",
            "1/1 [==============================] - 0s 18ms/step\n"
          ]
        },
        {
          "output_type": "stream",
          "name": "stderr",
          "text": [
            "\rt:   8%|▊         | 100/1297 [00:30<05:13,  3.82it/s, now=None]"
          ]
        },
        {
          "output_type": "stream",
          "name": "stdout",
          "text": [
            "Prediction shape: (80, 160, 1)\n",
            "Avg fit shape: (80, 160, 1)\n",
            "Blanks shape: (80, 160, 1)\n",
            "Lane drawn shape: (80, 160, 3)\n",
            "Lane image shape: (544, 960, 3)\n",
            "1/1 [==============================] - 0s 19ms/step\n"
          ]
        },
        {
          "output_type": "stream",
          "name": "stderr",
          "text": [
            "\rt:   8%|▊         | 101/1297 [00:30<05:10,  3.86it/s, now=None]"
          ]
        },
        {
          "output_type": "stream",
          "name": "stdout",
          "text": [
            "Prediction shape: (80, 160, 1)\n",
            "Avg fit shape: (80, 160, 1)\n",
            "Blanks shape: (80, 160, 1)\n",
            "Lane drawn shape: (80, 160, 3)\n",
            "Lane image shape: (544, 960, 3)\n",
            "1/1 [==============================] - 0s 18ms/step\n"
          ]
        },
        {
          "output_type": "stream",
          "name": "stderr",
          "text": [
            "\rt:   8%|▊         | 102/1297 [00:30<05:03,  3.93it/s, now=None]"
          ]
        },
        {
          "output_type": "stream",
          "name": "stdout",
          "text": [
            "Prediction shape: (80, 160, 1)\n",
            "Avg fit shape: (80, 160, 1)\n",
            "Blanks shape: (80, 160, 1)\n",
            "Lane drawn shape: (80, 160, 3)\n",
            "Lane image shape: (544, 960, 3)\n",
            "1/1 [==============================] - 0s 18ms/step\n"
          ]
        },
        {
          "output_type": "stream",
          "name": "stderr",
          "text": [
            "\rt:   8%|▊         | 103/1297 [00:31<05:05,  3.91it/s, now=None]"
          ]
        },
        {
          "output_type": "stream",
          "name": "stdout",
          "text": [
            "Prediction shape: (80, 160, 1)\n",
            "Avg fit shape: (80, 160, 1)\n",
            "Blanks shape: (80, 160, 1)\n",
            "Lane drawn shape: (80, 160, 3)\n",
            "Lane image shape: (544, 960, 3)\n",
            "1/1 [==============================] - 0s 18ms/step\n"
          ]
        },
        {
          "output_type": "stream",
          "name": "stderr",
          "text": [
            "\rt:   8%|▊         | 104/1297 [00:31<05:09,  3.85it/s, now=None]"
          ]
        },
        {
          "output_type": "stream",
          "name": "stdout",
          "text": [
            "Prediction shape: (80, 160, 1)\n",
            "Avg fit shape: (80, 160, 1)\n",
            "Blanks shape: (80, 160, 1)\n",
            "Lane drawn shape: (80, 160, 3)\n",
            "Lane image shape: (544, 960, 3)\n",
            "1/1 [==============================] - 0s 18ms/step\n"
          ]
        },
        {
          "output_type": "stream",
          "name": "stderr",
          "text": [
            "\rt:   8%|▊         | 105/1297 [00:31<05:03,  3.93it/s, now=None]"
          ]
        },
        {
          "output_type": "stream",
          "name": "stdout",
          "text": [
            "Prediction shape: (80, 160, 1)\n",
            "Avg fit shape: (80, 160, 1)\n",
            "Blanks shape: (80, 160, 1)\n",
            "Lane drawn shape: (80, 160, 3)\n",
            "Lane image shape: (544, 960, 3)\n",
            "1/1 [==============================] - 0s 18ms/step\n"
          ]
        },
        {
          "output_type": "stream",
          "name": "stderr",
          "text": [
            "\rt:   8%|▊         | 106/1297 [00:31<04:58,  3.99it/s, now=None]"
          ]
        },
        {
          "output_type": "stream",
          "name": "stdout",
          "text": [
            "Prediction shape: (80, 160, 1)\n",
            "Avg fit shape: (80, 160, 1)\n",
            "Blanks shape: (80, 160, 1)\n",
            "Lane drawn shape: (80, 160, 3)\n",
            "Lane image shape: (544, 960, 3)\n",
            "1/1 [==============================] - 0s 19ms/step\n"
          ]
        },
        {
          "output_type": "stream",
          "name": "stderr",
          "text": [
            "\rt:   8%|▊         | 107/1297 [00:32<04:58,  3.98it/s, now=None]"
          ]
        },
        {
          "output_type": "stream",
          "name": "stdout",
          "text": [
            "Prediction shape: (80, 160, 1)\n",
            "Avg fit shape: (80, 160, 1)\n",
            "Blanks shape: (80, 160, 1)\n",
            "Lane drawn shape: (80, 160, 3)\n",
            "Lane image shape: (544, 960, 3)\n",
            "1/1 [==============================] - 0s 18ms/step\n"
          ]
        },
        {
          "output_type": "stream",
          "name": "stderr",
          "text": [
            "\rt:   8%|▊         | 108/1297 [00:32<05:03,  3.92it/s, now=None]"
          ]
        },
        {
          "output_type": "stream",
          "name": "stdout",
          "text": [
            "Prediction shape: (80, 160, 1)\n",
            "Avg fit shape: (80, 160, 1)\n",
            "Blanks shape: (80, 160, 1)\n",
            "Lane drawn shape: (80, 160, 3)\n",
            "Lane image shape: (544, 960, 3)\n",
            "1/1 [==============================] - 0s 18ms/step\n"
          ]
        },
        {
          "output_type": "stream",
          "name": "stderr",
          "text": [
            "\rt:   8%|▊         | 109/1297 [00:32<05:02,  3.92it/s, now=None]"
          ]
        },
        {
          "output_type": "stream",
          "name": "stdout",
          "text": [
            "Prediction shape: (80, 160, 1)\n",
            "Avg fit shape: (80, 160, 1)\n",
            "Blanks shape: (80, 160, 1)\n",
            "Lane drawn shape: (80, 160, 3)\n",
            "Lane image shape: (544, 960, 3)\n",
            "1/1 [==============================] - 0s 18ms/step\n"
          ]
        },
        {
          "output_type": "stream",
          "name": "stderr",
          "text": [
            "\rt:   8%|▊         | 110/1297 [00:32<05:01,  3.94it/s, now=None]"
          ]
        },
        {
          "output_type": "stream",
          "name": "stdout",
          "text": [
            "Prediction shape: (80, 160, 1)\n",
            "Avg fit shape: (80, 160, 1)\n",
            "Blanks shape: (80, 160, 1)\n",
            "Lane drawn shape: (80, 160, 3)\n",
            "Lane image shape: (544, 960, 3)\n",
            "1/1 [==============================] - 0s 19ms/step\n"
          ]
        },
        {
          "output_type": "stream",
          "name": "stderr",
          "text": [
            "\rt:   9%|▊         | 111/1297 [00:33<05:00,  3.95it/s, now=None]"
          ]
        },
        {
          "output_type": "stream",
          "name": "stdout",
          "text": [
            "Prediction shape: (80, 160, 1)\n",
            "Avg fit shape: (80, 160, 1)\n",
            "Blanks shape: (80, 160, 1)\n",
            "Lane drawn shape: (80, 160, 3)\n",
            "Lane image shape: (544, 960, 3)\n",
            "1/1 [==============================] - 0s 18ms/step\n"
          ]
        },
        {
          "output_type": "stream",
          "name": "stderr",
          "text": [
            "\rt:   9%|▊         | 112/1297 [00:33<05:02,  3.92it/s, now=None]"
          ]
        },
        {
          "output_type": "stream",
          "name": "stdout",
          "text": [
            "Prediction shape: (80, 160, 1)\n",
            "Avg fit shape: (80, 160, 1)\n",
            "Blanks shape: (80, 160, 1)\n",
            "Lane drawn shape: (80, 160, 3)\n",
            "Lane image shape: (544, 960, 3)\n",
            "1/1 [==============================] - 0s 18ms/step\n"
          ]
        },
        {
          "output_type": "stream",
          "name": "stderr",
          "text": [
            "\rt:   9%|▊         | 113/1297 [00:33<04:59,  3.95it/s, now=None]"
          ]
        },
        {
          "output_type": "stream",
          "name": "stdout",
          "text": [
            "Prediction shape: (80, 160, 1)\n",
            "Avg fit shape: (80, 160, 1)\n",
            "Blanks shape: (80, 160, 1)\n",
            "Lane drawn shape: (80, 160, 3)\n",
            "Lane image shape: (544, 960, 3)\n",
            "1/1 [==============================] - 0s 18ms/step\n"
          ]
        },
        {
          "output_type": "stream",
          "name": "stderr",
          "text": [
            "\rt:   9%|▉         | 114/1297 [00:33<05:04,  3.88it/s, now=None]"
          ]
        },
        {
          "output_type": "stream",
          "name": "stdout",
          "text": [
            "Prediction shape: (80, 160, 1)\n",
            "Avg fit shape: (80, 160, 1)\n",
            "Blanks shape: (80, 160, 1)\n",
            "Lane drawn shape: (80, 160, 3)\n",
            "Lane image shape: (544, 960, 3)\n",
            "1/1 [==============================] - 0s 19ms/step\n"
          ]
        },
        {
          "output_type": "stream",
          "name": "stderr",
          "text": [
            "\rt:   9%|▉         | 115/1297 [00:34<05:10,  3.81it/s, now=None]"
          ]
        },
        {
          "output_type": "stream",
          "name": "stdout",
          "text": [
            "Prediction shape: (80, 160, 1)\n",
            "Avg fit shape: (80, 160, 1)\n",
            "Blanks shape: (80, 160, 1)\n",
            "Lane drawn shape: (80, 160, 3)\n",
            "Lane image shape: (544, 960, 3)\n",
            "1/1 [==============================] - 0s 19ms/step\n"
          ]
        },
        {
          "output_type": "stream",
          "name": "stderr",
          "text": [
            "\rt:   9%|▉         | 116/1297 [00:34<05:05,  3.87it/s, now=None]"
          ]
        },
        {
          "output_type": "stream",
          "name": "stdout",
          "text": [
            "Prediction shape: (80, 160, 1)\n",
            "Avg fit shape: (80, 160, 1)\n",
            "Blanks shape: (80, 160, 1)\n",
            "Lane drawn shape: (80, 160, 3)\n",
            "Lane image shape: (544, 960, 3)\n",
            "1/1 [==============================] - 0s 19ms/step\n"
          ]
        },
        {
          "output_type": "stream",
          "name": "stderr",
          "text": [
            "\rt:   9%|▉         | 117/1297 [00:34<05:01,  3.91it/s, now=None]"
          ]
        },
        {
          "output_type": "stream",
          "name": "stdout",
          "text": [
            "Prediction shape: (80, 160, 1)\n",
            "Avg fit shape: (80, 160, 1)\n",
            "Blanks shape: (80, 160, 1)\n",
            "Lane drawn shape: (80, 160, 3)\n",
            "Lane image shape: (544, 960, 3)\n",
            "1/1 [==============================] - 0s 19ms/step\n",
            "Prediction shape: (80, 160, 1)\n",
            "Avg fit shape: (80, 160, 1)\n",
            "Blanks shape: (80, 160, 1)\n",
            "Lane drawn shape: (80, 160, 3)\n",
            "Lane image shape: (544, 960, 3)\n"
          ]
        },
        {
          "output_type": "stream",
          "name": "stderr",
          "text": [
            "\rt:   9%|▉         | 118/1297 [00:35<05:50,  3.37it/s, now=None]"
          ]
        },
        {
          "output_type": "stream",
          "name": "stdout",
          "text": [
            "1/1 [==============================] - 0s 29ms/step\n",
            "Prediction shape: (80, 160, 1)\n",
            "Avg fit shape: (80, 160, 1)\n",
            "Blanks shape: (80, 160, 1)\n",
            "Lane drawn shape: (80, 160, 3)\n",
            "Lane image shape: (544, 960, 3)\n"
          ]
        },
        {
          "output_type": "stream",
          "name": "stderr",
          "text": [
            "\rt:   9%|▉         | 119/1297 [00:35<06:29,  3.02it/s, now=None]"
          ]
        },
        {
          "output_type": "stream",
          "name": "stdout",
          "text": [
            "1/1 [==============================] - 0s 28ms/step\n",
            "Prediction shape: (80, 160, 1)\n",
            "Avg fit shape: (80, 160, 1)\n",
            "Blanks shape: (80, 160, 1)"
          ]
        },
        {
          "output_type": "stream",
          "name": "stderr",
          "text": [
            "\rt:   9%|▉         | 120/1297 [00:35<06:54,  2.84it/s, now=None]"
          ]
        },
        {
          "output_type": "stream",
          "name": "stdout",
          "text": [
            "\n",
            "Lane drawn shape: (80, 160, 3)\n",
            "Lane image shape: (544, 960, 3)\n",
            "1/1 [==============================] - 0s 41ms/step\n",
            "Prediction shape: (80, 160, 1)\n",
            "Avg fit shape: (80, 160, 1)\n",
            "Blanks shape: (80, 160, 1)\n",
            "Lane drawn shape: (80, 160, 3)\n",
            "Lane image shape: (544, 960, 3)\n"
          ]
        },
        {
          "output_type": "stream",
          "name": "stderr",
          "text": [
            "\rt:   9%|▉         | 121/1297 [00:36<07:19,  2.67it/s, now=None]"
          ]
        },
        {
          "output_type": "stream",
          "name": "stdout",
          "text": [
            "1/1 [==============================] - 0s 39ms/step\n"
          ]
        },
        {
          "output_type": "stream",
          "name": "stderr",
          "text": [
            "\rt:   9%|▉         | 122/1297 [00:36<07:28,  2.62it/s, now=None]"
          ]
        },
        {
          "output_type": "stream",
          "name": "stdout",
          "text": [
            "Prediction shape: (80, 160, 1)\n",
            "Avg fit shape: (80, 160, 1)\n",
            "Blanks shape: (80, 160, 1)\n",
            "Lane drawn shape: (80, 160, 3)\n",
            "Lane image shape: (544, 960, 3)\n",
            "1/1 [==============================] - 0s 33ms/step\n",
            "Prediction shape: (80, 160, 1)\n",
            "Avg fit shape: (80, 160, 1)\n",
            "Blanks shape: (80, 160, 1)\n",
            "Lane drawn shape: (80, 160, 3)\n",
            "Lane image shape: (544, 960, 3)\n"
          ]
        },
        {
          "output_type": "stream",
          "name": "stderr",
          "text": [
            "\rt:   9%|▉         | 123/1297 [00:37<07:35,  2.58it/s, now=None]"
          ]
        },
        {
          "output_type": "stream",
          "name": "stdout",
          "text": [
            "1/1 [==============================] - 0s 29ms/step\n"
          ]
        },
        {
          "output_type": "stream",
          "name": "stderr",
          "text": [
            "\rt:  10%|▉         | 124/1297 [00:37<07:30,  2.60it/s, now=None]"
          ]
        },
        {
          "output_type": "stream",
          "name": "stdout",
          "text": [
            "Prediction shape: (80, 160, 1)\n",
            "Avg fit shape: (80, 160, 1)\n",
            "Blanks shape: (80, 160, 1)\n",
            "Lane drawn shape: (80, 160, 3)\n",
            "Lane image shape: (544, 960, 3)\n",
            "1/1 [==============================] - 0s 31ms/step\n"
          ]
        },
        {
          "output_type": "stream",
          "name": "stderr",
          "text": [
            "\rt:  10%|▉         | 125/1297 [00:37<07:45,  2.52it/s, now=None]"
          ]
        },
        {
          "output_type": "stream",
          "name": "stdout",
          "text": [
            "Prediction shape: (80, 160, 1)\n",
            "Avg fit shape: (80, 160, 1)\n",
            "Blanks shape: (80, 160, 1)\n",
            "Lane drawn shape: (80, 160, 3)\n",
            "Lane image shape: (544, 960, 3)\n",
            "1/1 [==============================] - 0s 43ms/step\n"
          ]
        },
        {
          "output_type": "stream",
          "name": "stderr",
          "text": [
            "\rt:  10%|▉         | 126/1297 [00:38<07:58,  2.45it/s, now=None]"
          ]
        },
        {
          "output_type": "stream",
          "name": "stdout",
          "text": [
            "Prediction shape: (80, 160, 1)\n",
            "Avg fit shape: (80, 160, 1)\n",
            "Blanks shape: (80, 160, 1)\n",
            "Lane drawn shape: (80, 160, 3)\n",
            "Lane image shape: (544, 960, 3)\n",
            "1/1 [==============================] - 0s 40ms/step\n"
          ]
        },
        {
          "output_type": "stream",
          "name": "stderr",
          "text": [
            "\rt:  10%|▉         | 127/1297 [00:38<07:47,  2.50it/s, now=None]"
          ]
        },
        {
          "output_type": "stream",
          "name": "stdout",
          "text": [
            "Prediction shape: (80, 160, 1)\n",
            "Avg fit shape: (80, 160, 1)\n",
            "Blanks shape: (80, 160, 1)\n",
            "Lane drawn shape: (80, 160, 3)\n",
            "Lane image shape: (544, 960, 3)\n",
            "1/1 [==============================] - 0s 33ms/step\n",
            "Prediction shape: (80, 160, 1)\n",
            "Avg fit shape: (80, 160, 1)\n",
            "Blanks shape: (80, 160, 1)\n",
            "Lane drawn shape: (80, 160, 3)\n",
            "Lane image shape: (544, 960, 3)\n"
          ]
        },
        {
          "output_type": "stream",
          "name": "stderr",
          "text": [
            "\rt:  10%|▉         | 128/1297 [00:39<07:44,  2.52it/s, now=None]"
          ]
        },
        {
          "output_type": "stream",
          "name": "stdout",
          "text": [
            "1/1 [==============================] - 0s 27ms/step\n"
          ]
        },
        {
          "output_type": "stream",
          "name": "stderr",
          "text": [
            "\rt:  10%|▉         | 129/1297 [00:39<07:51,  2.48it/s, now=None]"
          ]
        },
        {
          "output_type": "stream",
          "name": "stdout",
          "text": [
            "Prediction shape: (80, 160, 1)\n",
            "Avg fit shape: (80, 160, 1)\n",
            "Blanks shape: (80, 160, 1)\n",
            "Lane drawn shape: (80, 160, 3)\n",
            "Lane image shape: (544, 960, 3)\n",
            "1/1 [==============================] - 0s 28ms/step\n"
          ]
        },
        {
          "output_type": "stream",
          "name": "stderr",
          "text": [
            "\rt:  10%|█         | 130/1297 [00:39<07:54,  2.46it/s, now=None]"
          ]
        },
        {
          "output_type": "stream",
          "name": "stdout",
          "text": [
            "Prediction shape: (80, 160, 1)\n",
            "Avg fit shape: (80, 160, 1)\n",
            "Blanks shape: (80, 160, 1)\n",
            "Lane drawn shape: (80, 160, 3)\n",
            "Lane image shape: (544, 960, 3)\n",
            "1/1 [==============================] - 0s 19ms/step\n"
          ]
        },
        {
          "output_type": "stream",
          "name": "stderr",
          "text": [
            "\rt:  10%|█         | 131/1297 [00:40<07:16,  2.67it/s, now=None]"
          ]
        },
        {
          "output_type": "stream",
          "name": "stdout",
          "text": [
            "Prediction shape: (80, 160, 1)\n",
            "Avg fit shape: (80, 160, 1)\n",
            "Blanks shape: (80, 160, 1)\n",
            "Lane drawn shape: (80, 160, 3)\n",
            "Lane image shape: (544, 960, 3)\n",
            "1/1 [==============================] - 0s 18ms/step\n"
          ]
        },
        {
          "output_type": "stream",
          "name": "stderr",
          "text": [
            "\rt:  10%|█         | 132/1297 [00:40<06:33,  2.96it/s, now=None]"
          ]
        },
        {
          "output_type": "stream",
          "name": "stdout",
          "text": [
            "Prediction shape: (80, 160, 1)\n",
            "Avg fit shape: (80, 160, 1)\n",
            "Blanks shape: (80, 160, 1)\n",
            "Lane drawn shape: (80, 160, 3)\n",
            "Lane image shape: (544, 960, 3)\n",
            "1/1 [==============================] - 0s 18ms/step\n"
          ]
        },
        {
          "output_type": "stream",
          "name": "stderr",
          "text": [
            "\rt:  10%|█         | 133/1297 [00:40<06:08,  3.16it/s, now=None]"
          ]
        },
        {
          "output_type": "stream",
          "name": "stdout",
          "text": [
            "Prediction shape: (80, 160, 1)\n",
            "Avg fit shape: (80, 160, 1)\n",
            "Blanks shape: (80, 160, 1)\n",
            "Lane drawn shape: (80, 160, 3)\n",
            "Lane image shape: (544, 960, 3)\n",
            "1/1 [==============================] - 0s 18ms/step\n"
          ]
        },
        {
          "output_type": "stream",
          "name": "stderr",
          "text": [
            "\rt:  10%|█         | 134/1297 [00:40<05:44,  3.37it/s, now=None]"
          ]
        },
        {
          "output_type": "stream",
          "name": "stdout",
          "text": [
            "Prediction shape: (80, 160, 1)\n",
            "Avg fit shape: (80, 160, 1)\n",
            "Blanks shape: (80, 160, 1)\n",
            "Lane drawn shape: (80, 160, 3)\n",
            "Lane image shape: (544, 960, 3)\n",
            "1/1 [==============================] - 0s 18ms/step\n"
          ]
        },
        {
          "output_type": "stream",
          "name": "stderr",
          "text": [
            "\rt:  10%|█         | 135/1297 [00:41<05:27,  3.55it/s, now=None]"
          ]
        },
        {
          "output_type": "stream",
          "name": "stdout",
          "text": [
            "Prediction shape: (80, 160, 1)\n",
            "Avg fit shape: (80, 160, 1)\n",
            "Blanks shape: (80, 160, 1)\n",
            "Lane drawn shape: (80, 160, 3)\n",
            "Lane image shape: (544, 960, 3)\n",
            "1/1 [==============================] - 0s 18ms/step\n"
          ]
        },
        {
          "output_type": "stream",
          "name": "stderr",
          "text": [
            "\rt:  10%|█         | 136/1297 [00:41<05:17,  3.66it/s, now=None]"
          ]
        },
        {
          "output_type": "stream",
          "name": "stdout",
          "text": [
            "Prediction shape: (80, 160, 1)\n",
            "Avg fit shape: (80, 160, 1)\n",
            "Blanks shape: (80, 160, 1)\n",
            "Lane drawn shape: (80, 160, 3)\n",
            "Lane image shape: (544, 960, 3)\n",
            "1/1 [==============================] - 0s 18ms/step\n"
          ]
        },
        {
          "output_type": "stream",
          "name": "stderr",
          "text": [
            "\rt:  11%|█         | 137/1297 [00:41<05:13,  3.70it/s, now=None]"
          ]
        },
        {
          "output_type": "stream",
          "name": "stdout",
          "text": [
            "Prediction shape: (80, 160, 1)\n",
            "Avg fit shape: (80, 160, 1)\n",
            "Blanks shape: (80, 160, 1)\n",
            "Lane drawn shape: (80, 160, 3)\n",
            "Lane image shape: (544, 960, 3)\n",
            "1/1 [==============================] - 0s 17ms/step\n"
          ]
        },
        {
          "output_type": "stream",
          "name": "stderr",
          "text": [
            "\rt:  11%|█         | 138/1297 [00:42<05:05,  3.79it/s, now=None]"
          ]
        },
        {
          "output_type": "stream",
          "name": "stdout",
          "text": [
            "Prediction shape: (80, 160, 1)\n",
            "Avg fit shape: (80, 160, 1)\n",
            "Blanks shape: (80, 160, 1)\n",
            "Lane drawn shape: (80, 160, 3)\n",
            "Lane image shape: (544, 960, 3)\n",
            "1/1 [==============================] - 0s 18ms/step\n"
          ]
        },
        {
          "output_type": "stream",
          "name": "stderr",
          "text": [
            "\rt:  11%|█         | 139/1297 [00:42<05:10,  3.73it/s, now=None]"
          ]
        },
        {
          "output_type": "stream",
          "name": "stdout",
          "text": [
            "Prediction shape: (80, 160, 1)\n",
            "Avg fit shape: (80, 160, 1)\n",
            "Blanks shape: (80, 160, 1)\n",
            "Lane drawn shape: (80, 160, 3)\n",
            "Lane image shape: (544, 960, 3)\n",
            "1/1 [==============================] - 0s 18ms/step\n"
          ]
        },
        {
          "output_type": "stream",
          "name": "stderr",
          "text": [
            "\rt:  11%|█         | 140/1297 [00:42<05:12,  3.70it/s, now=None]"
          ]
        },
        {
          "output_type": "stream",
          "name": "stdout",
          "text": [
            "Prediction shape: (80, 160, 1)\n",
            "Avg fit shape: (80, 160, 1)\n",
            "Blanks shape: (80, 160, 1)\n",
            "Lane drawn shape: (80, 160, 3)\n",
            "Lane image shape: (544, 960, 3)\n",
            "1/1 [==============================] - 0s 18ms/step\n"
          ]
        },
        {
          "output_type": "stream",
          "name": "stderr",
          "text": [
            "\rt:  11%|█         | 141/1297 [00:42<05:03,  3.81it/s, now=None]"
          ]
        },
        {
          "output_type": "stream",
          "name": "stdout",
          "text": [
            "Prediction shape: (80, 160, 1)\n",
            "Avg fit shape: (80, 160, 1)\n",
            "Blanks shape: (80, 160, 1)\n",
            "Lane drawn shape: (80, 160, 3)\n",
            "Lane image shape: (544, 960, 3)\n",
            "1/1 [==============================] - 0s 18ms/step\n"
          ]
        },
        {
          "output_type": "stream",
          "name": "stderr",
          "text": [
            "\rt:  11%|█         | 142/1297 [00:43<05:01,  3.83it/s, now=None]"
          ]
        },
        {
          "output_type": "stream",
          "name": "stdout",
          "text": [
            "Prediction shape: (80, 160, 1)\n",
            "Avg fit shape: (80, 160, 1)\n",
            "Blanks shape: (80, 160, 1)\n",
            "Lane drawn shape: (80, 160, 3)\n",
            "Lane image shape: (544, 960, 3)\n",
            "1/1 [==============================] - 0s 19ms/step\n"
          ]
        },
        {
          "output_type": "stream",
          "name": "stderr",
          "text": [
            "\rt:  11%|█         | 143/1297 [00:43<05:04,  3.80it/s, now=None]"
          ]
        },
        {
          "output_type": "stream",
          "name": "stdout",
          "text": [
            "Prediction shape: (80, 160, 1)\n",
            "Avg fit shape: (80, 160, 1)\n",
            "Blanks shape: (80, 160, 1)\n",
            "Lane drawn shape: (80, 160, 3)\n",
            "Lane image shape: (544, 960, 3)\n",
            "1/1 [==============================] - 0s 19ms/step\n"
          ]
        },
        {
          "output_type": "stream",
          "name": "stderr",
          "text": [
            "\rt:  11%|█         | 144/1297 [00:43<05:01,  3.82it/s, now=None]"
          ]
        },
        {
          "output_type": "stream",
          "name": "stdout",
          "text": [
            "Prediction shape: (80, 160, 1)\n",
            "Avg fit shape: (80, 160, 1)\n",
            "Blanks shape: (80, 160, 1)\n",
            "Lane drawn shape: (80, 160, 3)\n",
            "Lane image shape: (544, 960, 3)\n",
            "1/1 [==============================] - 0s 19ms/step\n"
          ]
        },
        {
          "output_type": "stream",
          "name": "stderr",
          "text": [
            "\rt:  11%|█         | 145/1297 [00:43<04:53,  3.92it/s, now=None]"
          ]
        },
        {
          "output_type": "stream",
          "name": "stdout",
          "text": [
            "Prediction shape: (80, 160, 1)\n",
            "Avg fit shape: (80, 160, 1)\n",
            "Blanks shape: (80, 160, 1)\n",
            "Lane drawn shape: (80, 160, 3)\n",
            "Lane image shape: (544, 960, 3)\n",
            "1/1 [==============================] - 0s 18ms/step\n"
          ]
        },
        {
          "output_type": "stream",
          "name": "stderr",
          "text": [
            "\rt:  11%|█▏        | 146/1297 [00:44<04:52,  3.94it/s, now=None]"
          ]
        },
        {
          "output_type": "stream",
          "name": "stdout",
          "text": [
            "Prediction shape: (80, 160, 1)\n",
            "Avg fit shape: (80, 160, 1)\n",
            "Blanks shape: (80, 160, 1)\n",
            "Lane drawn shape: (80, 160, 3)\n",
            "Lane image shape: (544, 960, 3)\n",
            "1/1 [==============================] - 0s 18ms/step\n"
          ]
        },
        {
          "output_type": "stream",
          "name": "stderr",
          "text": [
            "\rt:  11%|█▏        | 147/1297 [00:44<04:59,  3.83it/s, now=None]"
          ]
        },
        {
          "output_type": "stream",
          "name": "stdout",
          "text": [
            "Prediction shape: (80, 160, 1)\n",
            "Avg fit shape: (80, 160, 1)\n",
            "Blanks shape: (80, 160, 1)\n",
            "Lane drawn shape: (80, 160, 3)\n",
            "Lane image shape: (544, 960, 3)\n",
            "1/1 [==============================] - 0s 20ms/step\n"
          ]
        },
        {
          "output_type": "stream",
          "name": "stderr",
          "text": [
            "\rt:  11%|█▏        | 148/1297 [00:44<04:57,  3.86it/s, now=None]"
          ]
        },
        {
          "output_type": "stream",
          "name": "stdout",
          "text": [
            "Prediction shape: (80, 160, 1)\n",
            "Avg fit shape: (80, 160, 1)\n",
            "Blanks shape: (80, 160, 1)\n",
            "Lane drawn shape: (80, 160, 3)\n",
            "Lane image shape: (544, 960, 3)\n",
            "1/1 [==============================] - 0s 18ms/step\n"
          ]
        },
        {
          "output_type": "stream",
          "name": "stderr",
          "text": [
            "\rt:  11%|█▏        | 149/1297 [00:44<04:53,  3.91it/s, now=None]"
          ]
        },
        {
          "output_type": "stream",
          "name": "stdout",
          "text": [
            "Prediction shape: (80, 160, 1)\n",
            "Avg fit shape: (80, 160, 1)\n",
            "Blanks shape: (80, 160, 1)\n",
            "Lane drawn shape: (80, 160, 3)\n",
            "Lane image shape: (544, 960, 3)\n",
            "1/1 [==============================] - 0s 19ms/step\n"
          ]
        },
        {
          "output_type": "stream",
          "name": "stderr",
          "text": [
            "\rt:  12%|█▏        | 150/1297 [00:45<04:48,  3.97it/s, now=None]"
          ]
        },
        {
          "output_type": "stream",
          "name": "stdout",
          "text": [
            "Prediction shape: (80, 160, 1)\n",
            "Avg fit shape: (80, 160, 1)\n",
            "Blanks shape: (80, 160, 1)\n",
            "Lane drawn shape: (80, 160, 3)\n",
            "Lane image shape: (544, 960, 3)\n",
            "1/1 [==============================] - 0s 18ms/step\n"
          ]
        },
        {
          "output_type": "stream",
          "name": "stderr",
          "text": [
            "\rt:  12%|█▏        | 151/1297 [00:45<04:56,  3.86it/s, now=None]"
          ]
        },
        {
          "output_type": "stream",
          "name": "stdout",
          "text": [
            "Prediction shape: (80, 160, 1)\n",
            "Avg fit shape: (80, 160, 1)\n",
            "Blanks shape: (80, 160, 1)\n",
            "Lane drawn shape: (80, 160, 3)\n",
            "Lane image shape: (544, 960, 3)\n",
            "1/1 [==============================] - 0s 18ms/step\n"
          ]
        },
        {
          "output_type": "stream",
          "name": "stderr",
          "text": [
            "\rt:  12%|█▏        | 152/1297 [00:45<04:59,  3.82it/s, now=None]"
          ]
        },
        {
          "output_type": "stream",
          "name": "stdout",
          "text": [
            "Prediction shape: (80, 160, 1)\n",
            "Avg fit shape: (80, 160, 1)\n",
            "Blanks shape: (80, 160, 1)\n",
            "Lane drawn shape: (80, 160, 3)\n",
            "Lane image shape: (544, 960, 3)\n",
            "1/1 [==============================] - 0s 18ms/step\n"
          ]
        },
        {
          "output_type": "stream",
          "name": "stderr",
          "text": [
            "\rt:  12%|█▏        | 153/1297 [00:45<04:54,  3.88it/s, now=None]"
          ]
        },
        {
          "output_type": "stream",
          "name": "stdout",
          "text": [
            "Prediction shape: (80, 160, 1)\n",
            "Avg fit shape: (80, 160, 1)\n",
            "Blanks shape: (80, 160, 1)\n",
            "Lane drawn shape: (80, 160, 3)\n",
            "Lane image shape: (544, 960, 3)\n",
            "1/1 [==============================] - 0s 20ms/step\n"
          ]
        },
        {
          "output_type": "stream",
          "name": "stderr",
          "text": [
            "\rt:  12%|█▏        | 154/1297 [00:46<04:49,  3.94it/s, now=None]"
          ]
        },
        {
          "output_type": "stream",
          "name": "stdout",
          "text": [
            "Prediction shape: (80, 160, 1)\n",
            "Avg fit shape: (80, 160, 1)\n",
            "Blanks shape: (80, 160, 1)\n",
            "Lane drawn shape: (80, 160, 3)\n",
            "Lane image shape: (544, 960, 3)\n",
            "1/1 [==============================] - 0s 19ms/step\n"
          ]
        },
        {
          "output_type": "stream",
          "name": "stderr",
          "text": [
            "\rt:  12%|█▏        | 155/1297 [00:46<04:45,  4.00it/s, now=None]"
          ]
        },
        {
          "output_type": "stream",
          "name": "stdout",
          "text": [
            "Prediction shape: (80, 160, 1)\n",
            "Avg fit shape: (80, 160, 1)\n",
            "Blanks shape: (80, 160, 1)\n",
            "Lane drawn shape: (80, 160, 3)\n",
            "Lane image shape: (544, 960, 3)\n",
            "1/1 [==============================] - 0s 18ms/step\n"
          ]
        },
        {
          "output_type": "stream",
          "name": "stderr",
          "text": [
            "\rt:  12%|█▏        | 156/1297 [00:46<04:47,  3.97it/s, now=None]"
          ]
        },
        {
          "output_type": "stream",
          "name": "stdout",
          "text": [
            "Prediction shape: (80, 160, 1)\n",
            "Avg fit shape: (80, 160, 1)\n",
            "Blanks shape: (80, 160, 1)\n",
            "Lane drawn shape: (80, 160, 3)\n",
            "Lane image shape: (544, 960, 3)\n",
            "1/1 [==============================] - 0s 18ms/step\n"
          ]
        },
        {
          "output_type": "stream",
          "name": "stderr",
          "text": [
            "\rt:  12%|█▏        | 157/1297 [00:46<04:55,  3.85it/s, now=None]"
          ]
        },
        {
          "output_type": "stream",
          "name": "stdout",
          "text": [
            "Prediction shape: (80, 160, 1)\n",
            "Avg fit shape: (80, 160, 1)\n",
            "Blanks shape: (80, 160, 1)\n",
            "Lane drawn shape: (80, 160, 3)\n",
            "Lane image shape: (544, 960, 3)\n",
            "1/1 [==============================] - 0s 20ms/step\n"
          ]
        },
        {
          "output_type": "stream",
          "name": "stderr",
          "text": [
            "\rt:  12%|█▏        | 158/1297 [00:47<05:03,  3.76it/s, now=None]"
          ]
        },
        {
          "output_type": "stream",
          "name": "stdout",
          "text": [
            "Prediction shape: (80, 160, 1)\n",
            "Avg fit shape: (80, 160, 1)\n",
            "Blanks shape: (80, 160, 1)\n",
            "Lane drawn shape: (80, 160, 3)\n",
            "Lane image shape: (544, 960, 3)\n",
            "1/1 [==============================] - 0s 19ms/step\n"
          ]
        },
        {
          "output_type": "stream",
          "name": "stderr",
          "text": [
            "\rt:  12%|█▏        | 159/1297 [00:47<04:58,  3.81it/s, now=None]"
          ]
        },
        {
          "output_type": "stream",
          "name": "stdout",
          "text": [
            "Prediction shape: (80, 160, 1)\n",
            "Avg fit shape: (80, 160, 1)\n",
            "Blanks shape: (80, 160, 1)\n",
            "Lane drawn shape: (80, 160, 3)\n",
            "Lane image shape: (544, 960, 3)\n",
            "1/1 [==============================] - 0s 19ms/step\n"
          ]
        },
        {
          "output_type": "stream",
          "name": "stderr",
          "text": [
            "\rt:  12%|█▏        | 160/1297 [00:47<04:58,  3.81it/s, now=None]"
          ]
        },
        {
          "output_type": "stream",
          "name": "stdout",
          "text": [
            "Prediction shape: (80, 160, 1)\n",
            "Avg fit shape: (80, 160, 1)\n",
            "Blanks shape: (80, 160, 1)\n",
            "Lane drawn shape: (80, 160, 3)\n",
            "Lane image shape: (544, 960, 3)\n",
            "1/1 [==============================] - 0s 18ms/step\n"
          ]
        },
        {
          "output_type": "stream",
          "name": "stderr",
          "text": [
            "\rt:  12%|█▏        | 161/1297 [00:47<04:53,  3.87it/s, now=None]"
          ]
        },
        {
          "output_type": "stream",
          "name": "stdout",
          "text": [
            "Prediction shape: (80, 160, 1)\n",
            "Avg fit shape: (80, 160, 1)\n",
            "Blanks shape: (80, 160, 1)\n",
            "Lane drawn shape: (80, 160, 3)\n",
            "Lane image shape: (544, 960, 3)\n",
            "1/1 [==============================] - 0s 19ms/step\n"
          ]
        },
        {
          "output_type": "stream",
          "name": "stderr",
          "text": [
            "\rt:  12%|█▏        | 162/1297 [00:48<04:59,  3.79it/s, now=None]"
          ]
        },
        {
          "output_type": "stream",
          "name": "stdout",
          "text": [
            "Prediction shape: (80, 160, 1)\n",
            "Avg fit shape: (80, 160, 1)\n",
            "Blanks shape: (80, 160, 1)\n",
            "Lane drawn shape: (80, 160, 3)\n",
            "Lane image shape: (544, 960, 3)\n",
            "1/1 [==============================] - 0s 18ms/step\n"
          ]
        },
        {
          "output_type": "stream",
          "name": "stderr",
          "text": [
            "\rt:  13%|█▎        | 163/1297 [00:48<04:53,  3.86it/s, now=None]"
          ]
        },
        {
          "output_type": "stream",
          "name": "stdout",
          "text": [
            "Prediction shape: (80, 160, 1)\n",
            "Avg fit shape: (80, 160, 1)\n",
            "Blanks shape: (80, 160, 1)\n",
            "Lane drawn shape: (80, 160, 3)\n",
            "Lane image shape: (544, 960, 3)\n",
            "1/1 [==============================] - 0s 18ms/step\n"
          ]
        },
        {
          "output_type": "stream",
          "name": "stderr",
          "text": [
            "\rt:  13%|█▎        | 164/1297 [00:48<04:51,  3.89it/s, now=None]"
          ]
        },
        {
          "output_type": "stream",
          "name": "stdout",
          "text": [
            "Prediction shape: (80, 160, 1)\n",
            "Avg fit shape: (80, 160, 1)\n",
            "Blanks shape: (80, 160, 1)\n",
            "Lane drawn shape: (80, 160, 3)\n",
            "Lane image shape: (544, 960, 3)\n",
            "1/1 [==============================] - 0s 17ms/step\n"
          ]
        },
        {
          "output_type": "stream",
          "name": "stderr",
          "text": [
            "\rt:  13%|█▎        | 165/1297 [00:48<04:47,  3.94it/s, now=None]"
          ]
        },
        {
          "output_type": "stream",
          "name": "stdout",
          "text": [
            "Prediction shape: (80, 160, 1)\n",
            "Avg fit shape: (80, 160, 1)\n",
            "Blanks shape: (80, 160, 1)\n",
            "Lane drawn shape: (80, 160, 3)\n",
            "Lane image shape: (544, 960, 3)\n",
            "1/1 [==============================] - 0s 18ms/step\n"
          ]
        },
        {
          "output_type": "stream",
          "name": "stderr",
          "text": [
            "\rt:  13%|█▎        | 166/1297 [00:49<04:50,  3.89it/s, now=None]"
          ]
        },
        {
          "output_type": "stream",
          "name": "stdout",
          "text": [
            "Prediction shape: (80, 160, 1)\n",
            "Avg fit shape: (80, 160, 1)\n",
            "Blanks shape: (80, 160, 1)\n",
            "Lane drawn shape: (80, 160, 3)\n",
            "Lane image shape: (544, 960, 3)\n",
            "1/1 [==============================] - 0s 18ms/step\n"
          ]
        },
        {
          "output_type": "stream",
          "name": "stderr",
          "text": [
            "\rt:  13%|█▎        | 167/1297 [00:49<04:51,  3.87it/s, now=None]"
          ]
        },
        {
          "output_type": "stream",
          "name": "stdout",
          "text": [
            "Prediction shape: (80, 160, 1)\n",
            "Avg fit shape: (80, 160, 1)\n",
            "Blanks shape: (80, 160, 1)\n",
            "Lane drawn shape: (80, 160, 3)\n",
            "Lane image shape: (544, 960, 3)\n",
            "1/1 [==============================] - 0s 18ms/step\n"
          ]
        },
        {
          "output_type": "stream",
          "name": "stderr",
          "text": [
            "\rt:  13%|█▎        | 168/1297 [00:49<04:47,  3.93it/s, now=None]"
          ]
        },
        {
          "output_type": "stream",
          "name": "stdout",
          "text": [
            "Prediction shape: (80, 160, 1)\n",
            "Avg fit shape: (80, 160, 1)\n",
            "Blanks shape: (80, 160, 1)\n",
            "Lane drawn shape: (80, 160, 3)\n",
            "Lane image shape: (544, 960, 3)\n",
            "1/1 [==============================] - 0s 19ms/step\n"
          ]
        },
        {
          "output_type": "stream",
          "name": "stderr",
          "text": [
            "\rt:  13%|█▎        | 169/1297 [00:50<04:49,  3.89it/s, now=None]"
          ]
        },
        {
          "output_type": "stream",
          "name": "stdout",
          "text": [
            "Prediction shape: (80, 160, 1)\n",
            "Avg fit shape: (80, 160, 1)\n",
            "Blanks shape: (80, 160, 1)\n",
            "Lane drawn shape: (80, 160, 3)\n",
            "Lane image shape: (544, 960, 3)\n",
            "1/1 [==============================] - 0s 32ms/step\n"
          ]
        },
        {
          "output_type": "stream",
          "name": "stderr",
          "text": [
            "\rt:  13%|█▎        | 170/1297 [00:50<05:45,  3.26it/s, now=None]"
          ]
        },
        {
          "output_type": "stream",
          "name": "stdout",
          "text": [
            "Prediction shape: (80, 160, 1)\n",
            "Avg fit shape: (80, 160, 1)\n",
            "Blanks shape: (80, 160, 1)\n",
            "Lane drawn shape: (80, 160, 3)\n",
            "Lane image shape: (544, 960, 3)\n",
            "1/1 [==============================] - 0s 26ms/step\n",
            "Prediction shape: (80, 160, 1)\n",
            "Avg fit shape: (80, 160, 1)\n",
            "Blanks shape: (80, 160, 1)\n",
            "Lane drawn shape: (80, 160, 3)\n",
            "Lane image shape: (544, 960, 3)\n"
          ]
        },
        {
          "output_type": "stream",
          "name": "stderr",
          "text": [
            "\rt:  13%|█▎        | 171/1297 [00:50<06:23,  2.93it/s, now=None]"
          ]
        },
        {
          "output_type": "stream",
          "name": "stdout",
          "text": [
            "1/1 [==============================] - 0s 31ms/step\n",
            "Prediction shape: (80, 160, 1)\n",
            "Avg fit shape: (80, 160, 1)\n",
            "Blanks shape: (80, 160, 1)\n",
            "Lane drawn shape: (80, 160, 3)\n",
            "Lane image shape: (544, 960, 3)\n"
          ]
        },
        {
          "output_type": "stream",
          "name": "stderr",
          "text": [
            "\rt:  13%|█▎        | 172/1297 [00:51<06:42,  2.79it/s, now=None]"
          ]
        },
        {
          "output_type": "stream",
          "name": "stdout",
          "text": [
            "1/1 [==============================] - 0s 33ms/step\n"
          ]
        },
        {
          "output_type": "stream",
          "name": "stderr",
          "text": [
            "\rt:  13%|█▎        | 173/1297 [00:51<07:03,  2.65it/s, now=None]"
          ]
        },
        {
          "output_type": "stream",
          "name": "stdout",
          "text": [
            "Prediction shape: (80, 160, 1)\n",
            "Avg fit shape: (80, 160, 1)\n",
            "Blanks shape: (80, 160, 1)\n",
            "Lane drawn shape: (80, 160, 3)\n",
            "Lane image shape: (544, 960, 3)\n",
            "1/1 [==============================] - 0s 37ms/step\n"
          ]
        },
        {
          "output_type": "stream",
          "name": "stderr",
          "text": [
            "\rt:  13%|█▎        | 174/1297 [00:52<07:19,  2.55it/s, now=None]"
          ]
        },
        {
          "output_type": "stream",
          "name": "stdout",
          "text": [
            "Prediction shape: (80, 160, 1)\n",
            "Avg fit shape: (80, 160, 1)\n",
            "Blanks shape: (80, 160, 1)\n",
            "Lane drawn shape: (80, 160, 3)\n",
            "Lane image shape: (544, 960, 3)\n",
            "1/1 [==============================] - 0s 28ms/step\n"
          ]
        },
        {
          "output_type": "stream",
          "name": "stderr",
          "text": [
            "\rt:  13%|█▎        | 175/1297 [00:52<07:30,  2.49it/s, now=None]"
          ]
        },
        {
          "output_type": "stream",
          "name": "stdout",
          "text": [
            "Prediction shape: (80, 160, 1)\n",
            "Avg fit shape: (80, 160, 1)\n",
            "Blanks shape: (80, 160, 1)\n",
            "Lane drawn shape: (80, 160, 3)\n",
            "Lane image shape: (544, 960, 3)\n",
            "1/1 [==============================] - 0s 33ms/step\n"
          ]
        },
        {
          "output_type": "stream",
          "name": "stderr",
          "text": [
            "\rt:  14%|█▎        | 176/1297 [00:52<07:32,  2.47it/s, now=None]"
          ]
        },
        {
          "output_type": "stream",
          "name": "stdout",
          "text": [
            "Prediction shape: (80, 160, 1)\n",
            "Avg fit shape: (80, 160, 1)\n",
            "Blanks shape: (80, 160, 1)\n",
            "Lane drawn shape: (80, 160, 3)\n",
            "Lane image shape: (544, 960, 3)\n",
            "1/1 [==============================] - 0s 28ms/step\n",
            "Prediction shape: (80, 160, 1)\n",
            "Avg fit shape: (80, 160, 1)\n",
            "Blanks shape: (80, 160, 1)\n",
            "Lane drawn shape: (80, 160, 3)\n",
            "Lane image shape: (544, 960, 3)\n"
          ]
        },
        {
          "output_type": "stream",
          "name": "stderr",
          "text": [
            "\rt:  14%|█▎        | 177/1297 [00:53<07:32,  2.47it/s, now=None]"
          ]
        },
        {
          "output_type": "stream",
          "name": "stdout",
          "text": [
            "1/1 [==============================] - 0s 34ms/step\n"
          ]
        },
        {
          "output_type": "stream",
          "name": "stderr",
          "text": [
            "\rt:  14%|█▎        | 178/1297 [00:53<07:44,  2.41it/s, now=None]"
          ]
        },
        {
          "output_type": "stream",
          "name": "stdout",
          "text": [
            "Prediction shape: (80, 160, 1)\n",
            "Avg fit shape: (80, 160, 1)\n",
            "Blanks shape: (80, 160, 1)\n",
            "Lane drawn shape: (80, 160, 3)\n",
            "Lane image shape: (544, 960, 3)\n",
            "1/1 [==============================] - 0s 28ms/step\n",
            "Prediction shape: (80, 160, 1)\n",
            "Avg fit shape: (80, 160, 1)\n",
            "Blanks shape: (80, 160, 1)\n",
            "Lane drawn shape: (80, 160, 3)\n",
            "Lane image shape: (544, 960, 3)\n"
          ]
        },
        {
          "output_type": "stream",
          "name": "stderr",
          "text": [
            "\rt:  14%|█▍        | 179/1297 [00:54<07:34,  2.46it/s, now=None]"
          ]
        },
        {
          "output_type": "stream",
          "name": "stdout",
          "text": [
            "1/1 [==============================] - 0s 31ms/step\n"
          ]
        },
        {
          "output_type": "stream",
          "name": "stderr",
          "text": [
            "\rt:  14%|█▍        | 180/1297 [00:54<07:43,  2.41it/s, now=None]"
          ]
        },
        {
          "output_type": "stream",
          "name": "stdout",
          "text": [
            "Prediction shape: (80, 160, 1)\n",
            "Avg fit shape: (80, 160, 1)\n",
            "Blanks shape: (80, 160, 1)\n",
            "Lane drawn shape: (80, 160, 3)\n",
            "Lane image shape: (544, 960, 3)\n",
            "1/1 [==============================] - 0s 28ms/step\n",
            "Prediction shape:"
          ]
        },
        {
          "output_type": "stream",
          "name": "stderr",
          "text": [
            "\rt:  14%|█▍        | 181/1297 [00:55<07:53,  2.36it/s, now=None]"
          ]
        },
        {
          "output_type": "stream",
          "name": "stdout",
          "text": [
            " (80, 160, 1)\n",
            "Avg fit shape: (80, 160, 1)\n",
            "Blanks shape: (80, 160, 1)\n",
            "Lane drawn shape: (80, 160, 3)\n",
            "Lane image shape: (544, 960, 3)\n",
            "1/1 [==============================] - 0s 55ms/step\n"
          ]
        },
        {
          "output_type": "stream",
          "name": "stderr",
          "text": [
            "\rt:  14%|█▍        | 182/1297 [00:55<07:53,  2.35it/s, now=None]"
          ]
        },
        {
          "output_type": "stream",
          "name": "stdout",
          "text": [
            "Prediction shape: (80, 160, 1)\n",
            "Avg fit shape: (80, 160, 1)\n",
            "Blanks shape: (80, 160, 1)\n",
            "Lane drawn shape: (80, 160, 3)\n",
            "Lane image shape: (544, 960, 3)\n",
            "1/1 [==============================] - 0s 19ms/step\n"
          ]
        },
        {
          "output_type": "stream",
          "name": "stderr",
          "text": [
            "\rt:  14%|█▍        | 183/1297 [00:55<06:59,  2.66it/s, now=None]"
          ]
        },
        {
          "output_type": "stream",
          "name": "stdout",
          "text": [
            "Prediction shape: (80, 160, 1)\n",
            "Avg fit shape: (80, 160, 1)\n",
            "Blanks shape: (80, 160, 1)\n",
            "Lane drawn shape: (80, 160, 3)\n",
            "Lane image shape: (544, 960, 3)\n",
            "1/1 [==============================] - 0s 19ms/step\n"
          ]
        },
        {
          "output_type": "stream",
          "name": "stderr",
          "text": [
            "\rt:  14%|█▍        | 184/1297 [00:56<06:21,  2.92it/s, now=None]"
          ]
        },
        {
          "output_type": "stream",
          "name": "stdout",
          "text": [
            "Prediction shape: (80, 160, 1)\n",
            "Avg fit shape: (80, 160, 1)\n",
            "Blanks shape: (80, 160, 1)\n",
            "Lane drawn shape: (80, 160, 3)\n",
            "Lane image shape: (544, 960, 3)\n",
            "1/1 [==============================] - 0s 19ms/step\n"
          ]
        },
        {
          "output_type": "stream",
          "name": "stderr",
          "text": [
            "\rt:  14%|█▍        | 185/1297 [00:56<05:56,  3.12it/s, now=None]"
          ]
        },
        {
          "output_type": "stream",
          "name": "stdout",
          "text": [
            "Prediction shape: (80, 160, 1)\n",
            "Avg fit shape: (80, 160, 1)\n",
            "Blanks shape: (80, 160, 1)\n",
            "Lane drawn shape: (80, 160, 3)\n",
            "Lane image shape: (544, 960, 3)\n",
            "1/1 [==============================] - 0s 18ms/step\n"
          ]
        },
        {
          "output_type": "stream",
          "name": "stderr",
          "text": [
            "\rt:  14%|█▍        | 186/1297 [00:56<05:33,  3.33it/s, now=None]"
          ]
        },
        {
          "output_type": "stream",
          "name": "stdout",
          "text": [
            "Prediction shape: (80, 160, 1)\n",
            "Avg fit shape: (80, 160, 1)\n",
            "Blanks shape: (80, 160, 1)\n",
            "Lane drawn shape: (80, 160, 3)\n",
            "Lane image shape: (544, 960, 3)\n",
            "1/1 [==============================] - 0s 19ms/step\n"
          ]
        },
        {
          "output_type": "stream",
          "name": "stderr",
          "text": [
            "\rt:  14%|█▍        | 187/1297 [00:56<05:16,  3.51it/s, now=None]"
          ]
        },
        {
          "output_type": "stream",
          "name": "stdout",
          "text": [
            "Prediction shape: (80, 160, 1)\n",
            "Avg fit shape: (80, 160, 1)\n",
            "Blanks shape: (80, 160, 1)\n",
            "Lane drawn shape: (80, 160, 3)\n",
            "Lane image shape: (544, 960, 3)\n",
            "1/1 [==============================] - 0s 17ms/step\n"
          ]
        },
        {
          "output_type": "stream",
          "name": "stderr",
          "text": [
            "\rt:  14%|█▍        | 188/1297 [00:57<05:05,  3.63it/s, now=None]"
          ]
        },
        {
          "output_type": "stream",
          "name": "stdout",
          "text": [
            "Prediction shape: (80, 160, 1)\n",
            "Avg fit shape: (80, 160, 1)\n",
            "Blanks shape: (80, 160, 1)\n",
            "Lane drawn shape: (80, 160, 3)\n",
            "Lane image shape: (544, 960, 3)\n",
            "1/1 [==============================] - 0s 18ms/step\n"
          ]
        },
        {
          "output_type": "stream",
          "name": "stderr",
          "text": [
            "\rt:  15%|█▍        | 189/1297 [00:57<05:04,  3.64it/s, now=None]"
          ]
        },
        {
          "output_type": "stream",
          "name": "stdout",
          "text": [
            "Prediction shape: (80, 160, 1)\n",
            "Avg fit shape: (80, 160, 1)\n",
            "Blanks shape: (80, 160, 1)\n",
            "Lane drawn shape: (80, 160, 3)\n",
            "Lane image shape: (544, 960, 3)\n",
            "1/1 [==============================] - 0s 18ms/step\n"
          ]
        },
        {
          "output_type": "stream",
          "name": "stderr",
          "text": [
            "\rt:  15%|█▍        | 190/1297 [00:57<04:59,  3.70it/s, now=None]"
          ]
        },
        {
          "output_type": "stream",
          "name": "stdout",
          "text": [
            "Prediction shape: (80, 160, 1)\n",
            "Avg fit shape: (80, 160, 1)\n",
            "Blanks shape: (80, 160, 1)\n",
            "Lane drawn shape: (80, 160, 3)\n",
            "Lane image shape: (544, 960, 3)\n",
            "1/1 [==============================] - 0s 18ms/step\n"
          ]
        },
        {
          "output_type": "stream",
          "name": "stderr",
          "text": [
            "\rt:  15%|█▍        | 191/1297 [00:57<04:54,  3.76it/s, now=None]"
          ]
        },
        {
          "output_type": "stream",
          "name": "stdout",
          "text": [
            "Prediction shape: (80, 160, 1)\n",
            "Avg fit shape: (80, 160, 1)\n",
            "Blanks shape: (80, 160, 1)\n",
            "Lane drawn shape: (80, 160, 3)\n",
            "Lane image shape: (544, 960, 3)\n",
            "1/1 [==============================] - 0s 19ms/step\n"
          ]
        },
        {
          "output_type": "stream",
          "name": "stderr",
          "text": [
            "\rt:  15%|█▍        | 192/1297 [00:58<04:54,  3.76it/s, now=None]"
          ]
        },
        {
          "output_type": "stream",
          "name": "stdout",
          "text": [
            "Prediction shape: (80, 160, 1)\n",
            "Avg fit shape: (80, 160, 1)\n",
            "Blanks shape: (80, 160, 1)\n",
            "Lane drawn shape: (80, 160, 3)\n",
            "Lane image shape: (544, 960, 3)\n",
            "1/1 [==============================] - 0s 17ms/step\n"
          ]
        },
        {
          "output_type": "stream",
          "name": "stderr",
          "text": [
            "\rt:  15%|█▍        | 193/1297 [00:58<04:50,  3.81it/s, now=None]"
          ]
        },
        {
          "output_type": "stream",
          "name": "stdout",
          "text": [
            "Prediction shape: (80, 160, 1)\n",
            "Avg fit shape: (80, 160, 1)\n",
            "Blanks shape: (80, 160, 1)\n",
            "Lane drawn shape: (80, 160, 3)\n",
            "Lane image shape: (544, 960, 3)\n",
            "1/1 [==============================] - 0s 18ms/step\n"
          ]
        },
        {
          "output_type": "stream",
          "name": "stderr",
          "text": [
            "\rt:  15%|█▍        | 194/1297 [00:58<04:55,  3.73it/s, now=None]"
          ]
        },
        {
          "output_type": "stream",
          "name": "stdout",
          "text": [
            "Prediction shape: (80, 160, 1)\n",
            "Avg fit shape: (80, 160, 1)\n",
            "Blanks shape: (80, 160, 1)\n",
            "Lane drawn shape: (80, 160, 3)\n",
            "Lane image shape: (544, 960, 3)\n",
            "1/1 [==============================] - 0s 18ms/step\n"
          ]
        },
        {
          "output_type": "stream",
          "name": "stderr",
          "text": [
            "\rt:  15%|█▌        | 195/1297 [00:58<04:50,  3.79it/s, now=None]"
          ]
        },
        {
          "output_type": "stream",
          "name": "stdout",
          "text": [
            "Prediction shape: (80, 160, 1)\n",
            "Avg fit shape: (80, 160, 1)\n",
            "Blanks shape: (80, 160, 1)\n",
            "Lane drawn shape: (80, 160, 3)\n",
            "Lane image shape: (544, 960, 3)\n",
            "1/1 [==============================] - 0s 18ms/step\n"
          ]
        },
        {
          "output_type": "stream",
          "name": "stderr",
          "text": [
            "\rt:  15%|█▌        | 196/1297 [00:59<04:51,  3.78it/s, now=None]"
          ]
        },
        {
          "output_type": "stream",
          "name": "stdout",
          "text": [
            "Prediction shape: (80, 160, 1)\n",
            "Avg fit shape: (80, 160, 1)\n",
            "Blanks shape: (80, 160, 1)\n",
            "Lane drawn shape: (80, 160, 3)\n",
            "Lane image shape: (544, 960, 3)\n",
            "1/1 [==============================] - 0s 18ms/step\n"
          ]
        },
        {
          "output_type": "stream",
          "name": "stderr",
          "text": [
            "\rt:  15%|█▌        | 197/1297 [00:59<04:47,  3.82it/s, now=None]"
          ]
        },
        {
          "output_type": "stream",
          "name": "stdout",
          "text": [
            "Prediction shape: (80, 160, 1)\n",
            "Avg fit shape: (80, 160, 1)\n",
            "Blanks shape: (80, 160, 1)\n",
            "Lane drawn shape: (80, 160, 3)\n",
            "Lane image shape: (544, 960, 3)\n",
            "1/1 [==============================] - 0s 18ms/step\n"
          ]
        },
        {
          "output_type": "stream",
          "name": "stderr",
          "text": [
            "\rt:  15%|█▌        | 198/1297 [00:59<04:46,  3.84it/s, now=None]"
          ]
        },
        {
          "output_type": "stream",
          "name": "stdout",
          "text": [
            "Prediction shape: (80, 160, 1)\n",
            "Avg fit shape: (80, 160, 1)\n",
            "Blanks shape: (80, 160, 1)\n",
            "Lane drawn shape: (80, 160, 3)\n",
            "Lane image shape: (544, 960, 3)\n",
            "1/1 [==============================] - 0s 18ms/step\n"
          ]
        },
        {
          "output_type": "stream",
          "name": "stderr",
          "text": [
            "\rt:  15%|█▌        | 199/1297 [00:59<04:44,  3.86it/s, now=None]"
          ]
        },
        {
          "output_type": "stream",
          "name": "stdout",
          "text": [
            "Prediction shape: (80, 160, 1)\n",
            "Avg fit shape: (80, 160, 1)\n",
            "Blanks shape: (80, 160, 1)\n",
            "Lane drawn shape: (80, 160, 3)\n",
            "Lane image shape: (544, 960, 3)\n",
            "1/1 [==============================] - 0s 19ms/step\n"
          ]
        },
        {
          "output_type": "stream",
          "name": "stderr",
          "text": [
            "\rt:  15%|█▌        | 200/1297 [01:00<04:43,  3.86it/s, now=None]"
          ]
        },
        {
          "output_type": "stream",
          "name": "stdout",
          "text": [
            "Prediction shape: (80, 160, 1)\n",
            "Avg fit shape: (80, 160, 1)\n",
            "Blanks shape: (80, 160, 1)\n",
            "Lane drawn shape: (80, 160, 3)\n",
            "Lane image shape: (544, 960, 3)\n",
            "1/1 [==============================] - 0s 18ms/step\n"
          ]
        },
        {
          "output_type": "stream",
          "name": "stderr",
          "text": [
            "\rt:  15%|█▌        | 201/1297 [01:00<04:49,  3.78it/s, now=None]"
          ]
        },
        {
          "output_type": "stream",
          "name": "stdout",
          "text": [
            "Prediction shape: (80, 160, 1)\n",
            "Avg fit shape: (80, 160, 1)\n",
            "Blanks shape: (80, 160, 1)\n",
            "Lane drawn shape: (80, 160, 3)\n",
            "Lane image shape: (544, 960, 3)\n",
            "1/1 [==============================] - 0s 18ms/step\n"
          ]
        },
        {
          "output_type": "stream",
          "name": "stderr",
          "text": [
            "\rt:  16%|█▌        | 202/1297 [01:00<04:48,  3.80it/s, now=None]"
          ]
        },
        {
          "output_type": "stream",
          "name": "stdout",
          "text": [
            "Prediction shape: (80, 160, 1)\n",
            "Avg fit shape: (80, 160, 1)\n",
            "Blanks shape: (80, 160, 1)\n",
            "Lane drawn shape: (80, 160, 3)\n",
            "Lane image shape: (544, 960, 3)\n",
            "1/1 [==============================] - 0s 19ms/step\n"
          ]
        },
        {
          "output_type": "stream",
          "name": "stderr",
          "text": [
            "\rt:  16%|█▌        | 203/1297 [01:00<04:45,  3.83it/s, now=None]"
          ]
        },
        {
          "output_type": "stream",
          "name": "stdout",
          "text": [
            "Prediction shape: (80, 160, 1)\n",
            "Avg fit shape: (80, 160, 1)\n",
            "Blanks shape: (80, 160, 1)\n",
            "Lane drawn shape: (80, 160, 3)\n",
            "Lane image shape: (544, 960, 3)\n",
            "1/1 [==============================] - 0s 21ms/step\n"
          ]
        },
        {
          "output_type": "stream",
          "name": "stderr",
          "text": [
            "\rt:  16%|█▌        | 204/1297 [01:01<04:48,  3.78it/s, now=None]"
          ]
        },
        {
          "output_type": "stream",
          "name": "stdout",
          "text": [
            "Prediction shape: (80, 160, 1)\n",
            "Avg fit shape: (80, 160, 1)\n",
            "Blanks shape: (80, 160, 1)\n",
            "Lane drawn shape: (80, 160, 3)\n",
            "Lane image shape: (544, 960, 3)\n",
            "1/1 [==============================] - 0s 20ms/step\n"
          ]
        },
        {
          "output_type": "stream",
          "name": "stderr",
          "text": [
            "\rt:  16%|█▌        | 205/1297 [01:01<04:58,  3.66it/s, now=None]"
          ]
        },
        {
          "output_type": "stream",
          "name": "stdout",
          "text": [
            "Prediction shape: (80, 160, 1)\n",
            "Avg fit shape: (80, 160, 1)\n",
            "Blanks shape: (80, 160, 1)\n",
            "Lane drawn shape: (80, 160, 3)\n",
            "Lane image shape: (544, 960, 3)\n",
            "1/1 [==============================] - 0s 20ms/step\n"
          ]
        },
        {
          "output_type": "stream",
          "name": "stderr",
          "text": [
            "\rt:  16%|█▌        | 206/1297 [01:01<04:55,  3.70it/s, now=None]"
          ]
        },
        {
          "output_type": "stream",
          "name": "stdout",
          "text": [
            "Prediction shape: (80, 160, 1)\n",
            "Avg fit shape: (80, 160, 1)\n",
            "Blanks shape: (80, 160, 1)\n",
            "Lane drawn shape: (80, 160, 3)\n",
            "Lane image shape: (544, 960, 3)\n",
            "1/1 [==============================] - 0s 19ms/step\n"
          ]
        },
        {
          "output_type": "stream",
          "name": "stderr",
          "text": [
            "\rt:  16%|█▌        | 207/1297 [01:02<04:51,  3.73it/s, now=None]"
          ]
        },
        {
          "output_type": "stream",
          "name": "stdout",
          "text": [
            "Prediction shape: (80, 160, 1)\n",
            "Avg fit shape: (80, 160, 1)\n",
            "Blanks shape: (80, 160, 1)\n",
            "Lane drawn shape: (80, 160, 3)\n",
            "Lane image shape: (544, 960, 3)\n",
            "1/1 [==============================] - 0s 18ms/step\n"
          ]
        },
        {
          "output_type": "stream",
          "name": "stderr",
          "text": [
            "\rt:  16%|█▌        | 208/1297 [01:02<04:45,  3.82it/s, now=None]"
          ]
        },
        {
          "output_type": "stream",
          "name": "stdout",
          "text": [
            "Prediction shape: (80, 160, 1)\n",
            "Avg fit shape: (80, 160, 1)\n",
            "Blanks shape: (80, 160, 1)\n",
            "Lane drawn shape: (80, 160, 3)\n",
            "Lane image shape: (544, 960, 3)\n",
            "1/1 [==============================] - 0s 20ms/step\n"
          ]
        },
        {
          "output_type": "stream",
          "name": "stderr",
          "text": [
            "\rt:  16%|█▌        | 209/1297 [01:02<04:46,  3.80it/s, now=None]"
          ]
        },
        {
          "output_type": "stream",
          "name": "stdout",
          "text": [
            "Prediction shape: (80, 160, 1)\n",
            "Avg fit shape: (80, 160, 1)\n",
            "Blanks shape: (80, 160, 1)\n",
            "Lane drawn shape: (80, 160, 3)\n",
            "Lane image shape: (544, 960, 3)\n",
            "1/1 [==============================] - 0s 19ms/step\n"
          ]
        },
        {
          "output_type": "stream",
          "name": "stderr",
          "text": [
            "\rt:  16%|█▌        | 210/1297 [01:02<04:46,  3.79it/s, now=None]"
          ]
        },
        {
          "output_type": "stream",
          "name": "stdout",
          "text": [
            "Prediction shape: (80, 160, 1)\n",
            "Avg fit shape: (80, 160, 1)\n",
            "Blanks shape: (80, 160, 1)\n",
            "Lane drawn shape: (80, 160, 3)\n",
            "Lane image shape: (544, 960, 3)\n",
            "1/1 [==============================] - 0s 19ms/step\n"
          ]
        },
        {
          "output_type": "stream",
          "name": "stderr",
          "text": [
            "\rt:  16%|█▋        | 211/1297 [01:03<04:47,  3.77it/s, now=None]"
          ]
        },
        {
          "output_type": "stream",
          "name": "stdout",
          "text": [
            "Prediction shape: (80, 160, 1)\n",
            "Avg fit shape: (80, 160, 1)\n",
            "Blanks shape: (80, 160, 1)\n",
            "Lane drawn shape: (80, 160, 3)\n",
            "Lane image shape: (544, 960, 3)\n",
            "1/1 [==============================] - 0s 23ms/step\n"
          ]
        },
        {
          "output_type": "stream",
          "name": "stderr",
          "text": [
            "\rt:  16%|█▋        | 212/1297 [01:03<04:44,  3.82it/s, now=None]"
          ]
        },
        {
          "output_type": "stream",
          "name": "stdout",
          "text": [
            "Prediction shape: (80, 160, 1)\n",
            "Avg fit shape: (80, 160, 1)\n",
            "Blanks shape: (80, 160, 1)\n",
            "Lane drawn shape: (80, 160, 3)\n",
            "Lane image shape: (544, 960, 3)\n",
            "1/1 [==============================] - 0s 19ms/step\n"
          ]
        },
        {
          "output_type": "stream",
          "name": "stderr",
          "text": [
            "\rt:  16%|█▋        | 213/1297 [01:03<04:52,  3.71it/s, now=None]"
          ]
        },
        {
          "output_type": "stream",
          "name": "stdout",
          "text": [
            "Prediction shape: (80, 160, 1)\n",
            "Avg fit shape: (80, 160, 1)\n",
            "Blanks shape: (80, 160, 1)\n",
            "Lane drawn shape: (80, 160, 3)\n",
            "Lane image shape: (544, 960, 3)\n",
            "1/1 [==============================] - 0s 18ms/step\n"
          ]
        },
        {
          "output_type": "stream",
          "name": "stderr",
          "text": [
            "\rt:  16%|█▋        | 214/1297 [01:03<04:47,  3.77it/s, now=None]"
          ]
        },
        {
          "output_type": "stream",
          "name": "stdout",
          "text": [
            "Prediction shape: (80, 160, 1)\n",
            "Avg fit shape: (80, 160, 1)\n",
            "Blanks shape: (80, 160, 1)\n",
            "Lane drawn shape: (80, 160, 3)\n",
            "Lane image shape: (544, 960, 3)\n",
            "1/1 [==============================] - 0s 25ms/step\n"
          ]
        },
        {
          "output_type": "stream",
          "name": "stderr",
          "text": [
            "\rt:  17%|█▋        | 215/1297 [01:04<04:46,  3.78it/s, now=None]"
          ]
        },
        {
          "output_type": "stream",
          "name": "stdout",
          "text": [
            "Prediction shape: (80, 160, 1)\n",
            "Avg fit shape: (80, 160, 1)\n",
            "Blanks shape: (80, 160, 1)\n",
            "Lane drawn shape: (80, 160, 3)\n",
            "Lane image shape: (544, 960, 3)\n",
            "1/1 [==============================] - 0s 18ms/step\n"
          ]
        },
        {
          "output_type": "stream",
          "name": "stderr",
          "text": [
            "\rt:  17%|█▋        | 216/1297 [01:04<04:40,  3.85it/s, now=None]"
          ]
        },
        {
          "output_type": "stream",
          "name": "stdout",
          "text": [
            "Prediction shape: (80, 160, 1)\n",
            "Avg fit shape: (80, 160, 1)\n",
            "Blanks shape: (80, 160, 1)\n",
            "Lane drawn shape: (80, 160, 3)\n",
            "Lane image shape: (544, 960, 3)\n",
            "1/1 [==============================] - 0s 18ms/step\n"
          ]
        },
        {
          "output_type": "stream",
          "name": "stderr",
          "text": [
            "\rt:  17%|█▋        | 217/1297 [01:04<04:51,  3.70it/s, now=None]"
          ]
        },
        {
          "output_type": "stream",
          "name": "stdout",
          "text": [
            "Prediction shape: (80, 160, 1)\n",
            "Avg fit shape: (80, 160, 1)\n",
            "Blanks shape: (80, 160, 1)\n",
            "Lane drawn shape: (80, 160, 3)\n",
            "Lane image shape: (544, 960, 3)\n",
            "1/1 [==============================] - 0s 19ms/step\n"
          ]
        },
        {
          "output_type": "stream",
          "name": "stderr",
          "text": [
            "\rt:  17%|█▋        | 218/1297 [01:04<04:52,  3.69it/s, now=None]"
          ]
        },
        {
          "output_type": "stream",
          "name": "stdout",
          "text": [
            "Prediction shape: (80, 160, 1)\n",
            "Avg fit shape: (80, 160, 1)\n",
            "Blanks shape: (80, 160, 1)\n",
            "Lane drawn shape: (80, 160, 3)\n",
            "Lane image shape: (544, 960, 3)\n",
            "1/1 [==============================] - 0s 19ms/step\n"
          ]
        },
        {
          "output_type": "stream",
          "name": "stderr",
          "text": [
            "\rt:  17%|█▋        | 219/1297 [01:05<05:52,  3.06it/s, now=None]"
          ]
        },
        {
          "output_type": "stream",
          "name": "stdout",
          "text": [
            "Prediction shape: (80, 160, 1)\n",
            "Avg fit shape: (80, 160, 1)\n",
            "Blanks shape: (80, 160, 1)\n",
            "Lane drawn shape: (80, 160, 3)\n",
            "Lane image shape: (544, 960, 3)\n",
            "1/1 [==============================] - 0s 30ms/step\n"
          ]
        },
        {
          "output_type": "stream",
          "name": "stderr",
          "text": [
            "\rt:  17%|█▋        | 220/1297 [01:05<06:00,  2.98it/s, now=None]"
          ]
        },
        {
          "output_type": "stream",
          "name": "stdout",
          "text": [
            "Prediction shape: (80, 160, 1)\n",
            "Avg fit shape: (80, 160, 1)\n",
            "Blanks shape: (80, 160, 1)\n",
            "Lane drawn shape: (80, 160, 3)\n",
            "Lane image shape: (544, 960, 3)\n",
            "1/1 [==============================] - 0s 171ms/step\n"
          ]
        },
        {
          "output_type": "stream",
          "name": "stderr",
          "text": [
            "\rt:  17%|█▋        | 221/1297 [01:06<08:47,  2.04it/s, now=None]"
          ]
        },
        {
          "output_type": "stream",
          "name": "stdout",
          "text": [
            "Prediction shape: (80, 160, 1)\n",
            "Avg fit shape: (80, 160, 1)\n",
            "Blanks shape: (80, 160, 1)\n",
            "Lane drawn shape: (80, 160, 3)\n",
            "Lane image shape: (544, 960, 3)\n",
            "1/1 [==============================] - 0s 37ms/step\n"
          ]
        },
        {
          "output_type": "stream",
          "name": "stderr",
          "text": [
            "\rt:  17%|█▋        | 222/1297 [01:07<10:05,  1.77it/s, now=None]"
          ]
        },
        {
          "output_type": "stream",
          "name": "stdout",
          "text": [
            "Prediction shape: (80, 160, 1)\n",
            "Avg fit shape: (80, 160, 1)\n",
            "Blanks shape: (80, 160, 1)\n",
            "Lane drawn shape: (80, 160, 3)\n",
            "Lane image shape: (544, 960, 3)\n",
            "1/1 [==============================] - 0s 27ms/step\n",
            "Prediction shape: (80, 160, 1)\n",
            "Avg fit shape: (80, 160, 1)\n",
            "Blanks shape: (80, 160, 1)\n",
            "Lane drawn shape: (80, 160, 3)\n",
            "Lane image shape: (544, 960, 3)\n"
          ]
        },
        {
          "output_type": "stream",
          "name": "stderr",
          "text": [
            "\rt:  17%|█▋        | 223/1297 [01:07<09:12,  1.94it/s, now=None]"
          ]
        },
        {
          "output_type": "stream",
          "name": "stdout",
          "text": [
            "1/1 [==============================] - 0s 29ms/step\n",
            "Prediction shape: (80, 160, 1)\n",
            "Avg fit shape: (80, 160, 1)\n",
            "Blanks shape: (80, 160, 1)\n",
            "Lane drawn shape: (80, 160, 3)\n"
          ]
        },
        {
          "output_type": "stream",
          "name": "stderr",
          "text": [
            "\rt:  17%|█▋        | 224/1297 [01:08<08:42,  2.06it/s, now=None]"
          ]
        },
        {
          "output_type": "stream",
          "name": "stdout",
          "text": [
            "Lane image shape: (544, 960, 3)\n",
            "1/1 [==============================] - 0s 36ms/step\n"
          ]
        },
        {
          "output_type": "stream",
          "name": "stderr",
          "text": [
            "\rt:  17%|█▋        | 225/1297 [01:08<08:23,  2.13it/s, now=None]"
          ]
        },
        {
          "output_type": "stream",
          "name": "stdout",
          "text": [
            "Prediction shape: (80, 160, 1)\n",
            "Avg fit shape: (80, 160, 1)\n",
            "Blanks shape: (80, 160, 1)\n",
            "Lane drawn shape: (80, 160, 3)\n",
            "Lane image shape: (544, 960, 3)\n",
            "1/1 [==============================] - 0s 30ms/step\n",
            "Prediction shape:"
          ]
        },
        {
          "output_type": "stream",
          "name": "stderr",
          "text": [
            "\rt:  17%|█▋        | 226/1297 [01:09<08:03,  2.22it/s, now=None]"
          ]
        },
        {
          "output_type": "stream",
          "name": "stdout",
          "text": [
            " (80, 160, 1)\n",
            "Avg fit shape: (80, 160, 1)\n",
            "Blanks shape: (80, 160, 1)\n",
            "Lane drawn shape: (80, 160, 3)\n",
            "Lane image shape: (544, 960, 3)\n",
            "1/1 [==============================] - 0s 47ms/step\n",
            "Prediction shape: (80, 160, 1)\n",
            "Avg fit shape: (80, 160, 1)\n",
            "Blanks shape: (80, 160, 1)\n",
            "Lane drawn shape: (80, 160, 3)\n",
            "Lane image shape: (544, 960, 3)\n"
          ]
        },
        {
          "output_type": "stream",
          "name": "stderr",
          "text": [
            "\rt:  18%|█▊        | 227/1297 [01:09<07:54,  2.25it/s, now=None]"
          ]
        },
        {
          "output_type": "stream",
          "name": "stdout",
          "text": [
            "1/1 [==============================] - 0s 29ms/step\n"
          ]
        },
        {
          "output_type": "stream",
          "name": "stderr",
          "text": [
            "\rt:  18%|█▊        | 228/1297 [01:09<07:38,  2.33it/s, now=None]"
          ]
        },
        {
          "output_type": "stream",
          "name": "stdout",
          "text": [
            "Prediction shape: (80, 160, 1)\n",
            "Avg fit shape: (80, 160, 1)\n",
            "Blanks shape: (80, 160, 1)\n",
            "Lane drawn shape: (80, 160, 3)\n",
            "Lane image shape: (544, 960, 3)\n",
            "1/1 [==============================] - 0s 29ms/step\n"
          ]
        },
        {
          "output_type": "stream",
          "name": "stderr",
          "text": [
            "\rt:  18%|█▊        | 229/1297 [01:10<07:31,  2.37it/s, now=None]"
          ]
        },
        {
          "output_type": "stream",
          "name": "stdout",
          "text": [
            "Prediction shape: (80, 160, 1)\n",
            "Avg fit shape: (80, 160, 1)\n",
            "Blanks shape: (80, 160, 1)\n",
            "Lane drawn shape: (80, 160, 3)\n",
            "Lane image shape: (544, 960, 3)\n",
            "1/1 [==============================] - 0s 29ms/step\n"
          ]
        },
        {
          "output_type": "stream",
          "name": "stderr",
          "text": [
            "\rt:  18%|█▊        | 230/1297 [01:10<07:24,  2.40it/s, now=None]"
          ]
        },
        {
          "output_type": "stream",
          "name": "stdout",
          "text": [
            "Prediction shape: (80, 160, 1)\n",
            "Avg fit shape: (80, 160, 1)\n",
            "Blanks shape: (80, 160, 1)\n",
            "Lane drawn shape: (80, 160, 3)\n",
            "Lane image shape: (544, 960, 3)\n",
            "1/1 [==============================] - 0s 19ms/step\n"
          ]
        },
        {
          "output_type": "stream",
          "name": "stderr",
          "text": [
            "\rt:  18%|█▊        | 231/1297 [01:10<06:46,  2.62it/s, now=None]"
          ]
        },
        {
          "output_type": "stream",
          "name": "stdout",
          "text": [
            "Prediction shape: (80, 160, 1)\n",
            "Avg fit shape: (80, 160, 1)\n",
            "Blanks shape: (80, 160, 1)\n",
            "Lane drawn shape: (80, 160, 3)\n",
            "Lane image shape: (544, 960, 3)\n",
            "1/1 [==============================] - 0s 18ms/step\n"
          ]
        },
        {
          "output_type": "stream",
          "name": "stderr",
          "text": [
            "\rt:  18%|█▊        | 232/1297 [01:11<06:08,  2.89it/s, now=None]"
          ]
        },
        {
          "output_type": "stream",
          "name": "stdout",
          "text": [
            "Prediction shape: (80, 160, 1)\n",
            "Avg fit shape: (80, 160, 1)\n",
            "Blanks shape: (80, 160, 1)\n",
            "Lane drawn shape: (80, 160, 3)\n",
            "Lane image shape: (544, 960, 3)\n",
            "1/1 [==============================] - 0s 18ms/step\n"
          ]
        },
        {
          "output_type": "stream",
          "name": "stderr",
          "text": [
            "\rt:  18%|█▊        | 233/1297 [01:11<05:41,  3.11it/s, now=None]"
          ]
        },
        {
          "output_type": "stream",
          "name": "stdout",
          "text": [
            "Prediction shape: (80, 160, 1)\n",
            "Avg fit shape: (80, 160, 1)\n",
            "Blanks shape: (80, 160, 1)\n",
            "Lane drawn shape: (80, 160, 3)\n",
            "Lane image shape: (544, 960, 3)\n",
            "1/1 [==============================] - 0s 19ms/step\n"
          ]
        },
        {
          "output_type": "stream",
          "name": "stderr",
          "text": [
            "\rt:  18%|█▊        | 234/1297 [01:11<05:18,  3.34it/s, now=None]"
          ]
        },
        {
          "output_type": "stream",
          "name": "stdout",
          "text": [
            "Prediction shape: (80, 160, 1)\n",
            "Avg fit shape: (80, 160, 1)\n",
            "Blanks shape: (80, 160, 1)\n",
            "Lane drawn shape: (80, 160, 3)\n",
            "Lane image shape: (544, 960, 3)\n",
            "1/1 [==============================] - 0s 19ms/step\n"
          ]
        },
        {
          "output_type": "stream",
          "name": "stderr",
          "text": [
            "\rt:  18%|█▊        | 235/1297 [01:11<05:00,  3.53it/s, now=None]"
          ]
        },
        {
          "output_type": "stream",
          "name": "stdout",
          "text": [
            "Prediction shape: (80, 160, 1)\n",
            "Avg fit shape: (80, 160, 1)\n",
            "Blanks shape: (80, 160, 1)\n",
            "Lane drawn shape: (80, 160, 3)\n",
            "Lane image shape: (544, 960, 3)\n",
            "1/1 [==============================] - 0s 29ms/step\n"
          ]
        },
        {
          "output_type": "stream",
          "name": "stderr",
          "text": [
            "\rt:  18%|█▊        | 236/1297 [01:12<05:02,  3.51it/s, now=None]"
          ]
        },
        {
          "output_type": "stream",
          "name": "stdout",
          "text": [
            "Prediction shape: (80, 160, 1)\n",
            "Avg fit shape: (80, 160, 1)\n",
            "Blanks shape: (80, 160, 1)\n",
            "Lane drawn shape: (80, 160, 3)\n",
            "Lane image shape: (544, 960, 3)\n",
            "1/1 [==============================] - 0s 24ms/step\n"
          ]
        },
        {
          "output_type": "stream",
          "name": "stderr",
          "text": [
            "\rt:  18%|█▊        | 237/1297 [01:12<04:55,  3.59it/s, now=None]"
          ]
        },
        {
          "output_type": "stream",
          "name": "stdout",
          "text": [
            "Prediction shape: (80, 160, 1)\n",
            "Avg fit shape: (80, 160, 1)\n",
            "Blanks shape: (80, 160, 1)\n",
            "Lane drawn shape: (80, 160, 3)\n",
            "Lane image shape: (544, 960, 3)\n",
            "1/1 [==============================] - 0s 18ms/step\n"
          ]
        },
        {
          "output_type": "stream",
          "name": "stderr",
          "text": [
            "\rt:  18%|█▊        | 238/1297 [01:12<04:50,  3.65it/s, now=None]"
          ]
        },
        {
          "output_type": "stream",
          "name": "stdout",
          "text": [
            "Prediction shape: (80, 160, 1)\n",
            "Avg fit shape: (80, 160, 1)\n",
            "Blanks shape: (80, 160, 1)\n",
            "Lane drawn shape: (80, 160, 3)\n",
            "Lane image shape: (544, 960, 3)\n",
            "1/1 [==============================] - 0s 23ms/step\n"
          ]
        },
        {
          "output_type": "stream",
          "name": "stderr",
          "text": [
            "\rt:  18%|█▊        | 239/1297 [01:13<04:44,  3.72it/s, now=None]"
          ]
        },
        {
          "output_type": "stream",
          "name": "stdout",
          "text": [
            "Prediction shape: (80, 160, 1)\n",
            "Avg fit shape: (80, 160, 1)\n",
            "Blanks shape: (80, 160, 1)\n",
            "Lane drawn shape: (80, 160, 3)\n",
            "Lane image shape: (544, 960, 3)\n",
            "1/1 [==============================] - 0s 18ms/step\n"
          ]
        },
        {
          "output_type": "stream",
          "name": "stderr",
          "text": [
            "\rt:  19%|█▊        | 240/1297 [01:13<04:47,  3.68it/s, now=None]"
          ]
        },
        {
          "output_type": "stream",
          "name": "stdout",
          "text": [
            "Prediction shape: (80, 160, 1)\n",
            "Avg fit shape: (80, 160, 1)\n",
            "Blanks shape: (80, 160, 1)\n",
            "Lane drawn shape: (80, 160, 3)\n",
            "Lane image shape: (544, 960, 3)\n",
            "1/1 [==============================] - 0s 19ms/step\n"
          ]
        },
        {
          "output_type": "stream",
          "name": "stderr",
          "text": [
            "\rt:  19%|█▊        | 241/1297 [01:13<04:44,  3.71it/s, now=None]"
          ]
        },
        {
          "output_type": "stream",
          "name": "stdout",
          "text": [
            "Prediction shape: (80, 160, 1)\n",
            "Avg fit shape: (80, 160, 1)\n",
            "Blanks shape: (80, 160, 1)\n",
            "Lane drawn shape: (80, 160, 3)\n",
            "Lane image shape: (544, 960, 3)\n",
            "1/1 [==============================] - 0s 18ms/step\n"
          ]
        },
        {
          "output_type": "stream",
          "name": "stderr",
          "text": [
            "\rt:  19%|█▊        | 242/1297 [01:13<04:40,  3.76it/s, now=None]"
          ]
        },
        {
          "output_type": "stream",
          "name": "stdout",
          "text": [
            "Prediction shape: (80, 160, 1)\n",
            "Avg fit shape: (80, 160, 1)\n",
            "Blanks shape: (80, 160, 1)\n",
            "Lane drawn shape: (80, 160, 3)\n",
            "Lane image shape: (544, 960, 3)\n",
            "1/1 [==============================] - 0s 19ms/step\n"
          ]
        },
        {
          "output_type": "stream",
          "name": "stderr",
          "text": [
            "\rt:  19%|█▊        | 243/1297 [01:14<04:33,  3.85it/s, now=None]"
          ]
        },
        {
          "output_type": "stream",
          "name": "stdout",
          "text": [
            "Prediction shape: (80, 160, 1)\n",
            "Avg fit shape: (80, 160, 1)\n",
            "Blanks shape: (80, 160, 1)\n",
            "Lane drawn shape: (80, 160, 3)\n",
            "Lane image shape: (544, 960, 3)\n",
            "1/1 [==============================] - 0s 18ms/step\n"
          ]
        },
        {
          "output_type": "stream",
          "name": "stderr",
          "text": [
            "\rt:  19%|█▉        | 244/1297 [01:14<04:40,  3.75it/s, now=None]"
          ]
        },
        {
          "output_type": "stream",
          "name": "stdout",
          "text": [
            "Prediction shape: (80, 160, 1)\n",
            "Avg fit shape: (80, 160, 1)\n",
            "Blanks shape: (80, 160, 1)\n",
            "Lane drawn shape: (80, 160, 3)\n",
            "Lane image shape: (544, 960, 3)\n",
            "1/1 [==============================] - 0s 19ms/step\n"
          ]
        },
        {
          "output_type": "stream",
          "name": "stderr",
          "text": [
            "\rt:  19%|█▉        | 245/1297 [01:14<04:48,  3.65it/s, now=None]"
          ]
        },
        {
          "output_type": "stream",
          "name": "stdout",
          "text": [
            "Prediction shape: (80, 160, 1)\n",
            "Avg fit shape: (80, 160, 1)\n",
            "Blanks shape: (80, 160, 1)\n",
            "Lane drawn shape: (80, 160, 3)\n",
            "Lane image shape: (544, 960, 3)\n",
            "1/1 [==============================] - 0s 28ms/step\n",
            "Prediction shape: (80, 160, 1)"
          ]
        },
        {
          "output_type": "stream",
          "name": "stderr",
          "text": [
            "\rt:  19%|█▉        | 246/1297 [01:15<05:30,  3.18it/s, now=None]"
          ]
        },
        {
          "output_type": "stream",
          "name": "stdout",
          "text": [
            "\n",
            "Avg fit shape: (80, 160, 1)\n",
            "Blanks shape: (80, 160, 1)\n",
            "Lane drawn shape: (80, 160, 3)\n",
            "Lane image shape: (544, 960, 3)\n",
            "1/1 [==============================] - 0s 18ms/step\n"
          ]
        },
        {
          "output_type": "stream",
          "name": "stderr",
          "text": [
            "\rt:  19%|█▉        | 247/1297 [01:15<05:22,  3.26it/s, now=None]"
          ]
        },
        {
          "output_type": "stream",
          "name": "stdout",
          "text": [
            "Prediction shape: (80, 160, 1)\n",
            "Avg fit shape: (80, 160, 1)\n",
            "Blanks shape: (80, 160, 1)\n",
            "Lane drawn shape: (80, 160, 3)\n",
            "Lane image shape: (544, 960, 3)\n",
            "1/1 [==============================] - 0s 18ms/step\n"
          ]
        },
        {
          "output_type": "stream",
          "name": "stderr",
          "text": [
            "\rt:  19%|█▉        | 248/1297 [01:15<05:16,  3.31it/s, now=None]"
          ]
        },
        {
          "output_type": "stream",
          "name": "stdout",
          "text": [
            "Prediction shape: (80, 160, 1)\n",
            "Avg fit shape: (80, 160, 1)\n",
            "Blanks shape: (80, 160, 1)\n",
            "Lane drawn shape: (80, 160, 3)\n",
            "Lane image shape: (544, 960, 3)\n",
            "1/1 [==============================] - 0s 19ms/step\n"
          ]
        },
        {
          "output_type": "stream",
          "name": "stderr",
          "text": [
            "\rt:  19%|█▉        | 249/1297 [01:15<05:03,  3.46it/s, now=None]"
          ]
        },
        {
          "output_type": "stream",
          "name": "stdout",
          "text": [
            "Prediction shape: (80, 160, 1)\n",
            "Avg fit shape: (80, 160, 1)\n",
            "Blanks shape: (80, 160, 1)\n",
            "Lane drawn shape: (80, 160, 3)\n",
            "Lane image shape: (544, 960, 3)\n",
            "1/1 [==============================] - 0s 18ms/step\n"
          ]
        },
        {
          "output_type": "stream",
          "name": "stderr",
          "text": [
            "\rt:  19%|█▉        | 250/1297 [01:16<04:47,  3.64it/s, now=None]"
          ]
        },
        {
          "output_type": "stream",
          "name": "stdout",
          "text": [
            "Prediction shape: (80, 160, 1)\n",
            "Avg fit shape: (80, 160, 1)\n",
            "Blanks shape: (80, 160, 1)\n",
            "Lane drawn shape: (80, 160, 3)\n",
            "Lane image shape: (544, 960, 3)\n",
            "1/1 [==============================] - 0s 18ms/step\n"
          ]
        },
        {
          "output_type": "stream",
          "name": "stderr",
          "text": [
            "\rt:  19%|█▉        | 251/1297 [01:16<04:38,  3.75it/s, now=None]"
          ]
        },
        {
          "output_type": "stream",
          "name": "stdout",
          "text": [
            "Prediction shape: (80, 160, 1)\n",
            "Avg fit shape: (80, 160, 1)\n",
            "Blanks shape: (80, 160, 1)\n",
            "Lane drawn shape: (80, 160, 3)\n",
            "Lane image shape: (544, 960, 3)\n",
            "1/1 [==============================] - 0s 18ms/step\n"
          ]
        },
        {
          "output_type": "stream",
          "name": "stderr",
          "text": [
            "\rt:  19%|█▉        | 252/1297 [01:16<04:45,  3.66it/s, now=None]"
          ]
        },
        {
          "output_type": "stream",
          "name": "stdout",
          "text": [
            "Prediction shape: (80, 160, 1)\n",
            "Avg fit shape: (80, 160, 1)\n",
            "Blanks shape: (80, 160, 1)\n",
            "Lane drawn shape: (80, 160, 3)\n",
            "Lane image shape: (544, 960, 3)\n",
            "1/1 [==============================] - 0s 18ms/step\n"
          ]
        },
        {
          "output_type": "stream",
          "name": "stderr",
          "text": [
            "\rt:  20%|█▉        | 253/1297 [01:16<04:41,  3.71it/s, now=None]"
          ]
        },
        {
          "output_type": "stream",
          "name": "stdout",
          "text": [
            "Prediction shape: (80, 160, 1)\n",
            "Avg fit shape: (80, 160, 1)\n",
            "Blanks shape: (80, 160, 1)\n",
            "Lane drawn shape: (80, 160, 3)\n",
            "Lane image shape: (544, 960, 3)\n",
            "1/1 [==============================] - 0s 18ms/step\n"
          ]
        },
        {
          "output_type": "stream",
          "name": "stderr",
          "text": [
            "\rt:  20%|█▉        | 254/1297 [01:17<04:35,  3.78it/s, now=None]"
          ]
        },
        {
          "output_type": "stream",
          "name": "stdout",
          "text": [
            "Prediction shape: (80, 160, 1)\n",
            "Avg fit shape: (80, 160, 1)\n",
            "Blanks shape: (80, 160, 1)\n",
            "Lane drawn shape: (80, 160, 3)\n",
            "Lane image shape: (544, 960, 3)\n",
            "1/1 [==============================] - 0s 17ms/step\n"
          ]
        },
        {
          "output_type": "stream",
          "name": "stderr",
          "text": [
            "\rt:  20%|█▉        | 255/1297 [01:17<04:28,  3.88it/s, now=None]"
          ]
        },
        {
          "output_type": "stream",
          "name": "stdout",
          "text": [
            "Prediction shape: (80, 160, 1)\n",
            "Avg fit shape: (80, 160, 1)\n",
            "Blanks shape: (80, 160, 1)\n",
            "Lane drawn shape: (80, 160, 3)\n",
            "Lane image shape: (544, 960, 3)\n",
            "1/1 [==============================] - 0s 18ms/step\n"
          ]
        },
        {
          "output_type": "stream",
          "name": "stderr",
          "text": [
            "\rt:  20%|█▉        | 256/1297 [01:17<04:32,  3.83it/s, now=None]"
          ]
        },
        {
          "output_type": "stream",
          "name": "stdout",
          "text": [
            "Prediction shape: (80, 160, 1)\n",
            "Avg fit shape: (80, 160, 1)\n",
            "Blanks shape: (80, 160, 1)\n",
            "Lane drawn shape: (80, 160, 3)\n",
            "Lane image shape: (544, 960, 3)\n",
            "1/1 [==============================] - 0s 20ms/step\n"
          ]
        },
        {
          "output_type": "stream",
          "name": "stderr",
          "text": [
            "\rt:  20%|█▉        | 257/1297 [01:17<04:32,  3.82it/s, now=None]"
          ]
        },
        {
          "output_type": "stream",
          "name": "stdout",
          "text": [
            "Prediction shape: (80, 160, 1)\n",
            "Avg fit shape: (80, 160, 1)\n",
            "Blanks shape: (80, 160, 1)\n",
            "Lane drawn shape: (80, 160, 3)\n",
            "Lane image shape: (544, 960, 3)\n",
            "1/1 [==============================] - 0s 21ms/step\n"
          ]
        },
        {
          "output_type": "stream",
          "name": "stderr",
          "text": [
            "\rt:  20%|█▉        | 258/1297 [01:18<04:47,  3.62it/s, now=None]"
          ]
        },
        {
          "output_type": "stream",
          "name": "stdout",
          "text": [
            "Prediction shape: (80, 160, 1)\n",
            "Avg fit shape: (80, 160, 1)\n",
            "Blanks shape: (80, 160, 1)\n",
            "Lane drawn shape: (80, 160, 3)\n",
            "Lane image shape: (544, 960, 3)\n",
            "1/1 [==============================] - 0s 18ms/step\n"
          ]
        },
        {
          "output_type": "stream",
          "name": "stderr",
          "text": [
            "\rt:  20%|█▉        | 259/1297 [01:18<04:40,  3.71it/s, now=None]"
          ]
        },
        {
          "output_type": "stream",
          "name": "stdout",
          "text": [
            "Prediction shape: (80, 160, 1)\n",
            "Avg fit shape: (80, 160, 1)\n",
            "Blanks shape: (80, 160, 1)\n",
            "Lane drawn shape: (80, 160, 3)\n",
            "Lane image shape: (544, 960, 3)\n",
            "1/1 [==============================] - 0s 19ms/step\n"
          ]
        },
        {
          "output_type": "stream",
          "name": "stderr",
          "text": [
            "\rt:  20%|██        | 260/1297 [01:18<04:39,  3.71it/s, now=None]"
          ]
        },
        {
          "output_type": "stream",
          "name": "stdout",
          "text": [
            "Prediction shape: (80, 160, 1)\n",
            "Avg fit shape: (80, 160, 1)\n",
            "Blanks shape: (80, 160, 1)\n",
            "Lane drawn shape: (80, 160, 3)\n",
            "Lane image shape: (544, 960, 3)\n",
            "1/1 [==============================] - 0s 18ms/step\n"
          ]
        },
        {
          "output_type": "stream",
          "name": "stderr",
          "text": [
            "\rt:  20%|██        | 261/1297 [01:19<04:32,  3.80it/s, now=None]"
          ]
        },
        {
          "output_type": "stream",
          "name": "stdout",
          "text": [
            "Prediction shape: (80, 160, 1)\n",
            "Avg fit shape: (80, 160, 1)\n",
            "Blanks shape: (80, 160, 1)\n",
            "Lane drawn shape: (80, 160, 3)\n",
            "Lane image shape: (544, 960, 3)\n",
            "1/1 [==============================] - 0s 21ms/step\n"
          ]
        },
        {
          "output_type": "stream",
          "name": "stderr",
          "text": [
            "\rt:  20%|██        | 262/1297 [01:19<04:40,  3.69it/s, now=None]"
          ]
        },
        {
          "output_type": "stream",
          "name": "stdout",
          "text": [
            "Prediction shape: (80, 160, 1)\n",
            "Avg fit shape: (80, 160, 1)\n",
            "Blanks shape: (80, 160, 1)\n",
            "Lane drawn shape: (80, 160, 3)\n",
            "Lane image shape: (544, 960, 3)\n",
            "1/1 [==============================] - 0s 19ms/step\n"
          ]
        },
        {
          "output_type": "stream",
          "name": "stderr",
          "text": [
            "\rt:  20%|██        | 263/1297 [01:19<04:44,  3.64it/s, now=None]"
          ]
        },
        {
          "output_type": "stream",
          "name": "stdout",
          "text": [
            "Prediction shape: (80, 160, 1)\n",
            "Avg fit shape: (80, 160, 1)\n",
            "Blanks shape: (80, 160, 1)\n",
            "Lane drawn shape: (80, 160, 3)\n",
            "Lane image shape: (544, 960, 3)\n",
            "1/1 [==============================] - 0s 19ms/step\n"
          ]
        },
        {
          "output_type": "stream",
          "name": "stderr",
          "text": [
            "\rt:  20%|██        | 264/1297 [01:19<04:36,  3.73it/s, now=None]"
          ]
        },
        {
          "output_type": "stream",
          "name": "stdout",
          "text": [
            "Prediction shape: (80, 160, 1)\n",
            "Avg fit shape: (80, 160, 1)\n",
            "Blanks shape: (80, 160, 1)\n",
            "Lane drawn shape: (80, 160, 3)\n",
            "Lane image shape: (544, 960, 3)\n",
            "1/1 [==============================] - 0s 18ms/step\n"
          ]
        },
        {
          "output_type": "stream",
          "name": "stderr",
          "text": [
            "\rt:  20%|██        | 265/1297 [01:20<04:34,  3.76it/s, now=None]"
          ]
        },
        {
          "output_type": "stream",
          "name": "stdout",
          "text": [
            "Prediction shape: (80, 160, 1)\n",
            "Avg fit shape: (80, 160, 1)\n",
            "Blanks shape: (80, 160, 1)\n",
            "Lane drawn shape: (80, 160, 3)\n",
            "Lane image shape: (544, 960, 3)\n",
            "1/1 [==============================] - 0s 18ms/step\n"
          ]
        },
        {
          "output_type": "stream",
          "name": "stderr",
          "text": [
            "\rt:  21%|██        | 266/1297 [01:20<04:40,  3.68it/s, now=None]"
          ]
        },
        {
          "output_type": "stream",
          "name": "stdout",
          "text": [
            "Prediction shape: (80, 160, 1)\n",
            "Avg fit shape: (80, 160, 1)\n",
            "Blanks shape: (80, 160, 1)\n",
            "Lane drawn shape: (80, 160, 3)\n",
            "Lane image shape: (544, 960, 3)\n",
            "1/1 [==============================] - 0s 22ms/step\n"
          ]
        },
        {
          "output_type": "stream",
          "name": "stderr",
          "text": [
            "\rt:  21%|██        | 267/1297 [01:20<04:40,  3.67it/s, now=None]"
          ]
        },
        {
          "output_type": "stream",
          "name": "stdout",
          "text": [
            "Prediction shape: (80, 160, 1)\n",
            "Avg fit shape: (80, 160, 1)\n",
            "Blanks shape: (80, 160, 1)\n",
            "Lane drawn shape: (80, 160, 3)\n",
            "Lane image shape: (544, 960, 3)\n",
            "1/1 [==============================] - 0s 38ms/step\n",
            "Prediction shape: (80, 160, 1)\n",
            "Avg fit shape: (80, 160, 1)\n",
            "Blanks shape: (80, 160, 1)\n",
            "Lane drawn shape: (80, 160, 3)\n",
            "Lane image shape: (544, 960, 3)\n"
          ]
        },
        {
          "output_type": "stream",
          "name": "stderr",
          "text": [
            "\rt:  21%|██        | 268/1297 [01:21<05:09,  3.32it/s, now=None]"
          ]
        },
        {
          "output_type": "stream",
          "name": "stdout",
          "text": [
            "1/1 [==============================] - 0s 31ms/step\n"
          ]
        },
        {
          "output_type": "stream",
          "name": "stderr",
          "text": [
            "\rt:  21%|██        | 269/1297 [01:21<05:58,  2.87it/s, now=None]"
          ]
        },
        {
          "output_type": "stream",
          "name": "stdout",
          "text": [
            "Prediction shape: (80, 160, 1)\n",
            "Avg fit shape: (80, 160, 1)\n",
            "Blanks shape: (80, 160, 1)\n",
            "Lane drawn shape: (80, 160, 3)\n",
            "Lane image shape: (544, 960, 3)\n",
            "1/1 [==============================] - 0s 34ms/step\n"
          ]
        },
        {
          "output_type": "stream",
          "name": "stderr",
          "text": [
            "\rt:  21%|██        | 270/1297 [01:22<06:35,  2.60it/s, now=None]"
          ]
        },
        {
          "output_type": "stream",
          "name": "stdout",
          "text": [
            "Prediction shape: (80, 160, 1)\n",
            "Avg fit shape: (80, 160, 1)\n",
            "Blanks shape: (80, 160, 1)\n",
            "Lane drawn shape: (80, 160, 3)\n",
            "Lane image shape: (544, 960, 3)\n",
            "1/1 [==============================] - 0s 46ms/step\n",
            "Prediction shape: (80, 160, 1)\n",
            "Avg fit shape:"
          ]
        },
        {
          "output_type": "stream",
          "name": "stderr",
          "text": [
            "\rt:  21%|██        | 271/1297 [01:22<06:52,  2.49it/s, now=None]"
          ]
        },
        {
          "output_type": "stream",
          "name": "stdout",
          "text": [
            " (80, 160, 1)\n",
            "Blanks shape: (80, 160, 1)\n",
            "Lane drawn shape: (80, 160, 3)\n",
            "Lane image shape: (544, 960, 3)\n",
            "1/1 [==============================] - 0s 35ms/step\n"
          ]
        },
        {
          "output_type": "stream",
          "name": "stderr",
          "text": [
            "\rt:  21%|██        | 272/1297 [01:22<07:00,  2.43it/s, now=None]"
          ]
        },
        {
          "output_type": "stream",
          "name": "stdout",
          "text": [
            "Prediction shape: (80, 160, 1)\n",
            "Avg fit shape: (80, 160, 1)\n",
            "Blanks shape: (80, 160, 1)\n",
            "Lane drawn shape: (80, 160, 3)\n",
            "Lane image shape: (544, 960, 3)\n",
            "1/1 [==============================] - 0s 58ms/step\n",
            "Prediction shape: (80, 160, 1)\n",
            "Avg fit shape: (80, 160, 1)\n",
            "Blanks shape: (80, 160, 1)\n",
            "Lane drawn shape: (80, 160, 3)\n",
            "Lane image shape: (544, 960, 3)\n"
          ]
        },
        {
          "output_type": "stream",
          "name": "stderr",
          "text": [
            "\rt:  21%|██        | 273/1297 [01:23<07:10,  2.38it/s, now=None]"
          ]
        },
        {
          "output_type": "stream",
          "name": "stdout",
          "text": [
            "1/1 [==============================] - 0s 41ms/step\n"
          ]
        },
        {
          "output_type": "stream",
          "name": "stderr",
          "text": [
            "\rt:  21%|██        | 274/1297 [01:23<07:37,  2.23it/s, now=None]"
          ]
        },
        {
          "output_type": "stream",
          "name": "stdout",
          "text": [
            "Prediction shape: (80, 160, 1)\n",
            "Avg fit shape: (80, 160, 1)\n",
            "Blanks shape: (80, 160, 1)\n",
            "Lane drawn shape: (80, 160, 3)\n",
            "Lane image shape: (544, 960, 3)\n",
            "1/1 [==============================] - 0s 53ms/step\n",
            "Prediction shape: (80, 160, 1)\n",
            "Avg fit shape: (80, 160, 1)\n",
            "Blanks shape: (80, 160, 1)\n",
            "Lane drawn shape: (80, 160, 3)\n",
            "Lane image shape: (544, 960, 3)\n"
          ]
        },
        {
          "output_type": "stream",
          "name": "stderr",
          "text": [
            "\rt:  21%|██        | 275/1297 [01:24<07:37,  2.24it/s, now=None]"
          ]
        },
        {
          "output_type": "stream",
          "name": "stdout",
          "text": [
            "1/1 [==============================] - 0s 38ms/step\n",
            "Prediction shape: (80, 160, 1)\n",
            "Avg fit shape: (80, 160, 1)\n",
            "Blanks shape: (80, 160, 1)\n",
            "Lane drawn shape: (80, 160, 3)\n",
            "Lane image shape: (544, 960, 3)\n"
          ]
        },
        {
          "output_type": "stream",
          "name": "stderr",
          "text": [
            "\rt:  21%|██▏       | 276/1297 [01:24<07:29,  2.27it/s, now=None]"
          ]
        },
        {
          "output_type": "stream",
          "name": "stdout",
          "text": [
            "1/1 [==============================] - 0s 59ms/step\n"
          ]
        },
        {
          "output_type": "stream",
          "name": "stderr",
          "text": [
            "\rt:  21%|██▏       | 277/1297 [01:25<07:34,  2.24it/s, now=None]"
          ]
        },
        {
          "output_type": "stream",
          "name": "stdout",
          "text": [
            "Prediction shape: (80, 160, 1)\n",
            "Avg fit shape: (80, 160, 1)\n",
            "Blanks shape: (80, 160, 1)\n",
            "Lane drawn shape: (80, 160, 3)\n",
            "Lane image shape: (544, 960, 3)\n",
            "1/1 [==============================] - 0s 31ms/step\n"
          ]
        },
        {
          "output_type": "stream",
          "name": "stderr",
          "text": [
            "\rt:  21%|██▏       | 278/1297 [01:25<07:49,  2.17it/s, now=None]"
          ]
        },
        {
          "output_type": "stream",
          "name": "stdout",
          "text": [
            "Prediction shape: (80, 160, 1)\n",
            "Avg fit shape: (80, 160, 1)\n",
            "Blanks shape: (80, 160, 1)\n",
            "Lane drawn shape: (80, 160, 3)\n",
            "Lane image shape: (544, 960, 3)\n",
            "1/1 [==============================] - 0s 47ms/step\n"
          ]
        },
        {
          "output_type": "stream",
          "name": "stderr",
          "text": [
            "\rt:  22%|██▏       | 279/1297 [01:26<07:42,  2.20it/s, now=None]"
          ]
        },
        {
          "output_type": "stream",
          "name": "stdout",
          "text": [
            "Prediction shape: (80, 160, 1)\n",
            "Avg fit shape: (80, 160, 1)\n",
            "Blanks shape: (80, 160, 1)\n",
            "Lane drawn shape: (80, 160, 3)\n",
            "Lane image shape: (544, 960, 3)\n",
            "1/1 [==============================] - 0s 33ms/step\n",
            "Prediction shape: (80, 160, 1)\n",
            "Avg fit shape: (80, 160, 1)\n",
            "Blanks shape: (80, 160, 1)\n",
            "Lane drawn shape: (80, 160, 3)\n",
            "Lane image shape: (544, 960, 3)\n"
          ]
        },
        {
          "output_type": "stream",
          "name": "stderr",
          "text": [
            "\rt:  22%|██▏       | 280/1297 [01:26<07:38,  2.22it/s, now=None]"
          ]
        },
        {
          "output_type": "stream",
          "name": "stdout",
          "text": [
            "1/1 [==============================] - 0s 60ms/step\n"
          ]
        },
        {
          "output_type": "stream",
          "name": "stderr",
          "text": [
            "\rt:  22%|██▏       | 281/1297 [01:27<07:47,  2.17it/s, now=None]"
          ]
        },
        {
          "output_type": "stream",
          "name": "stdout",
          "text": [
            "Prediction shape: (80, 160, 1)\n",
            "Avg fit shape: (80, 160, 1)\n",
            "Blanks shape: (80, 160, 1)\n",
            "Lane drawn shape: (80, 160, 3)\n",
            "Lane image shape: (544, 960, 3)\n",
            "1/1 [==============================] - 0s 35ms/step\n"
          ]
        },
        {
          "output_type": "stream",
          "name": "stderr",
          "text": [
            "\rt:  22%|██▏       | 282/1297 [01:27<07:50,  2.16it/s, now=None]"
          ]
        },
        {
          "output_type": "stream",
          "name": "stdout",
          "text": [
            "Prediction shape: (80, 160, 1)\n",
            "Avg fit shape: (80, 160, 1)\n",
            "Blanks shape: (80, 160, 1)\n",
            "Lane drawn shape: (80, 160, 3)\n",
            "Lane image shape: (544, 960, 3)\n",
            "1/1 [==============================] - 0s 41ms/step\n",
            "Prediction shape: (80, 160, 1)\n",
            "Avg fit shape: (80, 160, 1)\n",
            "Blanks shape: (80, 160, 1)\n",
            "Lane drawn shape: (80, 160, 3)\n",
            "Lane image shape: (544, 960, 3)\n"
          ]
        },
        {
          "output_type": "stream",
          "name": "stderr",
          "text": [
            "\rt:  22%|██▏       | 283/1297 [01:27<07:37,  2.22it/s, now=None]"
          ]
        },
        {
          "output_type": "stream",
          "name": "stdout",
          "text": [
            "1/1 [==============================] - 0s 32ms/step\n",
            "Prediction shape: (80, 160, 1)\n",
            "Avg fit shape: (80, 160, 1)\n",
            "Blanks shape:"
          ]
        },
        {
          "output_type": "stream",
          "name": "stderr",
          "text": [
            "\rt:  22%|██▏       | 284/1297 [01:28<07:33,  2.23it/s, now=None]"
          ]
        },
        {
          "output_type": "stream",
          "name": "stdout",
          "text": [
            " (80, 160, 1)\n",
            "Lane drawn shape: (80, 160, 3)\n",
            "Lane image shape: (544, 960, 3)\n",
            "1/1 [==============================] - 0s 39ms/step\n"
          ]
        },
        {
          "output_type": "stream",
          "name": "stderr",
          "text": [
            "\rt:  22%|██▏       | 285/1297 [01:28<07:17,  2.31it/s, now=None]"
          ]
        },
        {
          "output_type": "stream",
          "name": "stdout",
          "text": [
            "Prediction shape: (80, 160, 1)\n",
            "Avg fit shape: (80, 160, 1)\n",
            "Blanks shape: (80, 160, 1)\n",
            "Lane drawn shape: (80, 160, 3)\n",
            "Lane image shape: (544, 960, 3)\n",
            "1/1 [==============================] - 0s 35ms/step\n"
          ]
        },
        {
          "output_type": "stream",
          "name": "stderr",
          "text": [
            "\rt:  22%|██▏       | 286/1297 [01:29<07:24,  2.28it/s, now=None]"
          ]
        },
        {
          "output_type": "stream",
          "name": "stdout",
          "text": [
            "Prediction shape: (80, 160, 1)\n",
            "Avg fit shape: (80, 160, 1)\n",
            "Blanks shape: (80, 160, 1)\n",
            "Lane drawn shape: (80, 160, 3)\n",
            "Lane image shape: (544, 960, 3)\n",
            "1/1 [==============================] - 0s 28ms/step\n"
          ]
        },
        {
          "output_type": "stream",
          "name": "stderr",
          "text": [
            "\rt:  22%|██▏       | 287/1297 [01:29<07:35,  2.22it/s, now=None]"
          ]
        },
        {
          "output_type": "stream",
          "name": "stdout",
          "text": [
            "Prediction shape: (80, 160, 1)\n",
            "Avg fit shape: (80, 160, 1)\n",
            "Blanks shape: (80, 160, 1)\n",
            "Lane drawn shape: (80, 160, 3)\n",
            "Lane image shape: (544, 960, 3)\n",
            "1/1 [==============================] - 0s 34ms/step\n",
            "Prediction shape: (80, 160, 1)\n",
            "Avg fit shape: (80, 160, 1)\n",
            "Blanks shape:"
          ]
        },
        {
          "output_type": "stream",
          "name": "stderr",
          "text": [
            "\rt:  22%|██▏       | 288/1297 [01:30<07:23,  2.27it/s, now=None]"
          ]
        },
        {
          "output_type": "stream",
          "name": "stdout",
          "text": [
            " (80, 160, 1)\n",
            "Lane drawn shape: (80, 160, 3)\n",
            "Lane image shape: (544, 960, 3)\n",
            "1/1 [==============================] - 0s 30ms/step\n"
          ]
        },
        {
          "output_type": "stream",
          "name": "stderr",
          "text": [
            "\rt:  22%|██▏       | 289/1297 [01:30<07:21,  2.28it/s, now=None]"
          ]
        },
        {
          "output_type": "stream",
          "name": "stdout",
          "text": [
            "Prediction shape: (80, 160, 1)\n",
            "Avg fit shape: (80, 160, 1)\n",
            "Blanks shape: (80, 160, 1)\n",
            "Lane drawn shape: (80, 160, 3)\n",
            "Lane image shape: (544, 960, 3)\n",
            "1/1 [==============================] - 0s 36ms/step\n"
          ]
        },
        {
          "output_type": "stream",
          "name": "stderr",
          "text": [
            "\rt:  22%|██▏       | 290/1297 [01:30<07:24,  2.27it/s, now=None]"
          ]
        },
        {
          "output_type": "stream",
          "name": "stdout",
          "text": [
            "Prediction shape: (80, 160, 1)\n",
            "Avg fit shape: (80, 160, 1)\n",
            "Blanks shape: (80, 160, 1)\n",
            "Lane drawn shape: (80, 160, 3)\n",
            "Lane image shape: (544, 960, 3)\n",
            "1/1 [==============================] - 0s 30ms/step\n",
            "Prediction shape: (80, 160, 1)\n",
            "Avg fit shape: (80, 160, 1)\n",
            "Blanks shape: (80, 160, 1)\n",
            "Lane drawn shape: (80, 160, 3)\n",
            "Lane image shape: (544, 960, 3)\n"
          ]
        },
        {
          "output_type": "stream",
          "name": "stderr",
          "text": [
            "\rt:  22%|██▏       | 291/1297 [01:31<07:14,  2.31it/s, now=None]"
          ]
        },
        {
          "output_type": "stream",
          "name": "stdout",
          "text": [
            "1/1 [==============================] - 0s 44ms/step\n"
          ]
        },
        {
          "output_type": "stream",
          "name": "stderr",
          "text": [
            "\rt:  23%|██▎       | 292/1297 [01:31<07:31,  2.22it/s, now=None]"
          ]
        },
        {
          "output_type": "stream",
          "name": "stdout",
          "text": [
            "Prediction shape: (80, 160, 1)\n",
            "Avg fit shape: (80, 160, 1)\n",
            "Blanks shape: (80, 160, 1)\n",
            "Lane drawn shape: (80, 160, 3)\n",
            "Lane image shape: (544, 960, 3)\n",
            "1/1 [==============================] - 0s 33ms/step\n"
          ]
        },
        {
          "output_type": "stream",
          "name": "stderr",
          "text": [
            "\rt:  23%|██▎       | 293/1297 [01:32<07:35,  2.20it/s, now=None]"
          ]
        },
        {
          "output_type": "stream",
          "name": "stdout",
          "text": [
            "Prediction shape: (80, 160, 1)\n",
            "Avg fit shape: (80, 160, 1)\n",
            "Blanks shape: (80, 160, 1)\n",
            "Lane drawn shape: (80, 160, 3)\n",
            "Lane image shape: (544, 960, 3)\n",
            "1/1 [==============================] - 0s 49ms/step\n"
          ]
        },
        {
          "output_type": "stream",
          "name": "stderr",
          "text": [
            "\rt:  23%|██▎       | 294/1297 [01:32<07:58,  2.10it/s, now=None]"
          ]
        },
        {
          "output_type": "stream",
          "name": "stdout",
          "text": [
            "Prediction shape: (80, 160, 1)\n",
            "Avg fit shape: (80, 160, 1)\n",
            "Blanks shape: (80, 160, 1)\n",
            "Lane drawn shape: (80, 160, 3)\n",
            "Lane image shape: (544, 960, 3)\n",
            "1/1 [==============================] - 0s 57ms/step\n",
            "Prediction shape:"
          ]
        },
        {
          "output_type": "stream",
          "name": "stderr",
          "text": [
            "\rt:  23%|██▎       | 295/1297 [01:33<07:57,  2.10it/s, now=None]"
          ]
        },
        {
          "output_type": "stream",
          "name": "stdout",
          "text": [
            " (80, 160, 1)\n",
            "Avg fit shape: (80, 160, 1)\n",
            "Blanks shape: (80, 160, 1)\n",
            "Lane drawn shape: (80, 160, 3)\n",
            "Lane image shape: (544, 960, 3)\n",
            "1/1 [==============================] - 0s 31ms/step\n"
          ]
        },
        {
          "output_type": "stream",
          "name": "stderr",
          "text": [
            "\rt:  23%|██▎       | 296/1297 [01:33<07:19,  2.28it/s, now=None]"
          ]
        },
        {
          "output_type": "stream",
          "name": "stdout",
          "text": [
            "Prediction shape: (80, 160, 1)\n",
            "Avg fit shape: (80, 160, 1)\n",
            "Blanks shape: (80, 160, 1)\n",
            "Lane drawn shape: (80, 160, 3)\n",
            "Lane image shape: (544, 960, 3)\n",
            "1/1 [==============================] - 0s 18ms/step\n"
          ]
        },
        {
          "output_type": "stream",
          "name": "stderr",
          "text": [
            "\rt:  23%|██▎       | 297/1297 [01:33<06:21,  2.62it/s, now=None]"
          ]
        },
        {
          "output_type": "stream",
          "name": "stdout",
          "text": [
            "Prediction shape: (80, 160, 1)\n",
            "Avg fit shape: (80, 160, 1)\n",
            "Blanks shape: (80, 160, 1)\n",
            "Lane drawn shape: (80, 160, 3)\n",
            "Lane image shape: (544, 960, 3)\n",
            "1/1 [==============================] - 0s 19ms/step\n"
          ]
        },
        {
          "output_type": "stream",
          "name": "stderr",
          "text": [
            "\rt:  23%|██▎       | 298/1297 [01:34<05:46,  2.89it/s, now=None]"
          ]
        },
        {
          "output_type": "stream",
          "name": "stdout",
          "text": [
            "Prediction shape: (80, 160, 1)\n",
            "Avg fit shape: (80, 160, 1)\n",
            "Blanks shape: (80, 160, 1)\n",
            "Lane drawn shape: (80, 160, 3)\n",
            "Lane image shape: (544, 960, 3)\n",
            "1/1 [==============================] - 0s 18ms/step\n"
          ]
        },
        {
          "output_type": "stream",
          "name": "stderr",
          "text": [
            "\rt:  23%|██▎       | 299/1297 [01:34<05:15,  3.16it/s, now=None]"
          ]
        },
        {
          "output_type": "stream",
          "name": "stdout",
          "text": [
            "Prediction shape: (80, 160, 1)\n",
            "Avg fit shape: (80, 160, 1)\n",
            "Blanks shape: (80, 160, 1)\n",
            "Lane drawn shape: (80, 160, 3)\n",
            "Lane image shape: (544, 960, 3)\n",
            "1/1 [==============================] - 0s 23ms/step\n"
          ]
        },
        {
          "output_type": "stream",
          "name": "stderr",
          "text": [
            "\rt:  23%|██▎       | 300/1297 [01:34<05:09,  3.22it/s, now=None]"
          ]
        },
        {
          "output_type": "stream",
          "name": "stdout",
          "text": [
            "Prediction shape: (80, 160, 1)\n",
            "Avg fit shape: (80, 160, 1)\n",
            "Blanks shape: (80, 160, 1)\n",
            "Lane drawn shape: (80, 160, 3)\n",
            "Lane image shape: (544, 960, 3)\n",
            "1/1 [==============================] - 0s 18ms/step\n"
          ]
        },
        {
          "output_type": "stream",
          "name": "stderr",
          "text": [
            "\rt:  23%|██▎       | 301/1297 [01:35<04:55,  3.37it/s, now=None]"
          ]
        },
        {
          "output_type": "stream",
          "name": "stdout",
          "text": [
            "Prediction shape: (80, 160, 1)\n",
            "Avg fit shape: (80, 160, 1)\n",
            "Blanks shape: (80, 160, 1)\n",
            "Lane drawn shape: (80, 160, 3)\n",
            "Lane image shape: (544, 960, 3)\n",
            "1/1 [==============================] - 0s 18ms/step\n"
          ]
        },
        {
          "output_type": "stream",
          "name": "stderr",
          "text": [
            "\rt:  23%|██▎       | 302/1297 [01:35<04:49,  3.43it/s, now=None]"
          ]
        },
        {
          "output_type": "stream",
          "name": "stdout",
          "text": [
            "Prediction shape: (80, 160, 1)\n",
            "Avg fit shape: (80, 160, 1)\n",
            "Blanks shape: (80, 160, 1)\n",
            "Lane drawn shape: (80, 160, 3)\n",
            "Lane image shape: (544, 960, 3)\n",
            "1/1 [==============================] - 0s 19ms/step\n"
          ]
        },
        {
          "output_type": "stream",
          "name": "stderr",
          "text": [
            "\rt:  23%|██▎       | 303/1297 [01:35<04:40,  3.55it/s, now=None]"
          ]
        },
        {
          "output_type": "stream",
          "name": "stdout",
          "text": [
            "Prediction shape: (80, 160, 1)\n",
            "Avg fit shape: (80, 160, 1)\n",
            "Blanks shape: (80, 160, 1)\n",
            "Lane drawn shape: (80, 160, 3)\n",
            "Lane image shape: (544, 960, 3)\n",
            "1/1 [==============================] - 0s 18ms/step\n"
          ]
        },
        {
          "output_type": "stream",
          "name": "stderr",
          "text": [
            "\rt:  23%|██▎       | 304/1297 [01:35<04:39,  3.55it/s, now=None]"
          ]
        },
        {
          "output_type": "stream",
          "name": "stdout",
          "text": [
            "Prediction shape: (80, 160, 1)\n",
            "Avg fit shape: (80, 160, 1)\n",
            "Blanks shape: (80, 160, 1)\n",
            "Lane drawn shape: (80, 160, 3)\n",
            "Lane image shape: (544, 960, 3)\n",
            "1/1 [==============================] - 0s 19ms/step\n"
          ]
        },
        {
          "output_type": "stream",
          "name": "stderr",
          "text": [
            "\rt:  24%|██▎       | 305/1297 [01:36<04:31,  3.65it/s, now=None]"
          ]
        },
        {
          "output_type": "stream",
          "name": "stdout",
          "text": [
            "Prediction shape: (80, 160, 1)\n",
            "Avg fit shape: (80, 160, 1)\n",
            "Blanks shape: (80, 160, 1)\n",
            "Lane drawn shape: (80, 160, 3)\n",
            "Lane image shape: (544, 960, 3)\n",
            "1/1 [==============================] - 0s 18ms/step\n"
          ]
        },
        {
          "output_type": "stream",
          "name": "stderr",
          "text": [
            "\rt:  24%|██▎       | 306/1297 [01:36<04:30,  3.66it/s, now=None]"
          ]
        },
        {
          "output_type": "stream",
          "name": "stdout",
          "text": [
            "Prediction shape: (80, 160, 1)\n",
            "Avg fit shape: (80, 160, 1)\n",
            "Blanks shape: (80, 160, 1)\n",
            "Lane drawn shape: (80, 160, 3)\n",
            "Lane image shape: (544, 960, 3)\n",
            "1/1 [==============================] - 0s 19ms/step\n"
          ]
        },
        {
          "output_type": "stream",
          "name": "stderr",
          "text": [
            "\rt:  24%|██▎       | 307/1297 [01:36<04:28,  3.69it/s, now=None]"
          ]
        },
        {
          "output_type": "stream",
          "name": "stdout",
          "text": [
            "Prediction shape: (80, 160, 1)\n",
            "Avg fit shape: (80, 160, 1)\n",
            "Blanks shape: (80, 160, 1)\n",
            "Lane drawn shape: (80, 160, 3)\n",
            "Lane image shape: (544, 960, 3)\n",
            "1/1 [==============================] - 0s 18ms/step\n"
          ]
        },
        {
          "output_type": "stream",
          "name": "stderr",
          "text": [
            "\rt:  24%|██▎       | 308/1297 [01:36<04:24,  3.73it/s, now=None]"
          ]
        },
        {
          "output_type": "stream",
          "name": "stdout",
          "text": [
            "Prediction shape: (80, 160, 1)\n",
            "Avg fit shape: (80, 160, 1)\n",
            "Blanks shape: (80, 160, 1)\n",
            "Lane drawn shape: (80, 160, 3)\n",
            "Lane image shape: (544, 960, 3)\n",
            "1/1 [==============================] - 0s 19ms/step\n"
          ]
        },
        {
          "output_type": "stream",
          "name": "stderr",
          "text": [
            "\rt:  24%|██▍       | 309/1297 [01:37<04:23,  3.75it/s, now=None]"
          ]
        },
        {
          "output_type": "stream",
          "name": "stdout",
          "text": [
            "Prediction shape: (80, 160, 1)\n",
            "Avg fit shape: (80, 160, 1)\n",
            "Blanks shape: (80, 160, 1)\n",
            "Lane drawn shape: (80, 160, 3)\n",
            "Lane image shape: (544, 960, 3)\n",
            "1/1 [==============================] - 0s 19ms/step\n"
          ]
        },
        {
          "output_type": "stream",
          "name": "stderr",
          "text": [
            "\rt:  24%|██▍       | 310/1297 [01:37<04:26,  3.70it/s, now=None]"
          ]
        },
        {
          "output_type": "stream",
          "name": "stdout",
          "text": [
            "Prediction shape: (80, 160, 1)\n",
            "Avg fit shape: (80, 160, 1)\n",
            "Blanks shape: (80, 160, 1)\n",
            "Lane drawn shape: (80, 160, 3)\n",
            "Lane image shape: (544, 960, 3)\n",
            "1/1 [==============================] - 0s 20ms/step\n"
          ]
        },
        {
          "output_type": "stream",
          "name": "stderr",
          "text": [
            "\rt:  24%|██▍       | 311/1297 [01:37<04:28,  3.67it/s, now=None]"
          ]
        },
        {
          "output_type": "stream",
          "name": "stdout",
          "text": [
            "Prediction shape: (80, 160, 1)\n",
            "Avg fit shape: (80, 160, 1)\n",
            "Blanks shape: (80, 160, 1)\n",
            "Lane drawn shape: (80, 160, 3)\n",
            "Lane image shape: (544, 960, 3)\n",
            "1/1 [==============================] - 0s 21ms/step\n"
          ]
        },
        {
          "output_type": "stream",
          "name": "stderr",
          "text": [
            "\rt:  24%|██▍       | 312/1297 [01:37<04:25,  3.70it/s, now=None]"
          ]
        },
        {
          "output_type": "stream",
          "name": "stdout",
          "text": [
            "Prediction shape: (80, 160, 1)\n",
            "Avg fit shape: (80, 160, 1)\n",
            "Blanks shape: (80, 160, 1)\n",
            "Lane drawn shape: (80, 160, 3)\n",
            "Lane image shape: (544, 960, 3)\n",
            "1/1 [==============================] - 0s 19ms/step\n"
          ]
        },
        {
          "output_type": "stream",
          "name": "stderr",
          "text": [
            "\rt:  24%|██▍       | 313/1297 [01:38<04:19,  3.78it/s, now=None]"
          ]
        },
        {
          "output_type": "stream",
          "name": "stdout",
          "text": [
            "Prediction shape: (80, 160, 1)\n",
            "Avg fit shape: (80, 160, 1)\n",
            "Blanks shape: (80, 160, 1)\n",
            "Lane drawn shape: (80, 160, 3)\n",
            "Lane image shape: (544, 960, 3)\n",
            "1/1 [==============================] - 0s 18ms/step\n"
          ]
        },
        {
          "output_type": "stream",
          "name": "stderr",
          "text": [
            "\rt:  24%|██▍       | 314/1297 [01:38<04:22,  3.74it/s, now=None]"
          ]
        },
        {
          "output_type": "stream",
          "name": "stdout",
          "text": [
            "Prediction shape: (80, 160, 1)\n",
            "Avg fit shape: (80, 160, 1)\n",
            "Blanks shape: (80, 160, 1)\n",
            "Lane drawn shape: (80, 160, 3)\n",
            "Lane image shape: (544, 960, 3)\n",
            "1/1 [==============================] - 0s 21ms/step\n"
          ]
        },
        {
          "output_type": "stream",
          "name": "stderr",
          "text": [
            "\rt:  24%|██▍       | 315/1297 [01:38<04:26,  3.68it/s, now=None]"
          ]
        },
        {
          "output_type": "stream",
          "name": "stdout",
          "text": [
            "Prediction shape: (80, 160, 1)\n",
            "Avg fit shape: (80, 160, 1)\n",
            "Blanks shape: (80, 160, 1)\n",
            "Lane drawn shape: (80, 160, 3)\n",
            "Lane image shape: (544, 960, 3)\n",
            "1/1 [==============================] - 0s 18ms/step\n"
          ]
        },
        {
          "output_type": "stream",
          "name": "stderr",
          "text": [
            "\rt:  24%|██▍       | 316/1297 [01:39<04:20,  3.76it/s, now=None]"
          ]
        },
        {
          "output_type": "stream",
          "name": "stdout",
          "text": [
            "Prediction shape: (80, 160, 1)\n",
            "Avg fit shape: (80, 160, 1)\n",
            "Blanks shape: (80, 160, 1)\n",
            "Lane drawn shape: (80, 160, 3)\n",
            "Lane image shape: (544, 960, 3)\n",
            "1/1 [==============================] - 0s 18ms/step\n"
          ]
        },
        {
          "output_type": "stream",
          "name": "stderr",
          "text": [
            "\rt:  24%|██▍       | 317/1297 [01:39<04:17,  3.81it/s, now=None]"
          ]
        },
        {
          "output_type": "stream",
          "name": "stdout",
          "text": [
            "Prediction shape: (80, 160, 1)\n",
            "Avg fit shape: (80, 160, 1)\n",
            "Blanks shape: (80, 160, 1)\n",
            "Lane drawn shape: (80, 160, 3)\n",
            "Lane image shape: (544, 960, 3)\n",
            "1/1 [==============================] - 0s 18ms/step\n"
          ]
        },
        {
          "output_type": "stream",
          "name": "stderr",
          "text": [
            "\rt:  25%|██▍       | 318/1297 [01:39<04:21,  3.75it/s, now=None]"
          ]
        },
        {
          "output_type": "stream",
          "name": "stdout",
          "text": [
            "Prediction shape: (80, 160, 1)\n",
            "Avg fit shape: (80, 160, 1)\n",
            "Blanks shape: (80, 160, 1)\n",
            "Lane drawn shape: (80, 160, 3)\n",
            "Lane image shape: (544, 960, 3)\n",
            "1/1 [==============================] - 0s 19ms/step\n"
          ]
        },
        {
          "output_type": "stream",
          "name": "stderr",
          "text": [
            "\rt:  25%|██▍       | 319/1297 [01:39<04:25,  3.68it/s, now=None]"
          ]
        },
        {
          "output_type": "stream",
          "name": "stdout",
          "text": [
            "Prediction shape: (80, 160, 1)\n",
            "Avg fit shape: (80, 160, 1)\n",
            "Blanks shape: (80, 160, 1)\n",
            "Lane drawn shape: (80, 160, 3)\n",
            "Lane image shape: (544, 960, 3)\n",
            "1/1 [==============================] - 0s 18ms/step\n"
          ]
        },
        {
          "output_type": "stream",
          "name": "stderr",
          "text": [
            "\rt:  25%|██▍       | 320/1297 [01:40<04:18,  3.78it/s, now=None]"
          ]
        },
        {
          "output_type": "stream",
          "name": "stdout",
          "text": [
            "Prediction shape: (80, 160, 1)\n",
            "Avg fit shape: (80, 160, 1)\n",
            "Blanks shape: (80, 160, 1)\n",
            "Lane drawn shape: (80, 160, 3)\n",
            "Lane image shape: (544, 960, 3)\n",
            "1/1 [==============================] - 0s 18ms/step\n"
          ]
        },
        {
          "output_type": "stream",
          "name": "stderr",
          "text": [
            "\rt:  25%|██▍       | 321/1297 [01:40<04:14,  3.83it/s, now=None]"
          ]
        },
        {
          "output_type": "stream",
          "name": "stdout",
          "text": [
            "Prediction shape: (80, 160, 1)\n",
            "Avg fit shape: (80, 160, 1)\n",
            "Blanks shape: (80, 160, 1)\n",
            "Lane drawn shape: (80, 160, 3)\n",
            "Lane image shape: (544, 960, 3)\n",
            "1/1 [==============================] - 0s 20ms/step\n"
          ]
        },
        {
          "output_type": "stream",
          "name": "stderr",
          "text": [
            "\rt:  25%|██▍       | 322/1297 [01:40<04:15,  3.81it/s, now=None]"
          ]
        },
        {
          "output_type": "stream",
          "name": "stdout",
          "text": [
            "Prediction shape: (80, 160, 1)\n",
            "Avg fit shape: (80, 160, 1)\n",
            "Blanks shape: (80, 160, 1)\n",
            "Lane drawn shape: (80, 160, 3)\n",
            "Lane image shape: (544, 960, 3)\n",
            "1/1 [==============================] - 0s 18ms/step\n"
          ]
        },
        {
          "output_type": "stream",
          "name": "stderr",
          "text": [
            "\rt:  25%|██▍       | 323/1297 [01:40<04:27,  3.64it/s, now=None]"
          ]
        },
        {
          "output_type": "stream",
          "name": "stdout",
          "text": [
            "Prediction shape: (80, 160, 1)\n",
            "Avg fit shape: (80, 160, 1)\n",
            "Blanks shape: (80, 160, 1)\n",
            "Lane drawn shape: (80, 160, 3)\n",
            "Lane image shape: (544, 960, 3)\n",
            "1/1 [==============================] - 0s 18ms/step\n"
          ]
        },
        {
          "output_type": "stream",
          "name": "stderr",
          "text": [
            "\rt:  25%|██▍       | 324/1297 [01:41<04:21,  3.73it/s, now=None]"
          ]
        },
        {
          "output_type": "stream",
          "name": "stdout",
          "text": [
            "Prediction shape: (80, 160, 1)\n",
            "Avg fit shape: (80, 160, 1)\n",
            "Blanks shape: (80, 160, 1)\n",
            "Lane drawn shape: (80, 160, 3)\n",
            "Lane image shape: (544, 960, 3)\n",
            "1/1 [==============================] - 0s 18ms/step\n"
          ]
        },
        {
          "output_type": "stream",
          "name": "stderr",
          "text": [
            "\rt:  25%|██▌       | 325/1297 [01:41<04:17,  3.77it/s, now=None]"
          ]
        },
        {
          "output_type": "stream",
          "name": "stdout",
          "text": [
            "Prediction shape: (80, 160, 1)\n",
            "Avg fit shape: (80, 160, 1)\n",
            "Blanks shape: (80, 160, 1)\n",
            "Lane drawn shape: (80, 160, 3)\n",
            "Lane image shape: (544, 960, 3)\n",
            "1/1 [==============================] - 0s 19ms/step\n"
          ]
        },
        {
          "output_type": "stream",
          "name": "stderr",
          "text": [
            "\rt:  25%|██▌       | 326/1297 [01:41<04:13,  3.82it/s, now=None]"
          ]
        },
        {
          "output_type": "stream",
          "name": "stdout",
          "text": [
            "Prediction shape: (80, 160, 1)\n",
            "Avg fit shape: (80, 160, 1)\n",
            "Blanks shape: (80, 160, 1)\n",
            "Lane drawn shape: (80, 160, 3)\n",
            "Lane image shape: (544, 960, 3)\n",
            "1/1 [==============================] - 0s 20ms/step\n"
          ]
        },
        {
          "output_type": "stream",
          "name": "stderr",
          "text": [
            "\rt:  25%|██▌       | 327/1297 [01:41<04:23,  3.68it/s, now=None]"
          ]
        },
        {
          "output_type": "stream",
          "name": "stdout",
          "text": [
            "Prediction shape: (80, 160, 1)\n",
            "Avg fit shape: (80, 160, 1)\n",
            "Blanks shape: (80, 160, 1)\n",
            "Lane drawn shape: (80, 160, 3)\n",
            "Lane image shape: (544, 960, 3)\n",
            "1/1 [==============================] - 0s 19ms/step\n"
          ]
        },
        {
          "output_type": "stream",
          "name": "stderr",
          "text": [
            "\rt:  25%|██▌       | 328/1297 [01:42<04:20,  3.71it/s, now=None]"
          ]
        },
        {
          "output_type": "stream",
          "name": "stdout",
          "text": [
            "Prediction shape: (80, 160, 1)\n",
            "Avg fit shape: (80, 160, 1)\n",
            "Blanks shape: (80, 160, 1)\n",
            "Lane drawn shape: (80, 160, 3)\n",
            "Lane image shape: (544, 960, 3)\n",
            "1/1 [==============================] - 0s 19ms/step\n"
          ]
        },
        {
          "output_type": "stream",
          "name": "stderr",
          "text": [
            "\rt:  25%|██▌       | 329/1297 [01:42<04:17,  3.76it/s, now=None]"
          ]
        },
        {
          "output_type": "stream",
          "name": "stdout",
          "text": [
            "Prediction shape: (80, 160, 1)\n",
            "Avg fit shape: (80, 160, 1)\n",
            "Blanks shape: (80, 160, 1)\n",
            "Lane drawn shape: (80, 160, 3)\n",
            "Lane image shape: (544, 960, 3)\n",
            "1/1 [==============================] - 0s 20ms/step\n"
          ]
        },
        {
          "output_type": "stream",
          "name": "stderr",
          "text": [
            "\rt:  25%|██▌       | 330/1297 [01:42<04:17,  3.75it/s, now=None]"
          ]
        },
        {
          "output_type": "stream",
          "name": "stdout",
          "text": [
            "Prediction shape: (80, 160, 1)\n",
            "Avg fit shape: (80, 160, 1)\n",
            "Blanks shape: (80, 160, 1)\n",
            "Lane drawn shape: (80, 160, 3)\n",
            "Lane image shape: (544, 960, 3)\n",
            "1/1 [==============================] - 0s 19ms/step\n"
          ]
        },
        {
          "output_type": "stream",
          "name": "stderr",
          "text": [
            "\rt:  26%|██▌       | 331/1297 [01:43<04:21,  3.70it/s, now=None]"
          ]
        },
        {
          "output_type": "stream",
          "name": "stdout",
          "text": [
            "Prediction shape: (80, 160, 1)\n",
            "Avg fit shape: (80, 160, 1)\n",
            "Blanks shape: (80, 160, 1)\n",
            "Lane drawn shape: (80, 160, 3)\n",
            "Lane image shape: (544, 960, 3)\n",
            "1/1 [==============================] - 0s 19ms/step\n"
          ]
        },
        {
          "output_type": "stream",
          "name": "stderr",
          "text": [
            "\rt:  26%|██▌       | 332/1297 [01:43<04:33,  3.52it/s, now=None]"
          ]
        },
        {
          "output_type": "stream",
          "name": "stdout",
          "text": [
            "Prediction shape: (80, 160, 1)\n",
            "Avg fit shape: (80, 160, 1)\n",
            "Blanks shape: (80, 160, 1)\n",
            "Lane drawn shape: (80, 160, 3)\n",
            "Lane image shape: (544, 960, 3)\n",
            "1/1 [==============================] - 0s 30ms/step\n"
          ]
        },
        {
          "output_type": "stream",
          "name": "stderr",
          "text": [
            "\rt:  26%|██▌       | 333/1297 [01:43<05:06,  3.15it/s, now=None]"
          ]
        },
        {
          "output_type": "stream",
          "name": "stdout",
          "text": [
            "Prediction shape: (80, 160, 1)\n",
            "Avg fit shape: (80, 160, 1)\n",
            "Blanks shape: (80, 160, 1)\n",
            "Lane drawn shape: (80, 160, 3)\n",
            "Lane image shape: (544, 960, 3)\n",
            "1/1 [==============================] - 0s 30ms/step\n",
            "Prediction shape: (80, 160, 1)\n",
            "Avg fit shape: (80, 160, 1)\n",
            "Blanks shape: (80, 160, 1)\n",
            "Lane drawn shape: (80, 160, 3)\n",
            "Lane image shape: (544, 960, 3)\n"
          ]
        },
        {
          "output_type": "stream",
          "name": "stderr",
          "text": [
            "\rt:  26%|██▌       | 334/1297 [01:44<05:37,  2.85it/s, now=None]"
          ]
        },
        {
          "output_type": "stream",
          "name": "stdout",
          "text": [
            "1/1 [==============================] - 0s 27ms/step\n"
          ]
        },
        {
          "output_type": "stream",
          "name": "stderr",
          "text": [
            "\rt:  26%|██▌       | 335/1297 [01:44<05:55,  2.71it/s, now=None]"
          ]
        },
        {
          "output_type": "stream",
          "name": "stdout",
          "text": [
            "Prediction shape: (80, 160, 1)\n",
            "Avg fit shape: (80, 160, 1)\n",
            "Blanks shape: (80, 160, 1)\n",
            "Lane drawn shape: (80, 160, 3)\n",
            "Lane image shape: (544, 960, 3)\n",
            "1/1 [==============================] - 0s 51ms/step\n"
          ]
        },
        {
          "output_type": "stream",
          "name": "stderr",
          "text": [
            "\rt:  26%|██▌       | 336/1297 [01:45<06:18,  2.54it/s, now=None]"
          ]
        },
        {
          "output_type": "stream",
          "name": "stdout",
          "text": [
            "Prediction shape: (80, 160, 1)\n",
            "Avg fit shape: (80, 160, 1)\n",
            "Blanks shape: (80, 160, 1)\n",
            "Lane drawn shape: (80, 160, 3)\n",
            "Lane image shape: (544, 960, 3)\n",
            "1/1 [==============================] - 0s 52ms/step\n"
          ]
        },
        {
          "output_type": "stream",
          "name": "stderr",
          "text": [
            "\rt:  26%|██▌       | 337/1297 [01:45<06:33,  2.44it/s, now=None]"
          ]
        },
        {
          "output_type": "stream",
          "name": "stdout",
          "text": [
            "Prediction shape: (80, 160, 1)\n",
            "Avg fit shape: (80, 160, 1)\n",
            "Blanks shape: (80, 160, 1)\n",
            "Lane drawn shape: (80, 160, 3)\n",
            "Lane image shape: (544, 960, 3)\n",
            "1/1 [==============================] - 0s 39ms/step\n",
            "Prediction shape: (80, 160, 1)\n",
            "Avg fit shape: (80, 160, 1)\n"
          ]
        },
        {
          "output_type": "stream",
          "name": "stderr",
          "text": [
            "\rt:  26%|██▌       | 338/1297 [01:45<06:36,  2.42it/s, now=None]"
          ]
        },
        {
          "output_type": "stream",
          "name": "stdout",
          "text": [
            "Blanks shape: (80, 160, 1)\n",
            "Lane drawn shape: (80, 160, 3)\n",
            "Lane image shape: (544, 960, 3)\n",
            "1/1 [==============================] - 0s 29ms/step\n",
            "Prediction shape: (80, 160, 1)"
          ]
        },
        {
          "output_type": "stream",
          "name": "stderr",
          "text": [
            "\rt:  26%|██▌       | 339/1297 [01:46<06:41,  2.38it/s, now=None]"
          ]
        },
        {
          "output_type": "stream",
          "name": "stdout",
          "text": [
            "\n",
            "Avg fit shape: (80, 160, 1)\n",
            "Blanks shape: (80, 160, 1)\n",
            "Lane drawn shape: (80, 160, 3)\n",
            "Lane image shape: (544, 960, 3)\n",
            "1/1 [==============================] - 0s 39ms/step\n",
            "Prediction shape: (80, 160, 1)\n",
            "Avg fit shape: (80, 160, 1)\n",
            "Blanks shape: (80, 160, 1)\n"
          ]
        },
        {
          "output_type": "stream",
          "name": "stderr",
          "text": [
            "\rt:  26%|██▌       | 340/1297 [01:46<06:39,  2.39it/s, now=None]"
          ]
        },
        {
          "output_type": "stream",
          "name": "stdout",
          "text": [
            "Lane drawn shape: (80, 160, 3)\n",
            "Lane image shape: (544, 960, 3)\n",
            "1/1 [==============================] - 0s 31ms/step\n",
            "Prediction shape: (80, 160, 1)\n",
            "Avg fit shape: (80, 160, 1)\n",
            "Blanks shape: (80, 160, 1)\n",
            "Lane drawn shape: (80, 160, 3)\n",
            "Lane image shape: (544, 960, 3)\n"
          ]
        },
        {
          "output_type": "stream",
          "name": "stderr",
          "text": [
            "\rt:  26%|██▋       | 341/1297 [01:47<06:42,  2.38it/s, now=None]"
          ]
        },
        {
          "output_type": "stream",
          "name": "stdout",
          "text": [
            "1/1 [==============================] - 0s 30ms/step\n"
          ]
        },
        {
          "output_type": "stream",
          "name": "stderr",
          "text": [
            "\rt:  26%|██▋       | 342/1297 [01:47<06:40,  2.38it/s, now=None]"
          ]
        },
        {
          "output_type": "stream",
          "name": "stdout",
          "text": [
            "Prediction shape: (80, 160, 1)\n",
            "Avg fit shape: (80, 160, 1)\n",
            "Blanks shape: (80, 160, 1)\n",
            "Lane drawn shape: (80, 160, 3)\n",
            "Lane image shape: (544, 960, 3)\n",
            "1/1 [==============================] - 0s 43ms/step\n",
            "Prediction shape: (80, 160, 1)\n",
            "Avg fit shape: (80, 160, 1)\n",
            "Blanks shape: (80, 160, 1)\n",
            "Lane drawn shape: (80, 160, 3)\n",
            "Lane image shape: (544, 960, 3)\n"
          ]
        },
        {
          "output_type": "stream",
          "name": "stderr",
          "text": [
            "\rt:  26%|██▋       | 343/1297 [01:48<06:43,  2.36it/s, now=None]"
          ]
        },
        {
          "output_type": "stream",
          "name": "stdout",
          "text": [
            "1/1 [==============================] - 0s 32ms/step\n",
            "Prediction shape: "
          ]
        },
        {
          "output_type": "stream",
          "name": "stderr",
          "text": [
            "\rt:  27%|██▋       | 344/1297 [01:48<06:48,  2.33it/s, now=None]"
          ]
        },
        {
          "output_type": "stream",
          "name": "stdout",
          "text": [
            "(80, 160, 1)\n",
            "Avg fit shape: (80, 160, 1)\n",
            "Blanks shape: (80, 160, 1)\n",
            "Lane drawn shape: (80, 160, 3)\n",
            "Lane image shape: (544, 960, 3)\n",
            "1/1 [==============================] - 0s 34ms/step\n"
          ]
        },
        {
          "output_type": "stream",
          "name": "stderr",
          "text": [
            "\rt:  27%|██▋       | 345/1297 [01:48<06:35,  2.41it/s, now=None]"
          ]
        },
        {
          "output_type": "stream",
          "name": "stdout",
          "text": [
            "Prediction shape: (80, 160, 1)\n",
            "Avg fit shape: (80, 160, 1)\n",
            "Blanks shape: (80, 160, 1)\n",
            "Lane drawn shape: (80, 160, 3)\n",
            "Lane image shape: (544, 960, 3)\n",
            "1/1 [==============================] - 0s 19ms/step\n"
          ]
        },
        {
          "output_type": "stream",
          "name": "stderr",
          "text": [
            "\rt:  27%|██▋       | 346/1297 [01:49<05:54,  2.68it/s, now=None]"
          ]
        },
        {
          "output_type": "stream",
          "name": "stdout",
          "text": [
            "Prediction shape: (80, 160, 1)\n",
            "Avg fit shape: (80, 160, 1)\n",
            "Blanks shape: (80, 160, 1)\n",
            "Lane drawn shape: (80, 160, 3)\n",
            "Lane image shape: (544, 960, 3)\n",
            "1/1 [==============================] - 0s 19ms/step\n"
          ]
        },
        {
          "output_type": "stream",
          "name": "stderr",
          "text": [
            "\rt:  27%|██▋       | 347/1297 [01:49<05:25,  2.92it/s, now=None]"
          ]
        },
        {
          "output_type": "stream",
          "name": "stdout",
          "text": [
            "Prediction shape: (80, 160, 1)\n",
            "Avg fit shape: (80, 160, 1)\n",
            "Blanks shape: (80, 160, 1)\n",
            "Lane drawn shape: (80, 160, 3)\n",
            "Lane image shape: (544, 960, 3)\n",
            "1/1 [==============================] - 0s 19ms/step\n"
          ]
        },
        {
          "output_type": "stream",
          "name": "stderr",
          "text": [
            "\rt:  27%|██▋       | 348/1297 [01:49<05:02,  3.14it/s, now=None]"
          ]
        },
        {
          "output_type": "stream",
          "name": "stdout",
          "text": [
            "Prediction shape: (80, 160, 1)\n",
            "Avg fit shape: (80, 160, 1)\n",
            "Blanks shape: (80, 160, 1)\n",
            "Lane drawn shape: (80, 160, 3)\n",
            "Lane image shape: (544, 960, 3)\n",
            "1/1 [==============================] - 0s 20ms/step\n"
          ]
        },
        {
          "output_type": "stream",
          "name": "stderr",
          "text": [
            "\rt:  27%|██▋       | 349/1297 [01:49<04:54,  3.22it/s, now=None]"
          ]
        },
        {
          "output_type": "stream",
          "name": "stdout",
          "text": [
            "Prediction shape: (80, 160, 1)\n",
            "Avg fit shape: (80, 160, 1)\n",
            "Blanks shape: (80, 160, 1)\n",
            "Lane drawn shape: (80, 160, 3)\n",
            "Lane image shape: (544, 960, 3)\n",
            "1/1 [==============================] - 0s 24ms/step\n"
          ]
        },
        {
          "output_type": "stream",
          "name": "stderr",
          "text": [
            "\rt:  27%|██▋       | 350/1297 [01:50<04:44,  3.33it/s, now=None]"
          ]
        },
        {
          "output_type": "stream",
          "name": "stdout",
          "text": [
            "Prediction shape: (80, 160, 1)\n",
            "Avg fit shape: (80, 160, 1)\n",
            "Blanks shape: (80, 160, 1)\n",
            "Lane drawn shape: (80, 160, 3)\n",
            "Lane image shape: (544, 960, 3)\n",
            "1/1 [==============================] - 0s 18ms/step\n"
          ]
        },
        {
          "output_type": "stream",
          "name": "stderr",
          "text": [
            "\rt:  27%|██▋       | 351/1297 [01:50<04:28,  3.52it/s, now=None]"
          ]
        },
        {
          "output_type": "stream",
          "name": "stdout",
          "text": [
            "Prediction shape: (80, 160, 1)\n",
            "Avg fit shape: (80, 160, 1)\n",
            "Blanks shape: (80, 160, 1)\n",
            "Lane drawn shape: (80, 160, 3)\n",
            "Lane image shape: (544, 960, 3)\n",
            "1/1 [==============================] - 0s 18ms/step\n"
          ]
        },
        {
          "output_type": "stream",
          "name": "stderr",
          "text": [
            "\rt:  27%|██▋       | 352/1297 [01:50<04:25,  3.56it/s, now=None]"
          ]
        },
        {
          "output_type": "stream",
          "name": "stdout",
          "text": [
            "Prediction shape: (80, 160, 1)\n",
            "Avg fit shape: (80, 160, 1)\n",
            "Blanks shape: (80, 160, 1)\n",
            "Lane drawn shape: (80, 160, 3)\n",
            "Lane image shape: (544, 960, 3)\n",
            "1/1 [==============================] - 0s 18ms/step\n"
          ]
        },
        {
          "output_type": "stream",
          "name": "stderr",
          "text": [
            "\rt:  27%|██▋       | 353/1297 [01:51<04:28,  3.51it/s, now=None]"
          ]
        },
        {
          "output_type": "stream",
          "name": "stdout",
          "text": [
            "Prediction shape: (80, 160, 1)\n",
            "Avg fit shape: (80, 160, 1)\n",
            "Blanks shape: (80, 160, 1)\n",
            "Lane drawn shape: (80, 160, 3)\n",
            "Lane image shape: (544, 960, 3)\n",
            "1/1 [==============================] - 0s 19ms/step\n"
          ]
        },
        {
          "output_type": "stream",
          "name": "stderr",
          "text": [
            "\rt:  27%|██▋       | 354/1297 [01:51<04:25,  3.55it/s, now=None]"
          ]
        },
        {
          "output_type": "stream",
          "name": "stdout",
          "text": [
            "Prediction shape: (80, 160, 1)\n",
            "Avg fit shape: (80, 160, 1)\n",
            "Blanks shape: (80, 160, 1)\n",
            "Lane drawn shape: (80, 160, 3)\n",
            "Lane image shape: (544, 960, 3)\n",
            "1/1 [==============================] - 0s 19ms/step\n"
          ]
        },
        {
          "output_type": "stream",
          "name": "stderr",
          "text": [
            "\rt:  27%|██▋       | 355/1297 [01:51<04:18,  3.64it/s, now=None]"
          ]
        },
        {
          "output_type": "stream",
          "name": "stdout",
          "text": [
            "Prediction shape: (80, 160, 1)\n",
            "Avg fit shape: (80, 160, 1)\n",
            "Blanks shape: (80, 160, 1)\n",
            "Lane drawn shape: (80, 160, 3)\n",
            "Lane image shape: (544, 960, 3)\n",
            "1/1 [==============================] - 0s 18ms/step\n"
          ]
        },
        {
          "output_type": "stream",
          "name": "stderr",
          "text": [
            "\rt:  27%|██▋       | 356/1297 [01:51<04:18,  3.65it/s, now=None]"
          ]
        },
        {
          "output_type": "stream",
          "name": "stdout",
          "text": [
            "Prediction shape: (80, 160, 1)\n",
            "Avg fit shape: (80, 160, 1)\n",
            "Blanks shape: (80, 160, 1)\n",
            "Lane drawn shape: (80, 160, 3)\n",
            "Lane image shape: (544, 960, 3)\n",
            "1/1 [==============================] - 0s 18ms/step\n"
          ]
        },
        {
          "output_type": "stream",
          "name": "stderr",
          "text": [
            "\rt:  28%|██▊       | 357/1297 [01:52<04:14,  3.70it/s, now=None]"
          ]
        },
        {
          "output_type": "stream",
          "name": "stdout",
          "text": [
            "Prediction shape: (80, 160, 1)\n",
            "Avg fit shape: (80, 160, 1)\n",
            "Blanks shape: (80, 160, 1)\n",
            "Lane drawn shape: (80, 160, 3)\n",
            "Lane image shape: (544, 960, 3)\n",
            "1/1 [==============================] - 0s 24ms/step\n"
          ]
        },
        {
          "output_type": "stream",
          "name": "stderr",
          "text": [
            "\rt:  28%|██▊       | 358/1297 [01:52<04:11,  3.73it/s, now=None]"
          ]
        },
        {
          "output_type": "stream",
          "name": "stdout",
          "text": [
            "Prediction shape: (80, 160, 1)\n",
            "Avg fit shape: (80, 160, 1)\n",
            "Blanks shape: (80, 160, 1)\n",
            "Lane drawn shape: (80, 160, 3)\n",
            "Lane image shape: (544, 960, 3)\n",
            "1/1 [==============================] - 0s 19ms/step\n"
          ]
        },
        {
          "output_type": "stream",
          "name": "stderr",
          "text": [
            "\rt:  28%|██▊       | 359/1297 [01:52<04:06,  3.81it/s, now=None]"
          ]
        },
        {
          "output_type": "stream",
          "name": "stdout",
          "text": [
            "Prediction shape: (80, 160, 1)\n",
            "Avg fit shape: (80, 160, 1)\n",
            "Blanks shape: (80, 160, 1)\n",
            "Lane drawn shape: (80, 160, 3)\n",
            "Lane image shape: (544, 960, 3)\n",
            "1/1 [==============================] - 0s 18ms/step\n"
          ]
        },
        {
          "output_type": "stream",
          "name": "stderr",
          "text": [
            "\rt:  28%|██▊       | 360/1297 [01:52<04:12,  3.72it/s, now=None]"
          ]
        },
        {
          "output_type": "stream",
          "name": "stdout",
          "text": [
            "Prediction shape: (80, 160, 1)\n",
            "Avg fit shape: (80, 160, 1)\n",
            "Blanks shape: (80, 160, 1)\n",
            "Lane drawn shape: (80, 160, 3)\n",
            "Lane image shape: (544, 960, 3)\n",
            "1/1 [==============================] - 0s 18ms/step\n"
          ]
        },
        {
          "output_type": "stream",
          "name": "stderr",
          "text": [
            "\rt:  28%|██▊       | 361/1297 [01:53<04:10,  3.73it/s, now=None]"
          ]
        },
        {
          "output_type": "stream",
          "name": "stdout",
          "text": [
            "Prediction shape: (80, 160, 1)\n",
            "Avg fit shape: (80, 160, 1)\n",
            "Blanks shape: (80, 160, 1)\n",
            "Lane drawn shape: (80, 160, 3)\n",
            "Lane image shape: (544, 960, 3)\n",
            "1/1 [==============================] - 0s 18ms/step\n"
          ]
        },
        {
          "output_type": "stream",
          "name": "stderr",
          "text": [
            "\rt:  28%|██▊       | 362/1297 [01:53<04:10,  3.73it/s, now=None]"
          ]
        },
        {
          "output_type": "stream",
          "name": "stdout",
          "text": [
            "Prediction shape: (80, 160, 1)\n",
            "Avg fit shape: (80, 160, 1)\n",
            "Blanks shape: (80, 160, 1)\n",
            "Lane drawn shape: (80, 160, 3)\n",
            "Lane image shape: (544, 960, 3)\n",
            "1/1 [==============================] - 0s 19ms/step\n"
          ]
        },
        {
          "output_type": "stream",
          "name": "stderr",
          "text": [
            "\rt:  28%|██▊       | 363/1297 [01:53<04:07,  3.77it/s, now=None]"
          ]
        },
        {
          "output_type": "stream",
          "name": "stdout",
          "text": [
            "Prediction shape: (80, 160, 1)\n",
            "Avg fit shape: (80, 160, 1)\n",
            "Blanks shape: (80, 160, 1)\n",
            "Lane drawn shape: (80, 160, 3)\n",
            "Lane image shape: (544, 960, 3)\n",
            "1/1 [==============================] - 0s 18ms/step\n"
          ]
        },
        {
          "output_type": "stream",
          "name": "stderr",
          "text": [
            "\rt:  28%|██▊       | 364/1297 [01:53<04:07,  3.77it/s, now=None]"
          ]
        },
        {
          "output_type": "stream",
          "name": "stdout",
          "text": [
            "Prediction shape: (80, 160, 1)\n",
            "Avg fit shape: (80, 160, 1)\n",
            "Blanks shape: (80, 160, 1)\n",
            "Lane drawn shape: (80, 160, 3)\n",
            "Lane image shape: (544, 960, 3)\n",
            "1/1 [==============================] - 0s 19ms/step\n"
          ]
        },
        {
          "output_type": "stream",
          "name": "stderr",
          "text": [
            "\rt:  28%|██▊       | 365/1297 [01:54<04:07,  3.76it/s, now=None]"
          ]
        },
        {
          "output_type": "stream",
          "name": "stdout",
          "text": [
            "Prediction shape: (80, 160, 1)\n",
            "Avg fit shape: (80, 160, 1)\n",
            "Blanks shape: (80, 160, 1)\n",
            "Lane drawn shape: (80, 160, 3)\n",
            "Lane image shape: (544, 960, 3)\n",
            "1/1 [==============================] - 0s 18ms/step\n"
          ]
        },
        {
          "output_type": "stream",
          "name": "stderr",
          "text": [
            "\rt:  28%|██▊       | 366/1297 [01:54<04:09,  3.73it/s, now=None]"
          ]
        },
        {
          "output_type": "stream",
          "name": "stdout",
          "text": [
            "Prediction shape: (80, 160, 1)\n",
            "Avg fit shape: (80, 160, 1)\n",
            "Blanks shape: (80, 160, 1)\n",
            "Lane drawn shape: (80, 160, 3)\n",
            "Lane image shape: (544, 960, 3)\n",
            "1/1 [==============================] - 0s 18ms/step\n"
          ]
        },
        {
          "output_type": "stream",
          "name": "stderr",
          "text": [
            "\rt:  28%|██▊       | 367/1297 [01:54<04:08,  3.74it/s, now=None]"
          ]
        },
        {
          "output_type": "stream",
          "name": "stdout",
          "text": [
            "Prediction shape: (80, 160, 1)\n",
            "Avg fit shape: (80, 160, 1)\n",
            "Blanks shape: (80, 160, 1)\n",
            "Lane drawn shape: (80, 160, 3)\n",
            "Lane image shape: (544, 960, 3)\n",
            "1/1 [==============================] - 0s 21ms/step\n"
          ]
        },
        {
          "output_type": "stream",
          "name": "stderr",
          "text": [
            "\rt:  28%|██▊       | 368/1297 [01:55<04:15,  3.64it/s, now=None]"
          ]
        },
        {
          "output_type": "stream",
          "name": "stdout",
          "text": [
            "Prediction shape: (80, 160, 1)\n",
            "Avg fit shape: (80, 160, 1)\n",
            "Blanks shape: (80, 160, 1)\n",
            "Lane drawn shape: (80, 160, 3)\n",
            "Lane image shape: (544, 960, 3)\n",
            "1/1 [==============================] - 0s 19ms/step\n"
          ]
        },
        {
          "output_type": "stream",
          "name": "stderr",
          "text": [
            "\rt:  28%|██▊       | 369/1297 [01:55<04:20,  3.56it/s, now=None]"
          ]
        },
        {
          "output_type": "stream",
          "name": "stdout",
          "text": [
            "Prediction shape: (80, 160, 1)\n",
            "Avg fit shape: (80, 160, 1)\n",
            "Blanks shape: (80, 160, 1)\n",
            "Lane drawn shape: (80, 160, 3)\n",
            "Lane image shape: (544, 960, 3)\n",
            "1/1 [==============================] - 0s 18ms/step\n"
          ]
        },
        {
          "output_type": "stream",
          "name": "stderr",
          "text": [
            "\rt:  29%|██▊       | 370/1297 [01:55<04:14,  3.64it/s, now=None]"
          ]
        },
        {
          "output_type": "stream",
          "name": "stdout",
          "text": [
            "Prediction shape: (80, 160, 1)\n",
            "Avg fit shape: (80, 160, 1)\n",
            "Blanks shape: (80, 160, 1)\n",
            "Lane drawn shape: (80, 160, 3)\n",
            "Lane image shape: (544, 960, 3)\n",
            "1/1 [==============================] - 0s 18ms/step\n"
          ]
        },
        {
          "output_type": "stream",
          "name": "stderr",
          "text": [
            "\rt:  29%|██▊       | 371/1297 [01:55<04:12,  3.67it/s, now=None]"
          ]
        },
        {
          "output_type": "stream",
          "name": "stdout",
          "text": [
            "Prediction shape: (80, 160, 1)\n",
            "Avg fit shape: (80, 160, 1)\n",
            "Blanks shape: (80, 160, 1)\n",
            "Lane drawn shape: (80, 160, 3)\n",
            "Lane image shape: (544, 960, 3)\n",
            "1/1 [==============================] - 0s 18ms/step\n"
          ]
        },
        {
          "output_type": "stream",
          "name": "stderr",
          "text": [
            "\rt:  29%|██▊       | 372/1297 [01:56<04:07,  3.73it/s, now=None]"
          ]
        },
        {
          "output_type": "stream",
          "name": "stdout",
          "text": [
            "Prediction shape: (80, 160, 1)\n",
            "Avg fit shape: (80, 160, 1)\n",
            "Blanks shape: (80, 160, 1)\n",
            "Lane drawn shape: (80, 160, 3)\n",
            "Lane image shape: (544, 960, 3)\n",
            "1/1 [==============================] - 0s 18ms/step\n"
          ]
        },
        {
          "output_type": "stream",
          "name": "stderr",
          "text": [
            "\rt:  29%|██▉       | 373/1297 [01:56<04:13,  3.65it/s, now=None]"
          ]
        },
        {
          "output_type": "stream",
          "name": "stdout",
          "text": [
            "Prediction shape: (80, 160, 1)\n",
            "Avg fit shape: (80, 160, 1)\n",
            "Blanks shape: (80, 160, 1)\n",
            "Lane drawn shape: (80, 160, 3)\n",
            "Lane image shape: (544, 960, 3)\n",
            "1/1 [==============================] - 0s 19ms/step\n"
          ]
        },
        {
          "output_type": "stream",
          "name": "stderr",
          "text": [
            "\rt:  29%|██▉       | 374/1297 [01:56<04:12,  3.66it/s, now=None]"
          ]
        },
        {
          "output_type": "stream",
          "name": "stdout",
          "text": [
            "Prediction shape: (80, 160, 1)\n",
            "Avg fit shape: (80, 160, 1)\n",
            "Blanks shape: (80, 160, 1)\n",
            "Lane drawn shape: (80, 160, 3)\n",
            "Lane image shape: (544, 960, 3)\n",
            "1/1 [==============================] - 0s 19ms/step\n"
          ]
        },
        {
          "output_type": "stream",
          "name": "stderr",
          "text": [
            "\rt:  29%|██▉       | 375/1297 [01:57<04:11,  3.66it/s, now=None]"
          ]
        },
        {
          "output_type": "stream",
          "name": "stdout",
          "text": [
            "Prediction shape: (80, 160, 1)\n",
            "Avg fit shape: (80, 160, 1)\n",
            "Blanks shape: (80, 160, 1)\n",
            "Lane drawn shape: (80, 160, 3)\n",
            "Lane image shape: (544, 960, 3)\n",
            "1/1 [==============================] - 0s 21ms/step\n"
          ]
        },
        {
          "output_type": "stream",
          "name": "stderr",
          "text": [
            "\rt:  29%|██▉       | 376/1297 [01:57<04:09,  3.69it/s, now=None]"
          ]
        },
        {
          "output_type": "stream",
          "name": "stdout",
          "text": [
            "Prediction shape: (80, 160, 1)\n",
            "Avg fit shape: (80, 160, 1)\n",
            "Blanks shape: (80, 160, 1)\n",
            "Lane drawn shape: (80, 160, 3)\n",
            "Lane image shape: (544, 960, 3)\n",
            "1/1 [==============================] - 0s 25ms/step\n"
          ]
        },
        {
          "output_type": "stream",
          "name": "stderr",
          "text": [
            "\rt:  29%|██▉       | 377/1297 [01:57<04:12,  3.64it/s, now=None]"
          ]
        },
        {
          "output_type": "stream",
          "name": "stdout",
          "text": [
            "Prediction shape: (80, 160, 1)\n",
            "Avg fit shape: (80, 160, 1)\n",
            "Blanks shape: (80, 160, 1)\n",
            "Lane drawn shape: (80, 160, 3)\n",
            "Lane image shape: (544, 960, 3)\n",
            "1/1 [==============================] - 0s 19ms/step\n"
          ]
        },
        {
          "output_type": "stream",
          "name": "stderr",
          "text": [
            "\rt:  29%|██▉       | 378/1297 [01:57<04:13,  3.62it/s, now=None]"
          ]
        },
        {
          "output_type": "stream",
          "name": "stdout",
          "text": [
            "Prediction shape: (80, 160, 1)\n",
            "Avg fit shape: (80, 160, 1)\n",
            "Blanks shape: (80, 160, 1)\n",
            "Lane drawn shape: (80, 160, 3)\n",
            "Lane image shape: (544, 960, 3)\n",
            "1/1 [==============================] - 0s 19ms/step\n"
          ]
        },
        {
          "output_type": "stream",
          "name": "stderr",
          "text": [
            "\rt:  29%|██▉       | 379/1297 [01:58<04:19,  3.54it/s, now=None]"
          ]
        },
        {
          "output_type": "stream",
          "name": "stdout",
          "text": [
            "Prediction shape: (80, 160, 1)\n",
            "Avg fit shape: (80, 160, 1)\n",
            "Blanks shape: (80, 160, 1)\n",
            "Lane drawn shape: (80, 160, 3)\n",
            "Lane image shape: (544, 960, 3)\n",
            "1/1 [==============================] - 0s 19ms/step\n"
          ]
        },
        {
          "output_type": "stream",
          "name": "stderr",
          "text": [
            "\rt:  29%|██▉       | 380/1297 [01:58<04:17,  3.56it/s, now=None]"
          ]
        },
        {
          "output_type": "stream",
          "name": "stdout",
          "text": [
            "Prediction shape: (80, 160, 1)\n",
            "Avg fit shape: (80, 160, 1)\n",
            "Blanks shape: (80, 160, 1)\n",
            "Lane drawn shape: (80, 160, 3)\n",
            "Lane image shape: (544, 960, 3)\n",
            "1/1 [==============================] - 0s 18ms/step\n"
          ]
        },
        {
          "output_type": "stream",
          "name": "stderr",
          "text": [
            "\rt:  29%|██▉       | 381/1297 [01:58<04:14,  3.60it/s, now=None]"
          ]
        },
        {
          "output_type": "stream",
          "name": "stdout",
          "text": [
            "Prediction shape: (80, 160, 1)\n",
            "Avg fit shape: (80, 160, 1)\n",
            "Blanks shape: (80, 160, 1)\n",
            "Lane drawn shape: (80, 160, 3)\n",
            "Lane image shape: (544, 960, 3)\n",
            "1/1 [==============================] - 0s 35ms/step\n"
          ]
        },
        {
          "output_type": "stream",
          "name": "stderr",
          "text": [
            "\rt:  29%|██▉       | 382/1297 [01:59<04:36,  3.31it/s, now=None]"
          ]
        },
        {
          "output_type": "stream",
          "name": "stdout",
          "text": [
            "Prediction shape: (80, 160, 1)\n",
            "Avg fit shape: (80, 160, 1)\n",
            "Blanks shape: (80, 160, 1)\n",
            "Lane drawn shape: (80, 160, 3)\n",
            "Lane image shape: (544, 960, 3)\n",
            "1/1 [==============================] - 0s 28ms/step\n"
          ]
        },
        {
          "output_type": "stream",
          "name": "stderr",
          "text": [
            "\rt:  30%|██▉       | 383/1297 [01:59<05:15,  2.90it/s, now=None]"
          ]
        },
        {
          "output_type": "stream",
          "name": "stdout",
          "text": [
            "Prediction shape: (80, 160, 1)\n",
            "Avg fit shape: (80, 160, 1)\n",
            "Blanks shape: (80, 160, 1)\n",
            "Lane drawn shape: (80, 160, 3)\n",
            "Lane image shape: (544, 960, 3)\n",
            "1/1 [==============================] - 0s 33ms/step\n"
          ]
        },
        {
          "output_type": "stream",
          "name": "stderr",
          "text": [
            "\rt:  30%|██▉       | 384/1297 [01:59<05:40,  2.68it/s, now=None]"
          ]
        },
        {
          "output_type": "stream",
          "name": "stdout",
          "text": [
            "Prediction shape: (80, 160, 1)\n",
            "Avg fit shape: (80, 160, 1)\n",
            "Blanks shape: (80, 160, 1)\n",
            "Lane drawn shape: (80, 160, 3)\n",
            "Lane image shape: (544, 960, 3)\n",
            "1/1 [==============================] - 0s 34ms/step\n",
            "Prediction shape: (80, 160, 1)\n",
            "Avg fit shape: (80, 160, 1)\n",
            "Blanks shape: (80, 160, 1)\n",
            "Lane drawn shape: (80, 160, 3)\n",
            "Lane image shape: (544, 960, 3)\n"
          ]
        },
        {
          "output_type": "stream",
          "name": "stderr",
          "text": [
            "\rt:  30%|██▉       | 385/1297 [02:00<05:47,  2.62it/s, now=None]"
          ]
        },
        {
          "output_type": "stream",
          "name": "stdout",
          "text": [
            "1/1 [==============================] - 0s 31ms/step\n",
            "Prediction shape: (80, 160, 1)\n",
            "Avg fit shape: (80, 160, 1)\n",
            "Blanks shape: (80, 160, 1)\n",
            "Lane drawn shape: (80, 160, 3)\n",
            "Lane image shape: (544, 960, 3)\n"
          ]
        },
        {
          "output_type": "stream",
          "name": "stderr",
          "text": [
            "\rt:  30%|██▉       | 386/1297 [02:00<05:54,  2.57it/s, now=None]"
          ]
        },
        {
          "output_type": "stream",
          "name": "stdout",
          "text": [
            "1/1 [==============================] - 0s 31ms/step\n"
          ]
        },
        {
          "output_type": "stream",
          "name": "stderr",
          "text": [
            "\rt:  30%|██▉       | 387/1297 [02:01<06:06,  2.48it/s, now=None]"
          ]
        },
        {
          "output_type": "stream",
          "name": "stdout",
          "text": [
            "Prediction shape: (80, 160, 1)\n",
            "Avg fit shape: (80, 160, 1)\n",
            "Blanks shape: (80, 160, 1)\n",
            "Lane drawn shape: (80, 160, 3)\n",
            "Lane image shape: (544, 960, 3)\n",
            "1/1 [==============================] - 0s 42ms/step\n"
          ]
        },
        {
          "output_type": "stream",
          "name": "stderr",
          "text": [
            "\rt:  30%|██▉       | 388/1297 [02:01<06:29,  2.33it/s, now=None]"
          ]
        },
        {
          "output_type": "stream",
          "name": "stdout",
          "text": [
            "Prediction shape: (80, 160, 1)\n",
            "Avg fit shape: (80, 160, 1)\n",
            "Blanks shape: (80, 160, 1)\n",
            "Lane drawn shape: (80, 160, 3)\n",
            "Lane image shape: (544, 960, 3)\n",
            "1/1 [==============================] - 0s 38ms/step\n"
          ]
        },
        {
          "output_type": "stream",
          "name": "stderr",
          "text": [
            "\rt:  30%|██▉       | 389/1297 [02:02<06:31,  2.32it/s, now=None]"
          ]
        },
        {
          "output_type": "stream",
          "name": "stdout",
          "text": [
            "Prediction shape: (80, 160, 1)\n",
            "Avg fit shape: (80, 160, 1)\n",
            "Blanks shape: (80, 160, 1)\n",
            "Lane drawn shape: (80, 160, 3)\n",
            "Lane image shape: (544, 960, 3)\n",
            "1/1 [==============================] - 0s 37ms/step\n",
            "Prediction shape: (80, 160, 1)\n",
            "Avg fit shape: (80, 160, 1)\n",
            "Blanks shape: (80, 160, 1)\n",
            "Lane drawn shape: (80, 160, 3)\n",
            "Lane image shape: (544, 960, 3)\n"
          ]
        },
        {
          "output_type": "stream",
          "name": "stderr",
          "text": [
            "\rt:  30%|███       | 390/1297 [02:02<06:27,  2.34it/s, now=None]"
          ]
        },
        {
          "output_type": "stream",
          "name": "stdout",
          "text": [
            "1/1 [==============================] - 0s 31ms/step\n"
          ]
        },
        {
          "output_type": "stream",
          "name": "stderr",
          "text": [
            "\rt:  30%|███       | 391/1297 [02:02<06:28,  2.33it/s, now=None]"
          ]
        },
        {
          "output_type": "stream",
          "name": "stdout",
          "text": [
            "Prediction shape: (80, 160, 1)\n",
            "Avg fit shape: (80, 160, 1)\n",
            "Blanks shape: (80, 160, 1)\n",
            "Lane drawn shape: (80, 160, 3)\n",
            "Lane image shape: (544, 960, 3)\n",
            "1/1 [==============================] - 0s 29ms/step\n",
            "Prediction shape: (80, 160, 1)\n",
            "Avg fit shape: (80, 160, 1)\n",
            "Blanks shape: (80, 160, 1)\n",
            "Lane drawn shape: (80, 160, 3)\n",
            "Lane image shape: (544, 960, 3)\n"
          ]
        },
        {
          "output_type": "stream",
          "name": "stderr",
          "text": [
            "\rt:  30%|███       | 392/1297 [02:03<06:22,  2.37it/s, now=None]"
          ]
        },
        {
          "output_type": "stream",
          "name": "stdout",
          "text": [
            "1/1 [==============================] - 0s 46ms/step\n"
          ]
        },
        {
          "output_type": "stream",
          "name": "stderr",
          "text": [
            "\rt:  30%|███       | 393/1297 [02:03<06:36,  2.28it/s, now=None]"
          ]
        },
        {
          "output_type": "stream",
          "name": "stdout",
          "text": [
            "Prediction shape: (80, 160, 1)\n",
            "Avg fit shape: (80, 160, 1)\n",
            "Blanks shape: (80, 160, 1)\n",
            "Lane drawn shape: (80, 160, 3)\n",
            "Lane image shape: (544, 960, 3)\n",
            "1/1 [==============================] - 0s 37ms/step\n"
          ]
        },
        {
          "output_type": "stream",
          "name": "stderr",
          "text": [
            "\rt:  30%|███       | 394/1297 [02:04<06:28,  2.32it/s, now=None]"
          ]
        },
        {
          "output_type": "stream",
          "name": "stdout",
          "text": [
            "Prediction shape: (80, 160, 1)\n",
            "Avg fit shape: (80, 160, 1)\n",
            "Blanks shape: (80, 160, 1)\n",
            "Lane drawn shape: (80, 160, 3)\n",
            "Lane image shape: (544, 960, 3)\n",
            "1/1 [==============================] - 0s 35ms/step\n"
          ]
        },
        {
          "output_type": "stream",
          "name": "stderr",
          "text": [
            "\rt:  30%|███       | 395/1297 [02:04<05:58,  2.52it/s, now=None]"
          ]
        },
        {
          "output_type": "stream",
          "name": "stdout",
          "text": [
            "Prediction shape: (80, 160, 1)\n",
            "Avg fit shape: (80, 160, 1)\n",
            "Blanks shape: (80, 160, 1)\n",
            "Lane drawn shape: (80, 160, 3)\n",
            "Lane image shape: (544, 960, 3)\n",
            "1/1 [==============================] - 0s 25ms/step\n"
          ]
        },
        {
          "output_type": "stream",
          "name": "stderr",
          "text": [
            "\rt:  31%|███       | 396/1297 [02:04<05:23,  2.78it/s, now=None]"
          ]
        },
        {
          "output_type": "stream",
          "name": "stdout",
          "text": [
            "Prediction shape: (80, 160, 1)\n",
            "Avg fit shape: (80, 160, 1)\n",
            "Blanks shape: (80, 160, 1)\n",
            "Lane drawn shape: (80, 160, 3)\n",
            "Lane image shape: (544, 960, 3)\n",
            "1/1 [==============================] - 0s 20ms/step\n"
          ]
        },
        {
          "output_type": "stream",
          "name": "stderr",
          "text": [
            "\rt:  31%|███       | 397/1297 [02:05<05:02,  2.97it/s, now=None]"
          ]
        },
        {
          "output_type": "stream",
          "name": "stdout",
          "text": [
            "Prediction shape: (80, 160, 1)\n",
            "Avg fit shape: (80, 160, 1)\n",
            "Blanks shape: (80, 160, 1)\n",
            "Lane drawn shape: (80, 160, 3)\n",
            "Lane image shape: (544, 960, 3)\n",
            "1/1 [==============================] - 0s 18ms/step\n"
          ]
        },
        {
          "output_type": "stream",
          "name": "stderr",
          "text": [
            "\rt:  31%|███       | 398/1297 [02:05<04:42,  3.18it/s, now=None]"
          ]
        },
        {
          "output_type": "stream",
          "name": "stdout",
          "text": [
            "Prediction shape: (80, 160, 1)\n",
            "Avg fit shape: (80, 160, 1)\n",
            "Blanks shape: (80, 160, 1)\n",
            "Lane drawn shape: (80, 160, 3)\n",
            "Lane image shape: (544, 960, 3)\n",
            "1/1 [==============================] - 0s 28ms/step\n"
          ]
        },
        {
          "output_type": "stream",
          "name": "stderr",
          "text": [
            "\rt:  31%|███       | 399/1297 [02:05<04:34,  3.27it/s, now=None]"
          ]
        },
        {
          "output_type": "stream",
          "name": "stdout",
          "text": [
            "Prediction shape: (80, 160, 1)\n",
            "Avg fit shape: (80, 160, 1)\n",
            "Blanks shape: (80, 160, 1)\n",
            "Lane drawn shape: (80, 160, 3)\n",
            "Lane image shape: (544, 960, 3)\n",
            "1/1 [==============================] - 0s 36ms/step\n"
          ]
        },
        {
          "output_type": "stream",
          "name": "stderr",
          "text": [
            "\rt:  31%|███       | 400/1297 [02:05<04:25,  3.37it/s, now=None]"
          ]
        },
        {
          "output_type": "stream",
          "name": "stdout",
          "text": [
            "Prediction shape: (80, 160, 1)\n",
            "Avg fit shape: (80, 160, 1)\n",
            "Blanks shape: (80, 160, 1)\n",
            "Lane drawn shape: (80, 160, 3)\n",
            "Lane image shape: (544, 960, 3)\n",
            "1/1 [==============================] - 0s 19ms/step\n"
          ]
        },
        {
          "output_type": "stream",
          "name": "stderr",
          "text": [
            "\rt:  31%|███       | 401/1297 [02:06<04:24,  3.39it/s, now=None]"
          ]
        },
        {
          "output_type": "stream",
          "name": "stdout",
          "text": [
            "Prediction shape: (80, 160, 1)\n",
            "Avg fit shape: (80, 160, 1)\n",
            "Blanks shape: (80, 160, 1)\n",
            "Lane drawn shape: (80, 160, 3)\n",
            "Lane image shape: (544, 960, 3)\n",
            "1/1 [==============================] - 0s 18ms/step\n"
          ]
        },
        {
          "output_type": "stream",
          "name": "stderr",
          "text": [
            "\rt:  31%|███       | 402/1297 [02:06<04:13,  3.52it/s, now=None]"
          ]
        },
        {
          "output_type": "stream",
          "name": "stdout",
          "text": [
            "Prediction shape: (80, 160, 1)\n",
            "Avg fit shape: (80, 160, 1)\n",
            "Blanks shape: (80, 160, 1)\n",
            "Lane drawn shape: (80, 160, 3)\n",
            "Lane image shape: (544, 960, 3)\n",
            "1/1 [==============================] - 0s 18ms/step\n"
          ]
        },
        {
          "output_type": "stream",
          "name": "stderr",
          "text": [
            "\rt:  31%|███       | 403/1297 [02:06<04:04,  3.65it/s, now=None]"
          ]
        },
        {
          "output_type": "stream",
          "name": "stdout",
          "text": [
            "Prediction shape: (80, 160, 1)\n",
            "Avg fit shape: (80, 160, 1)\n",
            "Blanks shape: (80, 160, 1)\n",
            "Lane drawn shape: (80, 160, 3)\n",
            "Lane image shape: (544, 960, 3)\n",
            "1/1 [==============================] - 0s 19ms/step\n"
          ]
        },
        {
          "output_type": "stream",
          "name": "stderr",
          "text": [
            "\rt:  31%|███       | 404/1297 [02:06<04:01,  3.70it/s, now=None]"
          ]
        },
        {
          "output_type": "stream",
          "name": "stdout",
          "text": [
            "Prediction shape: (80, 160, 1)\n",
            "Avg fit shape: (80, 160, 1)\n",
            "Blanks shape: (80, 160, 1)\n",
            "Lane drawn shape: (80, 160, 3)\n",
            "Lane image shape: (544, 960, 3)\n",
            "1/1 [==============================] - 0s 19ms/step\n"
          ]
        },
        {
          "output_type": "stream",
          "name": "stderr",
          "text": [
            "\rt:  31%|███       | 405/1297 [02:07<04:03,  3.66it/s, now=None]"
          ]
        },
        {
          "output_type": "stream",
          "name": "stdout",
          "text": [
            "Prediction shape: (80, 160, 1)\n",
            "Avg fit shape: (80, 160, 1)\n",
            "Blanks shape: (80, 160, 1)\n",
            "Lane drawn shape: (80, 160, 3)\n",
            "Lane image shape: (544, 960, 3)\n",
            "1/1 [==============================] - 0s 18ms/step\n"
          ]
        },
        {
          "output_type": "stream",
          "name": "stderr",
          "text": [
            "\rt:  31%|███▏      | 406/1297 [02:07<03:59,  3.73it/s, now=None]"
          ]
        },
        {
          "output_type": "stream",
          "name": "stdout",
          "text": [
            "Prediction shape: (80, 160, 1)\n",
            "Avg fit shape: (80, 160, 1)\n",
            "Blanks shape: (80, 160, 1)\n",
            "Lane drawn shape: (80, 160, 3)\n",
            "Lane image shape: (544, 960, 3)\n",
            "1/1 [==============================] - 0s 19ms/step\n"
          ]
        },
        {
          "output_type": "stream",
          "name": "stderr",
          "text": [
            "\rt:  31%|███▏      | 407/1297 [02:07<03:57,  3.75it/s, now=None]"
          ]
        },
        {
          "output_type": "stream",
          "name": "stdout",
          "text": [
            "Prediction shape: (80, 160, 1)\n",
            "Avg fit shape: (80, 160, 1)\n",
            "Blanks shape: (80, 160, 1)\n",
            "Lane drawn shape: (80, 160, 3)\n",
            "Lane image shape: (544, 960, 3)\n",
            "1/1 [==============================] - 0s 18ms/step\n"
          ]
        },
        {
          "output_type": "stream",
          "name": "stderr",
          "text": [
            "\rt:  31%|███▏      | 408/1297 [02:08<04:01,  3.67it/s, now=None]"
          ]
        },
        {
          "output_type": "stream",
          "name": "stdout",
          "text": [
            "Prediction shape: (80, 160, 1)\n",
            "Avg fit shape: (80, 160, 1)\n",
            "Blanks shape: (80, 160, 1)\n",
            "Lane drawn shape: (80, 160, 3)\n",
            "Lane image shape: (544, 960, 3)\n",
            "1/1 [==============================] - 0s 18ms/step\n"
          ]
        },
        {
          "output_type": "stream",
          "name": "stderr",
          "text": [
            "\rt:  32%|███▏      | 409/1297 [02:08<03:59,  3.71it/s, now=None]"
          ]
        },
        {
          "output_type": "stream",
          "name": "stdout",
          "text": [
            "Prediction shape: (80, 160, 1)\n",
            "Avg fit shape: (80, 160, 1)\n",
            "Blanks shape: (80, 160, 1)\n",
            "Lane drawn shape: (80, 160, 3)\n",
            "Lane image shape: (544, 960, 3)\n",
            "1/1 [==============================] - 0s 20ms/step\n"
          ]
        },
        {
          "output_type": "stream",
          "name": "stderr",
          "text": [
            "\rt:  32%|███▏      | 410/1297 [02:08<03:57,  3.73it/s, now=None]"
          ]
        },
        {
          "output_type": "stream",
          "name": "stdout",
          "text": [
            "Prediction shape: (80, 160, 1)\n",
            "Avg fit shape: (80, 160, 1)\n",
            "Blanks shape: (80, 160, 1)\n",
            "Lane drawn shape: (80, 160, 3)\n",
            "Lane image shape: (544, 960, 3)\n",
            "1/1 [==============================] - 0s 19ms/step\n"
          ]
        },
        {
          "output_type": "stream",
          "name": "stderr",
          "text": [
            "\rt:  32%|███▏      | 411/1297 [02:08<03:56,  3.74it/s, now=None]"
          ]
        },
        {
          "output_type": "stream",
          "name": "stdout",
          "text": [
            "Prediction shape: (80, 160, 1)\n",
            "Avg fit shape: (80, 160, 1)\n",
            "Blanks shape: (80, 160, 1)\n",
            "Lane drawn shape: (80, 160, 3)\n",
            "Lane image shape: (544, 960, 3)\n",
            "1/1 [==============================] - 0s 19ms/step\n"
          ]
        },
        {
          "output_type": "stream",
          "name": "stderr",
          "text": [
            "\rt:  32%|███▏      | 412/1297 [02:09<04:06,  3.59it/s, now=None]"
          ]
        },
        {
          "output_type": "stream",
          "name": "stdout",
          "text": [
            "Prediction shape: (80, 160, 1)\n",
            "Avg fit shape: (80, 160, 1)\n",
            "Blanks shape: (80, 160, 1)\n",
            "Lane drawn shape: (80, 160, 3)\n",
            "Lane image shape: (544, 960, 3)\n",
            "1/1 [==============================] - 0s 19ms/step\n"
          ]
        },
        {
          "output_type": "stream",
          "name": "stderr",
          "text": [
            "\rt:  32%|███▏      | 413/1297 [02:09<04:01,  3.67it/s, now=None]"
          ]
        },
        {
          "output_type": "stream",
          "name": "stdout",
          "text": [
            "Prediction shape: (80, 160, 1)\n",
            "Avg fit shape: (80, 160, 1)\n",
            "Blanks shape: (80, 160, 1)\n",
            "Lane drawn shape: (80, 160, 3)\n",
            "Lane image shape: (544, 960, 3)\n",
            "1/1 [==============================] - 0s 18ms/step\n"
          ]
        },
        {
          "output_type": "stream",
          "name": "stderr",
          "text": [
            "\rt:  32%|███▏      | 414/1297 [02:09<03:54,  3.77it/s, now=None]"
          ]
        },
        {
          "output_type": "stream",
          "name": "stdout",
          "text": [
            "Prediction shape: (80, 160, 1)\n",
            "Avg fit shape: (80, 160, 1)\n",
            "Blanks shape: (80, 160, 1)\n",
            "Lane drawn shape: (80, 160, 3)\n",
            "Lane image shape: (544, 960, 3)\n",
            "1/1 [==============================] - 0s 18ms/step\n"
          ]
        },
        {
          "output_type": "stream",
          "name": "stderr",
          "text": [
            "\rt:  32%|███▏      | 415/1297 [02:09<03:51,  3.82it/s, now=None]"
          ]
        },
        {
          "output_type": "stream",
          "name": "stdout",
          "text": [
            "Prediction shape: (80, 160, 1)\n",
            "Avg fit shape: (80, 160, 1)\n",
            "Blanks shape: (80, 160, 1)\n",
            "Lane drawn shape: (80, 160, 3)\n",
            "Lane image shape: (544, 960, 3)\n",
            "1/1 [==============================] - 0s 20ms/step\n"
          ]
        },
        {
          "output_type": "stream",
          "name": "stderr",
          "text": [
            "\rt:  32%|███▏      | 416/1297 [02:10<04:02,  3.64it/s, now=None]"
          ]
        },
        {
          "output_type": "stream",
          "name": "stdout",
          "text": [
            "Prediction shape: (80, 160, 1)\n",
            "Avg fit shape: (80, 160, 1)\n",
            "Blanks shape: (80, 160, 1)\n",
            "Lane drawn shape: (80, 160, 3)\n",
            "Lane image shape: (544, 960, 3)\n",
            "1/1 [==============================] - 0s 18ms/step\n"
          ]
        },
        {
          "output_type": "stream",
          "name": "stderr",
          "text": [
            "\rt:  32%|███▏      | 417/1297 [02:10<03:58,  3.69it/s, now=None]"
          ]
        },
        {
          "output_type": "stream",
          "name": "stdout",
          "text": [
            "Prediction shape: (80, 160, 1)\n",
            "Avg fit shape: (80, 160, 1)\n",
            "Blanks shape: (80, 160, 1)\n",
            "Lane drawn shape: (80, 160, 3)\n",
            "Lane image shape: (544, 960, 3)\n",
            "1/1 [==============================] - 0s 19ms/step\n"
          ]
        },
        {
          "output_type": "stream",
          "name": "stderr",
          "text": [
            "\rt:  32%|███▏      | 418/1297 [02:10<03:55,  3.73it/s, now=None]"
          ]
        },
        {
          "output_type": "stream",
          "name": "stdout",
          "text": [
            "Prediction shape: (80, 160, 1)\n",
            "Avg fit shape: (80, 160, 1)\n",
            "Blanks shape: (80, 160, 1)\n",
            "Lane drawn shape: (80, 160, 3)\n",
            "Lane image shape: (544, 960, 3)\n",
            "1/1 [==============================] - 0s 19ms/step\n"
          ]
        },
        {
          "output_type": "stream",
          "name": "stderr",
          "text": [
            "\rt:  32%|███▏      | 419/1297 [02:11<03:55,  3.72it/s, now=None]"
          ]
        },
        {
          "output_type": "stream",
          "name": "stdout",
          "text": [
            "Prediction shape: (80, 160, 1)\n",
            "Avg fit shape: (80, 160, 1)\n",
            "Blanks shape: (80, 160, 1)\n",
            "Lane drawn shape: (80, 160, 3)\n",
            "Lane image shape: (544, 960, 3)\n",
            "1/1 [==============================] - 0s 18ms/step\n"
          ]
        },
        {
          "output_type": "stream",
          "name": "stderr",
          "text": [
            "\rt:  32%|███▏      | 420/1297 [02:11<04:02,  3.62it/s, now=None]"
          ]
        },
        {
          "output_type": "stream",
          "name": "stdout",
          "text": [
            "Prediction shape: (80, 160, 1)\n",
            "Avg fit shape: (80, 160, 1)\n",
            "Blanks shape: (80, 160, 1)\n",
            "Lane drawn shape: (80, 160, 3)\n",
            "Lane image shape: (544, 960, 3)\n",
            "1/1 [==============================] - 0s 18ms/step\n"
          ]
        },
        {
          "output_type": "stream",
          "name": "stderr",
          "text": [
            "\rt:  32%|███▏      | 421/1297 [02:11<04:00,  3.65it/s, now=None]"
          ]
        },
        {
          "output_type": "stream",
          "name": "stdout",
          "text": [
            "Prediction shape: (80, 160, 1)\n",
            "Avg fit shape: (80, 160, 1)\n",
            "Blanks shape: (80, 160, 1)\n",
            "Lane drawn shape: (80, 160, 3)\n",
            "Lane image shape: (544, 960, 3)\n",
            "1/1 [==============================] - 0s 21ms/step\n"
          ]
        },
        {
          "output_type": "stream",
          "name": "stderr",
          "text": [
            "\rt:  33%|███▎      | 422/1297 [02:11<03:56,  3.71it/s, now=None]"
          ]
        },
        {
          "output_type": "stream",
          "name": "stdout",
          "text": [
            "Prediction shape: (80, 160, 1)\n",
            "Avg fit shape: (80, 160, 1)\n",
            "Blanks shape: (80, 160, 1)\n",
            "Lane drawn shape: (80, 160, 3)\n",
            "Lane image shape: (544, 960, 3)\n",
            "1/1 [==============================] - 0s 18ms/step\n"
          ]
        },
        {
          "output_type": "stream",
          "name": "stderr",
          "text": [
            "\rt:  33%|███▎      | 423/1297 [02:12<03:52,  3.75it/s, now=None]"
          ]
        },
        {
          "output_type": "stream",
          "name": "stdout",
          "text": [
            "Prediction shape: (80, 160, 1)\n",
            "Avg fit shape: (80, 160, 1)\n",
            "Blanks shape: (80, 160, 1)\n",
            "Lane drawn shape: (80, 160, 3)\n",
            "Lane image shape: (544, 960, 3)\n",
            "1/1 [==============================] - 0s 18ms/step\n"
          ]
        },
        {
          "output_type": "stream",
          "name": "stderr",
          "text": [
            "\rt:  33%|███▎      | 424/1297 [02:12<03:56,  3.69it/s, now=None]"
          ]
        },
        {
          "output_type": "stream",
          "name": "stdout",
          "text": [
            "Prediction shape: (80, 160, 1)\n",
            "Avg fit shape: (80, 160, 1)\n",
            "Blanks shape: (80, 160, 1)\n",
            "Lane drawn shape: (80, 160, 3)\n",
            "Lane image shape: (544, 960, 3)\n",
            "1/1 [==============================] - 0s 18ms/step\n"
          ]
        },
        {
          "output_type": "stream",
          "name": "stderr",
          "text": [
            "\rt:  33%|███▎      | 425/1297 [02:12<03:54,  3.72it/s, now=None]"
          ]
        },
        {
          "output_type": "stream",
          "name": "stdout",
          "text": [
            "Prediction shape: (80, 160, 1)\n",
            "Avg fit shape: (80, 160, 1)\n",
            "Blanks shape: (80, 160, 1)\n",
            "Lane drawn shape: (80, 160, 3)\n",
            "Lane image shape: (544, 960, 3)\n",
            "1/1 [==============================] - 0s 20ms/step\n"
          ]
        },
        {
          "output_type": "stream",
          "name": "stderr",
          "text": [
            "\rt:  33%|███▎      | 426/1297 [02:12<03:56,  3.68it/s, now=None]"
          ]
        },
        {
          "output_type": "stream",
          "name": "stdout",
          "text": [
            "Prediction shape: (80, 160, 1)\n",
            "Avg fit shape: (80, 160, 1)\n",
            "Blanks shape: (80, 160, 1)\n",
            "Lane drawn shape: (80, 160, 3)\n",
            "Lane image shape: (544, 960, 3)\n",
            "1/1 [==============================] - 0s 18ms/step\n"
          ]
        },
        {
          "output_type": "stream",
          "name": "stderr",
          "text": [
            "\rt:  33%|███▎      | 427/1297 [02:13<03:54,  3.70it/s, now=None]"
          ]
        },
        {
          "output_type": "stream",
          "name": "stdout",
          "text": [
            "Prediction shape: (80, 160, 1)\n",
            "Avg fit shape: (80, 160, 1)\n",
            "Blanks shape: (80, 160, 1)\n",
            "Lane drawn shape: (80, 160, 3)\n",
            "Lane image shape: (544, 960, 3)\n",
            "1/1 [==============================] - 0s 18ms/step\n"
          ]
        },
        {
          "output_type": "stream",
          "name": "stderr",
          "text": [
            "\rt:  33%|███▎      | 428/1297 [02:13<03:56,  3.68it/s, now=None]"
          ]
        },
        {
          "output_type": "stream",
          "name": "stdout",
          "text": [
            "Prediction shape: (80, 160, 1)\n",
            "Avg fit shape: (80, 160, 1)\n",
            "Blanks shape: (80, 160, 1)\n",
            "Lane drawn shape: (80, 160, 3)\n",
            "Lane image shape: (544, 960, 3)\n",
            "1/1 [==============================] - 0s 18ms/step\n"
          ]
        },
        {
          "output_type": "stream",
          "name": "stderr",
          "text": [
            "\rt:  33%|███▎      | 429/1297 [02:13<03:53,  3.71it/s, now=None]"
          ]
        },
        {
          "output_type": "stream",
          "name": "stdout",
          "text": [
            "Prediction shape: (80, 160, 1)\n",
            "Avg fit shape: (80, 160, 1)\n",
            "Blanks shape: (80, 160, 1)\n",
            "Lane drawn shape: (80, 160, 3)\n",
            "Lane image shape: (544, 960, 3)\n",
            "1/1 [==============================] - 0s 21ms/step\n"
          ]
        },
        {
          "output_type": "stream",
          "name": "stderr",
          "text": [
            "\rt:  33%|███▎      | 430/1297 [02:14<03:52,  3.72it/s, now=None]"
          ]
        },
        {
          "output_type": "stream",
          "name": "stdout",
          "text": [
            "Prediction shape: (80, 160, 1)\n",
            "Avg fit shape: (80, 160, 1)\n",
            "Blanks shape: (80, 160, 1)\n",
            "Lane drawn shape: (80, 160, 3)\n",
            "Lane image shape: (544, 960, 3)\n",
            "1/1 [==============================] - 0s 18ms/step\n"
          ]
        },
        {
          "output_type": "stream",
          "name": "stderr",
          "text": [
            "\rt:  33%|███▎      | 431/1297 [02:14<03:54,  3.69it/s, now=None]"
          ]
        },
        {
          "output_type": "stream",
          "name": "stdout",
          "text": [
            "Prediction shape: (80, 160, 1)\n",
            "Avg fit shape: (80, 160, 1)\n",
            "Blanks shape: (80, 160, 1)\n",
            "Lane drawn shape: (80, 160, 3)\n",
            "Lane image shape: (544, 960, 3)\n",
            "1/1 [==============================] - 0s 19ms/step\n",
            "Prediction shape: (80, 160, 1)\n",
            "Avg fit shape: (80, 160, 1)\n",
            "Blanks shape: (80, 160, 1)\n",
            "Lane drawn shape: (80, 160, 3)\n",
            "Lane image shape: (544, 960, 3)\n"
          ]
        },
        {
          "output_type": "stream",
          "name": "stderr",
          "text": [
            "\rt:  33%|███▎      | 432/1297 [02:14<04:20,  3.33it/s, now=None]"
          ]
        },
        {
          "output_type": "stream",
          "name": "stdout",
          "text": [
            "1/1 [==============================] - 0s 29ms/step\n"
          ]
        },
        {
          "output_type": "stream",
          "name": "stderr",
          "text": [
            "\rt:  33%|███▎      | 433/1297 [02:15<04:41,  3.06it/s, now=None]"
          ]
        },
        {
          "output_type": "stream",
          "name": "stdout",
          "text": [
            "Prediction shape: (80, 160, 1)\n",
            "Avg fit shape: (80, 160, 1)\n",
            "Blanks shape: (80, 160, 1)\n",
            "Lane drawn shape: (80, 160, 3)\n",
            "Lane image shape: (544, 960, 3)\n",
            "1/1 [==============================] - 0s 27ms/step\n"
          ]
        },
        {
          "output_type": "stream",
          "name": "stderr",
          "text": [
            "\rt:  33%|███▎      | 434/1297 [02:15<05:05,  2.83it/s, now=None]"
          ]
        },
        {
          "output_type": "stream",
          "name": "stdout",
          "text": [
            "Prediction shape: (80, 160, 1)\n",
            "Avg fit shape: (80, 160, 1)\n",
            "Blanks shape: (80, 160, 1)\n",
            "Lane drawn shape: (80, 160, 3)\n",
            "Lane image shape: (544, 960, 3)\n",
            "1/1 [==============================] - 0s 32ms/step\n"
          ]
        },
        {
          "output_type": "stream",
          "name": "stderr",
          "text": [
            "\rt:  34%|███▎      | 435/1297 [02:15<05:31,  2.60it/s, now=None]"
          ]
        },
        {
          "output_type": "stream",
          "name": "stdout",
          "text": [
            "Prediction shape: (80, 160, 1)\n",
            "Avg fit shape: (80, 160, 1)\n",
            "Blanks shape: (80, 160, 1)\n",
            "Lane drawn shape: (80, 160, 3)\n",
            "Lane image shape: (544, 960, 3)\n",
            "1/1 [==============================] - 0s 50ms/step\n"
          ]
        },
        {
          "output_type": "stream",
          "name": "stderr",
          "text": [
            "\rt:  34%|███▎      | 436/1297 [02:16<05:49,  2.47it/s, now=None]"
          ]
        },
        {
          "output_type": "stream",
          "name": "stdout",
          "text": [
            "Prediction shape: (80, 160, 1)\n",
            "Avg fit shape: (80, 160, 1)\n",
            "Blanks shape: (80, 160, 1)\n",
            "Lane drawn shape: (80, 160, 3)\n",
            "Lane image shape: (544, 960, 3)\n",
            "1/1 [==============================] - 0s 33ms/step\n",
            "Prediction shape: "
          ]
        },
        {
          "output_type": "stream",
          "name": "stderr",
          "text": [
            "\rt:  34%|███▎      | 437/1297 [02:16<05:54,  2.42it/s, now=None]"
          ]
        },
        {
          "output_type": "stream",
          "name": "stdout",
          "text": [
            "(80, 160, 1)\n",
            "Avg fit shape: (80, 160, 1)\n",
            "Blanks shape: (80, 160, 1)\n",
            "Lane drawn shape: (80, 160, 3)\n",
            "Lane image shape: (544, 960, 3)\n",
            "1/1 [==============================] - 0s 42ms/step\n",
            "Prediction shape:"
          ]
        },
        {
          "output_type": "stream",
          "name": "stderr",
          "text": [
            "\rt:  34%|███▍      | 438/1297 [02:17<06:00,  2.38it/s, now=None]"
          ]
        },
        {
          "output_type": "stream",
          "name": "stdout",
          "text": [
            " (80, 160, 1)\n",
            "Avg fit shape: (80, 160, 1)\n",
            "Blanks shape: (80, 160, 1)\n",
            "Lane drawn shape: (80, 160, 3)\n",
            "Lane image shape: (544, 960, 3)\n",
            "1/1 [==============================] - 0s 38ms/step\n"
          ]
        },
        {
          "output_type": "stream",
          "name": "stderr",
          "text": [
            "\rt:  34%|███▍      | 439/1297 [02:17<05:55,  2.42it/s, now=None]"
          ]
        },
        {
          "output_type": "stream",
          "name": "stdout",
          "text": [
            "Prediction shape: (80, 160, 1)\n",
            "Avg fit shape: (80, 160, 1)\n",
            "Blanks shape: (80, 160, 1)\n",
            "Lane drawn shape: (80, 160, 3)\n",
            "Lane image shape: (544, 960, 3)\n",
            "1/1 [==============================] - 0s 35ms/step\n"
          ]
        },
        {
          "output_type": "stream",
          "name": "stderr",
          "text": [
            "\rt:  34%|███▍      | 440/1297 [02:18<06:02,  2.37it/s, now=None]"
          ]
        },
        {
          "output_type": "stream",
          "name": "stdout",
          "text": [
            "Prediction shape: (80, 160, 1)\n",
            "Avg fit shape: (80, 160, 1)\n",
            "Blanks shape: (80, 160, 1)\n",
            "Lane drawn shape: (80, 160, 3)\n",
            "Lane image shape: (544, 960, 3)\n",
            "1/1 [==============================] - 0s 47ms/step\n",
            "Prediction shape: (80, 160, 1)\n",
            "Avg fit shape: (80, 160, 1)\n",
            "Blanks shape: (80, 160, 1)\n",
            "Lane drawn shape: (80, 160, 3)\n",
            "Lane image shape: (544, 960, 3)\n"
          ]
        },
        {
          "output_type": "stream",
          "name": "stderr",
          "text": [
            "\rt:  34%|███▍      | 441/1297 [02:18<06:04,  2.35it/s, now=None]"
          ]
        },
        {
          "output_type": "stream",
          "name": "stdout",
          "text": [
            "1/1 [==============================] - 0s 36ms/step\n"
          ]
        },
        {
          "output_type": "stream",
          "name": "stderr",
          "text": [
            "\rt:  34%|███▍      | 442/1297 [02:19<06:21,  2.24it/s, now=None]"
          ]
        },
        {
          "output_type": "stream",
          "name": "stdout",
          "text": [
            "Prediction shape: (80, 160, 1)\n",
            "Avg fit shape: (80, 160, 1)\n",
            "Blanks shape: (80, 160, 1)\n",
            "Lane drawn shape: (80, 160, 3)\n",
            "Lane image shape: (544, 960, 3)\n",
            "1/1 [==============================] - 0s 51ms/step\n",
            "Prediction shape: (80, 160, 1)\n",
            "Avg fit shape: (80, 160, 1)\n",
            "Blanks shape: (80, 160, 1)\n",
            "Lane drawn shape: (80, 160, 3)\n",
            "Lane image shape: (544, 960, 3)\n"
          ]
        },
        {
          "output_type": "stream",
          "name": "stderr",
          "text": [
            "\rt:  34%|███▍      | 443/1297 [02:19<06:18,  2.26it/s, now=None]"
          ]
        },
        {
          "output_type": "stream",
          "name": "stdout",
          "text": [
            "1/1 [==============================] - 0s 30ms/step\n"
          ]
        },
        {
          "output_type": "stream",
          "name": "stderr",
          "text": [
            "\rt:  34%|███▍      | 444/1297 [02:19<06:05,  2.34it/s, now=None]"
          ]
        },
        {
          "output_type": "stream",
          "name": "stdout",
          "text": [
            "Prediction shape: (80, 160, 1)\n",
            "Avg fit shape: (80, 160, 1)\n",
            "Blanks shape: (80, 160, 1)\n",
            "Lane drawn shape: (80, 160, 3)\n",
            "Lane image shape: (544, 960, 3)\n",
            "1/1 [==============================] - 0s 18ms/step\n"
          ]
        },
        {
          "output_type": "stream",
          "name": "stderr",
          "text": [
            "\rt:  34%|███▍      | 445/1297 [02:20<05:36,  2.53it/s, now=None]"
          ]
        },
        {
          "output_type": "stream",
          "name": "stdout",
          "text": [
            "Prediction shape: (80, 160, 1)\n",
            "Avg fit shape: (80, 160, 1)\n",
            "Blanks shape: (80, 160, 1)\n",
            "Lane drawn shape: (80, 160, 3)\n",
            "Lane image shape: (544, 960, 3)\n",
            "1/1 [==============================] - 0s 18ms/step\n"
          ]
        },
        {
          "output_type": "stream",
          "name": "stderr",
          "text": [
            "\rt:  34%|███▍      | 446/1297 [02:20<05:03,  2.81it/s, now=None]"
          ]
        },
        {
          "output_type": "stream",
          "name": "stdout",
          "text": [
            "Prediction shape: (80, 160, 1)\n",
            "Avg fit shape: (80, 160, 1)\n",
            "Blanks shape: (80, 160, 1)\n",
            "Lane drawn shape: (80, 160, 3)\n",
            "Lane image shape: (544, 960, 3)\n",
            "1/1 [==============================] - 0s 19ms/step\n"
          ]
        },
        {
          "output_type": "stream",
          "name": "stderr",
          "text": [
            "\rt:  34%|███▍      | 447/1297 [02:20<04:46,  2.96it/s, now=None]"
          ]
        },
        {
          "output_type": "stream",
          "name": "stdout",
          "text": [
            "Prediction shape: (80, 160, 1)\n",
            "Avg fit shape: (80, 160, 1)\n",
            "Blanks shape: (80, 160, 1)\n",
            "Lane drawn shape: (80, 160, 3)\n",
            "Lane image shape: (544, 960, 3)\n",
            "1/1 [==============================] - 0s 20ms/step\n"
          ]
        },
        {
          "output_type": "stream",
          "name": "stderr",
          "text": [
            "\rt:  35%|███▍      | 448/1297 [02:20<04:30,  3.14it/s, now=None]"
          ]
        },
        {
          "output_type": "stream",
          "name": "stdout",
          "text": [
            "Prediction shape: (80, 160, 1)\n",
            "Avg fit shape: (80, 160, 1)\n",
            "Blanks shape: (80, 160, 1)\n",
            "Lane drawn shape: (80, 160, 3)\n",
            "Lane image shape: (544, 960, 3)\n",
            "1/1 [==============================] - 0s 18ms/step\n"
          ]
        },
        {
          "output_type": "stream",
          "name": "stderr",
          "text": [
            "\rt:  35%|███▍      | 449/1297 [02:21<04:14,  3.34it/s, now=None]"
          ]
        },
        {
          "output_type": "stream",
          "name": "stdout",
          "text": [
            "Prediction shape: (80, 160, 1)\n",
            "Avg fit shape: (80, 160, 1)\n",
            "Blanks shape: (80, 160, 1)\n",
            "Lane drawn shape: (80, 160, 3)\n",
            "Lane image shape: (544, 960, 3)\n",
            "1/1 [==============================] - 0s 18ms/step\n"
          ]
        },
        {
          "output_type": "stream",
          "name": "stderr",
          "text": [
            "\rt:  35%|███▍      | 450/1297 [02:21<04:04,  3.46it/s, now=None]"
          ]
        },
        {
          "output_type": "stream",
          "name": "stdout",
          "text": [
            "Prediction shape: (80, 160, 1)\n",
            "Avg fit shape: (80, 160, 1)\n",
            "Blanks shape: (80, 160, 1)\n",
            "Lane drawn shape: (80, 160, 3)\n",
            "Lane image shape: (544, 960, 3)\n",
            "1/1 [==============================] - 0s 19ms/step\n"
          ]
        },
        {
          "output_type": "stream",
          "name": "stderr",
          "text": [
            "\rt:  35%|███▍      | 451/1297 [02:21<04:04,  3.46it/s, now=None]"
          ]
        },
        {
          "output_type": "stream",
          "name": "stdout",
          "text": [
            "Prediction shape: (80, 160, 1)\n",
            "Avg fit shape: (80, 160, 1)\n",
            "Blanks shape: (80, 160, 1)\n",
            "Lane drawn shape: (80, 160, 3)\n",
            "Lane image shape: (544, 960, 3)\n",
            "1/1 [==============================] - 0s 18ms/step\n"
          ]
        },
        {
          "output_type": "stream",
          "name": "stderr",
          "text": [
            "\rt:  35%|███▍      | 452/1297 [02:22<04:00,  3.52it/s, now=None]"
          ]
        },
        {
          "output_type": "stream",
          "name": "stdout",
          "text": [
            "Prediction shape: (80, 160, 1)\n",
            "Avg fit shape: (80, 160, 1)\n",
            "Blanks shape: (80, 160, 1)\n",
            "Lane drawn shape: (80, 160, 3)\n",
            "Lane image shape: (544, 960, 3)\n",
            "1/1 [==============================] - 0s 18ms/step\n"
          ]
        },
        {
          "output_type": "stream",
          "name": "stderr",
          "text": [
            "\rt:  35%|███▍      | 453/1297 [02:22<03:52,  3.62it/s, now=None]"
          ]
        },
        {
          "output_type": "stream",
          "name": "stdout",
          "text": [
            "Prediction shape: (80, 160, 1)\n",
            "Avg fit shape: (80, 160, 1)\n",
            "Blanks shape: (80, 160, 1)\n",
            "Lane drawn shape: (80, 160, 3)\n",
            "Lane image shape: (544, 960, 3)\n",
            "1/1 [==============================] - 0s 19ms/step\n"
          ]
        },
        {
          "output_type": "stream",
          "name": "stderr",
          "text": [
            "\rt:  35%|███▌      | 454/1297 [02:22<03:50,  3.65it/s, now=None]"
          ]
        },
        {
          "output_type": "stream",
          "name": "stdout",
          "text": [
            "Prediction shape: (80, 160, 1)\n",
            "Avg fit shape: (80, 160, 1)\n",
            "Blanks shape: (80, 160, 1)\n",
            "Lane drawn shape: (80, 160, 3)\n",
            "Lane image shape: (544, 960, 3)\n",
            "1/1 [==============================] - 0s 20ms/step\n"
          ]
        },
        {
          "output_type": "stream",
          "name": "stderr",
          "text": [
            "\rt:  35%|███▌      | 455/1297 [02:22<03:52,  3.62it/s, now=None]"
          ]
        },
        {
          "output_type": "stream",
          "name": "stdout",
          "text": [
            "Prediction shape: (80, 160, 1)\n",
            "Avg fit shape: (80, 160, 1)\n",
            "Blanks shape: (80, 160, 1)\n",
            "Lane drawn shape: (80, 160, 3)\n",
            "Lane image shape: (544, 960, 3)\n",
            "1/1 [==============================] - 0s 18ms/step\n"
          ]
        },
        {
          "output_type": "stream",
          "name": "stderr",
          "text": [
            "\rt:  35%|███▌      | 456/1297 [02:23<03:48,  3.68it/s, now=None]"
          ]
        },
        {
          "output_type": "stream",
          "name": "stdout",
          "text": [
            "Prediction shape: (80, 160, 1)\n",
            "Avg fit shape: (80, 160, 1)\n",
            "Blanks shape: (80, 160, 1)\n",
            "Lane drawn shape: (80, 160, 3)\n",
            "Lane image shape: (544, 960, 3)\n",
            "1/1 [==============================] - 0s 18ms/step\n"
          ]
        },
        {
          "output_type": "stream",
          "name": "stderr",
          "text": [
            "\rt:  35%|███▌      | 457/1297 [02:23<03:44,  3.75it/s, now=None]"
          ]
        },
        {
          "output_type": "stream",
          "name": "stdout",
          "text": [
            "Prediction shape: (80, 160, 1)\n",
            "Avg fit shape: (80, 160, 1)\n",
            "Blanks shape: (80, 160, 1)\n",
            "Lane drawn shape: (80, 160, 3)\n",
            "Lane image shape: (544, 960, 3)\n",
            "1/1 [==============================] - 0s 18ms/step\n"
          ]
        },
        {
          "output_type": "stream",
          "name": "stderr",
          "text": [
            "\rt:  35%|███▌      | 458/1297 [02:23<03:42,  3.77it/s, now=None]"
          ]
        },
        {
          "output_type": "stream",
          "name": "stdout",
          "text": [
            "Prediction shape: (80, 160, 1)\n",
            "Avg fit shape: (80, 160, 1)\n",
            "Blanks shape: (80, 160, 1)\n",
            "Lane drawn shape: (80, 160, 3)\n",
            "Lane image shape: (544, 960, 3)\n",
            "1/1 [==============================] - 0s 18ms/step\n"
          ]
        },
        {
          "output_type": "stream",
          "name": "stderr",
          "text": [
            "\rt:  35%|███▌      | 459/1297 [02:23<03:46,  3.70it/s, now=None]"
          ]
        },
        {
          "output_type": "stream",
          "name": "stdout",
          "text": [
            "Prediction shape: (80, 160, 1)\n",
            "Avg fit shape: (80, 160, 1)\n",
            "Blanks shape: (80, 160, 1)\n",
            "Lane drawn shape: (80, 160, 3)\n",
            "Lane image shape: (544, 960, 3)\n",
            "1/1 [==============================] - 0s 18ms/step\n"
          ]
        },
        {
          "output_type": "stream",
          "name": "stderr",
          "text": [
            "\rt:  35%|███▌      | 460/1297 [02:24<03:43,  3.74it/s, now=None]"
          ]
        },
        {
          "output_type": "stream",
          "name": "stdout",
          "text": [
            "Prediction shape: (80, 160, 1)\n",
            "Avg fit shape: (80, 160, 1)\n",
            "Blanks shape: (80, 160, 1)\n",
            "Lane drawn shape: (80, 160, 3)\n",
            "Lane image shape: (544, 960, 3)\n",
            "1/1 [==============================] - 0s 19ms/step\n"
          ]
        },
        {
          "output_type": "stream",
          "name": "stderr",
          "text": [
            "\rt:  36%|███▌      | 461/1297 [02:24<03:51,  3.61it/s, now=None]"
          ]
        },
        {
          "output_type": "stream",
          "name": "stdout",
          "text": [
            "Prediction shape: (80, 160, 1)\n",
            "Avg fit shape: (80, 160, 1)\n",
            "Blanks shape: (80, 160, 1)\n",
            "Lane drawn shape: (80, 160, 3)\n",
            "Lane image shape: (544, 960, 3)\n",
            "1/1 [==============================] - 0s 19ms/step\n"
          ]
        },
        {
          "output_type": "stream",
          "name": "stderr",
          "text": [
            "\rt:  36%|███▌      | 462/1297 [02:24<03:49,  3.64it/s, now=None]"
          ]
        },
        {
          "output_type": "stream",
          "name": "stdout",
          "text": [
            "Prediction shape: (80, 160, 1)\n",
            "Avg fit shape: (80, 160, 1)\n",
            "Blanks shape: (80, 160, 1)\n",
            "Lane drawn shape: (80, 160, 3)\n",
            "Lane image shape: (544, 960, 3)\n",
            "1/1 [==============================] - 0s 20ms/step\n"
          ]
        },
        {
          "output_type": "stream",
          "name": "stderr",
          "text": [
            "\rt:  36%|███▌      | 463/1297 [02:25<03:49,  3.64it/s, now=None]"
          ]
        },
        {
          "output_type": "stream",
          "name": "stdout",
          "text": [
            "Prediction shape: (80, 160, 1)\n",
            "Avg fit shape: (80, 160, 1)\n",
            "Blanks shape: (80, 160, 1)\n",
            "Lane drawn shape: (80, 160, 3)\n",
            "Lane image shape: (544, 960, 3)\n",
            "1/1 [==============================] - 0s 18ms/step\n"
          ]
        },
        {
          "output_type": "stream",
          "name": "stderr",
          "text": [
            "\rt:  36%|███▌      | 464/1297 [02:25<03:44,  3.71it/s, now=None]"
          ]
        },
        {
          "output_type": "stream",
          "name": "stdout",
          "text": [
            "Prediction shape: (80, 160, 1)\n",
            "Avg fit shape: (80, 160, 1)\n",
            "Blanks shape: (80, 160, 1)\n",
            "Lane drawn shape: (80, 160, 3)\n",
            "Lane image shape: (544, 960, 3)\n",
            "1/1 [==============================] - 0s 18ms/step\n"
          ]
        },
        {
          "output_type": "stream",
          "name": "stderr",
          "text": [
            "\rt:  36%|███▌      | 465/1297 [02:25<03:48,  3.64it/s, now=None]"
          ]
        },
        {
          "output_type": "stream",
          "name": "stdout",
          "text": [
            "Prediction shape: (80, 160, 1)\n",
            "Avg fit shape: (80, 160, 1)\n",
            "Blanks shape: (80, 160, 1)\n",
            "Lane drawn shape: (80, 160, 3)\n",
            "Lane image shape: (544, 960, 3)\n",
            "1/1 [==============================] - 0s 18ms/step\n"
          ]
        },
        {
          "output_type": "stream",
          "name": "stderr",
          "text": [
            "\rt:  36%|███▌      | 466/1297 [02:25<03:48,  3.64it/s, now=None]"
          ]
        },
        {
          "output_type": "stream",
          "name": "stdout",
          "text": [
            "Prediction shape: (80, 160, 1)\n",
            "Avg fit shape: (80, 160, 1)\n",
            "Blanks shape: (80, 160, 1)\n",
            "Lane drawn shape: (80, 160, 3)\n",
            "Lane image shape: (544, 960, 3)\n",
            "1/1 [==============================] - 0s 20ms/step\n"
          ]
        },
        {
          "output_type": "stream",
          "name": "stderr",
          "text": [
            "\rt:  36%|███▌      | 467/1297 [02:26<03:44,  3.69it/s, now=None]"
          ]
        },
        {
          "output_type": "stream",
          "name": "stdout",
          "text": [
            "Prediction shape: (80, 160, 1)\n",
            "Avg fit shape: (80, 160, 1)\n",
            "Blanks shape: (80, 160, 1)\n",
            "Lane drawn shape: (80, 160, 3)\n",
            "Lane image shape: (544, 960, 3)\n",
            "1/1 [==============================] - 0s 18ms/step\n"
          ]
        },
        {
          "output_type": "stream",
          "name": "stderr",
          "text": [
            "\rt:  36%|███▌      | 468/1297 [02:26<03:42,  3.72it/s, now=None]"
          ]
        },
        {
          "output_type": "stream",
          "name": "stdout",
          "text": [
            "Prediction shape: (80, 160, 1)\n",
            "Avg fit shape: (80, 160, 1)\n",
            "Blanks shape: (80, 160, 1)\n",
            "Lane drawn shape: (80, 160, 3)\n",
            "Lane image shape: (544, 960, 3)\n",
            "1/1 [==============================] - 0s 21ms/step\n"
          ]
        },
        {
          "output_type": "stream",
          "name": "stderr",
          "text": [
            "\rt:  36%|███▌      | 469/1297 [02:26<03:45,  3.67it/s, now=None]"
          ]
        },
        {
          "output_type": "stream",
          "name": "stdout",
          "text": [
            "Prediction shape: (80, 160, 1)\n",
            "Avg fit shape: (80, 160, 1)\n",
            "Blanks shape: (80, 160, 1)\n",
            "Lane drawn shape: (80, 160, 3)\n",
            "Lane image shape: (544, 960, 3)\n",
            "1/1 [==============================] - 0s 18ms/step\n"
          ]
        },
        {
          "output_type": "stream",
          "name": "stderr",
          "text": [
            "\rt:  36%|███▌      | 470/1297 [02:26<03:43,  3.71it/s, now=None]"
          ]
        },
        {
          "output_type": "stream",
          "name": "stdout",
          "text": [
            "Prediction shape: (80, 160, 1)\n",
            "Avg fit shape: (80, 160, 1)\n",
            "Blanks shape: (80, 160, 1)\n",
            "Lane drawn shape: (80, 160, 3)\n",
            "Lane image shape: (544, 960, 3)\n",
            "1/1 [==============================] - 0s 18ms/step\n"
          ]
        },
        {
          "output_type": "stream",
          "name": "stderr",
          "text": [
            "\rt:  36%|███▋      | 471/1297 [02:27<03:40,  3.75it/s, now=None]"
          ]
        },
        {
          "output_type": "stream",
          "name": "stdout",
          "text": [
            "Prediction shape: (80, 160, 1)\n",
            "Avg fit shape: (80, 160, 1)\n",
            "Blanks shape: (80, 160, 1)\n",
            "Lane drawn shape: (80, 160, 3)\n",
            "Lane image shape: (544, 960, 3)\n",
            "1/1 [==============================] - 0s 18ms/step\n"
          ]
        },
        {
          "output_type": "stream",
          "name": "stderr",
          "text": [
            "\rt:  36%|███▋      | 472/1297 [02:27<03:38,  3.78it/s, now=None]"
          ]
        },
        {
          "output_type": "stream",
          "name": "stdout",
          "text": [
            "Prediction shape: (80, 160, 1)\n",
            "Avg fit shape: (80, 160, 1)\n",
            "Blanks shape: (80, 160, 1)\n",
            "Lane drawn shape: (80, 160, 3)\n",
            "Lane image shape: (544, 960, 3)\n",
            "1/1 [==============================] - 0s 18ms/step\n"
          ]
        },
        {
          "output_type": "stream",
          "name": "stderr",
          "text": [
            "\rt:  36%|███▋      | 473/1297 [02:27<03:41,  3.72it/s, now=None]"
          ]
        },
        {
          "output_type": "stream",
          "name": "stdout",
          "text": [
            "Prediction shape: (80, 160, 1)\n",
            "Avg fit shape: (80, 160, 1)\n",
            "Blanks shape: (80, 160, 1)\n",
            "Lane drawn shape: (80, 160, 3)\n",
            "Lane image shape: (544, 960, 3)\n",
            "1/1 [==============================] - 0s 20ms/step\n"
          ]
        },
        {
          "output_type": "stream",
          "name": "stderr",
          "text": [
            "\rt:  37%|███▋      | 474/1297 [02:28<03:44,  3.67it/s, now=None]"
          ]
        },
        {
          "output_type": "stream",
          "name": "stdout",
          "text": [
            "Prediction shape: (80, 160, 1)\n",
            "Avg fit shape: (80, 160, 1)\n",
            "Blanks shape: (80, 160, 1)\n",
            "Lane drawn shape: (80, 160, 3)\n",
            "Lane image shape: (544, 960, 3)\n",
            "1/1 [==============================] - 0s 19ms/step\n"
          ]
        },
        {
          "output_type": "stream",
          "name": "stderr",
          "text": [
            "\rt:  37%|███▋      | 475/1297 [02:28<03:40,  3.73it/s, now=None]"
          ]
        },
        {
          "output_type": "stream",
          "name": "stdout",
          "text": [
            "Prediction shape: (80, 160, 1)\n",
            "Avg fit shape: (80, 160, 1)\n",
            "Blanks shape: (80, 160, 1)\n",
            "Lane drawn shape: (80, 160, 3)\n",
            "Lane image shape: (544, 960, 3)\n",
            "1/1 [==============================] - 0s 19ms/step\n"
          ]
        },
        {
          "output_type": "stream",
          "name": "stderr",
          "text": [
            "\rt:  37%|███▋      | 476/1297 [02:28<03:37,  3.77it/s, now=None]"
          ]
        },
        {
          "output_type": "stream",
          "name": "stdout",
          "text": [
            "Prediction shape: (80, 160, 1)\n",
            "Avg fit shape: (80, 160, 1)\n",
            "Blanks shape: (80, 160, 1)\n",
            "Lane drawn shape: (80, 160, 3)\n",
            "Lane image shape: (544, 960, 3)\n",
            "1/1 [==============================] - 0s 18ms/step\n"
          ]
        },
        {
          "output_type": "stream",
          "name": "stderr",
          "text": [
            "\rt:  37%|███▋      | 477/1297 [02:28<03:35,  3.81it/s, now=None]"
          ]
        },
        {
          "output_type": "stream",
          "name": "stdout",
          "text": [
            "Prediction shape: (80, 160, 1)\n",
            "Avg fit shape: (80, 160, 1)\n",
            "Blanks shape: (80, 160, 1)\n",
            "Lane drawn shape: (80, 160, 3)\n",
            "Lane image shape: (544, 960, 3)\n",
            "1/1 [==============================] - 0s 18ms/step\n"
          ]
        },
        {
          "output_type": "stream",
          "name": "stderr",
          "text": [
            "\rt:  37%|███▋      | 478/1297 [02:29<03:40,  3.72it/s, now=None]"
          ]
        },
        {
          "output_type": "stream",
          "name": "stdout",
          "text": [
            "Prediction shape: (80, 160, 1)\n",
            "Avg fit shape: (80, 160, 1)\n",
            "Blanks shape: (80, 160, 1)\n",
            "Lane drawn shape: (80, 160, 3)\n",
            "Lane image shape: (544, 960, 3)\n",
            "1/1 [==============================] - 0s 19ms/step\n"
          ]
        },
        {
          "output_type": "stream",
          "name": "stderr",
          "text": [
            "\rt:  37%|███▋      | 479/1297 [02:29<03:41,  3.68it/s, now=None]"
          ]
        },
        {
          "output_type": "stream",
          "name": "stdout",
          "text": [
            "Prediction shape: (80, 160, 1)\n",
            "Avg fit shape: (80, 160, 1)\n",
            "Blanks shape: (80, 160, 1)\n",
            "Lane drawn shape: (80, 160, 3)\n",
            "Lane image shape: (544, 960, 3)\n",
            "1/1 [==============================] - 0s 21ms/step\n"
          ]
        },
        {
          "output_type": "stream",
          "name": "stderr",
          "text": [
            "\rt:  37%|███▋      | 480/1297 [02:29<03:41,  3.69it/s, now=None]"
          ]
        },
        {
          "output_type": "stream",
          "name": "stdout",
          "text": [
            "Prediction shape: (80, 160, 1)\n",
            "Avg fit shape: (80, 160, 1)\n",
            "Blanks shape: (80, 160, 1)\n",
            "Lane drawn shape: (80, 160, 3)\n",
            "Lane image shape: (544, 960, 3)\n",
            "1/1 [==============================] - 0s 20ms/step\n"
          ]
        },
        {
          "output_type": "stream",
          "name": "stderr",
          "text": [
            "\rt:  37%|███▋      | 481/1297 [02:29<03:39,  3.72it/s, now=None]"
          ]
        },
        {
          "output_type": "stream",
          "name": "stdout",
          "text": [
            "Prediction shape: (80, 160, 1)\n",
            "Avg fit shape: (80, 160, 1)\n",
            "Blanks shape: (80, 160, 1)\n",
            "Lane drawn shape: (80, 160, 3)\n",
            "Lane image shape: (544, 960, 3)\n",
            "1/1 [==============================] - 0s 32ms/step\n",
            "Prediction shape: (80, 160, 1)\n",
            "Avg fit shape: (80, 160, 1)\n",
            "Blanks shape: (80, 160, 1)\n",
            "Lane drawn shape: (80, 160, 3)\n",
            "Lane image shape: (544, 960, 3)\n"
          ]
        },
        {
          "output_type": "stream",
          "name": "stderr",
          "text": [
            "\rt:  37%|███▋      | 482/1297 [02:30<04:12,  3.22it/s, now=None]"
          ]
        },
        {
          "output_type": "stream",
          "name": "stdout",
          "text": [
            "1/1 [==============================] - 0s 35ms/step\n",
            "Prediction shape: (80, 160, 1)\n",
            "Avg fit shape: (80, 160, 1)\n",
            "Blanks shape: (80, 160, 1)\n",
            "Lane drawn shape: (80, 160, 3)\n",
            "Lane image shape: (544, 960, 3)\n"
          ]
        },
        {
          "output_type": "stream",
          "name": "stderr",
          "text": [
            "\rt:  37%|███▋      | 483/1297 [02:30<04:35,  2.96it/s, now=None]"
          ]
        },
        {
          "output_type": "stream",
          "name": "stdout",
          "text": [
            "1/1 [==============================] - 0s 28ms/step\n",
            "Prediction shape: (80, 160, 1)\n",
            "Avg fit shape: (80, 160, 1)\n",
            "Blanks shape: (80, 160, 1)\n",
            "Lane drawn shape: (80, 160, 3)\n",
            "Lane image shape: (544, 960, 3)\n"
          ]
        },
        {
          "output_type": "stream",
          "name": "stderr",
          "text": [
            "\rt:  37%|███▋      | 484/1297 [02:31<04:52,  2.78it/s, now=None]"
          ]
        },
        {
          "output_type": "stream",
          "name": "stdout",
          "text": [
            "1/1 [==============================] - 0s 27ms/step\n"
          ]
        },
        {
          "output_type": "stream",
          "name": "stderr",
          "text": [
            "\rt:  37%|███▋      | 485/1297 [02:31<05:00,  2.70it/s, now=None]"
          ]
        },
        {
          "output_type": "stream",
          "name": "stdout",
          "text": [
            "Prediction shape: (80, 160, 1)\n",
            "Avg fit shape: (80, 160, 1)\n",
            "Blanks shape: (80, 160, 1)\n",
            "Lane drawn shape: (80, 160, 3)\n",
            "Lane image shape: (544, 960, 3)\n",
            "1/1 [==============================] - 0s 51ms/step\n"
          ]
        },
        {
          "output_type": "stream",
          "name": "stderr",
          "text": [
            "\rt:  37%|███▋      | 486/1297 [02:31<05:19,  2.54it/s, now=None]"
          ]
        },
        {
          "output_type": "stream",
          "name": "stdout",
          "text": [
            "Prediction shape: (80, 160, 1)\n",
            "Avg fit shape: (80, 160, 1)\n",
            "Blanks shape: (80, 160, 1)\n",
            "Lane drawn shape: (80, 160, 3)\n",
            "Lane image shape: (544, 960, 3)\n",
            "1/1 [==============================] - 0s 45ms/step\n"
          ]
        },
        {
          "output_type": "stream",
          "name": "stderr",
          "text": [
            "\rt:  38%|███▊      | 487/1297 [02:32<05:29,  2.46it/s, now=None]"
          ]
        },
        {
          "output_type": "stream",
          "name": "stdout",
          "text": [
            "Prediction shape: (80, 160, 1)\n",
            "Avg fit shape: (80, 160, 1)\n",
            "Blanks shape: (80, 160, 1)\n",
            "Lane drawn shape: (80, 160, 3)\n",
            "Lane image shape: (544, 960, 3)\n",
            "1/1 [==============================] - 0s 41ms/step\n"
          ]
        },
        {
          "output_type": "stream",
          "name": "stderr",
          "text": [
            "\rt:  38%|███▊      | 488/1297 [02:32<05:35,  2.41it/s, now=None]"
          ]
        },
        {
          "output_type": "stream",
          "name": "stdout",
          "text": [
            "Prediction shape: (80, 160, 1)\n",
            "Avg fit shape: (80, 160, 1)\n",
            "Blanks shape: (80, 160, 1)\n",
            "Lane drawn shape: (80, 160, 3)\n",
            "Lane image shape: (544, 960, 3)\n",
            "1/1 [==============================] - 0s 25ms/step\n"
          ]
        },
        {
          "output_type": "stream",
          "name": "stderr",
          "text": [
            "\rt:  38%|███▊      | 489/1297 [02:33<05:31,  2.44it/s, now=None]"
          ]
        },
        {
          "output_type": "stream",
          "name": "stdout",
          "text": [
            "Prediction shape: (80, 160, 1)\n",
            "Avg fit shape: (80, 160, 1)\n",
            "Blanks shape: (80, 160, 1)\n",
            "Lane drawn shape: (80, 160, 3)\n",
            "Lane image shape: (544, 960, 3)\n",
            "1/1 [==============================] - 0s 52ms/step\n"
          ]
        },
        {
          "output_type": "stream",
          "name": "stderr",
          "text": [
            "\rt:  38%|███▊      | 490/1297 [02:33<05:41,  2.36it/s, now=None]"
          ]
        },
        {
          "output_type": "stream",
          "name": "stdout",
          "text": [
            "Prediction shape: (80, 160, 1)\n",
            "Avg fit shape: (80, 160, 1)\n",
            "Blanks shape: (80, 160, 1)\n",
            "Lane drawn shape: (80, 160, 3)\n",
            "Lane image shape: (544, 960, 3)\n",
            "1/1 [==============================] - 0s 34ms/step\n",
            "Prediction shape:"
          ]
        },
        {
          "output_type": "stream",
          "name": "stderr",
          "text": [
            "\rt:  38%|███▊      | 491/1297 [02:34<05:43,  2.35it/s, now=None]"
          ]
        },
        {
          "output_type": "stream",
          "name": "stdout",
          "text": [
            " (80, 160, 1)\n",
            "Avg fit shape: (80, 160, 1)\n",
            "Blanks shape: (80, 160, 1)\n",
            "Lane drawn shape: (80, 160, 3)\n",
            "Lane image shape: (544, 960, 3)\n",
            "1/1 [==============================] - 0s 42ms/step\n",
            "Prediction shape: (80, 160, 1)\n",
            "Avg fit shape: (80, 160, 1)\n",
            "Blanks shape: (80, 160, 1)\n",
            "Lane drawn shape: (80, 160, 3)\n",
            "Lane image shape: (544, 960, 3)\n"
          ]
        },
        {
          "output_type": "stream",
          "name": "stderr",
          "text": [
            "\rt:  38%|███▊      | 492/1297 [02:34<05:38,  2.38it/s, now=None]"
          ]
        },
        {
          "output_type": "stream",
          "name": "stdout",
          "text": [
            "1/1 [==============================] - 0s 25ms/step\n"
          ]
        },
        {
          "output_type": "stream",
          "name": "stderr",
          "text": [
            "\rt:  38%|███▊      | 493/1297 [02:34<05:34,  2.41it/s, now=None]"
          ]
        },
        {
          "output_type": "stream",
          "name": "stdout",
          "text": [
            "Prediction shape: (80, 160, 1)\n",
            "Avg fit shape: (80, 160, 1)\n",
            "Blanks shape: (80, 160, 1)\n",
            "Lane drawn shape: (80, 160, 3)\n",
            "Lane image shape: (544, 960, 3)\n",
            "1/1 [==============================] - 0s 43ms/step\n"
          ]
        },
        {
          "output_type": "stream",
          "name": "stderr",
          "text": [
            "\rt:  38%|███▊      | 494/1297 [02:35<05:42,  2.35it/s, now=None]"
          ]
        },
        {
          "output_type": "stream",
          "name": "stdout",
          "text": [
            "Prediction shape: (80, 160, 1)\n",
            "Avg fit shape: (80, 160, 1)\n",
            "Blanks shape: (80, 160, 1)\n",
            "Lane drawn shape: (80, 160, 3)\n",
            "Lane image shape: (544, 960, 3)\n",
            "1/1 [==============================] - 0s 18ms/step\n"
          ]
        },
        {
          "output_type": "stream",
          "name": "stderr",
          "text": [
            "\rt:  38%|███▊      | 495/1297 [02:35<05:08,  2.60it/s, now=None]"
          ]
        },
        {
          "output_type": "stream",
          "name": "stdout",
          "text": [
            "Prediction shape: (80, 160, 1)\n",
            "Avg fit shape: (80, 160, 1)\n",
            "Blanks shape: (80, 160, 1)\n",
            "Lane drawn shape: (80, 160, 3)\n",
            "Lane image shape: (544, 960, 3)\n",
            "1/1 [==============================] - 0s 18ms/step\n"
          ]
        },
        {
          "output_type": "stream",
          "name": "stderr",
          "text": [
            "\rt:  38%|███▊      | 496/1297 [02:35<04:46,  2.79it/s, now=None]"
          ]
        },
        {
          "output_type": "stream",
          "name": "stdout",
          "text": [
            "Prediction shape: (80, 160, 1)\n",
            "Avg fit shape: (80, 160, 1)\n",
            "Blanks shape: (80, 160, 1)\n",
            "Lane drawn shape: (80, 160, 3)\n",
            "Lane image shape: (544, 960, 3)\n",
            "1/1 [==============================] - 0s 19ms/step\n"
          ]
        },
        {
          "output_type": "stream",
          "name": "stderr",
          "text": [
            "\rt:  38%|███▊      | 497/1297 [02:36<04:24,  3.03it/s, now=None]"
          ]
        },
        {
          "output_type": "stream",
          "name": "stdout",
          "text": [
            "Prediction shape: (80, 160, 1)\n",
            "Avg fit shape: (80, 160, 1)\n",
            "Blanks shape: (80, 160, 1)\n",
            "Lane drawn shape: (80, 160, 3)\n",
            "Lane image shape: (544, 960, 3)\n",
            "1/1 [==============================] - 0s 18ms/step\n"
          ]
        },
        {
          "output_type": "stream",
          "name": "stderr",
          "text": [
            "\rt:  38%|███▊      | 498/1297 [02:36<04:07,  3.23it/s, now=None]"
          ]
        },
        {
          "output_type": "stream",
          "name": "stdout",
          "text": [
            "Prediction shape: (80, 160, 1)\n",
            "Avg fit shape: (80, 160, 1)\n",
            "Blanks shape: (80, 160, 1)\n",
            "Lane drawn shape: (80, 160, 3)\n",
            "Lane image shape: (544, 960, 3)\n",
            "1/1 [==============================] - 0s 18ms/step\n"
          ]
        },
        {
          "output_type": "stream",
          "name": "stderr",
          "text": [
            "\rt:  38%|███▊      | 499/1297 [02:36<03:55,  3.38it/s, now=None]"
          ]
        },
        {
          "output_type": "stream",
          "name": "stdout",
          "text": [
            "Prediction shape: (80, 160, 1)\n",
            "Avg fit shape: (80, 160, 1)\n",
            "Blanks shape: (80, 160, 1)\n",
            "Lane drawn shape: (80, 160, 3)\n",
            "Lane image shape: (544, 960, 3)\n",
            "1/1 [==============================] - 0s 19ms/step\n"
          ]
        },
        {
          "output_type": "stream",
          "name": "stderr",
          "text": [
            "\rt:  39%|███▊      | 500/1297 [02:37<03:56,  3.36it/s, now=None]"
          ]
        },
        {
          "output_type": "stream",
          "name": "stdout",
          "text": [
            "Prediction shape: (80, 160, 1)\n",
            "Avg fit shape: (80, 160, 1)\n",
            "Blanks shape: (80, 160, 1)\n",
            "Lane drawn shape: (80, 160, 3)\n",
            "Lane image shape: (544, 960, 3)\n",
            "1/1 [==============================] - 0s 18ms/step\n"
          ]
        },
        {
          "output_type": "stream",
          "name": "stderr",
          "text": [
            "\rt:  39%|███▊      | 501/1297 [02:37<03:49,  3.47it/s, now=None]"
          ]
        },
        {
          "output_type": "stream",
          "name": "stdout",
          "text": [
            "Prediction shape: (80, 160, 1)\n",
            "Avg fit shape: (80, 160, 1)\n",
            "Blanks shape: (80, 160, 1)\n",
            "Lane drawn shape: (80, 160, 3)\n",
            "Lane image shape: (544, 960, 3)\n",
            "1/1 [==============================] - 0s 19ms/step\n"
          ]
        },
        {
          "output_type": "stream",
          "name": "stderr",
          "text": [
            "\rt:  39%|███▊      | 502/1297 [02:37<03:41,  3.59it/s, now=None]"
          ]
        },
        {
          "output_type": "stream",
          "name": "stdout",
          "text": [
            "Prediction shape: (80, 160, 1)\n",
            "Avg fit shape: (80, 160, 1)\n",
            "Blanks shape: (80, 160, 1)\n",
            "Lane drawn shape: (80, 160, 3)\n",
            "Lane image shape: (544, 960, 3)\n",
            "1/1 [==============================] - 0s 17ms/step\n"
          ]
        },
        {
          "output_type": "stream",
          "name": "stderr",
          "text": [
            "\rt:  39%|███▉      | 503/1297 [02:37<03:33,  3.71it/s, now=None]"
          ]
        },
        {
          "output_type": "stream",
          "name": "stdout",
          "text": [
            "Prediction shape: (80, 160, 1)\n",
            "Avg fit shape: (80, 160, 1)\n",
            "Blanks shape: (80, 160, 1)\n",
            "Lane drawn shape: (80, 160, 3)\n",
            "Lane image shape: (544, 960, 3)\n",
            "1/1 [==============================] - 0s 19ms/step\n"
          ]
        },
        {
          "output_type": "stream",
          "name": "stderr",
          "text": [
            "\rt:  39%|███▉      | 504/1297 [02:38<03:45,  3.51it/s, now=None]"
          ]
        },
        {
          "output_type": "stream",
          "name": "stdout",
          "text": [
            "Prediction shape: (80, 160, 1)\n",
            "Avg fit shape: (80, 160, 1)\n",
            "Blanks shape: (80, 160, 1)\n",
            "Lane drawn shape: (80, 160, 3)\n",
            "Lane image shape: (544, 960, 3)\n",
            "1/1 [==============================] - 0s 18ms/step\n"
          ]
        },
        {
          "output_type": "stream",
          "name": "stderr",
          "text": [
            "\rt:  39%|███▉      | 505/1297 [02:38<03:41,  3.58it/s, now=None]"
          ]
        },
        {
          "output_type": "stream",
          "name": "stdout",
          "text": [
            "Prediction shape: (80, 160, 1)\n",
            "Avg fit shape: (80, 160, 1)\n",
            "Blanks shape: (80, 160, 1)\n",
            "Lane drawn shape: (80, 160, 3)\n",
            "Lane image shape: (544, 960, 3)\n",
            "1/1 [==============================] - 0s 24ms/step\n"
          ]
        },
        {
          "output_type": "stream",
          "name": "stderr",
          "text": [
            "\rt:  39%|███▉      | 506/1297 [02:38<03:39,  3.61it/s, now=None]"
          ]
        },
        {
          "output_type": "stream",
          "name": "stdout",
          "text": [
            "Prediction shape: (80, 160, 1)\n",
            "Avg fit shape: (80, 160, 1)\n",
            "Blanks shape: (80, 160, 1)\n",
            "Lane drawn shape: (80, 160, 3)\n",
            "Lane image shape: (544, 960, 3)\n",
            "1/1 [==============================] - 0s 21ms/step\n"
          ]
        },
        {
          "output_type": "stream",
          "name": "stderr",
          "text": [
            "\rt:  39%|███▉      | 507/1297 [02:38<03:33,  3.70it/s, now=None]"
          ]
        },
        {
          "output_type": "stream",
          "name": "stdout",
          "text": [
            "Prediction shape: (80, 160, 1)\n",
            "Avg fit shape: (80, 160, 1)\n",
            "Blanks shape: (80, 160, 1)\n",
            "Lane drawn shape: (80, 160, 3)\n",
            "Lane image shape: (544, 960, 3)\n",
            "1/1 [==============================] - 0s 18ms/step\n"
          ]
        },
        {
          "output_type": "stream",
          "name": "stderr",
          "text": [
            "\rt:  39%|███▉      | 508/1297 [02:39<03:41,  3.56it/s, now=None]"
          ]
        },
        {
          "output_type": "stream",
          "name": "stdout",
          "text": [
            "Prediction shape: (80, 160, 1)\n",
            "Avg fit shape: (80, 160, 1)\n",
            "Blanks shape: (80, 160, 1)\n",
            "Lane drawn shape: (80, 160, 3)\n",
            "Lane image shape: (544, 960, 3)\n",
            "1/1 [==============================] - 0s 18ms/step\n"
          ]
        },
        {
          "output_type": "stream",
          "name": "stderr",
          "text": [
            "\rt:  39%|███▉      | 509/1297 [02:39<03:36,  3.63it/s, now=None]"
          ]
        },
        {
          "output_type": "stream",
          "name": "stdout",
          "text": [
            "Prediction shape: (80, 160, 1)\n",
            "Avg fit shape: (80, 160, 1)\n",
            "Blanks shape: (80, 160, 1)\n",
            "Lane drawn shape: (80, 160, 3)\n",
            "Lane image shape: (544, 960, 3)\n",
            "1/1 [==============================] - 0s 18ms/step\n"
          ]
        },
        {
          "output_type": "stream",
          "name": "stderr",
          "text": [
            "\rt:  39%|███▉      | 510/1297 [02:39<03:31,  3.72it/s, now=None]"
          ]
        },
        {
          "output_type": "stream",
          "name": "stdout",
          "text": [
            "Prediction shape: (80, 160, 1)\n",
            "Avg fit shape: (80, 160, 1)\n",
            "Blanks shape: (80, 160, 1)\n",
            "Lane drawn shape: (80, 160, 3)\n",
            "Lane image shape: (544, 960, 3)\n",
            "1/1 [==============================] - 0s 18ms/step\n"
          ]
        },
        {
          "output_type": "stream",
          "name": "stderr",
          "text": [
            "\rt:  39%|███▉      | 511/1297 [02:39<03:26,  3.80it/s, now=None]"
          ]
        },
        {
          "output_type": "stream",
          "name": "stdout",
          "text": [
            "Prediction shape: (80, 160, 1)\n",
            "Avg fit shape: (80, 160, 1)\n",
            "Blanks shape: (80, 160, 1)\n",
            "Lane drawn shape: (80, 160, 3)\n",
            "Lane image shape: (544, 960, 3)\n",
            "1/1 [==============================] - 0s 18ms/step\n"
          ]
        },
        {
          "output_type": "stream",
          "name": "stderr",
          "text": [
            "\rt:  39%|███▉      | 512/1297 [02:40<03:31,  3.72it/s, now=None]"
          ]
        },
        {
          "output_type": "stream",
          "name": "stdout",
          "text": [
            "Prediction shape: (80, 160, 1)\n",
            "Avg fit shape: (80, 160, 1)\n",
            "Blanks shape: (80, 160, 1)\n",
            "Lane drawn shape: (80, 160, 3)\n",
            "Lane image shape: (544, 960, 3)\n",
            "1/1 [==============================] - 0s 18ms/step\n"
          ]
        },
        {
          "output_type": "stream",
          "name": "stderr",
          "text": [
            "\rt:  40%|███▉      | 513/1297 [02:40<03:31,  3.71it/s, now=None]"
          ]
        },
        {
          "output_type": "stream",
          "name": "stdout",
          "text": [
            "Prediction shape: (80, 160, 1)\n",
            "Avg fit shape: (80, 160, 1)\n",
            "Blanks shape: (80, 160, 1)\n",
            "Lane drawn shape: (80, 160, 3)\n",
            "Lane image shape: (544, 960, 3)\n",
            "1/1 [==============================] - 0s 18ms/step\n"
          ]
        },
        {
          "output_type": "stream",
          "name": "stderr",
          "text": [
            "\rt:  40%|███▉      | 514/1297 [02:40<03:26,  3.79it/s, now=None]"
          ]
        },
        {
          "output_type": "stream",
          "name": "stdout",
          "text": [
            "Prediction shape: (80, 160, 1)\n",
            "Avg fit shape: (80, 160, 1)\n",
            "Blanks shape: (80, 160, 1)\n",
            "Lane drawn shape: (80, 160, 3)\n",
            "Lane image shape: (544, 960, 3)\n",
            "1/1 [==============================] - 0s 18ms/step\n"
          ]
        },
        {
          "output_type": "stream",
          "name": "stderr",
          "text": [
            "\rt:  40%|███▉      | 515/1297 [02:41<03:25,  3.81it/s, now=None]"
          ]
        },
        {
          "output_type": "stream",
          "name": "stdout",
          "text": [
            "Prediction shape: (80, 160, 1)\n",
            "Avg fit shape: (80, 160, 1)\n",
            "Blanks shape: (80, 160, 1)\n",
            "Lane drawn shape: (80, 160, 3)\n",
            "Lane image shape: (544, 960, 3)\n",
            "1/1 [==============================] - 0s 18ms/step\n"
          ]
        },
        {
          "output_type": "stream",
          "name": "stderr",
          "text": [
            "\rt:  40%|███▉      | 516/1297 [02:41<03:33,  3.66it/s, now=None]"
          ]
        },
        {
          "output_type": "stream",
          "name": "stdout",
          "text": [
            "Prediction shape: (80, 160, 1)\n",
            "Avg fit shape: (80, 160, 1)\n",
            "Blanks shape: (80, 160, 1)\n",
            "Lane drawn shape: (80, 160, 3)\n",
            "Lane image shape: (544, 960, 3)\n",
            "1/1 [==============================] - 0s 18ms/step\n"
          ]
        },
        {
          "output_type": "stream",
          "name": "stderr",
          "text": [
            "\rt:  40%|███▉      | 517/1297 [02:41<03:30,  3.71it/s, now=None]"
          ]
        },
        {
          "output_type": "stream",
          "name": "stdout",
          "text": [
            "Prediction shape: (80, 160, 1)\n",
            "Avg fit shape: (80, 160, 1)\n",
            "Blanks shape: (80, 160, 1)\n",
            "Lane drawn shape: (80, 160, 3)\n",
            "Lane image shape: (544, 960, 3)\n",
            "1/1 [==============================] - 0s 20ms/step\n"
          ]
        },
        {
          "output_type": "stream",
          "name": "stderr",
          "text": [
            "\rt:  40%|███▉      | 518/1297 [02:41<03:26,  3.78it/s, now=None]"
          ]
        },
        {
          "output_type": "stream",
          "name": "stdout",
          "text": [
            "Prediction shape: (80, 160, 1)\n",
            "Avg fit shape: (80, 160, 1)\n",
            "Blanks shape: (80, 160, 1)\n",
            "Lane drawn shape: (80, 160, 3)\n",
            "Lane image shape: (544, 960, 3)\n",
            "1/1 [==============================] - 0s 18ms/step\n"
          ]
        },
        {
          "output_type": "stream",
          "name": "stderr",
          "text": [
            "\rt:  40%|████      | 519/1297 [02:42<03:23,  3.82it/s, now=None]"
          ]
        },
        {
          "output_type": "stream",
          "name": "stdout",
          "text": [
            "Prediction shape: (80, 160, 1)\n",
            "Avg fit shape: (80, 160, 1)\n",
            "Blanks shape: (80, 160, 1)\n",
            "Lane drawn shape: (80, 160, 3)\n",
            "Lane image shape: (544, 960, 3)\n",
            "1/1 [==============================] - 0s 18ms/step\n"
          ]
        },
        {
          "output_type": "stream",
          "name": "stderr",
          "text": [
            "\rt:  40%|████      | 520/1297 [02:42<03:31,  3.67it/s, now=None]"
          ]
        },
        {
          "output_type": "stream",
          "name": "stdout",
          "text": [
            "Prediction shape: (80, 160, 1)\n",
            "Avg fit shape: (80, 160, 1)\n",
            "Blanks shape: (80, 160, 1)\n",
            "Lane drawn shape: (80, 160, 3)\n",
            "Lane image shape: (544, 960, 3)\n",
            "1/1 [==============================] - 0s 18ms/step\n"
          ]
        },
        {
          "output_type": "stream",
          "name": "stderr",
          "text": [
            "\rt:  40%|████      | 521/1297 [02:42<03:28,  3.72it/s, now=None]"
          ]
        },
        {
          "output_type": "stream",
          "name": "stdout",
          "text": [
            "Prediction shape: (80, 160, 1)\n",
            "Avg fit shape: (80, 160, 1)\n",
            "Blanks shape: (80, 160, 1)\n",
            "Lane drawn shape: (80, 160, 3)\n",
            "Lane image shape: (544, 960, 3)\n",
            "1/1 [==============================] - 0s 17ms/step\n"
          ]
        },
        {
          "output_type": "stream",
          "name": "stderr",
          "text": [
            "\rt:  40%|████      | 522/1297 [02:42<03:24,  3.79it/s, now=None]"
          ]
        },
        {
          "output_type": "stream",
          "name": "stdout",
          "text": [
            "Prediction shape: (80, 160, 1)\n",
            "Avg fit shape: (80, 160, 1)\n",
            "Blanks shape: (80, 160, 1)\n",
            "Lane drawn shape: (80, 160, 3)\n",
            "Lane image shape: (544, 960, 3)\n",
            "1/1 [==============================] - 0s 18ms/step\n"
          ]
        },
        {
          "output_type": "stream",
          "name": "stderr",
          "text": [
            "\rt:  40%|████      | 523/1297 [02:43<03:25,  3.76it/s, now=None]"
          ]
        },
        {
          "output_type": "stream",
          "name": "stdout",
          "text": [
            "Prediction shape: (80, 160, 1)\n",
            "Avg fit shape: (80, 160, 1)\n",
            "Blanks shape: (80, 160, 1)\n",
            "Lane drawn shape: (80, 160, 3)\n",
            "Lane image shape: (544, 960, 3)\n",
            "1/1 [==============================] - 0s 18ms/step\n"
          ]
        },
        {
          "output_type": "stream",
          "name": "stderr",
          "text": [
            "\rt:  40%|████      | 524/1297 [02:43<03:26,  3.74it/s, now=None]"
          ]
        },
        {
          "output_type": "stream",
          "name": "stdout",
          "text": [
            "Prediction shape: (80, 160, 1)\n",
            "Avg fit shape: (80, 160, 1)\n",
            "Blanks shape: (80, 160, 1)\n",
            "Lane drawn shape: (80, 160, 3)\n",
            "Lane image shape: (544, 960, 3)\n",
            "1/1 [==============================] - 0s 18ms/step\n"
          ]
        },
        {
          "output_type": "stream",
          "name": "stderr",
          "text": [
            "\rt:  40%|████      | 525/1297 [02:43<03:23,  3.80it/s, now=None]"
          ]
        },
        {
          "output_type": "stream",
          "name": "stdout",
          "text": [
            "Prediction shape: (80, 160, 1)\n",
            "Avg fit shape: (80, 160, 1)\n",
            "Blanks shape: (80, 160, 1)\n",
            "Lane drawn shape: (80, 160, 3)\n",
            "Lane image shape: (544, 960, 3)\n",
            "1/1 [==============================] - 0s 18ms/step\n"
          ]
        },
        {
          "output_type": "stream",
          "name": "stderr",
          "text": [
            "\rt:  41%|████      | 526/1297 [02:43<03:21,  3.83it/s, now=None]"
          ]
        },
        {
          "output_type": "stream",
          "name": "stdout",
          "text": [
            "Prediction shape: (80, 160, 1)\n",
            "Avg fit shape: (80, 160, 1)\n",
            "Blanks shape: (80, 160, 1)\n",
            "Lane drawn shape: (80, 160, 3)\n",
            "Lane image shape: (544, 960, 3)\n",
            "1/1 [==============================] - 0s 20ms/step\n"
          ]
        },
        {
          "output_type": "stream",
          "name": "stderr",
          "text": [
            "\rt:  41%|████      | 527/1297 [02:44<03:22,  3.81it/s, now=None]"
          ]
        },
        {
          "output_type": "stream",
          "name": "stdout",
          "text": [
            "Prediction shape: (80, 160, 1)\n",
            "Avg fit shape: (80, 160, 1)\n",
            "Blanks shape: (80, 160, 1)\n",
            "Lane drawn shape: (80, 160, 3)\n",
            "Lane image shape: (544, 960, 3)\n",
            "1/1 [==============================] - 0s 18ms/step\n"
          ]
        },
        {
          "output_type": "stream",
          "name": "stderr",
          "text": [
            "\rt:  41%|████      | 528/1297 [02:44<03:27,  3.70it/s, now=None]"
          ]
        },
        {
          "output_type": "stream",
          "name": "stdout",
          "text": [
            "Prediction shape: (80, 160, 1)\n",
            "Avg fit shape: (80, 160, 1)\n",
            "Blanks shape: (80, 160, 1)\n",
            "Lane drawn shape: (80, 160, 3)\n",
            "Lane image shape: (544, 960, 3)\n",
            "1/1 [==============================] - 0s 18ms/step\n"
          ]
        },
        {
          "output_type": "stream",
          "name": "stderr",
          "text": [
            "\rt:  41%|████      | 529/1297 [02:44<03:25,  3.73it/s, now=None]"
          ]
        },
        {
          "output_type": "stream",
          "name": "stdout",
          "text": [
            "Prediction shape: (80, 160, 1)\n",
            "Avg fit shape: (80, 160, 1)\n",
            "Blanks shape: (80, 160, 1)\n",
            "Lane drawn shape: (80, 160, 3)\n",
            "Lane image shape: (544, 960, 3)\n",
            "1/1 [==============================] - 0s 18ms/step\n"
          ]
        },
        {
          "output_type": "stream",
          "name": "stderr",
          "text": [
            "\rt:  41%|████      | 530/1297 [02:45<03:24,  3.75it/s, now=None]"
          ]
        },
        {
          "output_type": "stream",
          "name": "stdout",
          "text": [
            "Prediction shape: (80, 160, 1)\n",
            "Avg fit shape: (80, 160, 1)\n",
            "Blanks shape: (80, 160, 1)\n",
            "Lane drawn shape: (80, 160, 3)\n",
            "Lane image shape: (544, 960, 3)\n",
            "1/1 [==============================] - 0s 17ms/step\n"
          ]
        },
        {
          "output_type": "stream",
          "name": "stderr",
          "text": [
            "\rt:  41%|████      | 531/1297 [02:45<03:26,  3.71it/s, now=None]"
          ]
        },
        {
          "output_type": "stream",
          "name": "stdout",
          "text": [
            "Prediction shape: (80, 160, 1)\n",
            "Avg fit shape: (80, 160, 1)\n",
            "Blanks shape: (80, 160, 1)\n",
            "Lane drawn shape: (80, 160, 3)\n",
            "Lane image shape: (544, 960, 3)\n",
            "1/1 [==============================] - 0s 27ms/step\n"
          ]
        },
        {
          "output_type": "stream",
          "name": "stderr",
          "text": [
            "\rt:  41%|████      | 532/1297 [02:45<03:53,  3.28it/s, now=None]"
          ]
        },
        {
          "output_type": "stream",
          "name": "stdout",
          "text": [
            "Prediction shape: (80, 160, 1)\n",
            "Avg fit shape: (80, 160, 1)\n",
            "Blanks shape: (80, 160, 1)\n",
            "Lane drawn shape: (80, 160, 3)\n",
            "Lane image shape: (544, 960, 3)\n",
            "1/1 [==============================] - 0s 29ms/step\n",
            "Prediction shape: (80, 160, 1)\n",
            "Avg fit shape: (80, 160, 1)\n",
            "Blanks shape: (80, 160, 1)\n",
            "Lane drawn shape: (80, 160, 3)\n",
            "Lane image shape:"
          ]
        },
        {
          "output_type": "stream",
          "name": "stderr",
          "text": [
            "\rt:  41%|████      | 533/1297 [02:46<04:17,  2.96it/s, now=None]"
          ]
        },
        {
          "output_type": "stream",
          "name": "stdout",
          "text": [
            " (544, 960, 3)\n",
            "1/1 [==============================] - 0s 40ms/step\n",
            "Prediction shape: (80, 160, 1)\n",
            "Avg fit shape: (80, 160, 1)\n",
            "Blanks shape: (80, 160, 1)\n",
            "Lane drawn shape: (80, 160, 3)\n",
            "Lane image shape: (544, 960, 3)\n"
          ]
        },
        {
          "output_type": "stream",
          "name": "stderr",
          "text": [
            "\rt:  41%|████      | 534/1297 [02:46<04:34,  2.77it/s, now=None]"
          ]
        },
        {
          "output_type": "stream",
          "name": "stdout",
          "text": [
            "1/1 [==============================] - 0s 30ms/step\n",
            "Prediction shape: (80, 160, 1)\n",
            "Avg fit shape: (80, 160, 1)\n",
            "Blanks shape: (80, 160, 1)\n",
            "Lane drawn shape: (80, 160, 3)\n",
            "Lane image shape: (544, 960, 3)\n"
          ]
        },
        {
          "output_type": "stream",
          "name": "stderr",
          "text": [
            "\rt:  41%|████      | 535/1297 [02:46<04:44,  2.67it/s, now=None]"
          ]
        },
        {
          "output_type": "stream",
          "name": "stdout",
          "text": [
            "1/1 [==============================] - 0s 39ms/step\n"
          ]
        },
        {
          "output_type": "stream",
          "name": "stderr",
          "text": [
            "\rt:  41%|████▏     | 536/1297 [02:47<05:06,  2.49it/s, now=None]"
          ]
        },
        {
          "output_type": "stream",
          "name": "stdout",
          "text": [
            "Prediction shape: (80, 160, 1)\n",
            "Avg fit shape: (80, 160, 1)\n",
            "Blanks shape: (80, 160, 1)\n",
            "Lane drawn shape: (80, 160, 3)\n",
            "Lane image shape: (544, 960, 3)\n",
            "1/1 [==============================] - 0s 43ms/step\n"
          ]
        },
        {
          "output_type": "stream",
          "name": "stderr",
          "text": [
            "\rt:  41%|████▏     | 537/1297 [02:47<05:17,  2.39it/s, now=None]"
          ]
        },
        {
          "output_type": "stream",
          "name": "stdout",
          "text": [
            "Prediction shape: (80, 160, 1)\n",
            "Avg fit shape: (80, 160, 1)\n",
            "Blanks shape: (80, 160, 1)\n",
            "Lane drawn shape: (80, 160, 3)\n",
            "Lane image shape: (544, 960, 3)\n",
            "1/1 [==============================] - 0s 27ms/step\n",
            "Prediction shape: (80, 160, 1)\n",
            "Avg fit shape: (80, 160, 1)\n",
            "Blanks shape: (80, 160, 1)\n",
            "Lane drawn shape: (80, 160, 3)\n",
            "Lane image shape: (544, 960, 3)\n"
          ]
        },
        {
          "output_type": "stream",
          "name": "stderr",
          "text": [
            "\rt:  41%|████▏     | 538/1297 [02:48<05:14,  2.41it/s, now=None]"
          ]
        },
        {
          "output_type": "stream",
          "name": "stdout",
          "text": [
            "1/1 [==============================] - 0s 26ms/step\n",
            "Prediction shape: (80, 160, 1)\n",
            "Avg fit shape: (80, 160, 1)\n",
            "Blanks shape: (80, 160, 1)\n",
            "Lane drawn shape: (80, 160, 3)\n",
            "Lane image shape: (544, 960, 3)\n"
          ]
        },
        {
          "output_type": "stream",
          "name": "stderr",
          "text": [
            "\rt:  42%|████▏     | 539/1297 [02:48<05:15,  2.40it/s, now=None]"
          ]
        },
        {
          "output_type": "stream",
          "name": "stdout",
          "text": [
            "1/1 [==============================] - 0s 38ms/step\n"
          ]
        },
        {
          "output_type": "stream",
          "name": "stderr",
          "text": [
            "\rt:  42%|████▏     | 540/1297 [02:49<05:30,  2.29it/s, now=None]"
          ]
        },
        {
          "output_type": "stream",
          "name": "stdout",
          "text": [
            "Prediction shape: (80, 160, 1)\n",
            "Avg fit shape: (80, 160, 1)\n",
            "Blanks shape: (80, 160, 1)\n",
            "Lane drawn shape: (80, 160, 3)\n",
            "Lane image shape: (544, 960, 3)\n",
            "1/1 [==============================] - 0s 60ms/step\n",
            "Prediction shape: (80, 160, 1)\n"
          ]
        },
        {
          "output_type": "stream",
          "name": "stderr",
          "text": [
            "\rt:  42%|████▏     | 541/1297 [02:49<05:36,  2.25it/s, now=None]"
          ]
        },
        {
          "output_type": "stream",
          "name": "stdout",
          "text": [
            "Avg fit shape: (80, 160, 1)\n",
            "Blanks shape: (80, 160, 1)\n",
            "Lane drawn shape: (80, 160, 3)\n",
            "Lane image shape: (544, 960, 3)\n",
            "1/1 [==============================] - 0s 29ms/step\n"
          ]
        },
        {
          "output_type": "stream",
          "name": "stderr",
          "text": [
            "\rt:  42%|████▏     | 542/1297 [02:50<05:25,  2.32it/s, now=None]"
          ]
        },
        {
          "output_type": "stream",
          "name": "stdout",
          "text": [
            "Prediction shape: (80, 160, 1)\n",
            "Avg fit shape: (80, 160, 1)\n",
            "Blanks shape: (80, 160, 1)\n",
            "Lane drawn shape: (80, 160, 3)\n",
            "Lane image shape: (544, 960, 3)\n",
            "1/1 [==============================] - 0s 40ms/step\n",
            "Prediction shape: (80, 160, 1)\n",
            "Avg fit shape: (80, 160, 1)\n",
            "Blanks shape: (80, 160, 1)\n",
            "Lane drawn shape: (80, 160, 3)\n",
            "Lane image shape: (544, 960, 3)\n"
          ]
        },
        {
          "output_type": "stream",
          "name": "stderr",
          "text": [
            "\rt:  42%|████▏     | 543/1297 [02:50<05:20,  2.35it/s, now=None]"
          ]
        },
        {
          "output_type": "stream",
          "name": "stdout",
          "text": [
            "1/1 [==============================] - 0s 28ms/step\n",
            "Prediction shape: (80, 160, 1)\n",
            "Avg fit shape: (80, 160, 1)\n",
            "Blanks shape: (80, 160, 1)\n",
            "Lane drawn shape: (80, 160, 3)\n",
            "Lane image shape: (544, 960, 3)\n"
          ]
        },
        {
          "output_type": "stream",
          "name": "stderr",
          "text": [
            "\rt:  42%|████▏     | 544/1297 [02:50<05:25,  2.31it/s, now=None]"
          ]
        },
        {
          "output_type": "stream",
          "name": "stdout",
          "text": [
            "1/1 [==============================] - 0s 33ms/step\n"
          ]
        },
        {
          "output_type": "stream",
          "name": "stderr",
          "text": [
            "\rt:  42%|████▏     | 545/1297 [02:51<05:07,  2.45it/s, now=None]"
          ]
        },
        {
          "output_type": "stream",
          "name": "stdout",
          "text": [
            "Prediction shape: (80, 160, 1)\n",
            "Avg fit shape: (80, 160, 1)\n",
            "Blanks shape: (80, 160, 1)\n",
            "Lane drawn shape: (80, 160, 3)\n",
            "Lane image shape: (544, 960, 3)\n",
            "1/1 [==============================] - 0s 18ms/step\n"
          ]
        },
        {
          "output_type": "stream",
          "name": "stderr",
          "text": [
            "\rt:  42%|████▏     | 546/1297 [02:51<04:35,  2.72it/s, now=None]"
          ]
        },
        {
          "output_type": "stream",
          "name": "stdout",
          "text": [
            "Prediction shape: (80, 160, 1)\n",
            "Avg fit shape: (80, 160, 1)\n",
            "Blanks shape: (80, 160, 1)\n",
            "Lane drawn shape: (80, 160, 3)\n",
            "Lane image shape: (544, 960, 3)\n",
            "1/1 [==============================] - 0s 18ms/step\n"
          ]
        },
        {
          "output_type": "stream",
          "name": "stderr",
          "text": [
            "\rt:  42%|████▏     | 547/1297 [02:51<04:12,  2.97it/s, now=None]"
          ]
        },
        {
          "output_type": "stream",
          "name": "stdout",
          "text": [
            "Prediction shape: (80, 160, 1)\n",
            "Avg fit shape: (80, 160, 1)\n",
            "Blanks shape: (80, 160, 1)\n",
            "Lane drawn shape: (80, 160, 3)\n",
            "Lane image shape: (544, 960, 3)\n",
            "1/1 [==============================] - 0s 19ms/step\n"
          ]
        },
        {
          "output_type": "stream",
          "name": "stderr",
          "text": [
            "\rt:  42%|████▏     | 548/1297 [02:52<03:57,  3.15it/s, now=None]"
          ]
        },
        {
          "output_type": "stream",
          "name": "stdout",
          "text": [
            "Prediction shape: (80, 160, 1)\n",
            "Avg fit shape: (80, 160, 1)\n",
            "Blanks shape: (80, 160, 1)\n",
            "Lane drawn shape: (80, 160, 3)\n",
            "Lane image shape: (544, 960, 3)\n",
            "1/1 [==============================] - 0s 18ms/step\n"
          ]
        },
        {
          "output_type": "stream",
          "name": "stderr",
          "text": [
            "\rt:  42%|████▏     | 549/1297 [02:52<03:48,  3.28it/s, now=None]"
          ]
        },
        {
          "output_type": "stream",
          "name": "stdout",
          "text": [
            "Prediction shape: (80, 160, 1)\n",
            "Avg fit shape: (80, 160, 1)\n",
            "Blanks shape: (80, 160, 1)\n",
            "Lane drawn shape: (80, 160, 3)\n",
            "Lane image shape: (544, 960, 3)\n",
            "1/1 [==============================] - 0s 18ms/step\n"
          ]
        },
        {
          "output_type": "stream",
          "name": "stderr",
          "text": [
            "\rt:  42%|████▏     | 550/1297 [02:52<03:41,  3.38it/s, now=None]"
          ]
        },
        {
          "output_type": "stream",
          "name": "stdout",
          "text": [
            "Prediction shape: (80, 160, 1)\n",
            "Avg fit shape: (80, 160, 1)\n",
            "Blanks shape: (80, 160, 1)\n",
            "Lane drawn shape: (80, 160, 3)\n",
            "Lane image shape: (544, 960, 3)\n",
            "1/1 [==============================] - 0s 18ms/step\n"
          ]
        },
        {
          "output_type": "stream",
          "name": "stderr",
          "text": [
            "\rt:  42%|████▏     | 551/1297 [02:52<03:34,  3.47it/s, now=None]"
          ]
        },
        {
          "output_type": "stream",
          "name": "stdout",
          "text": [
            "Prediction shape: (80, 160, 1)\n",
            "Avg fit shape: (80, 160, 1)\n",
            "Blanks shape: (80, 160, 1)\n",
            "Lane drawn shape: (80, 160, 3)\n",
            "Lane image shape: (544, 960, 3)\n",
            "1/1 [==============================] - 0s 18ms/step\n"
          ]
        },
        {
          "output_type": "stream",
          "name": "stderr",
          "text": [
            "\rt:  43%|████▎     | 552/1297 [02:53<03:30,  3.54it/s, now=None]"
          ]
        },
        {
          "output_type": "stream",
          "name": "stdout",
          "text": [
            "Prediction shape: (80, 160, 1)\n",
            "Avg fit shape: (80, 160, 1)\n",
            "Blanks shape: (80, 160, 1)\n",
            "Lane drawn shape: (80, 160, 3)\n",
            "Lane image shape: (544, 960, 3)\n",
            "1/1 [==============================] - 0s 18ms/step\n"
          ]
        },
        {
          "output_type": "stream",
          "name": "stderr",
          "text": [
            "\rt:  43%|████▎     | 553/1297 [02:53<03:27,  3.58it/s, now=None]"
          ]
        },
        {
          "output_type": "stream",
          "name": "stdout",
          "text": [
            "Prediction shape: (80, 160, 1)\n",
            "Avg fit shape: (80, 160, 1)\n",
            "Blanks shape: (80, 160, 1)\n",
            "Lane drawn shape: (80, 160, 3)\n",
            "Lane image shape: (544, 960, 3)\n",
            "1/1 [==============================] - 0s 23ms/step\n"
          ]
        },
        {
          "output_type": "stream",
          "name": "stderr",
          "text": [
            "\rt:  43%|████▎     | 554/1297 [02:53<03:24,  3.63it/s, now=None]"
          ]
        },
        {
          "output_type": "stream",
          "name": "stdout",
          "text": [
            "Prediction shape: (80, 160, 1)\n",
            "Avg fit shape: (80, 160, 1)\n",
            "Blanks shape: (80, 160, 1)\n",
            "Lane drawn shape: (80, 160, 3)\n",
            "Lane image shape: (544, 960, 3)\n",
            "1/1 [==============================] - 0s 20ms/step\n"
          ]
        },
        {
          "output_type": "stream",
          "name": "stderr",
          "text": [
            "\rt:  43%|████▎     | 555/1297 [02:53<03:21,  3.68it/s, now=None]"
          ]
        },
        {
          "output_type": "stream",
          "name": "stdout",
          "text": [
            "Prediction shape: (80, 160, 1)\n",
            "Avg fit shape: (80, 160, 1)\n",
            "Blanks shape: (80, 160, 1)\n",
            "Lane drawn shape: (80, 160, 3)\n",
            "Lane image shape: (544, 960, 3)\n",
            "1/1 [==============================] - 0s 18ms/step\n"
          ]
        },
        {
          "output_type": "stream",
          "name": "stderr",
          "text": [
            "\rt:  43%|████▎     | 556/1297 [02:54<03:19,  3.72it/s, now=None]"
          ]
        },
        {
          "output_type": "stream",
          "name": "stdout",
          "text": [
            "Prediction shape: (80, 160, 1)\n",
            "Avg fit shape: (80, 160, 1)\n",
            "Blanks shape: (80, 160, 1)\n",
            "Lane drawn shape: (80, 160, 3)\n",
            "Lane image shape: (544, 960, 3)\n",
            "1/1 [==============================] - 0s 18ms/step\n"
          ]
        },
        {
          "output_type": "stream",
          "name": "stderr",
          "text": [
            "\rt:  43%|████▎     | 557/1297 [02:54<03:18,  3.73it/s, now=None]"
          ]
        },
        {
          "output_type": "stream",
          "name": "stdout",
          "text": [
            "Prediction shape: (80, 160, 1)\n",
            "Avg fit shape: (80, 160, 1)\n",
            "Blanks shape: (80, 160, 1)\n",
            "Lane drawn shape: (80, 160, 3)\n",
            "Lane image shape: (544, 960, 3)\n",
            "1/1 [==============================] - 0s 19ms/step\n"
          ]
        },
        {
          "output_type": "stream",
          "name": "stderr",
          "text": [
            "\rt:  43%|████▎     | 558/1297 [02:54<03:17,  3.74it/s, now=None]"
          ]
        },
        {
          "output_type": "stream",
          "name": "stdout",
          "text": [
            "Prediction shape: (80, 160, 1)\n",
            "Avg fit shape: (80, 160, 1)\n",
            "Blanks shape: (80, 160, 1)\n",
            "Lane drawn shape: (80, 160, 3)\n",
            "Lane image shape: (544, 960, 3)\n",
            "1/1 [==============================] - 0s 18ms/step\n"
          ]
        },
        {
          "output_type": "stream",
          "name": "stderr",
          "text": [
            "\rt:  43%|████▎     | 559/1297 [02:55<03:21,  3.66it/s, now=None]"
          ]
        },
        {
          "output_type": "stream",
          "name": "stdout",
          "text": [
            "Prediction shape: (80, 160, 1)\n",
            "Avg fit shape: (80, 160, 1)\n",
            "Blanks shape: (80, 160, 1)\n",
            "Lane drawn shape: (80, 160, 3)\n",
            "Lane image shape: (544, 960, 3)\n",
            "1/1 [==============================] - 0s 25ms/step\n"
          ]
        },
        {
          "output_type": "stream",
          "name": "stderr",
          "text": [
            "\rt:  43%|████▎     | 560/1297 [02:55<03:22,  3.64it/s, now=None]"
          ]
        },
        {
          "output_type": "stream",
          "name": "stdout",
          "text": [
            "Prediction shape: (80, 160, 1)\n",
            "Avg fit shape: (80, 160, 1)\n",
            "Blanks shape: (80, 160, 1)\n",
            "Lane drawn shape: (80, 160, 3)\n",
            "Lane image shape: (544, 960, 3)\n",
            "1/1 [==============================] - 0s 18ms/step\n"
          ]
        },
        {
          "output_type": "stream",
          "name": "stderr",
          "text": [
            "\rt:  43%|████▎     | 561/1297 [02:55<03:18,  3.71it/s, now=None]"
          ]
        },
        {
          "output_type": "stream",
          "name": "stdout",
          "text": [
            "Prediction shape: (80, 160, 1)\n",
            "Avg fit shape: (80, 160, 1)\n",
            "Blanks shape: (80, 160, 1)\n",
            "Lane drawn shape: (80, 160, 3)\n",
            "Lane image shape: (544, 960, 3)\n",
            "1/1 [==============================] - 0s 18ms/step\n"
          ]
        },
        {
          "output_type": "stream",
          "name": "stderr",
          "text": [
            "\rt:  43%|████▎     | 562/1297 [02:55<03:25,  3.58it/s, now=None]"
          ]
        },
        {
          "output_type": "stream",
          "name": "stdout",
          "text": [
            "Prediction shape: (80, 160, 1)\n",
            "Avg fit shape: (80, 160, 1)\n",
            "Blanks shape: (80, 160, 1)\n",
            "Lane drawn shape: (80, 160, 3)\n",
            "Lane image shape: (544, 960, 3)\n",
            "1/1 [==============================] - 0s 18ms/step\n"
          ]
        },
        {
          "output_type": "stream",
          "name": "stderr",
          "text": [
            "\rt:  43%|████▎     | 563/1297 [02:56<03:22,  3.63it/s, now=None]"
          ]
        },
        {
          "output_type": "stream",
          "name": "stdout",
          "text": [
            "Prediction shape: (80, 160, 1)\n",
            "Avg fit shape: (80, 160, 1)\n",
            "Blanks shape: (80, 160, 1)\n",
            "Lane drawn shape: (80, 160, 3)\n",
            "Lane image shape: (544, 960, 3)\n",
            "1/1 [==============================] - 0s 18ms/step\n"
          ]
        },
        {
          "output_type": "stream",
          "name": "stderr",
          "text": [
            "\rt:  43%|████▎     | 564/1297 [02:56<03:17,  3.71it/s, now=None]"
          ]
        },
        {
          "output_type": "stream",
          "name": "stdout",
          "text": [
            "Prediction shape: (80, 160, 1)\n",
            "Avg fit shape: (80, 160, 1)\n",
            "Blanks shape: (80, 160, 1)\n",
            "Lane drawn shape: (80, 160, 3)\n",
            "Lane image shape: (544, 960, 3)\n",
            "1/1 [==============================] - 0s 20ms/step\n"
          ]
        },
        {
          "output_type": "stream",
          "name": "stderr",
          "text": [
            "\rt:  44%|████▎     | 565/1297 [02:56<03:18,  3.69it/s, now=None]"
          ]
        },
        {
          "output_type": "stream",
          "name": "stdout",
          "text": [
            "Prediction shape: (80, 160, 1)\n",
            "Avg fit shape: (80, 160, 1)\n",
            "Blanks shape: (80, 160, 1)\n",
            "Lane drawn shape: (80, 160, 3)\n",
            "Lane image shape: (544, 960, 3)\n",
            "1/1 [==============================] - 0s 18ms/step\n"
          ]
        },
        {
          "output_type": "stream",
          "name": "stderr",
          "text": [
            "\rt:  44%|████▎     | 566/1297 [02:56<03:21,  3.63it/s, now=None]"
          ]
        },
        {
          "output_type": "stream",
          "name": "stdout",
          "text": [
            "Prediction shape: (80, 160, 1)\n",
            "Avg fit shape: (80, 160, 1)\n",
            "Blanks shape: (80, 160, 1)\n",
            "Lane drawn shape: (80, 160, 3)\n",
            "Lane image shape: (544, 960, 3)\n",
            "1/1 [==============================] - 0s 18ms/step\n"
          ]
        },
        {
          "output_type": "stream",
          "name": "stderr",
          "text": [
            "\rt:  44%|████▎     | 567/1297 [02:57<03:18,  3.68it/s, now=None]"
          ]
        },
        {
          "output_type": "stream",
          "name": "stdout",
          "text": [
            "Prediction shape: (80, 160, 1)\n",
            "Avg fit shape: (80, 160, 1)\n",
            "Blanks shape: (80, 160, 1)\n",
            "Lane drawn shape: (80, 160, 3)\n",
            "Lane image shape: (544, 960, 3)\n",
            "1/1 [==============================] - 0s 18ms/step\n"
          ]
        },
        {
          "output_type": "stream",
          "name": "stderr",
          "text": [
            "\rt:  44%|████▍     | 568/1297 [02:57<03:15,  3.73it/s, now=None]"
          ]
        },
        {
          "output_type": "stream",
          "name": "stdout",
          "text": [
            "Prediction shape: (80, 160, 1)\n",
            "Avg fit shape: (80, 160, 1)\n",
            "Blanks shape: (80, 160, 1)\n",
            "Lane drawn shape: (80, 160, 3)\n",
            "Lane image shape: (544, 960, 3)\n",
            "1/1 [==============================] - 0s 19ms/step\n"
          ]
        },
        {
          "output_type": "stream",
          "name": "stderr",
          "text": [
            "\rt:  44%|████▍     | 569/1297 [02:57<03:18,  3.66it/s, now=None]"
          ]
        },
        {
          "output_type": "stream",
          "name": "stdout",
          "text": [
            "Prediction shape: (80, 160, 1)\n",
            "Avg fit shape: (80, 160, 1)\n",
            "Blanks shape: (80, 160, 1)\n",
            "Lane drawn shape: (80, 160, 3)\n",
            "Lane image shape: (544, 960, 3)\n",
            "1/1 [==============================] - 0s 22ms/step\n"
          ]
        },
        {
          "output_type": "stream",
          "name": "stderr",
          "text": [
            "\rt:  44%|████▍     | 570/1297 [02:58<03:18,  3.67it/s, now=None]"
          ]
        },
        {
          "output_type": "stream",
          "name": "stdout",
          "text": [
            "Prediction shape: (80, 160, 1)\n",
            "Avg fit shape: (80, 160, 1)\n",
            "Blanks shape: (80, 160, 1)\n",
            "Lane drawn shape: (80, 160, 3)\n",
            "Lane image shape: (544, 960, 3)\n",
            "1/1 [==============================] - 0s 19ms/step\n"
          ]
        },
        {
          "output_type": "stream",
          "name": "stderr",
          "text": [
            "\rt:  44%|████▍     | 571/1297 [02:58<03:15,  3.71it/s, now=None]"
          ]
        },
        {
          "output_type": "stream",
          "name": "stdout",
          "text": [
            "Prediction shape: (80, 160, 1)\n",
            "Avg fit shape: (80, 160, 1)\n",
            "Blanks shape: (80, 160, 1)\n",
            "Lane drawn shape: (80, 160, 3)\n",
            "Lane image shape: (544, 960, 3)\n",
            "1/1 [==============================] - 0s 18ms/step\n"
          ]
        },
        {
          "output_type": "stream",
          "name": "stderr",
          "text": [
            "\rt:  44%|████▍     | 572/1297 [02:58<03:12,  3.77it/s, now=None]"
          ]
        },
        {
          "output_type": "stream",
          "name": "stdout",
          "text": [
            "Prediction shape: (80, 160, 1)\n",
            "Avg fit shape: (80, 160, 1)\n",
            "Blanks shape: (80, 160, 1)\n",
            "Lane drawn shape: (80, 160, 3)\n",
            "Lane image shape: (544, 960, 3)\n",
            "1/1 [==============================] - 0s 19ms/step\n"
          ]
        },
        {
          "output_type": "stream",
          "name": "stderr",
          "text": [
            "\rt:  44%|████▍     | 573/1297 [02:58<03:17,  3.67it/s, now=None]"
          ]
        },
        {
          "output_type": "stream",
          "name": "stdout",
          "text": [
            "Prediction shape: (80, 160, 1)\n",
            "Avg fit shape: (80, 160, 1)\n",
            "Blanks shape: (80, 160, 1)\n",
            "Lane drawn shape: (80, 160, 3)\n",
            "Lane image shape: (544, 960, 3)\n",
            "1/1 [==============================] - 0s 18ms/step\n"
          ]
        },
        {
          "output_type": "stream",
          "name": "stderr",
          "text": [
            "\rt:  44%|████▍     | 574/1297 [02:59<03:15,  3.69it/s, now=None]"
          ]
        },
        {
          "output_type": "stream",
          "name": "stdout",
          "text": [
            "Prediction shape: (80, 160, 1)\n",
            "Avg fit shape: (80, 160, 1)\n",
            "Blanks shape: (80, 160, 1)\n",
            "Lane drawn shape: (80, 160, 3)\n",
            "Lane image shape: (544, 960, 3)\n",
            "1/1 [==============================] - 0s 19ms/step\n"
          ]
        },
        {
          "output_type": "stream",
          "name": "stderr",
          "text": [
            "\rt:  44%|████▍     | 575/1297 [02:59<03:13,  3.73it/s, now=None]"
          ]
        },
        {
          "output_type": "stream",
          "name": "stdout",
          "text": [
            "Prediction shape: (80, 160, 1)\n",
            "Avg fit shape: (80, 160, 1)\n",
            "Blanks shape: (80, 160, 1)\n",
            "Lane drawn shape: (80, 160, 3)\n",
            "Lane image shape: (544, 960, 3)\n",
            "1/1 [==============================] - 0s 26ms/step\n"
          ]
        },
        {
          "output_type": "stream",
          "name": "stderr",
          "text": [
            "\rt:  44%|████▍     | 576/1297 [02:59<03:12,  3.74it/s, now=None]"
          ]
        },
        {
          "output_type": "stream",
          "name": "stdout",
          "text": [
            "Prediction shape: (80, 160, 1)\n",
            "Avg fit shape: (80, 160, 1)\n",
            "Blanks shape: (80, 160, 1)\n",
            "Lane drawn shape: (80, 160, 3)\n",
            "Lane image shape: (544, 960, 3)\n",
            "1/1 [==============================] - 0s 18ms/step\n"
          ]
        },
        {
          "output_type": "stream",
          "name": "stderr",
          "text": [
            "\rt:  44%|████▍     | 577/1297 [02:59<03:19,  3.60it/s, now=None]"
          ]
        },
        {
          "output_type": "stream",
          "name": "stdout",
          "text": [
            "Prediction shape: (80, 160, 1)\n",
            "Avg fit shape: (80, 160, 1)\n",
            "Blanks shape: (80, 160, 1)\n",
            "Lane drawn shape: (80, 160, 3)\n",
            "Lane image shape: (544, 960, 3)\n",
            "1/1 [==============================] - 0s 18ms/step\n"
          ]
        },
        {
          "output_type": "stream",
          "name": "stderr",
          "text": [
            "\rt:  45%|████▍     | 578/1297 [03:00<03:18,  3.63it/s, now=None]"
          ]
        },
        {
          "output_type": "stream",
          "name": "stdout",
          "text": [
            "Prediction shape: (80, 160, 1)\n",
            "Avg fit shape: (80, 160, 1)\n",
            "Blanks shape: (80, 160, 1)\n",
            "Lane drawn shape: (80, 160, 3)\n",
            "Lane image shape: (544, 960, 3)\n",
            "1/1 [==============================] - 0s 19ms/step\n"
          ]
        },
        {
          "output_type": "stream",
          "name": "stderr",
          "text": [
            "\rt:  45%|████▍     | 579/1297 [03:00<03:17,  3.64it/s, now=None]"
          ]
        },
        {
          "output_type": "stream",
          "name": "stdout",
          "text": [
            "Prediction shape: (80, 160, 1)\n",
            "Avg fit shape: (80, 160, 1)\n",
            "Blanks shape: (80, 160, 1)\n",
            "Lane drawn shape: (80, 160, 3)\n",
            "Lane image shape: (544, 960, 3)\n",
            "1/1 [==============================] - 0s 19ms/step\n"
          ]
        },
        {
          "output_type": "stream",
          "name": "stderr",
          "text": [
            "\rt:  45%|████▍     | 580/1297 [03:00<03:14,  3.68it/s, now=None]"
          ]
        },
        {
          "output_type": "stream",
          "name": "stdout",
          "text": [
            "Prediction shape: (80, 160, 1)\n",
            "Avg fit shape: (80, 160, 1)\n",
            "Blanks shape: (80, 160, 1)\n",
            "Lane drawn shape: (80, 160, 3)\n",
            "Lane image shape: (544, 960, 3)\n",
            "1/1 [==============================] - 0s 19ms/step\n"
          ]
        },
        {
          "output_type": "stream",
          "name": "stderr",
          "text": [
            "\rt:  45%|████▍     | 581/1297 [03:01<03:18,  3.60it/s, now=None]"
          ]
        },
        {
          "output_type": "stream",
          "name": "stdout",
          "text": [
            "Prediction shape: (80, 160, 1)\n",
            "Avg fit shape: (80, 160, 1)\n",
            "Blanks shape: (80, 160, 1)\n",
            "Lane drawn shape: (80, 160, 3)\n",
            "Lane image shape: (544, 960, 3)\n",
            "1/1 [==============================] - 0s 31ms/step\n",
            "Prediction shape: (80, 160, 1)\n",
            "Avg fit shape: (80, 160, 1)\n",
            "Blanks shape: (80, 160, 1)\n",
            "Lane drawn shape: (80, 160, 3)\n",
            "Lane image shape: (544, 960, 3)\n"
          ]
        },
        {
          "output_type": "stream",
          "name": "stderr",
          "text": [
            "\rt:  45%|████▍     | 582/1297 [03:01<03:41,  3.23it/s, now=None]"
          ]
        },
        {
          "output_type": "stream",
          "name": "stdout",
          "text": [
            "1/1 [==============================] - 0s 31ms/step\n"
          ]
        },
        {
          "output_type": "stream",
          "name": "stderr",
          "text": [
            "\rt:  45%|████▍     | 583/1297 [03:01<04:03,  2.93it/s, now=None]"
          ]
        },
        {
          "output_type": "stream",
          "name": "stdout",
          "text": [
            "Prediction shape: (80, 160, 1)\n",
            "Avg fit shape: (80, 160, 1)\n",
            "Blanks shape: (80, 160, 1)\n",
            "Lane drawn shape: (80, 160, 3)\n",
            "Lane image shape: (544, 960, 3)\n",
            "1/1 [==============================] - 0s 35ms/step\n"
          ]
        },
        {
          "output_type": "stream",
          "name": "stderr",
          "text": [
            "\rt:  45%|████▌     | 584/1297 [03:02<04:12,  2.82it/s, now=None]"
          ]
        },
        {
          "output_type": "stream",
          "name": "stdout",
          "text": [
            "Prediction shape: (80, 160, 1)\n",
            "Avg fit shape: (80, 160, 1)\n",
            "Blanks shape: (80, 160, 1)\n",
            "Lane drawn shape: (80, 160, 3)\n",
            "Lane image shape: (544, 960, 3)\n",
            "1/1 [==============================] - 0s 43ms/step\n"
          ]
        },
        {
          "output_type": "stream",
          "name": "stderr",
          "text": [
            "\rt:  45%|████▌     | 585/1297 [03:02<04:29,  2.64it/s, now=None]"
          ]
        },
        {
          "output_type": "stream",
          "name": "stdout",
          "text": [
            "Prediction shape: (80, 160, 1)\n",
            "Avg fit shape: (80, 160, 1)\n",
            "Blanks shape: (80, 160, 1)\n",
            "Lane drawn shape: (80, 160, 3)\n",
            "Lane image shape: (544, 960, 3)\n",
            "1/1 [==============================] - 0s 59ms/step\n",
            "Prediction shape: (80, 160, 1)\n",
            "Avg fit shape: (80, 160, 1)\n",
            "Blanks shape: (80, 160, 1)\n",
            "Lane drawn shape: (80, 160, 3)\n",
            "Lane image shape: (544, 960, 3)\n"
          ]
        },
        {
          "output_type": "stream",
          "name": "stderr",
          "text": [
            "\rt:  45%|████▌     | 586/1297 [03:03<04:44,  2.50it/s, now=None]"
          ]
        },
        {
          "output_type": "stream",
          "name": "stdout",
          "text": [
            "1/1 [==============================] - 0s 29ms/step\n",
            "Prediction shape: (80, 160, 1)\n"
          ]
        },
        {
          "output_type": "stream",
          "name": "stderr",
          "text": [
            "\rt:  45%|████▌     | 587/1297 [03:03<04:47,  2.47it/s, now=None]"
          ]
        },
        {
          "output_type": "stream",
          "name": "stdout",
          "text": [
            "Avg fit shape: (80, 160, 1)\n",
            "Blanks shape: (80, 160, 1)\n",
            "Lane drawn shape: (80, 160, 3)\n",
            "Lane image shape: (544, 960, 3)\n",
            "1/1 [==============================] - 0s 45ms/step\n"
          ]
        },
        {
          "output_type": "stream",
          "name": "stderr",
          "text": [
            "\rt:  45%|████▌     | 588/1297 [03:03<04:51,  2.43it/s, now=None]"
          ]
        },
        {
          "output_type": "stream",
          "name": "stdout",
          "text": [
            "Prediction shape: (80, 160, 1)\n",
            "Avg fit shape: (80, 160, 1)\n",
            "Blanks shape: (80, 160, 1)\n",
            "Lane drawn shape: (80, 160, 3)\n",
            "Lane image shape: (544, 960, 3)\n",
            "1/1 [==============================] - 0s 46ms/step\n"
          ]
        },
        {
          "output_type": "stream",
          "name": "stderr",
          "text": [
            "\rt:  45%|████▌     | 589/1297 [03:04<05:02,  2.34it/s, now=None]"
          ]
        },
        {
          "output_type": "stream",
          "name": "stdout",
          "text": [
            "Prediction shape: (80, 160, 1)\n",
            "Avg fit shape: (80, 160, 1)\n",
            "Blanks shape: (80, 160, 1)\n",
            "Lane drawn shape: (80, 160, 3)\n",
            "Lane image shape: (544, 960, 3)\n",
            "1/1 [==============================] - 0s 52ms/step\n"
          ]
        },
        {
          "output_type": "stream",
          "name": "stderr",
          "text": [
            "\rt:  45%|████▌     | 590/1297 [03:04<05:06,  2.31it/s, now=None]"
          ]
        },
        {
          "output_type": "stream",
          "name": "stdout",
          "text": [
            "Prediction shape: (80, 160, 1)\n",
            "Avg fit shape: (80, 160, 1)\n",
            "Blanks shape: (80, 160, 1)\n",
            "Lane drawn shape: (80, 160, 3)\n",
            "Lane image shape: (544, 960, 3)\n",
            "1/1 [==============================] - 0s 48ms/step\n",
            "Prediction shape: (80, 160, 1)\n",
            "Avg fit shape: (80, 160, 1)\n",
            "Blanks shape: (80, 160, 1)\n",
            "Lane drawn shape: (80, 160, 3)\n",
            "Lane image shape: (544, 960, 3)\n"
          ]
        },
        {
          "output_type": "stream",
          "name": "stderr",
          "text": [
            "\rt:  46%|████▌     | 591/1297 [03:05<05:05,  2.31it/s, now=None]"
          ]
        },
        {
          "output_type": "stream",
          "name": "stdout",
          "text": [
            "1/1 [==============================] - 0s 30ms/step\n"
          ]
        },
        {
          "output_type": "stream",
          "name": "stderr",
          "text": [
            "\rt:  46%|████▌     | 592/1297 [03:05<05:04,  2.31it/s, now=None]"
          ]
        },
        {
          "output_type": "stream",
          "name": "stdout",
          "text": [
            "Prediction shape: (80, 160, 1)\n",
            "Avg fit shape: (80, 160, 1)\n",
            "Blanks shape: (80, 160, 1)\n",
            "Lane drawn shape: (80, 160, 3)\n",
            "Lane image shape: (544, 960, 3)\n",
            "1/1 [==============================] - 0s 45ms/step\n"
          ]
        },
        {
          "output_type": "stream",
          "name": "stderr",
          "text": [
            "\rt:  46%|████▌     | 593/1297 [03:06<05:15,  2.23it/s, now=None]"
          ]
        },
        {
          "output_type": "stream",
          "name": "stdout",
          "text": [
            "Prediction shape: (80, 160, 1)\n",
            "Avg fit shape: (80, 160, 1)\n",
            "Blanks shape: (80, 160, 1)\n",
            "Lane drawn shape: (80, 160, 3)\n",
            "Lane image shape: (544, 960, 3)\n",
            "1/1 [==============================] - 0s 42ms/step\n"
          ]
        },
        {
          "output_type": "stream",
          "name": "stderr",
          "text": [
            "\rt:  46%|████▌     | 594/1297 [03:06<05:07,  2.28it/s, now=None]"
          ]
        },
        {
          "output_type": "stream",
          "name": "stdout",
          "text": [
            "Prediction shape: (80, 160, 1)\n",
            "Avg fit shape: (80, 160, 1)\n",
            "Blanks shape: (80, 160, 1)\n",
            "Lane drawn shape: (80, 160, 3)\n",
            "Lane image shape: (544, 960, 3)\n",
            "1/1 [==============================] - 0s 34ms/step\n"
          ]
        },
        {
          "output_type": "stream",
          "name": "stderr",
          "text": [
            "\rt:  46%|████▌     | 595/1297 [03:06<04:49,  2.43it/s, now=None]"
          ]
        },
        {
          "output_type": "stream",
          "name": "stdout",
          "text": [
            "Prediction shape: (80, 160, 1)\n",
            "Avg fit shape: (80, 160, 1)\n",
            "Blanks shape: (80, 160, 1)\n",
            "Lane drawn shape: (80, 160, 3)\n",
            "Lane image shape: (544, 960, 3)\n",
            "1/1 [==============================] - 0s 25ms/step\n"
          ]
        },
        {
          "output_type": "stream",
          "name": "stderr",
          "text": [
            "\rt:  46%|████▌     | 596/1297 [03:07<04:26,  2.63it/s, now=None]"
          ]
        },
        {
          "output_type": "stream",
          "name": "stdout",
          "text": [
            "Prediction shape: (80, 160, 1)\n",
            "Avg fit shape: (80, 160, 1)\n",
            "Blanks shape: (80, 160, 1)\n",
            "Lane drawn shape: (80, 160, 3)\n",
            "Lane image shape: (544, 960, 3)\n",
            "1/1 [==============================] - 0s 18ms/step\n"
          ]
        },
        {
          "output_type": "stream",
          "name": "stderr",
          "text": [
            "\rt:  46%|████▌     | 597/1297 [03:07<04:02,  2.89it/s, now=None]"
          ]
        },
        {
          "output_type": "stream",
          "name": "stdout",
          "text": [
            "Prediction shape: (80, 160, 1)\n",
            "Avg fit shape: (80, 160, 1)\n",
            "Blanks shape: (80, 160, 1)\n",
            "Lane drawn shape: (80, 160, 3)\n",
            "Lane image shape: (544, 960, 3)\n",
            "1/1 [==============================] - 0s 18ms/step\n"
          ]
        },
        {
          "output_type": "stream",
          "name": "stderr",
          "text": [
            "\rt:  46%|████▌     | 598/1297 [03:07<03:45,  3.09it/s, now=None]"
          ]
        },
        {
          "output_type": "stream",
          "name": "stdout",
          "text": [
            "Prediction shape: (80, 160, 1)\n",
            "Avg fit shape: (80, 160, 1)\n",
            "Blanks shape: (80, 160, 1)\n",
            "Lane drawn shape: (80, 160, 3)\n",
            "Lane image shape: (544, 960, 3)\n",
            "1/1 [==============================] - 0s 19ms/step\n"
          ]
        },
        {
          "output_type": "stream",
          "name": "stderr",
          "text": [
            "\rt:  46%|████▌     | 599/1297 [03:08<03:35,  3.24it/s, now=None]"
          ]
        },
        {
          "output_type": "stream",
          "name": "stdout",
          "text": [
            "Prediction shape: (80, 160, 1)\n",
            "Avg fit shape: (80, 160, 1)\n",
            "Blanks shape: (80, 160, 1)\n",
            "Lane drawn shape: (80, 160, 3)\n",
            "Lane image shape: (544, 960, 3)\n",
            "1/1 [==============================] - 0s 17ms/step\n"
          ]
        },
        {
          "output_type": "stream",
          "name": "stderr",
          "text": [
            "\rt:  46%|████▋     | 600/1297 [03:08<03:27,  3.35it/s, now=None]"
          ]
        },
        {
          "output_type": "stream",
          "name": "stdout",
          "text": [
            "Prediction shape: (80, 160, 1)\n",
            "Avg fit shape: (80, 160, 1)\n",
            "Blanks shape: (80, 160, 1)\n",
            "Lane drawn shape: (80, 160, 3)\n",
            "Lane image shape: (544, 960, 3)\n",
            "1/1 [==============================] - 0s 17ms/step\n"
          ]
        },
        {
          "output_type": "stream",
          "name": "stderr",
          "text": [
            "\rt:  46%|████▋     | 601/1297 [03:08<03:18,  3.50it/s, now=None]"
          ]
        },
        {
          "output_type": "stream",
          "name": "stdout",
          "text": [
            "Prediction shape: (80, 160, 1)\n",
            "Avg fit shape: (80, 160, 1)\n",
            "Blanks shape: (80, 160, 1)\n",
            "Lane drawn shape: (80, 160, 3)\n",
            "Lane image shape: (544, 960, 3)\n",
            "1/1 [==============================] - 0s 18ms/step\n"
          ]
        },
        {
          "output_type": "stream",
          "name": "stderr",
          "text": [
            "\rt:  46%|████▋     | 602/1297 [03:08<03:12,  3.60it/s, now=None]"
          ]
        },
        {
          "output_type": "stream",
          "name": "stdout",
          "text": [
            "Prediction shape: (80, 160, 1)\n",
            "Avg fit shape: (80, 160, 1)\n",
            "Blanks shape: (80, 160, 1)\n",
            "Lane drawn shape: (80, 160, 3)\n",
            "Lane image shape: (544, 960, 3)\n",
            "1/1 [==============================] - 0s 18ms/step\n"
          ]
        },
        {
          "output_type": "stream",
          "name": "stderr",
          "text": [
            "\rt:  46%|████▋     | 603/1297 [03:09<03:11,  3.62it/s, now=None]"
          ]
        },
        {
          "output_type": "stream",
          "name": "stdout",
          "text": [
            "Prediction shape: (80, 160, 1)\n",
            "Avg fit shape: (80, 160, 1)\n",
            "Blanks shape: (80, 160, 1)\n",
            "Lane drawn shape: (80, 160, 3)\n",
            "Lane image shape: (544, 960, 3)\n",
            "1/1 [==============================] - 0s 18ms/step\n"
          ]
        },
        {
          "output_type": "stream",
          "name": "stderr",
          "text": [
            "\rt:  47%|████▋     | 604/1297 [03:09<03:18,  3.48it/s, now=None]"
          ]
        },
        {
          "output_type": "stream",
          "name": "stdout",
          "text": [
            "Prediction shape: (80, 160, 1)\n",
            "Avg fit shape: (80, 160, 1)\n",
            "Blanks shape: (80, 160, 1)\n",
            "Lane drawn shape: (80, 160, 3)\n",
            "Lane image shape: (544, 960, 3)\n",
            "1/1 [==============================] - 0s 19ms/step\n"
          ]
        },
        {
          "output_type": "stream",
          "name": "stderr",
          "text": [
            "\rt:  47%|████▋     | 605/1297 [03:09<03:17,  3.51it/s, now=None]"
          ]
        },
        {
          "output_type": "stream",
          "name": "stdout",
          "text": [
            "Prediction shape: (80, 160, 1)\n",
            "Avg fit shape: (80, 160, 1)\n",
            "Blanks shape: (80, 160, 1)\n",
            "Lane drawn shape: (80, 160, 3)\n",
            "Lane image shape: (544, 960, 3)\n",
            "1/1 [==============================] - 0s 19ms/step\n"
          ]
        },
        {
          "output_type": "stream",
          "name": "stderr",
          "text": [
            "\rt:  47%|████▋     | 606/1297 [03:10<03:13,  3.58it/s, now=None]"
          ]
        },
        {
          "output_type": "stream",
          "name": "stdout",
          "text": [
            "Prediction shape: (80, 160, 1)\n",
            "Avg fit shape: (80, 160, 1)\n",
            "Blanks shape: (80, 160, 1)\n",
            "Lane drawn shape: (80, 160, 3)\n",
            "Lane image shape: (544, 960, 3)\n",
            "1/1 [==============================] - 0s 21ms/step\n"
          ]
        },
        {
          "output_type": "stream",
          "name": "stderr",
          "text": [
            "\rt:  47%|████▋     | 607/1297 [03:10<03:12,  3.58it/s, now=None]"
          ]
        },
        {
          "output_type": "stream",
          "name": "stdout",
          "text": [
            "Prediction shape: (80, 160, 1)\n",
            "Avg fit shape: (80, 160, 1)\n",
            "Blanks shape: (80, 160, 1)\n",
            "Lane drawn shape: (80, 160, 3)\n",
            "Lane image shape: (544, 960, 3)\n",
            "1/1 [==============================] - 0s 19ms/step\n"
          ]
        },
        {
          "output_type": "stream",
          "name": "stderr",
          "text": [
            "\rt:  47%|████▋     | 608/1297 [03:10<03:16,  3.51it/s, now=None]"
          ]
        },
        {
          "output_type": "stream",
          "name": "stdout",
          "text": [
            "Prediction shape: (80, 160, 1)\n",
            "Avg fit shape: (80, 160, 1)\n",
            "Blanks shape: (80, 160, 1)\n",
            "Lane drawn shape: (80, 160, 3)\n",
            "Lane image shape: (544, 960, 3)\n",
            "1/1 [==============================] - 0s 20ms/step\n"
          ]
        },
        {
          "output_type": "stream",
          "name": "stderr",
          "text": [
            "\rt:  47%|████▋     | 609/1297 [03:10<03:13,  3.56it/s, now=None]"
          ]
        },
        {
          "output_type": "stream",
          "name": "stdout",
          "text": [
            "Prediction shape: (80, 160, 1)\n",
            "Avg fit shape: (80, 160, 1)\n",
            "Blanks shape: (80, 160, 1)\n",
            "Lane drawn shape: (80, 160, 3)\n",
            "Lane image shape: (544, 960, 3)\n",
            "1/1 [==============================] - 0s 18ms/step\n"
          ]
        },
        {
          "output_type": "stream",
          "name": "stderr",
          "text": [
            "\rt:  47%|████▋     | 610/1297 [03:11<03:09,  3.63it/s, now=None]"
          ]
        },
        {
          "output_type": "stream",
          "name": "stdout",
          "text": [
            "Prediction shape: (80, 160, 1)\n",
            "Avg fit shape: (80, 160, 1)\n",
            "Blanks shape: (80, 160, 1)\n",
            "Lane drawn shape: (80, 160, 3)\n",
            "Lane image shape: (544, 960, 3)\n",
            "1/1 [==============================] - 0s 23ms/step\n"
          ]
        },
        {
          "output_type": "stream",
          "name": "stderr",
          "text": [
            "\rt:  47%|████▋     | 611/1297 [03:11<03:07,  3.65it/s, now=None]"
          ]
        },
        {
          "output_type": "stream",
          "name": "stdout",
          "text": [
            "Prediction shape: (80, 160, 1)\n",
            "Avg fit shape: (80, 160, 1)\n",
            "Blanks shape: (80, 160, 1)\n",
            "Lane drawn shape: (80, 160, 3)\n",
            "Lane image shape: (544, 960, 3)\n",
            "1/1 [==============================] - 0s 20ms/step\n"
          ]
        },
        {
          "output_type": "stream",
          "name": "stderr",
          "text": [
            "\rt:  47%|████▋     | 612/1297 [03:11<03:11,  3.57it/s, now=None]"
          ]
        },
        {
          "output_type": "stream",
          "name": "stdout",
          "text": [
            "Prediction shape: (80, 160, 1)\n",
            "Avg fit shape: (80, 160, 1)\n",
            "Blanks shape: (80, 160, 1)\n",
            "Lane drawn shape: (80, 160, 3)\n",
            "Lane image shape: (544, 960, 3)\n",
            "1/1 [==============================] - 0s 19ms/step\n"
          ]
        },
        {
          "output_type": "stream",
          "name": "stderr",
          "text": [
            "\rt:  47%|████▋     | 613/1297 [03:11<03:10,  3.59it/s, now=None]"
          ]
        },
        {
          "output_type": "stream",
          "name": "stdout",
          "text": [
            "Prediction shape: (80, 160, 1)\n",
            "Avg fit shape: (80, 160, 1)\n",
            "Blanks shape: (80, 160, 1)\n",
            "Lane drawn shape: (80, 160, 3)\n",
            "Lane image shape: (544, 960, 3)\n",
            "1/1 [==============================] - 0s 18ms/step\n"
          ]
        },
        {
          "output_type": "stream",
          "name": "stderr",
          "text": [
            "\rt:  47%|████▋     | 614/1297 [03:12<03:06,  3.66it/s, now=None]"
          ]
        },
        {
          "output_type": "stream",
          "name": "stdout",
          "text": [
            "Prediction shape: (80, 160, 1)\n",
            "Avg fit shape: (80, 160, 1)\n",
            "Blanks shape: (80, 160, 1)\n",
            "Lane drawn shape: (80, 160, 3)\n",
            "Lane image shape: (544, 960, 3)\n",
            "1/1 [==============================] - 0s 19ms/step\n"
          ]
        },
        {
          "output_type": "stream",
          "name": "stderr",
          "text": [
            "\rt:  47%|████▋     | 615/1297 [03:12<03:08,  3.62it/s, now=None]"
          ]
        },
        {
          "output_type": "stream",
          "name": "stdout",
          "text": [
            "Prediction shape: (80, 160, 1)\n",
            "Avg fit shape: (80, 160, 1)\n",
            "Blanks shape: (80, 160, 1)\n",
            "Lane drawn shape: (80, 160, 3)\n",
            "Lane image shape: (544, 960, 3)\n",
            "1/1 [==============================] - 0s 18ms/step\n"
          ]
        },
        {
          "output_type": "stream",
          "name": "stderr",
          "text": [
            "\rt:  47%|████▋     | 616/1297 [03:12<03:11,  3.56it/s, now=None]"
          ]
        },
        {
          "output_type": "stream",
          "name": "stdout",
          "text": [
            "Prediction shape: (80, 160, 1)\n",
            "Avg fit shape: (80, 160, 1)\n",
            "Blanks shape: (80, 160, 1)\n",
            "Lane drawn shape: (80, 160, 3)\n",
            "Lane image shape: (544, 960, 3)\n",
            "1/1 [==============================] - 0s 22ms/step\n"
          ]
        },
        {
          "output_type": "stream",
          "name": "stderr",
          "text": [
            "\rt:  48%|████▊     | 617/1297 [03:13<03:11,  3.55it/s, now=None]"
          ]
        },
        {
          "output_type": "stream",
          "name": "stdout",
          "text": [
            "Prediction shape: (80, 160, 1)\n",
            "Avg fit shape: (80, 160, 1)\n",
            "Blanks shape: (80, 160, 1)\n",
            "Lane drawn shape: (80, 160, 3)\n",
            "Lane image shape: (544, 960, 3)\n",
            "1/1 [==============================] - 0s 18ms/step\n"
          ]
        },
        {
          "output_type": "stream",
          "name": "stderr",
          "text": [
            "\rt:  48%|████▊     | 618/1297 [03:13<03:09,  3.58it/s, now=None]"
          ]
        },
        {
          "output_type": "stream",
          "name": "stdout",
          "text": [
            "Prediction shape: (80, 160, 1)\n",
            "Avg fit shape: (80, 160, 1)\n",
            "Blanks shape: (80, 160, 1)\n",
            "Lane drawn shape: (80, 160, 3)\n",
            "Lane image shape: (544, 960, 3)\n",
            "1/1 [==============================] - 0s 18ms/step\n"
          ]
        },
        {
          "output_type": "stream",
          "name": "stderr",
          "text": [
            "\rt:  48%|████▊     | 619/1297 [03:13<03:10,  3.55it/s, now=None]"
          ]
        },
        {
          "output_type": "stream",
          "name": "stdout",
          "text": [
            "Prediction shape: (80, 160, 1)\n",
            "Avg fit shape: (80, 160, 1)\n",
            "Blanks shape: (80, 160, 1)\n",
            "Lane drawn shape: (80, 160, 3)\n",
            "Lane image shape: (544, 960, 3)\n",
            "1/1 [==============================] - 0s 19ms/step\n"
          ]
        },
        {
          "output_type": "stream",
          "name": "stderr",
          "text": [
            "\rt:  48%|████▊     | 620/1297 [03:13<03:15,  3.47it/s, now=None]"
          ]
        },
        {
          "output_type": "stream",
          "name": "stdout",
          "text": [
            "Prediction shape: (80, 160, 1)\n",
            "Avg fit shape: (80, 160, 1)\n",
            "Blanks shape: (80, 160, 1)\n",
            "Lane drawn shape: (80, 160, 3)\n",
            "Lane image shape: (544, 960, 3)\n",
            "1/1 [==============================] - 0s 18ms/step\n"
          ]
        },
        {
          "output_type": "stream",
          "name": "stderr",
          "text": [
            "\rt:  48%|████▊     | 621/1297 [03:14<03:13,  3.50it/s, now=None]"
          ]
        },
        {
          "output_type": "stream",
          "name": "stdout",
          "text": [
            "Prediction shape: (80, 160, 1)\n",
            "Avg fit shape: (80, 160, 1)\n",
            "Blanks shape: (80, 160, 1)\n",
            "Lane drawn shape: (80, 160, 3)\n",
            "Lane image shape: (544, 960, 3)\n",
            "1/1 [==============================] - 0s 18ms/step\n"
          ]
        },
        {
          "output_type": "stream",
          "name": "stderr",
          "text": [
            "\rt:  48%|████▊     | 622/1297 [03:14<03:11,  3.52it/s, now=None]"
          ]
        },
        {
          "output_type": "stream",
          "name": "stdout",
          "text": [
            "Prediction shape: (80, 160, 1)\n",
            "Avg fit shape: (80, 160, 1)\n",
            "Blanks shape: (80, 160, 1)\n",
            "Lane drawn shape: (80, 160, 3)\n",
            "Lane image shape: (544, 960, 3)\n",
            "1/1 [==============================] - 0s 18ms/step\n"
          ]
        },
        {
          "output_type": "stream",
          "name": "stderr",
          "text": [
            "\rt:  48%|████▊     | 623/1297 [03:14<03:05,  3.63it/s, now=None]"
          ]
        },
        {
          "output_type": "stream",
          "name": "stdout",
          "text": [
            "Prediction shape: (80, 160, 1)\n",
            "Avg fit shape: (80, 160, 1)\n",
            "Blanks shape: (80, 160, 1)\n",
            "Lane drawn shape: (80, 160, 3)\n",
            "Lane image shape: (544, 960, 3)\n",
            "1/1 [==============================] - 0s 18ms/step\n"
          ]
        },
        {
          "output_type": "stream",
          "name": "stderr",
          "text": [
            "\rt:  48%|████▊     | 624/1297 [03:15<03:11,  3.52it/s, now=None]"
          ]
        },
        {
          "output_type": "stream",
          "name": "stdout",
          "text": [
            "Prediction shape: (80, 160, 1)\n",
            "Avg fit shape: (80, 160, 1)\n",
            "Blanks shape: (80, 160, 1)\n",
            "Lane drawn shape: (80, 160, 3)\n",
            "Lane image shape: (544, 960, 3)\n",
            "1/1 [==============================] - 0s 19ms/step\n"
          ]
        },
        {
          "output_type": "stream",
          "name": "stderr",
          "text": [
            "\rt:  48%|████▊     | 625/1297 [03:15<03:08,  3.56it/s, now=None]"
          ]
        },
        {
          "output_type": "stream",
          "name": "stdout",
          "text": [
            "Prediction shape: (80, 160, 1)\n",
            "Avg fit shape: (80, 160, 1)\n",
            "Blanks shape: (80, 160, 1)\n",
            "Lane drawn shape: (80, 160, 3)\n",
            "Lane image shape: (544, 960, 3)\n",
            "1/1 [==============================] - 0s 22ms/step\n"
          ]
        },
        {
          "output_type": "stream",
          "name": "stderr",
          "text": [
            "\rt:  48%|████▊     | 626/1297 [03:15<03:10,  3.53it/s, now=None]"
          ]
        },
        {
          "output_type": "stream",
          "name": "stdout",
          "text": [
            "Prediction shape: (80, 160, 1)\n",
            "Avg fit shape: (80, 160, 1)\n",
            "Blanks shape: (80, 160, 1)\n",
            "Lane drawn shape: (80, 160, 3)\n",
            "Lane image shape: (544, 960, 3)\n",
            "1/1 [==============================] - 0s 19ms/step\n"
          ]
        },
        {
          "output_type": "stream",
          "name": "stderr",
          "text": [
            "\rt:  48%|████▊     | 627/1297 [03:15<03:07,  3.57it/s, now=None]"
          ]
        },
        {
          "output_type": "stream",
          "name": "stdout",
          "text": [
            "Prediction shape: (80, 160, 1)\n",
            "Avg fit shape: (80, 160, 1)\n",
            "Blanks shape: (80, 160, 1)\n",
            "Lane drawn shape: (80, 160, 3)\n",
            "Lane image shape: (544, 960, 3)\n",
            "1/1 [==============================] - 0s 18ms/step\n"
          ]
        },
        {
          "output_type": "stream",
          "name": "stderr",
          "text": [
            "\rt:  48%|████▊     | 628/1297 [03:16<03:10,  3.52it/s, now=None]"
          ]
        },
        {
          "output_type": "stream",
          "name": "stdout",
          "text": [
            "Prediction shape: (80, 160, 1)\n",
            "Avg fit shape: (80, 160, 1)\n",
            "Blanks shape: (80, 160, 1)\n",
            "Lane drawn shape: (80, 160, 3)\n",
            "Lane image shape: (544, 960, 3)\n",
            "1/1 [==============================] - 0s 18ms/step\n"
          ]
        },
        {
          "output_type": "stream",
          "name": "stderr",
          "text": [
            "\rt:  48%|████▊     | 629/1297 [03:16<03:08,  3.54it/s, now=None]"
          ]
        },
        {
          "output_type": "stream",
          "name": "stdout",
          "text": [
            "Prediction shape: (80, 160, 1)\n",
            "Avg fit shape: (80, 160, 1)\n",
            "Blanks shape: (80, 160, 1)\n",
            "Lane drawn shape: (80, 160, 3)\n",
            "Lane image shape: (544, 960, 3)\n",
            "1/1 [==============================] - 0s 19ms/step\n"
          ]
        },
        {
          "output_type": "stream",
          "name": "stderr",
          "text": [
            "\rt:  49%|████▊     | 630/1297 [03:16<03:09,  3.52it/s, now=None]"
          ]
        },
        {
          "output_type": "stream",
          "name": "stdout",
          "text": [
            "Prediction shape: (80, 160, 1)\n",
            "Avg fit shape: (80, 160, 1)\n",
            "Blanks shape: (80, 160, 1)\n",
            "Lane drawn shape: (80, 160, 3)\n",
            "Lane image shape: (544, 960, 3)\n",
            "1/1 [==============================] - 0s 28ms/step\n"
          ]
        },
        {
          "output_type": "stream",
          "name": "stderr",
          "text": [
            "\rt:  49%|████▊     | 631/1297 [03:17<03:29,  3.18it/s, now=None]"
          ]
        },
        {
          "output_type": "stream",
          "name": "stdout",
          "text": [
            "Prediction shape: (80, 160, 1)\n",
            "Avg fit shape: (80, 160, 1)\n",
            "Blanks shape: (80, 160, 1)\n",
            "Lane drawn shape: (80, 160, 3)\n",
            "Lane image shape: (544, 960, 3)\n",
            "1/1 [==============================] - 0s 28ms/step\n"
          ]
        },
        {
          "output_type": "stream",
          "name": "stderr",
          "text": [
            "\rt:  49%|████▊     | 632/1297 [03:17<03:50,  2.89it/s, now=None]"
          ]
        },
        {
          "output_type": "stream",
          "name": "stdout",
          "text": [
            "Prediction shape: (80, 160, 1)\n",
            "Avg fit shape: (80, 160, 1)\n",
            "Blanks shape: (80, 160, 1)\n",
            "Lane drawn shape: (80, 160, 3)\n",
            "Lane image shape: (544, 960, 3)\n",
            "1/1 [==============================] - 0s 29ms/step\n"
          ]
        },
        {
          "output_type": "stream",
          "name": "stderr",
          "text": [
            "\rt:  49%|████▉     | 633/1297 [03:17<03:56,  2.81it/s, now=None]"
          ]
        },
        {
          "output_type": "stream",
          "name": "stdout",
          "text": [
            "Prediction shape: (80, 160, 1)\n",
            "Avg fit shape: (80, 160, 1)\n",
            "Blanks shape: (80, 160, 1)\n",
            "Lane drawn shape: (80, 160, 3)\n",
            "Lane image shape: (544, 960, 3)\n",
            "1/1 [==============================] - 0s 30ms/step\n",
            "Prediction shape: (80, 160, 1)\n",
            "Avg fit shape: (80, 160, 1)\n",
            "Blanks shape: (80, 160, 1)\n",
            "Lane drawn shape: (80, 160, 3)\n",
            "Lane image shape: (544, 960, 3)\n"
          ]
        },
        {
          "output_type": "stream",
          "name": "stderr",
          "text": [
            "\rt:  49%|████▉     | 634/1297 [03:18<04:06,  2.69it/s, now=None]"
          ]
        },
        {
          "output_type": "stream",
          "name": "stdout",
          "text": [
            "1/1 [==============================] - 0s 31ms/step\n"
          ]
        },
        {
          "output_type": "stream",
          "name": "stderr",
          "text": [
            "\rt:  49%|████▉     | 635/1297 [03:18<04:18,  2.56it/s, now=None]"
          ]
        },
        {
          "output_type": "stream",
          "name": "stdout",
          "text": [
            "Prediction shape: (80, 160, 1)\n",
            "Avg fit shape: (80, 160, 1)\n",
            "Blanks shape: (80, 160, 1)\n",
            "Lane drawn shape: (80, 160, 3)\n",
            "Lane image shape: (544, 960, 3)\n",
            "1/1 [==============================] - 0s 35ms/step\n"
          ]
        },
        {
          "output_type": "stream",
          "name": "stderr",
          "text": [
            "\rt:  49%|████▉     | 636/1297 [03:19<04:26,  2.48it/s, now=None]"
          ]
        },
        {
          "output_type": "stream",
          "name": "stdout",
          "text": [
            "Prediction shape: (80, 160, 1)\n",
            "Avg fit shape: (80, 160, 1)\n",
            "Blanks shape: (80, 160, 1)\n",
            "Lane drawn shape: (80, 160, 3)\n",
            "Lane image shape: (544, 960, 3)\n",
            "1/1 [==============================] - 0s 55ms/step\n"
          ]
        },
        {
          "output_type": "stream",
          "name": "stderr",
          "text": [
            "\rt:  49%|████▉     | 637/1297 [03:19<04:41,  2.35it/s, now=None]"
          ]
        },
        {
          "output_type": "stream",
          "name": "stdout",
          "text": [
            "Prediction shape: (80, 160, 1)\n",
            "Avg fit shape: (80, 160, 1)\n",
            "Blanks shape: (80, 160, 1)\n",
            "Lane drawn shape: (80, 160, 3)\n",
            "Lane image shape: (544, 960, 3)\n",
            "1/1 [==============================] - 0s 49ms/step\n"
          ]
        },
        {
          "output_type": "stream",
          "name": "stderr",
          "text": [
            "\rt:  49%|████▉     | 638/1297 [03:20<04:48,  2.28it/s, now=None]"
          ]
        },
        {
          "output_type": "stream",
          "name": "stdout",
          "text": [
            "Prediction shape: (80, 160, 1)\n",
            "Avg fit shape: (80, 160, 1)\n",
            "Blanks shape: (80, 160, 1)\n",
            "Lane drawn shape: (80, 160, 3)\n",
            "Lane image shape: (544, 960, 3)\n",
            "1/1 [==============================] - 0s 54ms/step\n"
          ]
        },
        {
          "output_type": "stream",
          "name": "stderr",
          "text": [
            "\rt:  49%|████▉     | 639/1297 [03:20<04:55,  2.23it/s, now=None]"
          ]
        },
        {
          "output_type": "stream",
          "name": "stdout",
          "text": [
            "Prediction shape: (80, 160, 1)\n",
            "Avg fit shape: (80, 160, 1)\n",
            "Blanks shape: (80, 160, 1)\n",
            "Lane drawn shape: (80, 160, 3)\n",
            "Lane image shape: (544, 960, 3)\n",
            "1/1 [==============================] - 0s 49ms/step\n"
          ]
        },
        {
          "output_type": "stream",
          "name": "stderr",
          "text": [
            "\rt:  49%|████▉     | 640/1297 [03:21<04:55,  2.22it/s, now=None]"
          ]
        },
        {
          "output_type": "stream",
          "name": "stdout",
          "text": [
            "Prediction shape: (80, 160, 1)\n",
            "Avg fit shape: (80, 160, 1)\n",
            "Blanks shape: (80, 160, 1)\n",
            "Lane drawn shape: (80, 160, 3)\n",
            "Lane image shape: (544, 960, 3)\n",
            "1/1 [==============================] - 0s 34ms/step\n",
            "Prediction shape: (80, 160, 1)\n",
            "Avg fit shape: (80, 160, 1)\n",
            "Blanks shape: (80, 160, 1)\n",
            "Lane drawn shape: (80, 160, 3)\n",
            "Lane image shape: (544, 960, 3)\n"
          ]
        },
        {
          "output_type": "stream",
          "name": "stderr",
          "text": [
            "\rt:  49%|████▉     | 641/1297 [03:21<04:48,  2.28it/s, now=None]"
          ]
        },
        {
          "output_type": "stream",
          "name": "stdout",
          "text": [
            "1/1 [==============================] - 0s 30ms/step\n",
            "Prediction shape: (80, 160, 1)\n",
            "Avg fit shape: (80, 160, 1)\n",
            "Blanks shape: (80, 160, 1)\n",
            "Lane drawn shape: (80, 160, 3)\n",
            "Lane image shape: (544, 960, 3)\n"
          ]
        },
        {
          "output_type": "stream",
          "name": "stderr",
          "text": [
            "\rt:  49%|████▉     | 642/1297 [03:21<04:44,  2.30it/s, now=None]"
          ]
        },
        {
          "output_type": "stream",
          "name": "stdout",
          "text": [
            "1/1 [==============================] - 0s 32ms/step\n",
            "Prediction shape: (80, 160, 1)\n",
            "Avg fit shape: (80, 160, 1)\n",
            "Blanks shape: (80, 160, 1)\n",
            "Lane drawn shape: (80, 160, 3)\n",
            "Lane image shape: (544, 960, 3)\n"
          ]
        },
        {
          "output_type": "stream",
          "name": "stderr",
          "text": [
            "\rt:  50%|████▉     | 643/1297 [03:22<04:37,  2.36it/s, now=None]"
          ]
        },
        {
          "output_type": "stream",
          "name": "stdout",
          "text": [
            "1/1 [==============================] - 0s 34ms/step\n"
          ]
        },
        {
          "output_type": "stream",
          "name": "stderr",
          "text": [
            "\rt:  50%|████▉     | 644/1297 [03:22<04:28,  2.43it/s, now=None]"
          ]
        },
        {
          "output_type": "stream",
          "name": "stdout",
          "text": [
            "Prediction shape: (80, 160, 1)\n",
            "Avg fit shape: (80, 160, 1)\n",
            "Blanks shape: (80, 160, 1)\n",
            "Lane drawn shape: (80, 160, 3)\n",
            "Lane image shape: (544, 960, 3)\n",
            "1/1 [==============================] - 0s 18ms/step\n"
          ]
        },
        {
          "output_type": "stream",
          "name": "stderr",
          "text": [
            "\rt:  50%|████▉     | 645/1297 [03:23<04:01,  2.70it/s, now=None]"
          ]
        },
        {
          "output_type": "stream",
          "name": "stdout",
          "text": [
            "Prediction shape: (80, 160, 1)\n",
            "Avg fit shape: (80, 160, 1)\n",
            "Blanks shape: (80, 160, 1)\n",
            "Lane drawn shape: (80, 160, 3)\n",
            "Lane image shape: (544, 960, 3)\n",
            "1/1 [==============================] - 0s 20ms/step\n"
          ]
        },
        {
          "output_type": "stream",
          "name": "stderr",
          "text": [
            "\rt:  50%|████▉     | 646/1297 [03:23<03:40,  2.95it/s, now=None]"
          ]
        },
        {
          "output_type": "stream",
          "name": "stdout",
          "text": [
            "Prediction shape: (80, 160, 1)\n",
            "Avg fit shape: (80, 160, 1)\n",
            "Blanks shape: (80, 160, 1)\n",
            "Lane drawn shape: (80, 160, 3)\n",
            "Lane image shape: (544, 960, 3)\n",
            "1/1 [==============================] - 0s 19ms/step\n"
          ]
        },
        {
          "output_type": "stream",
          "name": "stderr",
          "text": [
            "\rt:  50%|████▉     | 647/1297 [03:23<03:35,  3.01it/s, now=None]"
          ]
        },
        {
          "output_type": "stream",
          "name": "stdout",
          "text": [
            "Prediction shape: (80, 160, 1)\n",
            "Avg fit shape: (80, 160, 1)\n",
            "Blanks shape: (80, 160, 1)\n",
            "Lane drawn shape: (80, 160, 3)\n",
            "Lane image shape: (544, 960, 3)\n",
            "1/1 [==============================] - 0s 23ms/step\n"
          ]
        },
        {
          "output_type": "stream",
          "name": "stderr",
          "text": [
            "\rt:  50%|████▉     | 648/1297 [03:23<03:25,  3.15it/s, now=None]"
          ]
        },
        {
          "output_type": "stream",
          "name": "stdout",
          "text": [
            "Prediction shape: (80, 160, 1)\n",
            "Avg fit shape: (80, 160, 1)\n",
            "Blanks shape: (80, 160, 1)\n",
            "Lane drawn shape: (80, 160, 3)\n",
            "Lane image shape: (544, 960, 3)\n",
            "1/1 [==============================] - 0s 20ms/step\n"
          ]
        },
        {
          "output_type": "stream",
          "name": "stderr",
          "text": [
            "\rt:  50%|█████     | 649/1297 [03:24<03:20,  3.23it/s, now=None]"
          ]
        },
        {
          "output_type": "stream",
          "name": "stdout",
          "text": [
            "Prediction shape: (80, 160, 1)\n",
            "Avg fit shape: (80, 160, 1)\n",
            "Blanks shape: (80, 160, 1)\n",
            "Lane drawn shape: (80, 160, 3)\n",
            "Lane image shape: (544, 960, 3)\n",
            "1/1 [==============================] - 0s 20ms/step\n"
          ]
        },
        {
          "output_type": "stream",
          "name": "stderr",
          "text": [
            "\rt:  50%|█████     | 650/1297 [03:24<03:18,  3.26it/s, now=None]"
          ]
        },
        {
          "output_type": "stream",
          "name": "stdout",
          "text": [
            "Prediction shape: (80, 160, 1)\n",
            "Avg fit shape: (80, 160, 1)\n",
            "Blanks shape: (80, 160, 1)\n",
            "Lane drawn shape: (80, 160, 3)\n",
            "Lane image shape: (544, 960, 3)\n",
            "1/1 [==============================] - 0s 21ms/step\n"
          ]
        },
        {
          "output_type": "stream",
          "name": "stderr",
          "text": [
            "\rt:  50%|█████     | 651/1297 [03:24<03:19,  3.24it/s, now=None]"
          ]
        },
        {
          "output_type": "stream",
          "name": "stdout",
          "text": [
            "Prediction shape: (80, 160, 1)\n",
            "Avg fit shape: (80, 160, 1)\n",
            "Blanks shape: (80, 160, 1)\n",
            "Lane drawn shape: (80, 160, 3)\n",
            "Lane image shape: (544, 960, 3)\n",
            "1/1 [==============================] - 0s 20ms/step\n"
          ]
        },
        {
          "output_type": "stream",
          "name": "stderr",
          "text": [
            "\rt:  50%|█████     | 652/1297 [03:25<03:16,  3.28it/s, now=None]"
          ]
        },
        {
          "output_type": "stream",
          "name": "stdout",
          "text": [
            "Prediction shape: (80, 160, 1)\n",
            "Avg fit shape: (80, 160, 1)\n",
            "Blanks shape: (80, 160, 1)\n",
            "Lane drawn shape: (80, 160, 3)\n",
            "Lane image shape: (544, 960, 3)\n",
            "1/1 [==============================] - 0s 19ms/step\n"
          ]
        },
        {
          "output_type": "stream",
          "name": "stderr",
          "text": [
            "\rt:  50%|█████     | 653/1297 [03:25<03:11,  3.36it/s, now=None]"
          ]
        },
        {
          "output_type": "stream",
          "name": "stdout",
          "text": [
            "Prediction shape: (80, 160, 1)\n",
            "Avg fit shape: (80, 160, 1)\n",
            "Blanks shape: (80, 160, 1)\n",
            "Lane drawn shape: (80, 160, 3)\n",
            "Lane image shape: (544, 960, 3)\n",
            "1/1 [==============================] - 0s 19ms/step\n"
          ]
        },
        {
          "output_type": "stream",
          "name": "stderr",
          "text": [
            "\rt:  50%|█████     | 654/1297 [03:25<03:11,  3.36it/s, now=None]"
          ]
        },
        {
          "output_type": "stream",
          "name": "stdout",
          "text": [
            "Prediction shape: (80, 160, 1)\n",
            "Avg fit shape: (80, 160, 1)\n",
            "Blanks shape: (80, 160, 1)\n",
            "Lane drawn shape: (80, 160, 3)\n",
            "Lane image shape: (544, 960, 3)\n",
            "1/1 [==============================] - 0s 19ms/step\n"
          ]
        },
        {
          "output_type": "stream",
          "name": "stderr",
          "text": [
            "\rt:  51%|█████     | 655/1297 [03:25<03:10,  3.37it/s, now=None]"
          ]
        },
        {
          "output_type": "stream",
          "name": "stdout",
          "text": [
            "Prediction shape: (80, 160, 1)\n",
            "Avg fit shape: (80, 160, 1)\n",
            "Blanks shape: (80, 160, 1)\n",
            "Lane drawn shape: (80, 160, 3)\n",
            "Lane image shape: (544, 960, 3)\n",
            "1/1 [==============================] - 0s 18ms/step\n"
          ]
        },
        {
          "output_type": "stream",
          "name": "stderr",
          "text": [
            "\rt:  51%|█████     | 656/1297 [03:26<03:06,  3.44it/s, now=None]"
          ]
        },
        {
          "output_type": "stream",
          "name": "stdout",
          "text": [
            "Prediction shape: (80, 160, 1)\n",
            "Avg fit shape: (80, 160, 1)\n",
            "Blanks shape: (80, 160, 1)\n",
            "Lane drawn shape: (80, 160, 3)\n",
            "Lane image shape: (544, 960, 3)\n",
            "1/1 [==============================] - 0s 19ms/step\n"
          ]
        },
        {
          "output_type": "stream",
          "name": "stderr",
          "text": [
            "\rt:  51%|█████     | 657/1297 [03:26<02:59,  3.56it/s, now=None]"
          ]
        },
        {
          "output_type": "stream",
          "name": "stdout",
          "text": [
            "Prediction shape: (80, 160, 1)\n",
            "Avg fit shape: (80, 160, 1)\n",
            "Blanks shape: (80, 160, 1)\n",
            "Lane drawn shape: (80, 160, 3)\n",
            "Lane image shape: (544, 960, 3)\n",
            "1/1 [==============================] - 0s 18ms/step\n"
          ]
        },
        {
          "output_type": "stream",
          "name": "stderr",
          "text": [
            "\rt:  51%|█████     | 658/1297 [03:26<03:02,  3.50it/s, now=None]"
          ]
        },
        {
          "output_type": "stream",
          "name": "stdout",
          "text": [
            "Prediction shape: (80, 160, 1)\n",
            "Avg fit shape: (80, 160, 1)\n",
            "Blanks shape: (80, 160, 1)\n",
            "Lane drawn shape: (80, 160, 3)\n",
            "Lane image shape: (544, 960, 3)\n",
            "1/1 [==============================] - 0s 19ms/step\n"
          ]
        },
        {
          "output_type": "stream",
          "name": "stderr",
          "text": [
            "\rt:  51%|█████     | 659/1297 [03:27<03:02,  3.50it/s, now=None]"
          ]
        },
        {
          "output_type": "stream",
          "name": "stdout",
          "text": [
            "Prediction shape: (80, 160, 1)\n",
            "Avg fit shape: (80, 160, 1)\n",
            "Blanks shape: (80, 160, 1)\n",
            "Lane drawn shape: (80, 160, 3)\n",
            "Lane image shape: (544, 960, 3)\n",
            "1/1 [==============================] - 0s 19ms/step\n"
          ]
        },
        {
          "output_type": "stream",
          "name": "stderr",
          "text": [
            "\rt:  51%|█████     | 660/1297 [03:27<02:58,  3.56it/s, now=None]"
          ]
        },
        {
          "output_type": "stream",
          "name": "stdout",
          "text": [
            "Prediction shape: (80, 160, 1)\n",
            "Avg fit shape: (80, 160, 1)\n",
            "Blanks shape: (80, 160, 1)\n",
            "Lane drawn shape: (80, 160, 3)\n",
            "Lane image shape: (544, 960, 3)\n",
            "1/1 [==============================] - 0s 19ms/step\n"
          ]
        },
        {
          "output_type": "stream",
          "name": "stderr",
          "text": [
            "\rt:  51%|█████     | 661/1297 [03:27<03:00,  3.52it/s, now=None]"
          ]
        },
        {
          "output_type": "stream",
          "name": "stdout",
          "text": [
            "Prediction shape: (80, 160, 1)\n",
            "Avg fit shape: (80, 160, 1)\n",
            "Blanks shape: (80, 160, 1)\n",
            "Lane drawn shape: (80, 160, 3)\n",
            "Lane image shape: (544, 960, 3)\n",
            "1/1 [==============================] - 0s 20ms/step\n"
          ]
        },
        {
          "output_type": "stream",
          "name": "stderr",
          "text": [
            "\rt:  51%|█████     | 662/1297 [03:27<03:05,  3.42it/s, now=None]"
          ]
        },
        {
          "output_type": "stream",
          "name": "stdout",
          "text": [
            "Prediction shape: (80, 160, 1)\n",
            "Avg fit shape: (80, 160, 1)\n",
            "Blanks shape: (80, 160, 1)\n",
            "Lane drawn shape: (80, 160, 3)\n",
            "Lane image shape: (544, 960, 3)\n",
            "1/1 [==============================] - 0s 24ms/step\n"
          ]
        },
        {
          "output_type": "stream",
          "name": "stderr",
          "text": [
            "\rt:  51%|█████     | 663/1297 [03:28<03:05,  3.41it/s, now=None]"
          ]
        },
        {
          "output_type": "stream",
          "name": "stdout",
          "text": [
            "Prediction shape: (80, 160, 1)\n",
            "Avg fit shape: (80, 160, 1)\n",
            "Blanks shape: (80, 160, 1)\n",
            "Lane drawn shape: (80, 160, 3)\n",
            "Lane image shape: (544, 960, 3)\n",
            "1/1 [==============================] - 0s 18ms/step\n"
          ]
        },
        {
          "output_type": "stream",
          "name": "stderr",
          "text": [
            "\rt:  51%|█████     | 664/1297 [03:28<02:59,  3.53it/s, now=None]"
          ]
        },
        {
          "output_type": "stream",
          "name": "stdout",
          "text": [
            "Prediction shape: (80, 160, 1)\n",
            "Avg fit shape: (80, 160, 1)\n",
            "Blanks shape: (80, 160, 1)\n",
            "Lane drawn shape: (80, 160, 3)\n",
            "Lane image shape: (544, 960, 3)\n",
            "1/1 [==============================] - 0s 18ms/step\n"
          ]
        },
        {
          "output_type": "stream",
          "name": "stderr",
          "text": [
            "\rt:  51%|█████▏    | 665/1297 [03:28<02:54,  3.61it/s, now=None]"
          ]
        },
        {
          "output_type": "stream",
          "name": "stdout",
          "text": [
            "Prediction shape: (80, 160, 1)\n",
            "Avg fit shape: (80, 160, 1)\n",
            "Blanks shape: (80, 160, 1)\n",
            "Lane drawn shape: (80, 160, 3)\n",
            "Lane image shape: (544, 960, 3)\n",
            "1/1 [==============================] - 0s 29ms/step\n"
          ]
        },
        {
          "output_type": "stream",
          "name": "stderr",
          "text": [
            "\rt:  51%|█████▏    | 666/1297 [03:29<03:01,  3.47it/s, now=None]"
          ]
        },
        {
          "output_type": "stream",
          "name": "stdout",
          "text": [
            "Prediction shape: (80, 160, 1)\n",
            "Avg fit shape: (80, 160, 1)\n",
            "Blanks shape: (80, 160, 1)\n",
            "Lane drawn shape: (80, 160, 3)\n",
            "Lane image shape: (544, 960, 3)\n",
            "1/1 [==============================] - 0s 19ms/step\n"
          ]
        },
        {
          "output_type": "stream",
          "name": "stderr",
          "text": [
            "\rt:  51%|█████▏    | 667/1297 [03:29<02:59,  3.50it/s, now=None]"
          ]
        },
        {
          "output_type": "stream",
          "name": "stdout",
          "text": [
            "Prediction shape: (80, 160, 1)\n",
            "Avg fit shape: (80, 160, 1)\n",
            "Blanks shape: (80, 160, 1)\n",
            "Lane drawn shape: (80, 160, 3)\n",
            "Lane image shape: (544, 960, 3)\n",
            "1/1 [==============================] - 0s 18ms/step\n"
          ]
        },
        {
          "output_type": "stream",
          "name": "stderr",
          "text": [
            "\rt:  52%|█████▏    | 668/1297 [03:29<02:56,  3.56it/s, now=None]"
          ]
        },
        {
          "output_type": "stream",
          "name": "stdout",
          "text": [
            "Prediction shape: (80, 160, 1)\n",
            "Avg fit shape: (80, 160, 1)\n",
            "Blanks shape: (80, 160, 1)\n",
            "Lane drawn shape: (80, 160, 3)\n",
            "Lane image shape: (544, 960, 3)\n",
            "1/1 [==============================] - 0s 19ms/step\n"
          ]
        },
        {
          "output_type": "stream",
          "name": "stderr",
          "text": [
            "\rt:  52%|█████▏    | 669/1297 [03:29<02:53,  3.61it/s, now=None]"
          ]
        },
        {
          "output_type": "stream",
          "name": "stdout",
          "text": [
            "Prediction shape: (80, 160, 1)\n",
            "Avg fit shape: (80, 160, 1)\n",
            "Blanks shape: (80, 160, 1)\n",
            "Lane drawn shape: (80, 160, 3)\n",
            "Lane image shape: (544, 960, 3)\n",
            "1/1 [==============================] - 0s 18ms/step\n"
          ]
        },
        {
          "output_type": "stream",
          "name": "stderr",
          "text": [
            "\rt:  52%|█████▏    | 670/1297 [03:30<02:57,  3.53it/s, now=None]"
          ]
        },
        {
          "output_type": "stream",
          "name": "stdout",
          "text": [
            "Prediction shape: (80, 160, 1)\n",
            "Avg fit shape: (80, 160, 1)\n",
            "Blanks shape: (80, 160, 1)\n",
            "Lane drawn shape: (80, 160, 3)\n",
            "Lane image shape: (544, 960, 3)\n",
            "1/1 [==============================] - 0s 18ms/step\n"
          ]
        },
        {
          "output_type": "stream",
          "name": "stderr",
          "text": [
            "\rt:  52%|█████▏    | 671/1297 [03:30<02:52,  3.63it/s, now=None]"
          ]
        },
        {
          "output_type": "stream",
          "name": "stdout",
          "text": [
            "Prediction shape: (80, 160, 1)\n",
            "Avg fit shape: (80, 160, 1)\n",
            "Blanks shape: (80, 160, 1)\n",
            "Lane drawn shape: (80, 160, 3)\n",
            "Lane image shape: (544, 960, 3)\n",
            "1/1 [==============================] - 0s 19ms/step\n"
          ]
        },
        {
          "output_type": "stream",
          "name": "stderr",
          "text": [
            "\rt:  52%|█████▏    | 672/1297 [03:30<02:57,  3.52it/s, now=None]"
          ]
        },
        {
          "output_type": "stream",
          "name": "stdout",
          "text": [
            "Prediction shape: (80, 160, 1)\n",
            "Avg fit shape: (80, 160, 1)\n",
            "Blanks shape: (80, 160, 1)\n",
            "Lane drawn shape: (80, 160, 3)\n",
            "Lane image shape: (544, 960, 3)\n",
            "1/1 [==============================] - 0s 19ms/step\n"
          ]
        },
        {
          "output_type": "stream",
          "name": "stderr",
          "text": [
            "\rt:  52%|█████▏    | 673/1297 [03:31<02:57,  3.51it/s, now=None]"
          ]
        },
        {
          "output_type": "stream",
          "name": "stdout",
          "text": [
            "Prediction shape: (80, 160, 1)\n",
            "Avg fit shape: (80, 160, 1)\n",
            "Blanks shape: (80, 160, 1)\n",
            "Lane drawn shape: (80, 160, 3)\n",
            "Lane image shape: (544, 960, 3)\n",
            "1/1 [==============================] - 0s 18ms/step\n"
          ]
        },
        {
          "output_type": "stream",
          "name": "stderr",
          "text": [
            "\rt:  52%|█████▏    | 674/1297 [03:31<02:55,  3.55it/s, now=None]"
          ]
        },
        {
          "output_type": "stream",
          "name": "stdout",
          "text": [
            "Prediction shape: (80, 160, 1)\n",
            "Avg fit shape: (80, 160, 1)\n",
            "Blanks shape: (80, 160, 1)\n",
            "Lane drawn shape: (80, 160, 3)\n",
            "Lane image shape: (544, 960, 3)\n",
            "1/1 [==============================] - 0s 18ms/step\n"
          ]
        },
        {
          "output_type": "stream",
          "name": "stderr",
          "text": [
            "\rt:  52%|█████▏    | 675/1297 [03:31<02:51,  3.63it/s, now=None]"
          ]
        },
        {
          "output_type": "stream",
          "name": "stdout",
          "text": [
            "Prediction shape: (80, 160, 1)\n",
            "Avg fit shape: (80, 160, 1)\n",
            "Blanks shape: (80, 160, 1)\n",
            "Lane drawn shape: (80, 160, 3)\n",
            "Lane image shape: (544, 960, 3)\n",
            "1/1 [==============================] - 0s 18ms/step\n"
          ]
        },
        {
          "output_type": "stream",
          "name": "stderr",
          "text": [
            "\rt:  52%|█████▏    | 676/1297 [03:31<02:57,  3.50it/s, now=None]"
          ]
        },
        {
          "output_type": "stream",
          "name": "stdout",
          "text": [
            "Prediction shape: (80, 160, 1)\n",
            "Avg fit shape: (80, 160, 1)\n",
            "Blanks shape: (80, 160, 1)\n",
            "Lane drawn shape: (80, 160, 3)\n",
            "Lane image shape: (544, 960, 3)\n",
            "1/1 [==============================] - 0s 21ms/step\n"
          ]
        },
        {
          "output_type": "stream",
          "name": "stderr",
          "text": [
            "\rt:  52%|█████▏    | 677/1297 [03:32<02:56,  3.51it/s, now=None]"
          ]
        },
        {
          "output_type": "stream",
          "name": "stdout",
          "text": [
            "Prediction shape: (80, 160, 1)\n",
            "Avg fit shape: (80, 160, 1)\n",
            "Blanks shape: (80, 160, 1)\n",
            "Lane drawn shape: (80, 160, 3)\n",
            "Lane image shape: (544, 960, 3)\n",
            "1/1 [==============================] - 0s 19ms/step\n"
          ]
        },
        {
          "output_type": "stream",
          "name": "stderr",
          "text": [
            "\rt:  52%|█████▏    | 678/1297 [03:32<02:53,  3.57it/s, now=None]"
          ]
        },
        {
          "output_type": "stream",
          "name": "stdout",
          "text": [
            "Prediction shape: (80, 160, 1)\n",
            "Avg fit shape: (80, 160, 1)\n",
            "Blanks shape: (80, 160, 1)\n",
            "Lane drawn shape: (80, 160, 3)\n",
            "Lane image shape: (544, 960, 3)\n",
            "1/1 [==============================] - 0s 19ms/step\n"
          ]
        },
        {
          "output_type": "stream",
          "name": "stderr",
          "text": [
            "\rt:  52%|█████▏    | 679/1297 [03:32<02:59,  3.45it/s, now=None]"
          ]
        },
        {
          "output_type": "stream",
          "name": "stdout",
          "text": [
            "Prediction shape: (80, 160, 1)\n",
            "Avg fit shape: (80, 160, 1)\n",
            "Blanks shape: (80, 160, 1)\n",
            "Lane drawn shape: (80, 160, 3)\n",
            "Lane image shape: (544, 960, 3)\n",
            "1/1 [==============================] - 0s 28ms/step\n"
          ]
        },
        {
          "output_type": "stream",
          "name": "stderr",
          "text": [
            "\rt:  52%|█████▏    | 680/1297 [03:33<03:24,  3.02it/s, now=None]"
          ]
        },
        {
          "output_type": "stream",
          "name": "stdout",
          "text": [
            "Prediction shape: (80, 160, 1)\n",
            "Avg fit shape: (80, 160, 1)\n",
            "Blanks shape: (80, 160, 1)\n",
            "Lane drawn shape: (80, 160, 3)\n",
            "Lane image shape: (544, 960, 3)\n",
            "1/1 [==============================] - 0s 40ms/step\n",
            "Prediction shape: (80, 160, 1)\n",
            "Avg fit shape:"
          ]
        },
        {
          "output_type": "stream",
          "name": "stderr",
          "text": [
            "\rt:  53%|█████▎    | 681/1297 [03:33<03:42,  2.77it/s, now=None]"
          ]
        },
        {
          "output_type": "stream",
          "name": "stdout",
          "text": [
            " (80, 160, 1)\n",
            "Blanks shape: (80, 160, 1)\n",
            "Lane drawn shape: (80, 160, 3)\n",
            "Lane image shape: (544, 960, 3)\n",
            "1/1 [==============================] - 0s 40ms/step\n",
            "Prediction shape: (80, 160, 1)\n",
            "Avg fit shape: (80, 160, 1)\n",
            "Blanks shape: (80, 160, 1)\n",
            "Lane drawn shape: (80, 160, 3)\n",
            "Lane image shape: (544, 960, 3)\n"
          ]
        },
        {
          "output_type": "stream",
          "name": "stderr",
          "text": [
            "\rt:  53%|█████▎    | 682/1297 [03:34<03:53,  2.64it/s, now=None]"
          ]
        },
        {
          "output_type": "stream",
          "name": "stdout",
          "text": [
            "1/1 [==============================] - 0s 27ms/step\n",
            "Prediction shape: (80, 160, 1)\n",
            "Avg fit shape: (80, 160, 1)\n",
            "Blanks shape: (80, 160, 1)\n"
          ]
        },
        {
          "output_type": "stream",
          "name": "stderr",
          "text": [
            "\rt:  53%|█████▎    | 683/1297 [03:34<04:00,  2.55it/s, now=None]"
          ]
        },
        {
          "output_type": "stream",
          "name": "stdout",
          "text": [
            "Lane drawn shape: (80, 160, 3)\n",
            "Lane image shape: (544, 960, 3)\n",
            "1/1 [==============================] - 0s 39ms/step\n",
            "Prediction shape: (80, 160, 1)\n",
            "Avg fit shape: (80, 160, 1)\n",
            "Blanks shape: (80, 160, 1)\n",
            "Lane drawn shape: (80, 160, 3)\n",
            "Lane image shape: (544, 960, 3)\n"
          ]
        },
        {
          "output_type": "stream",
          "name": "stderr",
          "text": [
            "\rt:  53%|█████▎    | 684/1297 [03:34<04:03,  2.52it/s, now=None]"
          ]
        },
        {
          "output_type": "stream",
          "name": "stdout",
          "text": [
            "1/1 [==============================] - 0s 36ms/step\n"
          ]
        },
        {
          "output_type": "stream",
          "name": "stderr",
          "text": [
            "\rt:  53%|█████▎    | 685/1297 [03:35<04:11,  2.44it/s, now=None]"
          ]
        },
        {
          "output_type": "stream",
          "name": "stdout",
          "text": [
            "Prediction shape: (80, 160, 1)\n",
            "Avg fit shape: (80, 160, 1)\n",
            "Blanks shape: (80, 160, 1)\n",
            "Lane drawn shape: (80, 160, 3)\n",
            "Lane image shape: (544, 960, 3)\n",
            "1/1 [==============================] - 0s 50ms/step\n"
          ]
        },
        {
          "output_type": "stream",
          "name": "stderr",
          "text": [
            "\rt:  53%|█████▎    | 686/1297 [03:35<04:22,  2.32it/s, now=None]"
          ]
        },
        {
          "output_type": "stream",
          "name": "stdout",
          "text": [
            "Prediction shape: (80, 160, 1)\n",
            "Avg fit shape: (80, 160, 1)\n",
            "Blanks shape: (80, 160, 1)\n",
            "Lane drawn shape: (80, 160, 3)\n",
            "Lane image shape: (544, 960, 3)\n",
            "1/1 [==============================] - 0s 52ms/step\n"
          ]
        },
        {
          "output_type": "stream",
          "name": "stderr",
          "text": [
            "\rt:  53%|█████▎    | 687/1297 [03:36<04:33,  2.23it/s, now=None]"
          ]
        },
        {
          "output_type": "stream",
          "name": "stdout",
          "text": [
            "Prediction shape: (80, 160, 1)\n",
            "Avg fit shape: (80, 160, 1)\n",
            "Blanks shape: (80, 160, 1)\n",
            "Lane drawn shape: (80, 160, 3)\n",
            "Lane image shape: (544, 960, 3)\n",
            "1/1 [==============================] - 0s 42ms/step\n"
          ]
        },
        {
          "output_type": "stream",
          "name": "stderr",
          "text": [
            "\rt:  53%|█████▎    | 688/1297 [03:36<04:34,  2.22it/s, now=None]"
          ]
        },
        {
          "output_type": "stream",
          "name": "stdout",
          "text": [
            "Prediction shape: (80, 160, 1)\n",
            "Avg fit shape: (80, 160, 1)\n",
            "Blanks shape: (80, 160, 1)\n",
            "Lane drawn shape: (80, 160, 3)\n",
            "Lane image shape: (544, 960, 3)\n",
            "1/1 [==============================] - 0s 44ms/step\n"
          ]
        },
        {
          "output_type": "stream",
          "name": "stderr",
          "text": [
            "\rt:  53%|█████▎    | 689/1297 [03:37<04:31,  2.24it/s, now=None]"
          ]
        },
        {
          "output_type": "stream",
          "name": "stdout",
          "text": [
            "Prediction shape: (80, 160, 1)\n",
            "Avg fit shape: (80, 160, 1)\n",
            "Blanks shape: (80, 160, 1)\n",
            "Lane drawn shape: (80, 160, 3)\n",
            "Lane image shape: (544, 960, 3)\n",
            "1/1 [==============================] - 0s 54ms/step\n"
          ]
        },
        {
          "output_type": "stream",
          "name": "stderr",
          "text": [
            "\rt:  53%|█████▎    | 690/1297 [03:37<04:32,  2.23it/s, now=None]"
          ]
        },
        {
          "output_type": "stream",
          "name": "stdout",
          "text": [
            "Prediction shape: (80, 160, 1)\n",
            "Avg fit shape: (80, 160, 1)\n",
            "Blanks shape: (80, 160, 1)\n",
            "Lane drawn shape: (80, 160, 3)\n",
            "Lane image shape: (544, 960, 3)\n",
            "1/1 [==============================] - 0s 38ms/step\n",
            "Prediction shape: (80, 160, 1)\n",
            "Avg fit shape: (80, 160, 1)\n",
            "Blanks shape: (80, 160, 1)\n",
            "Lane drawn shape: (80, 160, 3)\n",
            "Lane image shape: (544, 960, 3)\n"
          ]
        },
        {
          "output_type": "stream",
          "name": "stderr",
          "text": [
            "\rt:  53%|█████▎    | 691/1297 [03:38<04:26,  2.28it/s, now=None]"
          ]
        },
        {
          "output_type": "stream",
          "name": "stdout",
          "text": [
            "1/1 [==============================] - 0s 29ms/step\n"
          ]
        },
        {
          "output_type": "stream",
          "name": "stderr",
          "text": [
            "\rt:  53%|█████▎    | 692/1297 [03:38<04:15,  2.37it/s, now=None]"
          ]
        },
        {
          "output_type": "stream",
          "name": "stdout",
          "text": [
            "Prediction shape: (80, 160, 1)\n",
            "Avg fit shape: (80, 160, 1)\n",
            "Blanks shape: (80, 160, 1)\n",
            "Lane drawn shape: (80, 160, 3)\n",
            "Lane image shape: (544, 960, 3)\n",
            "1/1 [==============================] - 0s 19ms/step\n"
          ]
        },
        {
          "output_type": "stream",
          "name": "stderr",
          "text": [
            "\rt:  53%|█████▎    | 693/1297 [03:38<03:52,  2.60it/s, now=None]"
          ]
        },
        {
          "output_type": "stream",
          "name": "stdout",
          "text": [
            "Prediction shape: (80, 160, 1)\n",
            "Avg fit shape: (80, 160, 1)\n",
            "Blanks shape: (80, 160, 1)\n",
            "Lane drawn shape: (80, 160, 3)\n",
            "Lane image shape: (544, 960, 3)\n",
            "1/1 [==============================] - 0s 20ms/step\n"
          ]
        },
        {
          "output_type": "stream",
          "name": "stderr",
          "text": [
            "\rt:  54%|█████▎    | 694/1297 [03:38<03:30,  2.86it/s, now=None]"
          ]
        },
        {
          "output_type": "stream",
          "name": "stdout",
          "text": [
            "Prediction shape: (80, 160, 1)\n",
            "Avg fit shape: (80, 160, 1)\n",
            "Blanks shape: (80, 160, 1)\n",
            "Lane drawn shape: (80, 160, 3)\n",
            "Lane image shape: (544, 960, 3)\n",
            "1/1 [==============================] - 0s 21ms/step\n"
          ]
        },
        {
          "output_type": "stream",
          "name": "stderr",
          "text": [
            "\rt:  54%|█████▎    | 695/1297 [03:39<03:22,  2.98it/s, now=None]"
          ]
        },
        {
          "output_type": "stream",
          "name": "stdout",
          "text": [
            "Prediction shape: (80, 160, 1)\n",
            "Avg fit shape: (80, 160, 1)\n",
            "Blanks shape: (80, 160, 1)\n",
            "Lane drawn shape: (80, 160, 3)\n",
            "Lane image shape: (544, 960, 3)\n",
            "1/1 [==============================] - 0s 20ms/step\n"
          ]
        },
        {
          "output_type": "stream",
          "name": "stderr",
          "text": [
            "\rt:  54%|█████▎    | 696/1297 [03:39<03:13,  3.10it/s, now=None]"
          ]
        },
        {
          "output_type": "stream",
          "name": "stdout",
          "text": [
            "Prediction shape: (80, 160, 1)\n",
            "Avg fit shape: (80, 160, 1)\n",
            "Blanks shape: (80, 160, 1)\n",
            "Lane drawn shape: (80, 160, 3)\n",
            "Lane image shape: (544, 960, 3)\n",
            "1/1 [==============================] - 0s 21ms/step\n"
          ]
        },
        {
          "output_type": "stream",
          "name": "stderr",
          "text": [
            "\rt:  54%|█████▎    | 697/1297 [03:39<03:04,  3.25it/s, now=None]"
          ]
        },
        {
          "output_type": "stream",
          "name": "stdout",
          "text": [
            "Prediction shape: (80, 160, 1)\n",
            "Avg fit shape: (80, 160, 1)\n",
            "Blanks shape: (80, 160, 1)\n",
            "Lane drawn shape: (80, 160, 3)\n",
            "Lane image shape: (544, 960, 3)\n",
            "1/1 [==============================] - 0s 19ms/step\n"
          ]
        },
        {
          "output_type": "stream",
          "name": "stderr",
          "text": [
            "\rt:  54%|█████▍    | 698/1297 [03:40<02:57,  3.37it/s, now=None]"
          ]
        },
        {
          "output_type": "stream",
          "name": "stdout",
          "text": [
            "Prediction shape: (80, 160, 1)\n",
            "Avg fit shape: (80, 160, 1)\n",
            "Blanks shape: (80, 160, 1)\n",
            "Lane drawn shape: (80, 160, 3)\n",
            "Lane image shape: (544, 960, 3)\n",
            "1/1 [==============================] - 0s 18ms/step\n"
          ]
        },
        {
          "output_type": "stream",
          "name": "stderr",
          "text": [
            "\rt:  54%|█████▍    | 699/1297 [03:40<02:58,  3.35it/s, now=None]"
          ]
        },
        {
          "output_type": "stream",
          "name": "stdout",
          "text": [
            "Prediction shape: (80, 160, 1)\n",
            "Avg fit shape: (80, 160, 1)\n",
            "Blanks shape: (80, 160, 1)\n",
            "Lane drawn shape: (80, 160, 3)\n",
            "Lane image shape: (544, 960, 3)\n",
            "1/1 [==============================] - 0s 18ms/step\n"
          ]
        },
        {
          "output_type": "stream",
          "name": "stderr",
          "text": [
            "\rt:  54%|█████▍    | 700/1297 [03:40<02:53,  3.44it/s, now=None]"
          ]
        },
        {
          "output_type": "stream",
          "name": "stdout",
          "text": [
            "Prediction shape: (80, 160, 1)\n",
            "Avg fit shape: (80, 160, 1)\n",
            "Blanks shape: (80, 160, 1)\n",
            "Lane drawn shape: (80, 160, 3)\n",
            "Lane image shape: (544, 960, 3)\n",
            "1/1 [==============================] - 0s 20ms/step\n"
          ]
        },
        {
          "output_type": "stream",
          "name": "stderr",
          "text": [
            "\rt:  54%|█████▍    | 701/1297 [03:40<02:51,  3.47it/s, now=None]"
          ]
        },
        {
          "output_type": "stream",
          "name": "stdout",
          "text": [
            "Prediction shape: (80, 160, 1)\n",
            "Avg fit shape: (80, 160, 1)\n",
            "Blanks shape: (80, 160, 1)\n",
            "Lane drawn shape: (80, 160, 3)\n",
            "Lane image shape: (544, 960, 3)\n",
            "1/1 [==============================] - 0s 18ms/step\n"
          ]
        },
        {
          "output_type": "stream",
          "name": "stderr",
          "text": [
            "\rt:  54%|█████▍    | 702/1297 [03:41<02:48,  3.53it/s, now=None]"
          ]
        },
        {
          "output_type": "stream",
          "name": "stdout",
          "text": [
            "Prediction shape: (80, 160, 1)\n",
            "Avg fit shape: (80, 160, 1)\n",
            "Blanks shape: (80, 160, 1)\n",
            "Lane drawn shape: (80, 160, 3)\n",
            "Lane image shape: (544, 960, 3)\n",
            "1/1 [==============================] - 0s 19ms/step\n"
          ]
        },
        {
          "output_type": "stream",
          "name": "stderr",
          "text": [
            "\rt:  54%|█████▍    | 703/1297 [03:41<02:52,  3.45it/s, now=None]"
          ]
        },
        {
          "output_type": "stream",
          "name": "stdout",
          "text": [
            "Prediction shape: (80, 160, 1)\n",
            "Avg fit shape: (80, 160, 1)\n",
            "Blanks shape: (80, 160, 1)\n",
            "Lane drawn shape: (80, 160, 3)\n",
            "Lane image shape: (544, 960, 3)\n",
            "1/1 [==============================] - 0s 19ms/step\n"
          ]
        },
        {
          "output_type": "stream",
          "name": "stderr",
          "text": [
            "\rt:  54%|█████▍    | 704/1297 [03:41<02:52,  3.45it/s, now=None]"
          ]
        },
        {
          "output_type": "stream",
          "name": "stdout",
          "text": [
            "Prediction shape: (80, 160, 1)\n",
            "Avg fit shape: (80, 160, 1)\n",
            "Blanks shape: (80, 160, 1)\n",
            "Lane drawn shape: (80, 160, 3)\n",
            "Lane image shape: (544, 960, 3)\n",
            "1/1 [==============================] - 0s 20ms/step\n"
          ]
        },
        {
          "output_type": "stream",
          "name": "stderr",
          "text": [
            "\rt:  54%|█████▍    | 705/1297 [03:42<02:47,  3.54it/s, now=None]"
          ]
        },
        {
          "output_type": "stream",
          "name": "stdout",
          "text": [
            "Prediction shape: (80, 160, 1)\n",
            "Avg fit shape: (80, 160, 1)\n",
            "Blanks shape: (80, 160, 1)\n",
            "Lane drawn shape: (80, 160, 3)\n",
            "Lane image shape: (544, 960, 3)\n",
            "1/1 [==============================] - 0s 18ms/step\n"
          ]
        },
        {
          "output_type": "stream",
          "name": "stderr",
          "text": [
            "\rt:  54%|█████▍    | 706/1297 [03:42<02:47,  3.53it/s, now=None]"
          ]
        },
        {
          "output_type": "stream",
          "name": "stdout",
          "text": [
            "Prediction shape: (80, 160, 1)\n",
            "Avg fit shape: (80, 160, 1)\n",
            "Blanks shape: (80, 160, 1)\n",
            "Lane drawn shape: (80, 160, 3)\n",
            "Lane image shape: (544, 960, 3)\n",
            "1/1 [==============================] - 0s 19ms/step\n"
          ]
        },
        {
          "output_type": "stream",
          "name": "stderr",
          "text": [
            "\rt:  55%|█████▍    | 707/1297 [03:42<02:46,  3.54it/s, now=None]"
          ]
        },
        {
          "output_type": "stream",
          "name": "stdout",
          "text": [
            "Prediction shape: (80, 160, 1)\n",
            "Avg fit shape: (80, 160, 1)\n",
            "Blanks shape: (80, 160, 1)\n",
            "Lane drawn shape: (80, 160, 3)\n",
            "Lane image shape: (544, 960, 3)\n",
            "1/1 [==============================] - 0s 19ms/step\n"
          ]
        },
        {
          "output_type": "stream",
          "name": "stderr",
          "text": [
            "\rt:  55%|█████▍    | 708/1297 [03:42<02:43,  3.59it/s, now=None]"
          ]
        },
        {
          "output_type": "stream",
          "name": "stdout",
          "text": [
            "Prediction shape: (80, 160, 1)\n",
            "Avg fit shape: (80, 160, 1)\n",
            "Blanks shape: (80, 160, 1)\n",
            "Lane drawn shape: (80, 160, 3)\n",
            "Lane image shape: (544, 960, 3)\n",
            "1/1 [==============================] - 0s 19ms/step\n"
          ]
        },
        {
          "output_type": "stream",
          "name": "stderr",
          "text": [
            "\rt:  55%|█████▍    | 709/1297 [03:43<02:41,  3.65it/s, now=None]"
          ]
        },
        {
          "output_type": "stream",
          "name": "stdout",
          "text": [
            "Prediction shape: (80, 160, 1)\n",
            "Avg fit shape: (80, 160, 1)\n",
            "Blanks shape: (80, 160, 1)\n",
            "Lane drawn shape: (80, 160, 3)\n",
            "Lane image shape: (544, 960, 3)\n",
            "1/1 [==============================] - 0s 18ms/step\n"
          ]
        },
        {
          "output_type": "stream",
          "name": "stderr",
          "text": [
            "\rt:  55%|█████▍    | 710/1297 [03:43<02:43,  3.59it/s, now=None]"
          ]
        },
        {
          "output_type": "stream",
          "name": "stdout",
          "text": [
            "Prediction shape: (80, 160, 1)\n",
            "Avg fit shape: (80, 160, 1)\n",
            "Blanks shape: (80, 160, 1)\n",
            "Lane drawn shape: (80, 160, 3)\n",
            "Lane image shape: (544, 960, 3)\n",
            "1/1 [==============================] - 0s 18ms/step\n"
          ]
        },
        {
          "output_type": "stream",
          "name": "stderr",
          "text": [
            "\rt:  55%|█████▍    | 711/1297 [03:43<02:51,  3.42it/s, now=None]"
          ]
        },
        {
          "output_type": "stream",
          "name": "stdout",
          "text": [
            "Prediction shape: (80, 160, 1)\n",
            "Avg fit shape: (80, 160, 1)\n",
            "Blanks shape: (80, 160, 1)\n",
            "Lane drawn shape: (80, 160, 3)\n",
            "Lane image shape: (544, 960, 3)\n",
            "1/1 [==============================] - 0s 19ms/step\n"
          ]
        },
        {
          "output_type": "stream",
          "name": "stderr",
          "text": [
            "\rt:  55%|█████▍    | 712/1297 [03:44<02:50,  3.44it/s, now=None]"
          ]
        },
        {
          "output_type": "stream",
          "name": "stdout",
          "text": [
            "Prediction shape: (80, 160, 1)\n",
            "Avg fit shape: (80, 160, 1)\n",
            "Blanks shape: (80, 160, 1)\n",
            "Lane drawn shape: (80, 160, 3)\n",
            "Lane image shape: (544, 960, 3)\n",
            "1/1 [==============================] - 0s 18ms/step\n"
          ]
        },
        {
          "output_type": "stream",
          "name": "stderr",
          "text": [
            "\rt:  55%|█████▍    | 713/1297 [03:44<02:44,  3.54it/s, now=None]"
          ]
        },
        {
          "output_type": "stream",
          "name": "stdout",
          "text": [
            "Prediction shape: (80, 160, 1)\n",
            "Avg fit shape: (80, 160, 1)\n",
            "Blanks shape: (80, 160, 1)\n",
            "Lane drawn shape: (80, 160, 3)\n",
            "Lane image shape: (544, 960, 3)\n",
            "1/1 [==============================] - 0s 18ms/step\n"
          ]
        },
        {
          "output_type": "stream",
          "name": "stderr",
          "text": [
            "\rt:  55%|█████▌    | 714/1297 [03:44<02:43,  3.57it/s, now=None]"
          ]
        },
        {
          "output_type": "stream",
          "name": "stdout",
          "text": [
            "Prediction shape: (80, 160, 1)\n",
            "Avg fit shape: (80, 160, 1)\n",
            "Blanks shape: (80, 160, 1)\n",
            "Lane drawn shape: (80, 160, 3)\n",
            "Lane image shape: (544, 960, 3)\n",
            "1/1 [==============================] - 0s 22ms/step\n"
          ]
        },
        {
          "output_type": "stream",
          "name": "stderr",
          "text": [
            "\rt:  55%|█████▌    | 715/1297 [03:44<02:46,  3.49it/s, now=None]"
          ]
        },
        {
          "output_type": "stream",
          "name": "stdout",
          "text": [
            "Prediction shape: (80, 160, 1)\n",
            "Avg fit shape: (80, 160, 1)\n",
            "Blanks shape: (80, 160, 1)\n",
            "Lane drawn shape: (80, 160, 3)\n",
            "Lane image shape: (544, 960, 3)\n",
            "1/1 [==============================] - 0s 20ms/step\n"
          ]
        },
        {
          "output_type": "stream",
          "name": "stderr",
          "text": [
            "\rt:  55%|█████▌    | 716/1297 [03:45<02:46,  3.50it/s, now=None]"
          ]
        },
        {
          "output_type": "stream",
          "name": "stdout",
          "text": [
            "Prediction shape: (80, 160, 1)\n",
            "Avg fit shape: (80, 160, 1)\n",
            "Blanks shape: (80, 160, 1)\n",
            "Lane drawn shape: (80, 160, 3)\n",
            "Lane image shape: (544, 960, 3)\n",
            "1/1 [==============================] - 0s 19ms/step\n"
          ]
        },
        {
          "output_type": "stream",
          "name": "stderr",
          "text": [
            "\rt:  55%|█████▌    | 717/1297 [03:45<02:43,  3.54it/s, now=None]"
          ]
        },
        {
          "output_type": "stream",
          "name": "stdout",
          "text": [
            "Prediction shape: (80, 160, 1)\n",
            "Avg fit shape: (80, 160, 1)\n",
            "Blanks shape: (80, 160, 1)\n",
            "Lane drawn shape: (80, 160, 3)\n",
            "Lane image shape: (544, 960, 3)\n",
            "1/1 [==============================] - 0s 20ms/step\n"
          ]
        },
        {
          "output_type": "stream",
          "name": "stderr",
          "text": [
            "\rt:  55%|█████▌    | 718/1297 [03:45<02:43,  3.53it/s, now=None]"
          ]
        },
        {
          "output_type": "stream",
          "name": "stdout",
          "text": [
            "Prediction shape: (80, 160, 1)\n",
            "Avg fit shape: (80, 160, 1)\n",
            "Blanks shape: (80, 160, 1)\n",
            "Lane drawn shape: (80, 160, 3)\n",
            "Lane image shape: (544, 960, 3)\n",
            "1/1 [==============================] - 0s 19ms/step\n"
          ]
        },
        {
          "output_type": "stream",
          "name": "stderr",
          "text": [
            "\rt:  55%|█████▌    | 719/1297 [03:46<02:50,  3.39it/s, now=None]"
          ]
        },
        {
          "output_type": "stream",
          "name": "stdout",
          "text": [
            "Prediction shape: (80, 160, 1)\n",
            "Avg fit shape: (80, 160, 1)\n",
            "Blanks shape: (80, 160, 1)\n",
            "Lane drawn shape: (80, 160, 3)\n",
            "Lane image shape: (544, 960, 3)\n",
            "1/1 [==============================] - 0s 18ms/step\n"
          ]
        },
        {
          "output_type": "stream",
          "name": "stderr",
          "text": [
            "\rt:  56%|█████▌    | 720/1297 [03:46<02:44,  3.50it/s, now=None]"
          ]
        },
        {
          "output_type": "stream",
          "name": "stdout",
          "text": [
            "Prediction shape: (80, 160, 1)\n",
            "Avg fit shape: (80, 160, 1)\n",
            "Blanks shape: (80, 160, 1)\n",
            "Lane drawn shape: (80, 160, 3)\n",
            "Lane image shape: (544, 960, 3)\n",
            "1/1 [==============================] - 0s 18ms/step\n"
          ]
        },
        {
          "output_type": "stream",
          "name": "stderr",
          "text": [
            "\rt:  56%|█████▌    | 721/1297 [03:46<02:42,  3.54it/s, now=None]"
          ]
        },
        {
          "output_type": "stream",
          "name": "stdout",
          "text": [
            "Prediction shape: (80, 160, 1)\n",
            "Avg fit shape: (80, 160, 1)\n",
            "Blanks shape: (80, 160, 1)\n",
            "Lane drawn shape: (80, 160, 3)\n",
            "Lane image shape: (544, 960, 3)\n",
            "1/1 [==============================] - 0s 19ms/step\n"
          ]
        },
        {
          "output_type": "stream",
          "name": "stderr",
          "text": [
            "\rt:  56%|█████▌    | 722/1297 [03:46<02:42,  3.54it/s, now=None]"
          ]
        },
        {
          "output_type": "stream",
          "name": "stdout",
          "text": [
            "Prediction shape: (80, 160, 1)\n",
            "Avg fit shape: (80, 160, 1)\n",
            "Blanks shape: (80, 160, 1)\n",
            "Lane drawn shape: (80, 160, 3)\n",
            "Lane image shape: (544, 960, 3)\n",
            "1/1 [==============================] - 0s 19ms/step\n"
          ]
        },
        {
          "output_type": "stream",
          "name": "stderr",
          "text": [
            "\rt:  56%|█████▌    | 723/1297 [03:47<02:38,  3.62it/s, now=None]"
          ]
        },
        {
          "output_type": "stream",
          "name": "stdout",
          "text": [
            "Prediction shape: (80, 160, 1)\n",
            "Avg fit shape: (80, 160, 1)\n",
            "Blanks shape: (80, 160, 1)\n",
            "Lane drawn shape: (80, 160, 3)\n",
            "Lane image shape: (544, 960, 3)\n",
            "1/1 [==============================] - 0s 18ms/step\n"
          ]
        },
        {
          "output_type": "stream",
          "name": "stderr",
          "text": [
            "\rt:  56%|█████▌    | 724/1297 [03:47<02:34,  3.70it/s, now=None]"
          ]
        },
        {
          "output_type": "stream",
          "name": "stdout",
          "text": [
            "Prediction shape: (80, 160, 1)\n",
            "Avg fit shape: (80, 160, 1)\n",
            "Blanks shape: (80, 160, 1)\n",
            "Lane drawn shape: (80, 160, 3)\n",
            "Lane image shape: (544, 960, 3)\n",
            "1/1 [==============================] - 0s 27ms/step\n"
          ]
        },
        {
          "output_type": "stream",
          "name": "stderr",
          "text": [
            "\rt:  56%|█████▌    | 725/1297 [03:47<02:39,  3.59it/s, now=None]"
          ]
        },
        {
          "output_type": "stream",
          "name": "stdout",
          "text": [
            "Prediction shape: (80, 160, 1)\n",
            "Avg fit shape: (80, 160, 1)\n",
            "Blanks shape: (80, 160, 1)\n",
            "Lane drawn shape: (80, 160, 3)\n",
            "Lane image shape: (544, 960, 3)\n",
            "1/1 [==============================] - 0s 18ms/step\n"
          ]
        },
        {
          "output_type": "stream",
          "name": "stderr",
          "text": [
            "\rt:  56%|█████▌    | 726/1297 [03:48<02:39,  3.59it/s, now=None]"
          ]
        },
        {
          "output_type": "stream",
          "name": "stdout",
          "text": [
            "Prediction shape: (80, 160, 1)\n",
            "Avg fit shape: (80, 160, 1)\n",
            "Blanks shape: (80, 160, 1)\n",
            "Lane drawn shape: (80, 160, 3)\n",
            "Lane image shape: (544, 960, 3)\n",
            "1/1 [==============================] - 0s 19ms/step\n"
          ]
        },
        {
          "output_type": "stream",
          "name": "stderr",
          "text": [
            "\rt:  56%|█████▌    | 727/1297 [03:48<02:39,  3.58it/s, now=None]"
          ]
        },
        {
          "output_type": "stream",
          "name": "stdout",
          "text": [
            "Prediction shape: (80, 160, 1)\n",
            "Avg fit shape: (80, 160, 1)\n",
            "Blanks shape: (80, 160, 1)\n",
            "Lane drawn shape: (80, 160, 3)\n",
            "Lane image shape: (544, 960, 3)\n",
            "1/1 [==============================] - 0s 28ms/step\n",
            "Prediction shape: (80, 160, 1)\n",
            "Avg fit shape: (80, 160, 1)\n",
            "Blanks shape: (80, 160, 1)\n",
            "Lane drawn shape: (80, 160, 3)\n",
            "Lane image shape: (544, 960, 3)\n"
          ]
        },
        {
          "output_type": "stream",
          "name": "stderr",
          "text": [
            "\rt:  56%|█████▌    | 728/1297 [03:48<03:00,  3.16it/s, now=None]"
          ]
        },
        {
          "output_type": "stream",
          "name": "stdout",
          "text": [
            "1/1 [==============================] - 0s 31ms/step\n",
            "Prediction shape: (80, 160, 1)\n",
            "Avg fit shape:"
          ]
        },
        {
          "output_type": "stream",
          "name": "stderr",
          "text": [
            "\rt:  56%|█████▌    | 729/1297 [03:49<03:17,  2.88it/s, now=None]"
          ]
        },
        {
          "output_type": "stream",
          "name": "stdout",
          "text": [
            " (80, 160, 1)\n",
            "Blanks shape: (80, 160, 1)\n",
            "Lane drawn shape: (80, 160, 3)\n",
            "Lane image shape: (544, 960, 3)\n",
            "1/1 [==============================] - 0s 37ms/step\n"
          ]
        },
        {
          "output_type": "stream",
          "name": "stderr",
          "text": [
            "\rt:  56%|█████▋    | 730/1297 [03:49<03:35,  2.63it/s, now=None]"
          ]
        },
        {
          "output_type": "stream",
          "name": "stdout",
          "text": [
            "Prediction shape: (80, 160, 1)\n",
            "Avg fit shape: (80, 160, 1)\n",
            "Blanks shape: (80, 160, 1)\n",
            "Lane drawn shape: (80, 160, 3)\n",
            "Lane image shape: (544, 960, 3)\n",
            "1/1 [==============================] - 0s 41ms/step\n"
          ]
        },
        {
          "output_type": "stream",
          "name": "stderr",
          "text": [
            "\rt:  56%|█████▋    | 731/1297 [03:50<03:52,  2.43it/s, now=None]"
          ]
        },
        {
          "output_type": "stream",
          "name": "stdout",
          "text": [
            "Prediction shape: (80, 160, 1)\n",
            "Avg fit shape: (80, 160, 1)\n",
            "Blanks shape: (80, 160, 1)\n",
            "Lane drawn shape: (80, 160, 3)\n",
            "Lane image shape: (544, 960, 3)\n",
            "1/1 [==============================] - 0s 42ms/step\n",
            "Prediction shape: (80, 160, 1)\n",
            "Avg fit shape: (80, 160, 1)\n",
            "Blanks shape: (80, 160, 1)\n",
            "Lane drawn shape: (80, 160, 3)\n",
            "Lane image shape:"
          ]
        },
        {
          "output_type": "stream",
          "name": "stderr",
          "text": [
            "\rt:  56%|█████▋    | 732/1297 [03:50<03:56,  2.39it/s, now=None]"
          ]
        },
        {
          "output_type": "stream",
          "name": "stdout",
          "text": [
            " (544, 960, 3)\n",
            "1/1 [==============================] - 0s 38ms/step\n"
          ]
        },
        {
          "output_type": "stream",
          "name": "stderr",
          "text": [
            "\rt:  57%|█████▋    | 733/1297 [03:50<03:58,  2.37it/s, now=None]"
          ]
        },
        {
          "output_type": "stream",
          "name": "stdout",
          "text": [
            "Prediction shape: (80, 160, 1)\n",
            "Avg fit shape: (80, 160, 1)\n",
            "Blanks shape: (80, 160, 1)\n",
            "Lane drawn shape: (80, 160, 3)\n",
            "Lane image shape: (544, 960, 3)\n",
            "1/1 [==============================] - 0s 40ms/step\n",
            "Prediction shape: (80, 160, 1)\n",
            "Avg fit shape: (80, 160, 1)\n",
            "Blanks shape: (80, 160, 1)\n",
            "Lane drawn shape: "
          ]
        },
        {
          "output_type": "stream",
          "name": "stderr",
          "text": [
            "\rt:  57%|█████▋    | 734/1297 [03:51<04:00,  2.34it/s, now=None]"
          ]
        },
        {
          "output_type": "stream",
          "name": "stdout",
          "text": [
            "(80, 160, 3)\n",
            "Lane image shape: (544, 960, 3)\n",
            "1/1 [==============================] - 0s 48ms/step\n"
          ]
        },
        {
          "output_type": "stream",
          "name": "stderr",
          "text": [
            "\rt:  57%|█████▋    | 735/1297 [03:51<04:01,  2.33it/s, now=None]"
          ]
        },
        {
          "output_type": "stream",
          "name": "stdout",
          "text": [
            "Prediction shape: (80, 160, 1)\n",
            "Avg fit shape: (80, 160, 1)\n",
            "Blanks shape: (80, 160, 1)\n",
            "Lane drawn shape: (80, 160, 3)\n",
            "Lane image shape: (544, 960, 3)\n",
            "1/1 [==============================] - 0s 43ms/step\n"
          ]
        },
        {
          "output_type": "stream",
          "name": "stderr",
          "text": [
            "\rt:  57%|█████▋    | 736/1297 [03:52<04:03,  2.30it/s, now=None]"
          ]
        },
        {
          "output_type": "stream",
          "name": "stdout",
          "text": [
            "Prediction shape: (80, 160, 1)\n",
            "Avg fit shape: (80, 160, 1)\n",
            "Blanks shape: (80, 160, 1)\n",
            "Lane drawn shape: (80, 160, 3)\n",
            "Lane image shape: (544, 960, 3)\n",
            "1/1 [==============================] - 0s 41ms/step\n",
            "Prediction shape: (80, 160, 1)\n",
            "Avg fit shape: (80, 160, 1)\n",
            "Blanks shape: (80, 160, 1)\n",
            "Lane drawn shape: (80, 160, 3)\n",
            "Lane image shape: (544, 960, 3)\n"
          ]
        },
        {
          "output_type": "stream",
          "name": "stderr",
          "text": [
            "\rt:  57%|█████▋    | 737/1297 [03:52<04:04,  2.29it/s, now=None]"
          ]
        },
        {
          "output_type": "stream",
          "name": "stdout",
          "text": [
            "1/1 [==============================] - 0s 49ms/step\n"
          ]
        },
        {
          "output_type": "stream",
          "name": "stderr",
          "text": [
            "\rt:  57%|█████▋    | 738/1297 [03:53<04:07,  2.26it/s, now=None]"
          ]
        },
        {
          "output_type": "stream",
          "name": "stdout",
          "text": [
            "Prediction shape: (80, 160, 1)\n",
            "Avg fit shape: (80, 160, 1)\n",
            "Blanks shape: (80, 160, 1)\n",
            "Lane drawn shape: (80, 160, 3)\n",
            "Lane image shape: (544, 960, 3)\n",
            "1/1 [==============================] - 0s 35ms/step\n"
          ]
        },
        {
          "output_type": "stream",
          "name": "stderr",
          "text": [
            "\rt:  57%|█████▋    | 739/1297 [03:53<04:06,  2.27it/s, now=None]"
          ]
        },
        {
          "output_type": "stream",
          "name": "stdout",
          "text": [
            "Prediction shape: (80, 160, 1)\n",
            "Avg fit shape: (80, 160, 1)\n",
            "Blanks shape: (80, 160, 1)\n",
            "Lane drawn shape: (80, 160, 3)\n",
            "Lane image shape: (544, 960, 3)\n",
            "1/1 [==============================] - 0s 38ms/step\n"
          ]
        },
        {
          "output_type": "stream",
          "name": "stderr",
          "text": [
            "\rt:  57%|█████▋    | 740/1297 [03:54<04:02,  2.30it/s, now=None]"
          ]
        },
        {
          "output_type": "stream",
          "name": "stdout",
          "text": [
            "Prediction shape: (80, 160, 1)\n",
            "Avg fit shape: (80, 160, 1)\n",
            "Blanks shape: (80, 160, 1)\n",
            "Lane drawn shape: (80, 160, 3)\n",
            "Lane image shape: (544, 960, 3)\n",
            "1/1 [==============================] - 0s 37ms/step\n"
          ]
        },
        {
          "output_type": "stream",
          "name": "stderr",
          "text": [
            "\rt:  57%|█████▋    | 741/1297 [03:54<03:59,  2.32it/s, now=None]"
          ]
        },
        {
          "output_type": "stream",
          "name": "stdout",
          "text": [
            "Prediction shape: (80, 160, 1)\n",
            "Avg fit shape: (80, 160, 1)\n",
            "Blanks shape: (80, 160, 1)\n",
            "Lane drawn shape: (80, 160, 3)\n",
            "Lane image shape: (544, 960, 3)\n",
            "1/1 [==============================] - 0s 19ms/step\n"
          ]
        },
        {
          "output_type": "stream",
          "name": "stderr",
          "text": [
            "\rt:  57%|█████▋    | 742/1297 [03:54<03:32,  2.61it/s, now=None]"
          ]
        },
        {
          "output_type": "stream",
          "name": "stdout",
          "text": [
            "Prediction shape: (80, 160, 1)\n",
            "Avg fit shape: (80, 160, 1)\n",
            "Blanks shape: (80, 160, 1)\n",
            "Lane drawn shape: (80, 160, 3)\n",
            "Lane image shape: (544, 960, 3)\n",
            "1/1 [==============================] - 0s 19ms/step\n"
          ]
        },
        {
          "output_type": "stream",
          "name": "stderr",
          "text": [
            "\rt:  57%|█████▋    | 743/1297 [03:54<03:14,  2.84it/s, now=None]"
          ]
        },
        {
          "output_type": "stream",
          "name": "stdout",
          "text": [
            "Prediction shape: (80, 160, 1)\n",
            "Avg fit shape: (80, 160, 1)\n",
            "Blanks shape: (80, 160, 1)\n",
            "Lane drawn shape: (80, 160, 3)\n",
            "Lane image shape: (544, 960, 3)\n",
            "1/1 [==============================] - 0s 21ms/step\n"
          ]
        },
        {
          "output_type": "stream",
          "name": "stderr",
          "text": [
            "\rt:  57%|█████▋    | 744/1297 [03:55<03:03,  3.01it/s, now=None]"
          ]
        },
        {
          "output_type": "stream",
          "name": "stdout",
          "text": [
            "Prediction shape: (80, 160, 1)\n",
            "Avg fit shape: (80, 160, 1)\n",
            "Blanks shape: (80, 160, 1)\n",
            "Lane drawn shape: (80, 160, 3)\n",
            "Lane image shape: (544, 960, 3)\n",
            "1/1 [==============================] - 0s 20ms/step\n"
          ]
        },
        {
          "output_type": "stream",
          "name": "stderr",
          "text": [
            "\rt:  57%|█████▋    | 745/1297 [03:55<03:00,  3.07it/s, now=None]"
          ]
        },
        {
          "output_type": "stream",
          "name": "stdout",
          "text": [
            "Prediction shape: (80, 160, 1)\n",
            "Avg fit shape: (80, 160, 1)\n",
            "Blanks shape: (80, 160, 1)\n",
            "Lane drawn shape: (80, 160, 3)\n",
            "Lane image shape: (544, 960, 3)\n",
            "1/1 [==============================] - 0s 20ms/step\n"
          ]
        },
        {
          "output_type": "stream",
          "name": "stderr",
          "text": [
            "\rt:  58%|█████▊    | 746/1297 [03:55<02:55,  3.13it/s, now=None]"
          ]
        },
        {
          "output_type": "stream",
          "name": "stdout",
          "text": [
            "Prediction shape: (80, 160, 1)\n",
            "Avg fit shape: (80, 160, 1)\n",
            "Blanks shape: (80, 160, 1)\n",
            "Lane drawn shape: (80, 160, 3)\n",
            "Lane image shape: (544, 960, 3)\n",
            "1/1 [==============================] - 0s 28ms/step\n"
          ]
        },
        {
          "output_type": "stream",
          "name": "stderr",
          "text": [
            "\rt:  58%|█████▊    | 747/1297 [03:56<02:52,  3.20it/s, now=None]"
          ]
        },
        {
          "output_type": "stream",
          "name": "stdout",
          "text": [
            "Prediction shape: (80, 160, 1)\n",
            "Avg fit shape: (80, 160, 1)\n",
            "Blanks shape: (80, 160, 1)\n",
            "Lane drawn shape: (80, 160, 3)\n",
            "Lane image shape: (544, 960, 3)\n",
            "1/1 [==============================] - 0s 19ms/step\n"
          ]
        },
        {
          "output_type": "stream",
          "name": "stderr",
          "text": [
            "\rt:  58%|█████▊    | 748/1297 [03:56<02:46,  3.30it/s, now=None]"
          ]
        },
        {
          "output_type": "stream",
          "name": "stdout",
          "text": [
            "Prediction shape: (80, 160, 1)\n",
            "Avg fit shape: (80, 160, 1)\n",
            "Blanks shape: (80, 160, 1)\n",
            "Lane drawn shape: (80, 160, 3)\n",
            "Lane image shape: (544, 960, 3)\n",
            "1/1 [==============================] - 0s 20ms/step\n"
          ]
        },
        {
          "output_type": "stream",
          "name": "stderr",
          "text": [
            "\rt:  58%|█████▊    | 749/1297 [03:56<02:46,  3.30it/s, now=None]"
          ]
        },
        {
          "output_type": "stream",
          "name": "stdout",
          "text": [
            "Prediction shape: (80, 160, 1)\n",
            "Avg fit shape: (80, 160, 1)\n",
            "Blanks shape: (80, 160, 1)\n",
            "Lane drawn shape: (80, 160, 3)\n",
            "Lane image shape: (544, 960, 3)\n",
            "1/1 [==============================] - 0s 19ms/step\n"
          ]
        },
        {
          "output_type": "stream",
          "name": "stderr",
          "text": [
            "\rt:  58%|█████▊    | 750/1297 [03:57<02:41,  3.39it/s, now=None]"
          ]
        },
        {
          "output_type": "stream",
          "name": "stdout",
          "text": [
            "Prediction shape: (80, 160, 1)\n",
            "Avg fit shape: (80, 160, 1)\n",
            "Blanks shape: (80, 160, 1)\n",
            "Lane drawn shape: (80, 160, 3)\n",
            "Lane image shape: (544, 960, 3)\n",
            "1/1 [==============================] - 0s 19ms/step\n"
          ]
        },
        {
          "output_type": "stream",
          "name": "stderr",
          "text": [
            "\rt:  58%|█████▊    | 751/1297 [03:57<02:45,  3.31it/s, now=None]"
          ]
        },
        {
          "output_type": "stream",
          "name": "stdout",
          "text": [
            "Prediction shape: (80, 160, 1)\n",
            "Avg fit shape: (80, 160, 1)\n",
            "Blanks shape: (80, 160, 1)\n",
            "Lane drawn shape: (80, 160, 3)\n",
            "Lane image shape: (544, 960, 3)\n",
            "1/1 [==============================] - 0s 19ms/step\n"
          ]
        },
        {
          "output_type": "stream",
          "name": "stderr",
          "text": [
            "\rt:  58%|█████▊    | 752/1297 [03:57<02:38,  3.43it/s, now=None]"
          ]
        },
        {
          "output_type": "stream",
          "name": "stdout",
          "text": [
            "Prediction shape: (80, 160, 1)\n",
            "Avg fit shape: (80, 160, 1)\n",
            "Blanks shape: (80, 160, 1)\n",
            "Lane drawn shape: (80, 160, 3)\n",
            "Lane image shape: (544, 960, 3)\n",
            "1/1 [==============================] - 0s 21ms/step\n"
          ]
        },
        {
          "output_type": "stream",
          "name": "stderr",
          "text": [
            "\rt:  58%|█████▊    | 753/1297 [03:57<02:35,  3.49it/s, now=None]"
          ]
        },
        {
          "output_type": "stream",
          "name": "stdout",
          "text": [
            "Prediction shape: (80, 160, 1)\n",
            "Avg fit shape: (80, 160, 1)\n",
            "Blanks shape: (80, 160, 1)\n",
            "Lane drawn shape: (80, 160, 3)\n",
            "Lane image shape: (544, 960, 3)\n",
            "1/1 [==============================] - 0s 18ms/step\n"
          ]
        },
        {
          "output_type": "stream",
          "name": "stderr",
          "text": [
            "\rt:  58%|█████▊    | 754/1297 [03:58<02:35,  3.50it/s, now=None]"
          ]
        },
        {
          "output_type": "stream",
          "name": "stdout",
          "text": [
            "Prediction shape: (80, 160, 1)\n",
            "Avg fit shape: (80, 160, 1)\n",
            "Blanks shape: (80, 160, 1)\n",
            "Lane drawn shape: (80, 160, 3)\n",
            "Lane image shape: (544, 960, 3)\n",
            "1/1 [==============================] - 0s 19ms/step\n"
          ]
        },
        {
          "output_type": "stream",
          "name": "stderr",
          "text": [
            "\rt:  58%|█████▊    | 755/1297 [03:58<02:33,  3.54it/s, now=None]"
          ]
        },
        {
          "output_type": "stream",
          "name": "stdout",
          "text": [
            "Prediction shape: (80, 160, 1)\n",
            "Avg fit shape: (80, 160, 1)\n",
            "Blanks shape: (80, 160, 1)\n",
            "Lane drawn shape: (80, 160, 3)\n",
            "Lane image shape: (544, 960, 3)\n",
            "1/1 [==============================] - 0s 19ms/step\n"
          ]
        },
        {
          "output_type": "stream",
          "name": "stderr",
          "text": [
            "\rt:  58%|█████▊    | 756/1297 [03:58<02:31,  3.57it/s, now=None]"
          ]
        },
        {
          "output_type": "stream",
          "name": "stdout",
          "text": [
            "Prediction shape: (80, 160, 1)\n",
            "Avg fit shape: (80, 160, 1)\n",
            "Blanks shape: (80, 160, 1)\n",
            "Lane drawn shape: (80, 160, 3)\n",
            "Lane image shape: (544, 960, 3)\n",
            "1/1 [==============================] - 0s 19ms/step\n"
          ]
        },
        {
          "output_type": "stream",
          "name": "stderr",
          "text": [
            "\rt:  58%|█████▊    | 757/1297 [03:59<02:30,  3.59it/s, now=None]"
          ]
        },
        {
          "output_type": "stream",
          "name": "stdout",
          "text": [
            "Prediction shape: (80, 160, 1)\n",
            "Avg fit shape: (80, 160, 1)\n",
            "Blanks shape: (80, 160, 1)\n",
            "Lane drawn shape: (80, 160, 3)\n",
            "Lane image shape: (544, 960, 3)\n",
            "1/1 [==============================] - 0s 19ms/step\n"
          ]
        },
        {
          "output_type": "stream",
          "name": "stderr",
          "text": [
            "\rt:  58%|█████▊    | 758/1297 [03:59<02:31,  3.57it/s, now=None]"
          ]
        },
        {
          "output_type": "stream",
          "name": "stdout",
          "text": [
            "Prediction shape: (80, 160, 1)\n",
            "Avg fit shape: (80, 160, 1)\n",
            "Blanks shape: (80, 160, 1)\n",
            "Lane drawn shape: (80, 160, 3)\n",
            "Lane image shape: (544, 960, 3)\n",
            "1/1 [==============================] - 0s 19ms/step\n"
          ]
        },
        {
          "output_type": "stream",
          "name": "stderr",
          "text": [
            "\rt:  59%|█████▊    | 759/1297 [03:59<02:34,  3.48it/s, now=None]"
          ]
        },
        {
          "output_type": "stream",
          "name": "stdout",
          "text": [
            "Prediction shape: (80, 160, 1)\n",
            "Avg fit shape: (80, 160, 1)\n",
            "Blanks shape: (80, 160, 1)\n",
            "Lane drawn shape: (80, 160, 3)\n",
            "Lane image shape: (544, 960, 3)\n",
            "1/1 [==============================] - 0s 19ms/step\n"
          ]
        },
        {
          "output_type": "stream",
          "name": "stderr",
          "text": [
            "\rt:  59%|█████▊    | 760/1297 [03:59<02:33,  3.49it/s, now=None]"
          ]
        },
        {
          "output_type": "stream",
          "name": "stdout",
          "text": [
            "Prediction shape: (80, 160, 1)\n",
            "Avg fit shape: (80, 160, 1)\n",
            "Blanks shape: (80, 160, 1)\n",
            "Lane drawn shape: (80, 160, 3)\n",
            "Lane image shape: (544, 960, 3)\n",
            "1/1 [==============================] - 0s 18ms/step\n"
          ]
        },
        {
          "output_type": "stream",
          "name": "stderr",
          "text": [
            "\rt:  59%|█████▊    | 761/1297 [04:00<02:33,  3.50it/s, now=None]"
          ]
        },
        {
          "output_type": "stream",
          "name": "stdout",
          "text": [
            "Prediction shape: (80, 160, 1)\n",
            "Avg fit shape: (80, 160, 1)\n",
            "Blanks shape: (80, 160, 1)\n",
            "Lane drawn shape: (80, 160, 3)\n",
            "Lane image shape: (544, 960, 3)\n",
            "1/1 [==============================] - 0s 22ms/step\n"
          ]
        },
        {
          "output_type": "stream",
          "name": "stderr",
          "text": [
            "\rt:  59%|█████▉    | 762/1297 [04:00<02:32,  3.50it/s, now=None]"
          ]
        },
        {
          "output_type": "stream",
          "name": "stdout",
          "text": [
            "Prediction shape: (80, 160, 1)\n",
            "Avg fit shape: (80, 160, 1)\n",
            "Blanks shape: (80, 160, 1)\n",
            "Lane drawn shape: (80, 160, 3)\n",
            "Lane image shape: (544, 960, 3)\n",
            "1/1 [==============================] - 0s 18ms/step\n"
          ]
        },
        {
          "output_type": "stream",
          "name": "stderr",
          "text": [
            "\rt:  59%|█████▉    | 763/1297 [04:00<02:32,  3.49it/s, now=None]"
          ]
        },
        {
          "output_type": "stream",
          "name": "stdout",
          "text": [
            "Prediction shape: (80, 160, 1)\n",
            "Avg fit shape: (80, 160, 1)\n",
            "Blanks shape: (80, 160, 1)\n",
            "Lane drawn shape: (80, 160, 3)\n",
            "Lane image shape: (544, 960, 3)\n",
            "1/1 [==============================] - 0s 19ms/step\n"
          ]
        },
        {
          "output_type": "stream",
          "name": "stderr",
          "text": [
            "\rt:  59%|█████▉    | 764/1297 [04:01<02:31,  3.51it/s, now=None]"
          ]
        },
        {
          "output_type": "stream",
          "name": "stdout",
          "text": [
            "Prediction shape: (80, 160, 1)\n",
            "Avg fit shape: (80, 160, 1)\n",
            "Blanks shape: (80, 160, 1)\n",
            "Lane drawn shape: (80, 160, 3)\n",
            "Lane image shape: (544, 960, 3)\n",
            "1/1 [==============================] - 0s 24ms/step\n"
          ]
        },
        {
          "output_type": "stream",
          "name": "stderr",
          "text": [
            "\rt:  59%|█████▉    | 765/1297 [04:01<02:31,  3.51it/s, now=None]"
          ]
        },
        {
          "output_type": "stream",
          "name": "stdout",
          "text": [
            "Prediction shape: (80, 160, 1)\n",
            "Avg fit shape: (80, 160, 1)\n",
            "Blanks shape: (80, 160, 1)\n",
            "Lane drawn shape: (80, 160, 3)\n",
            "Lane image shape: (544, 960, 3)\n",
            "1/1 [==============================] - 0s 18ms/step\n"
          ]
        },
        {
          "output_type": "stream",
          "name": "stderr",
          "text": [
            "\rt:  59%|█████▉    | 766/1297 [04:01<02:31,  3.51it/s, now=None]"
          ]
        },
        {
          "output_type": "stream",
          "name": "stdout",
          "text": [
            "Prediction shape: (80, 160, 1)\n",
            "Avg fit shape: (80, 160, 1)\n",
            "Blanks shape: (80, 160, 1)\n",
            "Lane drawn shape: (80, 160, 3)\n",
            "Lane image shape: (544, 960, 3)\n",
            "1/1 [==============================] - 0s 21ms/step\n"
          ]
        },
        {
          "output_type": "stream",
          "name": "stderr",
          "text": [
            "\rt:  59%|█████▉    | 767/1297 [04:01<02:34,  3.43it/s, now=None]"
          ]
        },
        {
          "output_type": "stream",
          "name": "stdout",
          "text": [
            "Prediction shape: (80, 160, 1)\n",
            "Avg fit shape: (80, 160, 1)\n",
            "Blanks shape: (80, 160, 1)\n",
            "Lane drawn shape: (80, 160, 3)\n",
            "Lane image shape: (544, 960, 3)\n",
            "1/1 [==============================] - 0s 18ms/step\n"
          ]
        },
        {
          "output_type": "stream",
          "name": "stderr",
          "text": [
            "\rt:  59%|█████▉    | 768/1297 [04:02<02:32,  3.47it/s, now=None]"
          ]
        },
        {
          "output_type": "stream",
          "name": "stdout",
          "text": [
            "Prediction shape: (80, 160, 1)\n",
            "Avg fit shape: (80, 160, 1)\n",
            "Blanks shape: (80, 160, 1)\n",
            "Lane drawn shape: (80, 160, 3)\n",
            "Lane image shape: (544, 960, 3)\n",
            "1/1 [==============================] - 0s 18ms/step\n"
          ]
        },
        {
          "output_type": "stream",
          "name": "stderr",
          "text": [
            "\rt:  59%|█████▉    | 769/1297 [04:02<02:30,  3.50it/s, now=None]"
          ]
        },
        {
          "output_type": "stream",
          "name": "stdout",
          "text": [
            "Prediction shape: (80, 160, 1)\n",
            "Avg fit shape: (80, 160, 1)\n",
            "Blanks shape: (80, 160, 1)\n",
            "Lane drawn shape: (80, 160, 3)\n",
            "Lane image shape: (544, 960, 3)\n",
            "1/1 [==============================] - 0s 18ms/step\n"
          ]
        },
        {
          "output_type": "stream",
          "name": "stderr",
          "text": [
            "\rt:  59%|█████▉    | 770/1297 [04:02<02:28,  3.55it/s, now=None]"
          ]
        },
        {
          "output_type": "stream",
          "name": "stdout",
          "text": [
            "Prediction shape: (80, 160, 1)\n",
            "Avg fit shape: (80, 160, 1)\n",
            "Blanks shape: (80, 160, 1)\n",
            "Lane drawn shape: (80, 160, 3)\n",
            "Lane image shape: (544, 960, 3)\n",
            "1/1 [==============================] - 0s 18ms/step\n"
          ]
        },
        {
          "output_type": "stream",
          "name": "stderr",
          "text": [
            "\rt:  59%|█████▉    | 771/1297 [04:03<02:32,  3.45it/s, now=None]"
          ]
        },
        {
          "output_type": "stream",
          "name": "stdout",
          "text": [
            "Prediction shape: (80, 160, 1)\n",
            "Avg fit shape: (80, 160, 1)\n",
            "Blanks shape: (80, 160, 1)\n",
            "Lane drawn shape: (80, 160, 3)\n",
            "Lane image shape: (544, 960, 3)\n",
            "1/1 [==============================] - 0s 18ms/step\n"
          ]
        },
        {
          "output_type": "stream",
          "name": "stderr",
          "text": [
            "\rt:  60%|█████▉    | 772/1297 [04:03<02:33,  3.42it/s, now=None]"
          ]
        },
        {
          "output_type": "stream",
          "name": "stdout",
          "text": [
            "Prediction shape: (80, 160, 1)\n",
            "Avg fit shape: (80, 160, 1)\n",
            "Blanks shape: (80, 160, 1)\n",
            "Lane drawn shape: (80, 160, 3)\n",
            "Lane image shape: (544, 960, 3)\n",
            "1/1 [==============================] - 0s 19ms/step\n"
          ]
        },
        {
          "output_type": "stream",
          "name": "stderr",
          "text": [
            "\rt:  60%|█████▉    | 773/1297 [04:03<02:31,  3.46it/s, now=None]"
          ]
        },
        {
          "output_type": "stream",
          "name": "stdout",
          "text": [
            "Prediction shape: (80, 160, 1)\n",
            "Avg fit shape: (80, 160, 1)\n",
            "Blanks shape: (80, 160, 1)\n",
            "Lane drawn shape: (80, 160, 3)\n",
            "Lane image shape: (544, 960, 3)\n",
            "1/1 [==============================] - 0s 18ms/step\n"
          ]
        },
        {
          "output_type": "stream",
          "name": "stderr",
          "text": [
            "\rt:  60%|█████▉    | 774/1297 [04:03<02:29,  3.51it/s, now=None]"
          ]
        },
        {
          "output_type": "stream",
          "name": "stdout",
          "text": [
            "Prediction shape: (80, 160, 1)\n",
            "Avg fit shape: (80, 160, 1)\n",
            "Blanks shape: (80, 160, 1)\n",
            "Lane drawn shape: (80, 160, 3)\n",
            "Lane image shape: (544, 960, 3)\n",
            "1/1 [==============================] - 0s 18ms/step\n"
          ]
        },
        {
          "output_type": "stream",
          "name": "stderr",
          "text": [
            "\rt:  60%|█████▉    | 775/1297 [04:04<02:32,  3.41it/s, now=None]"
          ]
        },
        {
          "output_type": "stream",
          "name": "stdout",
          "text": [
            "Prediction shape: (80, 160, 1)\n",
            "Avg fit shape: (80, 160, 1)\n",
            "Blanks shape: (80, 160, 1)\n",
            "Lane drawn shape: (80, 160, 3)\n",
            "Lane image shape: (544, 960, 3)\n",
            "1/1 [==============================] - 0s 30ms/step\n"
          ]
        },
        {
          "output_type": "stream",
          "name": "stderr",
          "text": [
            "\rt:  60%|█████▉    | 776/1297 [04:04<02:44,  3.17it/s, now=None]"
          ]
        },
        {
          "output_type": "stream",
          "name": "stdout",
          "text": [
            "Prediction shape: (80, 160, 1)\n",
            "Avg fit shape: (80, 160, 1)\n",
            "Blanks shape: (80, 160, 1)\n",
            "Lane drawn shape: (80, 160, 3)\n",
            "Lane image shape: (544, 960, 3)\n",
            "1/1 [==============================] - 0s 27ms/step\n",
            "Prediction shape: (80, 160, 1)\n",
            "Avg fit shape: (80, 160, 1)\n",
            "Blanks shape: (80, 160, 1)\n",
            "Lane drawn shape: (80, 160, 3)\n",
            "Lane image shape: (544, 960, 3)\n"
          ]
        },
        {
          "output_type": "stream",
          "name": "stderr",
          "text": [
            "\rt:  60%|█████▉    | 777/1297 [04:04<02:59,  2.90it/s, now=None]"
          ]
        },
        {
          "output_type": "stream",
          "name": "stdout",
          "text": [
            "1/1 [==============================] - 0s 33ms/step\n",
            "Prediction shape: (80, 160, 1)"
          ]
        },
        {
          "output_type": "stream",
          "name": "stderr",
          "text": [
            "\rt:  60%|█████▉    | 778/1297 [04:05<03:11,  2.71it/s, now=None]"
          ]
        },
        {
          "output_type": "stream",
          "name": "stdout",
          "text": [
            "\n",
            "Avg fit shape: (80, 160, 1)\n",
            "Blanks shape: (80, 160, 1)\n",
            "Lane drawn shape: (80, 160, 3)\n",
            "Lane image shape: (544, 960, 3)\n",
            "1/1 [==============================] - 0s 46ms/step\n"
          ]
        },
        {
          "output_type": "stream",
          "name": "stderr",
          "text": [
            "\rt:  60%|██████    | 779/1297 [04:05<03:21,  2.57it/s, now=None]"
          ]
        },
        {
          "output_type": "stream",
          "name": "stdout",
          "text": [
            "Prediction shape: (80, 160, 1)\n",
            "Avg fit shape: (80, 160, 1)\n",
            "Blanks shape: (80, 160, 1)\n",
            "Lane drawn shape: (80, 160, 3)\n",
            "Lane image shape: (544, 960, 3)\n",
            "1/1 [==============================] - 0s 35ms/step\n"
          ]
        },
        {
          "output_type": "stream",
          "name": "stderr",
          "text": [
            "\rt:  60%|██████    | 780/1297 [04:06<03:30,  2.46it/s, now=None]"
          ]
        },
        {
          "output_type": "stream",
          "name": "stdout",
          "text": [
            "Prediction shape: (80, 160, 1)\n",
            "Avg fit shape: (80, 160, 1)\n",
            "Blanks shape: (80, 160, 1)\n",
            "Lane drawn shape: (80, 160, 3)\n",
            "Lane image shape: (544, 960, 3)\n",
            "1/1 [==============================] - 0s 44ms/step\n",
            "Prediction shape: (80, 160, 1)\n",
            "Avg fit shape: (80, 160, 1)\n",
            "Blanks shape: (80, 160, 1)\n",
            "Lane drawn shape: (80, 160, 3)\n",
            "Lane image shape: (544, 960, 3)\n"
          ]
        },
        {
          "output_type": "stream",
          "name": "stderr",
          "text": [
            "\rt:  60%|██████    | 781/1297 [04:06<03:32,  2.43it/s, now=None]"
          ]
        },
        {
          "output_type": "stream",
          "name": "stdout",
          "text": [
            "1/1 [==============================] - 0s 34ms/step\n"
          ]
        },
        {
          "output_type": "stream",
          "name": "stderr",
          "text": [
            "\rt:  60%|██████    | 782/1297 [04:07<03:38,  2.36it/s, now=None]"
          ]
        },
        {
          "output_type": "stream",
          "name": "stdout",
          "text": [
            "Prediction shape: (80, 160, 1)\n",
            "Avg fit shape: (80, 160, 1)\n",
            "Blanks shape: (80, 160, 1)\n",
            "Lane drawn shape: (80, 160, 3)\n",
            "Lane image shape: (544, 960, 3)\n",
            "1/1 [==============================] - 0s 33ms/step\n"
          ]
        },
        {
          "output_type": "stream",
          "name": "stderr",
          "text": [
            "\rt:  60%|██████    | 783/1297 [04:07<03:40,  2.33it/s, now=None]"
          ]
        },
        {
          "output_type": "stream",
          "name": "stdout",
          "text": [
            "Prediction shape: (80, 160, 1)\n",
            "Avg fit shape: (80, 160, 1)\n",
            "Blanks shape: (80, 160, 1)\n",
            "Lane drawn shape: (80, 160, 3)\n",
            "Lane image shape: (544, 960, 3)\n",
            "1/1 [==============================] - 0s 35ms/step\n"
          ]
        },
        {
          "output_type": "stream",
          "name": "stderr",
          "text": [
            "\rt:  60%|██████    | 784/1297 [04:08<03:39,  2.33it/s, now=None]"
          ]
        },
        {
          "output_type": "stream",
          "name": "stdout",
          "text": [
            "Prediction shape: (80, 160, 1)\n",
            "Avg fit shape: (80, 160, 1)\n",
            "Blanks shape: (80, 160, 1)\n",
            "Lane drawn shape: (80, 160, 3)\n",
            "Lane image shape: (544, 960, 3)\n",
            "1/1 [==============================] - 0s 27ms/step\n",
            "Prediction shape:"
          ]
        },
        {
          "output_type": "stream",
          "name": "stderr",
          "text": [
            "\rt:  61%|██████    | 785/1297 [04:08<03:41,  2.31it/s, now=None]"
          ]
        },
        {
          "output_type": "stream",
          "name": "stdout",
          "text": [
            " (80, 160, 1)\n",
            "Avg fit shape: (80, 160, 1)\n",
            "Blanks shape: (80, 160, 1)\n",
            "Lane drawn shape: (80, 160, 3)\n",
            "Lane image shape: (544, 960, 3)\n",
            "1/1 [==============================] - 0s 43ms/step\n",
            "Prediction shape: (80, 160, 1)\n",
            "Avg fit shape: (80, 160, 1)\n",
            "Blanks shape: (80, 160, 1)\n",
            "Lane drawn shape: (80, 160, 3)\n",
            "Lane image shape: (544, 960, 3)\n"
          ]
        },
        {
          "output_type": "stream",
          "name": "stderr",
          "text": [
            "\rt:  61%|██████    | 786/1297 [04:08<03:42,  2.30it/s, now=None]"
          ]
        },
        {
          "output_type": "stream",
          "name": "stdout",
          "text": [
            "1/1 [==============================] - 0s 37ms/step\n"
          ]
        },
        {
          "output_type": "stream",
          "name": "stderr",
          "text": [
            "\rt:  61%|██████    | 787/1297 [04:09<03:40,  2.31it/s, now=None]"
          ]
        },
        {
          "output_type": "stream",
          "name": "stdout",
          "text": [
            "Prediction shape: (80, 160, 1)\n",
            "Avg fit shape: (80, 160, 1)\n",
            "Blanks shape: (80, 160, 1)\n",
            "Lane drawn shape: (80, 160, 3)\n",
            "Lane image shape: (544, 960, 3)\n",
            "1/1 [==============================] - 0s 47ms/step\n"
          ]
        },
        {
          "output_type": "stream",
          "name": "stderr",
          "text": [
            "\rt:  61%|██████    | 788/1297 [04:09<03:41,  2.30it/s, now=None]"
          ]
        },
        {
          "output_type": "stream",
          "name": "stdout",
          "text": [
            "Prediction shape: (80, 160, 1)\n",
            "Avg fit shape: (80, 160, 1)\n",
            "Blanks shape: (80, 160, 1)\n",
            "Lane drawn shape: (80, 160, 3)\n",
            "Lane image shape: (544, 960, 3)\n",
            "1/1 [==============================] - 0s 27ms/step\n",
            "Prediction shape: (80, 160, 1)"
          ]
        },
        {
          "output_type": "stream",
          "name": "stderr",
          "text": [
            "\rt:  61%|██████    | 789/1297 [04:10<03:41,  2.30it/s, now=None]"
          ]
        },
        {
          "output_type": "stream",
          "name": "stdout",
          "text": [
            "\n",
            "Avg fit shape: (80, 160, 1)\n",
            "Blanks shape: (80, 160, 1)\n",
            "Lane drawn shape: (80, 160, 3)\n",
            "Lane image shape: (544, 960, 3)\n",
            "1/1 [==============================] - 0s 24ms/step\n"
          ]
        },
        {
          "output_type": "stream",
          "name": "stderr",
          "text": [
            "\rt:  61%|██████    | 790/1297 [04:10<03:23,  2.49it/s, now=None]"
          ]
        },
        {
          "output_type": "stream",
          "name": "stdout",
          "text": [
            "Prediction shape: (80, 160, 1)\n",
            "Avg fit shape: (80, 160, 1)\n",
            "Blanks shape: (80, 160, 1)\n",
            "Lane drawn shape: (80, 160, 3)\n",
            "Lane image shape: (544, 960, 3)\n",
            "1/1 [==============================] - 0s 21ms/step\n"
          ]
        },
        {
          "output_type": "stream",
          "name": "stderr",
          "text": [
            "\rt:  61%|██████    | 791/1297 [04:10<03:10,  2.66it/s, now=None]"
          ]
        },
        {
          "output_type": "stream",
          "name": "stdout",
          "text": [
            "Prediction shape: (80, 160, 1)\n",
            "Avg fit shape: (80, 160, 1)\n",
            "Blanks shape: (80, 160, 1)\n",
            "Lane drawn shape: (80, 160, 3)\n",
            "Lane image shape: (544, 960, 3)\n",
            "1/1 [==============================] - 0s 19ms/step\n"
          ]
        },
        {
          "output_type": "stream",
          "name": "stderr",
          "text": [
            "\rt:  61%|██████    | 792/1297 [04:11<02:55,  2.87it/s, now=None]"
          ]
        },
        {
          "output_type": "stream",
          "name": "stdout",
          "text": [
            "Prediction shape: (80, 160, 1)\n",
            "Avg fit shape: (80, 160, 1)\n",
            "Blanks shape: (80, 160, 1)\n",
            "Lane drawn shape: (80, 160, 3)\n",
            "Lane image shape: (544, 960, 3)\n",
            "1/1 [==============================] - 0s 19ms/step\n"
          ]
        },
        {
          "output_type": "stream",
          "name": "stderr",
          "text": [
            "\rt:  61%|██████    | 793/1297 [04:11<02:44,  3.07it/s, now=None]"
          ]
        },
        {
          "output_type": "stream",
          "name": "stdout",
          "text": [
            "Prediction shape: (80, 160, 1)\n",
            "Avg fit shape: (80, 160, 1)\n",
            "Blanks shape: (80, 160, 1)\n",
            "Lane drawn shape: (80, 160, 3)\n",
            "Lane image shape: (544, 960, 3)\n",
            "1/1 [==============================] - 0s 20ms/step\n"
          ]
        },
        {
          "output_type": "stream",
          "name": "stderr",
          "text": [
            "\rt:  61%|██████    | 794/1297 [04:11<02:37,  3.19it/s, now=None]"
          ]
        },
        {
          "output_type": "stream",
          "name": "stdout",
          "text": [
            "Prediction shape: (80, 160, 1)\n",
            "Avg fit shape: (80, 160, 1)\n",
            "Blanks shape: (80, 160, 1)\n",
            "Lane drawn shape: (80, 160, 3)\n",
            "Lane image shape: (544, 960, 3)\n",
            "1/1 [==============================] - 0s 19ms/step\n"
          ]
        },
        {
          "output_type": "stream",
          "name": "stderr",
          "text": [
            "\rt:  61%|██████▏   | 795/1297 [04:11<02:30,  3.33it/s, now=None]"
          ]
        },
        {
          "output_type": "stream",
          "name": "stdout",
          "text": [
            "Prediction shape: (80, 160, 1)\n",
            "Avg fit shape: (80, 160, 1)\n",
            "Blanks shape: (80, 160, 1)\n",
            "Lane drawn shape: (80, 160, 3)\n",
            "Lane image shape: (544, 960, 3)\n",
            "1/1 [==============================] - 0s 21ms/step\n"
          ]
        },
        {
          "output_type": "stream",
          "name": "stderr",
          "text": [
            "\rt:  61%|██████▏   | 796/1297 [04:12<02:25,  3.44it/s, now=None]"
          ]
        },
        {
          "output_type": "stream",
          "name": "stdout",
          "text": [
            "Prediction shape: (80, 160, 1)\n",
            "Avg fit shape: (80, 160, 1)\n",
            "Blanks shape: (80, 160, 1)\n",
            "Lane drawn shape: (80, 160, 3)\n",
            "Lane image shape: (544, 960, 3)\n",
            "1/1 [==============================] - 0s 19ms/step\n"
          ]
        },
        {
          "output_type": "stream",
          "name": "stderr",
          "text": [
            "\rt:  61%|██████▏   | 797/1297 [04:12<02:23,  3.49it/s, now=None]"
          ]
        },
        {
          "output_type": "stream",
          "name": "stdout",
          "text": [
            "Prediction shape: (80, 160, 1)\n",
            "Avg fit shape: (80, 160, 1)\n",
            "Blanks shape: (80, 160, 1)\n",
            "Lane drawn shape: (80, 160, 3)\n",
            "Lane image shape: (544, 960, 3)\n",
            "1/1 [==============================] - 0s 19ms/step\n"
          ]
        },
        {
          "output_type": "stream",
          "name": "stderr",
          "text": [
            "\rt:  62%|██████▏   | 798/1297 [04:12<02:21,  3.52it/s, now=None]"
          ]
        },
        {
          "output_type": "stream",
          "name": "stdout",
          "text": [
            "Prediction shape: (80, 160, 1)\n",
            "Avg fit shape: (80, 160, 1)\n",
            "Blanks shape: (80, 160, 1)\n",
            "Lane drawn shape: (80, 160, 3)\n",
            "Lane image shape: (544, 960, 3)\n",
            "1/1 [==============================] - 0s 19ms/step\n"
          ]
        },
        {
          "output_type": "stream",
          "name": "stderr",
          "text": [
            "\rt:  62%|██████▏   | 799/1297 [04:13<02:23,  3.48it/s, now=None]"
          ]
        },
        {
          "output_type": "stream",
          "name": "stdout",
          "text": [
            "Prediction shape: (80, 160, 1)\n",
            "Avg fit shape: (80, 160, 1)\n",
            "Blanks shape: (80, 160, 1)\n",
            "Lane drawn shape: (80, 160, 3)\n",
            "Lane image shape: (544, 960, 3)\n",
            "1/1 [==============================] - 0s 20ms/step\n"
          ]
        },
        {
          "output_type": "stream",
          "name": "stderr",
          "text": [
            "\rt:  62%|██████▏   | 800/1297 [04:13<02:25,  3.42it/s, now=None]"
          ]
        },
        {
          "output_type": "stream",
          "name": "stdout",
          "text": [
            "Prediction shape: (80, 160, 1)\n",
            "Avg fit shape: (80, 160, 1)\n",
            "Blanks shape: (80, 160, 1)\n",
            "Lane drawn shape: (80, 160, 3)\n",
            "Lane image shape: (544, 960, 3)\n",
            "1/1 [==============================] - 0s 19ms/step\n"
          ]
        },
        {
          "output_type": "stream",
          "name": "stderr",
          "text": [
            "\rt:  62%|██████▏   | 801/1297 [04:13<02:23,  3.45it/s, now=None]"
          ]
        },
        {
          "output_type": "stream",
          "name": "stdout",
          "text": [
            "Prediction shape: (80, 160, 1)\n",
            "Avg fit shape: (80, 160, 1)\n",
            "Blanks shape: (80, 160, 1)\n",
            "Lane drawn shape: (80, 160, 3)\n",
            "Lane image shape: (544, 960, 3)\n",
            "1/1 [==============================] - 0s 20ms/step\n"
          ]
        },
        {
          "output_type": "stream",
          "name": "stderr",
          "text": [
            "\rt:  62%|██████▏   | 802/1297 [04:13<02:21,  3.51it/s, now=None]"
          ]
        },
        {
          "output_type": "stream",
          "name": "stdout",
          "text": [
            "Prediction shape: (80, 160, 1)\n",
            "Avg fit shape: (80, 160, 1)\n",
            "Blanks shape: (80, 160, 1)\n",
            "Lane drawn shape: (80, 160, 3)\n",
            "Lane image shape: (544, 960, 3)\n",
            "1/1 [==============================] - 0s 20ms/step\n"
          ]
        },
        {
          "output_type": "stream",
          "name": "stderr",
          "text": [
            "\rt:  62%|██████▏   | 803/1297 [04:14<02:22,  3.46it/s, now=None]"
          ]
        },
        {
          "output_type": "stream",
          "name": "stdout",
          "text": [
            "Prediction shape: (80, 160, 1)\n",
            "Avg fit shape: (80, 160, 1)\n",
            "Blanks shape: (80, 160, 1)\n",
            "Lane drawn shape: (80, 160, 3)\n",
            "Lane image shape: (544, 960, 3)\n",
            "1/1 [==============================] - 0s 19ms/step\n"
          ]
        },
        {
          "output_type": "stream",
          "name": "stderr",
          "text": [
            "\rt:  62%|██████▏   | 804/1297 [04:14<02:24,  3.42it/s, now=None]"
          ]
        },
        {
          "output_type": "stream",
          "name": "stdout",
          "text": [
            "Prediction shape: (80, 160, 1)\n",
            "Avg fit shape: (80, 160, 1)\n",
            "Blanks shape: (80, 160, 1)\n",
            "Lane drawn shape: (80, 160, 3)\n",
            "Lane image shape: (544, 960, 3)\n",
            "1/1 [==============================] - 0s 24ms/step\n"
          ]
        },
        {
          "output_type": "stream",
          "name": "stderr",
          "text": [
            "\rt:  62%|██████▏   | 805/1297 [04:14<02:22,  3.46it/s, now=None]"
          ]
        },
        {
          "output_type": "stream",
          "name": "stdout",
          "text": [
            "Prediction shape: (80, 160, 1)\n",
            "Avg fit shape: (80, 160, 1)\n",
            "Blanks shape: (80, 160, 1)\n",
            "Lane drawn shape: (80, 160, 3)\n",
            "Lane image shape: (544, 960, 3)\n",
            "1/1 [==============================] - 0s 18ms/step\n"
          ]
        },
        {
          "output_type": "stream",
          "name": "stderr",
          "text": [
            "\rt:  62%|██████▏   | 806/1297 [04:15<02:22,  3.45it/s, now=None]"
          ]
        },
        {
          "output_type": "stream",
          "name": "stdout",
          "text": [
            "Prediction shape: (80, 160, 1)\n",
            "Avg fit shape: (80, 160, 1)\n",
            "Blanks shape: (80, 160, 1)\n",
            "Lane drawn shape: (80, 160, 3)\n",
            "Lane image shape: (544, 960, 3)\n",
            "1/1 [==============================] - 0s 18ms/step\n"
          ]
        },
        {
          "output_type": "stream",
          "name": "stderr",
          "text": [
            "\rt:  62%|██████▏   | 807/1297 [04:15<02:24,  3.39it/s, now=None]"
          ]
        },
        {
          "output_type": "stream",
          "name": "stdout",
          "text": [
            "Prediction shape: (80, 160, 1)\n",
            "Avg fit shape: (80, 160, 1)\n",
            "Blanks shape: (80, 160, 1)\n",
            "Lane drawn shape: (80, 160, 3)\n",
            "Lane image shape: (544, 960, 3)\n",
            "1/1 [==============================] - 0s 19ms/step\n"
          ]
        },
        {
          "output_type": "stream",
          "name": "stderr",
          "text": [
            "\rt:  62%|██████▏   | 808/1297 [04:15<02:27,  3.31it/s, now=None]"
          ]
        },
        {
          "output_type": "stream",
          "name": "stdout",
          "text": [
            "Prediction shape: (80, 160, 1)\n",
            "Avg fit shape: (80, 160, 1)\n",
            "Blanks shape: (80, 160, 1)\n",
            "Lane drawn shape: (80, 160, 3)\n",
            "Lane image shape: (544, 960, 3)\n",
            "1/1 [==============================] - 0s 18ms/step\n"
          ]
        },
        {
          "output_type": "stream",
          "name": "stderr",
          "text": [
            "\rt:  62%|██████▏   | 809/1297 [04:16<02:26,  3.34it/s, now=None]"
          ]
        },
        {
          "output_type": "stream",
          "name": "stdout",
          "text": [
            "Prediction shape: (80, 160, 1)\n",
            "Avg fit shape: (80, 160, 1)\n",
            "Blanks shape: (80, 160, 1)\n",
            "Lane drawn shape: (80, 160, 3)\n",
            "Lane image shape: (544, 960, 3)\n",
            "1/1 [==============================] - 0s 19ms/step\n"
          ]
        },
        {
          "output_type": "stream",
          "name": "stderr",
          "text": [
            "\rt:  62%|██████▏   | 810/1297 [04:16<02:22,  3.42it/s, now=None]"
          ]
        },
        {
          "output_type": "stream",
          "name": "stdout",
          "text": [
            "Prediction shape: (80, 160, 1)\n",
            "Avg fit shape: (80, 160, 1)\n",
            "Blanks shape: (80, 160, 1)\n",
            "Lane drawn shape: (80, 160, 3)\n",
            "Lane image shape: (544, 960, 3)\n",
            "1/1 [==============================] - 0s 19ms/step\n"
          ]
        },
        {
          "output_type": "stream",
          "name": "stderr",
          "text": [
            "\rt:  63%|██████▎   | 811/1297 [04:16<02:20,  3.47it/s, now=None]"
          ]
        },
        {
          "output_type": "stream",
          "name": "stdout",
          "text": [
            "Prediction shape: (80, 160, 1)\n",
            "Avg fit shape: (80, 160, 1)\n",
            "Blanks shape: (80, 160, 1)\n",
            "Lane drawn shape: (80, 160, 3)\n",
            "Lane image shape: (544, 960, 3)\n",
            "1/1 [==============================] - 0s 19ms/step\n"
          ]
        },
        {
          "output_type": "stream",
          "name": "stderr",
          "text": [
            "\rt:  63%|██████▎   | 812/1297 [04:16<02:22,  3.41it/s, now=None]"
          ]
        },
        {
          "output_type": "stream",
          "name": "stdout",
          "text": [
            "Prediction shape: (80, 160, 1)\n",
            "Avg fit shape: (80, 160, 1)\n",
            "Blanks shape: (80, 160, 1)\n",
            "Lane drawn shape: (80, 160, 3)\n",
            "Lane image shape: (544, 960, 3)\n",
            "1/1 [==============================] - 0s 18ms/step\n"
          ]
        },
        {
          "output_type": "stream",
          "name": "stderr",
          "text": [
            "\rt:  63%|██████▎   | 813/1297 [04:17<02:18,  3.50it/s, now=None]"
          ]
        },
        {
          "output_type": "stream",
          "name": "stdout",
          "text": [
            "Prediction shape: (80, 160, 1)\n",
            "Avg fit shape: (80, 160, 1)\n",
            "Blanks shape: (80, 160, 1)\n",
            "Lane drawn shape: (80, 160, 3)\n",
            "Lane image shape: (544, 960, 3)\n",
            "1/1 [==============================] - 0s 18ms/step\n"
          ]
        },
        {
          "output_type": "stream",
          "name": "stderr",
          "text": [
            "\rt:  63%|██████▎   | 814/1297 [04:17<02:14,  3.58it/s, now=None]"
          ]
        },
        {
          "output_type": "stream",
          "name": "stdout",
          "text": [
            "Prediction shape: (80, 160, 1)\n",
            "Avg fit shape: (80, 160, 1)\n",
            "Blanks shape: (80, 160, 1)\n",
            "Lane drawn shape: (80, 160, 3)\n",
            "Lane image shape: (544, 960, 3)\n",
            "1/1 [==============================] - 0s 18ms/step\n"
          ]
        },
        {
          "output_type": "stream",
          "name": "stderr",
          "text": [
            "\rt:  63%|██████▎   | 815/1297 [04:17<02:15,  3.56it/s, now=None]"
          ]
        },
        {
          "output_type": "stream",
          "name": "stdout",
          "text": [
            "Prediction shape: (80, 160, 1)\n",
            "Avg fit shape: (80, 160, 1)\n",
            "Blanks shape: (80, 160, 1)\n",
            "Lane drawn shape: (80, 160, 3)\n",
            "Lane image shape: (544, 960, 3)\n",
            "1/1 [==============================] - 0s 18ms/step\n"
          ]
        },
        {
          "output_type": "stream",
          "name": "stderr",
          "text": [
            "\rt:  63%|██████▎   | 816/1297 [04:18<02:15,  3.54it/s, now=None]"
          ]
        },
        {
          "output_type": "stream",
          "name": "stdout",
          "text": [
            "Prediction shape: (80, 160, 1)\n",
            "Avg fit shape: (80, 160, 1)\n",
            "Blanks shape: (80, 160, 1)\n",
            "Lane drawn shape: (80, 160, 3)\n",
            "Lane image shape: (544, 960, 3)\n",
            "1/1 [==============================] - 0s 19ms/step\n"
          ]
        },
        {
          "output_type": "stream",
          "name": "stderr",
          "text": [
            "\rt:  63%|██████▎   | 817/1297 [04:18<02:13,  3.61it/s, now=None]"
          ]
        },
        {
          "output_type": "stream",
          "name": "stdout",
          "text": [
            "Prediction shape: (80, 160, 1)\n",
            "Avg fit shape: (80, 160, 1)\n",
            "Blanks shape: (80, 160, 1)\n",
            "Lane drawn shape: (80, 160, 3)\n",
            "Lane image shape: (544, 960, 3)\n",
            "1/1 [==============================] - 0s 19ms/step\n"
          ]
        },
        {
          "output_type": "stream",
          "name": "stderr",
          "text": [
            "\rt:  63%|██████▎   | 818/1297 [04:18<02:11,  3.65it/s, now=None]"
          ]
        },
        {
          "output_type": "stream",
          "name": "stdout",
          "text": [
            "Prediction shape: (80, 160, 1)\n",
            "Avg fit shape: (80, 160, 1)\n",
            "Blanks shape: (80, 160, 1)\n",
            "Lane drawn shape: (80, 160, 3)\n",
            "Lane image shape: (544, 960, 3)\n",
            "1/1 [==============================] - 0s 19ms/step\n"
          ]
        },
        {
          "output_type": "stream",
          "name": "stderr",
          "text": [
            "\rt:  63%|██████▎   | 819/1297 [04:18<02:17,  3.48it/s, now=None]"
          ]
        },
        {
          "output_type": "stream",
          "name": "stdout",
          "text": [
            "Prediction shape: (80, 160, 1)\n",
            "Avg fit shape: (80, 160, 1)\n",
            "Blanks shape: (80, 160, 1)\n",
            "Lane drawn shape: (80, 160, 3)\n",
            "Lane image shape: (544, 960, 3)\n",
            "1/1 [==============================] - 0s 19ms/step\n"
          ]
        },
        {
          "output_type": "stream",
          "name": "stderr",
          "text": [
            "\rt:  63%|██████▎   | 820/1297 [04:19<02:15,  3.52it/s, now=None]"
          ]
        },
        {
          "output_type": "stream",
          "name": "stdout",
          "text": [
            "Prediction shape: (80, 160, 1)\n",
            "Avg fit shape: (80, 160, 1)\n",
            "Blanks shape: (80, 160, 1)\n",
            "Lane drawn shape: (80, 160, 3)\n",
            "Lane image shape: (544, 960, 3)\n",
            "1/1 [==============================] - 0s 18ms/step\n"
          ]
        },
        {
          "output_type": "stream",
          "name": "stderr",
          "text": [
            "\rt:  63%|██████▎   | 821/1297 [04:19<02:13,  3.58it/s, now=None]"
          ]
        },
        {
          "output_type": "stream",
          "name": "stdout",
          "text": [
            "Prediction shape: (80, 160, 1)\n",
            "Avg fit shape: (80, 160, 1)\n",
            "Blanks shape: (80, 160, 1)\n",
            "Lane drawn shape: (80, 160, 3)\n",
            "Lane image shape: (544, 960, 3)\n",
            "1/1 [==============================] - 0s 19ms/step\n"
          ]
        },
        {
          "output_type": "stream",
          "name": "stderr",
          "text": [
            "\rt:  63%|██████▎   | 822/1297 [04:19<02:11,  3.61it/s, now=None]"
          ]
        },
        {
          "output_type": "stream",
          "name": "stdout",
          "text": [
            "Prediction shape: (80, 160, 1)\n",
            "Avg fit shape: (80, 160, 1)\n",
            "Blanks shape: (80, 160, 1)\n",
            "Lane drawn shape: (80, 160, 3)\n",
            "Lane image shape: (544, 960, 3)\n",
            "1/1 [==============================] - 0s 25ms/step\n"
          ]
        },
        {
          "output_type": "stream",
          "name": "stderr",
          "text": [
            "\rt:  63%|██████▎   | 823/1297 [04:19<02:15,  3.49it/s, now=None]"
          ]
        },
        {
          "output_type": "stream",
          "name": "stdout",
          "text": [
            "Prediction shape: (80, 160, 1)\n",
            "Avg fit shape: (80, 160, 1)\n",
            "Blanks shape: (80, 160, 1)\n",
            "Lane drawn shape: (80, 160, 3)\n",
            "Lane image shape: (544, 960, 3)\n",
            "1/1 [==============================] - 0s 20ms/step\n"
          ]
        },
        {
          "output_type": "stream",
          "name": "stderr",
          "text": [
            "\rt:  64%|██████▎   | 824/1297 [04:20<02:19,  3.40it/s, now=None]"
          ]
        },
        {
          "output_type": "stream",
          "name": "stdout",
          "text": [
            "Prediction shape: (80, 160, 1)\n",
            "Avg fit shape: (80, 160, 1)\n",
            "Blanks shape: (80, 160, 1)\n",
            "Lane drawn shape: (80, 160, 3)\n",
            "Lane image shape: (544, 960, 3)\n",
            "1/1 [==============================] - 0s 32ms/step\n",
            "Prediction shape: (80, 160, 1)\n",
            "Avg fit shape: (80, 160, 1)\n",
            "Blanks shape: (80, 160, 1)\n",
            "Lane drawn shape: (80, 160, 3)\n",
            "Lane image shape: (544, 960, 3)\n"
          ]
        },
        {
          "output_type": "stream",
          "name": "stderr",
          "text": [
            "\rt:  64%|██████▎   | 825/1297 [04:20<02:29,  3.15it/s, now=None]"
          ]
        },
        {
          "output_type": "stream",
          "name": "stdout",
          "text": [
            "1/1 [==============================] - 0s 31ms/step\n",
            "Prediction shape: (80, 160, 1)\n",
            "Avg fit shape: (80, 160, 1)\n",
            "Blanks shape: (80, 160, 1)\n",
            "Lane drawn shape: (80, 160, 3)\n",
            "Lane image shape: (544, 960, 3)\n"
          ]
        },
        {
          "output_type": "stream",
          "name": "stderr",
          "text": [
            "\rt:  64%|██████▎   | 826/1297 [04:21<02:40,  2.94it/s, now=None]"
          ]
        },
        {
          "output_type": "stream",
          "name": "stdout",
          "text": [
            "1/1 [==============================] - 0s 42ms/step\n",
            "Prediction shape: (80, 160, 1)\n",
            "Avg fit shape:"
          ]
        },
        {
          "output_type": "stream",
          "name": "stderr",
          "text": [
            "\rt:  64%|██████▍   | 827/1297 [04:21<02:54,  2.69it/s, now=None]"
          ]
        },
        {
          "output_type": "stream",
          "name": "stdout",
          "text": [
            " (80, 160, 1)\n",
            "Blanks shape: (80, 160, 1)\n",
            "Lane drawn shape: (80, 160, 3)\n",
            "Lane image shape: (544, 960, 3)\n",
            "1/1 [==============================] - 0s 38ms/step\n"
          ]
        },
        {
          "output_type": "stream",
          "name": "stderr",
          "text": [
            "\rt:  64%|██████▍   | 828/1297 [04:21<03:07,  2.50it/s, now=None]"
          ]
        },
        {
          "output_type": "stream",
          "name": "stdout",
          "text": [
            "Prediction shape: (80, 160, 1)\n",
            "Avg fit shape: (80, 160, 1)\n",
            "Blanks shape: (80, 160, 1)\n",
            "Lane drawn shape: (80, 160, 3)\n",
            "Lane image shape: (544, 960, 3)\n",
            "1/1 [==============================] - 0s 41ms/step\n"
          ]
        },
        {
          "output_type": "stream",
          "name": "stderr",
          "text": [
            "\rt:  64%|██████▍   | 829/1297 [04:22<03:13,  2.42it/s, now=None]"
          ]
        },
        {
          "output_type": "stream",
          "name": "stdout",
          "text": [
            "Prediction shape: (80, 160, 1)\n",
            "Avg fit shape: (80, 160, 1)\n",
            "Blanks shape: (80, 160, 1)\n",
            "Lane drawn shape: (80, 160, 3)\n",
            "Lane image shape: (544, 960, 3)\n",
            "1/1 [==============================] - 0s 34ms/step\n"
          ]
        },
        {
          "output_type": "stream",
          "name": "stderr",
          "text": [
            "\rt:  64%|██████▍   | 830/1297 [04:22<03:14,  2.40it/s, now=None]"
          ]
        },
        {
          "output_type": "stream",
          "name": "stdout",
          "text": [
            "Prediction shape: (80, 160, 1)\n",
            "Avg fit shape: (80, 160, 1)\n",
            "Blanks shape: (80, 160, 1)\n",
            "Lane drawn shape: (80, 160, 3)\n",
            "Lane image shape: (544, 960, 3)\n",
            "1/1 [==============================] - 0s 43ms/step\n",
            "Prediction shape: (80, 160, 1)\n",
            "Avg fit shape: (80, 160, 1)"
          ]
        },
        {
          "output_type": "stream",
          "name": "stderr",
          "text": [
            "\rt:  64%|██████▍   | 831/1297 [04:23<03:16,  2.37it/s, now=None]"
          ]
        },
        {
          "output_type": "stream",
          "name": "stdout",
          "text": [
            "\n",
            "Blanks shape: (80, 160, 1)\n",
            "Lane drawn shape: (80, 160, 3)\n",
            "Lane image shape: (544, 960, 3)\n",
            "1/1 [==============================] - 0s 47ms/step\n"
          ]
        },
        {
          "output_type": "stream",
          "name": "stderr",
          "text": [
            "\rt:  64%|██████▍   | 832/1297 [04:23<03:22,  2.30it/s, now=None]"
          ]
        },
        {
          "output_type": "stream",
          "name": "stdout",
          "text": [
            "Prediction shape: (80, 160, 1)\n",
            "Avg fit shape: (80, 160, 1)\n",
            "Blanks shape: (80, 160, 1)\n",
            "Lane drawn shape: (80, 160, 3)\n",
            "Lane image shape: (544, 960, 3)\n",
            "1/1 [==============================] - 0s 39ms/step\n"
          ]
        },
        {
          "output_type": "stream",
          "name": "stderr",
          "text": [
            "\rt:  64%|██████▍   | 833/1297 [04:24<03:23,  2.28it/s, now=None]"
          ]
        },
        {
          "output_type": "stream",
          "name": "stdout",
          "text": [
            "Prediction shape: (80, 160, 1)\n",
            "Avg fit shape: (80, 160, 1)\n",
            "Blanks shape: (80, 160, 1)\n",
            "Lane drawn shape: (80, 160, 3)\n",
            "Lane image shape: (544, 960, 3)\n",
            "1/1 [==============================] - 0s 28ms/step\n",
            "Prediction shape:"
          ]
        },
        {
          "output_type": "stream",
          "name": "stderr",
          "text": [
            "\rt:  64%|██████▍   | 834/1297 [04:24<03:18,  2.33it/s, now=None]"
          ]
        },
        {
          "output_type": "stream",
          "name": "stdout",
          "text": [
            " (80, 160, 1)\n",
            "Avg fit shape: (80, 160, 1)\n",
            "Blanks shape: (80, 160, 1)\n",
            "Lane drawn shape: (80, 160, 3)\n",
            "Lane image shape: (544, 960, 3)\n",
            "1/1 [==============================] - 0s 44ms/step\n",
            "Prediction shape: (80, 160, 1)\n",
            "Avg fit shape: (80, 160, 1)\n",
            "Blanks shape: (80, 160, 1)\n",
            "Lane drawn shape:"
          ]
        },
        {
          "output_type": "stream",
          "name": "stderr",
          "text": [
            "\rt:  64%|██████▍   | 835/1297 [04:25<03:18,  2.33it/s, now=None]"
          ]
        },
        {
          "output_type": "stream",
          "name": "stdout",
          "text": [
            " (80, 160, 3)\n",
            "Lane image shape: (544, 960, 3)\n",
            "1/1 [==============================] - 0s 38ms/step\n"
          ]
        },
        {
          "output_type": "stream",
          "name": "stderr",
          "text": [
            "\rt:  64%|██████▍   | 836/1297 [04:25<03:20,  2.30it/s, now=None]"
          ]
        },
        {
          "output_type": "stream",
          "name": "stdout",
          "text": [
            "Prediction shape: (80, 160, 1)\n",
            "Avg fit shape: (80, 160, 1)\n",
            "Blanks shape: (80, 160, 1)\n",
            "Lane drawn shape: (80, 160, 3)\n",
            "Lane image shape: (544, 960, 3)\n",
            "1/1 [==============================] - 0s 30ms/step\n"
          ]
        },
        {
          "output_type": "stream",
          "name": "stderr",
          "text": [
            "\rt:  65%|██████▍   | 837/1297 [04:25<03:20,  2.30it/s, now=None]"
          ]
        },
        {
          "output_type": "stream",
          "name": "stdout",
          "text": [
            "Prediction shape: (80, 160, 1)\n",
            "Avg fit shape: (80, 160, 1)\n",
            "Blanks shape: (80, 160, 1)\n",
            "Lane drawn shape: (80, 160, 3)\n",
            "Lane image shape: (544, 960, 3)\n",
            "1/1 [==============================] - 0s 35ms/step\n"
          ]
        },
        {
          "output_type": "stream",
          "name": "stderr",
          "text": [
            "\rt:  65%|██████▍   | 838/1297 [04:26<03:08,  2.44it/s, now=None]"
          ]
        },
        {
          "output_type": "stream",
          "name": "stdout",
          "text": [
            "Prediction shape: (80, 160, 1)\n",
            "Avg fit shape: (80, 160, 1)\n",
            "Blanks shape: (80, 160, 1)\n",
            "Lane drawn shape: (80, 160, 3)\n",
            "Lane image shape: (544, 960, 3)\n",
            "1/1 [==============================] - 0s 19ms/step\n"
          ]
        },
        {
          "output_type": "stream",
          "name": "stderr",
          "text": [
            "\rt:  65%|██████▍   | 839/1297 [04:26<02:50,  2.69it/s, now=None]"
          ]
        },
        {
          "output_type": "stream",
          "name": "stdout",
          "text": [
            "Prediction shape: (80, 160, 1)\n",
            "Avg fit shape: (80, 160, 1)\n",
            "Blanks shape: (80, 160, 1)\n",
            "Lane drawn shape: (80, 160, 3)\n",
            "Lane image shape: (544, 960, 3)\n",
            "1/1 [==============================] - 0s 20ms/step\n"
          ]
        },
        {
          "output_type": "stream",
          "name": "stderr",
          "text": [
            "\rt:  65%|██████▍   | 840/1297 [04:26<02:35,  2.94it/s, now=None]"
          ]
        },
        {
          "output_type": "stream",
          "name": "stdout",
          "text": [
            "Prediction shape: (80, 160, 1)\n",
            "Avg fit shape: (80, 160, 1)\n",
            "Blanks shape: (80, 160, 1)\n",
            "Lane drawn shape: (80, 160, 3)\n",
            "Lane image shape: (544, 960, 3)\n",
            "1/1 [==============================] - 0s 19ms/step\n"
          ]
        },
        {
          "output_type": "stream",
          "name": "stderr",
          "text": [
            "\rt:  65%|██████▍   | 841/1297 [04:27<02:28,  3.08it/s, now=None]"
          ]
        },
        {
          "output_type": "stream",
          "name": "stdout",
          "text": [
            "Prediction shape: (80, 160, 1)\n",
            "Avg fit shape: (80, 160, 1)\n",
            "Blanks shape: (80, 160, 1)\n",
            "Lane drawn shape: (80, 160, 3)\n",
            "Lane image shape: (544, 960, 3)\n",
            "1/1 [==============================] - 0s 19ms/step\n"
          ]
        },
        {
          "output_type": "stream",
          "name": "stderr",
          "text": [
            "\rt:  65%|██████▍   | 842/1297 [04:27<02:23,  3.18it/s, now=None]"
          ]
        },
        {
          "output_type": "stream",
          "name": "stdout",
          "text": [
            "Prediction shape: (80, 160, 1)\n",
            "Avg fit shape: (80, 160, 1)\n",
            "Blanks shape: (80, 160, 1)\n",
            "Lane drawn shape: (80, 160, 3)\n",
            "Lane image shape: (544, 960, 3)\n",
            "1/1 [==============================] - 0s 18ms/step\n"
          ]
        },
        {
          "output_type": "stream",
          "name": "stderr",
          "text": [
            "\rt:  65%|██████▍   | 843/1297 [04:27<02:16,  3.32it/s, now=None]"
          ]
        },
        {
          "output_type": "stream",
          "name": "stdout",
          "text": [
            "Prediction shape: (80, 160, 1)\n",
            "Avg fit shape: (80, 160, 1)\n",
            "Blanks shape: (80, 160, 1)\n",
            "Lane drawn shape: (80, 160, 3)\n",
            "Lane image shape: (544, 960, 3)\n",
            "1/1 [==============================] - 0s 18ms/step\n"
          ]
        },
        {
          "output_type": "stream",
          "name": "stderr",
          "text": [
            "\rt:  65%|██████▌   | 844/1297 [04:27<02:13,  3.40it/s, now=None]"
          ]
        },
        {
          "output_type": "stream",
          "name": "stdout",
          "text": [
            "Prediction shape: (80, 160, 1)\n",
            "Avg fit shape: (80, 160, 1)\n",
            "Blanks shape: (80, 160, 1)\n",
            "Lane drawn shape: (80, 160, 3)\n",
            "Lane image shape: (544, 960, 3)\n",
            "1/1 [==============================] - 0s 18ms/step\n"
          ]
        },
        {
          "output_type": "stream",
          "name": "stderr",
          "text": [
            "\rt:  65%|██████▌   | 845/1297 [04:28<02:17,  3.28it/s, now=None]"
          ]
        },
        {
          "output_type": "stream",
          "name": "stdout",
          "text": [
            "Prediction shape: (80, 160, 1)\n",
            "Avg fit shape: (80, 160, 1)\n",
            "Blanks shape: (80, 160, 1)\n",
            "Lane drawn shape: (80, 160, 3)\n",
            "Lane image shape: (544, 960, 3)\n",
            "1/1 [==============================] - 0s 18ms/step\n"
          ]
        },
        {
          "output_type": "stream",
          "name": "stderr",
          "text": [
            "\rt:  65%|██████▌   | 846/1297 [04:28<02:13,  3.37it/s, now=None]"
          ]
        },
        {
          "output_type": "stream",
          "name": "stdout",
          "text": [
            "Prediction shape: (80, 160, 1)\n",
            "Avg fit shape: (80, 160, 1)\n",
            "Blanks shape: (80, 160, 1)\n",
            "Lane drawn shape: (80, 160, 3)\n",
            "Lane image shape: (544, 960, 3)\n",
            "1/1 [==============================] - 0s 18ms/step\n"
          ]
        },
        {
          "output_type": "stream",
          "name": "stderr",
          "text": [
            "\rt:  65%|██████▌   | 847/1297 [04:28<02:10,  3.44it/s, now=None]"
          ]
        },
        {
          "output_type": "stream",
          "name": "stdout",
          "text": [
            "Prediction shape: (80, 160, 1)\n",
            "Avg fit shape: (80, 160, 1)\n",
            "Blanks shape: (80, 160, 1)\n",
            "Lane drawn shape: (80, 160, 3)\n",
            "Lane image shape: (544, 960, 3)\n",
            "1/1 [==============================] - 0s 18ms/step\n"
          ]
        },
        {
          "output_type": "stream",
          "name": "stderr",
          "text": [
            "\rt:  65%|██████▌   | 848/1297 [04:29<02:06,  3.54it/s, now=None]"
          ]
        },
        {
          "output_type": "stream",
          "name": "stdout",
          "text": [
            "Prediction shape: (80, 160, 1)\n",
            "Avg fit shape: (80, 160, 1)\n",
            "Blanks shape: (80, 160, 1)\n",
            "Lane drawn shape: (80, 160, 3)\n",
            "Lane image shape: (544, 960, 3)\n",
            "1/1 [==============================] - 0s 19ms/step\n"
          ]
        },
        {
          "output_type": "stream",
          "name": "stderr",
          "text": [
            "\rt:  65%|██████▌   | 849/1297 [04:29<02:09,  3.46it/s, now=None]"
          ]
        },
        {
          "output_type": "stream",
          "name": "stdout",
          "text": [
            "Prediction shape: (80, 160, 1)\n",
            "Avg fit shape: (80, 160, 1)\n",
            "Blanks shape: (80, 160, 1)\n",
            "Lane drawn shape: (80, 160, 3)\n",
            "Lane image shape: (544, 960, 3)\n",
            "1/1 [==============================] - 0s 18ms/step\n"
          ]
        },
        {
          "output_type": "stream",
          "name": "stderr",
          "text": [
            "\rt:  66%|██████▌   | 850/1297 [04:29<02:07,  3.51it/s, now=None]"
          ]
        },
        {
          "output_type": "stream",
          "name": "stdout",
          "text": [
            "Prediction shape: (80, 160, 1)\n",
            "Avg fit shape: (80, 160, 1)\n",
            "Blanks shape: (80, 160, 1)\n",
            "Lane drawn shape: (80, 160, 3)\n",
            "Lane image shape: (544, 960, 3)\n",
            "1/1 [==============================] - 0s 18ms/step\n"
          ]
        },
        {
          "output_type": "stream",
          "name": "stderr",
          "text": [
            "\rt:  66%|██████▌   | 851/1297 [04:29<02:06,  3.51it/s, now=None]"
          ]
        },
        {
          "output_type": "stream",
          "name": "stdout",
          "text": [
            "Prediction shape: (80, 160, 1)\n",
            "Avg fit shape: (80, 160, 1)\n",
            "Blanks shape: (80, 160, 1)\n",
            "Lane drawn shape: (80, 160, 3)\n",
            "Lane image shape: (544, 960, 3)\n",
            "1/1 [==============================] - 0s 18ms/step\n"
          ]
        },
        {
          "output_type": "stream",
          "name": "stderr",
          "text": [
            "\rt:  66%|██████▌   | 852/1297 [04:30<02:05,  3.56it/s, now=None]"
          ]
        },
        {
          "output_type": "stream",
          "name": "stdout",
          "text": [
            "Prediction shape: (80, 160, 1)\n",
            "Avg fit shape: (80, 160, 1)\n",
            "Blanks shape: (80, 160, 1)\n",
            "Lane drawn shape: (80, 160, 3)\n",
            "Lane image shape: (544, 960, 3)\n",
            "1/1 [==============================] - 0s 18ms/step\n"
          ]
        },
        {
          "output_type": "stream",
          "name": "stderr",
          "text": [
            "\rt:  66%|██████▌   | 853/1297 [04:30<02:05,  3.54it/s, now=None]"
          ]
        },
        {
          "output_type": "stream",
          "name": "stdout",
          "text": [
            "Prediction shape: (80, 160, 1)\n",
            "Avg fit shape: (80, 160, 1)\n",
            "Blanks shape: (80, 160, 1)\n",
            "Lane drawn shape: (80, 160, 3)\n",
            "Lane image shape: (544, 960, 3)\n",
            "1/1 [==============================] - 0s 18ms/step\n"
          ]
        },
        {
          "output_type": "stream",
          "name": "stderr",
          "text": [
            "\rt:  66%|██████▌   | 854/1297 [04:30<02:07,  3.47it/s, now=None]"
          ]
        },
        {
          "output_type": "stream",
          "name": "stdout",
          "text": [
            "Prediction shape: (80, 160, 1)\n",
            "Avg fit shape: (80, 160, 1)\n",
            "Blanks shape: (80, 160, 1)\n",
            "Lane drawn shape: (80, 160, 3)\n",
            "Lane image shape: (544, 960, 3)\n",
            "1/1 [==============================] - 0s 19ms/step\n"
          ]
        },
        {
          "output_type": "stream",
          "name": "stderr",
          "text": [
            "\rt:  66%|██████▌   | 855/1297 [04:31<02:06,  3.50it/s, now=None]"
          ]
        },
        {
          "output_type": "stream",
          "name": "stdout",
          "text": [
            "Prediction shape: (80, 160, 1)\n",
            "Avg fit shape: (80, 160, 1)\n",
            "Blanks shape: (80, 160, 1)\n",
            "Lane drawn shape: (80, 160, 3)\n",
            "Lane image shape: (544, 960, 3)\n",
            "1/1 [==============================] - 0s 18ms/step\n"
          ]
        },
        {
          "output_type": "stream",
          "name": "stderr",
          "text": [
            "\rt:  66%|██████▌   | 856/1297 [04:31<02:05,  3.50it/s, now=None]"
          ]
        },
        {
          "output_type": "stream",
          "name": "stdout",
          "text": [
            "Prediction shape: (80, 160, 1)\n",
            "Avg fit shape: (80, 160, 1)\n",
            "Blanks shape: (80, 160, 1)\n",
            "Lane drawn shape: (80, 160, 3)\n",
            "Lane image shape: (544, 960, 3)\n",
            "1/1 [==============================] - 0s 18ms/step\n"
          ]
        },
        {
          "output_type": "stream",
          "name": "stderr",
          "text": [
            "\rt:  66%|██████▌   | 857/1297 [04:31<02:03,  3.57it/s, now=None]"
          ]
        },
        {
          "output_type": "stream",
          "name": "stdout",
          "text": [
            "Prediction shape: (80, 160, 1)\n",
            "Avg fit shape: (80, 160, 1)\n",
            "Blanks shape: (80, 160, 1)\n",
            "Lane drawn shape: (80, 160, 3)\n",
            "Lane image shape: (544, 960, 3)\n",
            "1/1 [==============================] - 0s 20ms/step\n"
          ]
        },
        {
          "output_type": "stream",
          "name": "stderr",
          "text": [
            "\rt:  66%|██████▌   | 858/1297 [04:31<02:05,  3.49it/s, now=None]"
          ]
        },
        {
          "output_type": "stream",
          "name": "stdout",
          "text": [
            "Prediction shape: (80, 160, 1)\n",
            "Avg fit shape: (80, 160, 1)\n",
            "Blanks shape: (80, 160, 1)\n",
            "Lane drawn shape: (80, 160, 3)\n",
            "Lane image shape: (544, 960, 3)\n",
            "1/1 [==============================] - 0s 18ms/step\n"
          ]
        },
        {
          "output_type": "stream",
          "name": "stderr",
          "text": [
            "\rt:  66%|██████▌   | 859/1297 [04:32<02:04,  3.51it/s, now=None]"
          ]
        },
        {
          "output_type": "stream",
          "name": "stdout",
          "text": [
            "Prediction shape: (80, 160, 1)\n",
            "Avg fit shape: (80, 160, 1)\n",
            "Blanks shape: (80, 160, 1)\n",
            "Lane drawn shape: (80, 160, 3)\n",
            "Lane image shape: (544, 960, 3)\n",
            "1/1 [==============================] - 0s 19ms/step\n"
          ]
        },
        {
          "output_type": "stream",
          "name": "stderr",
          "text": [
            "\rt:  66%|██████▋   | 860/1297 [04:32<02:04,  3.50it/s, now=None]"
          ]
        },
        {
          "output_type": "stream",
          "name": "stdout",
          "text": [
            "Prediction shape: (80, 160, 1)\n",
            "Avg fit shape: (80, 160, 1)\n",
            "Blanks shape: (80, 160, 1)\n",
            "Lane drawn shape: (80, 160, 3)\n",
            "Lane image shape: (544, 960, 3)\n",
            "1/1 [==============================] - 0s 18ms/step\n"
          ]
        },
        {
          "output_type": "stream",
          "name": "stderr",
          "text": [
            "\rt:  66%|██████▋   | 861/1297 [04:32<02:05,  3.49it/s, now=None]"
          ]
        },
        {
          "output_type": "stream",
          "name": "stdout",
          "text": [
            "Prediction shape: (80, 160, 1)\n",
            "Avg fit shape: (80, 160, 1)\n",
            "Blanks shape: (80, 160, 1)\n",
            "Lane drawn shape: (80, 160, 3)\n",
            "Lane image shape: (544, 960, 3)\n",
            "1/1 [==============================] - 0s 20ms/step\n"
          ]
        },
        {
          "output_type": "stream",
          "name": "stderr",
          "text": [
            "\rt:  66%|██████▋   | 862/1297 [04:33<02:03,  3.51it/s, now=None]"
          ]
        },
        {
          "output_type": "stream",
          "name": "stdout",
          "text": [
            "Prediction shape: (80, 160, 1)\n",
            "Avg fit shape: (80, 160, 1)\n",
            "Blanks shape: (80, 160, 1)\n",
            "Lane drawn shape: (80, 160, 3)\n",
            "Lane image shape: (544, 960, 3)\n",
            "1/1 [==============================] - 0s 19ms/step\n"
          ]
        },
        {
          "output_type": "stream",
          "name": "stderr",
          "text": [
            "\rt:  67%|██████▋   | 863/1297 [04:33<02:01,  3.56it/s, now=None]"
          ]
        },
        {
          "output_type": "stream",
          "name": "stdout",
          "text": [
            "Prediction shape: (80, 160, 1)\n",
            "Avg fit shape: (80, 160, 1)\n",
            "Blanks shape: (80, 160, 1)\n",
            "Lane drawn shape: (80, 160, 3)\n",
            "Lane image shape: (544, 960, 3)\n",
            "1/1 [==============================] - 0s 19ms/step\n"
          ]
        },
        {
          "output_type": "stream",
          "name": "stderr",
          "text": [
            "\rt:  67%|██████▋   | 864/1297 [04:33<02:01,  3.57it/s, now=None]"
          ]
        },
        {
          "output_type": "stream",
          "name": "stdout",
          "text": [
            "Prediction shape: (80, 160, 1)\n",
            "Avg fit shape: (80, 160, 1)\n",
            "Blanks shape: (80, 160, 1)\n",
            "Lane drawn shape: (80, 160, 3)\n",
            "Lane image shape: (544, 960, 3)\n",
            "1/1 [==============================] - 0s 18ms/step\n"
          ]
        },
        {
          "output_type": "stream",
          "name": "stderr",
          "text": [
            "\rt:  67%|██████▋   | 865/1297 [04:33<02:01,  3.54it/s, now=None]"
          ]
        },
        {
          "output_type": "stream",
          "name": "stdout",
          "text": [
            "Prediction shape: (80, 160, 1)\n",
            "Avg fit shape: (80, 160, 1)\n",
            "Blanks shape: (80, 160, 1)\n",
            "Lane drawn shape: (80, 160, 3)\n",
            "Lane image shape: (544, 960, 3)\n",
            "1/1 [==============================] - 0s 18ms/step\n"
          ]
        },
        {
          "output_type": "stream",
          "name": "stderr",
          "text": [
            "\rt:  67%|██████▋   | 866/1297 [04:34<02:00,  3.56it/s, now=None]"
          ]
        },
        {
          "output_type": "stream",
          "name": "stdout",
          "text": [
            "Prediction shape: (80, 160, 1)\n",
            "Avg fit shape: (80, 160, 1)\n",
            "Blanks shape: (80, 160, 1)\n",
            "Lane drawn shape: (80, 160, 3)\n",
            "Lane image shape: (544, 960, 3)\n",
            "1/1 [==============================] - 0s 20ms/step\n"
          ]
        },
        {
          "output_type": "stream",
          "name": "stderr",
          "text": [
            "\rt:  67%|██████▋   | 867/1297 [04:34<02:02,  3.52it/s, now=None]"
          ]
        },
        {
          "output_type": "stream",
          "name": "stdout",
          "text": [
            "Prediction shape: (80, 160, 1)\n",
            "Avg fit shape: (80, 160, 1)\n",
            "Blanks shape: (80, 160, 1)\n",
            "Lane drawn shape: (80, 160, 3)\n",
            "Lane image shape: (544, 960, 3)\n",
            "1/1 [==============================] - 0s 19ms/step\n"
          ]
        },
        {
          "output_type": "stream",
          "name": "stderr",
          "text": [
            "\rt:  67%|██████▋   | 868/1297 [04:34<02:00,  3.56it/s, now=None]"
          ]
        },
        {
          "output_type": "stream",
          "name": "stdout",
          "text": [
            "Prediction shape: (80, 160, 1)\n",
            "Avg fit shape: (80, 160, 1)\n",
            "Blanks shape: (80, 160, 1)\n",
            "Lane drawn shape: (80, 160, 3)\n",
            "Lane image shape: (544, 960, 3)\n",
            "1/1 [==============================] - 0s 18ms/step\n"
          ]
        },
        {
          "output_type": "stream",
          "name": "stderr",
          "text": [
            "\rt:  67%|██████▋   | 869/1297 [04:35<02:02,  3.51it/s, now=None]"
          ]
        },
        {
          "output_type": "stream",
          "name": "stdout",
          "text": [
            "Prediction shape: (80, 160, 1)\n",
            "Avg fit shape: (80, 160, 1)\n",
            "Blanks shape: (80, 160, 1)\n",
            "Lane drawn shape: (80, 160, 3)\n",
            "Lane image shape: (544, 960, 3)\n",
            "1/1 [==============================] - 0s 19ms/step\n"
          ]
        },
        {
          "output_type": "stream",
          "name": "stderr",
          "text": [
            "\rt:  67%|██████▋   | 870/1297 [04:35<01:59,  3.56it/s, now=None]"
          ]
        },
        {
          "output_type": "stream",
          "name": "stdout",
          "text": [
            "Prediction shape: (80, 160, 1)\n",
            "Avg fit shape: (80, 160, 1)\n",
            "Blanks shape: (80, 160, 1)\n",
            "Lane drawn shape: (80, 160, 3)\n",
            "Lane image shape: (544, 960, 3)\n",
            "1/1 [==============================] - 0s 19ms/step\n"
          ]
        },
        {
          "output_type": "stream",
          "name": "stderr",
          "text": [
            "\rt:  67%|██████▋   | 871/1297 [04:35<01:59,  3.56it/s, now=None]"
          ]
        },
        {
          "output_type": "stream",
          "name": "stdout",
          "text": [
            "Prediction shape: (80, 160, 1)\n",
            "Avg fit shape: (80, 160, 1)\n",
            "Blanks shape: (80, 160, 1)\n",
            "Lane drawn shape: (80, 160, 3)\n",
            "Lane image shape: (544, 960, 3)\n",
            "1/1 [==============================] - 0s 21ms/step\n"
          ]
        },
        {
          "output_type": "stream",
          "name": "stderr",
          "text": [
            "\rt:  67%|██████▋   | 872/1297 [04:35<02:00,  3.52it/s, now=None]"
          ]
        },
        {
          "output_type": "stream",
          "name": "stdout",
          "text": [
            "Prediction shape: (80, 160, 1)\n",
            "Avg fit shape: (80, 160, 1)\n",
            "Blanks shape: (80, 160, 1)\n",
            "Lane drawn shape: (80, 160, 3)\n",
            "Lane image shape: (544, 960, 3)\n",
            "1/1 [==============================] - 0s 18ms/step\n"
          ]
        },
        {
          "output_type": "stream",
          "name": "stderr",
          "text": [
            "\rt:  67%|██████▋   | 873/1297 [04:36<02:00,  3.53it/s, now=None]"
          ]
        },
        {
          "output_type": "stream",
          "name": "stdout",
          "text": [
            "Prediction shape: (80, 160, 1)\n",
            "Avg fit shape: (80, 160, 1)\n",
            "Blanks shape: (80, 160, 1)\n",
            "Lane drawn shape: (80, 160, 3)\n",
            "Lane image shape: (544, 960, 3)\n",
            "1/1 [==============================] - 0s 28ms/step\n"
          ]
        },
        {
          "output_type": "stream",
          "name": "stderr",
          "text": [
            "\rt:  67%|██████▋   | 874/1297 [04:36<02:19,  3.04it/s, now=None]"
          ]
        },
        {
          "output_type": "stream",
          "name": "stdout",
          "text": [
            "Prediction shape: (80, 160, 1)\n",
            "Avg fit shape: (80, 160, 1)\n",
            "Blanks shape: (80, 160, 1)\n",
            "Lane drawn shape: (80, 160, 3)\n",
            "Lane image shape: (544, 960, 3)\n",
            "1/1 [==============================] - 0s 26ms/step\n"
          ]
        },
        {
          "output_type": "stream",
          "name": "stderr",
          "text": [
            "\rt:  67%|██████▋   | 875/1297 [04:36<02:24,  2.92it/s, now=None]"
          ]
        },
        {
          "output_type": "stream",
          "name": "stdout",
          "text": [
            "Prediction shape: (80, 160, 1)\n",
            "Avg fit shape: (80, 160, 1)\n",
            "Blanks shape: (80, 160, 1)\n",
            "Lane drawn shape: (80, 160, 3)\n",
            "Lane image shape: (544, 960, 3)\n",
            "1/1 [==============================] - 0s 34ms/step\n"
          ]
        },
        {
          "output_type": "stream",
          "name": "stderr",
          "text": [
            "\rt:  68%|██████▊   | 876/1297 [04:37<02:32,  2.77it/s, now=None]"
          ]
        },
        {
          "output_type": "stream",
          "name": "stdout",
          "text": [
            "Prediction shape: (80, 160, 1)\n",
            "Avg fit shape: (80, 160, 1)\n",
            "Blanks shape: (80, 160, 1)\n",
            "Lane drawn shape: (80, 160, 3)\n",
            "Lane image shape: (544, 960, 3)\n",
            "1/1 [==============================] - 0s 29ms/step\n"
          ]
        },
        {
          "output_type": "stream",
          "name": "stderr",
          "text": [
            "\rt:  68%|██████▊   | 877/1297 [04:37<02:35,  2.69it/s, now=None]"
          ]
        },
        {
          "output_type": "stream",
          "name": "stdout",
          "text": [
            "Prediction shape: (80, 160, 1)\n",
            "Avg fit shape: (80, 160, 1)\n",
            "Blanks shape: (80, 160, 1)\n",
            "Lane drawn shape: (80, 160, 3)\n",
            "Lane image shape: (544, 960, 3)\n",
            "1/1 [==============================] - 0s 34ms/step\n",
            "Prediction shape: (80, 160, 1)\n",
            "Avg fit shape: (80, 160, 1)\n",
            "Blanks shape: (80, 160, 1)"
          ]
        },
        {
          "output_type": "stream",
          "name": "stderr",
          "text": [
            "\rt:  68%|██████▊   | 878/1297 [04:38<02:42,  2.58it/s, now=None]"
          ]
        },
        {
          "output_type": "stream",
          "name": "stdout",
          "text": [
            "\n",
            "Lane drawn shape: (80, 160, 3)\n",
            "Lane image shape: (544, 960, 3)\n",
            "1/1 [==============================] - 0s 43ms/step\n"
          ]
        },
        {
          "output_type": "stream",
          "name": "stderr",
          "text": [
            "\rt:  68%|██████▊   | 879/1297 [04:38<02:49,  2.46it/s, now=None]"
          ]
        },
        {
          "output_type": "stream",
          "name": "stdout",
          "text": [
            "Prediction shape: (80, 160, 1)\n",
            "Avg fit shape: (80, 160, 1)\n",
            "Blanks shape: (80, 160, 1)\n",
            "Lane drawn shape: (80, 160, 3)\n",
            "Lane image shape: (544, 960, 3)\n",
            "1/1 [==============================] - 0s 50ms/step\n",
            "Prediction shape: (80, 160, 1)\n",
            "Avg fit shape: (80, 160, 1)\n",
            "Blanks shape: (80, 160, 1)\n",
            "Lane drawn shape: (80, 160, 3)\n",
            "Lane image shape: (544, 960, 3)\n"
          ]
        },
        {
          "output_type": "stream",
          "name": "stderr",
          "text": [
            "\rt:  68%|██████▊   | 880/1297 [04:39<02:53,  2.40it/s, now=None]"
          ]
        },
        {
          "output_type": "stream",
          "name": "stdout",
          "text": [
            "1/1 [==============================] - 0s 29ms/step\n",
            "Prediction shape: (80, 160, 1)\n",
            "Avg fit shape: (80, 160, 1)\n",
            "Blanks shape: (80, 160, 1)"
          ]
        },
        {
          "output_type": "stream",
          "name": "stderr",
          "text": [
            "\rt:  68%|██████▊   | 881/1297 [04:39<02:53,  2.40it/s, now=None]"
          ]
        },
        {
          "output_type": "stream",
          "name": "stdout",
          "text": [
            "\n",
            "Lane drawn shape: (80, 160, 3)\n",
            "Lane image shape: (544, 960, 3)\n",
            "1/1 [==============================] - 0s 33ms/step\n"
          ]
        },
        {
          "output_type": "stream",
          "name": "stderr",
          "text": [
            "\rt:  68%|██████▊   | 882/1297 [04:39<03:00,  2.30it/s, now=None]"
          ]
        },
        {
          "output_type": "stream",
          "name": "stdout",
          "text": [
            "Prediction shape: (80, 160, 1)\n",
            "Avg fit shape: (80, 160, 1)\n",
            "Blanks shape: (80, 160, 1)\n",
            "Lane drawn shape: (80, 160, 3)\n",
            "Lane image shape: (544, 960, 3)\n",
            "1/1 [==============================] - 0s 38ms/step\n",
            "Prediction shape: (80, 160, 1)\n"
          ]
        },
        {
          "output_type": "stream",
          "name": "stderr",
          "text": [
            "\rt:  68%|██████▊   | 883/1297 [04:40<03:00,  2.29it/s, now=None]"
          ]
        },
        {
          "output_type": "stream",
          "name": "stdout",
          "text": [
            "Avg fit shape: (80, 160, 1)\n",
            "Blanks shape: (80, 160, 1)\n",
            "Lane drawn shape: (80, 160, 3)\n",
            "Lane image shape: (544, 960, 3)\n",
            "1/1 [==============================] - 0s 42ms/step\n"
          ]
        },
        {
          "output_type": "stream",
          "name": "stderr",
          "text": [
            "\rt:  68%|██████▊   | 884/1297 [04:40<02:58,  2.31it/s, now=None]"
          ]
        },
        {
          "output_type": "stream",
          "name": "stdout",
          "text": [
            "Prediction shape: (80, 160, 1)\n",
            "Avg fit shape: (80, 160, 1)\n",
            "Blanks shape: (80, 160, 1)\n",
            "Lane drawn shape: (80, 160, 3)\n",
            "Lane image shape: (544, 960, 3)\n",
            "1/1 [==============================] - 0s 53ms/step\n",
            "Prediction shape:"
          ]
        },
        {
          "output_type": "stream",
          "name": "stderr",
          "text": [
            "\rt:  68%|██████▊   | 885/1297 [04:41<02:59,  2.29it/s, now=None]"
          ]
        },
        {
          "output_type": "stream",
          "name": "stdout",
          "text": [
            " (80, 160, 1)\n",
            "Avg fit shape: (80, 160, 1)\n",
            "Blanks shape: (80, 160, 1)\n",
            "Lane drawn shape: (80, 160, 3)\n",
            "Lane image shape: (544, 960, 3)\n",
            "1/1 [==============================] - 0s 52ms/step\n"
          ]
        },
        {
          "output_type": "stream",
          "name": "stderr",
          "text": [
            "\rt:  68%|██████▊   | 886/1297 [04:41<03:04,  2.23it/s, now=None]"
          ]
        },
        {
          "output_type": "stream",
          "name": "stdout",
          "text": [
            "Prediction shape: (80, 160, 1)\n",
            "Avg fit shape: (80, 160, 1)\n",
            "Blanks shape: (80, 160, 1)\n",
            "Lane drawn shape: (80, 160, 3)\n",
            "Lane image shape: (544, 960, 3)\n",
            "1/1 [==============================] - 0s 50ms/step\n",
            "Prediction shape: (80, 160, 1)\n",
            "Avg fit shape: (80, 160, 1)\n",
            "Blanks shape: (80, 160, 1)\n",
            "Lane drawn shape: (80, 160, 3)\n",
            "Lane image shape: (544, 960, 3)\n"
          ]
        },
        {
          "output_type": "stream",
          "name": "stderr",
          "text": [
            "\rt:  68%|██████▊   | 887/1297 [04:42<03:03,  2.24it/s, now=None]"
          ]
        },
        {
          "output_type": "stream",
          "name": "stdout",
          "text": [
            "1/1 [==============================] - 0s 19ms/step\n"
          ]
        },
        {
          "output_type": "stream",
          "name": "stderr",
          "text": [
            "\rt:  68%|██████▊   | 888/1297 [04:42<02:51,  2.38it/s, now=None]"
          ]
        },
        {
          "output_type": "stream",
          "name": "stdout",
          "text": [
            "Prediction shape: (80, 160, 1)\n",
            "Avg fit shape: (80, 160, 1)\n",
            "Blanks shape: (80, 160, 1)\n",
            "Lane drawn shape: (80, 160, 3)\n",
            "Lane image shape: (544, 960, 3)\n",
            "1/1 [==============================] - 0s 21ms/step\n"
          ]
        },
        {
          "output_type": "stream",
          "name": "stderr",
          "text": [
            "\rt:  69%|██████▊   | 889/1297 [04:42<02:37,  2.58it/s, now=None]"
          ]
        },
        {
          "output_type": "stream",
          "name": "stdout",
          "text": [
            "Prediction shape: (80, 160, 1)\n",
            "Avg fit shape: (80, 160, 1)\n",
            "Blanks shape: (80, 160, 1)\n",
            "Lane drawn shape: (80, 160, 3)\n",
            "Lane image shape: (544, 960, 3)\n",
            "1/1 [==============================] - 0s 18ms/step\n"
          ]
        },
        {
          "output_type": "stream",
          "name": "stderr",
          "text": [
            "\rt:  69%|██████▊   | 890/1297 [04:43<02:25,  2.80it/s, now=None]"
          ]
        },
        {
          "output_type": "stream",
          "name": "stdout",
          "text": [
            "Prediction shape: (80, 160, 1)\n",
            "Avg fit shape: (80, 160, 1)\n",
            "Blanks shape: (80, 160, 1)\n",
            "Lane drawn shape: (80, 160, 3)\n",
            "Lane image shape: (544, 960, 3)\n",
            "1/1 [==============================] - 0s 21ms/step\n"
          ]
        },
        {
          "output_type": "stream",
          "name": "stderr",
          "text": [
            "\rt:  69%|██████▊   | 891/1297 [04:43<02:16,  2.97it/s, now=None]"
          ]
        },
        {
          "output_type": "stream",
          "name": "stdout",
          "text": [
            "Prediction shape: (80, 160, 1)\n",
            "Avg fit shape: (80, 160, 1)\n",
            "Blanks shape: (80, 160, 1)\n",
            "Lane drawn shape: (80, 160, 3)\n",
            "Lane image shape: (544, 960, 3)\n",
            "1/1 [==============================] - 0s 19ms/step\n"
          ]
        },
        {
          "output_type": "stream",
          "name": "stderr",
          "text": [
            "\rt:  69%|██████▉   | 892/1297 [04:43<02:11,  3.09it/s, now=None]"
          ]
        },
        {
          "output_type": "stream",
          "name": "stdout",
          "text": [
            "Prediction shape: (80, 160, 1)\n",
            "Avg fit shape: (80, 160, 1)\n",
            "Blanks shape: (80, 160, 1)\n",
            "Lane drawn shape: (80, 160, 3)\n",
            "Lane image shape: (544, 960, 3)\n",
            "1/1 [==============================] - 0s 19ms/step\n"
          ]
        },
        {
          "output_type": "stream",
          "name": "stderr",
          "text": [
            "\rt:  69%|██████▉   | 893/1297 [04:44<02:07,  3.16it/s, now=None]"
          ]
        },
        {
          "output_type": "stream",
          "name": "stdout",
          "text": [
            "Prediction shape: (80, 160, 1)\n",
            "Avg fit shape: (80, 160, 1)\n",
            "Blanks shape: (80, 160, 1)\n",
            "Lane drawn shape: (80, 160, 3)\n",
            "Lane image shape: (544, 960, 3)\n",
            "1/1 [==============================] - 0s 20ms/step\n"
          ]
        },
        {
          "output_type": "stream",
          "name": "stderr",
          "text": [
            "\rt:  69%|██████▉   | 894/1297 [04:44<02:03,  3.25it/s, now=None]"
          ]
        },
        {
          "output_type": "stream",
          "name": "stdout",
          "text": [
            "Prediction shape: (80, 160, 1)\n",
            "Avg fit shape: (80, 160, 1)\n",
            "Blanks shape: (80, 160, 1)\n",
            "Lane drawn shape: (80, 160, 3)\n",
            "Lane image shape: (544, 960, 3)\n",
            "1/1 [==============================] - 0s 20ms/step\n"
          ]
        },
        {
          "output_type": "stream",
          "name": "stderr",
          "text": [
            "\rt:  69%|██████▉   | 895/1297 [04:44<01:59,  3.37it/s, now=None]"
          ]
        },
        {
          "output_type": "stream",
          "name": "stdout",
          "text": [
            "Prediction shape: (80, 160, 1)\n",
            "Avg fit shape: (80, 160, 1)\n",
            "Blanks shape: (80, 160, 1)\n",
            "Lane drawn shape: (80, 160, 3)\n",
            "Lane image shape: (544, 960, 3)\n",
            "1/1 [==============================] - 0s 19ms/step\n"
          ]
        },
        {
          "output_type": "stream",
          "name": "stderr",
          "text": [
            "\rt:  69%|██████▉   | 896/1297 [04:44<01:59,  3.35it/s, now=None]"
          ]
        },
        {
          "output_type": "stream",
          "name": "stdout",
          "text": [
            "Prediction shape: (80, 160, 1)\n",
            "Avg fit shape: (80, 160, 1)\n",
            "Blanks shape: (80, 160, 1)\n",
            "Lane drawn shape: (80, 160, 3)\n",
            "Lane image shape: (544, 960, 3)\n",
            "1/1 [==============================] - 0s 19ms/step\n"
          ]
        },
        {
          "output_type": "stream",
          "name": "stderr",
          "text": [
            "\rt:  69%|██████▉   | 897/1297 [04:45<02:02,  3.27it/s, now=None]"
          ]
        },
        {
          "output_type": "stream",
          "name": "stdout",
          "text": [
            "Prediction shape: (80, 160, 1)\n",
            "Avg fit shape: (80, 160, 1)\n",
            "Blanks shape: (80, 160, 1)\n",
            "Lane drawn shape: (80, 160, 3)\n",
            "Lane image shape: (544, 960, 3)\n",
            "1/1 [==============================] - 0s 18ms/step\n"
          ]
        },
        {
          "output_type": "stream",
          "name": "stderr",
          "text": [
            "\rt:  69%|██████▉   | 898/1297 [04:45<01:57,  3.38it/s, now=None]"
          ]
        },
        {
          "output_type": "stream",
          "name": "stdout",
          "text": [
            "Prediction shape: (80, 160, 1)\n",
            "Avg fit shape: (80, 160, 1)\n",
            "Blanks shape: (80, 160, 1)\n",
            "Lane drawn shape: (80, 160, 3)\n",
            "Lane image shape: (544, 960, 3)\n",
            "1/1 [==============================] - 0s 21ms/step\n"
          ]
        },
        {
          "output_type": "stream",
          "name": "stderr",
          "text": [
            "\rt:  69%|██████▉   | 899/1297 [04:45<01:56,  3.43it/s, now=None]"
          ]
        },
        {
          "output_type": "stream",
          "name": "stdout",
          "text": [
            "Prediction shape: (80, 160, 1)\n",
            "Avg fit shape: (80, 160, 1)\n",
            "Blanks shape: (80, 160, 1)\n",
            "Lane drawn shape: (80, 160, 3)\n",
            "Lane image shape: (544, 960, 3)\n",
            "1/1 [==============================] - 0s 18ms/step\n"
          ]
        },
        {
          "output_type": "stream",
          "name": "stderr",
          "text": [
            "\rt:  69%|██████▉   | 900/1297 [04:46<01:53,  3.48it/s, now=None]"
          ]
        },
        {
          "output_type": "stream",
          "name": "stdout",
          "text": [
            "Prediction shape: (80, 160, 1)\n",
            "Avg fit shape: (80, 160, 1)\n",
            "Blanks shape: (80, 160, 1)\n",
            "Lane drawn shape: (80, 160, 3)\n",
            "Lane image shape: (544, 960, 3)\n",
            "1/1 [==============================] - 0s 18ms/step\n"
          ]
        },
        {
          "output_type": "stream",
          "name": "stderr",
          "text": [
            "\rt:  69%|██████▉   | 901/1297 [04:46<01:55,  3.43it/s, now=None]"
          ]
        },
        {
          "output_type": "stream",
          "name": "stdout",
          "text": [
            "Prediction shape: (80, 160, 1)\n",
            "Avg fit shape: (80, 160, 1)\n",
            "Blanks shape: (80, 160, 1)\n",
            "Lane drawn shape: (80, 160, 3)\n",
            "Lane image shape: (544, 960, 3)\n",
            "1/1 [==============================] - 0s 19ms/step\n"
          ]
        },
        {
          "output_type": "stream",
          "name": "stderr",
          "text": [
            "\rt:  70%|██████▉   | 902/1297 [04:46<01:54,  3.46it/s, now=None]"
          ]
        },
        {
          "output_type": "stream",
          "name": "stdout",
          "text": [
            "Prediction shape: (80, 160, 1)\n",
            "Avg fit shape: (80, 160, 1)\n",
            "Blanks shape: (80, 160, 1)\n",
            "Lane drawn shape: (80, 160, 3)\n",
            "Lane image shape: (544, 960, 3)\n",
            "1/1 [==============================] - 0s 19ms/step\n"
          ]
        },
        {
          "output_type": "stream",
          "name": "stderr",
          "text": [
            "\rt:  70%|██████▉   | 903/1297 [04:46<01:51,  3.52it/s, now=None]"
          ]
        },
        {
          "output_type": "stream",
          "name": "stdout",
          "text": [
            "Prediction shape: (80, 160, 1)\n",
            "Avg fit shape: (80, 160, 1)\n",
            "Blanks shape: (80, 160, 1)\n",
            "Lane drawn shape: (80, 160, 3)\n",
            "Lane image shape: (544, 960, 3)\n",
            "1/1 [==============================] - 0s 19ms/step\n"
          ]
        },
        {
          "output_type": "stream",
          "name": "stderr",
          "text": [
            "\rt:  70%|██████▉   | 904/1297 [04:47<01:52,  3.50it/s, now=None]"
          ]
        },
        {
          "output_type": "stream",
          "name": "stdout",
          "text": [
            "Prediction shape: (80, 160, 1)\n",
            "Avg fit shape: (80, 160, 1)\n",
            "Blanks shape: (80, 160, 1)\n",
            "Lane drawn shape: (80, 160, 3)\n",
            "Lane image shape: (544, 960, 3)\n",
            "1/1 [==============================] - 0s 18ms/step\n"
          ]
        },
        {
          "output_type": "stream",
          "name": "stderr",
          "text": [
            "\rt:  70%|██████▉   | 905/1297 [04:47<01:55,  3.38it/s, now=None]"
          ]
        },
        {
          "output_type": "stream",
          "name": "stdout",
          "text": [
            "Prediction shape: (80, 160, 1)\n",
            "Avg fit shape: (80, 160, 1)\n",
            "Blanks shape: (80, 160, 1)\n",
            "Lane drawn shape: (80, 160, 3)\n",
            "Lane image shape: (544, 960, 3)\n",
            "1/1 [==============================] - 0s 18ms/step\n"
          ]
        },
        {
          "output_type": "stream",
          "name": "stderr",
          "text": [
            "\rt:  70%|██████▉   | 906/1297 [04:47<01:53,  3.44it/s, now=None]"
          ]
        },
        {
          "output_type": "stream",
          "name": "stdout",
          "text": [
            "Prediction shape: (80, 160, 1)\n",
            "Avg fit shape: (80, 160, 1)\n",
            "Blanks shape: (80, 160, 1)\n",
            "Lane drawn shape: (80, 160, 3)\n",
            "Lane image shape: (544, 960, 3)\n",
            "1/1 [==============================] - 0s 20ms/step\n"
          ]
        },
        {
          "output_type": "stream",
          "name": "stderr",
          "text": [
            "\rt:  70%|██████▉   | 907/1297 [04:48<01:52,  3.47it/s, now=None]"
          ]
        },
        {
          "output_type": "stream",
          "name": "stdout",
          "text": [
            "Prediction shape: (80, 160, 1)\n",
            "Avg fit shape: (80, 160, 1)\n",
            "Blanks shape: (80, 160, 1)\n",
            "Lane drawn shape: (80, 160, 3)\n",
            "Lane image shape: (544, 960, 3)\n",
            "1/1 [==============================] - 0s 19ms/step\n"
          ]
        },
        {
          "output_type": "stream",
          "name": "stderr",
          "text": [
            "\rt:  70%|███████   | 908/1297 [04:48<01:50,  3.51it/s, now=None]"
          ]
        },
        {
          "output_type": "stream",
          "name": "stdout",
          "text": [
            "Prediction shape: (80, 160, 1)\n",
            "Avg fit shape: (80, 160, 1)\n",
            "Blanks shape: (80, 160, 1)\n",
            "Lane drawn shape: (80, 160, 3)\n",
            "Lane image shape: (544, 960, 3)\n",
            "1/1 [==============================] - 0s 18ms/step\n"
          ]
        },
        {
          "output_type": "stream",
          "name": "stderr",
          "text": [
            "\rt:  70%|███████   | 909/1297 [04:48<01:51,  3.47it/s, now=None]"
          ]
        },
        {
          "output_type": "stream",
          "name": "stdout",
          "text": [
            "Prediction shape: (80, 160, 1)\n",
            "Avg fit shape: (80, 160, 1)\n",
            "Blanks shape: (80, 160, 1)\n",
            "Lane drawn shape: (80, 160, 3)\n",
            "Lane image shape: (544, 960, 3)\n",
            "1/1 [==============================] - 0s 18ms/step\n"
          ]
        },
        {
          "output_type": "stream",
          "name": "stderr",
          "text": [
            "\rt:  70%|███████   | 910/1297 [04:48<01:51,  3.47it/s, now=None]"
          ]
        },
        {
          "output_type": "stream",
          "name": "stdout",
          "text": [
            "Prediction shape: (80, 160, 1)\n",
            "Avg fit shape: (80, 160, 1)\n",
            "Blanks shape: (80, 160, 1)\n",
            "Lane drawn shape: (80, 160, 3)\n",
            "Lane image shape: (544, 960, 3)\n",
            "1/1 [==============================] - 0s 18ms/step\n"
          ]
        },
        {
          "output_type": "stream",
          "name": "stderr",
          "text": [
            "\rt:  70%|███████   | 911/1297 [04:49<01:52,  3.44it/s, now=None]"
          ]
        },
        {
          "output_type": "stream",
          "name": "stdout",
          "text": [
            "Prediction shape: (80, 160, 1)\n",
            "Avg fit shape: (80, 160, 1)\n",
            "Blanks shape: (80, 160, 1)\n",
            "Lane drawn shape: (80, 160, 3)\n",
            "Lane image shape: (544, 960, 3)\n",
            "1/1 [==============================] - 0s 19ms/step\n"
          ]
        },
        {
          "output_type": "stream",
          "name": "stderr",
          "text": [
            "\rt:  70%|███████   | 912/1297 [04:49<01:51,  3.44it/s, now=None]"
          ]
        },
        {
          "output_type": "stream",
          "name": "stdout",
          "text": [
            "Prediction shape: (80, 160, 1)\n",
            "Avg fit shape: (80, 160, 1)\n",
            "Blanks shape: (80, 160, 1)\n",
            "Lane drawn shape: (80, 160, 3)\n",
            "Lane image shape: (544, 960, 3)\n",
            "1/1 [==============================] - 0s 19ms/step\n"
          ]
        },
        {
          "output_type": "stream",
          "name": "stderr",
          "text": [
            "\rt:  70%|███████   | 913/1297 [04:49<01:53,  3.37it/s, now=None]"
          ]
        },
        {
          "output_type": "stream",
          "name": "stdout",
          "text": [
            "Prediction shape: (80, 160, 1)\n",
            "Avg fit shape: (80, 160, 1)\n",
            "Blanks shape: (80, 160, 1)\n",
            "Lane drawn shape: (80, 160, 3)\n",
            "Lane image shape: (544, 960, 3)\n",
            "1/1 [==============================] - 0s 18ms/step\n"
          ]
        },
        {
          "output_type": "stream",
          "name": "stderr",
          "text": [
            "\rt:  70%|███████   | 914/1297 [04:50<01:52,  3.40it/s, now=None]"
          ]
        },
        {
          "output_type": "stream",
          "name": "stdout",
          "text": [
            "Prediction shape: (80, 160, 1)\n",
            "Avg fit shape: (80, 160, 1)\n",
            "Blanks shape: (80, 160, 1)\n",
            "Lane drawn shape: (80, 160, 3)\n",
            "Lane image shape: (544, 960, 3)\n",
            "1/1 [==============================] - 0s 19ms/step\n"
          ]
        },
        {
          "output_type": "stream",
          "name": "stderr",
          "text": [
            "\rt:  71%|███████   | 915/1297 [04:50<01:52,  3.39it/s, now=None]"
          ]
        },
        {
          "output_type": "stream",
          "name": "stdout",
          "text": [
            "Prediction shape: (80, 160, 1)\n",
            "Avg fit shape: (80, 160, 1)\n",
            "Blanks shape: (80, 160, 1)\n",
            "Lane drawn shape: (80, 160, 3)\n",
            "Lane image shape: (544, 960, 3)\n",
            "1/1 [==============================] - 0s 18ms/step\n"
          ]
        },
        {
          "output_type": "stream",
          "name": "stderr",
          "text": [
            "\rt:  71%|███████   | 916/1297 [04:50<01:52,  3.37it/s, now=None]"
          ]
        },
        {
          "output_type": "stream",
          "name": "stdout",
          "text": [
            "Prediction shape: (80, 160, 1)\n",
            "Avg fit shape: (80, 160, 1)\n",
            "Blanks shape: (80, 160, 1)\n",
            "Lane drawn shape: (80, 160, 3)\n",
            "Lane image shape: (544, 960, 3)\n",
            "1/1 [==============================] - 0s 18ms/step\n"
          ]
        },
        {
          "output_type": "stream",
          "name": "stderr",
          "text": [
            "\rt:  71%|███████   | 917/1297 [04:51<01:51,  3.40it/s, now=None]"
          ]
        },
        {
          "output_type": "stream",
          "name": "stdout",
          "text": [
            "Prediction shape: (80, 160, 1)\n",
            "Avg fit shape: (80, 160, 1)\n",
            "Blanks shape: (80, 160, 1)\n",
            "Lane drawn shape: (80, 160, 3)\n",
            "Lane image shape: (544, 960, 3)\n",
            "1/1 [==============================] - 0s 19ms/step\n"
          ]
        },
        {
          "output_type": "stream",
          "name": "stderr",
          "text": [
            "\rt:  71%|███████   | 918/1297 [04:51<01:50,  3.44it/s, now=None]"
          ]
        },
        {
          "output_type": "stream",
          "name": "stdout",
          "text": [
            "Prediction shape: (80, 160, 1)\n",
            "Avg fit shape: (80, 160, 1)\n",
            "Blanks shape: (80, 160, 1)\n",
            "Lane drawn shape: (80, 160, 3)\n",
            "Lane image shape: (544, 960, 3)\n",
            "1/1 [==============================] - 0s 18ms/step\n"
          ]
        },
        {
          "output_type": "stream",
          "name": "stderr",
          "text": [
            "\rt:  71%|███████   | 919/1297 [04:51<01:48,  3.49it/s, now=None]"
          ]
        },
        {
          "output_type": "stream",
          "name": "stdout",
          "text": [
            "Prediction shape: (80, 160, 1)\n",
            "Avg fit shape: (80, 160, 1)\n",
            "Blanks shape: (80, 160, 1)\n",
            "Lane drawn shape: (80, 160, 3)\n",
            "Lane image shape: (544, 960, 3)\n",
            "1/1 [==============================] - 0s 20ms/step\n"
          ]
        },
        {
          "output_type": "stream",
          "name": "stderr",
          "text": [
            "\rt:  71%|███████   | 920/1297 [04:51<01:49,  3.46it/s, now=None]"
          ]
        },
        {
          "output_type": "stream",
          "name": "stdout",
          "text": [
            "Prediction shape: (80, 160, 1)\n",
            "Avg fit shape: (80, 160, 1)\n",
            "Blanks shape: (80, 160, 1)\n",
            "Lane drawn shape: (80, 160, 3)\n",
            "Lane image shape: (544, 960, 3)\n",
            "1/1 [==============================] - 0s 18ms/step\n"
          ]
        },
        {
          "output_type": "stream",
          "name": "stderr",
          "text": [
            "\rt:  71%|███████   | 921/1297 [04:52<01:48,  3.46it/s, now=None]"
          ]
        },
        {
          "output_type": "stream",
          "name": "stdout",
          "text": [
            "Prediction shape: (80, 160, 1)\n",
            "Avg fit shape: (80, 160, 1)\n",
            "Blanks shape: (80, 160, 1)\n",
            "Lane drawn shape: (80, 160, 3)\n",
            "Lane image shape: (544, 960, 3)\n",
            "1/1 [==============================] - 0s 18ms/step\n"
          ]
        },
        {
          "output_type": "stream",
          "name": "stderr",
          "text": [
            "\rt:  71%|███████   | 922/1297 [04:52<01:52,  3.34it/s, now=None]"
          ]
        },
        {
          "output_type": "stream",
          "name": "stdout",
          "text": [
            "Prediction shape: (80, 160, 1)\n",
            "Avg fit shape: (80, 160, 1)\n",
            "Blanks shape: (80, 160, 1)\n",
            "Lane drawn shape: (80, 160, 3)\n",
            "Lane image shape: (544, 960, 3)\n",
            "1/1 [==============================] - 0s 27ms/step\n",
            "Prediction shape: (80, 160, 1)\n",
            "Avg fit shape: (80, 160, 1)\n",
            "Blanks shape: (80, 160, 1)\n",
            "Lane drawn shape: (80, 160, 3)\n",
            "Lane image shape: (544, 960, 3)\n"
          ]
        },
        {
          "output_type": "stream",
          "name": "stderr",
          "text": [
            "\rt:  71%|███████   | 923/1297 [04:52<02:03,  3.03it/s, now=None]"
          ]
        },
        {
          "output_type": "stream",
          "name": "stdout",
          "text": [
            "1/1 [==============================] - 0s 32ms/step\n"
          ]
        },
        {
          "output_type": "stream",
          "name": "stderr",
          "text": [
            "\rt:  71%|███████   | 924/1297 [04:53<02:18,  2.69it/s, now=None]"
          ]
        },
        {
          "output_type": "stream",
          "name": "stdout",
          "text": [
            "Prediction shape: (80, 160, 1)\n",
            "Avg fit shape: (80, 160, 1)\n",
            "Blanks shape: (80, 160, 1)\n",
            "Lane drawn shape: (80, 160, 3)\n",
            "Lane image shape: (544, 960, 3)\n",
            "1/1 [==============================] - 0s 41ms/step\n"
          ]
        },
        {
          "output_type": "stream",
          "name": "stderr",
          "text": [
            "\rt:  71%|███████▏  | 925/1297 [04:53<02:29,  2.49it/s, now=None]"
          ]
        },
        {
          "output_type": "stream",
          "name": "stdout",
          "text": [
            "Prediction shape: (80, 160, 1)\n",
            "Avg fit shape: (80, 160, 1)\n",
            "Blanks shape: (80, 160, 1)\n",
            "Lane drawn shape: (80, 160, 3)\n",
            "Lane image shape: (544, 960, 3)\n",
            "1/1 [==============================] - 0s 34ms/step\n"
          ]
        },
        {
          "output_type": "stream",
          "name": "stderr",
          "text": [
            "\rt:  71%|███████▏  | 926/1297 [04:54<02:33,  2.42it/s, now=None]"
          ]
        },
        {
          "output_type": "stream",
          "name": "stdout",
          "text": [
            "Prediction shape: (80, 160, 1)\n",
            "Avg fit shape: (80, 160, 1)\n",
            "Blanks shape: (80, 160, 1)\n",
            "Lane drawn shape: (80, 160, 3)\n",
            "Lane image shape: (544, 960, 3)\n",
            "1/1 [==============================] - 0s 28ms/step\n"
          ]
        },
        {
          "output_type": "stream",
          "name": "stderr",
          "text": [
            "\rt:  71%|███████▏  | 927/1297 [04:54<02:32,  2.42it/s, now=None]"
          ]
        },
        {
          "output_type": "stream",
          "name": "stdout",
          "text": [
            "Prediction shape: (80, 160, 1)\n",
            "Avg fit shape: (80, 160, 1)\n",
            "Blanks shape: (80, 160, 1)\n",
            "Lane drawn shape: (80, 160, 3)\n",
            "Lane image shape: (544, 960, 3)\n",
            "1/1 [==============================] - 0s 49ms/step\n"
          ]
        },
        {
          "output_type": "stream",
          "name": "stderr",
          "text": [
            "\rt:  72%|███████▏  | 928/1297 [04:55<02:36,  2.35it/s, now=None]"
          ]
        },
        {
          "output_type": "stream",
          "name": "stdout",
          "text": [
            "Prediction shape: (80, 160, 1)\n",
            "Avg fit shape: (80, 160, 1)\n",
            "Blanks shape: (80, 160, 1)\n",
            "Lane drawn shape: (80, 160, 3)\n",
            "Lane image shape: (544, 960, 3)\n",
            "1/1 [==============================] - 0s 29ms/step\n",
            "Prediction shape: (80, 160, 1)\n",
            "Avg fit shape: (80, 160, 1)\n",
            "Blanks shape: (80, 160, 1)\n",
            "Lane drawn shape: (80, 160, 3)\n",
            "Lane image shape:"
          ]
        },
        {
          "output_type": "stream",
          "name": "stderr",
          "text": [
            "\rt:  72%|███████▏  | 929/1297 [04:55<02:37,  2.34it/s, now=None]"
          ]
        },
        {
          "output_type": "stream",
          "name": "stdout",
          "text": [
            " (544, 960, 3)\n",
            "1/1 [==============================] - 0s 35ms/step\n"
          ]
        },
        {
          "output_type": "stream",
          "name": "stderr",
          "text": [
            "\rt:  72%|███████▏  | 930/1297 [04:56<02:40,  2.28it/s, now=None]"
          ]
        },
        {
          "output_type": "stream",
          "name": "stdout",
          "text": [
            "Prediction shape: (80, 160, 1)\n",
            "Avg fit shape: (80, 160, 1)\n",
            "Blanks shape: (80, 160, 1)\n",
            "Lane drawn shape: (80, 160, 3)\n",
            "Lane image shape: (544, 960, 3)\n",
            "1/1 [==============================] - 0s 35ms/step\n",
            "Prediction shape: (80, 160, 1)\n",
            "Avg fit shape: (80, 160, 1)\n",
            "Blanks shape: (80, 160, 1)\n",
            "Lane drawn shape: (80, 160, 3)\n",
            "Lane image shape: (544, 960, 3)\n"
          ]
        },
        {
          "output_type": "stream",
          "name": "stderr",
          "text": [
            "\rt:  72%|███████▏  | 931/1297 [04:56<02:38,  2.31it/s, now=None]"
          ]
        },
        {
          "output_type": "stream",
          "name": "stdout",
          "text": [
            "1/1 [==============================] - 0s 28ms/step\n",
            "Prediction shape: (80, 160, 1)\n",
            "Avg fit shape: (80, 160, 1)\n",
            "Blanks shape: (80, 160, 1)\n",
            "Lane drawn shape: (80, 160, 3)"
          ]
        },
        {
          "output_type": "stream",
          "name": "stderr",
          "text": [
            "\rt:  72%|███████▏  | 932/1297 [04:56<02:37,  2.32it/s, now=None]"
          ]
        },
        {
          "output_type": "stream",
          "name": "stdout",
          "text": [
            "\n",
            "Lane image shape: (544, 960, 3)\n",
            "1/1 [==============================] - 0s 37ms/step\n",
            "Prediction shape: (80, 160, 1)\n",
            "Avg fit shape: (80, 160, 1)"
          ]
        },
        {
          "output_type": "stream",
          "name": "stderr",
          "text": [
            "\rt:  72%|███████▏  | 933/1297 [04:57<02:39,  2.28it/s, now=None]"
          ]
        },
        {
          "output_type": "stream",
          "name": "stdout",
          "text": [
            "\n",
            "Blanks shape: (80, 160, 1)\n",
            "Lane drawn shape: (80, 160, 3)\n",
            "Lane image shape: (544, 960, 3)\n",
            "1/1 [==============================] - 0s 43ms/step\n"
          ]
        },
        {
          "output_type": "stream",
          "name": "stderr",
          "text": [
            "\rt:  72%|███████▏  | 934/1297 [04:57<02:40,  2.27it/s, now=None]"
          ]
        },
        {
          "output_type": "stream",
          "name": "stdout",
          "text": [
            "Prediction shape: (80, 160, 1)\n",
            "Avg fit shape: (80, 160, 1)\n",
            "Blanks shape: (80, 160, 1)\n",
            "Lane drawn shape: (80, 160, 3)\n",
            "Lane image shape: (544, 960, 3)\n",
            "1/1 [==============================] - 0s 47ms/step\n",
            "Prediction shape: (80, 160, 1)\n",
            "Avg fit shape: (80, 160, 1)\n",
            "Blanks shape: "
          ]
        },
        {
          "output_type": "stream",
          "name": "stderr",
          "text": [
            "\rt:  72%|███████▏  | 935/1297 [04:58<02:39,  2.26it/s, now=None]"
          ]
        },
        {
          "output_type": "stream",
          "name": "stdout",
          "text": [
            "(80, 160, 1)\n",
            "Lane drawn shape: (80, 160, 3)\n",
            "Lane image shape: (544, 960, 3)\n",
            "1/1 [==============================] - 0s 21ms/step\n"
          ]
        },
        {
          "output_type": "stream",
          "name": "stderr",
          "text": [
            "\rt:  72%|███████▏  | 936/1297 [04:58<02:22,  2.53it/s, now=None]"
          ]
        },
        {
          "output_type": "stream",
          "name": "stdout",
          "text": [
            "Prediction shape: (80, 160, 1)\n",
            "Avg fit shape: (80, 160, 1)\n",
            "Blanks shape: (80, 160, 1)\n",
            "Lane drawn shape: (80, 160, 3)\n",
            "Lane image shape: (544, 960, 3)\n",
            "1/1 [==============================] - 0s 20ms/step\n"
          ]
        },
        {
          "output_type": "stream",
          "name": "stderr",
          "text": [
            "\rt:  72%|███████▏  | 937/1297 [04:58<02:12,  2.72it/s, now=None]"
          ]
        },
        {
          "output_type": "stream",
          "name": "stdout",
          "text": [
            "Prediction shape: (80, 160, 1)\n",
            "Avg fit shape: (80, 160, 1)\n",
            "Blanks shape: (80, 160, 1)\n",
            "Lane drawn shape: (80, 160, 3)\n",
            "Lane image shape: (544, 960, 3)\n",
            "1/1 [==============================] - 0s 18ms/step\n"
          ]
        },
        {
          "output_type": "stream",
          "name": "stderr",
          "text": [
            "\rt:  72%|███████▏  | 938/1297 [04:59<02:02,  2.94it/s, now=None]"
          ]
        },
        {
          "output_type": "stream",
          "name": "stdout",
          "text": [
            "Prediction shape: (80, 160, 1)\n",
            "Avg fit shape: (80, 160, 1)\n",
            "Blanks shape: (80, 160, 1)\n",
            "Lane drawn shape: (80, 160, 3)\n",
            "Lane image shape: (544, 960, 3)\n",
            "1/1 [==============================] - 0s 20ms/step\n"
          ]
        },
        {
          "output_type": "stream",
          "name": "stderr",
          "text": [
            "\rt:  72%|███████▏  | 939/1297 [04:59<01:56,  3.07it/s, now=None]"
          ]
        },
        {
          "output_type": "stream",
          "name": "stdout",
          "text": [
            "Prediction shape: (80, 160, 1)\n",
            "Avg fit shape: (80, 160, 1)\n",
            "Blanks shape: (80, 160, 1)\n",
            "Lane drawn shape: (80, 160, 3)\n",
            "Lane image shape: (544, 960, 3)\n",
            "1/1 [==============================] - 0s 19ms/step\n"
          ]
        },
        {
          "output_type": "stream",
          "name": "stderr",
          "text": [
            "\rt:  72%|███████▏  | 940/1297 [04:59<01:52,  3.18it/s, now=None]"
          ]
        },
        {
          "output_type": "stream",
          "name": "stdout",
          "text": [
            "Prediction shape: (80, 160, 1)\n",
            "Avg fit shape: (80, 160, 1)\n",
            "Blanks shape: (80, 160, 1)\n",
            "Lane drawn shape: (80, 160, 3)\n",
            "Lane image shape: (544, 960, 3)\n",
            "1/1 [==============================] - 0s 18ms/step\n"
          ]
        },
        {
          "output_type": "stream",
          "name": "stderr",
          "text": [
            "\rt:  73%|███████▎  | 941/1297 [04:59<01:48,  3.27it/s, now=None]"
          ]
        },
        {
          "output_type": "stream",
          "name": "stdout",
          "text": [
            "Prediction shape: (80, 160, 1)\n",
            "Avg fit shape: (80, 160, 1)\n",
            "Blanks shape: (80, 160, 1)\n",
            "Lane drawn shape: (80, 160, 3)\n",
            "Lane image shape: (544, 960, 3)\n",
            "1/1 [==============================] - 0s 18ms/step\n"
          ]
        },
        {
          "output_type": "stream",
          "name": "stderr",
          "text": [
            "\rt:  73%|███████▎  | 942/1297 [05:00<01:45,  3.36it/s, now=None]"
          ]
        },
        {
          "output_type": "stream",
          "name": "stdout",
          "text": [
            "Prediction shape: (80, 160, 1)\n",
            "Avg fit shape: (80, 160, 1)\n",
            "Blanks shape: (80, 160, 1)\n",
            "Lane drawn shape: (80, 160, 3)\n",
            "Lane image shape: (544, 960, 3)\n",
            "1/1 [==============================] - 0s 18ms/step\n"
          ]
        },
        {
          "output_type": "stream",
          "name": "stderr",
          "text": [
            "\rt:  73%|███████▎  | 943/1297 [05:00<01:46,  3.31it/s, now=None]"
          ]
        },
        {
          "output_type": "stream",
          "name": "stdout",
          "text": [
            "Prediction shape: (80, 160, 1)\n",
            "Avg fit shape: (80, 160, 1)\n",
            "Blanks shape: (80, 160, 1)\n",
            "Lane drawn shape: (80, 160, 3)\n",
            "Lane image shape: (544, 960, 3)\n",
            "1/1 [==============================] - 0s 18ms/step\n"
          ]
        },
        {
          "output_type": "stream",
          "name": "stderr",
          "text": [
            "\rt:  73%|███████▎  | 944/1297 [05:00<01:44,  3.37it/s, now=None]"
          ]
        },
        {
          "output_type": "stream",
          "name": "stdout",
          "text": [
            "Prediction shape: (80, 160, 1)\n",
            "Avg fit shape: (80, 160, 1)\n",
            "Blanks shape: (80, 160, 1)\n",
            "Lane drawn shape: (80, 160, 3)\n",
            "Lane image shape: (544, 960, 3)\n",
            "1/1 [==============================] - 0s 18ms/step\n"
          ]
        },
        {
          "output_type": "stream",
          "name": "stderr",
          "text": [
            "\rt:  73%|███████▎  | 945/1297 [05:01<01:42,  3.44it/s, now=None]"
          ]
        },
        {
          "output_type": "stream",
          "name": "stdout",
          "text": [
            "Prediction shape: (80, 160, 1)\n",
            "Avg fit shape: (80, 160, 1)\n",
            "Blanks shape: (80, 160, 1)\n",
            "Lane drawn shape: (80, 160, 3)\n",
            "Lane image shape: (544, 960, 3)\n",
            "1/1 [==============================] - 0s 18ms/step\n"
          ]
        },
        {
          "output_type": "stream",
          "name": "stderr",
          "text": [
            "\rt:  73%|███████▎  | 946/1297 [05:01<01:44,  3.37it/s, now=None]"
          ]
        },
        {
          "output_type": "stream",
          "name": "stdout",
          "text": [
            "Prediction shape: (80, 160, 1)\n",
            "Avg fit shape: (80, 160, 1)\n",
            "Blanks shape: (80, 160, 1)\n",
            "Lane drawn shape: (80, 160, 3)\n",
            "Lane image shape: (544, 960, 3)\n",
            "1/1 [==============================] - 0s 19ms/step\n"
          ]
        },
        {
          "output_type": "stream",
          "name": "stderr",
          "text": [
            "\rt:  73%|███████▎  | 947/1297 [05:01<01:44,  3.37it/s, now=None]"
          ]
        },
        {
          "output_type": "stream",
          "name": "stdout",
          "text": [
            "Prediction shape: (80, 160, 1)\n",
            "Avg fit shape: (80, 160, 1)\n",
            "Blanks shape: (80, 160, 1)\n",
            "Lane drawn shape: (80, 160, 3)\n",
            "Lane image shape: (544, 960, 3)\n",
            "1/1 [==============================] - 0s 21ms/step\n"
          ]
        },
        {
          "output_type": "stream",
          "name": "stderr",
          "text": [
            "\rt:  73%|███████▎  | 948/1297 [05:02<01:43,  3.37it/s, now=None]"
          ]
        },
        {
          "output_type": "stream",
          "name": "stdout",
          "text": [
            "Prediction shape: (80, 160, 1)\n",
            "Avg fit shape: (80, 160, 1)\n",
            "Blanks shape: (80, 160, 1)\n",
            "Lane drawn shape: (80, 160, 3)\n",
            "Lane image shape: (544, 960, 3)\n",
            "1/1 [==============================] - 0s 18ms/step\n"
          ]
        },
        {
          "output_type": "stream",
          "name": "stderr",
          "text": [
            "\rt:  73%|███████▎  | 949/1297 [05:02<01:41,  3.43it/s, now=None]"
          ]
        },
        {
          "output_type": "stream",
          "name": "stdout",
          "text": [
            "Prediction shape: (80, 160, 1)\n",
            "Avg fit shape: (80, 160, 1)\n",
            "Blanks shape: (80, 160, 1)\n",
            "Lane drawn shape: (80, 160, 3)\n",
            "Lane image shape: (544, 960, 3)\n",
            "1/1 [==============================] - 0s 18ms/step\n"
          ]
        },
        {
          "output_type": "stream",
          "name": "stderr",
          "text": [
            "\rt:  73%|███████▎  | 950/1297 [05:02<01:44,  3.33it/s, now=None]"
          ]
        },
        {
          "output_type": "stream",
          "name": "stdout",
          "text": [
            "Prediction shape: (80, 160, 1)\n",
            "Avg fit shape: (80, 160, 1)\n",
            "Blanks shape: (80, 160, 1)\n",
            "Lane drawn shape: (80, 160, 3)\n",
            "Lane image shape: (544, 960, 3)\n",
            "1/1 [==============================] - 0s 18ms/step\n"
          ]
        },
        {
          "output_type": "stream",
          "name": "stderr",
          "text": [
            "\rt:  73%|███████▎  | 951/1297 [05:02<01:42,  3.38it/s, now=None]"
          ]
        },
        {
          "output_type": "stream",
          "name": "stdout",
          "text": [
            "Prediction shape: (80, 160, 1)\n",
            "Avg fit shape: (80, 160, 1)\n",
            "Blanks shape: (80, 160, 1)\n",
            "Lane drawn shape: (80, 160, 3)\n",
            "Lane image shape: (544, 960, 3)\n",
            "1/1 [==============================] - 0s 18ms/step\n"
          ]
        },
        {
          "output_type": "stream",
          "name": "stderr",
          "text": [
            "\rt:  73%|███████▎  | 952/1297 [05:03<01:39,  3.48it/s, now=None]"
          ]
        },
        {
          "output_type": "stream",
          "name": "stdout",
          "text": [
            "Prediction shape: (80, 160, 1)\n",
            "Avg fit shape: (80, 160, 1)\n",
            "Blanks shape: (80, 160, 1)\n",
            "Lane drawn shape: (80, 160, 3)\n",
            "Lane image shape: (544, 960, 3)\n",
            "1/1 [==============================] - 0s 18ms/step\n"
          ]
        },
        {
          "output_type": "stream",
          "name": "stderr",
          "text": [
            "\rt:  73%|███████▎  | 953/1297 [05:03<01:36,  3.55it/s, now=None]"
          ]
        },
        {
          "output_type": "stream",
          "name": "stdout",
          "text": [
            "Prediction shape: (80, 160, 1)\n",
            "Avg fit shape: (80, 160, 1)\n",
            "Blanks shape: (80, 160, 1)\n",
            "Lane drawn shape: (80, 160, 3)\n",
            "Lane image shape: (544, 960, 3)\n",
            "1/1 [==============================] - 0s 20ms/step\n"
          ]
        },
        {
          "output_type": "stream",
          "name": "stderr",
          "text": [
            "\rt:  74%|███████▎  | 954/1297 [05:03<01:40,  3.40it/s, now=None]"
          ]
        },
        {
          "output_type": "stream",
          "name": "stdout",
          "text": [
            "Prediction shape: (80, 160, 1)\n",
            "Avg fit shape: (80, 160, 1)\n",
            "Blanks shape: (80, 160, 1)\n",
            "Lane drawn shape: (80, 160, 3)\n",
            "Lane image shape: (544, 960, 3)\n",
            "1/1 [==============================] - 0s 19ms/step\n"
          ]
        },
        {
          "output_type": "stream",
          "name": "stderr",
          "text": [
            "\rt:  74%|███████▎  | 955/1297 [05:04<01:41,  3.36it/s, now=None]"
          ]
        },
        {
          "output_type": "stream",
          "name": "stdout",
          "text": [
            "Prediction shape: (80, 160, 1)\n",
            "Avg fit shape: (80, 160, 1)\n",
            "Blanks shape: (80, 160, 1)\n",
            "Lane drawn shape: (80, 160, 3)\n",
            "Lane image shape: (544, 960, 3)\n",
            "1/1 [==============================] - 0s 19ms/step\n"
          ]
        },
        {
          "output_type": "stream",
          "name": "stderr",
          "text": [
            "\rt:  74%|███████▎  | 956/1297 [05:04<01:40,  3.41it/s, now=None]"
          ]
        },
        {
          "output_type": "stream",
          "name": "stdout",
          "text": [
            "Prediction shape: (80, 160, 1)\n",
            "Avg fit shape: (80, 160, 1)\n",
            "Blanks shape: (80, 160, 1)\n",
            "Lane drawn shape: (80, 160, 3)\n",
            "Lane image shape: (544, 960, 3)\n",
            "1/1 [==============================] - 0s 18ms/step\n"
          ]
        },
        {
          "output_type": "stream",
          "name": "stderr",
          "text": [
            "\rt:  74%|███████▍  | 957/1297 [05:04<01:38,  3.46it/s, now=None]"
          ]
        },
        {
          "output_type": "stream",
          "name": "stdout",
          "text": [
            "Prediction shape: (80, 160, 1)\n",
            "Avg fit shape: (80, 160, 1)\n",
            "Blanks shape: (80, 160, 1)\n",
            "Lane drawn shape: (80, 160, 3)\n",
            "Lane image shape: (544, 960, 3)\n",
            "1/1 [==============================] - 0s 20ms/step\n"
          ]
        },
        {
          "output_type": "stream",
          "name": "stderr",
          "text": [
            "\rt:  74%|███████▍  | 958/1297 [05:04<01:38,  3.43it/s, now=None]"
          ]
        },
        {
          "output_type": "stream",
          "name": "stdout",
          "text": [
            "Prediction shape: (80, 160, 1)\n",
            "Avg fit shape: (80, 160, 1)\n",
            "Blanks shape: (80, 160, 1)\n",
            "Lane drawn shape: (80, 160, 3)\n",
            "Lane image shape: (544, 960, 3)\n",
            "1/1 [==============================] - 0s 19ms/step\n"
          ]
        },
        {
          "output_type": "stream",
          "name": "stderr",
          "text": [
            "\rt:  74%|███████▍  | 959/1297 [05:05<01:39,  3.41it/s, now=None]"
          ]
        },
        {
          "output_type": "stream",
          "name": "stdout",
          "text": [
            "Prediction shape: (80, 160, 1)\n",
            "Avg fit shape: (80, 160, 1)\n",
            "Blanks shape: (80, 160, 1)\n",
            "Lane drawn shape: (80, 160, 3)\n",
            "Lane image shape: (544, 960, 3)\n",
            "1/1 [==============================] - 0s 20ms/step\n"
          ]
        },
        {
          "output_type": "stream",
          "name": "stderr",
          "text": [
            "\rt:  74%|███████▍  | 960/1297 [05:05<01:37,  3.46it/s, now=None]"
          ]
        },
        {
          "output_type": "stream",
          "name": "stdout",
          "text": [
            "Prediction shape: (80, 160, 1)\n",
            "Avg fit shape: (80, 160, 1)\n",
            "Blanks shape: (80, 160, 1)\n",
            "Lane drawn shape: (80, 160, 3)\n",
            "Lane image shape: (544, 960, 3)\n",
            "1/1 [==============================] - 0s 17ms/step\n"
          ]
        },
        {
          "output_type": "stream",
          "name": "stderr",
          "text": [
            "\rt:  74%|███████▍  | 961/1297 [05:05<01:36,  3.48it/s, now=None]"
          ]
        },
        {
          "output_type": "stream",
          "name": "stdout",
          "text": [
            "Prediction shape: (80, 160, 1)\n",
            "Avg fit shape: (80, 160, 1)\n",
            "Blanks shape: (80, 160, 1)\n",
            "Lane drawn shape: (80, 160, 3)\n",
            "Lane image shape: (544, 960, 3)\n",
            "1/1 [==============================] - 0s 20ms/step\n"
          ]
        },
        {
          "output_type": "stream",
          "name": "stderr",
          "text": [
            "\rt:  74%|███████▍  | 962/1297 [05:06<01:37,  3.45it/s, now=None]"
          ]
        },
        {
          "output_type": "stream",
          "name": "stdout",
          "text": [
            "Prediction shape: (80, 160, 1)\n",
            "Avg fit shape: (80, 160, 1)\n",
            "Blanks shape: (80, 160, 1)\n",
            "Lane drawn shape: (80, 160, 3)\n",
            "Lane image shape: (544, 960, 3)\n",
            "1/1 [==============================] - 0s 22ms/step\n"
          ]
        },
        {
          "output_type": "stream",
          "name": "stderr",
          "text": [
            "\rt:  74%|███████▍  | 963/1297 [05:06<01:36,  3.46it/s, now=None]"
          ]
        },
        {
          "output_type": "stream",
          "name": "stdout",
          "text": [
            "Prediction shape: (80, 160, 1)\n",
            "Avg fit shape: (80, 160, 1)\n",
            "Blanks shape: (80, 160, 1)\n",
            "Lane drawn shape: (80, 160, 3)\n",
            "Lane image shape: (544, 960, 3)\n",
            "1/1 [==============================] - 0s 20ms/step\n"
          ]
        },
        {
          "output_type": "stream",
          "name": "stderr",
          "text": [
            "\rt:  74%|███████▍  | 964/1297 [05:06<01:38,  3.39it/s, now=None]"
          ]
        },
        {
          "output_type": "stream",
          "name": "stdout",
          "text": [
            "Prediction shape: (80, 160, 1)\n",
            "Avg fit shape: (80, 160, 1)\n",
            "Blanks shape: (80, 160, 1)\n",
            "Lane drawn shape: (80, 160, 3)\n",
            "Lane image shape: (544, 960, 3)\n",
            "1/1 [==============================] - 0s 19ms/step\n"
          ]
        },
        {
          "output_type": "stream",
          "name": "stderr",
          "text": [
            "\rt:  74%|███████▍  | 965/1297 [05:07<01:39,  3.35it/s, now=None]"
          ]
        },
        {
          "output_type": "stream",
          "name": "stdout",
          "text": [
            "Prediction shape: (80, 160, 1)\n",
            "Avg fit shape: (80, 160, 1)\n",
            "Blanks shape: (80, 160, 1)\n",
            "Lane drawn shape: (80, 160, 3)\n",
            "Lane image shape: (544, 960, 3)\n",
            "1/1 [==============================] - 0s 20ms/step\n"
          ]
        },
        {
          "output_type": "stream",
          "name": "stderr",
          "text": [
            "\rt:  74%|███████▍  | 966/1297 [05:07<01:37,  3.41it/s, now=None]"
          ]
        },
        {
          "output_type": "stream",
          "name": "stdout",
          "text": [
            "Prediction shape: (80, 160, 1)\n",
            "Avg fit shape: (80, 160, 1)\n",
            "Blanks shape: (80, 160, 1)\n",
            "Lane drawn shape: (80, 160, 3)\n",
            "Lane image shape: (544, 960, 3)\n",
            "1/1 [==============================] - 0s 19ms/step\n"
          ]
        },
        {
          "output_type": "stream",
          "name": "stderr",
          "text": [
            "\rt:  75%|███████▍  | 967/1297 [05:07<01:36,  3.41it/s, now=None]"
          ]
        },
        {
          "output_type": "stream",
          "name": "stdout",
          "text": [
            "Prediction shape: (80, 160, 1)\n",
            "Avg fit shape: (80, 160, 1)\n",
            "Blanks shape: (80, 160, 1)\n",
            "Lane drawn shape: (80, 160, 3)\n",
            "Lane image shape: (544, 960, 3)\n",
            "1/1 [==============================] - 0s 21ms/step\n"
          ]
        },
        {
          "output_type": "stream",
          "name": "stderr",
          "text": [
            "\rt:  75%|███████▍  | 968/1297 [05:07<01:37,  3.36it/s, now=None]"
          ]
        },
        {
          "output_type": "stream",
          "name": "stdout",
          "text": [
            "Prediction shape: (80, 160, 1)\n",
            "Avg fit shape: (80, 160, 1)\n",
            "Blanks shape: (80, 160, 1)\n",
            "Lane drawn shape: (80, 160, 3)\n",
            "Lane image shape: (544, 960, 3)\n",
            "1/1 [==============================] - 0s 20ms/step\n"
          ]
        },
        {
          "output_type": "stream",
          "name": "stderr",
          "text": [
            "\rt:  75%|███████▍  | 969/1297 [05:08<01:36,  3.39it/s, now=None]"
          ]
        },
        {
          "output_type": "stream",
          "name": "stdout",
          "text": [
            "Prediction shape: (80, 160, 1)\n",
            "Avg fit shape: (80, 160, 1)\n",
            "Blanks shape: (80, 160, 1)\n",
            "Lane drawn shape: (80, 160, 3)\n",
            "Lane image shape: (544, 960, 3)\n",
            "1/1 [==============================] - 0s 28ms/step\n",
            "Prediction shape: (80, 160, 1)\n",
            "Avg fit shape: (80, 160, 1)\n",
            "Blanks shape: (80, 160, 1)\n",
            "Lane drawn shape: (80, 160, 3)\n",
            "Lane image shape: (544, 960, 3)\n"
          ]
        },
        {
          "output_type": "stream",
          "name": "stderr",
          "text": [
            "\rt:  75%|███████▍  | 970/1297 [05:08<01:47,  3.05it/s, now=None]"
          ]
        },
        {
          "output_type": "stream",
          "name": "stdout",
          "text": [
            "1/1 [==============================] - 0s 27ms/step\n"
          ]
        },
        {
          "output_type": "stream",
          "name": "stderr",
          "text": [
            "\rt:  75%|███████▍  | 971/1297 [05:09<01:57,  2.76it/s, now=None]"
          ]
        },
        {
          "output_type": "stream",
          "name": "stdout",
          "text": [
            "Prediction shape: (80, 160, 1)\n",
            "Avg fit shape: (80, 160, 1)\n",
            "Blanks shape: (80, 160, 1)\n",
            "Lane drawn shape: (80, 160, 3)\n",
            "Lane image shape: (544, 960, 3)\n",
            "1/1 [==============================] - 0s 46ms/step\n",
            "Prediction shape: (80, 160, 1)\n",
            "Avg fit shape: (80, 160, 1)\n",
            "Blanks shape: (80, 160, 1)\n",
            "Lane drawn shape: (80, 160, 3)\n",
            "Lane image shape: (544, 960, 3)\n"
          ]
        },
        {
          "output_type": "stream",
          "name": "stderr",
          "text": [
            "\rt:  75%|███████▍  | 972/1297 [05:09<02:04,  2.62it/s, now=None]"
          ]
        },
        {
          "output_type": "stream",
          "name": "stdout",
          "text": [
            "1/1 [==============================] - 0s 28ms/step\n"
          ]
        },
        {
          "output_type": "stream",
          "name": "stderr",
          "text": [
            "\rt:  75%|███████▌  | 973/1297 [05:09<02:07,  2.54it/s, now=None]"
          ]
        },
        {
          "output_type": "stream",
          "name": "stdout",
          "text": [
            "Prediction shape: (80, 160, 1)\n",
            "Avg fit shape: (80, 160, 1)\n",
            "Blanks shape: (80, 160, 1)\n",
            "Lane drawn shape: (80, 160, 3)\n",
            "Lane image shape: (544, 960, 3)\n",
            "1/1 [==============================] - 0s 36ms/step\n",
            "Prediction shape: (80, 160, 1)\n",
            "Avg fit shape: (80, 160, 1)\n",
            "Blanks shape: (80, 160, 1)\n",
            "Lane drawn shape: (80, 160, 3)\n",
            "Lane image shape: (544, 960, 3)\n"
          ]
        },
        {
          "output_type": "stream",
          "name": "stderr",
          "text": [
            "\rt:  75%|███████▌  | 974/1297 [05:10<02:08,  2.51it/s, now=None]"
          ]
        },
        {
          "output_type": "stream",
          "name": "stdout",
          "text": [
            "1/1 [==============================] - 0s 27ms/step\n"
          ]
        },
        {
          "output_type": "stream",
          "name": "stderr",
          "text": [
            "\rt:  75%|███████▌  | 975/1297 [05:10<02:10,  2.46it/s, now=None]"
          ]
        },
        {
          "output_type": "stream",
          "name": "stdout",
          "text": [
            "Prediction shape: (80, 160, 1)\n",
            "Avg fit shape: (80, 160, 1)\n",
            "Blanks shape: (80, 160, 1)\n",
            "Lane drawn shape: (80, 160, 3)\n",
            "Lane image shape: (544, 960, 3)\n",
            "1/1 [==============================] - 0s 29ms/step\n"
          ]
        },
        {
          "output_type": "stream",
          "name": "stderr",
          "text": [
            "\rt:  75%|███████▌  | 976/1297 [05:11<02:12,  2.43it/s, now=None]"
          ]
        },
        {
          "output_type": "stream",
          "name": "stdout",
          "text": [
            "Prediction shape: (80, 160, 1)\n",
            "Avg fit shape: (80, 160, 1)\n",
            "Blanks shape: (80, 160, 1)\n",
            "Lane drawn shape: (80, 160, 3)\n",
            "Lane image shape: (544, 960, 3)\n",
            "1/1 [==============================] - 0s 27ms/step\n"
          ]
        },
        {
          "output_type": "stream",
          "name": "stderr",
          "text": [
            "\rt:  75%|███████▌  | 977/1297 [05:11<02:12,  2.41it/s, now=None]"
          ]
        },
        {
          "output_type": "stream",
          "name": "stdout",
          "text": [
            "Prediction shape: (80, 160, 1)\n",
            "Avg fit shape: (80, 160, 1)\n",
            "Blanks shape: (80, 160, 1)\n",
            "Lane drawn shape: (80, 160, 3)\n",
            "Lane image shape: (544, 960, 3)\n",
            "1/1 [==============================] - 0s 34ms/step\n"
          ]
        },
        {
          "output_type": "stream",
          "name": "stderr",
          "text": [
            "\rt:  75%|███████▌  | 978/1297 [05:12<02:16,  2.33it/s, now=None]"
          ]
        },
        {
          "output_type": "stream",
          "name": "stdout",
          "text": [
            "Prediction shape: (80, 160, 1)\n",
            "Avg fit shape: (80, 160, 1)\n",
            "Blanks shape: (80, 160, 1)\n",
            "Lane drawn shape: (80, 160, 3)\n",
            "Lane image shape: (544, 960, 3)\n",
            "1/1 [==============================] - 0s 39ms/step\n"
          ]
        },
        {
          "output_type": "stream",
          "name": "stderr",
          "text": [
            "\rt:  75%|███████▌  | 979/1297 [05:12<02:13,  2.37it/s, now=None]"
          ]
        },
        {
          "output_type": "stream",
          "name": "stdout",
          "text": [
            "Prediction shape: (80, 160, 1)\n",
            "Avg fit shape: (80, 160, 1)\n",
            "Blanks shape: (80, 160, 1)\n",
            "Lane drawn shape: (80, 160, 3)\n",
            "Lane image shape: (544, 960, 3)\n",
            "1/1 [==============================] - 0s 29ms/step\n"
          ]
        },
        {
          "output_type": "stream",
          "name": "stderr",
          "text": [
            "\rt:  76%|███████▌  | 980/1297 [05:12<02:14,  2.36it/s, now=None]"
          ]
        },
        {
          "output_type": "stream",
          "name": "stdout",
          "text": [
            "Prediction shape: (80, 160, 1)\n",
            "Avg fit shape: (80, 160, 1)\n",
            "Blanks shape: (80, 160, 1)\n",
            "Lane drawn shape: (80, 160, 3)\n",
            "Lane image shape: (544, 960, 3)\n",
            "1/1 [==============================] - 0s 49ms/step\n",
            "Prediction shape: (80, 160, 1)\n",
            "Avg fit shape: (80, 160, 1)\n",
            "Blanks shape: (80, 160, 1)\n",
            "Lane drawn shape: (80, 160, 3)\n"
          ]
        },
        {
          "output_type": "stream",
          "name": "stderr",
          "text": [
            "\rt:  76%|███████▌  | 981/1297 [05:13<02:15,  2.32it/s, now=None]"
          ]
        },
        {
          "output_type": "stream",
          "name": "stdout",
          "text": [
            "Lane image shape: (544, 960, 3)\n",
            "1/1 [==============================] - 0s 43ms/step\n"
          ]
        },
        {
          "output_type": "stream",
          "name": "stderr",
          "text": [
            "\rt:  76%|███████▌  | 982/1297 [05:13<02:18,  2.28it/s, now=None]"
          ]
        },
        {
          "output_type": "stream",
          "name": "stdout",
          "text": [
            "Prediction shape: (80, 160, 1)\n",
            "Avg fit shape: (80, 160, 1)\n",
            "Blanks shape: (80, 160, 1)\n",
            "Lane drawn shape: (80, 160, 3)\n",
            "Lane image shape: (544, 960, 3)\n",
            "1/1 [==============================] - 0s 41ms/step\n",
            "Prediction shape: (80, 160, 1)\n",
            "Avg fit shape: (80, 160, 1)\n",
            "Blanks shape: (80, 160, 1)\n",
            "Lane drawn shape: (80, 160, 3)\n",
            "Lane image shape: (544, 960, 3)\n"
          ]
        },
        {
          "output_type": "stream",
          "name": "stderr",
          "text": [
            "\rt:  76%|███████▌  | 983/1297 [05:14<02:18,  2.27it/s, now=None]"
          ]
        },
        {
          "output_type": "stream",
          "name": "stdout",
          "text": [
            "1/1 [==============================] - 0s 18ms/step\n"
          ]
        },
        {
          "output_type": "stream",
          "name": "stderr",
          "text": [
            "\rt:  76%|███████▌  | 984/1297 [05:14<02:02,  2.56it/s, now=None]"
          ]
        },
        {
          "output_type": "stream",
          "name": "stdout",
          "text": [
            "Prediction shape: (80, 160, 1)\n",
            "Avg fit shape: (80, 160, 1)\n",
            "Blanks shape: (80, 160, 1)\n",
            "Lane drawn shape: (80, 160, 3)\n",
            "Lane image shape: (544, 960, 3)\n",
            "1/1 [==============================] - 0s 18ms/step\n"
          ]
        },
        {
          "output_type": "stream",
          "name": "stderr",
          "text": [
            "\rt:  76%|███████▌  | 985/1297 [05:14<01:52,  2.78it/s, now=None]"
          ]
        },
        {
          "output_type": "stream",
          "name": "stdout",
          "text": [
            "Prediction shape: (80, 160, 1)\n",
            "Avg fit shape: (80, 160, 1)\n",
            "Blanks shape: (80, 160, 1)\n",
            "Lane drawn shape: (80, 160, 3)\n",
            "Lane image shape: (544, 960, 3)\n",
            "1/1 [==============================] - 0s 22ms/step\n"
          ]
        },
        {
          "output_type": "stream",
          "name": "stderr",
          "text": [
            "\rt:  76%|███████▌  | 986/1297 [05:15<01:50,  2.82it/s, now=None]"
          ]
        },
        {
          "output_type": "stream",
          "name": "stdout",
          "text": [
            "Prediction shape: (80, 160, 1)\n",
            "Avg fit shape: (80, 160, 1)\n",
            "Blanks shape: (80, 160, 1)\n",
            "Lane drawn shape: (80, 160, 3)\n",
            "Lane image shape: (544, 960, 3)\n",
            "1/1 [==============================] - 0s 22ms/step\n"
          ]
        },
        {
          "output_type": "stream",
          "name": "stderr",
          "text": [
            "\rt:  76%|███████▌  | 987/1297 [05:15<01:44,  2.97it/s, now=None]"
          ]
        },
        {
          "output_type": "stream",
          "name": "stdout",
          "text": [
            "Prediction shape: (80, 160, 1)\n",
            "Avg fit shape: (80, 160, 1)\n",
            "Blanks shape: (80, 160, 1)\n",
            "Lane drawn shape: (80, 160, 3)\n",
            "Lane image shape: (544, 960, 3)\n",
            "1/1 [==============================] - 0s 18ms/step\n"
          ]
        },
        {
          "output_type": "stream",
          "name": "stderr",
          "text": [
            "\rt:  76%|███████▌  | 988/1297 [05:15<01:38,  3.13it/s, now=None]"
          ]
        },
        {
          "output_type": "stream",
          "name": "stdout",
          "text": [
            "Prediction shape: (80, 160, 1)\n",
            "Avg fit shape: (80, 160, 1)\n",
            "Blanks shape: (80, 160, 1)\n",
            "Lane drawn shape: (80, 160, 3)\n",
            "Lane image shape: (544, 960, 3)\n",
            "1/1 [==============================] - 0s 23ms/step\n"
          ]
        },
        {
          "output_type": "stream",
          "name": "stderr",
          "text": [
            "\rt:  76%|███████▋  | 989/1297 [05:15<01:36,  3.20it/s, now=None]"
          ]
        },
        {
          "output_type": "stream",
          "name": "stdout",
          "text": [
            "Prediction shape: (80, 160, 1)\n",
            "Avg fit shape: (80, 160, 1)\n",
            "Blanks shape: (80, 160, 1)\n",
            "Lane drawn shape: (80, 160, 3)\n",
            "Lane image shape: (544, 960, 3)\n",
            "1/1 [==============================] - 0s 20ms/step\n"
          ]
        },
        {
          "output_type": "stream",
          "name": "stderr",
          "text": [
            "\rt:  76%|███████▋  | 990/1297 [05:16<01:36,  3.17it/s, now=None]"
          ]
        },
        {
          "output_type": "stream",
          "name": "stdout",
          "text": [
            "Prediction shape: (80, 160, 1)\n",
            "Avg fit shape: (80, 160, 1)\n",
            "Blanks shape: (80, 160, 1)\n",
            "Lane drawn shape: (80, 160, 3)\n",
            "Lane image shape: (544, 960, 3)\n",
            "1/1 [==============================] - 0s 19ms/step\n"
          ]
        },
        {
          "output_type": "stream",
          "name": "stderr",
          "text": [
            "\rt:  76%|███████▋  | 991/1297 [05:16<01:34,  3.24it/s, now=None]"
          ]
        },
        {
          "output_type": "stream",
          "name": "stdout",
          "text": [
            "Prediction shape: (80, 160, 1)\n",
            "Avg fit shape: (80, 160, 1)\n",
            "Blanks shape: (80, 160, 1)\n",
            "Lane drawn shape: (80, 160, 3)\n",
            "Lane image shape: (544, 960, 3)\n",
            "1/1 [==============================] - 0s 18ms/step\n"
          ]
        },
        {
          "output_type": "stream",
          "name": "stderr",
          "text": [
            "\rt:  76%|███████▋  | 992/1297 [05:16<01:31,  3.34it/s, now=None]"
          ]
        },
        {
          "output_type": "stream",
          "name": "stdout",
          "text": [
            "Prediction shape: (80, 160, 1)\n",
            "Avg fit shape: (80, 160, 1)\n",
            "Blanks shape: (80, 160, 1)\n",
            "Lane drawn shape: (80, 160, 3)\n",
            "Lane image shape: (544, 960, 3)\n",
            "1/1 [==============================] - 0s 18ms/step\n"
          ]
        },
        {
          "output_type": "stream",
          "name": "stderr",
          "text": [
            "\rt:  77%|███████▋  | 993/1297 [05:17<01:30,  3.38it/s, now=None]"
          ]
        },
        {
          "output_type": "stream",
          "name": "stdout",
          "text": [
            "Prediction shape: (80, 160, 1)\n",
            "Avg fit shape: (80, 160, 1)\n",
            "Blanks shape: (80, 160, 1)\n",
            "Lane drawn shape: (80, 160, 3)\n",
            "Lane image shape: (544, 960, 3)\n",
            "1/1 [==============================] - 0s 20ms/step\n"
          ]
        },
        {
          "output_type": "stream",
          "name": "stderr",
          "text": [
            "\rt:  77%|███████▋  | 994/1297 [05:17<01:31,  3.30it/s, now=None]"
          ]
        },
        {
          "output_type": "stream",
          "name": "stdout",
          "text": [
            "Prediction shape: (80, 160, 1)\n",
            "Avg fit shape: (80, 160, 1)\n",
            "Blanks shape: (80, 160, 1)\n",
            "Lane drawn shape: (80, 160, 3)\n",
            "Lane image shape: (544, 960, 3)\n",
            "1/1 [==============================] - 0s 19ms/step\n"
          ]
        },
        {
          "output_type": "stream",
          "name": "stderr",
          "text": [
            "\rt:  77%|███████▋  | 995/1297 [05:17<01:30,  3.33it/s, now=None]"
          ]
        },
        {
          "output_type": "stream",
          "name": "stdout",
          "text": [
            "Prediction shape: (80, 160, 1)\n",
            "Avg fit shape: (80, 160, 1)\n",
            "Blanks shape: (80, 160, 1)\n",
            "Lane drawn shape: (80, 160, 3)\n",
            "Lane image shape: (544, 960, 3)\n",
            "1/1 [==============================] - 0s 29ms/step\n"
          ]
        },
        {
          "output_type": "stream",
          "name": "stderr",
          "text": [
            "\rt:  77%|███████▋  | 996/1297 [05:18<01:38,  3.07it/s, now=None]"
          ]
        },
        {
          "output_type": "stream",
          "name": "stdout",
          "text": [
            "Prediction shape: (80, 160, 1)\n",
            "Avg fit shape: (80, 160, 1)\n",
            "Blanks shape: (80, 160, 1)\n",
            "Lane drawn shape: (80, 160, 3)\n",
            "Lane image shape: (544, 960, 3)\n",
            "1/1 [==============================] - 0s 35ms/step\n"
          ]
        },
        {
          "output_type": "stream",
          "name": "stderr",
          "text": [
            "\rt:  77%|███████▋  | 997/1297 [05:18<01:42,  2.92it/s, now=None]"
          ]
        },
        {
          "output_type": "stream",
          "name": "stdout",
          "text": [
            "Prediction shape: (80, 160, 1)\n",
            "Avg fit shape: (80, 160, 1)\n",
            "Blanks shape: (80, 160, 1)\n",
            "Lane drawn shape: (80, 160, 3)\n",
            "Lane image shape: (544, 960, 3)\n",
            "1/1 [==============================] - 0s 18ms/step\n"
          ]
        },
        {
          "output_type": "stream",
          "name": "stderr",
          "text": [
            "\rt:  77%|███████▋  | 998/1297 [05:18<01:38,  3.04it/s, now=None]"
          ]
        },
        {
          "output_type": "stream",
          "name": "stdout",
          "text": [
            "Prediction shape: (80, 160, 1)\n",
            "Avg fit shape: (80, 160, 1)\n",
            "Blanks shape: (80, 160, 1)\n",
            "Lane drawn shape: (80, 160, 3)\n",
            "Lane image shape: (544, 960, 3)\n",
            "1/1 [==============================] - 0s 19ms/step\n"
          ]
        },
        {
          "output_type": "stream",
          "name": "stderr",
          "text": [
            "\rt:  77%|███████▋  | 999/1297 [05:19<01:33,  3.18it/s, now=None]"
          ]
        },
        {
          "output_type": "stream",
          "name": "stdout",
          "text": [
            "Prediction shape: (80, 160, 1)\n",
            "Avg fit shape: (80, 160, 1)\n",
            "Blanks shape: (80, 160, 1)\n",
            "Lane drawn shape: (80, 160, 3)\n",
            "Lane image shape: (544, 960, 3)\n",
            "1/1 [==============================] - 0s 19ms/step\n"
          ]
        },
        {
          "output_type": "stream",
          "name": "stderr",
          "text": [
            "\rt:  77%|███████▋  | 1000/1297 [05:19<01:32,  3.21it/s, now=None]"
          ]
        },
        {
          "output_type": "stream",
          "name": "stdout",
          "text": [
            "Prediction shape: (80, 160, 1)\n",
            "Avg fit shape: (80, 160, 1)\n",
            "Blanks shape: (80, 160, 1)\n",
            "Lane drawn shape: (80, 160, 3)\n",
            "Lane image shape: (544, 960, 3)\n",
            "1/1 [==============================] - 0s 19ms/step\n"
          ]
        },
        {
          "output_type": "stream",
          "name": "stderr",
          "text": [
            "\rt:  77%|███████▋  | 1001/1297 [05:19<01:30,  3.25it/s, now=None]"
          ]
        },
        {
          "output_type": "stream",
          "name": "stdout",
          "text": [
            "Prediction shape: (80, 160, 1)\n",
            "Avg fit shape: (80, 160, 1)\n",
            "Blanks shape: (80, 160, 1)\n",
            "Lane drawn shape: (80, 160, 3)\n",
            "Lane image shape: (544, 960, 3)\n",
            "1/1 [==============================] - 0s 19ms/step\n"
          ]
        },
        {
          "output_type": "stream",
          "name": "stderr",
          "text": [
            "\rt:  77%|███████▋  | 1002/1297 [05:19<01:28,  3.33it/s, now=None]"
          ]
        },
        {
          "output_type": "stream",
          "name": "stdout",
          "text": [
            "Prediction shape: (80, 160, 1)\n",
            "Avg fit shape: (80, 160, 1)\n",
            "Blanks shape: (80, 160, 1)\n",
            "Lane drawn shape: (80, 160, 3)\n",
            "Lane image shape: (544, 960, 3)\n",
            "1/1 [==============================] - 0s 19ms/step\n"
          ]
        },
        {
          "output_type": "stream",
          "name": "stderr",
          "text": [
            "\rt:  77%|███████▋  | 1003/1297 [05:20<01:27,  3.35it/s, now=None]"
          ]
        },
        {
          "output_type": "stream",
          "name": "stdout",
          "text": [
            "Prediction shape: (80, 160, 1)\n",
            "Avg fit shape: (80, 160, 1)\n",
            "Blanks shape: (80, 160, 1)\n",
            "Lane drawn shape: (80, 160, 3)\n",
            "Lane image shape: (544, 960, 3)\n",
            "1/1 [==============================] - 0s 19ms/step\n"
          ]
        },
        {
          "output_type": "stream",
          "name": "stderr",
          "text": [
            "\rt:  77%|███████▋  | 1004/1297 [05:20<01:27,  3.36it/s, now=None]"
          ]
        },
        {
          "output_type": "stream",
          "name": "stdout",
          "text": [
            "Prediction shape: (80, 160, 1)\n",
            "Avg fit shape: (80, 160, 1)\n",
            "Blanks shape: (80, 160, 1)\n",
            "Lane drawn shape: (80, 160, 3)\n",
            "Lane image shape: (544, 960, 3)\n",
            "1/1 [==============================] - 0s 20ms/step\n"
          ]
        },
        {
          "output_type": "stream",
          "name": "stderr",
          "text": [
            "\rt:  77%|███████▋  | 1005/1297 [05:20<01:29,  3.27it/s, now=None]"
          ]
        },
        {
          "output_type": "stream",
          "name": "stdout",
          "text": [
            "Prediction shape: (80, 160, 1)\n",
            "Avg fit shape: (80, 160, 1)\n",
            "Blanks shape: (80, 160, 1)\n",
            "Lane drawn shape: (80, 160, 3)\n",
            "Lane image shape: (544, 960, 3)\n",
            "1/1 [==============================] - 0s 18ms/step\n"
          ]
        },
        {
          "output_type": "stream",
          "name": "stderr",
          "text": [
            "\rt:  78%|███████▊  | 1006/1297 [05:21<01:26,  3.36it/s, now=None]"
          ]
        },
        {
          "output_type": "stream",
          "name": "stdout",
          "text": [
            "Prediction shape: (80, 160, 1)\n",
            "Avg fit shape: (80, 160, 1)\n",
            "Blanks shape: (80, 160, 1)\n",
            "Lane drawn shape: (80, 160, 3)\n",
            "Lane image shape: (544, 960, 3)\n",
            "1/1 [==============================] - 0s 19ms/step\n"
          ]
        },
        {
          "output_type": "stream",
          "name": "stderr",
          "text": [
            "\rt:  78%|███████▊  | 1007/1297 [05:21<01:25,  3.37it/s, now=None]"
          ]
        },
        {
          "output_type": "stream",
          "name": "stdout",
          "text": [
            "Prediction shape: (80, 160, 1)\n",
            "Avg fit shape: (80, 160, 1)\n",
            "Blanks shape: (80, 160, 1)\n",
            "Lane drawn shape: (80, 160, 3)\n",
            "Lane image shape: (544, 960, 3)\n",
            "1/1 [==============================] - 0s 20ms/step\n"
          ]
        },
        {
          "output_type": "stream",
          "name": "stderr",
          "text": [
            "\rt:  78%|███████▊  | 1008/1297 [05:21<01:23,  3.44it/s, now=None]"
          ]
        },
        {
          "output_type": "stream",
          "name": "stdout",
          "text": [
            "Prediction shape: (80, 160, 1)\n",
            "Avg fit shape: (80, 160, 1)\n",
            "Blanks shape: (80, 160, 1)\n",
            "Lane drawn shape: (80, 160, 3)\n",
            "Lane image shape: (544, 960, 3)\n",
            "1/1 [==============================] - 0s 20ms/step\n"
          ]
        },
        {
          "output_type": "stream",
          "name": "stderr",
          "text": [
            "\rt:  78%|███████▊  | 1009/1297 [05:22<01:25,  3.38it/s, now=None]"
          ]
        },
        {
          "output_type": "stream",
          "name": "stdout",
          "text": [
            "Prediction shape: (80, 160, 1)\n",
            "Avg fit shape: (80, 160, 1)\n",
            "Blanks shape: (80, 160, 1)\n",
            "Lane drawn shape: (80, 160, 3)\n",
            "Lane image shape: (544, 960, 3)\n",
            "1/1 [==============================] - 0s 19ms/step\n"
          ]
        },
        {
          "output_type": "stream",
          "name": "stderr",
          "text": [
            "\rt:  78%|███████▊  | 1010/1297 [05:22<01:24,  3.39it/s, now=None]"
          ]
        },
        {
          "output_type": "stream",
          "name": "stdout",
          "text": [
            "Prediction shape: (80, 160, 1)\n",
            "Avg fit shape: (80, 160, 1)\n",
            "Blanks shape: (80, 160, 1)\n",
            "Lane drawn shape: (80, 160, 3)\n",
            "Lane image shape: (544, 960, 3)\n",
            "1/1 [==============================] - 0s 18ms/step\n"
          ]
        },
        {
          "output_type": "stream",
          "name": "stderr",
          "text": [
            "\rt:  78%|███████▊  | 1011/1297 [05:22<01:22,  3.47it/s, now=None]"
          ]
        },
        {
          "output_type": "stream",
          "name": "stdout",
          "text": [
            "Prediction shape: (80, 160, 1)\n",
            "Avg fit shape: (80, 160, 1)\n",
            "Blanks shape: (80, 160, 1)\n",
            "Lane drawn shape: (80, 160, 3)\n",
            "Lane image shape: (544, 960, 3)\n",
            "1/1 [==============================] - 0s 20ms/step\n"
          ]
        },
        {
          "output_type": "stream",
          "name": "stderr",
          "text": [
            "\rt:  78%|███████▊  | 1012/1297 [05:22<01:22,  3.44it/s, now=None]"
          ]
        },
        {
          "output_type": "stream",
          "name": "stdout",
          "text": [
            "Prediction shape: (80, 160, 1)\n",
            "Avg fit shape: (80, 160, 1)\n",
            "Blanks shape: (80, 160, 1)\n",
            "Lane drawn shape: (80, 160, 3)\n",
            "Lane image shape: (544, 960, 3)\n",
            "1/1 [==============================] - 0s 18ms/step\n"
          ]
        },
        {
          "output_type": "stream",
          "name": "stderr",
          "text": [
            "\rt:  78%|███████▊  | 1013/1297 [05:23<01:22,  3.46it/s, now=None]"
          ]
        },
        {
          "output_type": "stream",
          "name": "stdout",
          "text": [
            "Prediction shape: (80, 160, 1)\n",
            "Avg fit shape: (80, 160, 1)\n",
            "Blanks shape: (80, 160, 1)\n",
            "Lane drawn shape: (80, 160, 3)\n",
            "Lane image shape: (544, 960, 3)\n",
            "1/1 [==============================] - 0s 18ms/step\n"
          ]
        },
        {
          "output_type": "stream",
          "name": "stderr",
          "text": [
            "\rt:  78%|███████▊  | 1014/1297 [05:23<01:22,  3.44it/s, now=None]"
          ]
        },
        {
          "output_type": "stream",
          "name": "stdout",
          "text": [
            "Prediction shape: (80, 160, 1)\n",
            "Avg fit shape: (80, 160, 1)\n",
            "Blanks shape: (80, 160, 1)\n",
            "Lane drawn shape: (80, 160, 3)\n",
            "Lane image shape: (544, 960, 3)\n",
            "1/1 [==============================] - 0s 18ms/step\n"
          ]
        },
        {
          "output_type": "stream",
          "name": "stderr",
          "text": [
            "\rt:  78%|███████▊  | 1015/1297 [05:23<01:20,  3.50it/s, now=None]"
          ]
        },
        {
          "output_type": "stream",
          "name": "stdout",
          "text": [
            "Prediction shape: (80, 160, 1)\n",
            "Avg fit shape: (80, 160, 1)\n",
            "Blanks shape: (80, 160, 1)\n",
            "Lane drawn shape: (80, 160, 3)\n",
            "Lane image shape: (544, 960, 3)\n",
            "1/1 [==============================] - 0s 18ms/step\n"
          ]
        },
        {
          "output_type": "stream",
          "name": "stderr",
          "text": [
            "\rt:  78%|███████▊  | 1016/1297 [05:24<01:20,  3.49it/s, now=None]"
          ]
        },
        {
          "output_type": "stream",
          "name": "stdout",
          "text": [
            "Prediction shape: (80, 160, 1)\n",
            "Avg fit shape: (80, 160, 1)\n",
            "Blanks shape: (80, 160, 1)\n",
            "Lane drawn shape: (80, 160, 3)\n",
            "Lane image shape: (544, 960, 3)\n",
            "1/1 [==============================] - 0s 31ms/step\n"
          ]
        },
        {
          "output_type": "stream",
          "name": "stderr",
          "text": [
            "\rt:  78%|███████▊  | 1017/1297 [05:24<01:32,  3.02it/s, now=None]"
          ]
        },
        {
          "output_type": "stream",
          "name": "stdout",
          "text": [
            "Prediction shape: (80, 160, 1)\n",
            "Avg fit shape: (80, 160, 1)\n",
            "Blanks shape: (80, 160, 1)\n",
            "Lane drawn shape: (80, 160, 3)\n",
            "Lane image shape: (544, 960, 3)\n",
            "1/1 [==============================] - 0s 38ms/step\n",
            "Prediction shape:"
          ]
        },
        {
          "output_type": "stream",
          "name": "stderr",
          "text": [
            "\rt:  78%|███████▊  | 1018/1297 [05:24<01:41,  2.74it/s, now=None]"
          ]
        },
        {
          "output_type": "stream",
          "name": "stdout",
          "text": [
            " (80, 160, 1)\n",
            "Avg fit shape: (80, 160, 1)\n",
            "Blanks shape: (80, 160, 1)\n",
            "Lane drawn shape: (80, 160, 3)\n",
            "Lane image shape: (544, 960, 3)\n",
            "1/1 [==============================] - 0s 31ms/step\n",
            "Prediction shape: (80, 160, 1)\n",
            "Avg fit shape: (80, 160, 1)\n",
            "Blanks shape: (80, 160, 1)\n",
            "Lane drawn shape: (80, 160, 3)\n",
            "Lane image shape: (544, 960, 3)\n"
          ]
        },
        {
          "output_type": "stream",
          "name": "stderr",
          "text": [
            "\rt:  79%|███████▊  | 1019/1297 [05:25<01:43,  2.69it/s, now=None]"
          ]
        },
        {
          "output_type": "stream",
          "name": "stdout",
          "text": [
            "1/1 [==============================] - 0s 32ms/step\n"
          ]
        },
        {
          "output_type": "stream",
          "name": "stderr",
          "text": [
            "\rt:  79%|███████▊  | 1020/1297 [05:25<01:49,  2.53it/s, now=None]"
          ]
        },
        {
          "output_type": "stream",
          "name": "stdout",
          "text": [
            "Prediction shape: (80, 160, 1)\n",
            "Avg fit shape: (80, 160, 1)\n",
            "Blanks shape: (80, 160, 1)\n",
            "Lane drawn shape: (80, 160, 3)\n",
            "Lane image shape: (544, 960, 3)\n",
            "1/1 [==============================] - 0s 63ms/step\n"
          ]
        },
        {
          "output_type": "stream",
          "name": "stderr",
          "text": [
            "\rt:  79%|███████▊  | 1021/1297 [05:26<02:00,  2.30it/s, now=None]"
          ]
        },
        {
          "output_type": "stream",
          "name": "stdout",
          "text": [
            "Prediction shape: (80, 160, 1)\n",
            "Avg fit shape: (80, 160, 1)\n",
            "Blanks shape: (80, 160, 1)\n",
            "Lane drawn shape: (80, 160, 3)\n",
            "Lane image shape: (544, 960, 3)\n",
            "1/1 [==============================] - 0s 39ms/step\n"
          ]
        },
        {
          "output_type": "stream",
          "name": "stderr",
          "text": [
            "\rt:  79%|███████▉  | 1022/1297 [05:26<02:00,  2.29it/s, now=None]"
          ]
        },
        {
          "output_type": "stream",
          "name": "stdout",
          "text": [
            "Prediction shape: (80, 160, 1)\n",
            "Avg fit shape: (80, 160, 1)\n",
            "Blanks shape: (80, 160, 1)\n",
            "Lane drawn shape: (80, 160, 3)\n",
            "Lane image shape: (544, 960, 3)\n",
            "1/1 [==============================] - 0s 46ms/step\n",
            "Prediction shape: (80, 160, 1)\n",
            "Avg fit shape: (80, 160, 1)\n",
            "Blanks shape: (80, 160, 1)\n",
            "Lane drawn shape: (80, 160, 3)\n",
            "Lane image shape: (544, 960, 3)\n"
          ]
        },
        {
          "output_type": "stream",
          "name": "stderr",
          "text": [
            "\rt:  79%|███████▉  | 1023/1297 [05:27<01:59,  2.30it/s, now=None]"
          ]
        },
        {
          "output_type": "stream",
          "name": "stdout",
          "text": [
            "1/1 [==============================] - 0s 30ms/step\n",
            "Prediction shape:"
          ]
        },
        {
          "output_type": "stream",
          "name": "stderr",
          "text": [
            "\rt:  79%|███████▉  | 1024/1297 [05:27<01:56,  2.35it/s, now=None]"
          ]
        },
        {
          "output_type": "stream",
          "name": "stdout",
          "text": [
            " (80, 160, 1)\n",
            "Avg fit shape: (80, 160, 1)\n",
            "Blanks shape: (80, 160, 1)\n",
            "Lane drawn shape: (80, 160, 3)\n",
            "Lane image shape: (544, 960, 3)\n",
            "1/1 [==============================] - 0s 46ms/step\n"
          ]
        },
        {
          "output_type": "stream",
          "name": "stderr",
          "text": [
            "\rt:  79%|███████▉  | 1025/1297 [05:28<01:58,  2.29it/s, now=None]"
          ]
        },
        {
          "output_type": "stream",
          "name": "stdout",
          "text": [
            "Prediction shape: (80, 160, 1)\n",
            "Avg fit shape: (80, 160, 1)\n",
            "Blanks shape: (80, 160, 1)\n",
            "Lane drawn shape: (80, 160, 3)\n",
            "Lane image shape: (544, 960, 3)\n",
            "1/1 [==============================] - 0s 32ms/step\n",
            "Prediction shape: (80, 160, 1)\n",
            "Avg fit shape: (80, 160, 1)\n",
            "Blanks shape: (80, 160, 1)\n",
            "Lane drawn shape: (80, 160, 3)\n",
            "Lane image shape: (544, 960, 3)\n"
          ]
        },
        {
          "output_type": "stream",
          "name": "stderr",
          "text": [
            "\rt:  79%|███████▉  | 1026/1297 [05:28<01:58,  2.30it/s, now=None]"
          ]
        },
        {
          "output_type": "stream",
          "name": "stdout",
          "text": [
            "1/1 [==============================] - 0s 35ms/step\n"
          ]
        },
        {
          "output_type": "stream",
          "name": "stderr",
          "text": [
            "\rt:  79%|███████▉  | 1027/1297 [05:28<01:55,  2.34it/s, now=None]"
          ]
        },
        {
          "output_type": "stream",
          "name": "stdout",
          "text": [
            "Prediction shape: (80, 160, 1)\n",
            "Avg fit shape: (80, 160, 1)\n",
            "Blanks shape: (80, 160, 1)\n",
            "Lane drawn shape: (80, 160, 3)\n",
            "Lane image shape: (544, 960, 3)\n",
            "1/1 [==============================] - 0s 37ms/step\n",
            "Prediction shape: (80, 160, 1)\n",
            "Avg fit shape: (80, 160, 1)\n",
            "Blanks shape: (80, 160, 1)\n",
            "Lane drawn shape: (80, 160, 3)\n",
            "Lane image shape: (544, 960, 3)\n"
          ]
        },
        {
          "output_type": "stream",
          "name": "stderr",
          "text": [
            "\rt:  79%|███████▉  | 1028/1297 [05:29<01:54,  2.36it/s, now=None]"
          ]
        },
        {
          "output_type": "stream",
          "name": "stdout",
          "text": [
            "1/1 [==============================] - 0s 27ms/step\n"
          ]
        },
        {
          "output_type": "stream",
          "name": "stderr",
          "text": [
            "\rt:  79%|███████▉  | 1029/1297 [05:29<01:56,  2.30it/s, now=None]"
          ]
        },
        {
          "output_type": "stream",
          "name": "stdout",
          "text": [
            "Prediction shape: (80, 160, 1)\n",
            "Avg fit shape: (80, 160, 1)\n",
            "Blanks shape: (80, 160, 1)\n",
            "Lane drawn shape: (80, 160, 3)\n",
            "Lane image shape: (544, 960, 3)\n",
            "1/1 [==============================] - 0s 45ms/step\n"
          ]
        },
        {
          "output_type": "stream",
          "name": "stderr",
          "text": [
            "\rt:  79%|███████▉  | 1030/1297 [05:30<01:57,  2.27it/s, now=None]"
          ]
        },
        {
          "output_type": "stream",
          "name": "stdout",
          "text": [
            "Prediction shape: (80, 160, 1)\n",
            "Avg fit shape: (80, 160, 1)\n",
            "Blanks shape: (80, 160, 1)\n",
            "Lane drawn shape: (80, 160, 3)\n",
            "Lane image shape: (544, 960, 3)\n",
            "1/1 [==============================] - 0s 18ms/step\n"
          ]
        },
        {
          "output_type": "stream",
          "name": "stderr",
          "text": [
            "\rt:  79%|███████▉  | 1031/1297 [05:30<01:43,  2.57it/s, now=None]"
          ]
        },
        {
          "output_type": "stream",
          "name": "stdout",
          "text": [
            "Prediction shape: (80, 160, 1)\n",
            "Avg fit shape: (80, 160, 1)\n",
            "Blanks shape: (80, 160, 1)\n",
            "Lane drawn shape: (80, 160, 3)\n",
            "Lane image shape: (544, 960, 3)\n",
            "1/1 [==============================] - 0s 18ms/step\n"
          ]
        },
        {
          "output_type": "stream",
          "name": "stderr",
          "text": [
            "\rt:  80%|███████▉  | 1032/1297 [05:30<01:33,  2.84it/s, now=None]"
          ]
        },
        {
          "output_type": "stream",
          "name": "stdout",
          "text": [
            "Prediction shape: (80, 160, 1)\n",
            "Avg fit shape: (80, 160, 1)\n",
            "Blanks shape: (80, 160, 1)\n",
            "Lane drawn shape: (80, 160, 3)\n",
            "Lane image shape: (544, 960, 3)\n",
            "1/1 [==============================] - 0s 19ms/step\n"
          ]
        },
        {
          "output_type": "stream",
          "name": "stderr",
          "text": [
            "\rt:  80%|███████▉  | 1033/1297 [05:31<01:29,  2.96it/s, now=None]"
          ]
        },
        {
          "output_type": "stream",
          "name": "stdout",
          "text": [
            "Prediction shape: (80, 160, 1)\n",
            "Avg fit shape: (80, 160, 1)\n",
            "Blanks shape: (80, 160, 1)\n",
            "Lane drawn shape: (80, 160, 3)\n",
            "Lane image shape: (544, 960, 3)\n",
            "1/1 [==============================] - 0s 19ms/step\n"
          ]
        },
        {
          "output_type": "stream",
          "name": "stderr",
          "text": [
            "\rt:  80%|███████▉  | 1034/1297 [05:31<01:47,  2.45it/s, now=None]"
          ]
        },
        {
          "output_type": "stream",
          "name": "stdout",
          "text": [
            "Prediction shape: (80, 160, 1)\n",
            "Avg fit shape: (80, 160, 1)\n",
            "Blanks shape: (80, 160, 1)\n",
            "Lane drawn shape: (80, 160, 3)\n",
            "Lane image shape: (544, 960, 3)\n",
            "1/1 [==============================] - 0s 19ms/step\n"
          ]
        },
        {
          "output_type": "stream",
          "name": "stderr",
          "text": [
            "\rt:  80%|███████▉  | 1035/1297 [05:31<01:36,  2.72it/s, now=None]"
          ]
        },
        {
          "output_type": "stream",
          "name": "stdout",
          "text": [
            "Prediction shape: (80, 160, 1)\n",
            "Avg fit shape: (80, 160, 1)\n",
            "Blanks shape: (80, 160, 1)\n",
            "Lane drawn shape: (80, 160, 3)\n",
            "Lane image shape: (544, 960, 3)\n",
            "1/1 [==============================] - 0s 19ms/step\n"
          ]
        },
        {
          "output_type": "stream",
          "name": "stderr",
          "text": [
            "\rt:  80%|███████▉  | 1036/1297 [05:32<01:29,  2.90it/s, now=None]"
          ]
        },
        {
          "output_type": "stream",
          "name": "stdout",
          "text": [
            "Prediction shape: (80, 160, 1)\n",
            "Avg fit shape: (80, 160, 1)\n",
            "Blanks shape: (80, 160, 1)\n",
            "Lane drawn shape: (80, 160, 3)\n",
            "Lane image shape: (544, 960, 3)\n",
            "1/1 [==============================] - 0s 19ms/step\n"
          ]
        },
        {
          "output_type": "stream",
          "name": "stderr",
          "text": [
            "\rt:  80%|███████▉  | 1037/1297 [05:32<01:24,  3.06it/s, now=None]"
          ]
        },
        {
          "output_type": "stream",
          "name": "stdout",
          "text": [
            "Prediction shape: (80, 160, 1)\n",
            "Avg fit shape: (80, 160, 1)\n",
            "Blanks shape: (80, 160, 1)\n",
            "Lane drawn shape: (80, 160, 3)\n",
            "Lane image shape: (544, 960, 3)\n",
            "1/1 [==============================] - 0s 19ms/step\n"
          ]
        },
        {
          "output_type": "stream",
          "name": "stderr",
          "text": [
            "\rt:  80%|████████  | 1038/1297 [05:32<01:22,  3.13it/s, now=None]"
          ]
        },
        {
          "output_type": "stream",
          "name": "stdout",
          "text": [
            "Prediction shape: (80, 160, 1)\n",
            "Avg fit shape: (80, 160, 1)\n",
            "Blanks shape: (80, 160, 1)\n",
            "Lane drawn shape: (80, 160, 3)\n",
            "Lane image shape: (544, 960, 3)\n",
            "1/1 [==============================] - 0s 23ms/step\n"
          ]
        },
        {
          "output_type": "stream",
          "name": "stderr",
          "text": [
            "\rt:  80%|████████  | 1039/1297 [05:33<01:20,  3.22it/s, now=None]"
          ]
        },
        {
          "output_type": "stream",
          "name": "stdout",
          "text": [
            "Prediction shape: (80, 160, 1)\n",
            "Avg fit shape: (80, 160, 1)\n",
            "Blanks shape: (80, 160, 1)\n",
            "Lane drawn shape: (80, 160, 3)\n",
            "Lane image shape: (544, 960, 3)\n",
            "1/1 [==============================] - 0s 19ms/step\n"
          ]
        },
        {
          "output_type": "stream",
          "name": "stderr",
          "text": [
            "\rt:  80%|████████  | 1040/1297 [05:33<01:17,  3.30it/s, now=None]"
          ]
        },
        {
          "output_type": "stream",
          "name": "stdout",
          "text": [
            "Prediction shape: (80, 160, 1)\n",
            "Avg fit shape: (80, 160, 1)\n",
            "Blanks shape: (80, 160, 1)\n",
            "Lane drawn shape: (80, 160, 3)\n",
            "Lane image shape: (544, 960, 3)\n",
            "1/1 [==============================] - 0s 19ms/step\n"
          ]
        },
        {
          "output_type": "stream",
          "name": "stderr",
          "text": [
            "\rt:  80%|████████  | 1041/1297 [05:33<01:15,  3.38it/s, now=None]"
          ]
        },
        {
          "output_type": "stream",
          "name": "stdout",
          "text": [
            "Prediction shape: (80, 160, 1)\n",
            "Avg fit shape: (80, 160, 1)\n",
            "Blanks shape: (80, 160, 1)\n",
            "Lane drawn shape: (80, 160, 3)\n",
            "Lane image shape: (544, 960, 3)\n",
            "1/1 [==============================] - 0s 20ms/step\n"
          ]
        },
        {
          "output_type": "stream",
          "name": "stderr",
          "text": [
            "\rt:  80%|████████  | 1042/1297 [05:33<01:15,  3.39it/s, now=None]"
          ]
        },
        {
          "output_type": "stream",
          "name": "stdout",
          "text": [
            "Prediction shape: (80, 160, 1)\n",
            "Avg fit shape: (80, 160, 1)\n",
            "Blanks shape: (80, 160, 1)\n",
            "Lane drawn shape: (80, 160, 3)\n",
            "Lane image shape: (544, 960, 3)\n",
            "1/1 [==============================] - 0s 19ms/step\n"
          ]
        },
        {
          "output_type": "stream",
          "name": "stderr",
          "text": [
            "\rt:  80%|████████  | 1043/1297 [05:34<01:16,  3.32it/s, now=None]"
          ]
        },
        {
          "output_type": "stream",
          "name": "stdout",
          "text": [
            "Prediction shape: (80, 160, 1)\n",
            "Avg fit shape: (80, 160, 1)\n",
            "Blanks shape: (80, 160, 1)\n",
            "Lane drawn shape: (80, 160, 3)\n",
            "Lane image shape: (544, 960, 3)\n",
            "1/1 [==============================] - 0s 19ms/step\n"
          ]
        },
        {
          "output_type": "stream",
          "name": "stderr",
          "text": [
            "\rt:  80%|████████  | 1044/1297 [05:34<01:15,  3.34it/s, now=None]"
          ]
        },
        {
          "output_type": "stream",
          "name": "stdout",
          "text": [
            "Prediction shape: (80, 160, 1)\n",
            "Avg fit shape: (80, 160, 1)\n",
            "Blanks shape: (80, 160, 1)\n",
            "Lane drawn shape: (80, 160, 3)\n",
            "Lane image shape: (544, 960, 3)\n",
            "1/1 [==============================] - 0s 19ms/step\n"
          ]
        },
        {
          "output_type": "stream",
          "name": "stderr",
          "text": [
            "\rt:  81%|████████  | 1045/1297 [05:34<01:14,  3.40it/s, now=None]"
          ]
        },
        {
          "output_type": "stream",
          "name": "stdout",
          "text": [
            "Prediction shape: (80, 160, 1)\n",
            "Avg fit shape: (80, 160, 1)\n",
            "Blanks shape: (80, 160, 1)\n",
            "Lane drawn shape: (80, 160, 3)\n",
            "Lane image shape: (544, 960, 3)\n",
            "1/1 [==============================] - 0s 20ms/step\n"
          ]
        },
        {
          "output_type": "stream",
          "name": "stderr",
          "text": [
            "\rt:  81%|████████  | 1046/1297 [05:35<01:13,  3.42it/s, now=None]"
          ]
        },
        {
          "output_type": "stream",
          "name": "stdout",
          "text": [
            "Prediction shape: (80, 160, 1)\n",
            "Avg fit shape: (80, 160, 1)\n",
            "Blanks shape: (80, 160, 1)\n",
            "Lane drawn shape: (80, 160, 3)\n",
            "Lane image shape: (544, 960, 3)\n",
            "1/1 [==============================] - 0s 21ms/step\n"
          ]
        },
        {
          "output_type": "stream",
          "name": "stderr",
          "text": [
            "\rt:  81%|████████  | 1047/1297 [05:35<01:11,  3.50it/s, now=None]"
          ]
        },
        {
          "output_type": "stream",
          "name": "stdout",
          "text": [
            "Prediction shape: (80, 160, 1)\n",
            "Avg fit shape: (80, 160, 1)\n",
            "Blanks shape: (80, 160, 1)\n",
            "Lane drawn shape: (80, 160, 3)\n",
            "Lane image shape: (544, 960, 3)\n",
            "1/1 [==============================] - 0s 19ms/step\n"
          ]
        },
        {
          "output_type": "stream",
          "name": "stderr",
          "text": [
            "\rt:  81%|████████  | 1048/1297 [05:35<01:11,  3.50it/s, now=None]"
          ]
        },
        {
          "output_type": "stream",
          "name": "stdout",
          "text": [
            "Prediction shape: (80, 160, 1)\n",
            "Avg fit shape: (80, 160, 1)\n",
            "Blanks shape: (80, 160, 1)\n",
            "Lane drawn shape: (80, 160, 3)\n",
            "Lane image shape: (544, 960, 3)\n",
            "1/1 [==============================] - 0s 19ms/step\n"
          ]
        },
        {
          "output_type": "stream",
          "name": "stderr",
          "text": [
            "\rt:  81%|████████  | 1049/1297 [05:35<01:12,  3.41it/s, now=None]"
          ]
        },
        {
          "output_type": "stream",
          "name": "stdout",
          "text": [
            "Prediction shape: (80, 160, 1)\n",
            "Avg fit shape: (80, 160, 1)\n",
            "Blanks shape: (80, 160, 1)\n",
            "Lane drawn shape: (80, 160, 3)\n",
            "Lane image shape: (544, 960, 3)\n",
            "1/1 [==============================] - 0s 21ms/step\n"
          ]
        },
        {
          "output_type": "stream",
          "name": "stderr",
          "text": [
            "\rt:  81%|████████  | 1050/1297 [05:36<01:12,  3.43it/s, now=None]"
          ]
        },
        {
          "output_type": "stream",
          "name": "stdout",
          "text": [
            "Prediction shape: (80, 160, 1)\n",
            "Avg fit shape: (80, 160, 1)\n",
            "Blanks shape: (80, 160, 1)\n",
            "Lane drawn shape: (80, 160, 3)\n",
            "Lane image shape: (544, 960, 3)\n",
            "1/1 [==============================] - 0s 19ms/step\n"
          ]
        },
        {
          "output_type": "stream",
          "name": "stderr",
          "text": [
            "\rt:  81%|████████  | 1051/1297 [05:36<01:10,  3.47it/s, now=None]"
          ]
        },
        {
          "output_type": "stream",
          "name": "stdout",
          "text": [
            "Prediction shape: (80, 160, 1)\n",
            "Avg fit shape: (80, 160, 1)\n",
            "Blanks shape: (80, 160, 1)\n",
            "Lane drawn shape: (80, 160, 3)\n",
            "Lane image shape: (544, 960, 3)\n",
            "1/1 [==============================] - 0s 18ms/step\n"
          ]
        },
        {
          "output_type": "stream",
          "name": "stderr",
          "text": [
            "\rt:  81%|████████  | 1052/1297 [05:36<01:09,  3.50it/s, now=None]"
          ]
        },
        {
          "output_type": "stream",
          "name": "stdout",
          "text": [
            "Prediction shape: (80, 160, 1)\n",
            "Avg fit shape: (80, 160, 1)\n",
            "Blanks shape: (80, 160, 1)\n",
            "Lane drawn shape: (80, 160, 3)\n",
            "Lane image shape: (544, 960, 3)\n",
            "1/1 [==============================] - 0s 22ms/step\n"
          ]
        },
        {
          "output_type": "stream",
          "name": "stderr",
          "text": [
            "\rt:  81%|████████  | 1053/1297 [05:37<01:09,  3.49it/s, now=None]"
          ]
        },
        {
          "output_type": "stream",
          "name": "stdout",
          "text": [
            "Prediction shape: (80, 160, 1)\n",
            "Avg fit shape: (80, 160, 1)\n",
            "Blanks shape: (80, 160, 1)\n",
            "Lane drawn shape: (80, 160, 3)\n",
            "Lane image shape: (544, 960, 3)\n",
            "1/1 [==============================] - 0s 19ms/step\n"
          ]
        },
        {
          "output_type": "stream",
          "name": "stderr",
          "text": [
            "\rt:  81%|████████▏ | 1054/1297 [05:37<01:08,  3.54it/s, now=None]"
          ]
        },
        {
          "output_type": "stream",
          "name": "stdout",
          "text": [
            "Prediction shape: (80, 160, 1)\n",
            "Avg fit shape: (80, 160, 1)\n",
            "Blanks shape: (80, 160, 1)\n",
            "Lane drawn shape: (80, 160, 3)\n",
            "Lane image shape: (544, 960, 3)\n",
            "1/1 [==============================] - 0s 18ms/step\n"
          ]
        },
        {
          "output_type": "stream",
          "name": "stderr",
          "text": [
            "\rt:  81%|████████▏ | 1055/1297 [05:37<01:07,  3.61it/s, now=None]"
          ]
        },
        {
          "output_type": "stream",
          "name": "stdout",
          "text": [
            "Prediction shape: (80, 160, 1)\n",
            "Avg fit shape: (80, 160, 1)\n",
            "Blanks shape: (80, 160, 1)\n",
            "Lane drawn shape: (80, 160, 3)\n",
            "Lane image shape: (544, 960, 3)\n",
            "1/1 [==============================] - 0s 19ms/step\n"
          ]
        },
        {
          "output_type": "stream",
          "name": "stderr",
          "text": [
            "\rt:  81%|████████▏ | 1056/1297 [05:37<01:08,  3.52it/s, now=None]"
          ]
        },
        {
          "output_type": "stream",
          "name": "stdout",
          "text": [
            "Prediction shape: (80, 160, 1)\n",
            "Avg fit shape: (80, 160, 1)\n",
            "Blanks shape: (80, 160, 1)\n",
            "Lane drawn shape: (80, 160, 3)\n",
            "Lane image shape: (544, 960, 3)\n",
            "1/1 [==============================] - 0s 20ms/step\n"
          ]
        },
        {
          "output_type": "stream",
          "name": "stderr",
          "text": [
            "\rt:  81%|████████▏ | 1057/1297 [05:38<01:10,  3.42it/s, now=None]"
          ]
        },
        {
          "output_type": "stream",
          "name": "stdout",
          "text": [
            "Prediction shape: (80, 160, 1)\n",
            "Avg fit shape: (80, 160, 1)\n",
            "Blanks shape: (80, 160, 1)\n",
            "Lane drawn shape: (80, 160, 3)\n",
            "Lane image shape: (544, 960, 3)\n",
            "1/1 [==============================] - 0s 19ms/step\n"
          ]
        },
        {
          "output_type": "stream",
          "name": "stderr",
          "text": [
            "\rt:  82%|████████▏ | 1058/1297 [05:38<01:09,  3.44it/s, now=None]"
          ]
        },
        {
          "output_type": "stream",
          "name": "stdout",
          "text": [
            "Prediction shape: (80, 160, 1)\n",
            "Avg fit shape: (80, 160, 1)\n",
            "Blanks shape: (80, 160, 1)\n",
            "Lane drawn shape: (80, 160, 3)\n",
            "Lane image shape: (544, 960, 3)\n",
            "1/1 [==============================] - 0s 18ms/step\n"
          ]
        },
        {
          "output_type": "stream",
          "name": "stderr",
          "text": [
            "\rt:  82%|████████▏ | 1059/1297 [05:38<01:07,  3.52it/s, now=None]"
          ]
        },
        {
          "output_type": "stream",
          "name": "stdout",
          "text": [
            "Prediction shape: (80, 160, 1)\n",
            "Avg fit shape: (80, 160, 1)\n",
            "Blanks shape: (80, 160, 1)\n",
            "Lane drawn shape: (80, 160, 3)\n",
            "Lane image shape: (544, 960, 3)\n",
            "1/1 [==============================] - 0s 19ms/step\n"
          ]
        },
        {
          "output_type": "stream",
          "name": "stderr",
          "text": [
            "\rt:  82%|████████▏ | 1060/1297 [05:39<01:09,  3.39it/s, now=None]"
          ]
        },
        {
          "output_type": "stream",
          "name": "stdout",
          "text": [
            "Prediction shape: (80, 160, 1)\n",
            "Avg fit shape: (80, 160, 1)\n",
            "Blanks shape: (80, 160, 1)\n",
            "Lane drawn shape: (80, 160, 3)\n",
            "Lane image shape: (544, 960, 3)\n",
            "1/1 [==============================] - 0s 19ms/step\n"
          ]
        },
        {
          "output_type": "stream",
          "name": "stderr",
          "text": [
            "\rt:  82%|████████▏ | 1061/1297 [05:39<01:08,  3.45it/s, now=None]"
          ]
        },
        {
          "output_type": "stream",
          "name": "stdout",
          "text": [
            "Prediction shape: (80, 160, 1)\n",
            "Avg fit shape: (80, 160, 1)\n",
            "Blanks shape: (80, 160, 1)\n",
            "Lane drawn shape: (80, 160, 3)\n",
            "Lane image shape: (544, 960, 3)\n",
            "1/1 [==============================] - 0s 20ms/step\n"
          ]
        },
        {
          "output_type": "stream",
          "name": "stderr",
          "text": [
            "\rt:  82%|████████▏ | 1062/1297 [05:39<01:09,  3.40it/s, now=None]"
          ]
        },
        {
          "output_type": "stream",
          "name": "stdout",
          "text": [
            "Prediction shape: (80, 160, 1)\n",
            "Avg fit shape: (80, 160, 1)\n",
            "Blanks shape: (80, 160, 1)\n",
            "Lane drawn shape: (80, 160, 3)\n",
            "Lane image shape: (544, 960, 3)\n",
            "1/1 [==============================] - 0s 19ms/step\n"
          ]
        },
        {
          "output_type": "stream",
          "name": "stderr",
          "text": [
            "\rt:  82%|████████▏ | 1063/1297 [05:40<01:08,  3.43it/s, now=None]"
          ]
        },
        {
          "output_type": "stream",
          "name": "stdout",
          "text": [
            "Prediction shape: (80, 160, 1)\n",
            "Avg fit shape: (80, 160, 1)\n",
            "Blanks shape: (80, 160, 1)\n",
            "Lane drawn shape: (80, 160, 3)\n",
            "Lane image shape: (544, 960, 3)\n",
            "1/1 [==============================] - 0s 19ms/step\n"
          ]
        },
        {
          "output_type": "stream",
          "name": "stderr",
          "text": [
            "\rt:  82%|████████▏ | 1064/1297 [05:40<01:11,  3.27it/s, now=None]"
          ]
        },
        {
          "output_type": "stream",
          "name": "stdout",
          "text": [
            "Prediction shape: (80, 160, 1)\n",
            "Avg fit shape: (80, 160, 1)\n",
            "Blanks shape: (80, 160, 1)\n",
            "Lane drawn shape: (80, 160, 3)\n",
            "Lane image shape: (544, 960, 3)\n",
            "1/1 [==============================] - 0s 26ms/step\n"
          ]
        },
        {
          "output_type": "stream",
          "name": "stderr",
          "text": [
            "\rt:  82%|████████▏ | 1065/1297 [05:40<01:17,  2.99it/s, now=None]"
          ]
        },
        {
          "output_type": "stream",
          "name": "stdout",
          "text": [
            "Prediction shape: (80, 160, 1)\n",
            "Avg fit shape: (80, 160, 1)\n",
            "Blanks shape: (80, 160, 1)\n",
            "Lane drawn shape: (80, 160, 3)\n",
            "Lane image shape: (544, 960, 3)\n",
            "1/1 [==============================] - 0s 31ms/step\n"
          ]
        },
        {
          "output_type": "stream",
          "name": "stderr",
          "text": [
            "\rt:  82%|████████▏ | 1066/1297 [05:41<01:23,  2.76it/s, now=None]"
          ]
        },
        {
          "output_type": "stream",
          "name": "stdout",
          "text": [
            "Prediction shape: (80, 160, 1)\n",
            "Avg fit shape: (80, 160, 1)\n",
            "Blanks shape: (80, 160, 1)\n",
            "Lane drawn shape: (80, 160, 3)\n",
            "Lane image shape: (544, 960, 3)\n",
            "1/1 [==============================] - 0s 32ms/step\n",
            "Prediction shape: (80, 160, 1)\n",
            "Avg fit shape: (80, 160, 1)\n",
            "Blanks shape: (80, 160, 1)\n",
            "Lane drawn shape: (80, 160, 3)\n",
            "Lane image shape: (544, 960, 3)\n"
          ]
        },
        {
          "output_type": "stream",
          "name": "stderr",
          "text": [
            "\rt:  82%|████████▏ | 1067/1297 [05:41<01:26,  2.65it/s, now=None]"
          ]
        },
        {
          "output_type": "stream",
          "name": "stdout",
          "text": [
            "1/1 [==============================] - 0s 33ms/step\n"
          ]
        },
        {
          "output_type": "stream",
          "name": "stderr",
          "text": [
            "\rt:  82%|████████▏ | 1068/1297 [05:42<01:29,  2.57it/s, now=None]"
          ]
        },
        {
          "output_type": "stream",
          "name": "stdout",
          "text": [
            "Prediction shape: (80, 160, 1)\n",
            "Avg fit shape: (80, 160, 1)\n",
            "Blanks shape: (80, 160, 1)\n",
            "Lane drawn shape: (80, 160, 3)\n",
            "Lane image shape: (544, 960, 3)\n",
            "1/1 [==============================] - 0s 37ms/step\n"
          ]
        },
        {
          "output_type": "stream",
          "name": "stderr",
          "text": [
            "\rt:  82%|████████▏ | 1069/1297 [05:42<01:33,  2.43it/s, now=None]"
          ]
        },
        {
          "output_type": "stream",
          "name": "stdout",
          "text": [
            "Prediction shape: (80, 160, 1)\n",
            "Avg fit shape: (80, 160, 1)\n",
            "Blanks shape: (80, 160, 1)\n",
            "Lane drawn shape: (80, 160, 3)\n",
            "Lane image shape: (544, 960, 3)\n",
            "1/1 [==============================] - 0s 40ms/step\n"
          ]
        },
        {
          "output_type": "stream",
          "name": "stderr",
          "text": [
            "\rt:  82%|████████▏ | 1070/1297 [05:42<01:34,  2.41it/s, now=None]"
          ]
        },
        {
          "output_type": "stream",
          "name": "stdout",
          "text": [
            "Prediction shape: (80, 160, 1)\n",
            "Avg fit shape: (80, 160, 1)\n",
            "Blanks shape: (80, 160, 1)\n",
            "Lane drawn shape: (80, 160, 3)\n",
            "Lane image shape: (544, 960, 3)\n",
            "1/1 [==============================] - 0s 34ms/step\n",
            "Prediction shape: (80, 160, 1)\n",
            "Avg fit shape: (80, 160, 1)\n",
            "Blanks shape: (80, 160, 1)\n",
            "Lane drawn shape: (80, 160, 3)\n",
            "Lane image shape: (544, 960, 3)\n"
          ]
        },
        {
          "output_type": "stream",
          "name": "stderr",
          "text": [
            "\rt:  83%|████████▎ | 1071/1297 [05:43<01:33,  2.41it/s, now=None]"
          ]
        },
        {
          "output_type": "stream",
          "name": "stdout",
          "text": [
            "1/1 [==============================] - 0s 26ms/step\n"
          ]
        },
        {
          "output_type": "stream",
          "name": "stderr",
          "text": [
            "\rt:  83%|████████▎ | 1072/1297 [05:43<01:33,  2.41it/s, now=None]"
          ]
        },
        {
          "output_type": "stream",
          "name": "stdout",
          "text": [
            "Prediction shape: (80, 160, 1)\n",
            "Avg fit shape: (80, 160, 1)\n",
            "Blanks shape: (80, 160, 1)\n",
            "Lane drawn shape: (80, 160, 3)\n",
            "Lane image shape: (544, 960, 3)\n",
            "1/1 [==============================] - 0s 44ms/step\n",
            "Prediction shape: (80, 160, 1)\n",
            "Avg fit shape: (80, 160, 1)\n",
            "Blanks shape: (80, 160, 1)\n",
            "Lane drawn shape: (80, 160, 3)\n",
            "Lane image shape: (544, 960, 3)\n"
          ]
        },
        {
          "output_type": "stream",
          "name": "stderr",
          "text": [
            "\rt:  83%|████████▎ | 1073/1297 [05:44<01:34,  2.37it/s, now=None]"
          ]
        },
        {
          "output_type": "stream",
          "name": "stdout",
          "text": [
            "1/1 [==============================] - 0s 28ms/step\n",
            "Prediction shape: (80, 160, 1)\n",
            "Avg fit shape: (80, 160, 1)\n",
            "Blanks shape: (80, 160, 1)\n",
            "Lane drawn shape: (80, 160, 3)\n",
            "Lane image shape: (544, 960, 3)\n"
          ]
        },
        {
          "output_type": "stream",
          "name": "stderr",
          "text": [
            "\rt:  83%|████████▎ | 1074/1297 [05:44<01:34,  2.36it/s, now=None]"
          ]
        },
        {
          "output_type": "stream",
          "name": "stdout",
          "text": [
            "1/1 [==============================] - 0s 28ms/step\n"
          ]
        },
        {
          "output_type": "stream",
          "name": "stderr",
          "text": [
            "\rt:  83%|████████▎ | 1075/1297 [05:44<01:33,  2.38it/s, now=None]"
          ]
        },
        {
          "output_type": "stream",
          "name": "stdout",
          "text": [
            "Prediction shape: (80, 160, 1)\n",
            "Avg fit shape: (80, 160, 1)\n",
            "Blanks shape: (80, 160, 1)\n",
            "Lane drawn shape: (80, 160, 3)\n",
            "Lane image shape: (544, 960, 3)\n",
            "1/1 [==============================] - 0s 33ms/step\n"
          ]
        },
        {
          "output_type": "stream",
          "name": "stderr",
          "text": [
            "\rt:  83%|████████▎ | 1076/1297 [05:45<01:32,  2.38it/s, now=None]"
          ]
        },
        {
          "output_type": "stream",
          "name": "stdout",
          "text": [
            "Prediction shape: (80, 160, 1)\n",
            "Avg fit shape: (80, 160, 1)\n",
            "Blanks shape: (80, 160, 1)\n",
            "Lane drawn shape: (80, 160, 3)\n",
            "Lane image shape: (544, 960, 3)\n",
            "1/1 [==============================] - 0s 43ms/step\n",
            "Prediction shape: (80, 160, 1)\n",
            "Avg fit shape: (80, 160, 1)\n",
            "Blanks shape: (80, 160, 1)\n",
            "Lane drawn shape: (80, 160, 3)\n",
            "Lane image shape: (544, 960, 3)\n"
          ]
        },
        {
          "output_type": "stream",
          "name": "stderr",
          "text": [
            "\rt:  83%|████████▎ | 1077/1297 [05:45<01:32,  2.38it/s, now=None]"
          ]
        },
        {
          "output_type": "stream",
          "name": "stdout",
          "text": [
            "1/1 [==============================] - 0s 33ms/step\n"
          ]
        },
        {
          "output_type": "stream",
          "name": "stderr",
          "text": [
            "\rt:  83%|████████▎ | 1078/1297 [05:46<01:28,  2.47it/s, now=None]"
          ]
        },
        {
          "output_type": "stream",
          "name": "stdout",
          "text": [
            "Prediction shape: (80, 160, 1)\n",
            "Avg fit shape: (80, 160, 1)\n",
            "Blanks shape: (80, 160, 1)\n",
            "Lane drawn shape: (80, 160, 3)\n",
            "Lane image shape: (544, 960, 3)\n",
            "1/1 [==============================] - 0s 19ms/step\n"
          ]
        },
        {
          "output_type": "stream",
          "name": "stderr",
          "text": [
            "\rt:  83%|████████▎ | 1079/1297 [05:46<01:20,  2.70it/s, now=None]"
          ]
        },
        {
          "output_type": "stream",
          "name": "stdout",
          "text": [
            "Prediction shape: (80, 160, 1)\n",
            "Avg fit shape: (80, 160, 1)\n",
            "Blanks shape: (80, 160, 1)\n",
            "Lane drawn shape: (80, 160, 3)\n",
            "Lane image shape: (544, 960, 3)\n",
            "1/1 [==============================] - 0s 19ms/step\n"
          ]
        },
        {
          "output_type": "stream",
          "name": "stderr",
          "text": [
            "\rt:  83%|████████▎ | 1080/1297 [05:46<01:14,  2.92it/s, now=None]"
          ]
        },
        {
          "output_type": "stream",
          "name": "stdout",
          "text": [
            "Prediction shape: (80, 160, 1)\n",
            "Avg fit shape: (80, 160, 1)\n",
            "Blanks shape: (80, 160, 1)\n",
            "Lane drawn shape: (80, 160, 3)\n",
            "Lane image shape: (544, 960, 3)\n",
            "1/1 [==============================] - 0s 20ms/step\n"
          ]
        },
        {
          "output_type": "stream",
          "name": "stderr",
          "text": [
            "\rt:  83%|████████▎ | 1081/1297 [05:47<01:10,  3.07it/s, now=None]"
          ]
        },
        {
          "output_type": "stream",
          "name": "stdout",
          "text": [
            "Prediction shape: (80, 160, 1)\n",
            "Avg fit shape: (80, 160, 1)\n",
            "Blanks shape: (80, 160, 1)\n",
            "Lane drawn shape: (80, 160, 3)\n",
            "Lane image shape: (544, 960, 3)\n",
            "1/1 [==============================] - 0s 20ms/step\n"
          ]
        },
        {
          "output_type": "stream",
          "name": "stderr",
          "text": [
            "\rt:  83%|████████▎ | 1082/1297 [05:47<01:07,  3.19it/s, now=None]"
          ]
        },
        {
          "output_type": "stream",
          "name": "stdout",
          "text": [
            "Prediction shape: (80, 160, 1)\n",
            "Avg fit shape: (80, 160, 1)\n",
            "Blanks shape: (80, 160, 1)\n",
            "Lane drawn shape: (80, 160, 3)\n",
            "Lane image shape: (544, 960, 3)\n",
            "1/1 [==============================] - 0s 20ms/step\n"
          ]
        },
        {
          "output_type": "stream",
          "name": "stderr",
          "text": [
            "\rt:  84%|████████▎ | 1083/1297 [05:47<01:05,  3.25it/s, now=None]"
          ]
        },
        {
          "output_type": "stream",
          "name": "stdout",
          "text": [
            "Prediction shape: (80, 160, 1)\n",
            "Avg fit shape: (80, 160, 1)\n",
            "Blanks shape: (80, 160, 1)\n",
            "Lane drawn shape: (80, 160, 3)\n",
            "Lane image shape: (544, 960, 3)\n",
            "1/1 [==============================] - 0s 20ms/step\n"
          ]
        },
        {
          "output_type": "stream",
          "name": "stderr",
          "text": [
            "\rt:  84%|████████▎ | 1084/1297 [05:47<01:03,  3.35it/s, now=None]"
          ]
        },
        {
          "output_type": "stream",
          "name": "stdout",
          "text": [
            "Prediction shape: (80, 160, 1)\n",
            "Avg fit shape: (80, 160, 1)\n",
            "Blanks shape: (80, 160, 1)\n",
            "Lane drawn shape: (80, 160, 3)\n",
            "Lane image shape: (544, 960, 3)\n",
            "1/1 [==============================] - 0s 19ms/step\n"
          ]
        },
        {
          "output_type": "stream",
          "name": "stderr",
          "text": [
            "\rt:  84%|████████▎ | 1085/1297 [05:48<01:01,  3.46it/s, now=None]"
          ]
        },
        {
          "output_type": "stream",
          "name": "stdout",
          "text": [
            "Prediction shape: (80, 160, 1)\n",
            "Avg fit shape: (80, 160, 1)\n",
            "Blanks shape: (80, 160, 1)\n",
            "Lane drawn shape: (80, 160, 3)\n",
            "Lane image shape: (544, 960, 3)\n",
            "1/1 [==============================] - 0s 19ms/step\n"
          ]
        },
        {
          "output_type": "stream",
          "name": "stderr",
          "text": [
            "\rt:  84%|████████▎ | 1086/1297 [05:48<01:02,  3.38it/s, now=None]"
          ]
        },
        {
          "output_type": "stream",
          "name": "stdout",
          "text": [
            "Prediction shape: (80, 160, 1)\n",
            "Avg fit shape: (80, 160, 1)\n",
            "Blanks shape: (80, 160, 1)\n",
            "Lane drawn shape: (80, 160, 3)\n",
            "Lane image shape: (544, 960, 3)\n",
            "1/1 [==============================] - 0s 19ms/step\n"
          ]
        },
        {
          "output_type": "stream",
          "name": "stderr",
          "text": [
            "\rt:  84%|████████▍ | 1087/1297 [05:48<01:02,  3.34it/s, now=None]"
          ]
        },
        {
          "output_type": "stream",
          "name": "stdout",
          "text": [
            "Prediction shape: (80, 160, 1)\n",
            "Avg fit shape: (80, 160, 1)\n",
            "Blanks shape: (80, 160, 1)\n",
            "Lane drawn shape: (80, 160, 3)\n",
            "Lane image shape: (544, 960, 3)\n",
            "1/1 [==============================] - 0s 20ms/step\n"
          ]
        },
        {
          "output_type": "stream",
          "name": "stderr",
          "text": [
            "\rt:  84%|████████▍ | 1088/1297 [05:49<01:02,  3.36it/s, now=None]"
          ]
        },
        {
          "output_type": "stream",
          "name": "stdout",
          "text": [
            "Prediction shape: (80, 160, 1)\n",
            "Avg fit shape: (80, 160, 1)\n",
            "Blanks shape: (80, 160, 1)\n",
            "Lane drawn shape: (80, 160, 3)\n",
            "Lane image shape: (544, 960, 3)\n",
            "1/1 [==============================] - 0s 21ms/step\n"
          ]
        },
        {
          "output_type": "stream",
          "name": "stderr",
          "text": [
            "\rt:  84%|████████▍ | 1089/1297 [05:49<01:00,  3.41it/s, now=None]"
          ]
        },
        {
          "output_type": "stream",
          "name": "stdout",
          "text": [
            "Prediction shape: (80, 160, 1)\n",
            "Avg fit shape: (80, 160, 1)\n",
            "Blanks shape: (80, 160, 1)\n",
            "Lane drawn shape: (80, 160, 3)\n",
            "Lane image shape: (544, 960, 3)\n",
            "1/1 [==============================] - 0s 20ms/step\n"
          ]
        },
        {
          "output_type": "stream",
          "name": "stderr",
          "text": [
            "\rt:  84%|████████▍ | 1090/1297 [05:49<01:03,  3.24it/s, now=None]"
          ]
        },
        {
          "output_type": "stream",
          "name": "stdout",
          "text": [
            "Prediction shape: (80, 160, 1)\n",
            "Avg fit shape: (80, 160, 1)\n",
            "Blanks shape: (80, 160, 1)\n",
            "Lane drawn shape: (80, 160, 3)\n",
            "Lane image shape: (544, 960, 3)\n",
            "1/1 [==============================] - 0s 19ms/step\n"
          ]
        },
        {
          "output_type": "stream",
          "name": "stderr",
          "text": [
            "\rt:  84%|████████▍ | 1091/1297 [05:50<01:03,  3.26it/s, now=None]"
          ]
        },
        {
          "output_type": "stream",
          "name": "stdout",
          "text": [
            "Prediction shape: (80, 160, 1)\n",
            "Avg fit shape: (80, 160, 1)\n",
            "Blanks shape: (80, 160, 1)\n",
            "Lane drawn shape: (80, 160, 3)\n",
            "Lane image shape: (544, 960, 3)\n",
            "1/1 [==============================] - 0s 19ms/step\n"
          ]
        },
        {
          "output_type": "stream",
          "name": "stderr",
          "text": [
            "\rt:  84%|████████▍ | 1092/1297 [05:50<01:01,  3.33it/s, now=None]"
          ]
        },
        {
          "output_type": "stream",
          "name": "stdout",
          "text": [
            "Prediction shape: (80, 160, 1)\n",
            "Avg fit shape: (80, 160, 1)\n",
            "Blanks shape: (80, 160, 1)\n",
            "Lane drawn shape: (80, 160, 3)\n",
            "Lane image shape: (544, 960, 3)\n",
            "1/1 [==============================] - 0s 29ms/step\n"
          ]
        },
        {
          "output_type": "stream",
          "name": "stderr",
          "text": [
            "\rt:  84%|████████▍ | 1093/1297 [05:50<01:00,  3.35it/s, now=None]"
          ]
        },
        {
          "output_type": "stream",
          "name": "stdout",
          "text": [
            "Prediction shape: (80, 160, 1)\n",
            "Avg fit shape: (80, 160, 1)\n",
            "Blanks shape: (80, 160, 1)\n",
            "Lane drawn shape: (80, 160, 3)\n",
            "Lane image shape: (544, 960, 3)\n",
            "1/1 [==============================] - 0s 22ms/step\n"
          ]
        },
        {
          "output_type": "stream",
          "name": "stderr",
          "text": [
            "\rt:  84%|████████▍ | 1094/1297 [05:50<01:02,  3.25it/s, now=None]"
          ]
        },
        {
          "output_type": "stream",
          "name": "stdout",
          "text": [
            "Prediction shape: (80, 160, 1)\n",
            "Avg fit shape: (80, 160, 1)\n",
            "Blanks shape: (80, 160, 1)\n",
            "Lane drawn shape: (80, 160, 3)\n",
            "Lane image shape: (544, 960, 3)\n",
            "1/1 [==============================] - 0s 21ms/step\n"
          ]
        },
        {
          "output_type": "stream",
          "name": "stderr",
          "text": [
            "\rt:  84%|████████▍ | 1095/1297 [05:51<01:01,  3.29it/s, now=None]"
          ]
        },
        {
          "output_type": "stream",
          "name": "stdout",
          "text": [
            "Prediction shape: (80, 160, 1)\n",
            "Avg fit shape: (80, 160, 1)\n",
            "Blanks shape: (80, 160, 1)\n",
            "Lane drawn shape: (80, 160, 3)\n",
            "Lane image shape: (544, 960, 3)\n",
            "1/1 [==============================] - 0s 19ms/step\n"
          ]
        },
        {
          "output_type": "stream",
          "name": "stderr",
          "text": [
            "\rt:  85%|████████▍ | 1096/1297 [05:51<01:01,  3.25it/s, now=None]"
          ]
        },
        {
          "output_type": "stream",
          "name": "stdout",
          "text": [
            "Prediction shape: (80, 160, 1)\n",
            "Avg fit shape: (80, 160, 1)\n",
            "Blanks shape: (80, 160, 1)\n",
            "Lane drawn shape: (80, 160, 3)\n",
            "Lane image shape: (544, 960, 3)\n",
            "1/1 [==============================] - 0s 19ms/step\n"
          ]
        },
        {
          "output_type": "stream",
          "name": "stderr",
          "text": [
            "\rt:  85%|████████▍ | 1097/1297 [05:51<00:59,  3.37it/s, now=None]"
          ]
        },
        {
          "output_type": "stream",
          "name": "stdout",
          "text": [
            "Prediction shape: (80, 160, 1)\n",
            "Avg fit shape: (80, 160, 1)\n",
            "Blanks shape: (80, 160, 1)\n",
            "Lane drawn shape: (80, 160, 3)\n",
            "Lane image shape: (544, 960, 3)\n",
            "1/1 [==============================] - 0s 20ms/step\n"
          ]
        },
        {
          "output_type": "stream",
          "name": "stderr",
          "text": [
            "\rt:  85%|████████▍ | 1098/1297 [05:52<01:00,  3.28it/s, now=None]"
          ]
        },
        {
          "output_type": "stream",
          "name": "stdout",
          "text": [
            "Prediction shape: (80, 160, 1)\n",
            "Avg fit shape: (80, 160, 1)\n",
            "Blanks shape: (80, 160, 1)\n",
            "Lane drawn shape: (80, 160, 3)\n",
            "Lane image shape: (544, 960, 3)\n",
            "1/1 [==============================] - 0s 20ms/step\n"
          ]
        },
        {
          "output_type": "stream",
          "name": "stderr",
          "text": [
            "\rt:  85%|████████▍ | 1099/1297 [05:52<00:59,  3.35it/s, now=None]"
          ]
        },
        {
          "output_type": "stream",
          "name": "stdout",
          "text": [
            "Prediction shape: (80, 160, 1)\n",
            "Avg fit shape: (80, 160, 1)\n",
            "Blanks shape: (80, 160, 1)\n",
            "Lane drawn shape: (80, 160, 3)\n",
            "Lane image shape: (544, 960, 3)\n",
            "1/1 [==============================] - 0s 20ms/step\n"
          ]
        },
        {
          "output_type": "stream",
          "name": "stderr",
          "text": [
            "\rt:  85%|████████▍ | 1100/1297 [05:52<00:58,  3.38it/s, now=None]"
          ]
        },
        {
          "output_type": "stream",
          "name": "stdout",
          "text": [
            "Prediction shape: (80, 160, 1)\n",
            "Avg fit shape: (80, 160, 1)\n",
            "Blanks shape: (80, 160, 1)\n",
            "Lane drawn shape: (80, 160, 3)\n",
            "Lane image shape: (544, 960, 3)\n",
            "1/1 [==============================] - 0s 20ms/step\n"
          ]
        },
        {
          "output_type": "stream",
          "name": "stderr",
          "text": [
            "\rt:  85%|████████▍ | 1101/1297 [05:52<00:56,  3.46it/s, now=None]"
          ]
        },
        {
          "output_type": "stream",
          "name": "stdout",
          "text": [
            "Prediction shape: (80, 160, 1)\n",
            "Avg fit shape: (80, 160, 1)\n",
            "Blanks shape: (80, 160, 1)\n",
            "Lane drawn shape: (80, 160, 3)\n",
            "Lane image shape: (544, 960, 3)\n",
            "1/1 [==============================] - 0s 19ms/step\n"
          ]
        },
        {
          "output_type": "stream",
          "name": "stderr",
          "text": [
            "\rt:  85%|████████▍ | 1102/1297 [05:53<00:57,  3.38it/s, now=None]"
          ]
        },
        {
          "output_type": "stream",
          "name": "stdout",
          "text": [
            "Prediction shape: (80, 160, 1)\n",
            "Avg fit shape: (80, 160, 1)\n",
            "Blanks shape: (80, 160, 1)\n",
            "Lane drawn shape: (80, 160, 3)\n",
            "Lane image shape: (544, 960, 3)\n",
            "1/1 [==============================] - 0s 20ms/step\n"
          ]
        },
        {
          "output_type": "stream",
          "name": "stderr",
          "text": [
            "\rt:  85%|████████▌ | 1103/1297 [05:53<00:58,  3.34it/s, now=None]"
          ]
        },
        {
          "output_type": "stream",
          "name": "stdout",
          "text": [
            "Prediction shape: (80, 160, 1)\n",
            "Avg fit shape: (80, 160, 1)\n",
            "Blanks shape: (80, 160, 1)\n",
            "Lane drawn shape: (80, 160, 3)\n",
            "Lane image shape: (544, 960, 3)\n",
            "1/1 [==============================] - 0s 19ms/step\n"
          ]
        },
        {
          "output_type": "stream",
          "name": "stderr",
          "text": [
            "\rt:  85%|████████▌ | 1104/1297 [05:53<00:57,  3.36it/s, now=None]"
          ]
        },
        {
          "output_type": "stream",
          "name": "stdout",
          "text": [
            "Prediction shape: (80, 160, 1)\n",
            "Avg fit shape: (80, 160, 1)\n",
            "Blanks shape: (80, 160, 1)\n",
            "Lane drawn shape: (80, 160, 3)\n",
            "Lane image shape: (544, 960, 3)\n",
            "1/1 [==============================] - 0s 19ms/step\n"
          ]
        },
        {
          "output_type": "stream",
          "name": "stderr",
          "text": [
            "\rt:  85%|████████▌ | 1105/1297 [05:54<00:56,  3.41it/s, now=None]"
          ]
        },
        {
          "output_type": "stream",
          "name": "stdout",
          "text": [
            "Prediction shape: (80, 160, 1)\n",
            "Avg fit shape: (80, 160, 1)\n",
            "Blanks shape: (80, 160, 1)\n",
            "Lane drawn shape: (80, 160, 3)\n",
            "Lane image shape: (544, 960, 3)\n",
            "1/1 [==============================] - 0s 20ms/step\n"
          ]
        },
        {
          "output_type": "stream",
          "name": "stderr",
          "text": [
            "\rt:  85%|████████▌ | 1106/1297 [05:54<00:57,  3.34it/s, now=None]"
          ]
        },
        {
          "output_type": "stream",
          "name": "stdout",
          "text": [
            "Prediction shape: (80, 160, 1)\n",
            "Avg fit shape: (80, 160, 1)\n",
            "Blanks shape: (80, 160, 1)\n",
            "Lane drawn shape: (80, 160, 3)\n",
            "Lane image shape: (544, 960, 3)\n",
            "1/1 [==============================] - 0s 20ms/step\n"
          ]
        },
        {
          "output_type": "stream",
          "name": "stderr",
          "text": [
            "\rt:  85%|████████▌ | 1107/1297 [05:54<00:56,  3.36it/s, now=None]"
          ]
        },
        {
          "output_type": "stream",
          "name": "stdout",
          "text": [
            "Prediction shape: (80, 160, 1)\n",
            "Avg fit shape: (80, 160, 1)\n",
            "Blanks shape: (80, 160, 1)\n",
            "Lane drawn shape: (80, 160, 3)\n",
            "Lane image shape: (544, 960, 3)\n",
            "1/1 [==============================] - 0s 19ms/step\n"
          ]
        },
        {
          "output_type": "stream",
          "name": "stderr",
          "text": [
            "\rt:  85%|████████▌ | 1108/1297 [05:55<00:56,  3.34it/s, now=None]"
          ]
        },
        {
          "output_type": "stream",
          "name": "stdout",
          "text": [
            "Prediction shape: (80, 160, 1)\n",
            "Avg fit shape: (80, 160, 1)\n",
            "Blanks shape: (80, 160, 1)\n",
            "Lane drawn shape: (80, 160, 3)\n",
            "Lane image shape: (544, 960, 3)\n",
            "1/1 [==============================] - 0s 19ms/step\n"
          ]
        },
        {
          "output_type": "stream",
          "name": "stderr",
          "text": [
            "\rt:  86%|████████▌ | 1109/1297 [05:55<00:56,  3.34it/s, now=None]"
          ]
        },
        {
          "output_type": "stream",
          "name": "stdout",
          "text": [
            "Prediction shape: (80, 160, 1)\n",
            "Avg fit shape: (80, 160, 1)\n",
            "Blanks shape: (80, 160, 1)\n",
            "Lane drawn shape: (80, 160, 3)\n",
            "Lane image shape: (544, 960, 3)\n",
            "1/1 [==============================] - 0s 21ms/step\n"
          ]
        },
        {
          "output_type": "stream",
          "name": "stderr",
          "text": [
            "\rt:  86%|████████▌ | 1110/1297 [05:55<00:55,  3.37it/s, now=None]"
          ]
        },
        {
          "output_type": "stream",
          "name": "stdout",
          "text": [
            "Prediction shape: (80, 160, 1)\n",
            "Avg fit shape: (80, 160, 1)\n",
            "Blanks shape: (80, 160, 1)\n",
            "Lane drawn shape: (80, 160, 3)\n",
            "Lane image shape: (544, 960, 3)\n",
            "1/1 [==============================] - 0s 21ms/step\n"
          ]
        },
        {
          "output_type": "stream",
          "name": "stderr",
          "text": [
            "\rt:  86%|████████▌ | 1111/1297 [05:55<00:54,  3.38it/s, now=None]"
          ]
        },
        {
          "output_type": "stream",
          "name": "stdout",
          "text": [
            "Prediction shape: (80, 160, 1)\n",
            "Avg fit shape: (80, 160, 1)\n",
            "Blanks shape: (80, 160, 1)\n",
            "Lane drawn shape: (80, 160, 3)\n",
            "Lane image shape: (544, 960, 3)\n",
            "1/1 [==============================] - 0s 19ms/step\n",
            "Prediction shape: (80, 160, 1)\n",
            "Avg fit shape: (80, 160, 1)\n",
            "Blanks shape: (80, 160, 1)\n",
            "Lane drawn shape: (80, 160, 3)\n",
            "Lane image shape: (544, 960, 3)\n"
          ]
        },
        {
          "output_type": "stream",
          "name": "stderr",
          "text": [
            "\rt:  86%|████████▌ | 1112/1297 [05:56<00:57,  3.20it/s, now=None]"
          ]
        },
        {
          "output_type": "stream",
          "name": "stdout",
          "text": [
            "1/1 [==============================] - 0s 28ms/step\n"
          ]
        },
        {
          "output_type": "stream",
          "name": "stderr",
          "text": [
            "\rt:  86%|████████▌ | 1113/1297 [05:56<01:04,  2.87it/s, now=None]"
          ]
        },
        {
          "output_type": "stream",
          "name": "stdout",
          "text": [
            "Prediction shape: (80, 160, 1)\n",
            "Avg fit shape: (80, 160, 1)\n",
            "Blanks shape: (80, 160, 1)\n",
            "Lane drawn shape: (80, 160, 3)\n",
            "Lane image shape: (544, 960, 3)\n",
            "1/1 [==============================] - 0s 27ms/step\n",
            "Prediction shape: (80, 160, 1)\n",
            "Avg fit shape: (80, 160, 1)\n",
            "Blanks shape: (80, 160, 1)\n",
            "Lane drawn shape: (80, 160, 3)\n",
            "Lane image shape: (544, 960, 3)\n"
          ]
        },
        {
          "output_type": "stream",
          "name": "stderr",
          "text": [
            "\rt:  86%|████████▌ | 1114/1297 [05:57<01:08,  2.69it/s, now=None]"
          ]
        },
        {
          "output_type": "stream",
          "name": "stdout",
          "text": [
            "1/1 [==============================] - 0s 34ms/step\n"
          ]
        },
        {
          "output_type": "stream",
          "name": "stderr",
          "text": [
            "\rt:  86%|████████▌ | 1115/1297 [05:57<01:11,  2.54it/s, now=None]"
          ]
        },
        {
          "output_type": "stream",
          "name": "stdout",
          "text": [
            "Prediction shape: (80, 160, 1)\n",
            "Avg fit shape: (80, 160, 1)\n",
            "Blanks shape: (80, 160, 1)\n",
            "Lane drawn shape: (80, 160, 3)\n",
            "Lane image shape: (544, 960, 3)\n",
            "1/1 [==============================] - 0s 42ms/step\n"
          ]
        },
        {
          "output_type": "stream",
          "name": "stderr",
          "text": [
            "\rt:  86%|████████▌ | 1116/1297 [05:58<01:14,  2.44it/s, now=None]"
          ]
        },
        {
          "output_type": "stream",
          "name": "stdout",
          "text": [
            "Prediction shape: (80, 160, 1)\n",
            "Avg fit shape: (80, 160, 1)\n",
            "Blanks shape: (80, 160, 1)\n",
            "Lane drawn shape: (80, 160, 3)\n",
            "Lane image shape: (544, 960, 3)\n",
            "1/1 [==============================] - 0s 50ms/step\n"
          ]
        },
        {
          "output_type": "stream",
          "name": "stderr",
          "text": [
            "\rt:  86%|████████▌ | 1117/1297 [05:58<01:16,  2.34it/s, now=None]"
          ]
        },
        {
          "output_type": "stream",
          "name": "stdout",
          "text": [
            "Prediction shape: (80, 160, 1)\n",
            "Avg fit shape: (80, 160, 1)\n",
            "Blanks shape: (80, 160, 1)\n",
            "Lane drawn shape: (80, 160, 3)\n",
            "Lane image shape: (544, 960, 3)\n",
            "1/1 [==============================] - 0s 56ms/step\n"
          ]
        },
        {
          "output_type": "stream",
          "name": "stderr",
          "text": [
            "\rt:  86%|████████▌ | 1118/1297 [05:59<01:17,  2.30it/s, now=None]"
          ]
        },
        {
          "output_type": "stream",
          "name": "stdout",
          "text": [
            "Prediction shape: (80, 160, 1)\n",
            "Avg fit shape: (80, 160, 1)\n",
            "Blanks shape: (80, 160, 1)\n",
            "Lane drawn shape: (80, 160, 3)\n",
            "Lane image shape: (544, 960, 3)\n",
            "1/1 [==============================] - 0s 43ms/step\n",
            "Prediction shape: (80, 160, 1)\n",
            "Avg fit shape: (80, 160, 1)\n",
            "Blanks shape: (80, 160, 1)\n",
            "Lane drawn shape: (80, 160, 3)\n",
            "Lane image shape: (544, 960, 3)\n"
          ]
        },
        {
          "output_type": "stream",
          "name": "stderr",
          "text": [
            "\rt:  86%|████████▋ | 1119/1297 [05:59<01:16,  2.32it/s, now=None]"
          ]
        },
        {
          "output_type": "stream",
          "name": "stdout",
          "text": [
            "1/1 [==============================] - 0s 29ms/step\n"
          ]
        },
        {
          "output_type": "stream",
          "name": "stderr",
          "text": [
            "\rt:  86%|████████▋ | 1120/1297 [05:59<01:15,  2.35it/s, now=None]"
          ]
        },
        {
          "output_type": "stream",
          "name": "stdout",
          "text": [
            "Prediction shape: (80, 160, 1)\n",
            "Avg fit shape: (80, 160, 1)\n",
            "Blanks shape: (80, 160, 1)\n",
            "Lane drawn shape: (80, 160, 3)\n",
            "Lane image shape: (544, 960, 3)\n",
            "1/1 [==============================] - 0s 42ms/step\n",
            "Prediction shape: (80, 160, 1)\n",
            "Avg fit shape: (80, 160, 1)\n",
            "Blanks shape: (80, 160, 1)\n",
            "Lane drawn shape: (80, 160, 3)\n",
            "Lane image shape: (544, 960, 3)\n"
          ]
        },
        {
          "output_type": "stream",
          "name": "stderr",
          "text": [
            "\rt:  86%|████████▋ | 1121/1297 [06:00<01:16,  2.30it/s, now=None]"
          ]
        },
        {
          "output_type": "stream",
          "name": "stdout",
          "text": [
            "1/1 [==============================] - 0s 31ms/step\n"
          ]
        },
        {
          "output_type": "stream",
          "name": "stderr",
          "text": [
            "\rt:  87%|████████▋ | 1122/1297 [06:00<01:15,  2.30it/s, now=None]"
          ]
        },
        {
          "output_type": "stream",
          "name": "stdout",
          "text": [
            "Prediction shape: (80, 160, 1)\n",
            "Avg fit shape: (80, 160, 1)\n",
            "Blanks shape: (80, 160, 1)\n",
            "Lane drawn shape: (80, 160, 3)\n",
            "Lane image shape: (544, 960, 3)\n",
            "1/1 [==============================] - 0s 32ms/step\n",
            "Prediction shape: (80, 160, 1)\n",
            "Avg fit shape: (80, 160, 1)\n",
            "Blanks shape: (80, 160, 1)\n",
            "Lane drawn shape: (80, 160, 3)\n",
            "Lane image shape: (544, 960, 3)\n"
          ]
        },
        {
          "output_type": "stream",
          "name": "stderr",
          "text": [
            "\rt:  87%|████████▋ | 1123/1297 [06:01<01:16,  2.26it/s, now=None]"
          ]
        },
        {
          "output_type": "stream",
          "name": "stdout",
          "text": [
            "1/1 [==============================] - 0s 30ms/step\n"
          ]
        },
        {
          "output_type": "stream",
          "name": "stderr",
          "text": [
            "\rt:  87%|████████▋ | 1124/1297 [06:01<01:15,  2.31it/s, now=None]"
          ]
        },
        {
          "output_type": "stream",
          "name": "stdout",
          "text": [
            "Prediction shape: (80, 160, 1)\n",
            "Avg fit shape: (80, 160, 1)\n",
            "Blanks shape: (80, 160, 1)\n",
            "Lane drawn shape: (80, 160, 3)\n",
            "Lane image shape: (544, 960, 3)\n",
            "1/1 [==============================] - 0s 29ms/step\n"
          ]
        },
        {
          "output_type": "stream",
          "name": "stderr",
          "text": [
            "\rt:  87%|████████▋ | 1125/1297 [06:02<01:14,  2.32it/s, now=None]"
          ]
        },
        {
          "output_type": "stream",
          "name": "stdout",
          "text": [
            "Prediction shape: (80, 160, 1)\n",
            "Avg fit shape: (80, 160, 1)\n",
            "Blanks shape: (80, 160, 1)\n",
            "Lane drawn shape: (80, 160, 3)\n",
            "Lane image shape: (544, 960, 3)\n",
            "1/1 [==============================] - 0s 41ms/step\n"
          ]
        },
        {
          "output_type": "stream",
          "name": "stderr",
          "text": [
            "\rt:  87%|████████▋ | 1126/1297 [06:02<01:11,  2.39it/s, now=None]"
          ]
        },
        {
          "output_type": "stream",
          "name": "stdout",
          "text": [
            "Prediction shape: (80, 160, 1)\n",
            "Avg fit shape: (80, 160, 1)\n",
            "Blanks shape: (80, 160, 1)\n",
            "Lane drawn shape: (80, 160, 3)\n",
            "Lane image shape: (544, 960, 3)\n",
            "1/1 [==============================] - 0s 19ms/step\n"
          ]
        },
        {
          "output_type": "stream",
          "name": "stderr",
          "text": [
            "\rt:  87%|████████▋ | 1127/1297 [06:02<01:05,  2.60it/s, now=None]"
          ]
        },
        {
          "output_type": "stream",
          "name": "stdout",
          "text": [
            "Prediction shape: (80, 160, 1)\n",
            "Avg fit shape: (80, 160, 1)\n",
            "Blanks shape: (80, 160, 1)\n",
            "Lane drawn shape: (80, 160, 3)\n",
            "Lane image shape: (544, 960, 3)\n",
            "1/1 [==============================] - 0s 19ms/step\n"
          ]
        },
        {
          "output_type": "stream",
          "name": "stderr",
          "text": [
            "\rt:  87%|████████▋ | 1128/1297 [06:03<01:01,  2.77it/s, now=None]"
          ]
        },
        {
          "output_type": "stream",
          "name": "stdout",
          "text": [
            "Prediction shape: (80, 160, 1)\n",
            "Avg fit shape: (80, 160, 1)\n",
            "Blanks shape: (80, 160, 1)\n",
            "Lane drawn shape: (80, 160, 3)\n",
            "Lane image shape: (544, 960, 3)\n",
            "1/1 [==============================] - 0s 18ms/step\n"
          ]
        },
        {
          "output_type": "stream",
          "name": "stderr",
          "text": [
            "\rt:  87%|████████▋ | 1129/1297 [06:03<00:57,  2.95it/s, now=None]"
          ]
        },
        {
          "output_type": "stream",
          "name": "stdout",
          "text": [
            "Prediction shape: (80, 160, 1)\n",
            "Avg fit shape: (80, 160, 1)\n",
            "Blanks shape: (80, 160, 1)\n",
            "Lane drawn shape: (80, 160, 3)\n",
            "Lane image shape: (544, 960, 3)\n",
            "1/1 [==============================] - 0s 20ms/step\n"
          ]
        },
        {
          "output_type": "stream",
          "name": "stderr",
          "text": [
            "\rt:  87%|████████▋ | 1130/1297 [06:03<00:55,  3.02it/s, now=None]"
          ]
        },
        {
          "output_type": "stream",
          "name": "stdout",
          "text": [
            "Prediction shape: (80, 160, 1)\n",
            "Avg fit shape: (80, 160, 1)\n",
            "Blanks shape: (80, 160, 1)\n",
            "Lane drawn shape: (80, 160, 3)\n",
            "Lane image shape: (544, 960, 3)\n",
            "1/1 [==============================] - 0s 19ms/step\n"
          ]
        },
        {
          "output_type": "stream",
          "name": "stderr",
          "text": [
            "\rt:  87%|████████▋ | 1131/1297 [06:03<00:53,  3.10it/s, now=None]"
          ]
        },
        {
          "output_type": "stream",
          "name": "stdout",
          "text": [
            "Prediction shape: (80, 160, 1)\n",
            "Avg fit shape: (80, 160, 1)\n",
            "Blanks shape: (80, 160, 1)\n",
            "Lane drawn shape: (80, 160, 3)\n",
            "Lane image shape: (544, 960, 3)\n",
            "1/1 [==============================] - 0s 19ms/step\n"
          ]
        },
        {
          "output_type": "stream",
          "name": "stderr",
          "text": [
            "\rt:  87%|████████▋ | 1132/1297 [06:04<00:52,  3.13it/s, now=None]"
          ]
        },
        {
          "output_type": "stream",
          "name": "stdout",
          "text": [
            "Prediction shape: (80, 160, 1)\n",
            "Avg fit shape: (80, 160, 1)\n",
            "Blanks shape: (80, 160, 1)\n",
            "Lane drawn shape: (80, 160, 3)\n",
            "Lane image shape: (544, 960, 3)\n",
            "1/1 [==============================] - 0s 19ms/step\n"
          ]
        },
        {
          "output_type": "stream",
          "name": "stderr",
          "text": [
            "\rt:  87%|████████▋ | 1133/1297 [06:04<00:50,  3.25it/s, now=None]"
          ]
        },
        {
          "output_type": "stream",
          "name": "stdout",
          "text": [
            "Prediction shape: (80, 160, 1)\n",
            "Avg fit shape: (80, 160, 1)\n",
            "Blanks shape: (80, 160, 1)\n",
            "Lane drawn shape: (80, 160, 3)\n",
            "Lane image shape: (544, 960, 3)\n",
            "1/1 [==============================] - 0s 20ms/step\n"
          ]
        },
        {
          "output_type": "stream",
          "name": "stderr",
          "text": [
            "\rt:  87%|████████▋ | 1134/1297 [06:04<00:49,  3.32it/s, now=None]"
          ]
        },
        {
          "output_type": "stream",
          "name": "stdout",
          "text": [
            "Prediction shape: (80, 160, 1)\n",
            "Avg fit shape: (80, 160, 1)\n",
            "Blanks shape: (80, 160, 1)\n",
            "Lane drawn shape: (80, 160, 3)\n",
            "Lane image shape: (544, 960, 3)\n",
            "1/1 [==============================] - 0s 19ms/step\n"
          ]
        },
        {
          "output_type": "stream",
          "name": "stderr",
          "text": [
            "\rt:  88%|████████▊ | 1135/1297 [06:05<00:49,  3.25it/s, now=None]"
          ]
        },
        {
          "output_type": "stream",
          "name": "stdout",
          "text": [
            "Prediction shape: (80, 160, 1)\n",
            "Avg fit shape: (80, 160, 1)\n",
            "Blanks shape: (80, 160, 1)\n",
            "Lane drawn shape: (80, 160, 3)\n",
            "Lane image shape: (544, 960, 3)\n",
            "1/1 [==============================] - 0s 20ms/step\n"
          ]
        },
        {
          "output_type": "stream",
          "name": "stderr",
          "text": [
            "\rt:  88%|████████▊ | 1136/1297 [06:05<00:49,  3.28it/s, now=None]"
          ]
        },
        {
          "output_type": "stream",
          "name": "stdout",
          "text": [
            "Prediction shape: (80, 160, 1)\n",
            "Avg fit shape: (80, 160, 1)\n",
            "Blanks shape: (80, 160, 1)\n",
            "Lane drawn shape: (80, 160, 3)\n",
            "Lane image shape: (544, 960, 3)\n",
            "1/1 [==============================] - 0s 22ms/step\n"
          ]
        },
        {
          "output_type": "stream",
          "name": "stderr",
          "text": [
            "\rt:  88%|████████▊ | 1137/1297 [06:05<00:47,  3.34it/s, now=None]"
          ]
        },
        {
          "output_type": "stream",
          "name": "stdout",
          "text": [
            "Prediction shape: (80, 160, 1)\n",
            "Avg fit shape: (80, 160, 1)\n",
            "Blanks shape: (80, 160, 1)\n",
            "Lane drawn shape: (80, 160, 3)\n",
            "Lane image shape: (544, 960, 3)\n",
            "1/1 [==============================] - 0s 18ms/step\n"
          ]
        },
        {
          "output_type": "stream",
          "name": "stderr",
          "text": [
            "\rt:  88%|████████▊ | 1138/1297 [06:06<00:47,  3.38it/s, now=None]"
          ]
        },
        {
          "output_type": "stream",
          "name": "stdout",
          "text": [
            "Prediction shape: (80, 160, 1)\n",
            "Avg fit shape: (80, 160, 1)\n",
            "Blanks shape: (80, 160, 1)\n",
            "Lane drawn shape: (80, 160, 3)\n",
            "Lane image shape: (544, 960, 3)\n",
            "1/1 [==============================] - 0s 18ms/step\n"
          ]
        },
        {
          "output_type": "stream",
          "name": "stderr",
          "text": [
            "\rt:  88%|████████▊ | 1139/1297 [06:06<00:47,  3.31it/s, now=None]"
          ]
        },
        {
          "output_type": "stream",
          "name": "stdout",
          "text": [
            "Prediction shape: (80, 160, 1)\n",
            "Avg fit shape: (80, 160, 1)\n",
            "Blanks shape: (80, 160, 1)\n",
            "Lane drawn shape: (80, 160, 3)\n",
            "Lane image shape: (544, 960, 3)\n",
            "1/1 [==============================] - 0s 19ms/step\n"
          ]
        },
        {
          "output_type": "stream",
          "name": "stderr",
          "text": [
            "\rt:  88%|████████▊ | 1140/1297 [06:06<00:46,  3.36it/s, now=None]"
          ]
        },
        {
          "output_type": "stream",
          "name": "stdout",
          "text": [
            "Prediction shape: (80, 160, 1)\n",
            "Avg fit shape: (80, 160, 1)\n",
            "Blanks shape: (80, 160, 1)\n",
            "Lane drawn shape: (80, 160, 3)\n",
            "Lane image shape: (544, 960, 3)\n",
            "1/1 [==============================] - 0s 18ms/step\n"
          ]
        },
        {
          "output_type": "stream",
          "name": "stderr",
          "text": [
            "\rt:  88%|████████▊ | 1141/1297 [06:06<00:46,  3.35it/s, now=None]"
          ]
        },
        {
          "output_type": "stream",
          "name": "stdout",
          "text": [
            "Prediction shape: (80, 160, 1)\n",
            "Avg fit shape: (80, 160, 1)\n",
            "Blanks shape: (80, 160, 1)\n",
            "Lane drawn shape: (80, 160, 3)\n",
            "Lane image shape: (544, 960, 3)\n",
            "1/1 [==============================] - 0s 20ms/step\n"
          ]
        },
        {
          "output_type": "stream",
          "name": "stderr",
          "text": [
            "\rt:  88%|████████▊ | 1142/1297 [06:07<00:46,  3.34it/s, now=None]"
          ]
        },
        {
          "output_type": "stream",
          "name": "stdout",
          "text": [
            "Prediction shape: (80, 160, 1)\n",
            "Avg fit shape: (80, 160, 1)\n",
            "Blanks shape: (80, 160, 1)\n",
            "Lane drawn shape: (80, 160, 3)\n",
            "Lane image shape: (544, 960, 3)\n",
            "1/1 [==============================] - 0s 19ms/step\n"
          ]
        },
        {
          "output_type": "stream",
          "name": "stderr",
          "text": [
            "\rt:  88%|████████▊ | 1143/1297 [06:07<00:46,  3.34it/s, now=None]"
          ]
        },
        {
          "output_type": "stream",
          "name": "stdout",
          "text": [
            "Prediction shape: (80, 160, 1)\n",
            "Avg fit shape: (80, 160, 1)\n",
            "Blanks shape: (80, 160, 1)\n",
            "Lane drawn shape: (80, 160, 3)\n",
            "Lane image shape: (544, 960, 3)\n",
            "1/1 [==============================] - 0s 21ms/step\n"
          ]
        },
        {
          "output_type": "stream",
          "name": "stderr",
          "text": [
            "\rt:  88%|████████▊ | 1144/1297 [06:07<00:45,  3.36it/s, now=None]"
          ]
        },
        {
          "output_type": "stream",
          "name": "stdout",
          "text": [
            "Prediction shape: (80, 160, 1)\n",
            "Avg fit shape: (80, 160, 1)\n",
            "Blanks shape: (80, 160, 1)\n",
            "Lane drawn shape: (80, 160, 3)\n",
            "Lane image shape: (544, 960, 3)\n",
            "1/1 [==============================] - 0s 20ms/step\n"
          ]
        },
        {
          "output_type": "stream",
          "name": "stderr",
          "text": [
            "\rt:  88%|████████▊ | 1145/1297 [06:08<00:45,  3.33it/s, now=None]"
          ]
        },
        {
          "output_type": "stream",
          "name": "stdout",
          "text": [
            "Prediction shape: (80, 160, 1)\n",
            "Avg fit shape: (80, 160, 1)\n",
            "Blanks shape: (80, 160, 1)\n",
            "Lane drawn shape: (80, 160, 3)\n",
            "Lane image shape: (544, 960, 3)\n",
            "1/1 [==============================] - 0s 19ms/step\n"
          ]
        },
        {
          "output_type": "stream",
          "name": "stderr",
          "text": [
            "\rt:  88%|████████▊ | 1146/1297 [06:08<00:47,  3.21it/s, now=None]"
          ]
        },
        {
          "output_type": "stream",
          "name": "stdout",
          "text": [
            "Prediction shape: (80, 160, 1)\n",
            "Avg fit shape: (80, 160, 1)\n",
            "Blanks shape: (80, 160, 1)\n",
            "Lane drawn shape: (80, 160, 3)\n",
            "Lane image shape: (544, 960, 3)\n",
            "1/1 [==============================] - 0s 21ms/step\n"
          ]
        },
        {
          "output_type": "stream",
          "name": "stderr",
          "text": [
            "\rt:  88%|████████▊ | 1147/1297 [06:08<00:46,  3.20it/s, now=None]"
          ]
        },
        {
          "output_type": "stream",
          "name": "stdout",
          "text": [
            "Prediction shape: (80, 160, 1)\n",
            "Avg fit shape: (80, 160, 1)\n",
            "Blanks shape: (80, 160, 1)\n",
            "Lane drawn shape: (80, 160, 3)\n",
            "Lane image shape: (544, 960, 3)\n",
            "1/1 [==============================] - 0s 18ms/step\n"
          ]
        },
        {
          "output_type": "stream",
          "name": "stderr",
          "text": [
            "\rt:  89%|████████▊ | 1148/1297 [06:09<00:45,  3.25it/s, now=None]"
          ]
        },
        {
          "output_type": "stream",
          "name": "stdout",
          "text": [
            "Prediction shape: (80, 160, 1)\n",
            "Avg fit shape: (80, 160, 1)\n",
            "Blanks shape: (80, 160, 1)\n",
            "Lane drawn shape: (80, 160, 3)\n",
            "Lane image shape: (544, 960, 3)\n",
            "1/1 [==============================] - 0s 19ms/step\n"
          ]
        },
        {
          "output_type": "stream",
          "name": "stderr",
          "text": [
            "\rt:  89%|████████▊ | 1149/1297 [06:09<00:44,  3.31it/s, now=None]"
          ]
        },
        {
          "output_type": "stream",
          "name": "stdout",
          "text": [
            "Prediction shape: (80, 160, 1)\n",
            "Avg fit shape: (80, 160, 1)\n",
            "Blanks shape: (80, 160, 1)\n",
            "Lane drawn shape: (80, 160, 3)\n",
            "Lane image shape: (544, 960, 3)\n",
            "1/1 [==============================] - 0s 20ms/step\n"
          ]
        },
        {
          "output_type": "stream",
          "name": "stderr",
          "text": [
            "\rt:  89%|████████▊ | 1150/1297 [06:09<00:45,  3.26it/s, now=None]"
          ]
        },
        {
          "output_type": "stream",
          "name": "stdout",
          "text": [
            "Prediction shape: (80, 160, 1)\n",
            "Avg fit shape: (80, 160, 1)\n",
            "Blanks shape: (80, 160, 1)\n",
            "Lane drawn shape: (80, 160, 3)\n",
            "Lane image shape: (544, 960, 3)\n",
            "1/1 [==============================] - 0s 19ms/step\n"
          ]
        },
        {
          "output_type": "stream",
          "name": "stderr",
          "text": [
            "\rt:  89%|████████▊ | 1151/1297 [06:09<00:44,  3.31it/s, now=None]"
          ]
        },
        {
          "output_type": "stream",
          "name": "stdout",
          "text": [
            "Prediction shape: (80, 160, 1)\n",
            "Avg fit shape: (80, 160, 1)\n",
            "Blanks shape: (80, 160, 1)\n",
            "Lane drawn shape: (80, 160, 3)\n",
            "Lane image shape: (544, 960, 3)\n",
            "1/1 [==============================] - 0s 21ms/step\n"
          ]
        },
        {
          "output_type": "stream",
          "name": "stderr",
          "text": [
            "\rt:  89%|████████▉ | 1152/1297 [06:10<00:43,  3.34it/s, now=None]"
          ]
        },
        {
          "output_type": "stream",
          "name": "stdout",
          "text": [
            "Prediction shape: (80, 160, 1)\n",
            "Avg fit shape: (80, 160, 1)\n",
            "Blanks shape: (80, 160, 1)\n",
            "Lane drawn shape: (80, 160, 3)\n",
            "Lane image shape: (544, 960, 3)\n",
            "1/1 [==============================] - 0s 19ms/step\n"
          ]
        },
        {
          "output_type": "stream",
          "name": "stderr",
          "text": [
            "\rt:  89%|████████▉ | 1153/1297 [06:10<00:42,  3.40it/s, now=None]"
          ]
        },
        {
          "output_type": "stream",
          "name": "stdout",
          "text": [
            "Prediction shape: (80, 160, 1)\n",
            "Avg fit shape: (80, 160, 1)\n",
            "Blanks shape: (80, 160, 1)\n",
            "Lane drawn shape: (80, 160, 3)\n",
            "Lane image shape: (544, 960, 3)\n",
            "1/1 [==============================] - 0s 19ms/step\n"
          ]
        },
        {
          "output_type": "stream",
          "name": "stderr",
          "text": [
            "\rt:  89%|████████▉ | 1154/1297 [06:10<00:42,  3.36it/s, now=None]"
          ]
        },
        {
          "output_type": "stream",
          "name": "stdout",
          "text": [
            "Prediction shape: (80, 160, 1)\n",
            "Avg fit shape: (80, 160, 1)\n",
            "Blanks shape: (80, 160, 1)\n",
            "Lane drawn shape: (80, 160, 3)\n",
            "Lane image shape: (544, 960, 3)\n",
            "1/1 [==============================] - 0s 18ms/step\n"
          ]
        },
        {
          "output_type": "stream",
          "name": "stderr",
          "text": [
            "\rt:  89%|████████▉ | 1155/1297 [06:11<00:41,  3.39it/s, now=None]"
          ]
        },
        {
          "output_type": "stream",
          "name": "stdout",
          "text": [
            "Prediction shape: (80, 160, 1)\n",
            "Avg fit shape: (80, 160, 1)\n",
            "Blanks shape: (80, 160, 1)\n",
            "Lane drawn shape: (80, 160, 3)\n",
            "Lane image shape: (544, 960, 3)\n",
            "1/1 [==============================] - 0s 18ms/step\n"
          ]
        },
        {
          "output_type": "stream",
          "name": "stderr",
          "text": [
            "\rt:  89%|████████▉ | 1156/1297 [06:11<00:41,  3.38it/s, now=None]"
          ]
        },
        {
          "output_type": "stream",
          "name": "stdout",
          "text": [
            "Prediction shape: (80, 160, 1)\n",
            "Avg fit shape: (80, 160, 1)\n",
            "Blanks shape: (80, 160, 1)\n",
            "Lane drawn shape: (80, 160, 3)\n",
            "Lane image shape: (544, 960, 3)\n",
            "1/1 [==============================] - 0s 19ms/step\n"
          ]
        },
        {
          "output_type": "stream",
          "name": "stderr",
          "text": [
            "\rt:  89%|████████▉ | 1157/1297 [06:11<00:40,  3.44it/s, now=None]"
          ]
        },
        {
          "output_type": "stream",
          "name": "stdout",
          "text": [
            "Prediction shape: (80, 160, 1)\n",
            "Avg fit shape: (80, 160, 1)\n",
            "Blanks shape: (80, 160, 1)\n",
            "Lane drawn shape: (80, 160, 3)\n",
            "Lane image shape: (544, 960, 3)\n",
            "1/1 [==============================] - 0s 20ms/step\n"
          ]
        },
        {
          "output_type": "stream",
          "name": "stderr",
          "text": [
            "\rt:  89%|████████▉ | 1158/1297 [06:11<00:40,  3.47it/s, now=None]"
          ]
        },
        {
          "output_type": "stream",
          "name": "stdout",
          "text": [
            "Prediction shape: (80, 160, 1)\n",
            "Avg fit shape: (80, 160, 1)\n",
            "Blanks shape: (80, 160, 1)\n",
            "Lane drawn shape: (80, 160, 3)\n",
            "Lane image shape: (544, 960, 3)\n",
            "1/1 [==============================] - 0s 19ms/step\n"
          ]
        },
        {
          "output_type": "stream",
          "name": "stderr",
          "text": [
            "\rt:  89%|████████▉ | 1159/1297 [06:12<00:39,  3.51it/s, now=None]"
          ]
        },
        {
          "output_type": "stream",
          "name": "stdout",
          "text": [
            "Prediction shape: (80, 160, 1)\n",
            "Avg fit shape: (80, 160, 1)\n",
            "Blanks shape: (80, 160, 1)\n",
            "Lane drawn shape: (80, 160, 3)\n",
            "Lane image shape: (544, 960, 3)\n",
            "1/1 [==============================] - 0s 31ms/step\n",
            "Prediction shape: (80, 160, 1)\n",
            "Avg fit shape: (80, 160, 1)\n",
            "Blanks shape: (80, 160, 1)\n",
            "Lane drawn shape: (80, 160, 3)\n",
            "Lane image shape: (544, 960, 3)\n"
          ]
        },
        {
          "output_type": "stream",
          "name": "stderr",
          "text": [
            "\rt:  89%|████████▉ | 1160/1297 [06:12<00:44,  3.07it/s, now=None]"
          ]
        },
        {
          "output_type": "stream",
          "name": "stdout",
          "text": [
            "1/1 [==============================] - 0s 30ms/step\n",
            "Prediction shape: (80, 160, 1)\n",
            "Avg fit shape: (80, 160, 1)\n",
            "Blanks shape: (80, 160, 1)\n",
            "Lane drawn shape: (80, 160, 3)\n",
            "Lane image shape: (544, 960, 3)\n"
          ]
        },
        {
          "output_type": "stream",
          "name": "stderr",
          "text": [
            "\rt:  90%|████████▉ | 1161/1297 [06:13<00:48,  2.78it/s, now=None]"
          ]
        },
        {
          "output_type": "stream",
          "name": "stdout",
          "text": [
            "1/1 [==============================] - 0s 34ms/step\n"
          ]
        },
        {
          "output_type": "stream",
          "name": "stderr",
          "text": [
            "\rt:  90%|████████▉ | 1162/1297 [06:13<00:51,  2.61it/s, now=None]"
          ]
        },
        {
          "output_type": "stream",
          "name": "stdout",
          "text": [
            "Prediction shape: (80, 160, 1)\n",
            "Avg fit shape: (80, 160, 1)\n",
            "Blanks shape: (80, 160, 1)\n",
            "Lane drawn shape: (80, 160, 3)\n",
            "Lane image shape: (544, 960, 3)\n",
            "1/1 [==============================] - 0s 28ms/step\n",
            "Prediction shape: (80, 160, 1)\n"
          ]
        },
        {
          "output_type": "stream",
          "name": "stderr",
          "text": [
            "\rt:  90%|████████▉ | 1163/1297 [06:13<00:52,  2.55it/s, now=None]"
          ]
        },
        {
          "output_type": "stream",
          "name": "stdout",
          "text": [
            "Avg fit shape: (80, 160, 1)\n",
            "Blanks shape: (80, 160, 1)\n",
            "Lane drawn shape: (80, 160, 3)\n",
            "Lane image shape: (544, 960, 3)\n",
            "1/1 [==============================] - 0s 33ms/step\n"
          ]
        },
        {
          "output_type": "stream",
          "name": "stderr",
          "text": [
            "\rt:  90%|████████▉ | 1164/1297 [06:14<00:53,  2.47it/s, now=None]"
          ]
        },
        {
          "output_type": "stream",
          "name": "stdout",
          "text": [
            "Prediction shape: (80, 160, 1)\n",
            "Avg fit shape: (80, 160, 1)\n",
            "Blanks shape: (80, 160, 1)\n",
            "Lane drawn shape: (80, 160, 3)\n",
            "Lane image shape: (544, 960, 3)\n",
            "1/1 [==============================] - 0s 36ms/step\n"
          ]
        },
        {
          "output_type": "stream",
          "name": "stderr",
          "text": [
            "\rt:  90%|████████▉ | 1165/1297 [06:14<00:56,  2.34it/s, now=None]"
          ]
        },
        {
          "output_type": "stream",
          "name": "stdout",
          "text": [
            "Prediction shape: (80, 160, 1)\n",
            "Avg fit shape: (80, 160, 1)\n",
            "Blanks shape: (80, 160, 1)\n",
            "Lane drawn shape: (80, 160, 3)\n",
            "Lane image shape: (544, 960, 3)\n",
            "1/1 [==============================] - 0s 55ms/step\n"
          ]
        },
        {
          "output_type": "stream",
          "name": "stderr",
          "text": [
            "\rt:  90%|████████▉ | 1166/1297 [06:15<00:56,  2.33it/s, now=None]"
          ]
        },
        {
          "output_type": "stream",
          "name": "stdout",
          "text": [
            "Prediction shape: (80, 160, 1)\n",
            "Avg fit shape: (80, 160, 1)\n",
            "Blanks shape: (80, 160, 1)\n",
            "Lane drawn shape: (80, 160, 3)\n",
            "Lane image shape: (544, 960, 3)\n",
            "1/1 [==============================] - 0s 43ms/step\n",
            "Prediction shape: (80, 160, 1)\n",
            "Avg fit shape: (80, 160, 1)\n",
            "Blanks shape: (80, 160, 1)\n",
            "Lane drawn shape: (80, 160, 3)\n",
            "Lane image shape: (544, 960, 3)\n"
          ]
        },
        {
          "output_type": "stream",
          "name": "stderr",
          "text": [
            "\rt:  90%|████████▉ | 1167/1297 [06:15<00:55,  2.34it/s, now=None]"
          ]
        },
        {
          "output_type": "stream",
          "name": "stdout",
          "text": [
            "1/1 [==============================] - 0s 37ms/step\n"
          ]
        },
        {
          "output_type": "stream",
          "name": "stderr",
          "text": [
            "\rt:  90%|█████████ | 1168/1297 [06:16<00:56,  2.29it/s, now=None]"
          ]
        },
        {
          "output_type": "stream",
          "name": "stdout",
          "text": [
            "Prediction shape: (80, 160, 1)\n",
            "Avg fit shape: (80, 160, 1)\n",
            "Blanks shape: (80, 160, 1)\n",
            "Lane drawn shape: (80, 160, 3)\n",
            "Lane image shape: (544, 960, 3)\n",
            "1/1 [==============================] - 0s 29ms/step\n",
            "Prediction shape: (80, 160, 1)\n",
            "Avg fit shape: (80, 160, 1)\n",
            "Blanks shape: (80, 160, 1)\n",
            "Lane drawn shape: (80, 160, 3)\n",
            "Lane image shape: (544, 960, 3)\n"
          ]
        },
        {
          "output_type": "stream",
          "name": "stderr",
          "text": [
            "\rt:  90%|█████████ | 1169/1297 [06:16<00:56,  2.26it/s, now=None]"
          ]
        },
        {
          "output_type": "stream",
          "name": "stdout",
          "text": [
            "1/1 [==============================] - 0s 35ms/step\n"
          ]
        },
        {
          "output_type": "stream",
          "name": "stderr",
          "text": [
            "\rt:  90%|█████████ | 1170/1297 [06:17<00:55,  2.30it/s, now=None]"
          ]
        },
        {
          "output_type": "stream",
          "name": "stdout",
          "text": [
            "Prediction shape: (80, 160, 1)\n",
            "Avg fit shape: (80, 160, 1)\n",
            "Blanks shape: (80, 160, 1)\n",
            "Lane drawn shape: (80, 160, 3)\n",
            "Lane image shape: (544, 960, 3)\n",
            "1/1 [==============================] - 0s 41ms/step\n"
          ]
        },
        {
          "output_type": "stream",
          "name": "stderr",
          "text": [
            "\rt:  90%|█████████ | 1171/1297 [06:17<00:55,  2.28it/s, now=None]"
          ]
        },
        {
          "output_type": "stream",
          "name": "stdout",
          "text": [
            "Prediction shape: (80, 160, 1)\n",
            "Avg fit shape: (80, 160, 1)\n",
            "Blanks shape: (80, 160, 1)\n",
            "Lane drawn shape: (80, 160, 3)\n",
            "Lane image shape: (544, 960, 3)\n",
            "1/1 [==============================] - 0s 34ms/step\n",
            "Prediction shape: (80, 160, 1)\n",
            "Avg fit shape: (80, 160, 1)\n",
            "Blanks shape: (80, 160, 1)\n",
            "Lane drawn shape: (80, 160, 3)\n",
            "Lane image shape: (544, 960, 3)\n"
          ]
        },
        {
          "output_type": "stream",
          "name": "stderr",
          "text": [
            "\rt:  90%|█████████ | 1172/1297 [06:17<00:54,  2.30it/s, now=None]"
          ]
        },
        {
          "output_type": "stream",
          "name": "stdout",
          "text": [
            "1/1 [==============================] - 0s 32ms/step\n"
          ]
        },
        {
          "output_type": "stream",
          "name": "stderr",
          "text": [
            "\rt:  90%|█████████ | 1173/1297 [06:18<00:54,  2.26it/s, now=None]"
          ]
        },
        {
          "output_type": "stream",
          "name": "stdout",
          "text": [
            "Prediction shape: (80, 160, 1)\n",
            "Avg fit shape: (80, 160, 1)\n",
            "Blanks shape: (80, 160, 1)\n",
            "Lane drawn shape: (80, 160, 3)\n",
            "Lane image shape: (544, 960, 3)\n",
            "1/1 [==============================] - 0s 18ms/step\n"
          ]
        },
        {
          "output_type": "stream",
          "name": "stderr",
          "text": [
            "\rt:  91%|█████████ | 1174/1297 [06:18<00:48,  2.51it/s, now=None]"
          ]
        },
        {
          "output_type": "stream",
          "name": "stdout",
          "text": [
            "Prediction shape: (80, 160, 1)\n",
            "Avg fit shape: (80, 160, 1)\n",
            "Blanks shape: (80, 160, 1)\n",
            "Lane drawn shape: (80, 160, 3)\n",
            "Lane image shape: (544, 960, 3)\n",
            "1/1 [==============================] - 0s 19ms/step\n"
          ]
        },
        {
          "output_type": "stream",
          "name": "stderr",
          "text": [
            "\rt:  91%|█████████ | 1175/1297 [06:18<00:44,  2.76it/s, now=None]"
          ]
        },
        {
          "output_type": "stream",
          "name": "stdout",
          "text": [
            "Prediction shape: (80, 160, 1)\n",
            "Avg fit shape: (80, 160, 1)\n",
            "Blanks shape: (80, 160, 1)\n",
            "Lane drawn shape: (80, 160, 3)\n",
            "Lane image shape: (544, 960, 3)\n",
            "1/1 [==============================] - 0s 19ms/step\n"
          ]
        },
        {
          "output_type": "stream",
          "name": "stderr",
          "text": [
            "\rt:  91%|█████████ | 1176/1297 [06:19<00:40,  2.96it/s, now=None]"
          ]
        },
        {
          "output_type": "stream",
          "name": "stdout",
          "text": [
            "Prediction shape: (80, 160, 1)\n",
            "Avg fit shape: (80, 160, 1)\n",
            "Blanks shape: (80, 160, 1)\n",
            "Lane drawn shape: (80, 160, 3)\n",
            "Lane image shape: (544, 960, 3)\n",
            "1/1 [==============================] - 0s 21ms/step\n"
          ]
        },
        {
          "output_type": "stream",
          "name": "stderr",
          "text": [
            "\rt:  91%|█████████ | 1177/1297 [06:19<00:39,  3.07it/s, now=None]"
          ]
        },
        {
          "output_type": "stream",
          "name": "stdout",
          "text": [
            "Prediction shape: (80, 160, 1)\n",
            "Avg fit shape: (80, 160, 1)\n",
            "Blanks shape: (80, 160, 1)\n",
            "Lane drawn shape: (80, 160, 3)\n",
            "Lane image shape: (544, 960, 3)\n",
            "1/1 [==============================] - 0s 21ms/step\n"
          ]
        },
        {
          "output_type": "stream",
          "name": "stderr",
          "text": [
            "\rt:  91%|█████████ | 1178/1297 [06:19<00:38,  3.11it/s, now=None]"
          ]
        },
        {
          "output_type": "stream",
          "name": "stdout",
          "text": [
            "Prediction shape: (80, 160, 1)\n",
            "Avg fit shape: (80, 160, 1)\n",
            "Blanks shape: (80, 160, 1)\n",
            "Lane drawn shape: (80, 160, 3)\n",
            "Lane image shape: (544, 960, 3)\n",
            "1/1 [==============================] - 0s 19ms/step\n"
          ]
        },
        {
          "output_type": "stream",
          "name": "stderr",
          "text": [
            "\rt:  91%|█████████ | 1179/1297 [06:20<00:37,  3.16it/s, now=None]"
          ]
        },
        {
          "output_type": "stream",
          "name": "stdout",
          "text": [
            "Prediction shape: (80, 160, 1)\n",
            "Avg fit shape: (80, 160, 1)\n",
            "Blanks shape: (80, 160, 1)\n",
            "Lane drawn shape: (80, 160, 3)\n",
            "Lane image shape: (544, 960, 3)\n",
            "1/1 [==============================] - 0s 19ms/step\n"
          ]
        },
        {
          "output_type": "stream",
          "name": "stderr",
          "text": [
            "\rt:  91%|█████████ | 1180/1297 [06:20<00:35,  3.25it/s, now=None]"
          ]
        },
        {
          "output_type": "stream",
          "name": "stdout",
          "text": [
            "Prediction shape: (80, 160, 1)\n",
            "Avg fit shape: (80, 160, 1)\n",
            "Blanks shape: (80, 160, 1)\n",
            "Lane drawn shape: (80, 160, 3)\n",
            "Lane image shape: (544, 960, 3)\n",
            "1/1 [==============================] - 0s 18ms/step\n"
          ]
        },
        {
          "output_type": "stream",
          "name": "stderr",
          "text": [
            "\rt:  91%|█████████ | 1181/1297 [06:20<00:35,  3.30it/s, now=None]"
          ]
        },
        {
          "output_type": "stream",
          "name": "stdout",
          "text": [
            "Prediction shape: (80, 160, 1)\n",
            "Avg fit shape: (80, 160, 1)\n",
            "Blanks shape: (80, 160, 1)\n",
            "Lane drawn shape: (80, 160, 3)\n",
            "Lane image shape: (544, 960, 3)\n",
            "1/1 [==============================] - 0s 19ms/step\n"
          ]
        },
        {
          "output_type": "stream",
          "name": "stderr",
          "text": [
            "\rt:  91%|█████████ | 1182/1297 [06:21<00:34,  3.36it/s, now=None]"
          ]
        },
        {
          "output_type": "stream",
          "name": "stdout",
          "text": [
            "Prediction shape: (80, 160, 1)\n",
            "Avg fit shape: (80, 160, 1)\n",
            "Blanks shape: (80, 160, 1)\n",
            "Lane drawn shape: (80, 160, 3)\n",
            "Lane image shape: (544, 960, 3)\n",
            "1/1 [==============================] - 0s 20ms/step\n"
          ]
        },
        {
          "output_type": "stream",
          "name": "stderr",
          "text": [
            "\rt:  91%|█████████ | 1183/1297 [06:21<00:34,  3.29it/s, now=None]"
          ]
        },
        {
          "output_type": "stream",
          "name": "stdout",
          "text": [
            "Prediction shape: (80, 160, 1)\n",
            "Avg fit shape: (80, 160, 1)\n",
            "Blanks shape: (80, 160, 1)\n",
            "Lane drawn shape: (80, 160, 3)\n",
            "Lane image shape: (544, 960, 3)\n",
            "1/1 [==============================] - 0s 19ms/step\n"
          ]
        },
        {
          "output_type": "stream",
          "name": "stderr",
          "text": [
            "\rt:  91%|█████████▏| 1184/1297 [06:21<00:34,  3.29it/s, now=None]"
          ]
        },
        {
          "output_type": "stream",
          "name": "stdout",
          "text": [
            "Prediction shape: (80, 160, 1)\n",
            "Avg fit shape: (80, 160, 1)\n",
            "Blanks shape: (80, 160, 1)\n",
            "Lane drawn shape: (80, 160, 3)\n",
            "Lane image shape: (544, 960, 3)\n",
            "1/1 [==============================] - 0s 20ms/step\n"
          ]
        },
        {
          "output_type": "stream",
          "name": "stderr",
          "text": [
            "\rt:  91%|█████████▏| 1185/1297 [06:21<00:34,  3.24it/s, now=None]"
          ]
        },
        {
          "output_type": "stream",
          "name": "stdout",
          "text": [
            "Prediction shape: (80, 160, 1)\n",
            "Avg fit shape: (80, 160, 1)\n",
            "Blanks shape: (80, 160, 1)\n",
            "Lane drawn shape: (80, 160, 3)\n",
            "Lane image shape: (544, 960, 3)\n",
            "1/1 [==============================] - 0s 21ms/step\n"
          ]
        },
        {
          "output_type": "stream",
          "name": "stderr",
          "text": [
            "\rt:  91%|█████████▏| 1186/1297 [06:22<00:34,  3.24it/s, now=None]"
          ]
        },
        {
          "output_type": "stream",
          "name": "stdout",
          "text": [
            "Prediction shape: (80, 160, 1)\n",
            "Avg fit shape: (80, 160, 1)\n",
            "Blanks shape: (80, 160, 1)\n",
            "Lane drawn shape: (80, 160, 3)\n",
            "Lane image shape: (544, 960, 3)\n",
            "1/1 [==============================] - 0s 19ms/step\n"
          ]
        },
        {
          "output_type": "stream",
          "name": "stderr",
          "text": [
            "\rt:  92%|█████████▏| 1187/1297 [06:22<00:33,  3.33it/s, now=None]"
          ]
        },
        {
          "output_type": "stream",
          "name": "stdout",
          "text": [
            "Prediction shape: (80, 160, 1)\n",
            "Avg fit shape: (80, 160, 1)\n",
            "Blanks shape: (80, 160, 1)\n",
            "Lane drawn shape: (80, 160, 3)\n",
            "Lane image shape: (544, 960, 3)\n",
            "1/1 [==============================] - 0s 19ms/step\n"
          ]
        },
        {
          "output_type": "stream",
          "name": "stderr",
          "text": [
            "\rt:  92%|█████████▏| 1188/1297 [06:22<00:32,  3.31it/s, now=None]"
          ]
        },
        {
          "output_type": "stream",
          "name": "stdout",
          "text": [
            "Prediction shape: (80, 160, 1)\n",
            "Avg fit shape: (80, 160, 1)\n",
            "Blanks shape: (80, 160, 1)\n",
            "Lane drawn shape: (80, 160, 3)\n",
            "Lane image shape: (544, 960, 3)\n",
            "1/1 [==============================] - 0s 18ms/step\n"
          ]
        },
        {
          "output_type": "stream",
          "name": "stderr",
          "text": [
            "\rt:  92%|█████████▏| 1189/1297 [06:23<00:32,  3.33it/s, now=None]"
          ]
        },
        {
          "output_type": "stream",
          "name": "stdout",
          "text": [
            "Prediction shape: (80, 160, 1)\n",
            "Avg fit shape: (80, 160, 1)\n",
            "Blanks shape: (80, 160, 1)\n",
            "Lane drawn shape: (80, 160, 3)\n",
            "Lane image shape: (544, 960, 3)\n",
            "1/1 [==============================] - 0s 19ms/step\n"
          ]
        },
        {
          "output_type": "stream",
          "name": "stderr",
          "text": [
            "\rt:  92%|█████████▏| 1190/1297 [06:23<00:31,  3.39it/s, now=None]"
          ]
        },
        {
          "output_type": "stream",
          "name": "stdout",
          "text": [
            "Prediction shape: (80, 160, 1)\n",
            "Avg fit shape: (80, 160, 1)\n",
            "Blanks shape: (80, 160, 1)\n",
            "Lane drawn shape: (80, 160, 3)\n",
            "Lane image shape: (544, 960, 3)\n",
            "1/1 [==============================] - 0s 18ms/step\n"
          ]
        },
        {
          "output_type": "stream",
          "name": "stderr",
          "text": [
            "\rt:  92%|█████████▏| 1191/1297 [06:23<00:30,  3.47it/s, now=None]"
          ]
        },
        {
          "output_type": "stream",
          "name": "stdout",
          "text": [
            "Prediction shape: (80, 160, 1)\n",
            "Avg fit shape: (80, 160, 1)\n",
            "Blanks shape: (80, 160, 1)\n",
            "Lane drawn shape: (80, 160, 3)\n",
            "Lane image shape: (544, 960, 3)\n",
            "1/1 [==============================] - 0s 19ms/step\n"
          ]
        },
        {
          "output_type": "stream",
          "name": "stderr",
          "text": [
            "\rt:  92%|█████████▏| 1192/1297 [06:24<00:30,  3.42it/s, now=None]"
          ]
        },
        {
          "output_type": "stream",
          "name": "stdout",
          "text": [
            "Prediction shape: (80, 160, 1)\n",
            "Avg fit shape: (80, 160, 1)\n",
            "Blanks shape: (80, 160, 1)\n",
            "Lane drawn shape: (80, 160, 3)\n",
            "Lane image shape: (544, 960, 3)\n",
            "1/1 [==============================] - 0s 18ms/step\n"
          ]
        },
        {
          "output_type": "stream",
          "name": "stderr",
          "text": [
            "\rt:  92%|█████████▏| 1193/1297 [06:24<00:30,  3.42it/s, now=None]"
          ]
        },
        {
          "output_type": "stream",
          "name": "stdout",
          "text": [
            "Prediction shape: (80, 160, 1)\n",
            "Avg fit shape: (80, 160, 1)\n",
            "Blanks shape: (80, 160, 1)\n",
            "Lane drawn shape: (80, 160, 3)\n",
            "Lane image shape: (544, 960, 3)\n",
            "1/1 [==============================] - 0s 20ms/step\n"
          ]
        },
        {
          "output_type": "stream",
          "name": "stderr",
          "text": [
            "\rt:  92%|█████████▏| 1194/1297 [06:24<00:29,  3.45it/s, now=None]"
          ]
        },
        {
          "output_type": "stream",
          "name": "stdout",
          "text": [
            "Prediction shape: (80, 160, 1)\n",
            "Avg fit shape: (80, 160, 1)\n",
            "Blanks shape: (80, 160, 1)\n",
            "Lane drawn shape: (80, 160, 3)\n",
            "Lane image shape: (544, 960, 3)\n",
            "1/1 [==============================] - 0s 18ms/step\n"
          ]
        },
        {
          "output_type": "stream",
          "name": "stderr",
          "text": [
            "\rt:  92%|█████████▏| 1195/1297 [06:24<00:29,  3.43it/s, now=None]"
          ]
        },
        {
          "output_type": "stream",
          "name": "stdout",
          "text": [
            "Prediction shape: (80, 160, 1)\n",
            "Avg fit shape: (80, 160, 1)\n",
            "Blanks shape: (80, 160, 1)\n",
            "Lane drawn shape: (80, 160, 3)\n",
            "Lane image shape: (544, 960, 3)\n",
            "1/1 [==============================] - 0s 19ms/step\n"
          ]
        },
        {
          "output_type": "stream",
          "name": "stderr",
          "text": [
            "\rt:  92%|█████████▏| 1196/1297 [06:25<00:29,  3.46it/s, now=None]"
          ]
        },
        {
          "output_type": "stream",
          "name": "stdout",
          "text": [
            "Prediction shape: (80, 160, 1)\n",
            "Avg fit shape: (80, 160, 1)\n",
            "Blanks shape: (80, 160, 1)\n",
            "Lane drawn shape: (80, 160, 3)\n",
            "Lane image shape: (544, 960, 3)\n",
            "1/1 [==============================] - 0s 18ms/step\n"
          ]
        },
        {
          "output_type": "stream",
          "name": "stderr",
          "text": [
            "\rt:  92%|█████████▏| 1197/1297 [06:25<00:29,  3.41it/s, now=None]"
          ]
        },
        {
          "output_type": "stream",
          "name": "stdout",
          "text": [
            "Prediction shape: (80, 160, 1)\n",
            "Avg fit shape: (80, 160, 1)\n",
            "Blanks shape: (80, 160, 1)\n",
            "Lane drawn shape: (80, 160, 3)\n",
            "Lane image shape: (544, 960, 3)\n",
            "1/1 [==============================] - 0s 19ms/step\n"
          ]
        },
        {
          "output_type": "stream",
          "name": "stderr",
          "text": [
            "\rt:  92%|█████████▏| 1198/1297 [06:25<00:28,  3.42it/s, now=None]"
          ]
        },
        {
          "output_type": "stream",
          "name": "stdout",
          "text": [
            "Prediction shape: (80, 160, 1)\n",
            "Avg fit shape: (80, 160, 1)\n",
            "Blanks shape: (80, 160, 1)\n",
            "Lane drawn shape: (80, 160, 3)\n",
            "Lane image shape: (544, 960, 3)\n",
            "1/1 [==============================] - 0s 19ms/step\n"
          ]
        },
        {
          "output_type": "stream",
          "name": "stderr",
          "text": [
            "\rt:  92%|█████████▏| 1199/1297 [06:26<00:29,  3.38it/s, now=None]"
          ]
        },
        {
          "output_type": "stream",
          "name": "stdout",
          "text": [
            "Prediction shape: (80, 160, 1)\n",
            "Avg fit shape: (80, 160, 1)\n",
            "Blanks shape: (80, 160, 1)\n",
            "Lane drawn shape: (80, 160, 3)\n",
            "Lane image shape: (544, 960, 3)\n",
            "1/1 [==============================] - 0s 19ms/step\n"
          ]
        },
        {
          "output_type": "stream",
          "name": "stderr",
          "text": [
            "\rt:  93%|█████████▎| 1200/1297 [06:26<00:28,  3.42it/s, now=None]"
          ]
        },
        {
          "output_type": "stream",
          "name": "stdout",
          "text": [
            "Prediction shape: (80, 160, 1)\n",
            "Avg fit shape: (80, 160, 1)\n",
            "Blanks shape: (80, 160, 1)\n",
            "Lane drawn shape: (80, 160, 3)\n",
            "Lane image shape: (544, 960, 3)\n",
            "1/1 [==============================] - 0s 20ms/step\n"
          ]
        },
        {
          "output_type": "stream",
          "name": "stderr",
          "text": [
            "\rt:  93%|█████████▎| 1201/1297 [06:26<00:28,  3.40it/s, now=None]"
          ]
        },
        {
          "output_type": "stream",
          "name": "stdout",
          "text": [
            "Prediction shape: (80, 160, 1)\n",
            "Avg fit shape: (80, 160, 1)\n",
            "Blanks shape: (80, 160, 1)\n",
            "Lane drawn shape: (80, 160, 3)\n",
            "Lane image shape: (544, 960, 3)\n",
            "1/1 [==============================] - 0s 19ms/step\n"
          ]
        },
        {
          "output_type": "stream",
          "name": "stderr",
          "text": [
            "\rt:  93%|█████████▎| 1202/1297 [06:26<00:27,  3.42it/s, now=None]"
          ]
        },
        {
          "output_type": "stream",
          "name": "stdout",
          "text": [
            "Prediction shape: (80, 160, 1)\n",
            "Avg fit shape: (80, 160, 1)\n",
            "Blanks shape: (80, 160, 1)\n",
            "Lane drawn shape: (80, 160, 3)\n",
            "Lane image shape: (544, 960, 3)\n",
            "1/1 [==============================] - 0s 18ms/step\n"
          ]
        },
        {
          "output_type": "stream",
          "name": "stderr",
          "text": [
            "\rt:  93%|█████████▎| 1203/1297 [06:27<00:27,  3.46it/s, now=None]"
          ]
        },
        {
          "output_type": "stream",
          "name": "stdout",
          "text": [
            "Prediction shape: (80, 160, 1)\n",
            "Avg fit shape: (80, 160, 1)\n",
            "Blanks shape: (80, 160, 1)\n",
            "Lane drawn shape: (80, 160, 3)\n",
            "Lane image shape: (544, 960, 3)\n",
            "1/1 [==============================] - 0s 18ms/step\n"
          ]
        },
        {
          "output_type": "stream",
          "name": "stderr",
          "text": [
            "\rt:  93%|█████████▎| 1204/1297 [06:27<00:26,  3.50it/s, now=None]"
          ]
        },
        {
          "output_type": "stream",
          "name": "stdout",
          "text": [
            "Prediction shape: (80, 160, 1)\n",
            "Avg fit shape: (80, 160, 1)\n",
            "Blanks shape: (80, 160, 1)\n",
            "Lane drawn shape: (80, 160, 3)\n",
            "Lane image shape: (544, 960, 3)\n",
            "1/1 [==============================] - 0s 19ms/step\n"
          ]
        },
        {
          "output_type": "stream",
          "name": "stderr",
          "text": [
            "\rt:  93%|█████████▎| 1205/1297 [06:27<00:26,  3.53it/s, now=None]"
          ]
        },
        {
          "output_type": "stream",
          "name": "stdout",
          "text": [
            "Prediction shape: (80, 160, 1)\n",
            "Avg fit shape: (80, 160, 1)\n",
            "Blanks shape: (80, 160, 1)\n",
            "Lane drawn shape: (80, 160, 3)\n",
            "Lane image shape: (544, 960, 3)\n",
            "1/1 [==============================] - 0s 19ms/step\n"
          ]
        },
        {
          "output_type": "stream",
          "name": "stderr",
          "text": [
            "\rt:  93%|█████████▎| 1206/1297 [06:28<00:26,  3.39it/s, now=None]"
          ]
        },
        {
          "output_type": "stream",
          "name": "stdout",
          "text": [
            "Prediction shape: (80, 160, 1)\n",
            "Avg fit shape: (80, 160, 1)\n",
            "Blanks shape: (80, 160, 1)\n",
            "Lane drawn shape: (80, 160, 3)\n",
            "Lane image shape: (544, 960, 3)\n",
            "1/1 [==============================] - 0s 19ms/step\n"
          ]
        },
        {
          "output_type": "stream",
          "name": "stderr",
          "text": [
            "\rt:  93%|█████████▎| 1207/1297 [06:28<00:26,  3.42it/s, now=None]"
          ]
        },
        {
          "output_type": "stream",
          "name": "stdout",
          "text": [
            "Prediction shape: (80, 160, 1)\n",
            "Avg fit shape: (80, 160, 1)\n",
            "Blanks shape: (80, 160, 1)\n",
            "Lane drawn shape: (80, 160, 3)\n",
            "Lane image shape: (544, 960, 3)\n",
            "1/1 [==============================] - 0s 26ms/step\n",
            "Prediction shape: (80, 160, 1)\n",
            "Avg fit shape: (80, 160, 1)\n",
            "Blanks shape: "
          ]
        },
        {
          "output_type": "stream",
          "name": "stderr",
          "text": [
            "\rt:  93%|█████████▎| 1208/1297 [06:28<00:29,  3.02it/s, now=None]"
          ]
        },
        {
          "output_type": "stream",
          "name": "stdout",
          "text": [
            "(80, 160, 1)\n",
            "Lane drawn shape: (80, 160, 3)\n",
            "Lane image shape: (544, 960, 3)\n",
            "1/1 [==============================] - 0s 40ms/step\n"
          ]
        },
        {
          "output_type": "stream",
          "name": "stderr",
          "text": [
            "\rt:  93%|█████████▎| 1209/1297 [06:29<00:32,  2.70it/s, now=None]"
          ]
        },
        {
          "output_type": "stream",
          "name": "stdout",
          "text": [
            "Prediction shape: (80, 160, 1)\n",
            "Avg fit shape: (80, 160, 1)\n",
            "Blanks shape: (80, 160, 1)\n",
            "Lane drawn shape: (80, 160, 3)\n",
            "Lane image shape: (544, 960, 3)\n",
            "1/1 [==============================] - 0s 38ms/step\n"
          ]
        },
        {
          "output_type": "stream",
          "name": "stderr",
          "text": [
            "\rt:  93%|█████████▎| 1210/1297 [06:29<00:34,  2.54it/s, now=None]"
          ]
        },
        {
          "output_type": "stream",
          "name": "stdout",
          "text": [
            "Prediction shape: (80, 160, 1)\n",
            "Avg fit shape: (80, 160, 1)\n",
            "Blanks shape: (80, 160, 1)\n",
            "Lane drawn shape: (80, 160, 3)\n",
            "Lane image shape: (544, 960, 3)\n",
            "1/1 [==============================] - 0s 39ms/step\n"
          ]
        },
        {
          "output_type": "stream",
          "name": "stderr",
          "text": [
            "\rt:  93%|█████████▎| 1211/1297 [06:30<00:35,  2.45it/s, now=None]"
          ]
        },
        {
          "output_type": "stream",
          "name": "stdout",
          "text": [
            "Prediction shape: (80, 160, 1)\n",
            "Avg fit shape: (80, 160, 1)\n",
            "Blanks shape: (80, 160, 1)\n",
            "Lane drawn shape: (80, 160, 3)\n",
            "Lane image shape: (544, 960, 3)\n",
            "1/1 [==============================] - 0s 43ms/step\n",
            "Prediction shape: (80, 160, 1)\n",
            "Avg fit shape: (80, 160, 1)\n",
            "Blanks shape: (80, 160, 1)\n",
            "Lane drawn shape: (80, 160, 3)\n",
            "Lane image shape: (544, 960, 3)\n"
          ]
        },
        {
          "output_type": "stream",
          "name": "stderr",
          "text": [
            "\rt:  93%|█████████▎| 1212/1297 [06:30<00:35,  2.42it/s, now=None]"
          ]
        },
        {
          "output_type": "stream",
          "name": "stdout",
          "text": [
            "1/1 [==============================] - 0s 27ms/step\n"
          ]
        },
        {
          "output_type": "stream",
          "name": "stderr",
          "text": [
            "\rt:  94%|█████████▎| 1213/1297 [06:31<00:34,  2.42it/s, now=None]"
          ]
        },
        {
          "output_type": "stream",
          "name": "stdout",
          "text": [
            "Prediction shape: (80, 160, 1)\n",
            "Avg fit shape: (80, 160, 1)\n",
            "Blanks shape: (80, 160, 1)\n",
            "Lane drawn shape: (80, 160, 3)\n",
            "Lane image shape: (544, 960, 3)\n",
            "1/1 [==============================] - 0s 47ms/step\n"
          ]
        },
        {
          "output_type": "stream",
          "name": "stderr",
          "text": [
            "\rt:  94%|█████████▎| 1214/1297 [06:31<00:35,  2.32it/s, now=None]"
          ]
        },
        {
          "output_type": "stream",
          "name": "stdout",
          "text": [
            "Prediction shape: (80, 160, 1)\n",
            "Avg fit shape: (80, 160, 1)\n",
            "Blanks shape: (80, 160, 1)\n",
            "Lane drawn shape: (80, 160, 3)\n",
            "Lane image shape: (544, 960, 3)\n",
            "1/1 [==============================] - 0s 35ms/step\n",
            "Prediction shape: (80, 160, 1)\n",
            "Avg fit shape: (80, 160, 1)\n",
            "Blanks shape: (80, 160, 1)\n",
            "Lane drawn shape: (80, 160, 3)\n",
            "Lane image shape: (544, 960, 3)\n"
          ]
        },
        {
          "output_type": "stream",
          "name": "stderr",
          "text": [
            "\rt:  94%|█████████▎| 1215/1297 [06:31<00:34,  2.35it/s, now=None]"
          ]
        },
        {
          "output_type": "stream",
          "name": "stdout",
          "text": [
            "1/1 [==============================] - 0s 34ms/step\n",
            "Prediction shape:"
          ]
        },
        {
          "output_type": "stream",
          "name": "stderr",
          "text": [
            "\rt:  94%|█████████▍| 1216/1297 [06:32<00:34,  2.33it/s, now=None]"
          ]
        },
        {
          "output_type": "stream",
          "name": "stdout",
          "text": [
            " (80, 160, 1)\n",
            "Avg fit shape: (80, 160, 1)\n",
            "Blanks shape: (80, 160, 1)\n",
            "Lane drawn shape: (80, 160, 3)\n",
            "Lane image shape: (544, 960, 3)\n",
            "1/1 [==============================] - 0s 29ms/step\n"
          ]
        },
        {
          "output_type": "stream",
          "name": "stderr",
          "text": [
            "\rt:  94%|█████████▍| 1217/1297 [06:32<00:33,  2.42it/s, now=None]"
          ]
        },
        {
          "output_type": "stream",
          "name": "stdout",
          "text": [
            "Prediction shape: (80, 160, 1)\n",
            "Avg fit shape: (80, 160, 1)\n",
            "Blanks shape: (80, 160, 1)\n",
            "Lane drawn shape: (80, 160, 3)\n",
            "Lane image shape: (544, 960, 3)\n",
            "1/1 [==============================] - 0s 30ms/step\n"
          ]
        },
        {
          "output_type": "stream",
          "name": "stderr",
          "text": [
            "\rt:  94%|█████████▍| 1218/1297 [06:33<00:34,  2.26it/s, now=None]"
          ]
        },
        {
          "output_type": "stream",
          "name": "stdout",
          "text": [
            "Prediction shape: (80, 160, 1)\n",
            "Avg fit shape: (80, 160, 1)\n",
            "Blanks shape: (80, 160, 1)\n",
            "Lane drawn shape: (80, 160, 3)\n",
            "Lane image shape: (544, 960, 3)\n",
            "1/1 [==============================] - 0s 46ms/step\n",
            "Prediction shape: (80, 160, 1)\n",
            "Avg fit shape: "
          ]
        },
        {
          "output_type": "stream",
          "name": "stderr",
          "text": [
            "\rt:  94%|█████████▍| 1219/1297 [06:33<00:34,  2.25it/s, now=None]"
          ]
        },
        {
          "output_type": "stream",
          "name": "stdout",
          "text": [
            "(80, 160, 1)\n",
            "Blanks shape: (80, 160, 1)\n",
            "Lane drawn shape: (80, 160, 3)\n",
            "Lane image shape: (544, 960, 3)\n",
            "1/1 [==============================] - 0s 50ms/step\n",
            "Prediction shape: (80, 160, 1)\n",
            "Avg fit shape: "
          ]
        },
        {
          "output_type": "stream",
          "name": "stderr",
          "text": [
            "\rt:  94%|█████████▍| 1220/1297 [06:34<00:34,  2.25it/s, now=None]"
          ]
        },
        {
          "output_type": "stream",
          "name": "stdout",
          "text": [
            "(80, 160, 1)\n",
            "Blanks shape: (80, 160, 1)\n",
            "Lane drawn shape: (80, 160, 3)\n",
            "Lane image shape: (544, 960, 3)\n",
            "1/1 [==============================] - 0s 43ms/step\n"
          ]
        },
        {
          "output_type": "stream",
          "name": "stderr",
          "text": [
            "\rt:  94%|█████████▍| 1221/1297 [06:34<00:32,  2.36it/s, now=None]"
          ]
        },
        {
          "output_type": "stream",
          "name": "stdout",
          "text": [
            "Prediction shape: (80, 160, 1)\n",
            "Avg fit shape: (80, 160, 1)\n",
            "Blanks shape: (80, 160, 1)\n",
            "Lane drawn shape: (80, 160, 3)\n",
            "Lane image shape: (544, 960, 3)\n",
            "1/1 [==============================] - 0s 19ms/step\n"
          ]
        },
        {
          "output_type": "stream",
          "name": "stderr",
          "text": [
            "\rt:  94%|█████████▍| 1222/1297 [06:34<00:29,  2.58it/s, now=None]"
          ]
        },
        {
          "output_type": "stream",
          "name": "stdout",
          "text": [
            "Prediction shape: (80, 160, 1)\n",
            "Avg fit shape: (80, 160, 1)\n",
            "Blanks shape: (80, 160, 1)\n",
            "Lane drawn shape: (80, 160, 3)\n",
            "Lane image shape: (544, 960, 3)\n",
            "1/1 [==============================] - 0s 19ms/step\n"
          ]
        },
        {
          "output_type": "stream",
          "name": "stderr",
          "text": [
            "\rt:  94%|█████████▍| 1223/1297 [06:35<00:26,  2.78it/s, now=None]"
          ]
        },
        {
          "output_type": "stream",
          "name": "stdout",
          "text": [
            "Prediction shape: (80, 160, 1)\n",
            "Avg fit shape: (80, 160, 1)\n",
            "Blanks shape: (80, 160, 1)\n",
            "Lane drawn shape: (80, 160, 3)\n",
            "Lane image shape: (544, 960, 3)\n",
            "1/1 [==============================] - 0s 19ms/step\n"
          ]
        },
        {
          "output_type": "stream",
          "name": "stderr",
          "text": [
            "\rt:  94%|█████████▍| 1224/1297 [06:35<00:24,  2.93it/s, now=None]"
          ]
        },
        {
          "output_type": "stream",
          "name": "stdout",
          "text": [
            "Prediction shape: (80, 160, 1)\n",
            "Avg fit shape: (80, 160, 1)\n",
            "Blanks shape: (80, 160, 1)\n",
            "Lane drawn shape: (80, 160, 3)\n",
            "Lane image shape: (544, 960, 3)\n",
            "1/1 [==============================] - 0s 19ms/step\n"
          ]
        },
        {
          "output_type": "stream",
          "name": "stderr",
          "text": [
            "\rt:  94%|█████████▍| 1225/1297 [06:35<00:23,  3.09it/s, now=None]"
          ]
        },
        {
          "output_type": "stream",
          "name": "stdout",
          "text": [
            "Prediction shape: (80, 160, 1)\n",
            "Avg fit shape: (80, 160, 1)\n",
            "Blanks shape: (80, 160, 1)\n",
            "Lane drawn shape: (80, 160, 3)\n",
            "Lane image shape: (544, 960, 3)\n",
            "1/1 [==============================] - 0s 18ms/step\n"
          ]
        },
        {
          "output_type": "stream",
          "name": "stderr",
          "text": [
            "\rt:  95%|█████████▍| 1226/1297 [06:35<00:22,  3.16it/s, now=None]"
          ]
        },
        {
          "output_type": "stream",
          "name": "stdout",
          "text": [
            "Prediction shape: (80, 160, 1)\n",
            "Avg fit shape: (80, 160, 1)\n",
            "Blanks shape: (80, 160, 1)\n",
            "Lane drawn shape: (80, 160, 3)\n",
            "Lane image shape: (544, 960, 3)\n",
            "1/1 [==============================] - 0s 19ms/step\n"
          ]
        },
        {
          "output_type": "stream",
          "name": "stderr",
          "text": [
            "\rt:  95%|█████████▍| 1227/1297 [06:36<00:21,  3.27it/s, now=None]"
          ]
        },
        {
          "output_type": "stream",
          "name": "stdout",
          "text": [
            "Prediction shape: (80, 160, 1)\n",
            "Avg fit shape: (80, 160, 1)\n",
            "Blanks shape: (80, 160, 1)\n",
            "Lane drawn shape: (80, 160, 3)\n",
            "Lane image shape: (544, 960, 3)\n",
            "1/1 [==============================] - 0s 21ms/step\n"
          ]
        },
        {
          "output_type": "stream",
          "name": "stderr",
          "text": [
            "\rt:  95%|█████████▍| 1228/1297 [06:36<00:20,  3.34it/s, now=None]"
          ]
        },
        {
          "output_type": "stream",
          "name": "stdout",
          "text": [
            "Prediction shape: (80, 160, 1)\n",
            "Avg fit shape: (80, 160, 1)\n",
            "Blanks shape: (80, 160, 1)\n",
            "Lane drawn shape: (80, 160, 3)\n",
            "Lane image shape: (544, 960, 3)\n",
            "1/1 [==============================] - 0s 18ms/step\n"
          ]
        },
        {
          "output_type": "stream",
          "name": "stderr",
          "text": [
            "\rt:  95%|█████████▍| 1229/1297 [06:36<00:19,  3.42it/s, now=None]"
          ]
        },
        {
          "output_type": "stream",
          "name": "stdout",
          "text": [
            "Prediction shape: (80, 160, 1)\n",
            "Avg fit shape: (80, 160, 1)\n",
            "Blanks shape: (80, 160, 1)\n",
            "Lane drawn shape: (80, 160, 3)\n",
            "Lane image shape: (544, 960, 3)\n",
            "1/1 [==============================] - 0s 19ms/step\n"
          ]
        },
        {
          "output_type": "stream",
          "name": "stderr",
          "text": [
            "\rt:  95%|█████████▍| 1230/1297 [06:37<00:20,  3.29it/s, now=None]"
          ]
        },
        {
          "output_type": "stream",
          "name": "stdout",
          "text": [
            "Prediction shape: (80, 160, 1)\n",
            "Avg fit shape: (80, 160, 1)\n",
            "Blanks shape: (80, 160, 1)\n",
            "Lane drawn shape: (80, 160, 3)\n",
            "Lane image shape: (544, 960, 3)\n",
            "1/1 [==============================] - 0s 18ms/step\n"
          ]
        },
        {
          "output_type": "stream",
          "name": "stderr",
          "text": [
            "\rt:  95%|█████████▍| 1231/1297 [06:37<00:20,  3.28it/s, now=None]"
          ]
        },
        {
          "output_type": "stream",
          "name": "stdout",
          "text": [
            "Prediction shape: (80, 160, 1)\n",
            "Avg fit shape: (80, 160, 1)\n",
            "Blanks shape: (80, 160, 1)\n",
            "Lane drawn shape: (80, 160, 3)\n",
            "Lane image shape: (544, 960, 3)\n",
            "1/1 [==============================] - 0s 20ms/step\n"
          ]
        },
        {
          "output_type": "stream",
          "name": "stderr",
          "text": [
            "\rt:  95%|█████████▍| 1232/1297 [06:37<00:19,  3.34it/s, now=None]"
          ]
        },
        {
          "output_type": "stream",
          "name": "stdout",
          "text": [
            "Prediction shape: (80, 160, 1)\n",
            "Avg fit shape: (80, 160, 1)\n",
            "Blanks shape: (80, 160, 1)\n",
            "Lane drawn shape: (80, 160, 3)\n",
            "Lane image shape: (544, 960, 3)\n",
            "1/1 [==============================] - 0s 20ms/step\n"
          ]
        },
        {
          "output_type": "stream",
          "name": "stderr",
          "text": [
            "\rt:  95%|█████████▌| 1233/1297 [06:38<00:18,  3.38it/s, now=None]"
          ]
        },
        {
          "output_type": "stream",
          "name": "stdout",
          "text": [
            "Prediction shape: (80, 160, 1)\n",
            "Avg fit shape: (80, 160, 1)\n",
            "Blanks shape: (80, 160, 1)\n",
            "Lane drawn shape: (80, 160, 3)\n",
            "Lane image shape: (544, 960, 3)\n",
            "1/1 [==============================] - 0s 19ms/step\n"
          ]
        },
        {
          "output_type": "stream",
          "name": "stderr",
          "text": [
            "\rt:  95%|█████████▌| 1234/1297 [06:38<00:18,  3.38it/s, now=None]"
          ]
        },
        {
          "output_type": "stream",
          "name": "stdout",
          "text": [
            "Prediction shape: (80, 160, 1)\n",
            "Avg fit shape: (80, 160, 1)\n",
            "Blanks shape: (80, 160, 1)\n",
            "Lane drawn shape: (80, 160, 3)\n",
            "Lane image shape: (544, 960, 3)\n",
            "1/1 [==============================] - 0s 19ms/step\n"
          ]
        },
        {
          "output_type": "stream",
          "name": "stderr",
          "text": [
            "\rt:  95%|█████████▌| 1235/1297 [06:38<00:18,  3.30it/s, now=None]"
          ]
        },
        {
          "output_type": "stream",
          "name": "stdout",
          "text": [
            "Prediction shape: (80, 160, 1)\n",
            "Avg fit shape: (80, 160, 1)\n",
            "Blanks shape: (80, 160, 1)\n",
            "Lane drawn shape: (80, 160, 3)\n",
            "Lane image shape: (544, 960, 3)\n",
            "1/1 [==============================] - 0s 19ms/step\n"
          ]
        },
        {
          "output_type": "stream",
          "name": "stderr",
          "text": [
            "\rt:  95%|█████████▌| 1236/1297 [06:38<00:18,  3.33it/s, now=None]"
          ]
        },
        {
          "output_type": "stream",
          "name": "stdout",
          "text": [
            "Prediction shape: (80, 160, 1)\n",
            "Avg fit shape: (80, 160, 1)\n",
            "Blanks shape: (80, 160, 1)\n",
            "Lane drawn shape: (80, 160, 3)\n",
            "Lane image shape: (544, 960, 3)\n",
            "1/1 [==============================] - 0s 21ms/step\n"
          ]
        },
        {
          "output_type": "stream",
          "name": "stderr",
          "text": [
            "\rt:  95%|█████████▌| 1237/1297 [06:39<00:17,  3.35it/s, now=None]"
          ]
        },
        {
          "output_type": "stream",
          "name": "stdout",
          "text": [
            "Prediction shape: (80, 160, 1)\n",
            "Avg fit shape: (80, 160, 1)\n",
            "Blanks shape: (80, 160, 1)\n",
            "Lane drawn shape: (80, 160, 3)\n",
            "Lane image shape: (544, 960, 3)\n",
            "1/1 [==============================] - 0s 19ms/step\n"
          ]
        },
        {
          "output_type": "stream",
          "name": "stderr",
          "text": [
            "\rt:  95%|█████████▌| 1238/1297 [06:39<00:17,  3.29it/s, now=None]"
          ]
        },
        {
          "output_type": "stream",
          "name": "stdout",
          "text": [
            "Prediction shape: (80, 160, 1)\n",
            "Avg fit shape: (80, 160, 1)\n",
            "Blanks shape: (80, 160, 1)\n",
            "Lane drawn shape: (80, 160, 3)\n",
            "Lane image shape: (544, 960, 3)\n",
            "1/1 [==============================] - 0s 19ms/step\n"
          ]
        },
        {
          "output_type": "stream",
          "name": "stderr",
          "text": [
            "\rt:  96%|█████████▌| 1239/1297 [06:39<00:17,  3.37it/s, now=None]"
          ]
        },
        {
          "output_type": "stream",
          "name": "stdout",
          "text": [
            "Prediction shape: (80, 160, 1)\n",
            "Avg fit shape: (80, 160, 1)\n",
            "Blanks shape: (80, 160, 1)\n",
            "Lane drawn shape: (80, 160, 3)\n",
            "Lane image shape: (544, 960, 3)\n",
            "1/1 [==============================] - 0s 19ms/step\n"
          ]
        },
        {
          "output_type": "stream",
          "name": "stderr",
          "text": [
            "\rt:  96%|█████████▌| 1240/1297 [06:40<00:16,  3.36it/s, now=None]"
          ]
        },
        {
          "output_type": "stream",
          "name": "stdout",
          "text": [
            "Prediction shape: (80, 160, 1)\n",
            "Avg fit shape: (80, 160, 1)\n",
            "Blanks shape: (80, 160, 1)\n",
            "Lane drawn shape: (80, 160, 3)\n",
            "Lane image shape: (544, 960, 3)\n",
            "1/1 [==============================] - 0s 19ms/step\n"
          ]
        },
        {
          "output_type": "stream",
          "name": "stderr",
          "text": [
            "\rt:  96%|█████████▌| 1241/1297 [06:40<00:16,  3.30it/s, now=None]"
          ]
        },
        {
          "output_type": "stream",
          "name": "stdout",
          "text": [
            "Prediction shape: (80, 160, 1)\n",
            "Avg fit shape: (80, 160, 1)\n",
            "Blanks shape: (80, 160, 1)\n",
            "Lane drawn shape: (80, 160, 3)\n",
            "Lane image shape: (544, 960, 3)\n",
            "1/1 [==============================] - 0s 19ms/step\n"
          ]
        },
        {
          "output_type": "stream",
          "name": "stderr",
          "text": [
            "\rt:  96%|█████████▌| 1242/1297 [06:40<00:16,  3.31it/s, now=None]"
          ]
        },
        {
          "output_type": "stream",
          "name": "stdout",
          "text": [
            "Prediction shape: (80, 160, 1)\n",
            "Avg fit shape: (80, 160, 1)\n",
            "Blanks shape: (80, 160, 1)\n",
            "Lane drawn shape: (80, 160, 3)\n",
            "Lane image shape: (544, 960, 3)\n",
            "1/1 [==============================] - 0s 19ms/step\n"
          ]
        },
        {
          "output_type": "stream",
          "name": "stderr",
          "text": [
            "\rt:  96%|█████████▌| 1243/1297 [06:41<00:15,  3.38it/s, now=None]"
          ]
        },
        {
          "output_type": "stream",
          "name": "stdout",
          "text": [
            "Prediction shape: (80, 160, 1)\n",
            "Avg fit shape: (80, 160, 1)\n",
            "Blanks shape: (80, 160, 1)\n",
            "Lane drawn shape: (80, 160, 3)\n",
            "Lane image shape: (544, 960, 3)\n",
            "1/1 [==============================] - 0s 20ms/step\n"
          ]
        },
        {
          "output_type": "stream",
          "name": "stderr",
          "text": [
            "\rt:  96%|█████████▌| 1244/1297 [06:41<00:15,  3.43it/s, now=None]"
          ]
        },
        {
          "output_type": "stream",
          "name": "stdout",
          "text": [
            "Prediction shape: (80, 160, 1)\n",
            "Avg fit shape: (80, 160, 1)\n",
            "Blanks shape: (80, 160, 1)\n",
            "Lane drawn shape: (80, 160, 3)\n",
            "Lane image shape: (544, 960, 3)\n",
            "1/1 [==============================] - 0s 19ms/step\n"
          ]
        },
        {
          "output_type": "stream",
          "name": "stderr",
          "text": [
            "\rt:  96%|█████████▌| 1245/1297 [06:41<00:15,  3.28it/s, now=None]"
          ]
        },
        {
          "output_type": "stream",
          "name": "stdout",
          "text": [
            "Prediction shape: (80, 160, 1)\n",
            "Avg fit shape: (80, 160, 1)\n",
            "Blanks shape: (80, 160, 1)\n",
            "Lane drawn shape: (80, 160, 3)\n",
            "Lane image shape: (544, 960, 3)\n",
            "1/1 [==============================] - 0s 19ms/step\n"
          ]
        },
        {
          "output_type": "stream",
          "name": "stderr",
          "text": [
            "\rt:  96%|█████████▌| 1246/1297 [06:41<00:15,  3.31it/s, now=None]"
          ]
        },
        {
          "output_type": "stream",
          "name": "stdout",
          "text": [
            "Prediction shape: (80, 160, 1)\n",
            "Avg fit shape: (80, 160, 1)\n",
            "Blanks shape: (80, 160, 1)\n",
            "Lane drawn shape: (80, 160, 3)\n",
            "Lane image shape: (544, 960, 3)\n",
            "1/1 [==============================] - 0s 19ms/step\n"
          ]
        },
        {
          "output_type": "stream",
          "name": "stderr",
          "text": [
            "\rt:  96%|█████████▌| 1247/1297 [06:42<00:14,  3.35it/s, now=None]"
          ]
        },
        {
          "output_type": "stream",
          "name": "stdout",
          "text": [
            "Prediction shape: (80, 160, 1)\n",
            "Avg fit shape: (80, 160, 1)\n",
            "Blanks shape: (80, 160, 1)\n",
            "Lane drawn shape: (80, 160, 3)\n",
            "Lane image shape: (544, 960, 3)\n",
            "1/1 [==============================] - 0s 22ms/step\n"
          ]
        },
        {
          "output_type": "stream",
          "name": "stderr",
          "text": [
            "\rt:  96%|█████████▌| 1248/1297 [06:42<00:14,  3.40it/s, now=None]"
          ]
        },
        {
          "output_type": "stream",
          "name": "stdout",
          "text": [
            "Prediction shape: (80, 160, 1)\n",
            "Avg fit shape: (80, 160, 1)\n",
            "Blanks shape: (80, 160, 1)\n",
            "Lane drawn shape: (80, 160, 3)\n",
            "Lane image shape: (544, 960, 3)\n",
            "1/1 [==============================] - 0s 20ms/step\n"
          ]
        },
        {
          "output_type": "stream",
          "name": "stderr",
          "text": [
            "\rt:  96%|█████████▋| 1249/1297 [06:42<00:14,  3.24it/s, now=None]"
          ]
        },
        {
          "output_type": "stream",
          "name": "stdout",
          "text": [
            "Prediction shape: (80, 160, 1)\n",
            "Avg fit shape: (80, 160, 1)\n",
            "Blanks shape: (80, 160, 1)\n",
            "Lane drawn shape: (80, 160, 3)\n",
            "Lane image shape: (544, 960, 3)\n",
            "1/1 [==============================] - 0s 18ms/step\n"
          ]
        },
        {
          "output_type": "stream",
          "name": "stderr",
          "text": [
            "\rt:  96%|█████████▋| 1250/1297 [06:43<00:14,  3.28it/s, now=None]"
          ]
        },
        {
          "output_type": "stream",
          "name": "stdout",
          "text": [
            "Prediction shape: (80, 160, 1)\n",
            "Avg fit shape: (80, 160, 1)\n",
            "Blanks shape: (80, 160, 1)\n",
            "Lane drawn shape: (80, 160, 3)\n",
            "Lane image shape: (544, 960, 3)\n",
            "1/1 [==============================] - 0s 19ms/step\n"
          ]
        },
        {
          "output_type": "stream",
          "name": "stderr",
          "text": [
            "\rt:  96%|█████████▋| 1251/1297 [06:43<00:13,  3.35it/s, now=None]"
          ]
        },
        {
          "output_type": "stream",
          "name": "stdout",
          "text": [
            "Prediction shape: (80, 160, 1)\n",
            "Avg fit shape: (80, 160, 1)\n",
            "Blanks shape: (80, 160, 1)\n",
            "Lane drawn shape: (80, 160, 3)\n",
            "Lane image shape: (544, 960, 3)\n",
            "1/1 [==============================] - 0s 31ms/step\n"
          ]
        },
        {
          "output_type": "stream",
          "name": "stderr",
          "text": [
            "\rt:  97%|█████████▋| 1252/1297 [06:43<00:13,  3.28it/s, now=None]"
          ]
        },
        {
          "output_type": "stream",
          "name": "stdout",
          "text": [
            "Prediction shape: (80, 160, 1)\n",
            "Avg fit shape: (80, 160, 1)\n",
            "Blanks shape: (80, 160, 1)\n",
            "Lane drawn shape: (80, 160, 3)\n",
            "Lane image shape: (544, 960, 3)\n",
            "1/1 [==============================] - 0s 18ms/step\n"
          ]
        },
        {
          "output_type": "stream",
          "name": "stderr",
          "text": [
            "\rt:  97%|█████████▋| 1253/1297 [06:44<00:13,  3.24it/s, now=None]"
          ]
        },
        {
          "output_type": "stream",
          "name": "stdout",
          "text": [
            "Prediction shape: (80, 160, 1)\n",
            "Avg fit shape: (80, 160, 1)\n",
            "Blanks shape: (80, 160, 1)\n",
            "Lane drawn shape: (80, 160, 3)\n",
            "Lane image shape: (544, 960, 3)\n",
            "1/1 [==============================] - 0s 19ms/step\n"
          ]
        },
        {
          "output_type": "stream",
          "name": "stderr",
          "text": [
            "\rt:  97%|█████████▋| 1254/1297 [06:44<00:13,  3.28it/s, now=None]"
          ]
        },
        {
          "output_type": "stream",
          "name": "stdout",
          "text": [
            "Prediction shape: (80, 160, 1)\n",
            "Avg fit shape: (80, 160, 1)\n",
            "Blanks shape: (80, 160, 1)\n",
            "Lane drawn shape: (80, 160, 3)\n",
            "Lane image shape: (544, 960, 3)\n",
            "1/1 [==============================] - 0s 32ms/step\n",
            "Prediction shape:"
          ]
        },
        {
          "output_type": "stream",
          "name": "stderr",
          "text": [
            "\rt:  97%|█████████▋| 1255/1297 [06:44<00:14,  2.97it/s, now=None]"
          ]
        },
        {
          "output_type": "stream",
          "name": "stdout",
          "text": [
            " (80, 160, 1)\n",
            "Avg fit shape: (80, 160, 1)\n",
            "Blanks shape: (80, 160, 1)\n",
            "Lane drawn shape: (80, 160, 3)\n",
            "Lane image shape: (544, 960, 3)\n",
            "1/1 [==============================] - 0s 34ms/step\n"
          ]
        },
        {
          "output_type": "stream",
          "name": "stderr",
          "text": [
            "\rt:  97%|█████████▋| 1256/1297 [06:45<00:14,  2.74it/s, now=None]"
          ]
        },
        {
          "output_type": "stream",
          "name": "stdout",
          "text": [
            "Prediction shape: (80, 160, 1)\n",
            "Avg fit shape: (80, 160, 1)\n",
            "Blanks shape: (80, 160, 1)\n",
            "Lane drawn shape: (80, 160, 3)\n",
            "Lane image shape: (544, 960, 3)\n",
            "1/1 [==============================] - 0s 36ms/step\n"
          ]
        },
        {
          "output_type": "stream",
          "name": "stderr",
          "text": [
            "\rt:  97%|█████████▋| 1257/1297 [06:45<00:15,  2.55it/s, now=None]"
          ]
        },
        {
          "output_type": "stream",
          "name": "stdout",
          "text": [
            "Prediction shape: (80, 160, 1)\n",
            "Avg fit shape: (80, 160, 1)\n",
            "Blanks shape: (80, 160, 1)\n",
            "Lane drawn shape: (80, 160, 3)\n",
            "Lane image shape: (544, 960, 3)\n",
            "1/1 [==============================] - 0s 29ms/step\n"
          ]
        },
        {
          "output_type": "stream",
          "name": "stderr",
          "text": [
            "\rt:  97%|█████████▋| 1258/1297 [06:46<00:16,  2.43it/s, now=None]"
          ]
        },
        {
          "output_type": "stream",
          "name": "stdout",
          "text": [
            "Prediction shape: (80, 160, 1)\n",
            "Avg fit shape: (80, 160, 1)\n",
            "Blanks shape: (80, 160, 1)\n",
            "Lane drawn shape: (80, 160, 3)\n",
            "Lane image shape: (544, 960, 3)\n",
            "1/1 [==============================] - 0s 45ms/step\n",
            "Prediction shape: (80, 160, 1)\n",
            "Avg fit shape: (80, 160, 1)\n",
            "Blanks shape: (80, 160, 1)\n",
            "Lane drawn shape: (80, 160, 3)\n",
            "Lane image shape: (544, 960, 3)\n"
          ]
        },
        {
          "output_type": "stream",
          "name": "stderr",
          "text": [
            "\rt:  97%|█████████▋| 1259/1297 [06:46<00:15,  2.40it/s, now=None]"
          ]
        },
        {
          "output_type": "stream",
          "name": "stdout",
          "text": [
            "1/1 [==============================] - 0s 32ms/step\n"
          ]
        },
        {
          "output_type": "stream",
          "name": "stderr",
          "text": [
            "\rt:  97%|█████████▋| 1260/1297 [06:46<00:15,  2.37it/s, now=None]"
          ]
        },
        {
          "output_type": "stream",
          "name": "stdout",
          "text": [
            "Prediction shape: (80, 160, 1)\n",
            "Avg fit shape: (80, 160, 1)\n",
            "Blanks shape: (80, 160, 1)\n",
            "Lane drawn shape: (80, 160, 3)\n",
            "Lane image shape: (544, 960, 3)\n",
            "1/1 [==============================] - 0s 45ms/step\n"
          ]
        },
        {
          "output_type": "stream",
          "name": "stderr",
          "text": [
            "\rt:  97%|█████████▋| 1261/1297 [06:47<00:15,  2.35it/s, now=None]"
          ]
        },
        {
          "output_type": "stream",
          "name": "stdout",
          "text": [
            "Prediction shape: (80, 160, 1)\n",
            "Avg fit shape: (80, 160, 1)\n",
            "Blanks shape: (80, 160, 1)\n",
            "Lane drawn shape: (80, 160, 3)\n",
            "Lane image shape: (544, 960, 3)\n",
            "1/1 [==============================] - 0s 44ms/step\n"
          ]
        },
        {
          "output_type": "stream",
          "name": "stderr",
          "text": [
            "\rt:  97%|█████████▋| 1262/1297 [06:47<00:15,  2.22it/s, now=None]"
          ]
        },
        {
          "output_type": "stream",
          "name": "stdout",
          "text": [
            "Prediction shape: (80, 160, 1)\n",
            "Avg fit shape: (80, 160, 1)\n",
            "Blanks shape: (80, 160, 1)\n",
            "Lane drawn shape: (80, 160, 3)\n",
            "Lane image shape: (544, 960, 3)\n",
            "1/1 [==============================] - 0s 54ms/step\n"
          ]
        },
        {
          "output_type": "stream",
          "name": "stderr",
          "text": [
            "\rt:  97%|█████████▋| 1263/1297 [06:48<00:15,  2.20it/s, now=None]"
          ]
        },
        {
          "output_type": "stream",
          "name": "stdout",
          "text": [
            "Prediction shape: (80, 160, 1)\n",
            "Avg fit shape: (80, 160, 1)\n",
            "Blanks shape: (80, 160, 1)\n",
            "Lane drawn shape: (80, 160, 3)\n",
            "Lane image shape: (544, 960, 3)\n",
            "1/1 [==============================] - 0s 39ms/step\n"
          ]
        },
        {
          "output_type": "stream",
          "name": "stderr",
          "text": [
            "\rt:  97%|█████████▋| 1264/1297 [06:48<00:14,  2.21it/s, now=None]"
          ]
        },
        {
          "output_type": "stream",
          "name": "stdout",
          "text": [
            "Prediction shape: (80, 160, 1)\n",
            "Avg fit shape: (80, 160, 1)\n",
            "Blanks shape: (80, 160, 1)\n",
            "Lane drawn shape: (80, 160, 3)\n",
            "Lane image shape: (544, 960, 3)\n",
            "1/1 [==============================] - 0s 47ms/step\n",
            "Prediction shape: "
          ]
        },
        {
          "output_type": "stream",
          "name": "stderr",
          "text": [
            "\rt:  98%|█████████▊| 1265/1297 [06:49<00:14,  2.22it/s, now=None]"
          ]
        },
        {
          "output_type": "stream",
          "name": "stdout",
          "text": [
            "(80, 160, 1)\n",
            "Avg fit shape: (80, 160, 1)\n",
            "Blanks shape: (80, 160, 1)\n",
            "Lane drawn shape: (80, 160, 3)\n",
            "Lane image shape: (544, 960, 3)\n",
            "1/1 [==============================] - 0s 34ms/step\n"
          ]
        },
        {
          "output_type": "stream",
          "name": "stderr",
          "text": [
            "\rt:  98%|█████████▊| 1266/1297 [06:49<00:13,  2.23it/s, now=None]"
          ]
        },
        {
          "output_type": "stream",
          "name": "stdout",
          "text": [
            "Prediction shape: (80, 160, 1)\n",
            "Avg fit shape: (80, 160, 1)\n",
            "Blanks shape: (80, 160, 1)\n",
            "Lane drawn shape: (80, 160, 3)\n",
            "Lane image shape: (544, 960, 3)\n",
            "1/1 [==============================] - 0s 34ms/step\n"
          ]
        },
        {
          "output_type": "stream",
          "name": "stderr",
          "text": [
            "\rt:  98%|█████████▊| 1267/1297 [06:50<00:13,  2.24it/s, now=None]"
          ]
        },
        {
          "output_type": "stream",
          "name": "stdout",
          "text": [
            "Prediction shape: (80, 160, 1)\n",
            "Avg fit shape: (80, 160, 1)\n",
            "Blanks shape: (80, 160, 1)\n",
            "Lane drawn shape: (80, 160, 3)\n",
            "Lane image shape: (544, 960, 3)\n",
            "1/1 [==============================] - 0s 30ms/step\n"
          ]
        },
        {
          "output_type": "stream",
          "name": "stderr",
          "text": [
            "\rt:  98%|█████████▊| 1268/1297 [06:50<00:12,  2.28it/s, now=None]"
          ]
        },
        {
          "output_type": "stream",
          "name": "stdout",
          "text": [
            "Prediction shape: (80, 160, 1)\n",
            "Avg fit shape: (80, 160, 1)\n",
            "Blanks shape: (80, 160, 1)\n",
            "Lane drawn shape: (80, 160, 3)\n",
            "Lane image shape: (544, 960, 3)\n",
            "1/1 [==============================] - 0s 29ms/step\n"
          ]
        },
        {
          "output_type": "stream",
          "name": "stderr",
          "text": [
            "\rt:  98%|█████████▊| 1269/1297 [06:50<00:11,  2.44it/s, now=None]"
          ]
        },
        {
          "output_type": "stream",
          "name": "stdout",
          "text": [
            "Prediction shape: (80, 160, 1)\n",
            "Avg fit shape: (80, 160, 1)\n",
            "Blanks shape: (80, 160, 1)\n",
            "Lane drawn shape: (80, 160, 3)\n",
            "Lane image shape: (544, 960, 3)\n",
            "1/1 [==============================] - 0s 20ms/step\n"
          ]
        },
        {
          "output_type": "stream",
          "name": "stderr",
          "text": [
            "\rt:  98%|█████████▊| 1270/1297 [06:51<00:10,  2.61it/s, now=None]"
          ]
        },
        {
          "output_type": "stream",
          "name": "stdout",
          "text": [
            "Prediction shape: (80, 160, 1)\n",
            "Avg fit shape: (80, 160, 1)\n",
            "Blanks shape: (80, 160, 1)\n",
            "Lane drawn shape: (80, 160, 3)\n",
            "Lane image shape: (544, 960, 3)\n",
            "1/1 [==============================] - 0s 21ms/step\n"
          ]
        },
        {
          "output_type": "stream",
          "name": "stderr",
          "text": [
            "\rt:  98%|█████████▊| 1271/1297 [06:51<00:09,  2.75it/s, now=None]"
          ]
        },
        {
          "output_type": "stream",
          "name": "stdout",
          "text": [
            "Prediction shape: (80, 160, 1)\n",
            "Avg fit shape: (80, 160, 1)\n",
            "Blanks shape: (80, 160, 1)\n",
            "Lane drawn shape: (80, 160, 3)\n",
            "Lane image shape: (544, 960, 3)\n",
            "1/1 [==============================] - 0s 21ms/step\n"
          ]
        },
        {
          "output_type": "stream",
          "name": "stderr",
          "text": [
            "\rt:  98%|█████████▊| 1272/1297 [06:51<00:08,  2.88it/s, now=None]"
          ]
        },
        {
          "output_type": "stream",
          "name": "stdout",
          "text": [
            "Prediction shape: (80, 160, 1)\n",
            "Avg fit shape: (80, 160, 1)\n",
            "Blanks shape: (80, 160, 1)\n",
            "Lane drawn shape: (80, 160, 3)\n",
            "Lane image shape: (544, 960, 3)\n",
            "1/1 [==============================] - 0s 20ms/step\n"
          ]
        },
        {
          "output_type": "stream",
          "name": "stderr",
          "text": [
            "\rt:  98%|█████████▊| 1273/1297 [06:52<00:08,  2.99it/s, now=None]"
          ]
        },
        {
          "output_type": "stream",
          "name": "stdout",
          "text": [
            "Prediction shape: (80, 160, 1)\n",
            "Avg fit shape: (80, 160, 1)\n",
            "Blanks shape: (80, 160, 1)\n",
            "Lane drawn shape: (80, 160, 3)\n",
            "Lane image shape: (544, 960, 3)\n",
            "1/1 [==============================] - 0s 18ms/step\n"
          ]
        },
        {
          "output_type": "stream",
          "name": "stderr",
          "text": [
            "\rt:  98%|█████████▊| 1274/1297 [06:52<00:07,  3.14it/s, now=None]"
          ]
        },
        {
          "output_type": "stream",
          "name": "stdout",
          "text": [
            "Prediction shape: (80, 160, 1)\n",
            "Avg fit shape: (80, 160, 1)\n",
            "Blanks shape: (80, 160, 1)\n",
            "Lane drawn shape: (80, 160, 3)\n",
            "Lane image shape: (544, 960, 3)\n",
            "1/1 [==============================] - 0s 18ms/step\n"
          ]
        },
        {
          "output_type": "stream",
          "name": "stderr",
          "text": [
            "\rt:  98%|█████████▊| 1275/1297 [06:52<00:06,  3.25it/s, now=None]"
          ]
        },
        {
          "output_type": "stream",
          "name": "stdout",
          "text": [
            "Prediction shape: (80, 160, 1)\n",
            "Avg fit shape: (80, 160, 1)\n",
            "Blanks shape: (80, 160, 1)\n",
            "Lane drawn shape: (80, 160, 3)\n",
            "Lane image shape: (544, 960, 3)\n",
            "1/1 [==============================] - 0s 19ms/step\n"
          ]
        },
        {
          "output_type": "stream",
          "name": "stderr",
          "text": [
            "\rt:  98%|█████████▊| 1276/1297 [06:53<00:06,  3.23it/s, now=None]"
          ]
        },
        {
          "output_type": "stream",
          "name": "stdout",
          "text": [
            "Prediction shape: (80, 160, 1)\n",
            "Avg fit shape: (80, 160, 1)\n",
            "Blanks shape: (80, 160, 1)\n",
            "Lane drawn shape: (80, 160, 3)\n",
            "Lane image shape: (544, 960, 3)\n",
            "1/1 [==============================] - 0s 20ms/step\n"
          ]
        },
        {
          "output_type": "stream",
          "name": "stderr",
          "text": [
            "\rt:  98%|█████████▊| 1277/1297 [06:53<00:06,  3.23it/s, now=None]"
          ]
        },
        {
          "output_type": "stream",
          "name": "stdout",
          "text": [
            "Prediction shape: (80, 160, 1)\n",
            "Avg fit shape: (80, 160, 1)\n",
            "Blanks shape: (80, 160, 1)\n",
            "Lane drawn shape: (80, 160, 3)\n",
            "Lane image shape: (544, 960, 3)\n",
            "1/1 [==============================] - 0s 19ms/step\n"
          ]
        },
        {
          "output_type": "stream",
          "name": "stderr",
          "text": [
            "\rt:  99%|█████████▊| 1278/1297 [06:53<00:05,  3.30it/s, now=None]"
          ]
        },
        {
          "output_type": "stream",
          "name": "stdout",
          "text": [
            "Prediction shape: (80, 160, 1)\n",
            "Avg fit shape: (80, 160, 1)\n",
            "Blanks shape: (80, 160, 1)\n",
            "Lane drawn shape: (80, 160, 3)\n",
            "Lane image shape: (544, 960, 3)\n",
            "1/1 [==============================] - 0s 22ms/step\n"
          ]
        },
        {
          "output_type": "stream",
          "name": "stderr",
          "text": [
            "\rt:  99%|█████████▊| 1279/1297 [06:53<00:05,  3.36it/s, now=None]"
          ]
        },
        {
          "output_type": "stream",
          "name": "stdout",
          "text": [
            "Prediction shape: (80, 160, 1)\n",
            "Avg fit shape: (80, 160, 1)\n",
            "Blanks shape: (80, 160, 1)\n",
            "Lane drawn shape: (80, 160, 3)\n",
            "Lane image shape: (544, 960, 3)\n",
            "1/1 [==============================] - 0s 23ms/step\n"
          ]
        },
        {
          "output_type": "stream",
          "name": "stderr",
          "text": [
            "\rt:  99%|█████████▊| 1280/1297 [06:54<00:05,  3.24it/s, now=None]"
          ]
        },
        {
          "output_type": "stream",
          "name": "stdout",
          "text": [
            "Prediction shape: (80, 160, 1)\n",
            "Avg fit shape: (80, 160, 1)\n",
            "Blanks shape: (80, 160, 1)\n",
            "Lane drawn shape: (80, 160, 3)\n",
            "Lane image shape: (544, 960, 3)\n",
            "1/1 [==============================] - 0s 19ms/step\n"
          ]
        },
        {
          "output_type": "stream",
          "name": "stderr",
          "text": [
            "\rt:  99%|█████████▉| 1281/1297 [06:54<00:04,  3.23it/s, now=None]"
          ]
        },
        {
          "output_type": "stream",
          "name": "stdout",
          "text": [
            "Prediction shape: (80, 160, 1)\n",
            "Avg fit shape: (80, 160, 1)\n",
            "Blanks shape: (80, 160, 1)\n",
            "Lane drawn shape: (80, 160, 3)\n",
            "Lane image shape: (544, 960, 3)\n",
            "1/1 [==============================] - 0s 18ms/step\n"
          ]
        },
        {
          "output_type": "stream",
          "name": "stderr",
          "text": [
            "\rt:  99%|█████████▉| 1282/1297 [06:54<00:04,  3.31it/s, now=None]"
          ]
        },
        {
          "output_type": "stream",
          "name": "stdout",
          "text": [
            "Prediction shape: (80, 160, 1)\n",
            "Avg fit shape: (80, 160, 1)\n",
            "Blanks shape: (80, 160, 1)\n",
            "Lane drawn shape: (80, 160, 3)\n",
            "Lane image shape: (544, 960, 3)\n",
            "1/1 [==============================] - 0s 18ms/step\n"
          ]
        },
        {
          "output_type": "stream",
          "name": "stderr",
          "text": [
            "\rt:  99%|█████████▉| 1283/1297 [06:55<00:04,  3.37it/s, now=None]"
          ]
        },
        {
          "output_type": "stream",
          "name": "stdout",
          "text": [
            "Prediction shape: (80, 160, 1)\n",
            "Avg fit shape: (80, 160, 1)\n",
            "Blanks shape: (80, 160, 1)\n",
            "Lane drawn shape: (80, 160, 3)\n",
            "Lane image shape: (544, 960, 3)\n",
            "1/1 [==============================] - 0s 19ms/step\n"
          ]
        },
        {
          "output_type": "stream",
          "name": "stderr",
          "text": [
            "\rt:  99%|█████████▉| 1284/1297 [06:55<00:03,  3.28it/s, now=None]"
          ]
        },
        {
          "output_type": "stream",
          "name": "stdout",
          "text": [
            "Prediction shape: (80, 160, 1)\n",
            "Avg fit shape: (80, 160, 1)\n",
            "Blanks shape: (80, 160, 1)\n",
            "Lane drawn shape: (80, 160, 3)\n",
            "Lane image shape: (544, 960, 3)\n",
            "1/1 [==============================] - 0s 20ms/step\n"
          ]
        },
        {
          "output_type": "stream",
          "name": "stderr",
          "text": [
            "\rt:  99%|█████████▉| 1285/1297 [06:55<00:03,  3.34it/s, now=None]"
          ]
        },
        {
          "output_type": "stream",
          "name": "stdout",
          "text": [
            "Prediction shape: (80, 160, 1)\n",
            "Avg fit shape: (80, 160, 1)\n",
            "Blanks shape: (80, 160, 1)\n",
            "Lane drawn shape: (80, 160, 3)\n",
            "Lane image shape: (544, 960, 3)\n",
            "1/1 [==============================] - 0s 20ms/step\n"
          ]
        },
        {
          "output_type": "stream",
          "name": "stderr",
          "text": [
            "\rt:  99%|█████████▉| 1286/1297 [06:56<00:03,  3.37it/s, now=None]"
          ]
        },
        {
          "output_type": "stream",
          "name": "stdout",
          "text": [
            "Prediction shape: (80, 160, 1)\n",
            "Avg fit shape: (80, 160, 1)\n",
            "Blanks shape: (80, 160, 1)\n",
            "Lane drawn shape: (80, 160, 3)\n",
            "Lane image shape: (544, 960, 3)\n",
            "1/1 [==============================] - 0s 19ms/step\n"
          ]
        },
        {
          "output_type": "stream",
          "name": "stderr",
          "text": [
            "\rt:  99%|█████████▉| 1287/1297 [06:56<00:02,  3.35it/s, now=None]"
          ]
        },
        {
          "output_type": "stream",
          "name": "stdout",
          "text": [
            "Prediction shape: (80, 160, 1)\n",
            "Avg fit shape: (80, 160, 1)\n",
            "Blanks shape: (80, 160, 1)\n",
            "Lane drawn shape: (80, 160, 3)\n",
            "Lane image shape: (544, 960, 3)\n",
            "1/1 [==============================] - 0s 19ms/step\n"
          ]
        },
        {
          "output_type": "stream",
          "name": "stderr",
          "text": [
            "\rt:  99%|█████████▉| 1288/1297 [06:56<00:02,  3.39it/s, now=None]"
          ]
        },
        {
          "output_type": "stream",
          "name": "stdout",
          "text": [
            "Prediction shape: (80, 160, 1)\n",
            "Avg fit shape: (80, 160, 1)\n",
            "Blanks shape: (80, 160, 1)\n",
            "Lane drawn shape: (80, 160, 3)\n",
            "Lane image shape: (544, 960, 3)\n",
            "1/1 [==============================] - 0s 23ms/step\n"
          ]
        },
        {
          "output_type": "stream",
          "name": "stderr",
          "text": [
            "\rt:  99%|█████████▉| 1289/1297 [06:56<00:02,  3.36it/s, now=None]"
          ]
        },
        {
          "output_type": "stream",
          "name": "stdout",
          "text": [
            "Prediction shape: (80, 160, 1)\n",
            "Avg fit shape: (80, 160, 1)\n",
            "Blanks shape: (80, 160, 1)\n",
            "Lane drawn shape: (80, 160, 3)\n",
            "Lane image shape: (544, 960, 3)\n",
            "1/1 [==============================] - 0s 19ms/step\n"
          ]
        },
        {
          "output_type": "stream",
          "name": "stderr",
          "text": [
            "\rt:  99%|█████████▉| 1290/1297 [06:57<00:02,  3.28it/s, now=None]"
          ]
        },
        {
          "output_type": "stream",
          "name": "stdout",
          "text": [
            "Prediction shape: (80, 160, 1)\n",
            "Avg fit shape: (80, 160, 1)\n",
            "Blanks shape: (80, 160, 1)\n",
            "Lane drawn shape: (80, 160, 3)\n",
            "Lane image shape: (544, 960, 3)\n",
            "1/1 [==============================] - 0s 19ms/step\n"
          ]
        },
        {
          "output_type": "stream",
          "name": "stderr",
          "text": [
            "\rt: 100%|█████████▉| 1291/1297 [06:57<00:01,  3.32it/s, now=None]"
          ]
        },
        {
          "output_type": "stream",
          "name": "stdout",
          "text": [
            "Prediction shape: (80, 160, 1)\n",
            "Avg fit shape: (80, 160, 1)\n",
            "Blanks shape: (80, 160, 1)\n",
            "Lane drawn shape: (80, 160, 3)\n",
            "Lane image shape: (544, 960, 3)\n",
            "1/1 [==============================] - 0s 20ms/step\n"
          ]
        },
        {
          "output_type": "stream",
          "name": "stderr",
          "text": [
            "\rt: 100%|█████████▉| 1292/1297 [06:57<00:01,  3.31it/s, now=None]"
          ]
        },
        {
          "output_type": "stream",
          "name": "stdout",
          "text": [
            "Prediction shape: (80, 160, 1)\n",
            "Avg fit shape: (80, 160, 1)\n",
            "Blanks shape: (80, 160, 1)\n",
            "Lane drawn shape: (80, 160, 3)\n",
            "Lane image shape: (544, 960, 3)\n",
            "1/1 [==============================] - 0s 19ms/step\n"
          ]
        },
        {
          "output_type": "stream",
          "name": "stderr",
          "text": [
            "\rt: 100%|█████████▉| 1293/1297 [06:58<00:01,  3.23it/s, now=None]"
          ]
        },
        {
          "output_type": "stream",
          "name": "stdout",
          "text": [
            "Prediction shape: (80, 160, 1)\n",
            "Avg fit shape: (80, 160, 1)\n",
            "Blanks shape: (80, 160, 1)\n",
            "Lane drawn shape: (80, 160, 3)\n",
            "Lane image shape: (544, 960, 3)\n",
            "1/1 [==============================] - 0s 21ms/step\n"
          ]
        },
        {
          "output_type": "stream",
          "name": "stderr",
          "text": [
            "\rt: 100%|█████████▉| 1294/1297 [06:58<00:00,  3.20it/s, now=None]"
          ]
        },
        {
          "output_type": "stream",
          "name": "stdout",
          "text": [
            "Prediction shape: (80, 160, 1)\n",
            "Avg fit shape: (80, 160, 1)\n",
            "Blanks shape: (80, 160, 1)\n",
            "Lane drawn shape: (80, 160, 3)\n",
            "Lane image shape: (544, 960, 3)\n",
            "1/1 [==============================] - 0s 19ms/step\n"
          ]
        },
        {
          "output_type": "stream",
          "name": "stderr",
          "text": [
            "\rt: 100%|█████████▉| 1295/1297 [06:58<00:00,  3.25it/s, now=None]"
          ]
        },
        {
          "output_type": "stream",
          "name": "stdout",
          "text": [
            "Prediction shape: (80, 160, 1)\n",
            "Avg fit shape: (80, 160, 1)\n",
            "Blanks shape: (80, 160, 1)\n",
            "Lane drawn shape: (80, 160, 3)\n",
            "Lane image shape: (544, 960, 3)\n",
            "1/1 [==============================] - 0s 20ms/step\n"
          ]
        },
        {
          "output_type": "stream",
          "name": "stderr",
          "text": [
            "\rt: 100%|█████████▉| 1296/1297 [06:59<00:00,  3.30it/s, now=None]WARNING:py.warnings:/usr/local/lib/python3.10/dist-packages/moviepy/video/io/ffmpeg_reader.py:123: UserWarning: Warning: in file WhatsApp Video 2023-12-15 at 12.22.08_f7ab67e0.mp4, 1566720 bytes wanted but 0 bytes read,at frame 1295/1298, at time 25.90/25.94 sec. Using the last valid frame instead.\n",
            "  warnings.warn(\"Warning: in file %s, \"%(self.filename)+\n",
            "\n"
          ]
        },
        {
          "output_type": "stream",
          "name": "stdout",
          "text": [
            "Prediction shape: (80, 160, 1)\n",
            "Avg fit shape: (80, 160, 1)\n",
            "Blanks shape: (80, 160, 1)\n",
            "Lane drawn shape: (80, 160, 3)\n",
            "Lane image shape: (544, 960, 3)\n",
            "1/1 [==============================] - 0s 22ms/step\n"
          ]
        },
        {
          "output_type": "stream",
          "name": "stderr",
          "text": [
            "\rt: 100%|██████████| 1297/1297 [06:59<00:00,  3.29it/s, now=None]WARNING:py.warnings:/usr/local/lib/python3.10/dist-packages/moviepy/video/io/ffmpeg_reader.py:123: UserWarning: Warning: in file WhatsApp Video 2023-12-15 at 12.22.08_f7ab67e0.mp4, 1566720 bytes wanted but 0 bytes read,at frame 1296/1298, at time 25.92/25.94 sec. Using the last valid frame instead.\n",
            "  warnings.warn(\"Warning: in file %s, \"%(self.filename)+\n",
            "\n"
          ]
        },
        {
          "output_type": "stream",
          "name": "stdout",
          "text": [
            "Prediction shape: (80, 160, 1)\n",
            "Avg fit shape: (80, 160, 1)\n",
            "Blanks shape: (80, 160, 1)\n",
            "Lane drawn shape: (80, 160, 3)\n",
            "Lane image shape: (544, 960, 3)\n",
            "1/1 [==============================] - 0s 20ms/step\n"
          ]
        },
        {
          "output_type": "stream",
          "name": "stderr",
          "text": [
            "\r                                                                "
          ]
        },
        {
          "output_type": "stream",
          "name": "stdout",
          "text": [
            "Prediction shape: (80, 160, 1)\n",
            "Avg fit shape: (80, 160, 1)\n",
            "Blanks shape: (80, 160, 1)\n",
            "Lane drawn shape: (80, 160, 3)\n",
            "Lane image shape: (544, 960, 3)\n"
          ]
        },
        {
          "output_type": "stream",
          "name": "stderr",
          "text": [
            "\r"
          ]
        },
        {
          "output_type": "stream",
          "name": "stdout",
          "text": [
            "Moviepy - Done !\n",
            "Moviepy - video ready lanes_output_clip.mp4\n"
          ]
        }
      ]
    },
    {
      "cell_type": "code",
      "source": [],
      "metadata": {
        "id": "kPGDo9UlJHEb"
      },
      "execution_count": null,
      "outputs": []
    }
  ],
  "metadata": {
    "accelerator": "GPU",
    "colab": {
      "provenance": [],
      "gpuType": "T4"
    },
    "kernelspec": {
      "display_name": "Python 3",
      "name": "python3"
    },
    "language_info": {
      "name": "python"
    }
  },
  "nbformat": 4,
  "nbformat_minor": 0
}